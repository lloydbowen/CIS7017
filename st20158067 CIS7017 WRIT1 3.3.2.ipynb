{
 "cells": [
  {
   "attachments": {},
   "cell_type": "markdown",
   "metadata": {},
   "source": [
    "# CIS7017 - Technology Dissertation\n",
    "## Lloyd Bowen - st20158067"
   ]
  },
  {
   "attachments": {},
   "cell_type": "markdown",
   "metadata": {},
   "source": [
    "### Exploring the Impact of Social Media on Sponsorship and Branding in Esports"
   ]
  },
  {
   "attachments": {},
   "cell_type": "markdown",
   "metadata": {},
   "source": [
    "##### Importing Libraries and Datasets"
   ]
  },
  {
   "cell_type": "code",
   "execution_count": 1,
   "metadata": {},
   "outputs": [],
   "source": [
    "import pandas as pd\n",
    "\n",
    "pd.options.mode.chained_assignment = None  # default='warn'\n",
    "\n",
    "pd.options.display.max_rows = 60 # default=60\n",
    "\n",
    "import geopandas as gpd\n",
    "import plotly.express as px\n",
    "import plotly.graph_objects as go\n",
    "import os\n",
    "\n",
    "os.environ['GOOGLE_APPLICATION_CREDENTIALS'] = './resources/bowenn.json'\n",
    "\n",
    "import pyproj\n",
    "import matplotlib.pyplot as plt\n",
    "import plotly.io as pio\n",
    "\n",
    "# pio.templates['bowen']= pio.templates['plotly']\n",
    "# pio.templates['bowen'].update({\n",
    "#     'layout_font_family': 'SF Pro Display'\n",
    "# })\n",
    "\n",
    "# pio.templates.default = 'bowen'\n",
    "\n",
    "from geopy.geocoders import Nominatim\n",
    "from geopy.extra.rate_limiter import RateLimiter\n",
    "from shapely.geometry import Point\n",
    "from textblob import TextBlob\n",
    "from google.cloud import translate_v2 as translate\n",
    "from wordcloud import WordCloud"
   ]
  },
  {
   "attachments": {},
   "cell_type": "markdown",
   "metadata": {},
   "source": [
    "Here we have imported the various Python Libraries we will be using throughout this document.\n",
    "\n",
    "pandas is used for general data analysis, geopandas is for geospatial data analysis, plotly and matplotlib are used for visualising the data by creating plots, geopy, pyproj and shapely are used for geolocating, textblob is used for sentiment analysis, google.cloud translate_v2 is used for translation, wordcloud is used for generating wordclouds"
   ]
  },
  {
   "cell_type": "code",
   "execution_count": 2,
   "metadata": {},
   "outputs": [
    {
     "data": {
      "text/html": [
       "<div>\n",
       "<style scoped>\n",
       "    .dataframe tbody tr th:only-of-type {\n",
       "        vertical-align: middle;\n",
       "    }\n",
       "\n",
       "    .dataframe tbody tr th {\n",
       "        vertical-align: top;\n",
       "    }\n",
       "\n",
       "    .dataframe thead th {\n",
       "        text-align: right;\n",
       "    }\n",
       "</style>\n",
       "<table border=\"1\" class=\"dataframe\">\n",
       "  <thead>\n",
       "    <tr style=\"text-align: right;\">\n",
       "      <th></th>\n",
       "      <th>tweet_id</th>\n",
       "      <th>username</th>\n",
       "      <th>full_name</th>\n",
       "      <th>full_text</th>\n",
       "      <th>view_count</th>\n",
       "      <th>bookmark_count</th>\n",
       "      <th>favorite_count</th>\n",
       "      <th>reply_count</th>\n",
       "      <th>retweet_count</th>\n",
       "      <th>quote_count</th>\n",
       "      <th>...</th>\n",
       "      <th>normal_followers_count</th>\n",
       "      <th>followed_by</th>\n",
       "      <th>following</th>\n",
       "      <th>location</th>\n",
       "      <th>profile_banner_url</th>\n",
       "      <th>profile_url</th>\n",
       "      <th>avatar_url</th>\n",
       "      <th>verified</th>\n",
       "      <th>is_blue_verified</th>\n",
       "      <th>user_created_at</th>\n",
       "    </tr>\n",
       "  </thead>\n",
       "  <tbody>\n",
       "    <tr>\n",
       "      <th>0</th>\n",
       "      <td>1589292294456627200</td>\n",
       "      <td>fuckitseominsoo</td>\n",
       "      <td>fuck it seominsoo</td>\n",
       "      <td>Despite no longer sponsoring OWL, you can stil...</td>\n",
       "      <td>0</td>\n",
       "      <td>22</td>\n",
       "      <td>784</td>\n",
       "      <td>12</td>\n",
       "      <td>30</td>\n",
       "      <td>8</td>\n",
       "      <td>...</td>\n",
       "      <td>11472</td>\n",
       "      <td>NaN</td>\n",
       "      <td>NaN</td>\n",
       "      <td>Canada</td>\n",
       "      <td>https://pbs.twimg.com/profile_banners/11835260...</td>\n",
       "      <td>https://www.twitter.com/fuckitseominsoo</td>\n",
       "      <td>https://pbs.twimg.com/profile_images/161295423...</td>\n",
       "      <td>False</td>\n",
       "      <td>False</td>\n",
       "      <td>2019-10-14</td>\n",
       "    </tr>\n",
       "    <tr>\n",
       "      <th>1</th>\n",
       "      <td>1423381826094223362</td>\n",
       "      <td>OscarINTEL</td>\n",
       "      <td>Overwatch 2 News</td>\n",
       "      <td>State Farm and Coca Cola have paused their spo...</td>\n",
       "      <td>0</td>\n",
       "      <td>10</td>\n",
       "      <td>1033</td>\n",
       "      <td>26</td>\n",
       "      <td>127</td>\n",
       "      <td>138</td>\n",
       "      <td>...</td>\n",
       "      <td>97217</td>\n",
       "      <td>NaN</td>\n",
       "      <td>NaN</td>\n",
       "      <td>Overwatch</td>\n",
       "      <td>https://pbs.twimg.com/profile_banners/73625034...</td>\n",
       "      <td>https://www.twitter.com/OscarINTEL</td>\n",
       "      <td>https://pbs.twimg.com/profile_images/145062056...</td>\n",
       "      <td>False</td>\n",
       "      <td>True</td>\n",
       "      <td>2016-05-27</td>\n",
       "    </tr>\n",
       "    <tr>\n",
       "      <th>2</th>\n",
       "      <td>1423623154820214784</td>\n",
       "      <td>Wowhead</td>\n",
       "      <td>Wowhead💙</td>\n",
       "      <td>Several corporate sponsors of the Overwatch Le...</td>\n",
       "      <td>0</td>\n",
       "      <td>1</td>\n",
       "      <td>620</td>\n",
       "      <td>31</td>\n",
       "      <td>105</td>\n",
       "      <td>33</td>\n",
       "      <td>...</td>\n",
       "      <td>450408</td>\n",
       "      <td>NaN</td>\n",
       "      <td>NaN</td>\n",
       "      <td>Azeroth &amp; Sanctuary</td>\n",
       "      <td>https://pbs.twimg.com/profile_banners/17258481...</td>\n",
       "      <td>https://www.twitter.com/Wowhead</td>\n",
       "      <td>https://pbs.twimg.com/profile_images/167661705...</td>\n",
       "      <td>False</td>\n",
       "      <td>True</td>\n",
       "      <td>2008-11-08</td>\n",
       "    </tr>\n",
       "    <tr>\n",
       "      <th>3</th>\n",
       "      <td>1442536089688883200</td>\n",
       "      <td>overwatchleague</td>\n",
       "      <td>Overwatch League</td>\n",
       "      <td>Love is in the Overwatch League 💍\\n\\nProposals...</td>\n",
       "      <td>0</td>\n",
       "      <td>7</td>\n",
       "      <td>799</td>\n",
       "      <td>12</td>\n",
       "      <td>27</td>\n",
       "      <td>7</td>\n",
       "      <td>...</td>\n",
       "      <td>524931</td>\n",
       "      <td>NaN</td>\n",
       "      <td>NaN</td>\n",
       "      <td>Irvine, CA</td>\n",
       "      <td>https://pbs.twimg.com/profile_banners/79106546...</td>\n",
       "      <td>https://www.twitter.com/overwatchleague</td>\n",
       "      <td>https://pbs.twimg.com/profile_images/167842888...</td>\n",
       "      <td>False</td>\n",
       "      <td>False</td>\n",
       "      <td>2016-10-26</td>\n",
       "    </tr>\n",
       "    <tr>\n",
       "      <th>4</th>\n",
       "      <td>1660686983293816832</td>\n",
       "      <td>jonunderscor</td>\n",
       "      <td>Jon</td>\n",
       "      <td>What a great match there coming from the Coca-...</td>\n",
       "      <td>34188</td>\n",
       "      <td>1</td>\n",
       "      <td>391</td>\n",
       "      <td>8</td>\n",
       "      <td>16</td>\n",
       "      <td>3</td>\n",
       "      <td>...</td>\n",
       "      <td>9130</td>\n",
       "      <td>NaN</td>\n",
       "      <td>NaN</td>\n",
       "      <td>United States</td>\n",
       "      <td>https://pbs.twimg.com/profile_banners/85459344...</td>\n",
       "      <td>https://www.twitter.com/jonunderscor</td>\n",
       "      <td>https://pbs.twimg.com/profile_images/143510425...</td>\n",
       "      <td>False</td>\n",
       "      <td>False</td>\n",
       "      <td>2017-04-19</td>\n",
       "    </tr>\n",
       "    <tr>\n",
       "      <th>...</th>\n",
       "      <td>...</td>\n",
       "      <td>...</td>\n",
       "      <td>...</td>\n",
       "      <td>...</td>\n",
       "      <td>...</td>\n",
       "      <td>...</td>\n",
       "      <td>...</td>\n",
       "      <td>...</td>\n",
       "      <td>...</td>\n",
       "      <td>...</td>\n",
       "      <td>...</td>\n",
       "      <td>...</td>\n",
       "      <td>...</td>\n",
       "      <td>...</td>\n",
       "      <td>...</td>\n",
       "      <td>...</td>\n",
       "      <td>...</td>\n",
       "      <td>...</td>\n",
       "      <td>...</td>\n",
       "      <td>...</td>\n",
       "      <td>...</td>\n",
       "    </tr>\n",
       "    <tr>\n",
       "      <th>158</th>\n",
       "      <td>1423398171548528640</td>\n",
       "      <td>Dungeon00X</td>\n",
       "      <td>Travis Wheeler</td>\n",
       "      <td>@Kotaku I'm surprised that an Overwatch league...</td>\n",
       "      <td>0</td>\n",
       "      <td>0</td>\n",
       "      <td>6</td>\n",
       "      <td>0</td>\n",
       "      <td>0</td>\n",
       "      <td>0</td>\n",
       "      <td>...</td>\n",
       "      <td>233</td>\n",
       "      <td>NaN</td>\n",
       "      <td>NaN</td>\n",
       "      <td>Texas</td>\n",
       "      <td>https://pbs.twimg.com/profile_banners/86688076...</td>\n",
       "      <td>https://www.twitter.com/Dungeon00X</td>\n",
       "      <td>https://pbs.twimg.com/profile_images/168169775...</td>\n",
       "      <td>False</td>\n",
       "      <td>False</td>\n",
       "      <td>2012-10-07</td>\n",
       "    </tr>\n",
       "    <tr>\n",
       "      <th>159</th>\n",
       "      <td>1423650672407371777</td>\n",
       "      <td>EGamersWorld</td>\n",
       "      <td>EGamersWorld</td>\n",
       "      <td>Coca-Cola and State Farm reconsider Overwatch ...</td>\n",
       "      <td>0</td>\n",
       "      <td>0</td>\n",
       "      <td>0</td>\n",
       "      <td>0</td>\n",
       "      <td>0</td>\n",
       "      <td>0</td>\n",
       "      <td>...</td>\n",
       "      <td>341</td>\n",
       "      <td>NaN</td>\n",
       "      <td>NaN</td>\n",
       "      <td>NaN</td>\n",
       "      <td>https://pbs.twimg.com/profile_banners/79062569...</td>\n",
       "      <td>https://www.twitter.com/EGamersWorld</td>\n",
       "      <td>https://pbs.twimg.com/profile_images/157690587...</td>\n",
       "      <td>False</td>\n",
       "      <td>False</td>\n",
       "      <td>2016-10-24</td>\n",
       "    </tr>\n",
       "    <tr>\n",
       "      <th>160</th>\n",
       "      <td>1423915439315472388</td>\n",
       "      <td>mariuskarma</td>\n",
       "      <td>@mariuskarma</td>\n",
       "      <td>ForbesTech: Coca-Cola and State Farm are reeva...</td>\n",
       "      <td>0</td>\n",
       "      <td>0</td>\n",
       "      <td>0</td>\n",
       "      <td>0</td>\n",
       "      <td>0</td>\n",
       "      <td>0</td>\n",
       "      <td>...</td>\n",
       "      <td>5876</td>\n",
       "      <td>NaN</td>\n",
       "      <td>NaN</td>\n",
       "      <td>internet</td>\n",
       "      <td>https://pbs.twimg.com/profile_banners/58688746...</td>\n",
       "      <td>https://www.twitter.com/mariuskarma</td>\n",
       "      <td>https://pbs.twimg.com/profile_images/588820751...</td>\n",
       "      <td>False</td>\n",
       "      <td>False</td>\n",
       "      <td>2012-05-21</td>\n",
       "    </tr>\n",
       "    <tr>\n",
       "      <th>161</th>\n",
       "      <td>1423381052320538639</td>\n",
       "      <td>jaymcastello</td>\n",
       "      <td>Jay Castello 🌻</td>\n",
       "      <td>@Vahn16 \"Both Coca-Cola and State Farm ran adv...</td>\n",
       "      <td>0</td>\n",
       "      <td>0</td>\n",
       "      <td>3</td>\n",
       "      <td>0</td>\n",
       "      <td>0</td>\n",
       "      <td>0</td>\n",
       "      <td>...</td>\n",
       "      <td>2625</td>\n",
       "      <td>NaN</td>\n",
       "      <td>NaN</td>\n",
       "      <td>jaymcastello [at] gmail.com</td>\n",
       "      <td>https://pbs.twimg.com/profile_banners/34345700...</td>\n",
       "      <td>https://www.twitter.com/jaymcastello</td>\n",
       "      <td>https://pbs.twimg.com/profile_images/154792985...</td>\n",
       "      <td>False</td>\n",
       "      <td>False</td>\n",
       "      <td>2015-08-21</td>\n",
       "    </tr>\n",
       "    <tr>\n",
       "      <th>162</th>\n",
       "      <td>1423428203646013447</td>\n",
       "      <td>MsMoLogan</td>\n",
       "      <td>Mz. Mo Logan @ Blizzcon 🔜 💋 🏹</td>\n",
       "      <td>👀 The Washington Post: Amid harassment lawsuit...</td>\n",
       "      <td>0</td>\n",
       "      <td>0</td>\n",
       "      <td>0</td>\n",
       "      <td>0</td>\n",
       "      <td>0</td>\n",
       "      <td>0</td>\n",
       "      <td>...</td>\n",
       "      <td>1398</td>\n",
       "      <td>NaN</td>\n",
       "      <td>NaN</td>\n",
       "      <td>Georgia, USA</td>\n",
       "      <td>https://pbs.twimg.com/profile_banners/29438422...</td>\n",
       "      <td>https://www.twitter.com/MsMoLogan</td>\n",
       "      <td>https://pbs.twimg.com/profile_images/151607134...</td>\n",
       "      <td>False</td>\n",
       "      <td>True</td>\n",
       "      <td>2011-05-07</td>\n",
       "    </tr>\n",
       "  </tbody>\n",
       "</table>\n",
       "<p>163 rows × 38 columns</p>\n",
       "</div>"
      ],
      "text/plain": [
       "                tweet_id         username                      full_name  \\\n",
       "0    1589292294456627200  fuckitseominsoo              fuck it seominsoo   \n",
       "1    1423381826094223362       OscarINTEL               Overwatch 2 News   \n",
       "2    1423623154820214784          Wowhead                       Wowhead💙   \n",
       "3    1442536089688883200  overwatchleague               Overwatch League   \n",
       "4    1660686983293816832     jonunderscor                            Jon   \n",
       "..                   ...              ...                            ...   \n",
       "158  1423398171548528640       Dungeon00X                 Travis Wheeler   \n",
       "159  1423650672407371777     EGamersWorld                   EGamersWorld   \n",
       "160  1423915439315472388      mariuskarma                   @mariuskarma   \n",
       "161  1423381052320538639     jaymcastello                 Jay Castello 🌻   \n",
       "162  1423428203646013447        MsMoLogan  Mz. Mo Logan @ Blizzcon 🔜 💋 🏹   \n",
       "\n",
       "                                             full_text  view_count  \\\n",
       "0    Despite no longer sponsoring OWL, you can stil...           0   \n",
       "1    State Farm and Coca Cola have paused their spo...           0   \n",
       "2    Several corporate sponsors of the Overwatch Le...           0   \n",
       "3    Love is in the Overwatch League 💍\\n\\nProposals...           0   \n",
       "4    What a great match there coming from the Coca-...       34188   \n",
       "..                                                 ...         ...   \n",
       "158  @Kotaku I'm surprised that an Overwatch league...           0   \n",
       "159  Coca-Cola and State Farm reconsider Overwatch ...           0   \n",
       "160  ForbesTech: Coca-Cola and State Farm are reeva...           0   \n",
       "161  @Vahn16 \"Both Coca-Cola and State Farm ran adv...           0   \n",
       "162  👀 The Washington Post: Amid harassment lawsuit...           0   \n",
       "\n",
       "     bookmark_count  favorite_count  reply_count  retweet_count  quote_count  \\\n",
       "0                22             784           12             30            8   \n",
       "1                10            1033           26            127          138   \n",
       "2                 1             620           31            105           33   \n",
       "3                 7             799           12             27            7   \n",
       "4                 1             391            8             16            3   \n",
       "..              ...             ...          ...            ...          ...   \n",
       "158               0               6            0              0            0   \n",
       "159               0               0            0              0            0   \n",
       "160               0               0            0              0            0   \n",
       "161               0               3            0              0            0   \n",
       "162               0               0            0              0            0   \n",
       "\n",
       "     ...  normal_followers_count followed_by  following  \\\n",
       "0    ...                   11472         NaN        NaN   \n",
       "1    ...                   97217         NaN        NaN   \n",
       "2    ...                  450408         NaN        NaN   \n",
       "3    ...                  524931         NaN        NaN   \n",
       "4    ...                    9130         NaN        NaN   \n",
       "..   ...                     ...         ...        ...   \n",
       "158  ...                     233         NaN        NaN   \n",
       "159  ...                     341         NaN        NaN   \n",
       "160  ...                    5876         NaN        NaN   \n",
       "161  ...                    2625         NaN        NaN   \n",
       "162  ...                    1398         NaN        NaN   \n",
       "\n",
       "                        location  \\\n",
       "0                         Canada   \n",
       "1                      Overwatch   \n",
       "2            Azeroth & Sanctuary   \n",
       "3                     Irvine, CA   \n",
       "4                  United States   \n",
       "..                           ...   \n",
       "158                        Texas   \n",
       "159                          NaN   \n",
       "160                     internet   \n",
       "161  jaymcastello [at] gmail.com   \n",
       "162                 Georgia, USA   \n",
       "\n",
       "                                    profile_banner_url  \\\n",
       "0    https://pbs.twimg.com/profile_banners/11835260...   \n",
       "1    https://pbs.twimg.com/profile_banners/73625034...   \n",
       "2    https://pbs.twimg.com/profile_banners/17258481...   \n",
       "3    https://pbs.twimg.com/profile_banners/79106546...   \n",
       "4    https://pbs.twimg.com/profile_banners/85459344...   \n",
       "..                                                 ...   \n",
       "158  https://pbs.twimg.com/profile_banners/86688076...   \n",
       "159  https://pbs.twimg.com/profile_banners/79062569...   \n",
       "160  https://pbs.twimg.com/profile_banners/58688746...   \n",
       "161  https://pbs.twimg.com/profile_banners/34345700...   \n",
       "162  https://pbs.twimg.com/profile_banners/29438422...   \n",
       "\n",
       "                                 profile_url  \\\n",
       "0    https://www.twitter.com/fuckitseominsoo   \n",
       "1         https://www.twitter.com/OscarINTEL   \n",
       "2            https://www.twitter.com/Wowhead   \n",
       "3    https://www.twitter.com/overwatchleague   \n",
       "4       https://www.twitter.com/jonunderscor   \n",
       "..                                       ...   \n",
       "158       https://www.twitter.com/Dungeon00X   \n",
       "159     https://www.twitter.com/EGamersWorld   \n",
       "160      https://www.twitter.com/mariuskarma   \n",
       "161     https://www.twitter.com/jaymcastello   \n",
       "162        https://www.twitter.com/MsMoLogan   \n",
       "\n",
       "                                            avatar_url  verified  \\\n",
       "0    https://pbs.twimg.com/profile_images/161295423...     False   \n",
       "1    https://pbs.twimg.com/profile_images/145062056...     False   \n",
       "2    https://pbs.twimg.com/profile_images/167661705...     False   \n",
       "3    https://pbs.twimg.com/profile_images/167842888...     False   \n",
       "4    https://pbs.twimg.com/profile_images/143510425...     False   \n",
       "..                                                 ...       ...   \n",
       "158  https://pbs.twimg.com/profile_images/168169775...     False   \n",
       "159  https://pbs.twimg.com/profile_images/157690587...     False   \n",
       "160  https://pbs.twimg.com/profile_images/588820751...     False   \n",
       "161  https://pbs.twimg.com/profile_images/154792985...     False   \n",
       "162  https://pbs.twimg.com/profile_images/151607134...     False   \n",
       "\n",
       "     is_blue_verified user_created_at  \n",
       "0               False      2019-10-14  \n",
       "1                True      2016-05-27  \n",
       "2                True      2008-11-08  \n",
       "3               False      2016-10-26  \n",
       "4               False      2017-04-19  \n",
       "..                ...             ...  \n",
       "158             False      2012-10-07  \n",
       "159             False      2016-10-24  \n",
       "160             False      2012-05-21  \n",
       "161             False      2015-08-21  \n",
       "162              True      2011-05-07  \n",
       "\n",
       "[163 rows x 38 columns]"
      ]
     },
     "execution_count": 2,
     "metadata": {},
     "output_type": "execute_result"
    }
   ],
   "source": [
    "tweets=pd.read_csv('./datasets/owl-coke-163.csv')\n",
    "tweets"
   ]
  },
  {
   "attachments": {},
   "cell_type": "markdown",
   "metadata": {},
   "source": [
    "Here we have imported the main dataset, owl-coke-163.csv as 'tweets', which is what will be used for the main analysis of this task."
   ]
  },
  {
   "cell_type": "code",
   "execution_count": 3,
   "metadata": {},
   "outputs": [
    {
     "data": {
      "text/plain": [
       "['naturalearth_cities', 'naturalearth_lowres', 'nybb']"
      ]
     },
     "execution_count": 3,
     "metadata": {},
     "output_type": "execute_result"
    }
   ],
   "source": [
    "gpd.datasets.available"
   ]
  },
  {
   "cell_type": "code",
   "execution_count": 4,
   "metadata": {},
   "outputs": [
    {
     "name": "stderr",
     "output_type": "stream",
     "text": [
      "C:\\Users\\bowen\\AppData\\Local\\Temp\\ipykernel_15012\\3742288801.py:1: FutureWarning: The geopandas.dataset module is deprecated and will be removed in GeoPandas 1.0. You can get the original 'naturalearth_lowres' data from https://www.naturalearthdata.com/downloads/110m-cultural-vectors/.\n",
      "  world_default=gpd.read_file(gpd.datasets.get_path('naturalearth_lowres'))\n"
     ]
    },
    {
     "data": {
      "text/html": [
       "<div>\n",
       "<style scoped>\n",
       "    .dataframe tbody tr th:only-of-type {\n",
       "        vertical-align: middle;\n",
       "    }\n",
       "\n",
       "    .dataframe tbody tr th {\n",
       "        vertical-align: top;\n",
       "    }\n",
       "\n",
       "    .dataframe thead th {\n",
       "        text-align: right;\n",
       "    }\n",
       "</style>\n",
       "<table border=\"1\" class=\"dataframe\">\n",
       "  <thead>\n",
       "    <tr style=\"text-align: right;\">\n",
       "      <th></th>\n",
       "      <th>pop_est</th>\n",
       "      <th>continent</th>\n",
       "      <th>name</th>\n",
       "      <th>iso_a3</th>\n",
       "      <th>gdp_md_est</th>\n",
       "      <th>geometry</th>\n",
       "    </tr>\n",
       "  </thead>\n",
       "  <tbody>\n",
       "    <tr>\n",
       "      <th>0</th>\n",
       "      <td>889953.0</td>\n",
       "      <td>Oceania</td>\n",
       "      <td>Fiji</td>\n",
       "      <td>FJI</td>\n",
       "      <td>5496</td>\n",
       "      <td>MULTIPOLYGON (((180.00000 -16.06713, 180.00000...</td>\n",
       "    </tr>\n",
       "    <tr>\n",
       "      <th>1</th>\n",
       "      <td>58005463.0</td>\n",
       "      <td>Africa</td>\n",
       "      <td>Tanzania</td>\n",
       "      <td>TZA</td>\n",
       "      <td>63177</td>\n",
       "      <td>POLYGON ((33.90371 -0.95000, 34.07262 -1.05982...</td>\n",
       "    </tr>\n",
       "    <tr>\n",
       "      <th>2</th>\n",
       "      <td>603253.0</td>\n",
       "      <td>Africa</td>\n",
       "      <td>W. Sahara</td>\n",
       "      <td>ESH</td>\n",
       "      <td>907</td>\n",
       "      <td>POLYGON ((-8.66559 27.65643, -8.66512 27.58948...</td>\n",
       "    </tr>\n",
       "    <tr>\n",
       "      <th>3</th>\n",
       "      <td>37589262.0</td>\n",
       "      <td>North America</td>\n",
       "      <td>Canada</td>\n",
       "      <td>CAN</td>\n",
       "      <td>1736425</td>\n",
       "      <td>MULTIPOLYGON (((-122.84000 49.00000, -122.9742...</td>\n",
       "    </tr>\n",
       "    <tr>\n",
       "      <th>4</th>\n",
       "      <td>328239523.0</td>\n",
       "      <td>North America</td>\n",
       "      <td>United States of America</td>\n",
       "      <td>USA</td>\n",
       "      <td>21433226</td>\n",
       "      <td>MULTIPOLYGON (((-122.84000 49.00000, -120.0000...</td>\n",
       "    </tr>\n",
       "    <tr>\n",
       "      <th>...</th>\n",
       "      <td>...</td>\n",
       "      <td>...</td>\n",
       "      <td>...</td>\n",
       "      <td>...</td>\n",
       "      <td>...</td>\n",
       "      <td>...</td>\n",
       "    </tr>\n",
       "    <tr>\n",
       "      <th>172</th>\n",
       "      <td>6944975.0</td>\n",
       "      <td>Europe</td>\n",
       "      <td>Serbia</td>\n",
       "      <td>SRB</td>\n",
       "      <td>51475</td>\n",
       "      <td>POLYGON ((18.82982 45.90887, 18.82984 45.90888...</td>\n",
       "    </tr>\n",
       "    <tr>\n",
       "      <th>173</th>\n",
       "      <td>622137.0</td>\n",
       "      <td>Europe</td>\n",
       "      <td>Montenegro</td>\n",
       "      <td>MNE</td>\n",
       "      <td>5542</td>\n",
       "      <td>POLYGON ((20.07070 42.58863, 19.80161 42.50009...</td>\n",
       "    </tr>\n",
       "    <tr>\n",
       "      <th>174</th>\n",
       "      <td>1794248.0</td>\n",
       "      <td>Europe</td>\n",
       "      <td>Kosovo</td>\n",
       "      <td>-99</td>\n",
       "      <td>7926</td>\n",
       "      <td>POLYGON ((20.59025 41.85541, 20.52295 42.21787...</td>\n",
       "    </tr>\n",
       "    <tr>\n",
       "      <th>175</th>\n",
       "      <td>1394973.0</td>\n",
       "      <td>North America</td>\n",
       "      <td>Trinidad and Tobago</td>\n",
       "      <td>TTO</td>\n",
       "      <td>24269</td>\n",
       "      <td>POLYGON ((-61.68000 10.76000, -61.10500 10.890...</td>\n",
       "    </tr>\n",
       "    <tr>\n",
       "      <th>176</th>\n",
       "      <td>11062113.0</td>\n",
       "      <td>Africa</td>\n",
       "      <td>S. Sudan</td>\n",
       "      <td>SSD</td>\n",
       "      <td>11998</td>\n",
       "      <td>POLYGON ((30.83385 3.50917, 29.95350 4.17370, ...</td>\n",
       "    </tr>\n",
       "  </tbody>\n",
       "</table>\n",
       "<p>177 rows × 6 columns</p>\n",
       "</div>"
      ],
      "text/plain": [
       "         pop_est      continent                      name iso_a3  gdp_md_est  \\\n",
       "0       889953.0        Oceania                      Fiji    FJI        5496   \n",
       "1     58005463.0         Africa                  Tanzania    TZA       63177   \n",
       "2       603253.0         Africa                 W. Sahara    ESH         907   \n",
       "3     37589262.0  North America                    Canada    CAN     1736425   \n",
       "4    328239523.0  North America  United States of America    USA    21433226   \n",
       "..           ...            ...                       ...    ...         ...   \n",
       "172    6944975.0         Europe                    Serbia    SRB       51475   \n",
       "173     622137.0         Europe                Montenegro    MNE        5542   \n",
       "174    1794248.0         Europe                    Kosovo    -99        7926   \n",
       "175    1394973.0  North America       Trinidad and Tobago    TTO       24269   \n",
       "176   11062113.0         Africa                  S. Sudan    SSD       11998   \n",
       "\n",
       "                                              geometry  \n",
       "0    MULTIPOLYGON (((180.00000 -16.06713, 180.00000...  \n",
       "1    POLYGON ((33.90371 -0.95000, 34.07262 -1.05982...  \n",
       "2    POLYGON ((-8.66559 27.65643, -8.66512 27.58948...  \n",
       "3    MULTIPOLYGON (((-122.84000 49.00000, -122.9742...  \n",
       "4    MULTIPOLYGON (((-122.84000 49.00000, -120.0000...  \n",
       "..                                                 ...  \n",
       "172  POLYGON ((18.82982 45.90887, 18.82984 45.90888...  \n",
       "173  POLYGON ((20.07070 42.58863, 19.80161 42.50009...  \n",
       "174  POLYGON ((20.59025 41.85541, 20.52295 42.21787...  \n",
       "175  POLYGON ((-61.68000 10.76000, -61.10500 10.890...  \n",
       "176  POLYGON ((30.83385 3.50917, 29.95350 4.17370, ...  \n",
       "\n",
       "[177 rows x 6 columns]"
      ]
     },
     "execution_count": 4,
     "metadata": {},
     "output_type": "execute_result"
    }
   ],
   "source": [
    "world_default=gpd.read_file(gpd.datasets.get_path('naturalearth_lowres'))\n",
    "world_default"
   ]
  },
  {
   "attachments": {},
   "cell_type": "markdown",
   "metadata": {},
   "source": [
    "This reads from geopandas to display the datasets that are included in the library. Then we are reading the 'naturalearth_lowres' dataset, and assigning it the \"world_default\" variable."
   ]
  },
  {
   "cell_type": "code",
   "execution_count": 5,
   "metadata": {},
   "outputs": [
    {
     "data": {
      "text/html": [
       "<div>\n",
       "<style scoped>\n",
       "    .dataframe tbody tr th:only-of-type {\n",
       "        vertical-align: middle;\n",
       "    }\n",
       "\n",
       "    .dataframe tbody tr th {\n",
       "        vertical-align: top;\n",
       "    }\n",
       "\n",
       "    .dataframe thead th {\n",
       "        text-align: right;\n",
       "    }\n",
       "</style>\n",
       "<table border=\"1\" class=\"dataframe\">\n",
       "  <thead>\n",
       "    <tr style=\"text-align: right;\">\n",
       "      <th></th>\n",
       "      <th>name</th>\n",
       "      <th>iso_a3</th>\n",
       "    </tr>\n",
       "  </thead>\n",
       "  <tbody>\n",
       "    <tr>\n",
       "      <th>0</th>\n",
       "      <td>Fiji</td>\n",
       "      <td>FJI</td>\n",
       "    </tr>\n",
       "    <tr>\n",
       "      <th>1</th>\n",
       "      <td>Tanzania</td>\n",
       "      <td>TZA</td>\n",
       "    </tr>\n",
       "    <tr>\n",
       "      <th>2</th>\n",
       "      <td>W. Sahara</td>\n",
       "      <td>ESH</td>\n",
       "    </tr>\n",
       "    <tr>\n",
       "      <th>3</th>\n",
       "      <td>Canada</td>\n",
       "      <td>CAN</td>\n",
       "    </tr>\n",
       "    <tr>\n",
       "      <th>4</th>\n",
       "      <td>United States of America</td>\n",
       "      <td>USA</td>\n",
       "    </tr>\n",
       "    <tr>\n",
       "      <th>...</th>\n",
       "      <td>...</td>\n",
       "      <td>...</td>\n",
       "    </tr>\n",
       "    <tr>\n",
       "      <th>172</th>\n",
       "      <td>Serbia</td>\n",
       "      <td>SRB</td>\n",
       "    </tr>\n",
       "    <tr>\n",
       "      <th>173</th>\n",
       "      <td>Montenegro</td>\n",
       "      <td>MNE</td>\n",
       "    </tr>\n",
       "    <tr>\n",
       "      <th>174</th>\n",
       "      <td>Kosovo</td>\n",
       "      <td>-99</td>\n",
       "    </tr>\n",
       "    <tr>\n",
       "      <th>175</th>\n",
       "      <td>Trinidad and Tobago</td>\n",
       "      <td>TTO</td>\n",
       "    </tr>\n",
       "    <tr>\n",
       "      <th>176</th>\n",
       "      <td>S. Sudan</td>\n",
       "      <td>SSD</td>\n",
       "    </tr>\n",
       "  </tbody>\n",
       "</table>\n",
       "<p>177 rows × 2 columns</p>\n",
       "</div>"
      ],
      "text/plain": [
       "                         name iso_a3\n",
       "0                        Fiji    FJI\n",
       "1                    Tanzania    TZA\n",
       "2                   W. Sahara    ESH\n",
       "3                      Canada    CAN\n",
       "4    United States of America    USA\n",
       "..                        ...    ...\n",
       "172                    Serbia    SRB\n",
       "173                Montenegro    MNE\n",
       "174                    Kosovo    -99\n",
       "175       Trinidad and Tobago    TTO\n",
       "176                  S. Sudan    SSD\n",
       "\n",
       "[177 rows x 2 columns]"
      ]
     },
     "execution_count": 5,
     "metadata": {},
     "output_type": "execute_result"
    }
   ],
   "source": [
    "world_iso=world_default[[\"name\", \"iso_a3\"]]\n",
    "world_iso"
   ]
  },
  {
   "cell_type": "code",
   "execution_count": 6,
   "metadata": {},
   "outputs": [
    {
     "data": {
      "text/html": [
       "<div>\n",
       "<style scoped>\n",
       "    .dataframe tbody tr th:only-of-type {\n",
       "        vertical-align: middle;\n",
       "    }\n",
       "\n",
       "    .dataframe tbody tr th {\n",
       "        vertical-align: top;\n",
       "    }\n",
       "\n",
       "    .dataframe thead th {\n",
       "        text-align: right;\n",
       "    }\n",
       "</style>\n",
       "<table border=\"1\" class=\"dataframe\">\n",
       "  <thead>\n",
       "    <tr style=\"text-align: right;\">\n",
       "      <th></th>\n",
       "      <th>country</th>\n",
       "      <th>country code</th>\n",
       "    </tr>\n",
       "  </thead>\n",
       "  <tbody>\n",
       "    <tr>\n",
       "      <th>0</th>\n",
       "      <td>Fiji</td>\n",
       "      <td>FJI</td>\n",
       "    </tr>\n",
       "    <tr>\n",
       "      <th>1</th>\n",
       "      <td>Tanzania</td>\n",
       "      <td>TZA</td>\n",
       "    </tr>\n",
       "    <tr>\n",
       "      <th>2</th>\n",
       "      <td>W. Sahara</td>\n",
       "      <td>ESH</td>\n",
       "    </tr>\n",
       "    <tr>\n",
       "      <th>3</th>\n",
       "      <td>Canada</td>\n",
       "      <td>CAN</td>\n",
       "    </tr>\n",
       "    <tr>\n",
       "      <th>4</th>\n",
       "      <td>United States of America</td>\n",
       "      <td>USA</td>\n",
       "    </tr>\n",
       "    <tr>\n",
       "      <th>...</th>\n",
       "      <td>...</td>\n",
       "      <td>...</td>\n",
       "    </tr>\n",
       "    <tr>\n",
       "      <th>172</th>\n",
       "      <td>Serbia</td>\n",
       "      <td>SRB</td>\n",
       "    </tr>\n",
       "    <tr>\n",
       "      <th>173</th>\n",
       "      <td>Montenegro</td>\n",
       "      <td>MNE</td>\n",
       "    </tr>\n",
       "    <tr>\n",
       "      <th>174</th>\n",
       "      <td>Kosovo</td>\n",
       "      <td>-99</td>\n",
       "    </tr>\n",
       "    <tr>\n",
       "      <th>175</th>\n",
       "      <td>Trinidad and Tobago</td>\n",
       "      <td>TTO</td>\n",
       "    </tr>\n",
       "    <tr>\n",
       "      <th>176</th>\n",
       "      <td>S. Sudan</td>\n",
       "      <td>SSD</td>\n",
       "    </tr>\n",
       "  </tbody>\n",
       "</table>\n",
       "<p>177 rows × 2 columns</p>\n",
       "</div>"
      ],
      "text/plain": [
       "                      country country code\n",
       "0                        Fiji          FJI\n",
       "1                    Tanzania          TZA\n",
       "2                   W. Sahara          ESH\n",
       "3                      Canada          CAN\n",
       "4    United States of America          USA\n",
       "..                        ...          ...\n",
       "172                    Serbia          SRB\n",
       "173                Montenegro          MNE\n",
       "174                    Kosovo          -99\n",
       "175       Trinidad and Tobago          TTO\n",
       "176                  S. Sudan          SSD\n",
       "\n",
       "[177 rows x 2 columns]"
      ]
     },
     "execution_count": 6,
     "metadata": {},
     "output_type": "execute_result"
    }
   ],
   "source": [
    "world=world_iso.rename(columns={'name': 'country', 'iso_a3': 'country code'})\n",
    "world"
   ]
  },
  {
   "attachments": {},
   "cell_type": "markdown",
   "metadata": {},
   "source": [
    "\"world_iso\" is created by only pulling the \"name\" and \"iso_a3\" columns from the \"world_default\" DataFrame.\n",
    "\n",
    "We have then renamed the \"name\" columns to \"country\" and \"iso_a3\" column to \"country code\", then assigned it to the \"world\" variable. This is to distinguish it from the other DataFrames with a similar name. These will be used later."
   ]
  },
  {
   "attachments": {},
   "cell_type": "markdown",
   "metadata": {},
   "source": [
    "##### Filtering the Dataset"
   ]
  },
  {
   "cell_type": "code",
   "execution_count": 7,
   "metadata": {},
   "outputs": [],
   "source": [
    "'''\n",
    "# Import pycountry library\n",
    "import pycountry\n",
    "\n",
    "# Get a list of country names from pycountry.countries\n",
    "country_names = [country.name for country in pycountry.countries]\n",
    "\n",
    "# Filter out rows where \"location\" is not a country name contained in country_names (from pycountry.countries)\n",
    "tweets_cleaned = tweets[~((~tweets[\"location\"].isin(country_names)) | tweets[\"full_text\"].str.contains(\"https\") | tweets[\"username\"].str.contains(\"卐|卍\"))]\n",
    "tweets_cleaned''';"
   ]
  },
  {
   "attachments": {},
   "cell_type": "markdown",
   "metadata": {},
   "source": [
    "Originally tried filtering out invalid values (countries) from \"location\" using pycountry, however this filtered out too many rows of data, which in turn produced subpar data."
   ]
  },
  {
   "cell_type": "code",
   "execution_count": 8,
   "metadata": {},
   "outputs": [],
   "source": [
    "'''\n",
    "# Import nltk library and stopwords list\n",
    "import nltk\n",
    "nltk.download('stopwords')\n",
    "\n",
    "from nltk.corpus import stopwords\n",
    "\n",
    "# Replace missing (null/NaN) values with \"Unknown\"\n",
    "tweets[\"location\"].fillna(\"Unknown\", inplace=True)\n",
    "\n",
    "# Pull the set of English stopwords - assign to \"stop_words\" variable\n",
    "stop_words = set(stopwords.words('english'))\n",
    "\n",
    "# Filter out the rows containing the stop words\n",
    "tweets_cleaned = tweets[~tweets[\"location\"].str.lower().apply(lambda x: any([word in x.lower() for word in stop_words]))]''';"
   ]
  },
  {
   "attachments": {},
   "cell_type": "markdown",
   "metadata": {},
   "source": [
    "Again, tried filtering out invalid values (countries) from \"location\" using the stopwords list from nltk, however this, again, filtered out too many rows of data, which in turn produced subpar data."
   ]
  },
  {
   "cell_type": "code",
   "execution_count": 9,
   "metadata": {},
   "outputs": [],
   "source": [
    "# # Replace missing (null/NaN) values with \"Unknown\"\n",
    "# tweets[\"location\"].fillna(\"Unknown\", inplace=True)\n",
    "\n",
    "# # Read the filter values from the \"filters\" text file\n",
    "# with open('./resources/filters.txt', 'r') as f:\n",
    "#     filters = [val.lower() for val in f.read().splitlines()]\n",
    "\n",
    "# # Filter out the rows containing the filter values from the text file in the \"location\" column\n",
    "# # Filter our the rows containing \"https\" in the \"full_text\" column\n",
    "# tweets_cleaned = tweets[~(tweets[\"location\"].str.lower().str.contains('|'.join(filters)) | tweets[\"full_text\"].str.lower().str.contains(\"https\"))]\n",
    "# tweets_cleaned.count()"
   ]
  },
  {
   "attachments": {},
   "cell_type": "markdown",
   "metadata": {},
   "source": [
    "The method that was decided on required a separate text file, called \"filters\", which contained a list (one word a line) of values that did not make sense given the context of the \"location\" series.\n",
    "\n",
    "ChatGPT was used to quickly produce a list of various social media websites, emoji flags, as well as invalid characters (such as !, @, #, $ etc.), which was then joined by a handful of handpicked values spotted during testing.\n",
    "\n",
    "This method also drops the rows containing 'NaN', which removes many rows from the dataset, as many Twitter users leave the \"user_location\" field on their profile blank, often for privacy reasons."
   ]
  },
  {
   "cell_type": "markdown",
   "metadata": {},
   "source": [
    "Upon further investigation, it was decided that filtering out the dataset would limit the amount of useful data available. As this topic is niche, social media data is fairly scarce, meaning data with null values must be left in."
   ]
  },
  {
   "cell_type": "code",
   "execution_count": 10,
   "metadata": {},
   "outputs": [],
   "source": [
    "# tweets_sample=tweets_cleaned.dropna().sample(n=500)\n",
    "# tweets_sample.count()"
   ]
  },
  {
   "attachments": {},
   "cell_type": "markdown",
   "metadata": {},
   "source": [
    "For a large dataset, it would usually be good practice to select a sample, to make analysing and visualising data easier for the data analyst. In this case, due to the small size, it is best to use the full dataset."
   ]
  },
  {
   "attachments": {},
   "cell_type": "markdown",
   "metadata": {},
   "source": [
    "##### Geocoding"
   ]
  },
  {
   "cell_type": "code",
   "execution_count": 11,
   "metadata": {},
   "outputs": [],
   "source": [
    "# Assigns instance of Nomination, using \"MSc22\" user_agent, to \"geolocator\" variable\n",
    "geolocator = Nominatim(user_agent='MSc22')"
   ]
  },
  {
   "cell_type": "code",
   "execution_count": 12,
   "metadata": {},
   "outputs": [
    {
     "data": {
      "text/html": [
       "<div>\n",
       "<style scoped>\n",
       "    .dataframe tbody tr th:only-of-type {\n",
       "        vertical-align: middle;\n",
       "    }\n",
       "\n",
       "    .dataframe tbody tr th {\n",
       "        vertical-align: top;\n",
       "    }\n",
       "\n",
       "    .dataframe thead th {\n",
       "        text-align: right;\n",
       "    }\n",
       "</style>\n",
       "<table border=\"1\" class=\"dataframe\">\n",
       "  <thead>\n",
       "    <tr style=\"text-align: right;\">\n",
       "      <th></th>\n",
       "      <th>tweet_id</th>\n",
       "      <th>username</th>\n",
       "      <th>full_name</th>\n",
       "      <th>full_text</th>\n",
       "      <th>view_count</th>\n",
       "      <th>bookmark_count</th>\n",
       "      <th>favorite_count</th>\n",
       "      <th>reply_count</th>\n",
       "      <th>retweet_count</th>\n",
       "      <th>quote_count</th>\n",
       "      <th>...</th>\n",
       "      <th>location</th>\n",
       "      <th>profile_banner_url</th>\n",
       "      <th>profile_url</th>\n",
       "      <th>avatar_url</th>\n",
       "      <th>verified</th>\n",
       "      <th>is_blue_verified</th>\n",
       "      <th>user_created_at</th>\n",
       "      <th>acc_location</th>\n",
       "      <th>lat</th>\n",
       "      <th>lon</th>\n",
       "    </tr>\n",
       "  </thead>\n",
       "  <tbody>\n",
       "    <tr>\n",
       "      <th>0</th>\n",
       "      <td>1589292294456627200</td>\n",
       "      <td>fuckitseominsoo</td>\n",
       "      <td>fuck it seominsoo</td>\n",
       "      <td>Despite no longer sponsoring OWL, you can stil...</td>\n",
       "      <td>0</td>\n",
       "      <td>22</td>\n",
       "      <td>784</td>\n",
       "      <td>12</td>\n",
       "      <td>30</td>\n",
       "      <td>8</td>\n",
       "      <td>...</td>\n",
       "      <td>Canada</td>\n",
       "      <td>https://pbs.twimg.com/profile_banners/11835260...</td>\n",
       "      <td>https://www.twitter.com/fuckitseominsoo</td>\n",
       "      <td>https://pbs.twimg.com/profile_images/161295423...</td>\n",
       "      <td>False</td>\n",
       "      <td>False</td>\n",
       "      <td>2019-10-14</td>\n",
       "      <td>(Canada, (61.0666922, -107.991707))</td>\n",
       "      <td>61.066692</td>\n",
       "      <td>-107.991707</td>\n",
       "    </tr>\n",
       "    <tr>\n",
       "      <th>1</th>\n",
       "      <td>1423381826094223362</td>\n",
       "      <td>OscarINTEL</td>\n",
       "      <td>Overwatch 2 News</td>\n",
       "      <td>State Farm and Coca Cola have paused their spo...</td>\n",
       "      <td>0</td>\n",
       "      <td>10</td>\n",
       "      <td>1033</td>\n",
       "      <td>26</td>\n",
       "      <td>127</td>\n",
       "      <td>138</td>\n",
       "      <td>...</td>\n",
       "      <td>Overwatch</td>\n",
       "      <td>https://pbs.twimg.com/profile_banners/73625034...</td>\n",
       "      <td>https://www.twitter.com/OscarINTEL</td>\n",
       "      <td>https://pbs.twimg.com/profile_images/145062056...</td>\n",
       "      <td>False</td>\n",
       "      <td>True</td>\n",
       "      <td>2016-05-27</td>\n",
       "      <td>(Overwatch, 5301, Southwest Parkway, Austin, T...</td>\n",
       "      <td>30.242332</td>\n",
       "      <td>-97.843169</td>\n",
       "    </tr>\n",
       "    <tr>\n",
       "      <th>2</th>\n",
       "      <td>1423623154820214784</td>\n",
       "      <td>Wowhead</td>\n",
       "      <td>Wowhead💙</td>\n",
       "      <td>Several corporate sponsors of the Overwatch Le...</td>\n",
       "      <td>0</td>\n",
       "      <td>1</td>\n",
       "      <td>620</td>\n",
       "      <td>31</td>\n",
       "      <td>105</td>\n",
       "      <td>33</td>\n",
       "      <td>...</td>\n",
       "      <td>Azeroth &amp; Sanctuary</td>\n",
       "      <td>https://pbs.twimg.com/profile_banners/17258481...</td>\n",
       "      <td>https://www.twitter.com/Wowhead</td>\n",
       "      <td>https://pbs.twimg.com/profile_images/167661705...</td>\n",
       "      <td>False</td>\n",
       "      <td>True</td>\n",
       "      <td>2008-11-08</td>\n",
       "      <td>None</td>\n",
       "      <td>NaN</td>\n",
       "      <td>NaN</td>\n",
       "    </tr>\n",
       "    <tr>\n",
       "      <th>3</th>\n",
       "      <td>1442536089688883200</td>\n",
       "      <td>overwatchleague</td>\n",
       "      <td>Overwatch League</td>\n",
       "      <td>Love is in the Overwatch League 💍\\n\\nProposals...</td>\n",
       "      <td>0</td>\n",
       "      <td>7</td>\n",
       "      <td>799</td>\n",
       "      <td>12</td>\n",
       "      <td>27</td>\n",
       "      <td>7</td>\n",
       "      <td>...</td>\n",
       "      <td>Irvine, CA</td>\n",
       "      <td>https://pbs.twimg.com/profile_banners/79106546...</td>\n",
       "      <td>https://www.twitter.com/overwatchleague</td>\n",
       "      <td>https://pbs.twimg.com/profile_images/167842888...</td>\n",
       "      <td>False</td>\n",
       "      <td>False</td>\n",
       "      <td>2016-10-26</td>\n",
       "      <td>(Irvine, Orange County, California, United Sta...</td>\n",
       "      <td>33.685697</td>\n",
       "      <td>-117.825982</td>\n",
       "    </tr>\n",
       "    <tr>\n",
       "      <th>4</th>\n",
       "      <td>1660686983293816832</td>\n",
       "      <td>jonunderscor</td>\n",
       "      <td>Jon</td>\n",
       "      <td>What a great match there coming from the Coca-...</td>\n",
       "      <td>34188</td>\n",
       "      <td>1</td>\n",
       "      <td>391</td>\n",
       "      <td>8</td>\n",
       "      <td>16</td>\n",
       "      <td>3</td>\n",
       "      <td>...</td>\n",
       "      <td>United States</td>\n",
       "      <td>https://pbs.twimg.com/profile_banners/85459344...</td>\n",
       "      <td>https://www.twitter.com/jonunderscor</td>\n",
       "      <td>https://pbs.twimg.com/profile_images/143510425...</td>\n",
       "      <td>False</td>\n",
       "      <td>False</td>\n",
       "      <td>2017-04-19</td>\n",
       "      <td>(United States, (39.7837304, -100.445882))</td>\n",
       "      <td>39.783730</td>\n",
       "      <td>-100.445882</td>\n",
       "    </tr>\n",
       "  </tbody>\n",
       "</table>\n",
       "<p>5 rows × 41 columns</p>\n",
       "</div>"
      ],
      "text/plain": [
       "              tweet_id         username          full_name  \\\n",
       "0  1589292294456627200  fuckitseominsoo  fuck it seominsoo   \n",
       "1  1423381826094223362       OscarINTEL   Overwatch 2 News   \n",
       "2  1423623154820214784          Wowhead           Wowhead💙   \n",
       "3  1442536089688883200  overwatchleague   Overwatch League   \n",
       "4  1660686983293816832     jonunderscor                Jon   \n",
       "\n",
       "                                           full_text  view_count  \\\n",
       "0  Despite no longer sponsoring OWL, you can stil...           0   \n",
       "1  State Farm and Coca Cola have paused their spo...           0   \n",
       "2  Several corporate sponsors of the Overwatch Le...           0   \n",
       "3  Love is in the Overwatch League 💍\\n\\nProposals...           0   \n",
       "4  What a great match there coming from the Coca-...       34188   \n",
       "\n",
       "   bookmark_count  favorite_count  reply_count  retweet_count  quote_count  \\\n",
       "0              22             784           12             30            8   \n",
       "1              10            1033           26            127          138   \n",
       "2               1             620           31            105           33   \n",
       "3               7             799           12             27            7   \n",
       "4               1             391            8             16            3   \n",
       "\n",
       "   ...             location  \\\n",
       "0  ...               Canada   \n",
       "1  ...            Overwatch   \n",
       "2  ...  Azeroth & Sanctuary   \n",
       "3  ...           Irvine, CA   \n",
       "4  ...        United States   \n",
       "\n",
       "                                  profile_banner_url  \\\n",
       "0  https://pbs.twimg.com/profile_banners/11835260...   \n",
       "1  https://pbs.twimg.com/profile_banners/73625034...   \n",
       "2  https://pbs.twimg.com/profile_banners/17258481...   \n",
       "3  https://pbs.twimg.com/profile_banners/79106546...   \n",
       "4  https://pbs.twimg.com/profile_banners/85459344...   \n",
       "\n",
       "                               profile_url  \\\n",
       "0  https://www.twitter.com/fuckitseominsoo   \n",
       "1       https://www.twitter.com/OscarINTEL   \n",
       "2          https://www.twitter.com/Wowhead   \n",
       "3  https://www.twitter.com/overwatchleague   \n",
       "4     https://www.twitter.com/jonunderscor   \n",
       "\n",
       "                                          avatar_url  verified  \\\n",
       "0  https://pbs.twimg.com/profile_images/161295423...     False   \n",
       "1  https://pbs.twimg.com/profile_images/145062056...     False   \n",
       "2  https://pbs.twimg.com/profile_images/167661705...     False   \n",
       "3  https://pbs.twimg.com/profile_images/167842888...     False   \n",
       "4  https://pbs.twimg.com/profile_images/143510425...     False   \n",
       "\n",
       "  is_blue_verified user_created_at  \\\n",
       "0            False      2019-10-14   \n",
       "1             True      2016-05-27   \n",
       "2             True      2008-11-08   \n",
       "3            False      2016-10-26   \n",
       "4            False      2017-04-19   \n",
       "\n",
       "                                        acc_location        lat         lon  \n",
       "0                (Canada, (61.0666922, -107.991707))  61.066692 -107.991707  \n",
       "1  (Overwatch, 5301, Southwest Parkway, Austin, T...  30.242332  -97.843169  \n",
       "2                                               None        NaN         NaN  \n",
       "3  (Irvine, Orange County, California, United Sta...  33.685697 -117.825982  \n",
       "4         (United States, (39.7837304, -100.445882))  39.783730 -100.445882  \n",
       "\n",
       "[5 rows x 41 columns]"
      ]
     },
     "execution_count": 12,
     "metadata": {},
     "output_type": "execute_result"
    }
   ],
   "source": [
    "# Assigns rate-limited version of \"geocode\" method to \"geocode\" variable - minimum delay set to 0.1 seconds\n",
    "geocode = RateLimiter(geolocator.geocode, min_delay_seconds=0.1)\n",
    "\n",
    "# Creates \"location\", \"lat\", \"lon\" columns in \"tweets\", applies geocoding to existing \"location\" column\n",
    "# Retrieves approximate location, lat, lon data - data is assigned to each column\n",
    "tweets['acc_location'] = tweets['location'].apply(geocode)\n",
    "tweets['lat'] = tweets['acc_location'].apply(lambda x: x.latitude if x else None)\n",
    "tweets['lon'] = tweets['acc_location'].apply(lambda x: x.longitude if x else None)\n",
    "\n",
    "# Drops null values from \"tweets\", creates new DataFrame \"tweets_geo\", displays head (top 5) of \"tweets_geo\"\n",
    "tweets_geo=tweets\n",
    "tweets_geo.head()"
   ]
  },
  {
   "cell_type": "code",
   "execution_count": 13,
   "metadata": {},
   "outputs": [
    {
     "data": {
      "text/html": [
       "<div>\n",
       "<style scoped>\n",
       "    .dataframe tbody tr th:only-of-type {\n",
       "        vertical-align: middle;\n",
       "    }\n",
       "\n",
       "    .dataframe tbody tr th {\n",
       "        vertical-align: top;\n",
       "    }\n",
       "\n",
       "    .dataframe thead th {\n",
       "        text-align: right;\n",
       "    }\n",
       "</style>\n",
       "<table border=\"1\" class=\"dataframe\">\n",
       "  <thead>\n",
       "    <tr style=\"text-align: right;\">\n",
       "      <th></th>\n",
       "      <th>tweet_id</th>\n",
       "      <th>username</th>\n",
       "      <th>full_name</th>\n",
       "      <th>full_text</th>\n",
       "      <th>view_count</th>\n",
       "      <th>bookmark_count</th>\n",
       "      <th>favorite_count</th>\n",
       "      <th>reply_count</th>\n",
       "      <th>retweet_count</th>\n",
       "      <th>quote_count</th>\n",
       "      <th>...</th>\n",
       "      <th>location</th>\n",
       "      <th>profile_banner_url</th>\n",
       "      <th>profile_url</th>\n",
       "      <th>avatar_url</th>\n",
       "      <th>verified</th>\n",
       "      <th>is_blue_verified</th>\n",
       "      <th>user_created_at</th>\n",
       "      <th>acc_location</th>\n",
       "      <th>lat</th>\n",
       "      <th>lon</th>\n",
       "    </tr>\n",
       "  </thead>\n",
       "  <tbody>\n",
       "    <tr>\n",
       "      <th>158</th>\n",
       "      <td>1423398171548528640</td>\n",
       "      <td>Dungeon00X</td>\n",
       "      <td>Travis Wheeler</td>\n",
       "      <td>@Kotaku I'm surprised that an Overwatch league...</td>\n",
       "      <td>0</td>\n",
       "      <td>0</td>\n",
       "      <td>6</td>\n",
       "      <td>0</td>\n",
       "      <td>0</td>\n",
       "      <td>0</td>\n",
       "      <td>...</td>\n",
       "      <td>Texas</td>\n",
       "      <td>https://pbs.twimg.com/profile_banners/86688076...</td>\n",
       "      <td>https://www.twitter.com/Dungeon00X</td>\n",
       "      <td>https://pbs.twimg.com/profile_images/168169775...</td>\n",
       "      <td>False</td>\n",
       "      <td>False</td>\n",
       "      <td>2012-10-07</td>\n",
       "      <td>(Texas, United States, (31.2638905, -98.5456116))</td>\n",
       "      <td>31.263890</td>\n",
       "      <td>-98.545612</td>\n",
       "    </tr>\n",
       "    <tr>\n",
       "      <th>159</th>\n",
       "      <td>1423650672407371777</td>\n",
       "      <td>EGamersWorld</td>\n",
       "      <td>EGamersWorld</td>\n",
       "      <td>Coca-Cola and State Farm reconsider Overwatch ...</td>\n",
       "      <td>0</td>\n",
       "      <td>0</td>\n",
       "      <td>0</td>\n",
       "      <td>0</td>\n",
       "      <td>0</td>\n",
       "      <td>0</td>\n",
       "      <td>...</td>\n",
       "      <td>NaN</td>\n",
       "      <td>https://pbs.twimg.com/profile_banners/79062569...</td>\n",
       "      <td>https://www.twitter.com/EGamersWorld</td>\n",
       "      <td>https://pbs.twimg.com/profile_images/157690587...</td>\n",
       "      <td>False</td>\n",
       "      <td>False</td>\n",
       "      <td>2016-10-24</td>\n",
       "      <td>(Nanno, Ville d'Anaunia, Comunità della Val di...</td>\n",
       "      <td>46.314475</td>\n",
       "      <td>11.048029</td>\n",
       "    </tr>\n",
       "    <tr>\n",
       "      <th>160</th>\n",
       "      <td>1423915439315472388</td>\n",
       "      <td>mariuskarma</td>\n",
       "      <td>@mariuskarma</td>\n",
       "      <td>ForbesTech: Coca-Cola and State Farm are reeva...</td>\n",
       "      <td>0</td>\n",
       "      <td>0</td>\n",
       "      <td>0</td>\n",
       "      <td>0</td>\n",
       "      <td>0</td>\n",
       "      <td>0</td>\n",
       "      <td>...</td>\n",
       "      <td>internet</td>\n",
       "      <td>https://pbs.twimg.com/profile_banners/58688746...</td>\n",
       "      <td>https://www.twitter.com/mariuskarma</td>\n",
       "      <td>https://pbs.twimg.com/profile_images/588820751...</td>\n",
       "      <td>False</td>\n",
       "      <td>False</td>\n",
       "      <td>2012-05-21</td>\n",
       "      <td>(Internet, 3e Bas de Sault, Saint Michel de l’...</td>\n",
       "      <td>19.372189</td>\n",
       "      <td>-72.334654</td>\n",
       "    </tr>\n",
       "    <tr>\n",
       "      <th>161</th>\n",
       "      <td>1423381052320538639</td>\n",
       "      <td>jaymcastello</td>\n",
       "      <td>Jay Castello 🌻</td>\n",
       "      <td>@Vahn16 \"Both Coca-Cola and State Farm ran adv...</td>\n",
       "      <td>0</td>\n",
       "      <td>0</td>\n",
       "      <td>3</td>\n",
       "      <td>0</td>\n",
       "      <td>0</td>\n",
       "      <td>0</td>\n",
       "      <td>...</td>\n",
       "      <td>jaymcastello [at] gmail.com</td>\n",
       "      <td>https://pbs.twimg.com/profile_banners/34345700...</td>\n",
       "      <td>https://www.twitter.com/jaymcastello</td>\n",
       "      <td>https://pbs.twimg.com/profile_images/154792985...</td>\n",
       "      <td>False</td>\n",
       "      <td>False</td>\n",
       "      <td>2015-08-21</td>\n",
       "      <td>None</td>\n",
       "      <td>NaN</td>\n",
       "      <td>NaN</td>\n",
       "    </tr>\n",
       "    <tr>\n",
       "      <th>162</th>\n",
       "      <td>1423428203646013447</td>\n",
       "      <td>MsMoLogan</td>\n",
       "      <td>Mz. Mo Logan @ Blizzcon 🔜 💋 🏹</td>\n",
       "      <td>👀 The Washington Post: Amid harassment lawsuit...</td>\n",
       "      <td>0</td>\n",
       "      <td>0</td>\n",
       "      <td>0</td>\n",
       "      <td>0</td>\n",
       "      <td>0</td>\n",
       "      <td>0</td>\n",
       "      <td>...</td>\n",
       "      <td>Georgia, USA</td>\n",
       "      <td>https://pbs.twimg.com/profile_banners/29438422...</td>\n",
       "      <td>https://www.twitter.com/MsMoLogan</td>\n",
       "      <td>https://pbs.twimg.com/profile_images/151607134...</td>\n",
       "      <td>False</td>\n",
       "      <td>True</td>\n",
       "      <td>2011-05-07</td>\n",
       "      <td>(Georgia, United States, (32.3293809, -83.1137...</td>\n",
       "      <td>32.329381</td>\n",
       "      <td>-83.113737</td>\n",
       "    </tr>\n",
       "  </tbody>\n",
       "</table>\n",
       "<p>5 rows × 41 columns</p>\n",
       "</div>"
      ],
      "text/plain": [
       "                tweet_id      username                      full_name  \\\n",
       "158  1423398171548528640    Dungeon00X                 Travis Wheeler   \n",
       "159  1423650672407371777  EGamersWorld                   EGamersWorld   \n",
       "160  1423915439315472388   mariuskarma                   @mariuskarma   \n",
       "161  1423381052320538639  jaymcastello                 Jay Castello 🌻   \n",
       "162  1423428203646013447     MsMoLogan  Mz. Mo Logan @ Blizzcon 🔜 💋 🏹   \n",
       "\n",
       "                                             full_text  view_count  \\\n",
       "158  @Kotaku I'm surprised that an Overwatch league...           0   \n",
       "159  Coca-Cola and State Farm reconsider Overwatch ...           0   \n",
       "160  ForbesTech: Coca-Cola and State Farm are reeva...           0   \n",
       "161  @Vahn16 \"Both Coca-Cola and State Farm ran adv...           0   \n",
       "162  👀 The Washington Post: Amid harassment lawsuit...           0   \n",
       "\n",
       "     bookmark_count  favorite_count  reply_count  retweet_count  quote_count  \\\n",
       "158               0               6            0              0            0   \n",
       "159               0               0            0              0            0   \n",
       "160               0               0            0              0            0   \n",
       "161               0               3            0              0            0   \n",
       "162               0               0            0              0            0   \n",
       "\n",
       "     ...                     location  \\\n",
       "158  ...                        Texas   \n",
       "159  ...                          NaN   \n",
       "160  ...                     internet   \n",
       "161  ...  jaymcastello [at] gmail.com   \n",
       "162  ...                 Georgia, USA   \n",
       "\n",
       "                                    profile_banner_url  \\\n",
       "158  https://pbs.twimg.com/profile_banners/86688076...   \n",
       "159  https://pbs.twimg.com/profile_banners/79062569...   \n",
       "160  https://pbs.twimg.com/profile_banners/58688746...   \n",
       "161  https://pbs.twimg.com/profile_banners/34345700...   \n",
       "162  https://pbs.twimg.com/profile_banners/29438422...   \n",
       "\n",
       "                              profile_url  \\\n",
       "158    https://www.twitter.com/Dungeon00X   \n",
       "159  https://www.twitter.com/EGamersWorld   \n",
       "160   https://www.twitter.com/mariuskarma   \n",
       "161  https://www.twitter.com/jaymcastello   \n",
       "162     https://www.twitter.com/MsMoLogan   \n",
       "\n",
       "                                            avatar_url  verified  \\\n",
       "158  https://pbs.twimg.com/profile_images/168169775...     False   \n",
       "159  https://pbs.twimg.com/profile_images/157690587...     False   \n",
       "160  https://pbs.twimg.com/profile_images/588820751...     False   \n",
       "161  https://pbs.twimg.com/profile_images/154792985...     False   \n",
       "162  https://pbs.twimg.com/profile_images/151607134...     False   \n",
       "\n",
       "    is_blue_verified user_created_at  \\\n",
       "158            False      2012-10-07   \n",
       "159            False      2016-10-24   \n",
       "160            False      2012-05-21   \n",
       "161            False      2015-08-21   \n",
       "162             True      2011-05-07   \n",
       "\n",
       "                                          acc_location        lat        lon  \n",
       "158  (Texas, United States, (31.2638905, -98.5456116))  31.263890 -98.545612  \n",
       "159  (Nanno, Ville d'Anaunia, Comunità della Val di...  46.314475  11.048029  \n",
       "160  (Internet, 3e Bas de Sault, Saint Michel de l’...  19.372189 -72.334654  \n",
       "161                                               None        NaN        NaN  \n",
       "162  (Georgia, United States, (32.3293809, -83.1137...  32.329381 -83.113737  \n",
       "\n",
       "[5 rows x 41 columns]"
      ]
     },
     "execution_count": 13,
     "metadata": {},
     "output_type": "execute_result"
    }
   ],
   "source": [
    "tweets_geo.tail()"
   ]
  },
  {
   "attachments": {},
   "cell_type": "markdown",
   "metadata": {},
   "source": [
    "To obtain more accurate geographical information for each tweet, we utilised Nominatim, a powerful geolocating tool from geopy that queries OpenStreetMap (OSM) data to find locations on Earth based on their name or address. The 'location' column from the dataset was used as a starting point to search for each user's approximate location. Nominatim generated a new 'acc_location' column that contains the name of the nearest location to the user's reported location. Additionally, it provided the latitude and longitude coordinates of each location, which we extracted into separate 'lat' and 'lon' columns. This allows us to plot each tweet on a map with greater accuracy and detail.\n",
    "\n",
    "After running the geolocator on our dataset sample, we must use the dropna function again as there may be some null values generated from the geolocator."
   ]
  },
  {
   "cell_type": "code",
   "execution_count": 14,
   "metadata": {},
   "outputs": [
    {
     "data": {
      "text/html": [
       "<div>\n",
       "<style scoped>\n",
       "    .dataframe tbody tr th:only-of-type {\n",
       "        vertical-align: middle;\n",
       "    }\n",
       "\n",
       "    .dataframe tbody tr th {\n",
       "        vertical-align: top;\n",
       "    }\n",
       "\n",
       "    .dataframe thead th {\n",
       "        text-align: right;\n",
       "    }\n",
       "</style>\n",
       "<table border=\"1\" class=\"dataframe\">\n",
       "  <thead>\n",
       "    <tr style=\"text-align: right;\">\n",
       "      <th></th>\n",
       "      <th>tweet_id</th>\n",
       "      <th>username</th>\n",
       "      <th>full_name</th>\n",
       "      <th>full_text</th>\n",
       "      <th>view_count</th>\n",
       "      <th>bookmark_count</th>\n",
       "      <th>favorite_count</th>\n",
       "      <th>reply_count</th>\n",
       "      <th>retweet_count</th>\n",
       "      <th>quote_count</th>\n",
       "      <th>...</th>\n",
       "      <th>profile_banner_url</th>\n",
       "      <th>profile_url</th>\n",
       "      <th>avatar_url</th>\n",
       "      <th>verified</th>\n",
       "      <th>is_blue_verified</th>\n",
       "      <th>user_created_at</th>\n",
       "      <th>acc_location</th>\n",
       "      <th>lat</th>\n",
       "      <th>lon</th>\n",
       "      <th>geometry</th>\n",
       "    </tr>\n",
       "  </thead>\n",
       "  <tbody>\n",
       "    <tr>\n",
       "      <th>0</th>\n",
       "      <td>1589292294456627200</td>\n",
       "      <td>fuckitseominsoo</td>\n",
       "      <td>fuck it seominsoo</td>\n",
       "      <td>Despite no longer sponsoring OWL, you can stil...</td>\n",
       "      <td>0</td>\n",
       "      <td>22</td>\n",
       "      <td>784</td>\n",
       "      <td>12</td>\n",
       "      <td>30</td>\n",
       "      <td>8</td>\n",
       "      <td>...</td>\n",
       "      <td>https://pbs.twimg.com/profile_banners/11835260...</td>\n",
       "      <td>https://www.twitter.com/fuckitseominsoo</td>\n",
       "      <td>https://pbs.twimg.com/profile_images/161295423...</td>\n",
       "      <td>False</td>\n",
       "      <td>False</td>\n",
       "      <td>2019-10-14</td>\n",
       "      <td>(Canada, (61.0666922, -107.991707))</td>\n",
       "      <td>61.066692</td>\n",
       "      <td>-107.991707</td>\n",
       "      <td>POINT (-107.99171 61.06669)</td>\n",
       "    </tr>\n",
       "    <tr>\n",
       "      <th>1</th>\n",
       "      <td>1423381826094223362</td>\n",
       "      <td>OscarINTEL</td>\n",
       "      <td>Overwatch 2 News</td>\n",
       "      <td>State Farm and Coca Cola have paused their spo...</td>\n",
       "      <td>0</td>\n",
       "      <td>10</td>\n",
       "      <td>1033</td>\n",
       "      <td>26</td>\n",
       "      <td>127</td>\n",
       "      <td>138</td>\n",
       "      <td>...</td>\n",
       "      <td>https://pbs.twimg.com/profile_banners/73625034...</td>\n",
       "      <td>https://www.twitter.com/OscarINTEL</td>\n",
       "      <td>https://pbs.twimg.com/profile_images/145062056...</td>\n",
       "      <td>False</td>\n",
       "      <td>True</td>\n",
       "      <td>2016-05-27</td>\n",
       "      <td>(Overwatch, 5301, Southwest Parkway, Austin, T...</td>\n",
       "      <td>30.242332</td>\n",
       "      <td>-97.843169</td>\n",
       "      <td>POINT (-97.84317 30.24233)</td>\n",
       "    </tr>\n",
       "    <tr>\n",
       "      <th>2</th>\n",
       "      <td>1423623154820214784</td>\n",
       "      <td>Wowhead</td>\n",
       "      <td>Wowhead💙</td>\n",
       "      <td>Several corporate sponsors of the Overwatch Le...</td>\n",
       "      <td>0</td>\n",
       "      <td>1</td>\n",
       "      <td>620</td>\n",
       "      <td>31</td>\n",
       "      <td>105</td>\n",
       "      <td>33</td>\n",
       "      <td>...</td>\n",
       "      <td>https://pbs.twimg.com/profile_banners/17258481...</td>\n",
       "      <td>https://www.twitter.com/Wowhead</td>\n",
       "      <td>https://pbs.twimg.com/profile_images/167661705...</td>\n",
       "      <td>False</td>\n",
       "      <td>True</td>\n",
       "      <td>2008-11-08</td>\n",
       "      <td>None</td>\n",
       "      <td>NaN</td>\n",
       "      <td>NaN</td>\n",
       "      <td>POINT EMPTY</td>\n",
       "    </tr>\n",
       "    <tr>\n",
       "      <th>3</th>\n",
       "      <td>1442536089688883200</td>\n",
       "      <td>overwatchleague</td>\n",
       "      <td>Overwatch League</td>\n",
       "      <td>Love is in the Overwatch League 💍\\n\\nProposals...</td>\n",
       "      <td>0</td>\n",
       "      <td>7</td>\n",
       "      <td>799</td>\n",
       "      <td>12</td>\n",
       "      <td>27</td>\n",
       "      <td>7</td>\n",
       "      <td>...</td>\n",
       "      <td>https://pbs.twimg.com/profile_banners/79106546...</td>\n",
       "      <td>https://www.twitter.com/overwatchleague</td>\n",
       "      <td>https://pbs.twimg.com/profile_images/167842888...</td>\n",
       "      <td>False</td>\n",
       "      <td>False</td>\n",
       "      <td>2016-10-26</td>\n",
       "      <td>(Irvine, Orange County, California, United Sta...</td>\n",
       "      <td>33.685697</td>\n",
       "      <td>-117.825982</td>\n",
       "      <td>POINT (-117.82598 33.68570)</td>\n",
       "    </tr>\n",
       "    <tr>\n",
       "      <th>4</th>\n",
       "      <td>1660686983293816832</td>\n",
       "      <td>jonunderscor</td>\n",
       "      <td>Jon</td>\n",
       "      <td>What a great match there coming from the Coca-...</td>\n",
       "      <td>34188</td>\n",
       "      <td>1</td>\n",
       "      <td>391</td>\n",
       "      <td>8</td>\n",
       "      <td>16</td>\n",
       "      <td>3</td>\n",
       "      <td>...</td>\n",
       "      <td>https://pbs.twimg.com/profile_banners/85459344...</td>\n",
       "      <td>https://www.twitter.com/jonunderscor</td>\n",
       "      <td>https://pbs.twimg.com/profile_images/143510425...</td>\n",
       "      <td>False</td>\n",
       "      <td>False</td>\n",
       "      <td>2017-04-19</td>\n",
       "      <td>(United States, (39.7837304, -100.445882))</td>\n",
       "      <td>39.783730</td>\n",
       "      <td>-100.445882</td>\n",
       "      <td>POINT (-100.44588 39.78373)</td>\n",
       "    </tr>\n",
       "  </tbody>\n",
       "</table>\n",
       "<p>5 rows × 42 columns</p>\n",
       "</div>"
      ],
      "text/plain": [
       "              tweet_id         username          full_name  \\\n",
       "0  1589292294456627200  fuckitseominsoo  fuck it seominsoo   \n",
       "1  1423381826094223362       OscarINTEL   Overwatch 2 News   \n",
       "2  1423623154820214784          Wowhead           Wowhead💙   \n",
       "3  1442536089688883200  overwatchleague   Overwatch League   \n",
       "4  1660686983293816832     jonunderscor                Jon   \n",
       "\n",
       "                                           full_text  view_count  \\\n",
       "0  Despite no longer sponsoring OWL, you can stil...           0   \n",
       "1  State Farm and Coca Cola have paused their spo...           0   \n",
       "2  Several corporate sponsors of the Overwatch Le...           0   \n",
       "3  Love is in the Overwatch League 💍\\n\\nProposals...           0   \n",
       "4  What a great match there coming from the Coca-...       34188   \n",
       "\n",
       "   bookmark_count  favorite_count  reply_count  retweet_count  quote_count  \\\n",
       "0              22             784           12             30            8   \n",
       "1              10            1033           26            127          138   \n",
       "2               1             620           31            105           33   \n",
       "3               7             799           12             27            7   \n",
       "4               1             391            8             16            3   \n",
       "\n",
       "   ...                                 profile_banner_url  \\\n",
       "0  ...  https://pbs.twimg.com/profile_banners/11835260...   \n",
       "1  ...  https://pbs.twimg.com/profile_banners/73625034...   \n",
       "2  ...  https://pbs.twimg.com/profile_banners/17258481...   \n",
       "3  ...  https://pbs.twimg.com/profile_banners/79106546...   \n",
       "4  ...  https://pbs.twimg.com/profile_banners/85459344...   \n",
       "\n",
       "                               profile_url  \\\n",
       "0  https://www.twitter.com/fuckitseominsoo   \n",
       "1       https://www.twitter.com/OscarINTEL   \n",
       "2          https://www.twitter.com/Wowhead   \n",
       "3  https://www.twitter.com/overwatchleague   \n",
       "4     https://www.twitter.com/jonunderscor   \n",
       "\n",
       "                                          avatar_url  verified  \\\n",
       "0  https://pbs.twimg.com/profile_images/161295423...     False   \n",
       "1  https://pbs.twimg.com/profile_images/145062056...     False   \n",
       "2  https://pbs.twimg.com/profile_images/167661705...     False   \n",
       "3  https://pbs.twimg.com/profile_images/167842888...     False   \n",
       "4  https://pbs.twimg.com/profile_images/143510425...     False   \n",
       "\n",
       "   is_blue_verified user_created_at  \\\n",
       "0             False      2019-10-14   \n",
       "1              True      2016-05-27   \n",
       "2              True      2008-11-08   \n",
       "3             False      2016-10-26   \n",
       "4             False      2017-04-19   \n",
       "\n",
       "                                        acc_location        lat         lon  \\\n",
       "0                (Canada, (61.0666922, -107.991707))  61.066692 -107.991707   \n",
       "1  (Overwatch, 5301, Southwest Parkway, Austin, T...  30.242332  -97.843169   \n",
       "2                                               None        NaN         NaN   \n",
       "3  (Irvine, Orange County, California, United Sta...  33.685697 -117.825982   \n",
       "4         (United States, (39.7837304, -100.445882))  39.783730 -100.445882   \n",
       "\n",
       "                      geometry  \n",
       "0  POINT (-107.99171 61.06669)  \n",
       "1   POINT (-97.84317 30.24233)  \n",
       "2                  POINT EMPTY  \n",
       "3  POINT (-117.82598 33.68570)  \n",
       "4  POINT (-100.44588 39.78373)  \n",
       "\n",
       "[5 rows x 42 columns]"
      ]
     },
     "execution_count": 14,
     "metadata": {},
     "output_type": "execute_result"
    }
   ],
   "source": [
    "# Create Point objects from data in \"lat\" and \"lon\" columns in \"tweets_geo\" DataFrame\n",
    "# Use Coordinate Reference System (CRS) EPSG code 4326 - most common for GPS coordinates - assign to \"crs\" object \n",
    "geometry=[Point(xy) for xy in zip(tweets_geo['lon'], tweets_geo['lat'])]\n",
    "crs=pyproj.CRS('epsg:4326')\n",
    "\n",
    "# Update DataFrame \"tweets_geo\" to GeoDataFrame - add \"geometry\" column with Point data - using CRS code from \"crs\"\n",
    "tweets_geo=gpd.GeoDataFrame(tweets_geo, crs=crs, geometry=geometry)\n",
    "\n",
    "# Drops null values from \"tweets_geo\", creates new DataFrame \"tweets_final\", displays head (top 5) of \"tweets_final\"\n",
    "tweets_final=tweets_geo\n",
    "tweets_final.head()"
   ]
  },
  {
   "attachments": {},
   "cell_type": "markdown",
   "metadata": {},
   "source": [
    "With the latitude and longitude coordinates now available in the 'tweets_geo' DataFrame, we can create a new column that combines them into a 'POINT' object using the 'geometry' library. This can be achieved by creating a list of Points, with each Point being a pair of (longitude, latitude) coordinates extracted from the corresponding row in 'tweets_geo'. This new 'geometry' list is then added as a new column to 'tweets_geo'.\n",
    "\n",
    "We also need to define the coordinate reference system (CRS) of the data to enable accurate geographic visualization. In this case, we use the pyproj library to create a CRS object with the EPSG code 4326, which is the standard for GPS coordinates.\n",
    "\n",
    "Before plotting any data on any charts, we display what the dataset looks like at this stage to ensure everything is stored correctly."
   ]
  },
  {
   "attachments": {},
   "cell_type": "markdown",
   "metadata": {},
   "source": [
    "##### Plotting the Data"
   ]
  },
  {
   "cell_type": "code",
   "execution_count": 15,
   "metadata": {},
   "outputs": [
    {
     "data": {
      "image/png": "[encoded data removed]",
      "text/plain": [
       "<Figure size 800x800 with 1 Axes>"
      ]
     },
     "metadata": {},
     "output_type": "display_data"
    }
   ],
   "source": [
    "# Create DataFrame \"all_tweets\" with \"text\" data from \"tweets_final\" DataFrame - assign string data type\n",
    "all_tweets = ' '.join(tweets_final['full_text'].astype(str))\n",
    "\n",
    "# Create the WordCloud using data from \"all_tweets\", including the plot width, the plot height and the plot background colour \n",
    "textwordcloud = WordCloud(width=900,\n",
    "                          height=450,\n",
    "                          background_color='white').generate(all_tweets)\n",
    "\n",
    "# Plot the WorldCloud\n",
    "plt.figure(figsize = (8, 8), facecolor = None)\n",
    "plt.imshow(textwordcloud)\n",
    "plt.axis(\"off\")\n",
    "plt.tight_layout(pad = 0)\n",
    "\n",
    "# Show the WordCloud figure\n",
    "plt.show()"
   ]
  },
  {
   "attachments": {},
   "cell_type": "markdown",
   "metadata": {},
   "source": [
    "Producing a WordCloud gives us a visual representation of the amount each word in the \"full_text\" column in our DataFrame is being said."
   ]
  },
  {
   "cell_type": "code",
   "execution_count": 16,
   "metadata": {},
   "outputs": [
    {
     "data": {
      "application/vnd.plotly.v1+json": {
       "config": {
        "plotlyServerURL": "https://plot.ly"
       },
       "data": [
        {
         "lat": [
          61.0666922,
          30.2423325,
          null,
          33.6856969,
          39.7837304,
          54.596391,
          51.31485155,
          46.3144754,
          38.8950368,
          46.3144754,
          46.3144754,
          46.3144754,
          34.2331373,
          null,
          46.3144754,
          46.3144754,
          46.3144754,
          54.7023545,
          51.31485155,
          34.0536909,
          38.8950368,
          46.3144754,
          null,
          39.7837304,
          null,
          38.8950368,
          38.8950368,
          null,
          38.8950368,
          46.3144754,
          46.3144754,
          37.1232245,
          45.4641943,
          22.2793278,
          46.3144754,
          51.0333408,
          46.3144754,
          46.3144754,
          null,
          46.3144754,
          46.3144754,
          46.3144754,
          46.3144754,
          46.3144754,
          null,
          null,
          null,
          null,
          46.3144754,
          null,
          46.3144754,
          null,
          46.3144754,
          46.3144754,
          53.5120412,
          34.0536909,
          null,
          46.3144754,
          46.3144754,
          31.2638905,
          39.7837304,
          46.3144754,
          64.9841821,
          46.3144754,
          null,
          46.3144754,
          39.5162401,
          null,
          null,
          null,
          46.3144754,
          40.3491604,
          46.3144754,
          34.7465071,
          42.3554334,
          46.3144754,
          34.7465071,
          40.3491604,
          43.6534817,
          null,
          34.0194704,
          34.0194704,
          46.3144754,
          4.5962954,
          46.3144754,
          33.4000633,
          null,
          32.5686782,
          null,
          46.3144754,
          46.3144754,
          53.7584391,
          53.5120412,
          46.3144754,
          46.3144754,
          46.3144754,
          51.5073359,
          46.3144754,
          53.5120412,
          null,
          null,
          38.8950368,
          36.4738178,
          40.7127281,
          46.3144754,
          52.215933,
          41.589782,
          39.6262264,
          34.2331373,
          3.1516964,
          55.6786485,
          39.7837304,
          25.7741728,
          46.3144754,
          41.8755616,
          43.982063,
          46.3144754,
          39.7837304,
          43.0349931,
          52.2434979,
          46.3144754,
          39.7837304,
          6.3110548,
          30.2711286,
          46.3144754,
          null,
          46.3144754,
          46.3144754,
          38.8950368,
          null,
          null,
          46.3144754,
          38.8950368,
          null,
          null,
          38.8950368,
          30.2711286,
          46.3144754,
          46.3144754,
          46.3144754,
          46.3144754,
          46.3144754,
          32.3293809,
          51.5073359,
          46.3144754,
          35.6840574,
          33.6856969,
          38.8950368,
          31.2312707,
          46.3144754,
          46.3144754,
          46.3144754,
          40.6526006,
          19.37218875,
          46.3144754,
          57.7576706,
          21.2094892,
          34.2331373,
          31.2638905,
          46.3144754,
          19.37218875,
          null,
          32.3293809
         ],
         "lon": [
          -107.991707,
          -97.84316855,
          null,
          -117.8259819,
          -100.445882,
          -5.9301829,
          9.526185431742482,
          11.0480288,
          -77.0365427,
          11.0480288,
          11.0480288,
          11.0480288,
          -102.4107493,
          null,
          11.0480288,
          11.0480288,
          11.0480288,
          -3.2765753,
          9.526185431742482,
          -118.242766,
          -77.0365427,
          11.0480288,
          null,
          -100.445882,
          null,
          -77.0365427,
          -77.0365427,
          null,
          -77.0365427,
          11.0480288,
          11.0480288,
          -78.4927721,
          9.1896346,
          114.1628131,
          11.0480288,
          2.8647185,
          11.0480288,
          11.0480288,
          null,
          11.0480288,
          11.0480288,
          11.0480288,
          11.0480288,
          11.0480288,
          null,
          null,
          null,
          null,
          11.0480288,
          null,
          11.0480288,
          null,
          11.0480288,
          11.0480288,
          -2.2434612,
          -118.242766,
          null,
          11.0480288,
          11.0480288,
          -98.5456116,
          -100.445882,
          11.0480288,
          -18.1059013,
          11.0480288,
          null,
          11.0480288,
          -76.9382069,
          null,
          null,
          null,
          11.0480288,
          -84.1593008,
          11.0480288,
          -92.2896267,
          -71.060511,
          11.0480288,
          -92.2896267,
          -84.1593008,
          -79.3839347,
          null,
          -118.491227,
          -118.491227,
          11.0480288,
          -74.0944069,
          11.0480288,
          -91.0551312,
          null,
          74.071481,
          null,
          11.0480288,
          11.0480288,
          -2.6951861,
          -2.2434612,
          11.0480288,
          11.0480288,
          11.0480288,
          -0.12765,
          11.0480288,
          -2.2434612,
          null,
          null,
          -77.0365427,
          -86.1414298,
          -74.0060152,
          11.0480288,
          19.134422,
          -73.07858882598426,
          19.9036023,
          -102.4107493,
          101.6942371,
          12.5697826,
          -100.445882,
          -80.19362,
          11.0480288,
          -87.6244212,
          -117.238456,
          11.0480288,
          -100.445882,
          -87.922497,
          5.6343227,
          11.0480288,
          -100.445882,
          20.5447525,
          -97.7436995,
          11.0480288,
          null,
          11.0480288,
          11.0480288,
          -77.0365427,
          null,
          null,
          11.0480288,
          -77.0365427,
          null,
          null,
          -77.0365427,
          -97.7436995,
          11.0480288,
          11.0480288,
          11.0480288,
          11.0480288,
          11.0480288,
          -83.1137366,
          -0.12765,
          11.0480288,
          139.7744912,
          -117.8259819,
          -77.0365427,
          121.4700152,
          11.0480288,
          11.0480288,
          11.0480288,
          -73.9497211,
          -72.33465445105234,
          11.0480288,
          11.9910676,
          72.8317058,
          -102.4107493,
          -98.5456116,
          11.0480288,
          -72.33465445105234,
          null,
          -83.1137366
         ],
         "marker": {
          "colorscale": [
           [
            0,
            "rgb(243, 231, 155)"
           ],
           [
            0.16666666666666666,
            "rgb(250, 196, 132)"
           ],
           [
            0.3333333333333333,
            "rgb(248, 160, 126)"
           ],
           [
            0.5,
            "rgb(235, 127, 134)"
           ],
           [
            0.6666666666666666,
            "rgb(206, 102, 147)"
           ],
           [
            0.8333333333333334,
            "rgb(160, 89, 160)"
           ],
           [
            1,
            "rgb(92, 83, 165)"
           ]
          ],
          "opacity": 0.8,
          "size": 7.5,
          "symbol": "circle"
         },
         "mode": "markers",
         "text": [
          "<b>Name:</b> fuckitseominsoo<br><b>User Location:</b> Canada<br><b>Verified?</b> False<br><b>Date:</b> 2022-11-06<br><b>Tweet:</b> Despite no longer sponsoring OWL, you can still purchase Overwatch League branded Coca-Cola bottles on their website.\n\n🥤: https://t.co/im4CjQT2I5 https://t.co/coH2f4mhO0",
          "<b>Name:</b> OscarINTEL<br><b>User Location:</b> Overwatch<br><b>Verified?</b> False<br><b>Date:</b> 2021-08-05<br><b>Tweet:</b> State Farm and Coca Cola have paused their sponsorship of the Overwatch League amid the Activision Blizzard lawsuit controversy. \n\nWashington Post reports that both sponsors are \"reassessing\" their future with OWL. https://t.co/n6F5evGREl",
          "<b>Name:</b> Wowhead<br><b>User Location:</b> Azeroth & Sanctuary<br><b>Verified?</b> False<br><b>Date:</b> 2021-08-06<br><b>Tweet:</b> Several corporate sponsors of the Overwatch League are rethinking their relationships following the Activision Blizzard lawsuit. \n\nSo far, T-Mobile, State Farm insurance, and Coca-Cola have removed their advertisements from Overwatch League matches.\n\nhttps://t.co/cAm4gP9Yq8 https://t.co/OYGX2bLI0V",
          "<b>Name:</b> overwatchleague<br><b>User Location:</b> Irvine, CA<br><b>Verified?</b> False<br><b>Date:</b> 2021-09-27<br><b>Tweet:</b> Love is in the Overwatch League 💍\n\nProposals and adorable matching jerseys galore in this @CocaCola Community Feature! https://t.co/0sNFWXCyVm",
          "<b>Name:</b> jonunderscor<br><b>User Location:</b> United States<br><b>Verified?</b> False<br><b>Date:</b> 2023-05-22<br><b>Tweet:</b> What a great match there coming from the Coca-Cola Overwatch League. \n\nNow it's time for the Cheezits Groove Play of the Game Brought to you by our Sour Patch Kids Analyst Desk.\n\nHere's Jake Butterfinger, ready to tell you about the Bud Light Widowmaker kill on State Farm Kings R",
          "<b>Name:</b> BellularGaming<br><b>User Location:</b> Belfast, Northern Ireland 🇮🇪<br><b>Verified?</b> False<br><b>Date:</b> 2021-08-06<br><b>Tweet:</b> Coca-Cola have pulled sponsorship from Overwatch League.\n\nBobby Kotick is on the board of the Coca-Cola company. Awkward!",
          "<b>Name:</b> shdw_shock<br><b>User Location:</b> he/him<br><b>Verified?</b> False<br><b>Date:</b> 2021-09-04<br><b>Tweet:</b> coca cola is the official refreshment of the overwatch league https://t.co/Bd4zSxrmMQ",
          "<b>Name:</b> IGN<br><b>User Location:</b> nan<br><b>Verified?</b> False<br><b>Date:</b> 2021-08-06<br><b>Tweet:</b> Overwatch League sponsors like Coca-Cola and State Farm are stepping back to reevaluate their relationships. https://t.co/L5XxPb1QPA https://t.co/tY9XC9Jixw",
          "<b>Name:</b> TeddyAmen<br><b>User Location:</b> Washington, DC<br><b>Verified?</b> False<br><b>Date:</b> 2021-08-05<br><b>Tweet:</b> New from me: State Farm is pulling its ads from the Overwatch League and Coca-Cola says they're revisiting plans with Blizzard. \n\nMore fallout from the California lawsuit alleging widespread harassments and discrimination at Activision Blizzard. https://t.co/8F5kRD3WR3",
          "<b>Name:</b> IGN<br><b>User Location:</b> nan<br><b>Verified?</b> False<br><b>Date:</b> 2021-08-10<br><b>Tweet:</b> The Overwatch League has seen many of their sponsors pull out of their deals due to the ongoing Activision/Blizzard accusations. Is Coca-Cola next? And what could this mean for the future of the OWL? https://t.co/uxErJEqaJh https://t.co/BM8iRcilym",
          "<b>Name:</b> GameSpot<br><b>User Location:</b> nan<br><b>Verified?</b> False<br><b>Date:</b> 2021-08-07<br><b>Tweet:</b> Coca-Cola and State Farm are reconsidering their Overwatch League sponsorships in light of the allegations of sexual harassment and discrimination at Activision Blizzard. https://t.co/eWI8WYuqFf https://t.co/UvN5hGjrgG",
          "<b>Name:</b> VG247<br><b>User Location:</b> nan<br><b>Verified?</b> False<br><b>Date:</b> 2021-08-08<br><b>Tweet:</b> Coca-Cola, Kellogg, and State Farm are pulling back from the Overwatch League.\n\nhttps://t.co/lN3fPQRJzD https://t.co/CUNU5Ivq57",
          "<b>Name:</b> esports<br><b>User Location:</b> Earth<br><b>Verified?</b> False<br><b>Date:</b> 2021-08-09<br><b>Tweet:</b> And then there were three.\n\nLast week, as a result of the harassment lawsuit filed against Activision Blizzard, the Overwatch League shed all but three of its sponsors as only Xfinity, Coca-Cola, and TeamSpeak remain. \n\nStory by @Briggsycakes 💢 https://t.co/LHpI5FSrcP https://t.co/yFvLVbBTkg",
          "<b>Name:</b> nichegamer<br><b>User Location:</b> Become a member<br><b>Verified?</b> False<br><b>Date:</b> 2021-08-06<br><b>Tweet:</b> Coca-Cola and State Farm Reassessing Overwatch League Partnership Amid Activision Blizzard Sexual Harassment Lawsuit https://t.co/ecmafJnPXX https://t.co/jWH9xIc4ER",
          "<b>Name:</b> Overbuff<br><b>User Location:</b> nan<br><b>Verified?</b> False<br><b>Date:</b> 2021-08-05<br><b>Tweet:</b> Both State Farm and Coca-Cola are not out as advertisers yet, but are reportedly reassessing their sponsorship deals with the Overwatch League.\n\nState Farm has no ads running this weekend, and Coke is \"taking a step back.\"\n\nhttps://t.co/AuS6jrd20R",
          "<b>Name:</b> VG247<br><b>User Location:</b> nan<br><b>Verified?</b> False<br><b>Date:</b> 2021-08-06<br><b>Tweet:</b> Coca-Cola and State Farm are pulling back from the #OverwatchLeague \nhttps://t.co/lN3fPQA8I5 https://t.co/vb2TTmsOmw",
          "<b>Name:</b> OWUpdated<br><b>User Location:</b> nan<br><b>Verified?</b> False<br><b>Date:</b> 2022-03-21<br><b>Tweet:</b> Overwatch League has trouble getting new sponsors. Coca-Cola, Kellogg’s and State Farm paused/canceled their contracts. Therefore the Overwatch 2 e-sports scene could be much less relevant than the Overwatch 1 already is. \n\nThis is a big problem for Overwatch 2 and the franchise.",
          "<b>Name:</b> eurogamer<br><b>User Location:</b> United Kingdom<br><b>Verified?</b> False<br><b>Date:</b> 2021-08-06<br><b>Tweet:</b> Coca-Cola temporarily cans Overwatch League support amid discrimination lawsuit \nhttps://t.co/ZWhgqnwbud",
          "<b>Name:</b> shdw_shock<br><b>User Location:</b> he/him<br><b>Verified?</b> False<br><b>Date:</b> 2021-07-10<br><b>Tweet:</b> coca cola is the official refreshment of the overwatch league",
          "<b>Name:</b> JakeSucky<br><b>User Location:</b> Los Angeles, CA<br><b>Verified?</b> False<br><b>Date:</b> 2021-08-07<br><b>Tweet:</b> State Farm, Coca Cola, Kellogg’s, Pringles, Cheez It, and other sponsors have either stepped back or are reconsidering their partnerships with the Overwatch League\n\nExpect others to announce soon",
          "<b>Name:</b> GenePark<br><b>User Location:</b> Washington, DC<br><b>Verified?</b> False<br><b>Date:</b> 2021-08-05<br><b>Tweet:</b> Coca-Cola and State Farm are reassessing partnerships with Activision Blizzard’s Overwatch League. great story by @TeddyAmen \n\nhttps://t.co/XCqKsGVCo2",
          "<b>Name:</b> STONE_KING_X<br><b>User Location:</b> nan<br><b>Verified?</b> False<br><b>Date:</b> 2021-08-07<br><b>Tweet:</b> Coca-Cola, Kellogg, State Farm and T-Mobile are reassessing partnerships with Activision Blizzard’s Overwatch League.\n\nhttps://t.co/3JedV7Qczn\n\n#ActivisionBlizzard https://t.co/X8ChFR5x2a",
          "<b>Name:</b> Street24Mag<br><b>User Location:</b> Across The Globe<br><b>Verified?</b> False<br><b>Date:</b> 2021-08-06<br><b>Tweet:</b> Coca-Cola And State Farm Are Pulling Back From The Overwatch League - https://t.co/r0BDZwIhGn https://t.co/OP6pwrrvFx",
          "<b>Name:</b> Okami13_<br><b>User Location:</b> USA<br><b>Verified?</b> False<br><b>Date:</b> 2021-08-08<br><b>Tweet:</b> According to Overwatch leaker and content creator @Metro_OW, Overwatch 2 will likely not make its 2022 release date.\n\nT-Mobile, State Farm, and Coca-Cola recently pulled out of the Overwatch League after the recent allegations. https://t.co/6QJ8FTgpxi",
          "<b>Name:</b> jamesbardolph<br><b>User Location:</b> London / Los Angeles / Oceans<br><b>Verified?</b> False<br><b>Date:</b> 2023-07-19<br><b>Tweet:</b> I wonder what the views of the big non-endemic sponsors will be following their journey with Overwatch league, in terms of their experience with esports and the fallout.\n\nYou can find a list of them here, the likes of Coca Cola, Toyota and such.  https://t.co/NFVWqFnrOy",
          "<b>Name:</b> LeaderGrev<br><b>User Location:</b> Washington, DC<br><b>Verified?</b> False<br><b>Date:</b> 2022-03-17<br><b>Tweet:</b> The Overwatch League is coming back in May with NA's first in-person Overwatch match since 2020.\n\nSome big-name sponsors — Coca-Cola, Kellogg’s, State Farm and Comcast — are not returning. Last season, Comcast was the official ISP for the league.\nhttps://t.co/pSkBh1cYW3",
          "<b>Name:</b> markittystuff<br><b>User Location:</b> Washington, USA<br><b>Verified?</b> False<br><b>Date:</b> 2023-05-19<br><b>Tweet:</b> So unfortunate that Overwatch League lost all their sponsors cos if Coca-Cola was still a sponsor they could've called it Fanta™-Sea Picks it would've been so perfect.",
          "<b>Name:</b> Instinct_FPS<br><b>User Location:</b> Shores of Time<br><b>Verified?</b> False<br><b>Date:</b> 2021-09-26<br><b>Tweet:</b> Coca-Cola is the official refreshing beverage of the Overwatch League 🥺 #OWL2021 \n\nIT'S AN END OF ERA 😭😭😭😭😭😭",
          "<b>Name:</b> washingtonpost<br><b>User Location:</b> Washington, DC<br><b>Verified?</b> False<br><b>Date:</b> 2021-08-05<br><b>Tweet:</b> Amid harassment lawsuit, Coca Cola, State Farm pull back from Blizzard’s Overwatch League https://t.co/C4NL1BY3Qt",
          "<b>Name:</b> fontiago<br><b>User Location:</b> nan<br><b>Verified?</b> False<br><b>Date:</b> 2021-05-28<br><b>Tweet:</b> losing my absolute fucking mind watching OWL today and hearing \"this week on the overwatch league fan art gallery we would love you to try and submit your favorite overwatch league player enjoying a coca-cola beverage\" im flabbergasted",
          "<b>Name:</b> boybecauseofyou<br><b>User Location:</b> nan<br><b>Verified?</b> False<br><b>Date:</b> 2021-08-05<br><b>Tweet:</b> @CocaCola please don't punish the Overwatch League and their teams.\nKindly yours, a fan of owl and coca cola",
          "<b>Name:</b> Rose_THFC<br><b>User Location:</b> Virginia<br><b>Verified?</b> False<br><b>Date:</b> 2021-05-29<br><b>Tweet:</b> the overwatch league is brought to you by coca cola the official refreshment of the overwatch league and by IBM the official cloud and AI partner of the overwatch league",
          "<b>Name:</b> frostwolfst<br><b>User Location:</b> Milan, Italy<br><b>Verified?</b> False<br><b>Date:</b> 2021-08-06<br><b>Tweet:</b> Report: Coca-Cola and State Farm step away from Overwatch League sponsorship https://t.co/PXfZgrb0JW https://t.co/jmjeMBb87E",
          "<b>Name:</b> realgamecreeper<br><b>User Location:</b> Hong Kong<br><b>Verified?</b> False<br><b>Date:</b> 2021-08-06<br><b>Tweet:</b> Overwatch League sponsors like Coca-Cola and State Farm are stepping back to reevaluate their relationships. https://t.co/JKnTg9KkGX https://t.co/EMoCD9hvSq",
          "<b>Name:</b> ballsandbells<br><b>User Location:</b> nan<br><b>Verified?</b> False<br><b>Date:</b> 2021-08-05<br><b>Tweet:</b> Coca-Cola, State Farm Reconsidering Overwatch League Sponsorships - https://t.co/Pb1gCQWj8f https://t.co/PV4Sk6GHIa",
          "<b>Name:</b> AndyVermaut<br><b>User Location:</b> Diksmuide, België<br><b>Verified?</b> False<br><b>Date:</b> 2021-08-06<br><b>Tweet:</b> Coca-Cola and State Farm may pull ‘Overwatch’ League sponsorships https://t.co/PsOpulTEOU https://t.co/Gk7DHhMRB3",
          "<b>Name:</b> NewsItech<br><b>User Location:</b> nan<br><b>Verified?</b> False<br><b>Date:</b> 2021-08-05<br><b>Tweet:</b> Coca-Cola, State Farm Reconsidering Overwatch League Sponsorships https://t.co/rvf1QIjlmW",
          "<b>Name:</b> ballsandbells<br><b>User Location:</b> nan<br><b>Verified?</b> False<br><b>Date:</b> 2021-08-07<br><b>Tweet:</b> Coca-Cola and State Farm reassessing Overwatch League sponsorships - https://t.co/FFUJH3ueEj https://t.co/U9UpwhO2yY",
          "<b>Name:</b> lifelight_fps<br><b>User Location:</b> Canberra, Australia/Hanoi, VN<br><b>Verified?</b> False<br><b>Date:</b> 2022-04-03<br><b>Tweet:</b> @scottyzzzzzzz @baegle527 @jakeow of course I've tried coca cola, the former official refreshment of the overwatch league",
          "<b>Name:</b> Kotaku<br><b>User Location:</b> nan<br><b>Verified?</b> False<br><b>Date:</b> 2021-08-05<br><b>Tweet:</b> Coca-Cola and State Farm are reevaluating their Overwatch League sponsorships in the wake of the sexual harassment lawsuit against Activision Blizzard https://t.co/OyfpYZMKni https://t.co/COkLcDrZ8j",
          "<b>Name:</b> Kikkysan<br><b>User Location:</b> nan<br><b>Verified?</b> False<br><b>Date:</b> 2021-09-27<br><b>Tweet:</b> @overwatchleague @CocaCola Get you a duo who will watch overwatch league with you and take you to the homestands. Happily  gaming together for 11 years 💙 https://t.co/Mlxj9ZQkbX",
          "<b>Name:</b> Healz_Plix<br><b>User Location:</b> nan<br><b>Verified?</b> False<br><b>Date:</b> 2021-08-06<br><b>Tweet:</b> Several corporate sponsors of the Overwatch League are rethinking their relationships following the Activision Blizzard lawsuit. \n\nSo far, T-Mobile, State Farm insurance, and Coca-Cola have removed their advertisements from Overwatch League matches.\n\n… https://t.co/pR0Hz0PW27",
          "<b>Name:</b> jacob_fawcett_4<br><b>User Location:</b> nan<br><b>Verified?</b> False<br><b>Date:</b> 2021-08-06<br><b>Tweet:</b> Coca-Cola, State Farm Reconsidering Overwatch League Sponsorships",
          "<b>Name:</b> jonylj20<br><b>User Location:</b> nan<br><b>Verified?</b> False<br><b>Date:</b> 2021-08-05<br><b>Tweet:</b> Coca cola y State Farm se retiran como sponsors de la Overwatch League",
          "<b>Name:</b> RealKingYakko<br><b>User Location:</b> Your head, rent free :)<br><b>Verified?</b> False<br><b>Date:</b> 2023-02-11<br><b>Tweet:</b> Lame L cringe Pepsi should have been Coca-Cola, the official refreshment of the Overwatch League",
          "<b>Name:</b> RealKingYakko<br><b>User Location:</b> Your head, rent free :)<br><b>Verified?</b> False<br><b>Date:</b> 2023-01-01<br><b>Tweet:</b> @bubblesmeep BASED\n\nPersonally my go to is Coca-Cola, the official refreshment of the Overwatch League 😎",
          "<b>Name:</b> NargacugaBalls<br><b>User Location:</b> yassification murder shed 18<br><b>Verified?</b> False<br><b>Date:</b> 2022-01-03<br><b>Tweet:</b> Kerbal Space Program - NASA - Coca Cola - Overwatch - Activision-Blizzard - Call of Duty: Cold War - Amoeba (song by the Adolescents) - Grand Theft Auto V - Back to the Future - Rocket League - Fortnite",
          "<b>Name:</b> snoweenie<br><b>User Location:</b> videogames, rodents, music<br><b>Verified?</b> False<br><b>Date:</b> 2021-10-13<br><b>Tweet:</b> @godflict well overwatch league already had a coca cola sponsor but lost it i believe because of the whole blizzard shit, and vanilla wouldn’t be a good flavor. has to be something fruity or like an energy drink",
          "<b>Name:</b> Findsleep<br><b>User Location:</b> nan<br><b>Verified?</b> False<br><b>Date:</b> 2021-08-07<br><b>Tweet:</b> Overwatch League getting cancelled T-Mobile, Coca Cola and State Farm pulling back! Gays finally won ❤️☺️",
          "<b>Name:</b> NESbot_feed<br><b>User Location:</b> IRC/discord<br><b>Verified?</b> False<br><b>Date:</b> 2021-08-05<br><b>Tweet:</b> Amid Harassment Lawsuit, Coca Cola, State Farm Pull Back From Blizzard’s Overwatch League\nhttps://t.co/cyYlb5R6fh",
          "<b>Name:</b> RichieRTrades<br><b>User Location:</b> nan<br><b>Verified?</b> False<br><b>Date:</b> 2022-07-15<br><b>Tweet:</b> How much do we reckon this deal was worth? #GILD Coca-Cola signs multi-year deal sponsorship deal with Overwatch League https://t.co/u2OCo8G7pV",
          "<b>Name:</b> AhmadNorMaulana<br><b>User Location:</b> South Borneo, Indonesia<br><b>Verified?</b> False<br><b>Date:</b> 2021-08-05<br><b>Tweet:</b> Coca-Cola And State Farm Are Re-Evaluating Their Overwatch League Partnerships https://t.co/RTL1bFRaGV https://t.co/YROIQunndi",
          "<b>Name:</b> davidpremier<br><b>User Location:</b> nan<br><b>Verified?</b> False<br><b>Date:</b> 2021-08-06<br><b>Tweet:</b> Coca-Cola and State Farm reassessing Overwatch League sponsorships https://t.co/Z1aUl9a9Nv #CallofDuty #Commercial #Games #LatestNews #Markets https://t.co/TfWlHUYSDC",
          "<b>Name:</b> NewsZoneWeb1<br><b>User Location:</b> nan<br><b>Verified?</b> False<br><b>Date:</b> 2021-08-06<br><b>Tweet:</b> Coca-Cola and State Farm reportedly reconsidering Overwatch League deal https://t.co/Ls3BhmlJL4",
          "<b>Name:</b> bbnrworld<br><b>User Location:</b> Worldwide <br><b>Verified?</b> False<br><b>Date:</b> 2021-08-06<br><b>Tweet:</b> Coca-Cola and State Farm, are pulling back from the League Overwatch https://t.co/AUuIyHvsKc",
          "<b>Name:</b> BigJermHQ<br><b>User Location:</b> Los Angeles, California<br><b>Verified?</b> False<br><b>Date:</b> 2021-08-05<br><b>Tweet:</b> Coca-Cola, State Farm Reconsidering Overwatch League Sponsorships https://t.co/6JvDHtISLs #gamingnews https://t.co/HkDdgIbPug",
          "<b>Name:</b> qottonete<br><b>User Location:</b> Beatdown Boulevard<br><b>Verified?</b> False<br><b>Date:</b> 2021-07-15<br><b>Tweet:</b> @Outlaws @HEB @Crimzo \"Coca-Cola is the official refreshment of the Overwatch League.\"",
          "<b>Name:</b> PH7RAOH<br><b>User Location:</b> nan<br><b>Verified?</b> False<br><b>Date:</b> 2021-08-06<br><b>Tweet:</b> @Avast_o @SADO_OW @ChuckECheese Carrying not only the team but Overwatch League’s Coca-Cola sponsorship on his back",
          "<b>Name:</b> WorldWideTweet3<br><b>User Location:</b> nan<br><b>Verified?</b> False<br><b>Date:</b> 2021-08-06<br><b>Tweet:</b> Coca-Cola and State Farm reportedly reconsidering Overwatch League deal - https://t.co/spAi9CqJiV",
          "<b>Name:</b> Greatfulx<br><b>User Location:</b> Texas, USA<br><b>Verified?</b> False<br><b>Date:</b> 2021-12-02<br><b>Tweet:</b> Continuing on this the Overwatch League only has 2, CocaCola and TeamSpeak... jesus man acti/blizz really are shitting the best rn https://t.co/MjqrYpJTon",
          "<b>Name:</b> Noshii24<br><b>User Location:</b> United States<br><b>Verified?</b> False<br><b>Date:</b> 2021-09-27<br><b>Tweet:</b> @overwatchleague @BadPachimari @CocaCola Can’t be saying stuff like that @overwatchleague 🤭 https://t.co/NHpl76hpue",
          "<b>Name:</b> GyrotheGoat<br><b>User Location:</b> nan<br><b>Verified?</b> False<br><b>Date:</b> 2021-09-28<br><b>Tweet:</b> @overwatchleague @BadPachimari @CocaCola Owl SMM after bp predicted atlanta losing to glads https://t.co/nH4jC9zWJg",
          "<b>Name:</b> KLASSSI_OW<br><b>User Location:</b> Iceland<br><b>Verified?</b> False<br><b>Date:</b> 2021-09-28<br><b>Tweet:</b> @gurryelmars @overwatchleague @CocaCola Dababy?",
          "<b>Name:</b> MarkJones_1998<br><b>User Location:</b> nan<br><b>Verified?</b> False<br><b>Date:</b> 2021-09-27<br><b>Tweet:</b> @overwatchleague @BadPachimari @CocaCola owl smm woke up and chose violence today it seems",
          "<b>Name:</b> DISEROGG<br><b>User Location:</b> In a galaxy far far away<br><b>Verified?</b> False<br><b>Date:</b> 2021-09-29<br><b>Tweet:</b> @Res215dg @overwatchleague @CocaCola I have patience for some Seoul Jerseys thank you",
          "<b>Name:</b> MirrorkatFeces<br><b>User Location:</b> nan<br><b>Verified?</b> False<br><b>Date:</b> 2021-09-27<br><b>Tweet:</b> @overwatchleague @CocaCola Give Leave a MVP skin",
          "<b>Name:</b> _Spydergaming<br><b>User Location:</b> Maryland, USA<br><b>Verified?</b> False<br><b>Date:</b> 2021-09-27<br><b>Tweet:</b> @BadPachimari @overwatchleague @CocaCola https://t.co/7Mv2CqdlUy",
          "<b>Name:</b> ClearTogether<br><b>User Location:</b> USA | She/ Her | Lesbian<br><b>Verified?</b> False<br><b>Date:</b> 2021-09-27<br><b>Tweet:</b> @overwatchleague @AdvanceWarsDS @CocaCola these are sooo cute!! 🥺 so happy for these couples!! awww 💖💖",
          "<b>Name:</b> DISEROGG<br><b>User Location:</b> In a galaxy far far away<br><b>Verified?</b> False<br><b>Date:</b> 2021-09-28<br><b>Tweet:</b> @Res215dg @overwatchleague @CocaCola They are going to reopen the store?",
          "<b>Name:</b> SCALCH0PPIN<br><b>User Location:</b> Nuvema Town, Unova<br><b>Verified?</b> False<br><b>Date:</b> 2021-09-27<br><b>Tweet:</b> @BadPachimari @overwatchleague @CocaCola Who did you hurt on the OWL social media team????",
          "<b>Name:</b> redditOWL<br><b>User Location:</b> nan<br><b>Verified?</b> False<br><b>Date:</b> 2022-03-27<br><b>Tweet:</b> \"Coca-Cola and TeamSpeak OWL sponsorship is back? https://t.co/fbh8BgsKFC\" - Blue737 https://t.co/XGicj4priQ #OverwatchLeague",
          "<b>Name:</b> gurryelmars<br><b>User Location:</b> she<br><b>Verified?</b> False<br><b>Date:</b> 2021-09-27<br><b>Tweet:</b> @BragiEmil @overwatchleague @CocaCola literally🥺 half way there already",
          "<b>Name:</b> BragiEmil<br><b>User Location:</b> nan<br><b>Verified?</b> False<br><b>Date:</b> 2021-09-27<br><b>Tweet:</b> @gurryelmars @overwatchleague @CocaCola 20weeks already damn time flies.",
          "<b>Name:</b> HealsNKills<br><b>User Location:</b> Little Rock, AR<br><b>Verified?</b> False<br><b>Date:</b> 2022-09-28<br><b>Tweet:</b> @overwatchleague @WatchpointPride @CocaCola @TheOakenForest @NeekaTodd25 @WatchpointPride  Can't wait for our big moves with OW2!! ❤️😍 It's time to get the gang back together",
          "<b>Name:</b> FreyaSenshi<br><b>User Location:</b> Boston<br><b>Verified?</b> False<br><b>Date:</b> 2021-09-27<br><b>Tweet:</b> @overwatchleague @CocaCola me and who ahahaha",
          "<b>Name:</b> SaltyPhish<br><b>User Location:</b> nan<br><b>Verified?</b> False<br><b>Date:</b> 2021-09-27<br><b>Tweet:</b> @overwatchleague @CocaCola Stop being happily in love everyone!!",
          "<b>Name:</b> Old_Newspaper<br><b>User Location:</b> Little Rock, AR<br><b>Verified?</b> False<br><b>Date:</b> 2022-10-30<br><b>Tweet:</b> @lindsaycaudill @overwatchleague @Butterfinger We’ll slow the bandwagon down a little so you can jump back on, @CocaCola, but be quick about it. We’re going places.",
          "<b>Name:</b> gurryelmars<br><b>User Location:</b> she<br><b>Verified?</b> False<br><b>Date:</b> 2021-09-27<br><b>Tweet:</b> @overwatchleague @CocaCola i met my bf through an overwatch tournament💕we’re now 20weeks pregnant",
          "<b>Name:</b> mintyfreshlife<br><b>User Location:</b> Toronto, Canada<br><b>Verified?</b> False<br><b>Date:</b> 2021-09-27<br><b>Tweet:</b> @end_fps @overwatchleague @BadPachimari @CocaCola Absolute massacre",
          "<b>Name:</b> Mega36545552<br><b>User Location:</b> Weenie Hut Jrs<br><b>Verified?</b> False<br><b>Date:</b> 2021-05-08<br><b>Tweet:</b> @Fusion @Mano_OWL Coca-Cola the official refreshment of the Overwatch League",
          "<b>Name:</b> beiser2ryan<br><b>User Location:</b> Santa Monica, California<br><b>Verified?</b> False<br><b>Date:</b> 2021-08-06<br><b>Tweet:</b> Coca-Cola and State Farm may pull ‘Overwatch’ League sponsorships https://t.co/W8vgpGmRvy",
          "<b>Name:</b> beiser2ryan<br><b>User Location:</b> Santa Monica, California<br><b>Verified?</b> False<br><b>Date:</b> 2021-08-06<br><b>Tweet:</b> Coca-Cola and State Farm are pulling back from the Overwatch League https://t.co/0HueBFXxKL",
          "<b>Name:</b> RaweGame<br><b>User Location:</b> nan<br><b>Verified?</b> False<br><b>Date:</b> 2021-08-05<br><b>Tweet:</b> Coca-Cola, State Farm Reconsidering Overwatch League Sponsorships https://t.co/3JfbhjcRDX",
          "<b>Name:</b> TechnologyMani2<br><b>User Location:</b> SanFransisco<br><b>Verified?</b> False<br><b>Date:</b> 2021-08-06<br><b>Tweet:</b> Coca-Cola and State Farm are pulling back from the Overwatch League https://t.co/hIj6rsErt9",
          "<b>Name:</b> LegitGamersG<br><b>User Location:</b> nan<br><b>Verified?</b> False<br><b>Date:</b> 2021-08-06<br><b>Tweet:</b> Coca-Cola and State Farm reportedly reconsidering Overwatch League deal https://t.co/Z99ltLyq55",
          "<b>Name:</b> gregogaming43<br><b>User Location:</b> Greenville, MS<br><b>Verified?</b> False<br><b>Date:</b> 2021-08-06<br><b>Tweet:</b> Coca-Cola and State Farm reportedly reconsidering Overwatch League deal https://t.co/nQZm6okVR2",
          "<b>Name:</b> pumpa007<br><b>User Location:</b> Yorkshire and The Humber, Engl<br><b>Verified?</b> False<br><b>Date:</b> 2021-08-16<br><b>Tweet:</b> Coca-Cola, State Farm Reconsidering Overwatch League Sponsorships\nSome Overwatch League sponsors… \n#esports #gaming #gamer #fortnite #games #gamers #youtube #pc #pubgmobile  #memes #bhfyp https://t.co/aAw1nxdE8L https://t.co/ZAQkX4VE7B",
          "<b>Name:</b> ModXpresss<br><b>User Location:</b> Gujrat Pakistan<br><b>Verified?</b> False<br><b>Date:</b> 2021-08-05<br><b>Tweet:</b> Coca-Cola, State Farm Reconsidering Overwatch League Sponsorships https://t.co/Gk6imBYfId",
          "<b>Name:</b> MajorLinux<br><b>User Location:</b> https://toot.majorshouse.com/<br><b>Verified?</b> False<br><b>Date:</b> 2021-08-06<br><b>Tweet:</b> Jake from State Farm has had enough of this, too!\n\nCoca-Cola temporarily cans Overwatch League support amid discrimination lawsuit https://t.co/8yPZRF2vxa https://t.co/gQSbq09t23",
          "<b>Name:</b> NewzoramaGaming<br><b>User Location:</b> nan<br><b>Verified?</b> False<br><b>Date:</b> 2021-08-11<br><b>Tweet:</b> Coca-Cola, State Farm and More Reassessing Partnerships With Overwatch League - The Fix: Esports \n - \nhttps://t.co/AhpYDyahTg",
          "<b>Name:</b> GamesnGadgets09<br><b>User Location:</b> nan<br><b>Verified?</b> False<br><b>Date:</b> 2021-08-06<br><b>Tweet:</b> Coca-Cola, State Farm Reconsidering Overwatch League Sponsorships https://t.co/5ESIpX8pAD https://t.co/snEU6KBfvb",
          "<b>Name:</b> RedValoroso<br><b>User Location:</b> The Warehouse<br><b>Verified?</b> False<br><b>Date:</b> 2022-01-18<br><b>Tweet:</b> Overwatch League, in partnership with Coca-Cola and Windows 11, “the best place to play.”",
          "<b>Name:</b> gamerabble<br><b>User Location:</b> Worldwide<br><b>Verified?</b> False<br><b>Date:</b> 2021-08-06<br><b>Tweet:</b> Coca-Cola and State Farm reassessing Overwatch League sponsorships https://t.co/qhdbw377Q7",
          "<b>Name:</b> gatamchun<br><b>User Location:</b> nan<br><b>Verified?</b> False<br><b>Date:</b> 2021-07-12<br><b>Tweet:</b> OWL: Coca Cola is the official refreshment of the Overwatch League\nHusb: what about liquid Pringles Wavy?",
          "<b>Name:</b> themoreitdries<br><b>User Location:</b> nan<br><b>Verified?</b> False<br><b>Date:</b> 2021-07-02<br><b>Tweet:</b> @A2Ziegler What if it was a can of the official beverage of the Overwatch League, Coca-cola",
          "<b>Name:</b> Ari_Lover239<br><b>User Location:</b> nan<br><b>Verified?</b> False<br><b>Date:</b> 2021-08-05<br><b>Tweet:</b> Report: Coca-Cola and State Farm step away from Overwatch League sponsorship \n#Gaming  \nhttps://t.co/qphYgm6tXV",
          "<b>Name:</b> esportsinsider<br><b>User Location:</b> London, England<br><b>Verified?</b> False<br><b>Date:</b> 2021-08-06<br><b>Tweet:</b> Yesterday, it was revealed that State Farm and Coca-Cola are reevaluating its partnerships with Activision Blizzard’s Overwatch League.\n\nRead more here: https://t.co/Cn3M8Xl84F https://t.co/IjpSz8a5Cd",
          "<b>Name:</b> thetweetbud<br><b>User Location:</b> nan<br><b>Verified?</b> False<br><b>Date:</b> 2021-08-05<br><b>Tweet:</b> Report: Coca-Cola and State Farm step away from Overwatch League sponsorship \n#Gaming  \nhttps://t.co/Rta7rtgGSe",
          "<b>Name:</b> gamerabble<br><b>User Location:</b> Worldwide<br><b>Verified?</b> False<br><b>Date:</b> 2021-08-05<br><b>Tweet:</b> State Farm and Coca-Cola reportedly ‘reassessing’ partnerships with Activision Blizzard’s Overwatch League https://t.co/nWyI9gKuvc",
          "<b>Name:</b> overwatchreddit<br><b>User Location:</b> Watchpoint Gibraltar<br><b>Verified?</b> False<br><b>Date:</b> 2021-08-06<br><b>Tweet:</b> #overwatch https://t.co/FoU9fqVWUQ Amid harassment lawsuit, Coca Cola, State Farm pull back from Blizzard’s Overwatch League by /u/the_patman2017",
          "<b>Name:</b> GIBiz<br><b>User Location:</b> www.gamesindustry.biz<br><b>Verified?</b> False<br><b>Date:</b> 2021-08-06<br><b>Tweet:</b> Kellogg and State Farm no longer partners for Overwatch League; Coca-Cola says it will \"take a step back\" to reassess support\n\nhttps://t.co/IYEvTyyv1Y",
          "<b>Name:</b> washpostbiz<br><b>User Location:</b> Washington, D.C.<br><b>Verified?</b> False<br><b>Date:</b> 2021-08-05<br><b>Tweet:</b> Amid harassment lawsuit, Coca Cola, State Farm pull back from Blizzard’s Overwatch League https://t.co/cDRTiuOWyc",
          "<b>Name:</b> gamingandtips<br><b>User Location:</b> Echo Creek<br><b>Verified?</b> False<br><b>Date:</b> 2021-08-06<br><b>Tweet:</b> Coca-Cola temporarily cans Overwatch League support amid discrimination lawsuit(Read more at: https://t.co/g6vgkncV7g)",
          "<b>Name:</b> cuongcz<br><b>User Location:</b> New York, NY<br><b>Verified?</b> False<br><b>Date:</b> 2021-08-05<br><b>Tweet:</b> #ai #ml #artificialintelligence #machinelearning #datascience #bigdata #analytics #blockchain #tech #data @Nicochan33 @TrippBraden @Paula_Piccard @haroldsinnott @sallyeaves\nCoca-Cola And State Farm Are Re-Evaluating Their Overwatch League Partnerships https://t.co/9yEqdl4B31",
          "<b>Name:</b> misteruplay2016<br><b>User Location:</b> nan<br><b>Verified?</b> False<br><b>Date:</b> 2021-08-06<br><b>Tweet:</b> Coca-Cola and State Farm are pulling back from the Overwatch League https://t.co/jkumE0YpJW",
          "<b>Name:</b> raistand<br><b>User Location:</b> Polska<br><b>Verified?</b> False<br><b>Date:</b> 2021-08-07<br><b>Tweet:</b> Coca-Cola temporarily cans Overwatch League support amid discrimination lawsuit https://t.co/LqLzyfyprm",
          "<b>Name:</b> modcontrollerz<br><b>User Location:</b> Oakville Ct<br><b>Verified?</b> False<br><b>Date:</b> 2021-08-05<br><b>Tweet:</b> Coca-Cola, State Farm Reconsidering Overwatch League Sponsorships https://t.co/rJQzxEn3c3",
          "<b>Name:</b> Gaming_NN<br><b>User Location:</b> Everywhere<br><b>Verified?</b> False<br><b>Date:</b> 2021-08-06<br><b>Tweet:</b> Report: Coca-Cola and State Farm step away from Overwatch League sponsorship https://t.co/AnN6wmIYOr https://t.co/Sqi43YUmc5",
          "<b>Name:</b> GameRant<br><b>User Location:</b> Earth<br><b>Verified?</b> False<br><b>Date:</b> 2021-08-06<br><b>Tweet:</b> Coca-Cola and State Farm 'Reassessing' Activision Blizzard Partnership, Could Pull Overwatch League Sponsorships https://t.co/7Ft29IZP1F https://t.co/hBdUWW2X9y",
          "<b>Name:</b> Kakuchopurei<br><b>User Location:</b> Kuala Lumpur<br><b>Verified?</b> False<br><b>Date:</b> 2021-08-06<br><b>Tweet:</b> Major Sponsors Like Coca-Cola Are Pulling Back From Overwatch League https://t.co/ekoAgaAyyg",
          "<b>Name:</b> LauncherWP<br><b>User Location:</b> Capital Wasteland<br><b>Verified?</b> False<br><b>Date:</b> 2021-08-05<br><b>Tweet:</b> NEW: Coca-Cola and State Farm are reassessing partnerships with Activision Blizzard’s Overwatch League.\n\nReport by @TeddyAmen:\nhttps://t.co/C3x9coCHlh",
          "<b>Name:</b> TodayHeadline42<br><b>User Location:</b> United States<br><b>Verified?</b> False<br><b>Date:</b> 2021-08-06<br><b>Tweet:</b> Coca-Cola and State Farm are pulling back from the Overwatch League https://t.co/c9OPZCCQhF",
          "<b>Name:</b> SportsRants_<br><b>User Location:</b> Miami, Florida<br><b>Verified?</b> False<br><b>Date:</b> 2021-08-06<br><b>Tweet:</b> State Farm, Coca-Cola Re-Assessing Overwatch League Sponsorships https://t.co/EZDAodJHJ8 https://t.co/vRhlOtkArV",
          "<b>Name:</b> Planet_Smarts<br><b>User Location:</b> nan<br><b>Verified?</b> False<br><b>Date:</b> 2021-08-06<br><b>Tweet:</b> Overwatch League continues to lose endorsements: Coca-Cola and State Farm withdraw support for Blizzard after lawsuit https://t.co/a2z72IZyKJ",
          "<b>Name:</b> GamerIntel<br><b>User Location:</b> Chicago, IL USA<br><b>Verified?</b> False<br><b>Date:</b> 2021-08-05<br><b>Tweet:</b> Report: Coca-Cola and State Farm step away from Overwatch League sponsorship https://t.co/ghuIGbHLEM https://t.co/ypbjNmmxW0",
          "<b>Name:</b> mj_consultores<br><b>User Location:</b> vale<br><b>Verified?</b> False<br><b>Date:</b> 2021-08-06<br><b>Tweet:</b> Coca-Cola and State Farm reassessing Overwatch League sponsorships https://t.co/CvU8bCP31k vía @esportsinsider_ https://t.co/LCsrKxL1gW",
          "<b>Name:</b> Technology_Bits<br><b>User Location:</b> nan<br><b>Verified?</b> False<br><b>Date:</b> 2021-08-07<br><b>Tweet:</b> Amid harassment lawsuit, Coca Cola, State Farm pull back from Blizzard’s Overwatch League https://t.co/ifK1G28GiH https://t.co/NNaXQCZRgj",
          "<b>Name:</b> NormaDean<br><b>User Location:</b> USA<br><b>Verified?</b> False<br><b>Date:</b> 2021-08-05<br><b>Tweet:</b> “Coca-Cola, State Farm pull back from Overwatch League after Activision Blizzard lawsuit”\n\nYou love to see it. Activision has been in need of a reckoning for some time now. https://t.co/jfFPDTfDSs",
          "<b>Name:</b> AdamRobertsMKE<br><b>User Location:</b> Milwaukee, WI<br><b>Verified?</b> False<br><b>Date:</b> 2021-08-06<br><b>Tweet:</b> @WiscoGrant Hey Grant, first time long time here...do you think there's a long-term future for the Overwatch League even though both Coca Cola and State Farm have ended their sponsorships with the league? I'll take your thoughts off the air.",
          "<b>Name:</b> joeriwagner<br><b>User Location:</b> Nederland<br><b>Verified?</b> False<br><b>Date:</b> 2021-08-06<br><b>Tweet:</b> Coca Cola and State Farm are pulling back from Overwatch League\n\nhttps://t.co/gKXLUhmfw4 https://t.co/LGTPWcXe5e",
          "<b>Name:</b> 15MinuteNewsEnt<br><b>User Location:</b> nan<br><b>Verified?</b> False<br><b>Date:</b> 2021-08-06<br><b>Tweet:</b> Coca-Cola and State Farm may pull 'Overwatch' League sponsorships https://t.co/d3CcE01oUS #Music",
          "<b>Name:</b> RelaxingMusica5<br><b>User Location:</b> United States<br><b>Verified?</b> False<br><b>Date:</b> 2021-08-05<br><b>Tweet:</b> Coca-Cola and State Farm are pulling back from the Overwatch League https://t.co/a9RzU2piy3",
          "<b>Name:</b> EsportzGlobal<br><b>User Location:</b> UK <br><b>Verified?</b> False<br><b>Date:</b> 2021-08-06<br><b>Tweet:</b> Amid harassment lawsuit, Coca Cola, State Farm pull back from Blizzard’s Overwatch League.\nhttps://t.co/9gCsvnzfEf #gamingculture #esports  #esportsbusiness #esportsindustry #gaming #blizzard",
          "<b>Name:</b> Martell_Media<br><b>User Location:</b> Austin TX<br><b>Verified?</b> False<br><b>Date:</b> 2021-08-06<br><b>Tweet:</b> Coca-Cola and State Farm are 'reassessing' partnerships with Activision Blizzard’s Overwatch League\nhttps://t.co/0CHEMYwd9O",
          "<b>Name:</b> zimisss<br><b>User Location:</b> nan<br><b>Verified?</b> False<br><b>Date:</b> 2021-08-07<br><b>Tweet:</b> Coca-Cola temporarily cans Overwatch League support amid discrimination lawsuit: Coca-Cola is stepping back from its partnership with Activision Blizzard's Overwatch League, amid a lawsuit by the state of California over a \"frat boy\"… https://t.co/HLdjIJjQ35 #eSports #FPS https://t.co/iJChuKeott",
          "<b>Name:</b> EsportsPressUK<br><b>User Location:</b> UK Based/Global Reach<br><b>Verified?</b> False<br><b>Date:</b> 2021-08-06<br><b>Tweet:</b> Amid harassment lawsuit, Coca Cola, State Farm pull back from Blizzard’s Overwatch League.\nhttps://t.co/jfAa8jAwwn #gamingculture #esports  #esportsbusiness #esportsindustry #gaming #blizzard",
          "<b>Name:</b> Gaymeo<br><b>User Location:</b> nan<br><b>Verified?</b> False<br><b>Date:</b> 2021-08-06<br><b>Tweet:</b> Coca Cola, T-Mobile and more are all leaving the Overwatch League following the Activision Blizzard lawsuit.\n\nhttps://t.co/WJDH3rTMXg",
          "<b>Name:</b> GameSensedotCo<br><b>User Location:</b> nan<br><b>Verified?</b> False<br><b>Date:</b> 2021-08-07<br><b>Tweet:</b> Coca-Cola and State Farm are reassessing their partnerships with Activision Blizzard's Overwatch League, amid the company's sexual harassment and discrimination lawsuit.   #overwatch https://t.co/S07KKdeitU",
          "<b>Name:</b> TeddyAmen<br><b>User Location:</b> Washington, DC<br><b>Verified?</b> False<br><b>Date:</b> 2022-03-24<br><b>Tweet:</b> For the past few years, Coca-Cola has been the sponsor of Activision Blizzard's Overwatch League. Now, they're backing Riot.",
          "<b>Name:</b> adage<br><b>User Location:</b> NYC, Chicago, Los Angeles, USA<br><b>Verified?</b> False<br><b>Date:</b> 2021-08-06<br><b>Tweet:</b> State Farm, Coca-Cola and T-Mobile have all paused their marketing efforts with the video game publisher’s Overwatch League following a lawsuit against the company https://t.co/sqRVWp1OGi",
          "<b>Name:</b> drogon_dracarys<br><b>User Location:</b> Flying around USA<br><b>Verified?</b> False<br><b>Date:</b> 2021-08-05<br><b>Tweet:</b> Coca-Cola and State Farm are reassessing partnerships with Activision Blizzard’s Overwatch League \n\nThey are two of seven sponsors currently listed on the Overwatch League website. https://t.co/Bp1583XI6T",
          "<b>Name:</b> ForbesTech<br><b>User Location:</b> nan<br><b>Verified?</b> False<br><b>Date:</b> 2021-08-06<br><b>Tweet:</b> Coca-Cola and State Farm are reevaluating their Overwatch League partnerships https://t.co/hUVsHuDIQE by @krisholt",
          "<b>Name:</b> LeaderGrev<br><b>User Location:</b> Washington, DC<br><b>Verified?</b> False<br><b>Date:</b> 2021-08-05<br><b>Tweet:</b> Coca-Cola and State Farm told The Post they're reassessing partnerships with Activision Blizzard’s Overwatch League.\n\nBoth companies ran advertisements in matches earlier this week, though some other sponsors were conspicuously absent.\n\nNew, by @TeddyAmen:\nhttps://t.co/DcISAXRTdD",
          "<b>Name:</b> GamerMonkey_<br><b>User Location:</b> Online- Give Us A Follow!<br><b>Verified?</b> False<br><b>Date:</b> 2021-08-06<br><b>Tweet:</b> Report: Coca-Cola and State Farm step away from Overwatch League sponsorship https://t.co/LkB68Rviie",
          "<b>Name:</b> Gfinity<br><b>User Location:</b> The Gfinity Arena<br><b>Verified?</b> False<br><b>Date:</b> 2021-08-06<br><b>Tweet:</b> Coca Cola are stepping back from partnership with Overwatch League due to discrimination lawsuit\n\nhttps://t.co/XId8XtSuoM",
          "<b>Name:</b> TeddyAmen<br><b>User Location:</b> Washington, DC<br><b>Verified?</b> False<br><b>Date:</b> 2022-03-17<br><b>Tweet:</b> New for @LauncherWP w/ a scoop:\nI emailed every company that sponsored the Overwatch League last season. Coca-Cola, Kellogg’s, State Farm and Comcast don’t have plans to sponsor #OWL2022\n\nhttps://t.co/qrxW2hvvA9",
          "<b>Name:</b> camashta<br><b>User Location:</b> Austin, TX<br><b>Verified?</b> False<br><b>Date:</b> 2021-08-05<br><b>Tweet:</b> Amid harassment lawsuit, Coca Cola, State Farm pull back from Blizzard’s Overwatch League https://t.co/AuDv2pZSY0 https://t.co/knkfuqHhIL https://t.co/LzC4KGdRVm",
          "<b>Name:</b> boybecauseofyou<br><b>User Location:</b> nan<br><b>Verified?</b> False<br><b>Date:</b> 2021-08-07<br><b>Tweet:</b> @CocaCola Watching the Overwatch League",
          "<b>Name:</b> Magia_OW<br><b>User Location:</b> nan<br><b>Verified?</b> False<br><b>Date:</b> 2021-11-13<br><b>Tweet:</b> If we ever have another goats meta because OWL is sponsored by Coca-cola can we call it \"Diet Goats\" @overwatchleague",
          "<b>Name:</b> MercyWattson<br><b>User Location:</b> nan<br><b>Verified?</b> False<br><b>Date:</b> 2021-07-11<br><b>Tweet:</b> @VisorDaddy @overwatchleague @CocaCola @DallasFuel @ATLReign @BostonUprising @washjustice @ParisEternal @LAGladiators \"Gone. Reduced to atoms.\"",
          "<b>Name:</b> Whateva22948784<br><b>User Location:</b> nan<br><b>Verified?</b> False<br><b>Date:</b> 2021-08-06<br><b>Tweet:</b> @CocaCola @StateFarm @TMobile The news about Blizzard harassment are already bad for Overwatch League Viewers. Do not abandon us now.",
          "<b>Name:</b> Quote_nderscore<br><b>User Location:</b> nan<br><b>Verified?</b> False<br><b>Date:</b> 2021-07-17<br><b>Tweet:</b> @overwatchleague @ShanghaiDragons @ChengduHunters @CocaCola summoning circle, hope this works \n\n                       🕯\n              🕯              🕯\n        🕯                         🕯\n \n   🕯        Chengdu win     🕯\n\n        🕯                          🕯\n              🕯              🕯\n                        🕯",
          "<b>Name:</b> penguincosplay1<br><b>User Location:</b> Georgia, USA<br><b>Verified?</b> False<br><b>Date:</b> 2021-07-20<br><b>Tweet:</b> @overwatchleague @CocaCola Family through an through....\nWouldn't know where I would be without my @ATLRoyalFamily @MasqueradeRoyal... https://t.co/dXsEPt2BrG",
          "<b>Name:</b> BadPachimari<br><b>User Location:</b> London<br><b>Verified?</b> False<br><b>Date:</b> 2021-07-17<br><b>Tweet:</b> @overwatchleague @ShanghaiDragons @ChengduHunters @CocaCola no please. i didnt get any sleep last night",
          "<b>Name:</b> scriblax<br><b>User Location:</b> nan<br><b>Verified?</b> False<br><b>Date:</b> 2021-08-06<br><b>Tweet:</b> @Viddviddesan_ @ChristopherSpad @overwatchleague @MattMrX OWL have lost Coca Cola and statefarm sponsors and other 2 are planning to leave",
          "<b>Name:</b> jp_shujinkou<br><b>User Location:</b> 東京<br><b>Verified?</b> False<br><b>Date:</b> 2021-07-19<br><b>Tweet:</b> @overwatchleague @CocaCola @5DVNYC and @CURIEUXQUEEN are so awesome! \nEveryone was super welcoming every time I visited NY. Both the Barclays Grand Finals and the NYXL homestand are cherished memories.",
          "<b>Name:</b> overwatchleague<br><b>User Location:</b> Irvine, CA<br><b>Verified?</b> False<br><b>Date:</b> 2021-09-27<br><b>Tweet:</b> @BadPachimari @CocaCola It's okay BP, there's someone out there for you, somebody that will truly appreciate all of your incorrect OWL predictions.",
          "<b>Name:</b> washvicevirtue<br><b>User Location:</b> Washington, DC<br><b>Verified?</b> False<br><b>Date:</b> 2021-07-19<br><b>Tweet:</b> @overwatchleague @CocaCola Hey I know them @consuesue \nIf anyone wants info on the Washington justice support group let’s us know! #JusticeIsServed #justicefighting #vvdc",
          "<b>Name:</b> ShanghaiDragons<br><b>User Location:</b> Shanghai, China<br><b>Verified?</b> False<br><b>Date:</b> 2021-07-17<br><b>Tweet:</b> @overwatchleague @ChengduHunters @CocaCola Yeah we gotchu, no problem!",
          "<b>Name:</b> carloslimba<br><b>User Location:</b> nan<br><b>Verified?</b> False<br><b>Date:</b> 2021-08-09<br><b>Tweet:</b> @gamerwipe @OverwatchTXT @CocaCola @overwatchleague This is by far the less offensive thing Coca Cola has done in history. The use to kill union workers in third world countries…",
          "<b>Name:</b> Pixel__Byte<br><b>User Location:</b> nan<br><b>Verified?</b> False<br><b>Date:</b> 2022-03-19<br><b>Tweet:</b> Report: Two Months Before Return, Overwatch League Still Has No Sponsors https://t.co/yEhf2PEE2a #overwatch #overwatchleague #cocacola #activisionblizzard",
          "<b>Name:</b> redditOWL<br><b>User Location:</b> nan<br><b>Verified?</b> False<br><b>Date:</b> 2021-09-22<br><b>Tweet:</b> \"wait are coca-cola still sponsoring the OWL? saw this just now in the livestream and i got confused\" - gabot-gdolot https://t.co/a9HMY054C3 #OverwatchLeague",
          "<b>Name:</b> jrockway<br><b>User Location:</b> Brooklyn<br><b>Verified?</b> False<br><b>Date:</b> 2021-08-19<br><b>Tweet:</b> 2 weeks ago when Blizzard was in the news, @CocaCola  said they were going to pull out of sponsoring Overwatch League.  Go over to the OWL website, and they're still sponsors.  Slimy.",
          "<b>Name:</b> WhatsOnTwitch<br><b>User Location:</b> Internet<br><b>Verified?</b> False<br><b>Date:</b> 2021-08-09<br><b>Tweet:</b> Overwatch League could lose Coca-Cola and State Farm sponsorship amid Blizzard lawsuit https://t.co/ZUxmt0Xs7t https://t.co/5eqcLZx3mE",
          "<b>Name:</b> redditOWL<br><b>User Location:</b> nan<br><b>Verified?</b> False<br><b>Date:</b> 2021-08-07<br><b>Tweet:</b> \"Kellogg's have pulled the sponsorship from OWL leaving only xfinity, Coca Cola (who is reevaluating) and State Farm (who is also reevaluating)\" - Tacovargen https://t.co/C5PZFwxR1t #OverwatchLeague",
          "<b>Name:</b> sky5niper<br><b>User Location:</b> A ༯<br><b>Verified?</b> False<br><b>Date:</b> 2021-08-06<br><b>Tweet:</b> @tjsr @BillyDaMoose @CocaCola @TMobile @overwatchleague Well that is literally any competitive game and overwatch doesn’t even have it the worse lol. Also OWL is not comp games... it’s the best players competing and almost all of them enjoy it and are respectful",
          "<b>Name:</b> You_Deeptech<br><b>User Location:</b> Surat, India<br><b>Verified?</b> False<br><b>Date:</b> 2021-08-10<br><b>Tweet:</b> Coca-Cola, State Farm and More Reassessing Partnerships With Overwatch League – The Fix: Esports https://t.co/bGRvu6qlqd",
          "<b>Name:</b> meunboxing<br><b>User Location:</b> Earth <br><b>Verified?</b> False<br><b>Date:</b> 2021-08-06<br><b>Tweet:</b> Coca-Cola, State Farm Reconsidering Overwatch League Sponsorships https://t.co/oc4vV6i2DT https://t.co/qc4FaZ8Z4r",
          "<b>Name:</b> Dungeon00X<br><b>User Location:</b> Texas<br><b>Verified?</b> False<br><b>Date:</b> 2021-08-05<br><b>Tweet:</b> @Kotaku I'm surprised that an Overwatch league still exists after this. Also, Bobby Kotick is on the board of directors at Coca-cola!",
          "<b>Name:</b> EGamersWorld<br><b>User Location:</b> nan<br><b>Verified?</b> False<br><b>Date:</b> 2021-08-06<br><b>Tweet:</b> Coca-Cola and State Farm reconsider Overwatch League partnership\n\nThe organizations made this decision due to allegations of harassment and discrimination against Activision Blizzard.\n\nhttps://t.co/1jDmDZoXQw",
          "<b>Name:</b> mariuskarma<br><b>User Location:</b> internet<br><b>Verified?</b> False<br><b>Date:</b> 2021-08-07<br><b>Tweet:</b> ForbesTech: Coca-Cola and State Farm are reevaluating their Overwatch League partnerships https://t.co/KiyZTn5YYJ by @krisholt",
          "<b>Name:</b> jaymcastello<br><b>User Location:</b> jaymcastello [at] gmail.com<br><b>Verified?</b> False<br><b>Date:</b> 2021-08-05<br><b>Tweet:</b> @Vahn16 \"Both Coca-Cola and State Farm ran advertisements in Overwatch League matches earlier this week\" love to see brands take decisive and timely action",
          "<b>Name:</b> MsMoLogan<br><b>User Location:</b> Georgia, USA<br><b>Verified?</b> False<br><b>Date:</b> 2021-08-06<br><b>Tweet:</b> 👀 The Washington Post: Amid harassment lawsuit, Coca Cola, State Farm pull back from Blizzard's Overwatch League.\nhttps://t.co/lCiskYZnGV\n\nvia @GoogleNews"
         ],
         "type": "scattermapbox"
        }
       ],
       "layout": {
        "height": 650,
        "mapbox": {
         "center": {
          "lat": 46.3144754,
          "lon": 11.0480288
         },
         "style": "carto-positron",
         "zoom": 0.5
        },
        "template": {
         "data": {
          "bar": [
           {
            "error_x": {
             "color": "#2a3f5f"
            },
            "error_y": {
             "color": "#2a3f5f"
            },
            "marker": {
             "line": {
              "color": "#E5ECF6",
              "width": 0.5
             },
             "pattern": {
              "fillmode": "overlay",
              "size": 10,
              "solidity": 0.2
             }
            },
            "type": "bar"
           }
          ],
          "barpolar": [
           {
            "marker": {
             "line": {
              "color": "#E5ECF6",
              "width": 0.5
             },
             "pattern": {
              "fillmode": "overlay",
              "size": 10,
              "solidity": 0.2
             }
            },
            "type": "barpolar"
           }
          ],
          "carpet": [
           {
            "aaxis": {
             "endlinecolor": "#2a3f5f",
             "gridcolor": "white",
             "linecolor": "white",
             "minorgridcolor": "white",
             "startlinecolor": "#2a3f5f"
            },
            "baxis": {
             "endlinecolor": "#2a3f5f",
             "gridcolor": "white",
             "linecolor": "white",
             "minorgridcolor": "white",
             "startlinecolor": "#2a3f5f"
            },
            "type": "carpet"
           }
          ],
          "choropleth": [
           {
            "colorbar": {
             "outlinewidth": 0,
             "ticks": ""
            },
            "type": "choropleth"
           }
          ],
          "contour": [
           {
            "colorbar": {
             "outlinewidth": 0,
             "ticks": ""
            },
            "colorscale": [
             [
              0,
              "#0d0887"
             ],
             [
              0.1111111111111111,
              "#46039f"
             ],
             [
              0.2222222222222222,
              "#7201a8"
             ],
             [
              0.3333333333333333,
              "#9c179e"
             ],
             [
              0.4444444444444444,
              "#bd3786"
             ],
             [
              0.5555555555555556,
              "#d8576b"
             ],
             [
              0.6666666666666666,
              "#ed7953"
             ],
             [
              0.7777777777777778,
              "#fb9f3a"
             ],
             [
              0.8888888888888888,
              "#fdca26"
             ],
             [
              1,
              "#f0f921"
             ]
            ],
            "type": "contour"
           }
          ],
          "contourcarpet": [
           {
            "colorbar": {
             "outlinewidth": 0,
             "ticks": ""
            },
            "type": "contourcarpet"
           }
          ],
          "heatmap": [
           {
            "colorbar": {
             "outlinewidth": 0,
             "ticks": ""
            },
            "colorscale": [
             [
              0,
              "#0d0887"
             ],
             [
              0.1111111111111111,
              "#46039f"
             ],
             [
              0.2222222222222222,
              "#7201a8"
             ],
             [
              0.3333333333333333,
              "#9c179e"
             ],
             [
              0.4444444444444444,
              "#bd3786"
             ],
             [
              0.5555555555555556,
              "#d8576b"
             ],
             [
              0.6666666666666666,
              "#ed7953"
             ],
             [
              0.7777777777777778,
              "#fb9f3a"
             ],
             [
              0.8888888888888888,
              "#fdca26"
             ],
             [
              1,
              "#f0f921"
             ]
            ],
            "type": "heatmap"
           }
          ],
          "heatmapgl": [
           {
            "colorbar": {
             "outlinewidth": 0,
             "ticks": ""
            },
            "colorscale": [
             [
              0,
              "#0d0887"
             ],
             [
              0.1111111111111111,
              "#46039f"
             ],
             [
              0.2222222222222222,
              "#7201a8"
             ],
             [
              0.3333333333333333,
              "#9c179e"
             ],
             [
              0.4444444444444444,
              "#bd3786"
             ],
             [
              0.5555555555555556,
              "#d8576b"
             ],
             [
              0.6666666666666666,
              "#ed7953"
             ],
             [
              0.7777777777777778,
              "#fb9f3a"
             ],
             [
              0.8888888888888888,
              "#fdca26"
             ],
             [
              1,
              "#f0f921"
             ]
            ],
            "type": "heatmapgl"
           }
          ],
          "histogram": [
           {
            "marker": {
             "pattern": {
              "fillmode": "overlay",
              "size": 10,
              "solidity": 0.2
             }
            },
            "type": "histogram"
           }
          ],
          "histogram2d": [
           {
            "colorbar": {
             "outlinewidth": 0,
             "ticks": ""
            },
            "colorscale": [
             [
              0,
              "#0d0887"
             ],
             [
              0.1111111111111111,
              "#46039f"
             ],
             [
              0.2222222222222222,
              "#7201a8"
             ],
             [
              0.3333333333333333,
              "#9c179e"
             ],
             [
              0.4444444444444444,
              "#bd3786"
             ],
             [
              0.5555555555555556,
              "#d8576b"
             ],
             [
              0.6666666666666666,
              "#ed7953"
             ],
             [
              0.7777777777777778,
              "#fb9f3a"
             ],
             [
              0.8888888888888888,
              "#fdca26"
             ],
             [
              1,
              "#f0f921"
             ]
            ],
            "type": "histogram2d"
           }
          ],
          "histogram2dcontour": [
           {
            "colorbar": {
             "outlinewidth": 0,
             "ticks": ""
            },
            "colorscale": [
             [
              0,
              "#0d0887"
             ],
             [
              0.1111111111111111,
              "#46039f"
             ],
             [
              0.2222222222222222,
              "#7201a8"
             ],
             [
              0.3333333333333333,
              "#9c179e"
             ],
             [
              0.4444444444444444,
              "#bd3786"
             ],
             [
              0.5555555555555556,
              "#d8576b"
             ],
             [
              0.6666666666666666,
              "#ed7953"
             ],
             [
              0.7777777777777778,
              "#fb9f3a"
             ],
             [
              0.8888888888888888,
              "#fdca26"
             ],
             [
              1,
              "#f0f921"
             ]
            ],
            "type": "histogram2dcontour"
           }
          ],
          "mesh3d": [
           {
            "colorbar": {
             "outlinewidth": 0,
             "ticks": ""
            },
            "type": "mesh3d"
           }
          ],
          "parcoords": [
           {
            "line": {
             "colorbar": {
              "outlinewidth": 0,
              "ticks": ""
             }
            },
            "type": "parcoords"
           }
          ],
          "pie": [
           {
            "automargin": true,
            "type": "pie"
           }
          ],
          "scatter": [
           {
            "fillpattern": {
             "fillmode": "overlay",
             "size": 10,
             "solidity": 0.2
            },
            "type": "scatter"
           }
          ],
          "scatter3d": [
           {
            "line": {
             "colorbar": {
              "outlinewidth": 0,
              "ticks": ""
             }
            },
            "marker": {
             "colorbar": {
              "outlinewidth": 0,
              "ticks": ""
             }
            },
            "type": "scatter3d"
           }
          ],
          "scattercarpet": [
           {
            "marker": {
             "colorbar": {
              "outlinewidth": 0,
              "ticks": ""
             }
            },
            "type": "scattercarpet"
           }
          ],
          "scattergeo": [
           {
            "marker": {
             "colorbar": {
              "outlinewidth": 0,
              "ticks": ""
             }
            },
            "type": "scattergeo"
           }
          ],
          "scattergl": [
           {
            "marker": {
             "colorbar": {
              "outlinewidth": 0,
              "ticks": ""
             }
            },
            "type": "scattergl"
           }
          ],
          "scattermapbox": [
           {
            "marker": {
             "colorbar": {
              "outlinewidth": 0,
              "ticks": ""
             }
            },
            "type": "scattermapbox"
           }
          ],
          "scatterpolar": [
           {
            "marker": {
             "colorbar": {
              "outlinewidth": 0,
              "ticks": ""
             }
            },
            "type": "scatterpolar"
           }
          ],
          "scatterpolargl": [
           {
            "marker": {
             "colorbar": {
              "outlinewidth": 0,
              "ticks": ""
             }
            },
            "type": "scatterpolargl"
           }
          ],
          "scatterternary": [
           {
            "marker": {
             "colorbar": {
              "outlinewidth": 0,
              "ticks": ""
             }
            },
            "type": "scatterternary"
           }
          ],
          "surface": [
           {
            "colorbar": {
             "outlinewidth": 0,
             "ticks": ""
            },
            "colorscale": [
             [
              0,
              "#0d0887"
             ],
             [
              0.1111111111111111,
              "#46039f"
             ],
             [
              0.2222222222222222,
              "#7201a8"
             ],
             [
              0.3333333333333333,
              "#9c179e"
             ],
             [
              0.4444444444444444,
              "#bd3786"
             ],
             [
              0.5555555555555556,
              "#d8576b"
             ],
             [
              0.6666666666666666,
              "#ed7953"
             ],
             [
              0.7777777777777778,
              "#fb9f3a"
             ],
             [
              0.8888888888888888,
              "#fdca26"
             ],
             [
              1,
              "#f0f921"
             ]
            ],
            "type": "surface"
           }
          ],
          "table": [
           {
            "cells": {
             "fill": {
              "color": "#EBF0F8"
             },
             "line": {
              "color": "white"
             }
            },
            "header": {
             "fill": {
              "color": "#C8D4E3"
             },
             "line": {
              "color": "white"
             }
            },
            "type": "table"
           }
          ]
         },
         "layout": {
          "annotationdefaults": {
           "arrowcolor": "#2a3f5f",
           "arrowhead": 0,
           "arrowwidth": 1
          },
          "autotypenumbers": "strict",
          "coloraxis": {
           "colorbar": {
            "outlinewidth": 0,
            "ticks": ""
           }
          },
          "colorscale": {
           "diverging": [
            [
             0,
             "#8e0152"
            ],
            [
             0.1,
             "#c51b7d"
            ],
            [
             0.2,
             "#de77ae"
            ],
            [
             0.3,
             "#f1b6da"
            ],
            [
             0.4,
             "#fde0ef"
            ],
            [
             0.5,
             "#f7f7f7"
            ],
            [
             0.6,
             "#e6f5d0"
            ],
            [
             0.7,
             "#b8e186"
            ],
            [
             0.8,
             "#7fbc41"
            ],
            [
             0.9,
             "#4d9221"
            ],
            [
             1,
             "#276419"
            ]
           ],
           "sequential": [
            [
             0,
             "#0d0887"
            ],
            [
             0.1111111111111111,
             "#46039f"
            ],
            [
             0.2222222222222222,
             "#7201a8"
            ],
            [
             0.3333333333333333,
             "#9c179e"
            ],
            [
             0.4444444444444444,
             "#bd3786"
            ],
            [
             0.5555555555555556,
             "#d8576b"
            ],
            [
             0.6666666666666666,
             "#ed7953"
            ],
            [
             0.7777777777777778,
             "#fb9f3a"
            ],
            [
             0.8888888888888888,
             "#fdca26"
            ],
            [
             1,
             "#f0f921"
            ]
           ],
           "sequentialminus": [
            [
             0,
             "#0d0887"
            ],
            [
             0.1111111111111111,
             "#46039f"
            ],
            [
             0.2222222222222222,
             "#7201a8"
            ],
            [
             0.3333333333333333,
             "#9c179e"
            ],
            [
             0.4444444444444444,
             "#bd3786"
            ],
            [
             0.5555555555555556,
             "#d8576b"
            ],
            [
             0.6666666666666666,
             "#ed7953"
            ],
            [
             0.7777777777777778,
             "#fb9f3a"
            ],
            [
             0.8888888888888888,
             "#fdca26"
            ],
            [
             1,
             "#f0f921"
            ]
           ]
          },
          "colorway": [
           "#636efa",
           "#EF553B",
           "#00cc96",
           "#ab63fa",
           "#FFA15A",
           "#19d3f3",
           "#FF6692",
           "#B6E880",
           "#FF97FF",
           "#FECB52"
          ],
          "font": {
           "color": "#2a3f5f"
          },
          "geo": {
           "bgcolor": "white",
           "lakecolor": "white",
           "landcolor": "#E5ECF6",
           "showlakes": true,
           "showland": true,
           "subunitcolor": "white"
          },
          "hoverlabel": {
           "align": "left"
          },
          "hovermode": "closest",
          "mapbox": {
           "style": "light"
          },
          "paper_bgcolor": "white",
          "plot_bgcolor": "#E5ECF6",
          "polar": {
           "angularaxis": {
            "gridcolor": "white",
            "linecolor": "white",
            "ticks": ""
           },
           "bgcolor": "#E5ECF6",
           "radialaxis": {
            "gridcolor": "white",
            "linecolor": "white",
            "ticks": ""
           }
          },
          "scene": {
           "xaxis": {
            "backgroundcolor": "#E5ECF6",
            "gridcolor": "white",
            "gridwidth": 2,
            "linecolor": "white",
            "showbackground": true,
            "ticks": "",
            "zerolinecolor": "white"
           },
           "yaxis": {
            "backgroundcolor": "#E5ECF6",
            "gridcolor": "white",
            "gridwidth": 2,
            "linecolor": "white",
            "showbackground": true,
            "ticks": "",
            "zerolinecolor": "white"
           },
           "zaxis": {
            "backgroundcolor": "#E5ECF6",
            "gridcolor": "white",
            "gridwidth": 2,
            "linecolor": "white",
            "showbackground": true,
            "ticks": "",
            "zerolinecolor": "white"
           }
          },
          "shapedefaults": {
           "line": {
            "color": "#2a3f5f"
           }
          },
          "ternary": {
           "aaxis": {
            "gridcolor": "white",
            "linecolor": "white",
            "ticks": ""
           },
           "baxis": {
            "gridcolor": "white",
            "linecolor": "white",
            "ticks": ""
           },
           "bgcolor": "#E5ECF6",
           "caxis": {
            "gridcolor": "white",
            "linecolor": "white",
            "ticks": ""
           }
          },
          "title": {
           "x": 0.05
          },
          "xaxis": {
           "automargin": true,
           "gridcolor": "white",
           "linecolor": "white",
           "ticks": "",
           "title": {
            "standoff": 15
           },
           "zerolinecolor": "white",
           "zerolinewidth": 2
          },
          "yaxis": {
           "automargin": true,
           "gridcolor": "white",
           "linecolor": "white",
           "ticks": "",
           "title": {
            "standoff": 15
           },
           "zerolinecolor": "white",
           "zerolinewidth": 2
          }
         }
        },
        "title": {
         "text": "Locations of Overwatch League/Coca-Cola-related Tweets"
        },
        "width": 900
       }
      }
     },
     "metadata": {},
     "output_type": "display_data"
    }
   ],
   "source": [
    "# Create text hover template\n",
    "scatterhover = ('<b>Name:</b> ' + tweets_final['username'].astype(str) + '<br>' +\n",
    "                '<b>User Location:</b> ' + tweets_final['location'].astype(str) + '<br>' +\n",
    "                '<b>Verified?</b> ' + tweets_final['verified'].astype(str) + '<br>' +\n",
    "                '<b>Date:</b> ' + tweets_final['created_at'].astype(str) + '<br>' +\n",
    "                '<b>Tweet:</b> ' + tweets_final['full_text'].astype(str)\n",
    ")\n",
    "\n",
    "# Create a Scatter map figure with data for Locations of Overwatch League/Coca-Cola-related Tweets\n",
    "scattermap = go.Figure(go.Scattermapbox(lat=tweets_final['geometry'].y,\n",
    "                                        lon=tweets_final['geometry'].x,\n",
    "                                        mode='markers',\n",
    "                                        marker=dict(size=7.5,\n",
    "                                                    colorscale='sunset',\n",
    "                                                    opacity=0.8,\n",
    "                                                    symbol='circle'),\n",
    "                                        text=scatterhover)\n",
    ")\n",
    "\n",
    "# Set the layout of the Scatter map figure, including the title, the map attributes, the plot height and the plot width\n",
    "scattermap.update_layout(title='Locations of Overwatch League/Coca-Cola-related Tweets',\n",
    "                         mapbox=dict(style='carto-positron',\n",
    "                                     center=dict(lat=tweets_final['geometry'].y.median(),\n",
    "                                                 lon=tweets_final['geometry'].x.median()),\n",
    "                                     zoom=0.5),\n",
    "                         height=650,\n",
    "                         width=900\n",
    ")\n",
    "\n",
    "# Show the Scatter map figure\n",
    "scattermap.show()"
   ]
  },
  {
   "attachments": {},
   "cell_type": "markdown",
   "metadata": {},
   "source": [
    "Here we use a Scatter map. The scatter map is a visual representation of the geographical distribution of tweets related to the Overwatch League/Coca-Cola sponsorship. Using the Plotly library, and the Mapbox API, markers are placed on the map that correspond to the approximate location of each tweet and where it originated from. The map uses the 'carto-positron' Mapbox style, and uses the latitude and longitude coordinates, which are derived from the 'geometry' column in the dataset, to plot each tweet. This enables the scatter map to accurately position each tweet on a map of the world, providing a bird's-eye view of the global conversation around the sponsorship."
   ]
  },
  {
   "cell_type": "code",
   "execution_count": 17,
   "metadata": {},
   "outputs": [],
   "source": [
    "tweets_final['polarity']=0.0\n",
    "tweets_final['subjectivity']=0.0\n",
    "\n",
    "for i, row in tweets_final.iterrows():\n",
    "    text = row['full_text']\n",
    "\n",
    "    blob = TextBlob(text)\n",
    "    \n",
    "    polarity = blob.sentiment.polarity\n",
    "    subjectivity = blob.sentiment.subjectivity\n",
    "    \n",
    "    tweets_final.at[i, 'polarity'] = polarity\n",
    "    tweets_final.at[i, 'subjectivity'] = subjectivity"
   ]
  },
  {
   "cell_type": "code",
   "execution_count": 18,
   "metadata": {},
   "outputs": [
    {
     "data": {
      "text/html": [
       "<div>\n",
       "<style scoped>\n",
       "    .dataframe tbody tr th:only-of-type {\n",
       "        vertical-align: middle;\n",
       "    }\n",
       "\n",
       "    .dataframe tbody tr th {\n",
       "        vertical-align: top;\n",
       "    }\n",
       "\n",
       "    .dataframe thead th {\n",
       "        text-align: right;\n",
       "    }\n",
       "</style>\n",
       "<table border=\"1\" class=\"dataframe\">\n",
       "  <thead>\n",
       "    <tr style=\"text-align: right;\">\n",
       "      <th></th>\n",
       "      <th>username</th>\n",
       "      <th>polarity</th>\n",
       "      <th>subjectivity</th>\n",
       "    </tr>\n",
       "  </thead>\n",
       "  <tbody>\n",
       "    <tr>\n",
       "      <th>0</th>\n",
       "      <td>fuckitseominsoo</td>\n",
       "      <td>0.0000</td>\n",
       "      <td>0.000</td>\n",
       "    </tr>\n",
       "    <tr>\n",
       "      <th>1</th>\n",
       "      <td>OscarINTEL</td>\n",
       "      <td>0.0000</td>\n",
       "      <td>0.125</td>\n",
       "    </tr>\n",
       "    <tr>\n",
       "      <th>2</th>\n",
       "      <td>Wowhead</td>\n",
       "      <td>0.0250</td>\n",
       "      <td>0.275</td>\n",
       "    </tr>\n",
       "    <tr>\n",
       "      <th>3</th>\n",
       "      <td>overwatchleague</td>\n",
       "      <td>0.5625</td>\n",
       "      <td>0.800</td>\n",
       "    </tr>\n",
       "    <tr>\n",
       "      <th>4</th>\n",
       "      <td>jonunderscor</td>\n",
       "      <td>0.1700</td>\n",
       "      <td>0.490</td>\n",
       "    </tr>\n",
       "  </tbody>\n",
       "</table>\n",
       "</div>"
      ],
      "text/plain": [
       "          username  polarity  subjectivity\n",
       "0  fuckitseominsoo    0.0000         0.000\n",
       "1       OscarINTEL    0.0000         0.125\n",
       "2          Wowhead    0.0250         0.275\n",
       "3  overwatchleague    0.5625         0.800\n",
       "4     jonunderscor    0.1700         0.490"
      ]
     },
     "metadata": {},
     "output_type": "display_data"
    }
   ],
   "source": [
    "display(tweets_final.loc[:, ['username', 'polarity', 'subjectivity']].head())"
   ]
  },
  {
   "cell_type": "code",
   "execution_count": 19,
   "metadata": {},
   "outputs": [],
   "source": [
    "# Create text hover template to be used in future plots\n",
    "sentimenthover = ('<b>Name:</b> ' + tweets_final['username'].astype(str) + '<br>' +\n",
    "                  '<b>User Location:</b> ' + tweets_final['location'].astype(str) + '<br>' +\n",
    "                  '<b>Verified?</b> ' + tweets_final['verified'].astype(str) + '<br>' +\n",
    "                  '<b>Date:</b> ' + tweets_final['created_at'].astype(str) + '<br>' +\n",
    "                  '<b>Tweet:</b> ' + tweets_final['full_text'].astype(str) +\n",
    "                  '<b>Polarity:</b> ' + tweets_final['polarity'].astype(str) + '<br>' +\n",
    "                  '<b>Subjectivity:</b> ' + tweets_final['subjectivity'].astype(str)\n",
    ")"
   ]
  },
  {
   "attachments": {},
   "cell_type": "markdown",
   "metadata": {},
   "source": [
    "Sentiment analysis is a powerful tool that can help us understand the emotions and attitudes of people on social media towards the Overwatch League/Coca-Cola sponsorship. To perform sentiment analysis on the tweets dataset, we use the TextBlob library, a popular natural language processing tool in Python. TextBlob offers a range of features for text analysis, including sentiment analysis, which allows us to determine the positivity or negativity of a text, as well as the degree of personal opinion or emotion expressed.\n",
    "\n",
    "To calculate the Polarity and Subjectivity values for each tweet, we apply sentiment analysis to the text of each tweet. Polarity ranges from -1 to 1 and reflects the degree of positivity or negativity of a text, with 0 being neutral. Subjectivity ranges from 0 to 1 and reflects the degree of personal opinion or emotion expressed in a text, with 0 being objective and 1 being highly subjective.\n",
    "\n",
    "Sentiment analysis is not perfect, however. This is due to computers not having the ability to accurately detect sarcasm or irony, or to account for cultural or linguistic differences in the training data."
   ]
  },
  {
   "attachments": {},
   "cell_type": "markdown",
   "metadata": {},
   "source": [
    "##### Polarity"
   ]
  },
  {
   "cell_type": "code",
   "execution_count": 20,
   "metadata": {},
   "outputs": [
    {
     "data": {
      "application/vnd.plotly.v1+json": {
       "config": {
        "plotlyServerURL": "https://plot.ly"
       },
       "data": [
        {
         "alignmentgroup": "True",
         "bingroup": "x",
         "hovertemplate": "polarity=%{x}<br>count=%{y}<extra></extra>",
         "legendgroup": "",
         "marker": {
          "color": "#636efa",
          "pattern": {
           "shape": ""
          }
         },
         "name": "",
         "nbinsx": 20,
         "offsetgroup": "",
         "orientation": "v",
         "showlegend": false,
         "type": "histogram",
         "x": [
          0,
          0,
          0.025,
          0.5625,
          0.17,
          -0.75,
          0,
          0,
          0.3181818181818182,
          0.0125,
          0.45,
          0,
          0,
          0.5,
          0,
          0,
          0.03393939393939394,
          0,
          0,
          -0.0625,
          0.8,
          0,
          0,
          0,
          0,
          0.08333333333333333,
          0.25,
          0.5,
          0,
          0.22000000000000003,
          0.6,
          0,
          0,
          0,
          0,
          0,
          0,
          0,
          0,
          0.5,
          0.8,
          0.025,
          0,
          0,
          -0.5,
          0,
          -0.024999999999999994,
          0.2333333333333333,
          0,
          0,
          0.25,
          0,
          0,
          0,
          0,
          0,
          0,
          0,
          0,
          0.39999999999999997,
          0,
          0,
          0,
          0,
          0,
          0,
          0,
          0.7270833333333333,
          0,
          0.03333333333333333,
          0,
          -0.16666666666666666,
          0,
          0,
          0,
          0.78125,
          -0.061944444444444455,
          0.3333333333333333,
          0.2,
          0,
          0,
          0,
          0,
          0,
          0,
          0,
          0,
          0,
          0,
          0.5,
          0,
          1,
          0,
          0,
          0,
          0,
          0.5,
          0,
          0,
          0,
          0,
          0,
          0.5,
          0,
          0,
          0,
          0,
          0,
          0,
          0.03125,
          0.13636363636363635,
          0,
          0,
          0,
          0,
          0,
          0,
          0.25,
          0.06666666666666667,
          0,
          0,
          0,
          0,
          0,
          0,
          0,
          0.25,
          0.5,
          -0.225,
          -0.2,
          0,
          0,
          0.0037878787878787845,
          0,
          -0.0625,
          0.06818181818181818,
          0,
          0,
          0,
          0,
          -0.6999999999999998,
          0.8,
          0,
          0,
          -0.125,
          0.611111111111111,
          0.5,
          0.25,
          0,
          -0.022222222222222216,
          0,
          -0.4,
          0,
          0,
          0,
          0.31666666666666665,
          0.5,
          0,
          0.125,
          -0.125,
          0,
          0.19999999999999998,
          0
         ],
         "xaxis": "x",
         "yaxis": "y"
        }
       ],
       "layout": {
        "barmode": "relative",
        "legend": {
         "tracegroupgap": 0
        },
        "template": {
         "data": {
          "bar": [
           {
            "error_x": {
             "color": "#2a3f5f"
            },
            "error_y": {
             "color": "#2a3f5f"
            },
            "marker": {
             "line": {
              "color": "#E5ECF6",
              "width": 0.5
             },
             "pattern": {
              "fillmode": "overlay",
              "size": 10,
              "solidity": 0.2
             }
            },
            "type": "bar"
           }
          ],
          "barpolar": [
           {
            "marker": {
             "line": {
              "color": "#E5ECF6",
              "width": 0.5
             },
             "pattern": {
              "fillmode": "overlay",
              "size": 10,
              "solidity": 0.2
             }
            },
            "type": "barpolar"
           }
          ],
          "carpet": [
           {
            "aaxis": {
             "endlinecolor": "#2a3f5f",
             "gridcolor": "white",
             "linecolor": "white",
             "minorgridcolor": "white",
             "startlinecolor": "#2a3f5f"
            },
            "baxis": {
             "endlinecolor": "#2a3f5f",
             "gridcolor": "white",
             "linecolor": "white",
             "minorgridcolor": "white",
             "startlinecolor": "#2a3f5f"
            },
            "type": "carpet"
           }
          ],
          "choropleth": [
           {
            "colorbar": {
             "outlinewidth": 0,
             "ticks": ""
            },
            "type": "choropleth"
           }
          ],
          "contour": [
           {
            "colorbar": {
             "outlinewidth": 0,
             "ticks": ""
            },
            "colorscale": [
             [
              0,
              "#0d0887"
             ],
             [
              0.1111111111111111,
              "#46039f"
             ],
             [
              0.2222222222222222,
              "#7201a8"
             ],
             [
              0.3333333333333333,
              "#9c179e"
             ],
             [
              0.4444444444444444,
              "#bd3786"
             ],
             [
              0.5555555555555556,
              "#d8576b"
             ],
             [
              0.6666666666666666,
              "#ed7953"
             ],
             [
              0.7777777777777778,
              "#fb9f3a"
             ],
             [
              0.8888888888888888,
              "#fdca26"
             ],
             [
              1,
              "#f0f921"
             ]
            ],
            "type": "contour"
           }
          ],
          "contourcarpet": [
           {
            "colorbar": {
             "outlinewidth": 0,
             "ticks": ""
            },
            "type": "contourcarpet"
           }
          ],
          "heatmap": [
           {
            "colorbar": {
             "outlinewidth": 0,
             "ticks": ""
            },
            "colorscale": [
             [
              0,
              "#0d0887"
             ],
             [
              0.1111111111111111,
              "#46039f"
             ],
             [
              0.2222222222222222,
              "#7201a8"
             ],
             [
              0.3333333333333333,
              "#9c179e"
             ],
             [
              0.4444444444444444,
              "#bd3786"
             ],
             [
              0.5555555555555556,
              "#d8576b"
             ],
             [
              0.6666666666666666,
              "#ed7953"
             ],
             [
              0.7777777777777778,
              "#fb9f3a"
             ],
             [
              0.8888888888888888,
              "#fdca26"
             ],
             [
              1,
              "#f0f921"
             ]
            ],
            "type": "heatmap"
           }
          ],
          "heatmapgl": [
           {
            "colorbar": {
             "outlinewidth": 0,
             "ticks": ""
            },
            "colorscale": [
             [
              0,
              "#0d0887"
             ],
             [
              0.1111111111111111,
              "#46039f"
             ],
             [
              0.2222222222222222,
              "#7201a8"
             ],
             [
              0.3333333333333333,
              "#9c179e"
             ],
             [
              0.4444444444444444,
              "#bd3786"
             ],
             [
              0.5555555555555556,
              "#d8576b"
             ],
             [
              0.6666666666666666,
              "#ed7953"
             ],
             [
              0.7777777777777778,
              "#fb9f3a"
             ],
             [
              0.8888888888888888,
              "#fdca26"
             ],
             [
              1,
              "#f0f921"
             ]
            ],
            "type": "heatmapgl"
           }
          ],
          "histogram": [
           {
            "marker": {
             "pattern": {
              "fillmode": "overlay",
              "size": 10,
              "solidity": 0.2
             }
            },
            "type": "histogram"
           }
          ],
          "histogram2d": [
           {
            "colorbar": {
             "outlinewidth": 0,
             "ticks": ""
            },
            "colorscale": [
             [
              0,
              "#0d0887"
             ],
             [
              0.1111111111111111,
              "#46039f"
             ],
             [
              0.2222222222222222,
              "#7201a8"
             ],
             [
              0.3333333333333333,
              "#9c179e"
             ],
             [
              0.4444444444444444,
              "#bd3786"
             ],
             [
              0.5555555555555556,
              "#d8576b"
             ],
             [
              0.6666666666666666,
              "#ed7953"
             ],
             [
              0.7777777777777778,
              "#fb9f3a"
             ],
             [
              0.8888888888888888,
              "#fdca26"
             ],
             [
              1,
              "#f0f921"
             ]
            ],
            "type": "histogram2d"
           }
          ],
          "histogram2dcontour": [
           {
            "colorbar": {
             "outlinewidth": 0,
             "ticks": ""
            },
            "colorscale": [
             [
              0,
              "#0d0887"
             ],
             [
              0.1111111111111111,
              "#46039f"
             ],
             [
              0.2222222222222222,
              "#7201a8"
             ],
             [
              0.3333333333333333,
              "#9c179e"
             ],
             [
              0.4444444444444444,
              "#bd3786"
             ],
             [
              0.5555555555555556,
              "#d8576b"
             ],
             [
              0.6666666666666666,
              "#ed7953"
             ],
             [
              0.7777777777777778,
              "#fb9f3a"
             ],
             [
              0.8888888888888888,
              "#fdca26"
             ],
             [
              1,
              "#f0f921"
             ]
            ],
            "type": "histogram2dcontour"
           }
          ],
          "mesh3d": [
           {
            "colorbar": {
             "outlinewidth": 0,
             "ticks": ""
            },
            "type": "mesh3d"
           }
          ],
          "parcoords": [
           {
            "line": {
             "colorbar": {
              "outlinewidth": 0,
              "ticks": ""
             }
            },
            "type": "parcoords"
           }
          ],
          "pie": [
           {
            "automargin": true,
            "type": "pie"
           }
          ],
          "scatter": [
           {
            "fillpattern": {
             "fillmode": "overlay",
             "size": 10,
             "solidity": 0.2
            },
            "type": "scatter"
           }
          ],
          "scatter3d": [
           {
            "line": {
             "colorbar": {
              "outlinewidth": 0,
              "ticks": ""
             }
            },
            "marker": {
             "colorbar": {
              "outlinewidth": 0,
              "ticks": ""
             }
            },
            "type": "scatter3d"
           }
          ],
          "scattercarpet": [
           {
            "marker": {
             "colorbar": {
              "outlinewidth": 0,
              "ticks": ""
             }
            },
            "type": "scattercarpet"
           }
          ],
          "scattergeo": [
           {
            "marker": {
             "colorbar": {
              "outlinewidth": 0,
              "ticks": ""
             }
            },
            "type": "scattergeo"
           }
          ],
          "scattergl": [
           {
            "marker": {
             "colorbar": {
              "outlinewidth": 0,
              "ticks": ""
             }
            },
            "type": "scattergl"
           }
          ],
          "scattermapbox": [
           {
            "marker": {
             "colorbar": {
              "outlinewidth": 0,
              "ticks": ""
             }
            },
            "type": "scattermapbox"
           }
          ],
          "scatterpolar": [
           {
            "marker": {
             "colorbar": {
              "outlinewidth": 0,
              "ticks": ""
             }
            },
            "type": "scatterpolar"
           }
          ],
          "scatterpolargl": [
           {
            "marker": {
             "colorbar": {
              "outlinewidth": 0,
              "ticks": ""
             }
            },
            "type": "scatterpolargl"
           }
          ],
          "scatterternary": [
           {
            "marker": {
             "colorbar": {
              "outlinewidth": 0,
              "ticks": ""
             }
            },
            "type": "scatterternary"
           }
          ],
          "surface": [
           {
            "colorbar": {
             "outlinewidth": 0,
             "ticks": ""
            },
            "colorscale": [
             [
              0,
              "#0d0887"
             ],
             [
              0.1111111111111111,
              "#46039f"
             ],
             [
              0.2222222222222222,
              "#7201a8"
             ],
             [
              0.3333333333333333,
              "#9c179e"
             ],
             [
              0.4444444444444444,
              "#bd3786"
             ],
             [
              0.5555555555555556,
              "#d8576b"
             ],
             [
              0.6666666666666666,
              "#ed7953"
             ],
             [
              0.7777777777777778,
              "#fb9f3a"
             ],
             [
              0.8888888888888888,
              "#fdca26"
             ],
             [
              1,
              "#f0f921"
             ]
            ],
            "type": "surface"
           }
          ],
          "table": [
           {
            "cells": {
             "fill": {
              "color": "#EBF0F8"
             },
             "line": {
              "color": "white"
             }
            },
            "header": {
             "fill": {
              "color": "#C8D4E3"
             },
             "line": {
              "color": "white"
             }
            },
            "type": "table"
           }
          ]
         },
         "layout": {
          "annotationdefaults": {
           "arrowcolor": "#2a3f5f",
           "arrowhead": 0,
           "arrowwidth": 1
          },
          "autotypenumbers": "strict",
          "coloraxis": {
           "colorbar": {
            "outlinewidth": 0,
            "ticks": ""
           }
          },
          "colorscale": {
           "diverging": [
            [
             0,
             "#8e0152"
            ],
            [
             0.1,
             "#c51b7d"
            ],
            [
             0.2,
             "#de77ae"
            ],
            [
             0.3,
             "#f1b6da"
            ],
            [
             0.4,
             "#fde0ef"
            ],
            [
             0.5,
             "#f7f7f7"
            ],
            [
             0.6,
             "#e6f5d0"
            ],
            [
             0.7,
             "#b8e186"
            ],
            [
             0.8,
             "#7fbc41"
            ],
            [
             0.9,
             "#4d9221"
            ],
            [
             1,
             "#276419"
            ]
           ],
           "sequential": [
            [
             0,
             "#0d0887"
            ],
            [
             0.1111111111111111,
             "#46039f"
            ],
            [
             0.2222222222222222,
             "#7201a8"
            ],
            [
             0.3333333333333333,
             "#9c179e"
            ],
            [
             0.4444444444444444,
             "#bd3786"
            ],
            [
             0.5555555555555556,
             "#d8576b"
            ],
            [
             0.6666666666666666,
             "#ed7953"
            ],
            [
             0.7777777777777778,
             "#fb9f3a"
            ],
            [
             0.8888888888888888,
             "#fdca26"
            ],
            [
             1,
             "#f0f921"
            ]
           ],
           "sequentialminus": [
            [
             0,
             "#0d0887"
            ],
            [
             0.1111111111111111,
             "#46039f"
            ],
            [
             0.2222222222222222,
             "#7201a8"
            ],
            [
             0.3333333333333333,
             "#9c179e"
            ],
            [
             0.4444444444444444,
             "#bd3786"
            ],
            [
             0.5555555555555556,
             "#d8576b"
            ],
            [
             0.6666666666666666,
             "#ed7953"
            ],
            [
             0.7777777777777778,
             "#fb9f3a"
            ],
            [
             0.8888888888888888,
             "#fdca26"
            ],
            [
             1,
             "#f0f921"
            ]
           ]
          },
          "colorway": [
           "#636efa",
           "#EF553B",
           "#00cc96",
           "#ab63fa",
           "#FFA15A",
           "#19d3f3",
           "#FF6692",
           "#B6E880",
           "#FF97FF",
           "#FECB52"
          ],
          "font": {
           "color": "#2a3f5f"
          },
          "geo": {
           "bgcolor": "white",
           "lakecolor": "white",
           "landcolor": "#E5ECF6",
           "showlakes": true,
           "showland": true,
           "subunitcolor": "white"
          },
          "hoverlabel": {
           "align": "left"
          },
          "hovermode": "closest",
          "mapbox": {
           "style": "light"
          },
          "paper_bgcolor": "white",
          "plot_bgcolor": "#E5ECF6",
          "polar": {
           "angularaxis": {
            "gridcolor": "white",
            "linecolor": "white",
            "ticks": ""
           },
           "bgcolor": "#E5ECF6",
           "radialaxis": {
            "gridcolor": "white",
            "linecolor": "white",
            "ticks": ""
           }
          },
          "scene": {
           "xaxis": {
            "backgroundcolor": "#E5ECF6",
            "gridcolor": "white",
            "gridwidth": 2,
            "linecolor": "white",
            "showbackground": true,
            "ticks": "",
            "zerolinecolor": "white"
           },
           "yaxis": {
            "backgroundcolor": "#E5ECF6",
            "gridcolor": "white",
            "gridwidth": 2,
            "linecolor": "white",
            "showbackground": true,
            "ticks": "",
            "zerolinecolor": "white"
           },
           "zaxis": {
            "backgroundcolor": "#E5ECF6",
            "gridcolor": "white",
            "gridwidth": 2,
            "linecolor": "white",
            "showbackground": true,
            "ticks": "",
            "zerolinecolor": "white"
           }
          },
          "shapedefaults": {
           "line": {
            "color": "#2a3f5f"
           }
          },
          "ternary": {
           "aaxis": {
            "gridcolor": "white",
            "linecolor": "white",
            "ticks": ""
           },
           "baxis": {
            "gridcolor": "white",
            "linecolor": "white",
            "ticks": ""
           },
           "bgcolor": "#E5ECF6",
           "caxis": {
            "gridcolor": "white",
            "linecolor": "white",
            "ticks": ""
           }
          },
          "title": {
           "x": 0.05
          },
          "xaxis": {
           "automargin": true,
           "gridcolor": "white",
           "linecolor": "white",
           "ticks": "",
           "title": {
            "standoff": 15
           },
           "zerolinecolor": "white",
           "zerolinewidth": 2
          },
          "yaxis": {
           "automargin": true,
           "gridcolor": "white",
           "linecolor": "white",
           "ticks": "",
           "title": {
            "standoff": 15
           },
           "zerolinecolor": "white",
           "zerolinewidth": 2
          }
         }
        },
        "title": {
         "text": "Polarity of Overwatch League/Coca-Cola-related Tweets"
        },
        "width": 900,
        "xaxis": {
         "anchor": "y",
         "domain": [
          0,
          1
         ],
         "title": {
          "text": "polarity"
         }
        },
        "yaxis": {
         "anchor": "x",
         "domain": [
          0,
          1
         ],
         "title": {
          "text": "count"
         }
        }
       }
      }
     },
     "metadata": {},
     "output_type": "display_data"
    }
   ],
   "source": [
    "# Create a Histogram figure with data for Polarity of Overwatch League/Coca-Cola-related Tweets\n",
    "polhist=px.histogram(tweets_final,\n",
    "                     x='polarity',\n",
    "                     nbins=20,\n",
    "                     title='Polarity of Overwatch League/Coca-Cola-related Tweets',\n",
    "                     width=900)\n",
    "\n",
    "# Show the Histogram figure\n",
    "polhist.show()"
   ]
  },
  {
   "attachments": {},
   "cell_type": "markdown",
   "metadata": {},
   "source": [
    "Using a histogram, from the Plotly library, specifically Plotly Express, we can visualise the polarity data from the sentiment analysis we applied to the dataset. The histogram is skewed towards the center, with the majority of the tweets having a polarity score of 0, indicating a neutral sentiment towards the Overwatch League/Coca-Cola sponsorship. The histogram also shows that there are a small number of tweets with a negative polarity score (less than 0) and some tweets with a positive polarity score (greater than 0), indicating mixed sentiments among some Twitter users regarding the sponsorship. Overall, the histogram provides a clear representation of the sentiment distribution among Twitter users in relation to the Overwatch League/Coca-Cola sponsorship."
   ]
  },
  {
   "cell_type": "code",
   "execution_count": 21,
   "metadata": {},
   "outputs": [
    {
     "data": {
      "application/vnd.plotly.v1+json": {
       "config": {
        "plotlyServerURL": "https://plot.ly"
       },
       "data": [
        {
         "lat": [
          61.0666922,
          30.2423325,
          null,
          33.6856969,
          39.7837304,
          54.596391,
          51.31485155,
          46.3144754,
          38.8950368,
          46.3144754,
          46.3144754,
          46.3144754,
          34.2331373,
          null,
          46.3144754,
          46.3144754,
          46.3144754,
          54.7023545,
          51.31485155,
          34.0536909,
          38.8950368,
          46.3144754,
          null,
          39.7837304,
          null,
          38.8950368,
          38.8950368,
          null,
          38.8950368,
          46.3144754,
          46.3144754,
          37.1232245,
          45.4641943,
          22.2793278,
          46.3144754,
          51.0333408,
          46.3144754,
          46.3144754,
          null,
          46.3144754,
          46.3144754,
          46.3144754,
          46.3144754,
          46.3144754,
          null,
          null,
          null,
          null,
          46.3144754,
          null,
          46.3144754,
          null,
          46.3144754,
          46.3144754,
          53.5120412,
          34.0536909,
          null,
          46.3144754,
          46.3144754,
          31.2638905,
          39.7837304,
          46.3144754,
          64.9841821,
          46.3144754,
          null,
          46.3144754,
          39.5162401,
          null,
          null,
          null,
          46.3144754,
          40.3491604,
          46.3144754,
          34.7465071,
          42.3554334,
          46.3144754,
          34.7465071,
          40.3491604,
          43.6534817,
          null,
          34.0194704,
          34.0194704,
          46.3144754,
          4.5962954,
          46.3144754,
          33.4000633,
          null,
          32.5686782,
          null,
          46.3144754,
          46.3144754,
          53.7584391,
          53.5120412,
          46.3144754,
          46.3144754,
          46.3144754,
          51.5073359,
          46.3144754,
          53.5120412,
          null,
          null,
          38.8950368,
          36.4738178,
          40.7127281,
          46.3144754,
          52.215933,
          41.589782,
          39.6262264,
          34.2331373,
          3.1516964,
          55.6786485,
          39.7837304,
          25.7741728,
          46.3144754,
          41.8755616,
          43.982063,
          46.3144754,
          39.7837304,
          43.0349931,
          52.2434979,
          46.3144754,
          39.7837304,
          6.3110548,
          30.2711286,
          46.3144754,
          null,
          46.3144754,
          46.3144754,
          38.8950368,
          null,
          null,
          46.3144754,
          38.8950368,
          null,
          null,
          38.8950368,
          30.2711286,
          46.3144754,
          46.3144754,
          46.3144754,
          46.3144754,
          46.3144754,
          32.3293809,
          51.5073359,
          46.3144754,
          35.6840574,
          33.6856969,
          38.8950368,
          31.2312707,
          46.3144754,
          46.3144754,
          46.3144754,
          40.6526006,
          19.37218875,
          46.3144754,
          57.7576706,
          21.2094892,
          34.2331373,
          31.2638905,
          46.3144754,
          19.37218875,
          null,
          32.3293809
         ],
         "lon": [
          -107.991707,
          -97.84316855,
          null,
          -117.8259819,
          -100.445882,
          -5.9301829,
          9.526185431742482,
          11.0480288,
          -77.0365427,
          11.0480288,
          11.0480288,
          11.0480288,
          -102.4107493,
          null,
          11.0480288,
          11.0480288,
          11.0480288,
          -3.2765753,
          9.526185431742482,
          -118.242766,
          -77.0365427,
          11.0480288,
          null,
          -100.445882,
          null,
          -77.0365427,
          -77.0365427,
          null,
          -77.0365427,
          11.0480288,
          11.0480288,
          -78.4927721,
          9.1896346,
          114.1628131,
          11.0480288,
          2.8647185,
          11.0480288,
          11.0480288,
          null,
          11.0480288,
          11.0480288,
          11.0480288,
          11.0480288,
          11.0480288,
          null,
          null,
          null,
          null,
          11.0480288,
          null,
          11.0480288,
          null,
          11.0480288,
          11.0480288,
          -2.2434612,
          -118.242766,
          null,
          11.0480288,
          11.0480288,
          -98.5456116,
          -100.445882,
          11.0480288,
          -18.1059013,
          11.0480288,
          null,
          11.0480288,
          -76.9382069,
          null,
          null,
          null,
          11.0480288,
          -84.1593008,
          11.0480288,
          -92.2896267,
          -71.060511,
          11.0480288,
          -92.2896267,
          -84.1593008,
          -79.3839347,
          null,
          -118.491227,
          -118.491227,
          11.0480288,
          -74.0944069,
          11.0480288,
          -91.0551312,
          null,
          74.071481,
          null,
          11.0480288,
          11.0480288,
          -2.6951861,
          -2.2434612,
          11.0480288,
          11.0480288,
          11.0480288,
          -0.12765,
          11.0480288,
          -2.2434612,
          null,
          null,
          -77.0365427,
          -86.1414298,
          -74.0060152,
          11.0480288,
          19.134422,
          -73.07858882598426,
          19.9036023,
          -102.4107493,
          101.6942371,
          12.5697826,
          -100.445882,
          -80.19362,
          11.0480288,
          -87.6244212,
          -117.238456,
          11.0480288,
          -100.445882,
          -87.922497,
          5.6343227,
          11.0480288,
          -100.445882,
          20.5447525,
          -97.7436995,
          11.0480288,
          null,
          11.0480288,
          11.0480288,
          -77.0365427,
          null,
          null,
          11.0480288,
          -77.0365427,
          null,
          null,
          -77.0365427,
          -97.7436995,
          11.0480288,
          11.0480288,
          11.0480288,
          11.0480288,
          11.0480288,
          -83.1137366,
          -0.12765,
          11.0480288,
          139.7744912,
          -117.8259819,
          -77.0365427,
          121.4700152,
          11.0480288,
          11.0480288,
          11.0480288,
          -73.9497211,
          -72.33465445105234,
          11.0480288,
          11.9910676,
          72.8317058,
          -102.4107493,
          -98.5456116,
          11.0480288,
          -72.33465445105234,
          null,
          -83.1137366
         ],
         "marker": {
          "color": [
           0,
           0,
           0.025,
           0.5625,
           0.17,
           -0.75,
           0,
           0,
           0.3181818181818182,
           0.0125,
           0.45,
           0,
           0,
           0.5,
           0,
           0,
           0.03393939393939394,
           0,
           0,
           -0.0625,
           0.8,
           0,
           0,
           0,
           0,
           0.08333333333333333,
           0.25,
           0.5,
           0,
           0.22000000000000003,
           0.6,
           0,
           0,
           0,
           0,
           0,
           0,
           0,
           0,
           0.5,
           0.8,
           0.025,
           0,
           0,
           -0.5,
           0,
           -0.024999999999999994,
           0.2333333333333333,
           0,
           0,
           0.25,
           0,
           0,
           0,
           0,
           0,
           0,
           0,
           0,
           0.39999999999999997,
           0,
           0,
           0,
           0,
           0,
           0,
           0,
           0.7270833333333333,
           0,
           0.03333333333333333,
           0,
           -0.16666666666666666,
           0,
           0,
           0,
           0.78125,
           -0.061944444444444455,
           0.3333333333333333,
           0.2,
           0,
           0,
           0,
           0,
           0,
           0,
           0,
           0,
           0,
           0,
           0.5,
           0,
           1,
           0,
           0,
           0,
           0,
           0.5,
           0,
           0,
           0,
           0,
           0,
           0.5,
           0,
           0,
           0,
           0,
           0,
           0,
           0.03125,
           0.13636363636363635,
           0,
           0,
           0,
           0,
           0,
           0,
           0.25,
           0.06666666666666667,
           0,
           0,
           0,
           0,
           0,
           0,
           0,
           0.25,
           0.5,
           -0.225,
           -0.2,
           0,
           0,
           0.0037878787878787845,
           0,
           -0.0625,
           0.06818181818181818,
           0,
           0,
           0,
           0,
           -0.6999999999999998,
           0.8,
           0,
           0,
           -0.125,
           0.611111111111111,
           0.5,
           0.25,
           0,
           -0.022222222222222216,
           0,
           -0.4,
           0,
           0,
           0,
           0.31666666666666665,
           0.5,
           0,
           0.125,
           -0.125,
           0,
           0.19999999999999998,
           0
          ],
          "colorbar": {
           "title": {
            "text": "Polarity"
           }
          },
          "colorscale": [
           [
            0,
            "rgb(243, 231, 155)"
           ],
           [
            0.16666666666666666,
            "rgb(250, 196, 132)"
           ],
           [
            0.3333333333333333,
            "rgb(248, 160, 126)"
           ],
           [
            0.5,
            "rgb(235, 127, 134)"
           ],
           [
            0.6666666666666666,
            "rgb(206, 102, 147)"
           ],
           [
            0.8333333333333334,
            "rgb(160, 89, 160)"
           ],
           [
            1,
            "rgb(92, 83, 165)"
           ]
          ],
          "opacity": 0.7,
          "size": 7.5
         },
         "mode": "markers",
         "text": [
          "<b>Name:</b> fuckitseominsoo<br><b>User Location:</b> Canada<br><b>Verified?</b> False<br><b>Date:</b> 2022-11-06<br><b>Tweet:</b> Despite no longer sponsoring OWL, you can still purchase Overwatch League branded Coca-Cola bottles on their website.\n\n🥤: https://t.co/im4CjQT2I5 https://t.co/coH2f4mhO0<b>Polarity:</b> 0.0<br><b>Subjectivity:</b> 0.0",
          "<b>Name:</b> OscarINTEL<br><b>User Location:</b> Overwatch<br><b>Verified?</b> False<br><b>Date:</b> 2021-08-05<br><b>Tweet:</b> State Farm and Coca Cola have paused their sponsorship of the Overwatch League amid the Activision Blizzard lawsuit controversy. \n\nWashington Post reports that both sponsors are \"reassessing\" their future with OWL. https://t.co/n6F5evGREl<b>Polarity:</b> 0.0<br><b>Subjectivity:</b> 0.125",
          "<b>Name:</b> Wowhead<br><b>User Location:</b> Azeroth & Sanctuary<br><b>Verified?</b> False<br><b>Date:</b> 2021-08-06<br><b>Tweet:</b> Several corporate sponsors of the Overwatch League are rethinking their relationships following the Activision Blizzard lawsuit. \n\nSo far, T-Mobile, State Farm insurance, and Coca-Cola have removed their advertisements from Overwatch League matches.\n\nhttps://t.co/cAm4gP9Yq8 https://t.co/OYGX2bLI0V<b>Polarity:</b> 0.025<br><b>Subjectivity:</b> 0.275",
          "<b>Name:</b> overwatchleague<br><b>User Location:</b> Irvine, CA<br><b>Verified?</b> False<br><b>Date:</b> 2021-09-27<br><b>Tweet:</b> Love is in the Overwatch League 💍\n\nProposals and adorable matching jerseys galore in this @CocaCola Community Feature! https://t.co/0sNFWXCyVm<b>Polarity:</b> 0.5625<br><b>Subjectivity:</b> 0.8",
          "<b>Name:</b> jonunderscor<br><b>User Location:</b> United States<br><b>Verified?</b> False<br><b>Date:</b> 2023-05-22<br><b>Tweet:</b> What a great match there coming from the Coca-Cola Overwatch League. \n\nNow it's time for the Cheezits Groove Play of the Game Brought to you by our Sour Patch Kids Analyst Desk.\n\nHere's Jake Butterfinger, ready to tell you about the Bud Light Widowmaker kill on State Farm Kings R<b>Polarity:</b> 0.17<br><b>Subjectivity:</b> 0.49000000000000005",
          "<b>Name:</b> BellularGaming<br><b>User Location:</b> Belfast, Northern Ireland 🇮🇪<br><b>Verified?</b> False<br><b>Date:</b> 2021-08-06<br><b>Tweet:</b> Coca-Cola have pulled sponsorship from Overwatch League.\n\nBobby Kotick is on the board of the Coca-Cola company. Awkward!<b>Polarity:</b> -0.75<br><b>Subjectivity:</b> 1.0",
          "<b>Name:</b> shdw_shock<br><b>User Location:</b> he/him<br><b>Verified?</b> False<br><b>Date:</b> 2021-09-04<br><b>Tweet:</b> coca cola is the official refreshment of the overwatch league https://t.co/Bd4zSxrmMQ<b>Polarity:</b> 0.0<br><b>Subjectivity:</b> 0.0",
          "<b>Name:</b> IGN<br><b>User Location:</b> nan<br><b>Verified?</b> False<br><b>Date:</b> 2021-08-06<br><b>Tweet:</b> Overwatch League sponsors like Coca-Cola and State Farm are stepping back to reevaluate their relationships. https://t.co/L5XxPb1QPA https://t.co/tY9XC9Jixw<b>Polarity:</b> 0.0<br><b>Subjectivity:</b> 0.0",
          "<b>Name:</b> TeddyAmen<br><b>User Location:</b> Washington, DC<br><b>Verified?</b> False<br><b>Date:</b> 2021-08-05<br><b>Tweet:</b> New from me: State Farm is pulling its ads from the Overwatch League and Coca-Cola says they're revisiting plans with Blizzard. \n\nMore fallout from the California lawsuit alleging widespread harassments and discrimination at Activision Blizzard. https://t.co/8F5kRD3WR3<b>Polarity:</b> 0.3181818181818182<br><b>Subjectivity:</b> 0.4772727272727273",
          "<b>Name:</b> IGN<br><b>User Location:</b> nan<br><b>Verified?</b> False<br><b>Date:</b> 2021-08-10<br><b>Tweet:</b> The Overwatch League has seen many of their sponsors pull out of their deals due to the ongoing Activision/Blizzard accusations. Is Coca-Cola next? And what could this mean for the future of the OWL? https://t.co/uxErJEqaJh https://t.co/BM8iRcilym<b>Polarity:</b> 0.0125<br><b>Subjectivity:</b> 0.3375",
          "<b>Name:</b> GameSpot<br><b>User Location:</b> nan<br><b>Verified?</b> False<br><b>Date:</b> 2021-08-07<br><b>Tweet:</b> Coca-Cola and State Farm are reconsidering their Overwatch League sponsorships in light of the allegations of sexual harassment and discrimination at Activision Blizzard. https://t.co/eWI8WYuqFf https://t.co/UvN5hGjrgG<b>Polarity:</b> 0.45<br><b>Subjectivity:</b> 0.7666666666666666",
          "<b>Name:</b> VG247<br><b>User Location:</b> nan<br><b>Verified?</b> False<br><b>Date:</b> 2021-08-08<br><b>Tweet:</b> Coca-Cola, Kellogg, and State Farm are pulling back from the Overwatch League.\n\nhttps://t.co/lN3fPQRJzD https://t.co/CUNU5Ivq57<b>Polarity:</b> 0.0<br><b>Subjectivity:</b> 0.0",
          "<b>Name:</b> esports<br><b>User Location:</b> Earth<br><b>Verified?</b> False<br><b>Date:</b> 2021-08-09<br><b>Tweet:</b> And then there were three.\n\nLast week, as a result of the harassment lawsuit filed against Activision Blizzard, the Overwatch League shed all but three of its sponsors as only Xfinity, Coca-Cola, and TeamSpeak remain. \n\nStory by @Briggsycakes 💢 https://t.co/LHpI5FSrcP https://t.co/yFvLVbBTkg<b>Polarity:</b> 0.0<br><b>Subjectivity:</b> 0.5333333333333333",
          "<b>Name:</b> nichegamer<br><b>User Location:</b> Become a member<br><b>Verified?</b> False<br><b>Date:</b> 2021-08-06<br><b>Tweet:</b> Coca-Cola and State Farm Reassessing Overwatch League Partnership Amid Activision Blizzard Sexual Harassment Lawsuit https://t.co/ecmafJnPXX https://t.co/jWH9xIc4ER<b>Polarity:</b> 0.5<br><b>Subjectivity:</b> 0.8333333333333334",
          "<b>Name:</b> Overbuff<br><b>User Location:</b> nan<br><b>Verified?</b> False<br><b>Date:</b> 2021-08-05<br><b>Tweet:</b> Both State Farm and Coca-Cola are not out as advertisers yet, but are reportedly reassessing their sponsorship deals with the Overwatch League.\n\nState Farm has no ads running this weekend, and Coke is \"taking a step back.\"\n\nhttps://t.co/AuS6jrd20R<b>Polarity:</b> 0.0<br><b>Subjectivity:</b> 0.0",
          "<b>Name:</b> VG247<br><b>User Location:</b> nan<br><b>Verified?</b> False<br><b>Date:</b> 2021-08-06<br><b>Tweet:</b> Coca-Cola and State Farm are pulling back from the #OverwatchLeague \nhttps://t.co/lN3fPQA8I5 https://t.co/vb2TTmsOmw<b>Polarity:</b> 0.0<br><b>Subjectivity:</b> 0.0",
          "<b>Name:</b> OWUpdated<br><b>User Location:</b> nan<br><b>Verified?</b> False<br><b>Date:</b> 2022-03-21<br><b>Tweet:</b> Overwatch League has trouble getting new sponsors. Coca-Cola, Kellogg’s and State Farm paused/canceled their contracts. Therefore the Overwatch 2 e-sports scene could be much less relevant than the Overwatch 1 already is. \n\nThis is a big problem for Overwatch 2 and the franchise.<b>Polarity:</b> 0.03393939393939394<br><b>Subjectivity:</b> 0.34424242424242424",
          "<b>Name:</b> eurogamer<br><b>User Location:</b> United Kingdom<br><b>Verified?</b> False<br><b>Date:</b> 2021-08-06<br><b>Tweet:</b> Coca-Cola temporarily cans Overwatch League support amid discrimination lawsuit \nhttps://t.co/ZWhgqnwbud<b>Polarity:</b> 0.0<br><b>Subjectivity:</b> 0.0",
          "<b>Name:</b> shdw_shock<br><b>User Location:</b> he/him<br><b>Verified?</b> False<br><b>Date:</b> 2021-07-10<br><b>Tweet:</b> coca cola is the official refreshment of the overwatch league<b>Polarity:</b> 0.0<br><b>Subjectivity:</b> 0.0",
          "<b>Name:</b> JakeSucky<br><b>User Location:</b> Los Angeles, CA<br><b>Verified?</b> False<br><b>Date:</b> 2021-08-07<br><b>Tweet:</b> State Farm, Coca Cola, Kellogg’s, Pringles, Cheez It, and other sponsors have either stepped back or are reconsidering their partnerships with the Overwatch League\n\nExpect others to announce soon<b>Polarity:</b> -0.0625<br><b>Subjectivity:</b> 0.1875",
          "<b>Name:</b> GenePark<br><b>User Location:</b> Washington, DC<br><b>Verified?</b> False<br><b>Date:</b> 2021-08-05<br><b>Tweet:</b> Coca-Cola and State Farm are reassessing partnerships with Activision Blizzard’s Overwatch League. great story by @TeddyAmen \n\nhttps://t.co/XCqKsGVCo2<b>Polarity:</b> 0.8<br><b>Subjectivity:</b> 0.75",
          "<b>Name:</b> STONE_KING_X<br><b>User Location:</b> nan<br><b>Verified?</b> False<br><b>Date:</b> 2021-08-07<br><b>Tweet:</b> Coca-Cola, Kellogg, State Farm and T-Mobile are reassessing partnerships with Activision Blizzard’s Overwatch League.\n\nhttps://t.co/3JedV7Qczn\n\n#ActivisionBlizzard https://t.co/X8ChFR5x2a<b>Polarity:</b> 0.0<br><b>Subjectivity:</b> 0.0",
          "<b>Name:</b> Street24Mag<br><b>User Location:</b> Across The Globe<br><b>Verified?</b> False<br><b>Date:</b> 2021-08-06<br><b>Tweet:</b> Coca-Cola And State Farm Are Pulling Back From The Overwatch League - https://t.co/r0BDZwIhGn https://t.co/OP6pwrrvFx<b>Polarity:</b> 0.0<br><b>Subjectivity:</b> 0.0",
          "<b>Name:</b> Okami13_<br><b>User Location:</b> USA<br><b>Verified?</b> False<br><b>Date:</b> 2021-08-08<br><b>Tweet:</b> According to Overwatch leaker and content creator @Metro_OW, Overwatch 2 will likely not make its 2022 release date.\n\nT-Mobile, State Farm, and Coca-Cola recently pulled out of the Overwatch League after the recent allegations. https://t.co/6QJ8FTgpxi<b>Polarity:</b> 0.0<br><b>Subjectivity:</b> 0.5",
          "<b>Name:</b> jamesbardolph<br><b>User Location:</b> London / Los Angeles / Oceans<br><b>Verified?</b> False<br><b>Date:</b> 2023-07-19<br><b>Tweet:</b> I wonder what the views of the big non-endemic sponsors will be following their journey with Overwatch league, in terms of their experience with esports and the fallout.\n\nYou can find a list of them here, the likes of Coca Cola, Toyota and such.  https://t.co/NFVWqFnrOy<b>Polarity:</b> 0.0<br><b>Subjectivity:</b> 0.2333333333333333",
          "<b>Name:</b> LeaderGrev<br><b>User Location:</b> Washington, DC<br><b>Verified?</b> False<br><b>Date:</b> 2022-03-17<br><b>Tweet:</b> The Overwatch League is coming back in May with NA's first in-person Overwatch match since 2020.\n\nSome big-name sponsors — Coca-Cola, Kellogg’s, State Farm and Comcast — are not returning. Last season, Comcast was the official ISP for the league.\nhttps://t.co/pSkBh1cYW3<b>Polarity:</b> 0.08333333333333333<br><b>Subjectivity:</b> 0.13333333333333333",
          "<b>Name:</b> markittystuff<br><b>User Location:</b> Washington, USA<br><b>Verified?</b> False<br><b>Date:</b> 2023-05-19<br><b>Tweet:</b> So unfortunate that Overwatch League lost all their sponsors cos if Coca-Cola was still a sponsor they could've called it Fanta™-Sea Picks it would've been so perfect.<b>Polarity:</b> 0.25<br><b>Subjectivity:</b> 1.0",
          "<b>Name:</b> Instinct_FPS<br><b>User Location:</b> Shores of Time<br><b>Verified?</b> False<br><b>Date:</b> 2021-09-26<br><b>Tweet:</b> Coca-Cola is the official refreshing beverage of the Overwatch League 🥺 #OWL2021 \n\nIT'S AN END OF ERA 😭😭😭😭😭😭<b>Polarity:</b> 0.5<br><b>Subjectivity:</b> 1.0",
          "<b>Name:</b> washingtonpost<br><b>User Location:</b> Washington, DC<br><b>Verified?</b> False<br><b>Date:</b> 2021-08-05<br><b>Tweet:</b> Amid harassment lawsuit, Coca Cola, State Farm pull back from Blizzard’s Overwatch League https://t.co/C4NL1BY3Qt<b>Polarity:</b> 0.0<br><b>Subjectivity:</b> 0.0",
          "<b>Name:</b> fontiago<br><b>User Location:</b> nan<br><b>Verified?</b> False<br><b>Date:</b> 2021-05-28<br><b>Tweet:</b> losing my absolute fucking mind watching OWL today and hearing \"this week on the overwatch league fan art gallery we would love you to try and submit your favorite overwatch league player enjoying a coca-cola beverage\" im flabbergasted<b>Polarity:</b> 0.22000000000000003<br><b>Subjectivity:</b> 0.78",
          "<b>Name:</b> boybecauseofyou<br><b>User Location:</b> nan<br><b>Verified?</b> False<br><b>Date:</b> 2021-08-05<br><b>Tweet:</b> @CocaCola please don't punish the Overwatch League and their teams.\nKindly yours, a fan of owl and coca cola<b>Polarity:</b> 0.6<br><b>Subjectivity:</b> 0.9",
          "<b>Name:</b> Rose_THFC<br><b>User Location:</b> Virginia<br><b>Verified?</b> False<br><b>Date:</b> 2021-05-29<br><b>Tweet:</b> the overwatch league is brought to you by coca cola the official refreshment of the overwatch league and by IBM the official cloud and AI partner of the overwatch league<b>Polarity:</b> 0.0<br><b>Subjectivity:</b> 0.0",
          "<b>Name:</b> frostwolfst<br><b>User Location:</b> Milan, Italy<br><b>Verified?</b> False<br><b>Date:</b> 2021-08-06<br><b>Tweet:</b> Report: Coca-Cola and State Farm step away from Overwatch League sponsorship https://t.co/PXfZgrb0JW https://t.co/jmjeMBb87E<b>Polarity:</b> 0.0<br><b>Subjectivity:</b> 0.0",
          "<b>Name:</b> realgamecreeper<br><b>User Location:</b> Hong Kong<br><b>Verified?</b> False<br><b>Date:</b> 2021-08-06<br><b>Tweet:</b> Overwatch League sponsors like Coca-Cola and State Farm are stepping back to reevaluate their relationships. https://t.co/JKnTg9KkGX https://t.co/EMoCD9hvSq<b>Polarity:</b> 0.0<br><b>Subjectivity:</b> 0.0",
          "<b>Name:</b> ballsandbells<br><b>User Location:</b> nan<br><b>Verified?</b> False<br><b>Date:</b> 2021-08-05<br><b>Tweet:</b> Coca-Cola, State Farm Reconsidering Overwatch League Sponsorships - https://t.co/Pb1gCQWj8f https://t.co/PV4Sk6GHIa<b>Polarity:</b> 0.0<br><b>Subjectivity:</b> 0.0",
          "<b>Name:</b> AndyVermaut<br><b>User Location:</b> Diksmuide, België<br><b>Verified?</b> False<br><b>Date:</b> 2021-08-06<br><b>Tweet:</b> Coca-Cola and State Farm may pull ‘Overwatch’ League sponsorships https://t.co/PsOpulTEOU https://t.co/Gk7DHhMRB3<b>Polarity:</b> 0.0<br><b>Subjectivity:</b> 0.0",
          "<b>Name:</b> NewsItech<br><b>User Location:</b> nan<br><b>Verified?</b> False<br><b>Date:</b> 2021-08-05<br><b>Tweet:</b> Coca-Cola, State Farm Reconsidering Overwatch League Sponsorships https://t.co/rvf1QIjlmW<b>Polarity:</b> 0.0<br><b>Subjectivity:</b> 0.0",
          "<b>Name:</b> ballsandbells<br><b>User Location:</b> nan<br><b>Verified?</b> False<br><b>Date:</b> 2021-08-07<br><b>Tweet:</b> Coca-Cola and State Farm reassessing Overwatch League sponsorships - https://t.co/FFUJH3ueEj https://t.co/U9UpwhO2yY<b>Polarity:</b> 0.0<br><b>Subjectivity:</b> 0.0",
          "<b>Name:</b> lifelight_fps<br><b>User Location:</b> Canberra, Australia/Hanoi, VN<br><b>Verified?</b> False<br><b>Date:</b> 2022-04-03<br><b>Tweet:</b> @scottyzzzzzzz @baegle527 @jakeow of course I've tried coca cola, the former official refreshment of the overwatch league<b>Polarity:</b> 0.0<br><b>Subjectivity:</b> 0.0",
          "<b>Name:</b> Kotaku<br><b>User Location:</b> nan<br><b>Verified?</b> False<br><b>Date:</b> 2021-08-05<br><b>Tweet:</b> Coca-Cola and State Farm are reevaluating their Overwatch League sponsorships in the wake of the sexual harassment lawsuit against Activision Blizzard https://t.co/OyfpYZMKni https://t.co/COkLcDrZ8j<b>Polarity:</b> 0.5<br><b>Subjectivity:</b> 0.8333333333333334",
          "<b>Name:</b> Kikkysan<br><b>User Location:</b> nan<br><b>Verified?</b> False<br><b>Date:</b> 2021-09-27<br><b>Tweet:</b> @overwatchleague @CocaCola Get you a duo who will watch overwatch league with you and take you to the homestands. Happily  gaming together for 11 years 💙 https://t.co/Mlxj9ZQkbX<b>Polarity:</b> 0.8<br><b>Subjectivity:</b> 1.0",
          "<b>Name:</b> Healz_Plix<br><b>User Location:</b> nan<br><b>Verified?</b> False<br><b>Date:</b> 2021-08-06<br><b>Tweet:</b> Several corporate sponsors of the Overwatch League are rethinking their relationships following the Activision Blizzard lawsuit. \n\nSo far, T-Mobile, State Farm insurance, and Coca-Cola have removed their advertisements from Overwatch League matches.\n\n… https://t.co/pR0Hz0PW27<b>Polarity:</b> 0.025<br><b>Subjectivity:</b> 0.275",
          "<b>Name:</b> jacob_fawcett_4<br><b>User Location:</b> nan<br><b>Verified?</b> False<br><b>Date:</b> 2021-08-06<br><b>Tweet:</b> Coca-Cola, State Farm Reconsidering Overwatch League Sponsorships<b>Polarity:</b> 0.0<br><b>Subjectivity:</b> 0.0",
          "<b>Name:</b> jonylj20<br><b>User Location:</b> nan<br><b>Verified?</b> False<br><b>Date:</b> 2021-08-05<br><b>Tweet:</b> Coca cola y State Farm se retiran como sponsors de la Overwatch League<b>Polarity:</b> 0.0<br><b>Subjectivity:</b> 0.0",
          "<b>Name:</b> RealKingYakko<br><b>User Location:</b> Your head, rent free :)<br><b>Verified?</b> False<br><b>Date:</b> 2023-02-11<br><b>Tweet:</b> Lame L cringe Pepsi should have been Coca-Cola, the official refreshment of the Overwatch League<b>Polarity:</b> -0.5<br><b>Subjectivity:</b> 0.75",
          "<b>Name:</b> RealKingYakko<br><b>User Location:</b> Your head, rent free :)<br><b>Verified?</b> False<br><b>Date:</b> 2023-01-01<br><b>Tweet:</b> @bubblesmeep BASED\n\nPersonally my go to is Coca-Cola, the official refreshment of the Overwatch League 😎<b>Polarity:</b> 0.0<br><b>Subjectivity:</b> 0.3",
          "<b>Name:</b> NargacugaBalls<br><b>User Location:</b> yassification murder shed 18<br><b>Verified?</b> False<br><b>Date:</b> 2022-01-03<br><b>Tweet:</b> Kerbal Space Program - NASA - Coca Cola - Overwatch - Activision-Blizzard - Call of Duty: Cold War - Amoeba (song by the Adolescents) - Grand Theft Auto V - Back to the Future - Rocket League - Fortnite<b>Polarity:</b> -0.024999999999999994<br><b>Subjectivity:</b> 0.53125",
          "<b>Name:</b> snoweenie<br><b>User Location:</b> videogames, rodents, music<br><b>Verified?</b> False<br><b>Date:</b> 2021-10-13<br><b>Tweet:</b> @godflict well overwatch league already had a coca cola sponsor but lost it i believe because of the whole blizzard shit, and vanilla wouldn’t be a good flavor. has to be something fruity or like an energy drink<b>Polarity:</b> 0.2333333333333333<br><b>Subjectivity:</b> 0.6000000000000001",
          "<b>Name:</b> Findsleep<br><b>User Location:</b> nan<br><b>Verified?</b> False<br><b>Date:</b> 2021-08-07<br><b>Tweet:</b> Overwatch League getting cancelled T-Mobile, Coca Cola and State Farm pulling back! Gays finally won ❤️☺️<b>Polarity:</b> 0.0<br><b>Subjectivity:</b> 0.5",
          "<b>Name:</b> NESbot_feed<br><b>User Location:</b> IRC/discord<br><b>Verified?</b> False<br><b>Date:</b> 2021-08-05<br><b>Tweet:</b> Amid Harassment Lawsuit, Coca Cola, State Farm Pull Back From Blizzard’s Overwatch League\nhttps://t.co/cyYlb5R6fh<b>Polarity:</b> 0.0<br><b>Subjectivity:</b> 0.0",
          "<b>Name:</b> RichieRTrades<br><b>User Location:</b> nan<br><b>Verified?</b> False<br><b>Date:</b> 2022-07-15<br><b>Tweet:</b> How much do we reckon this deal was worth? #GILD Coca-Cola signs multi-year deal sponsorship deal with Overwatch League https://t.co/u2OCo8G7pV<b>Polarity:</b> 0.25<br><b>Subjectivity:</b> 0.15000000000000002",
          "<b>Name:</b> AhmadNorMaulana<br><b>User Location:</b> South Borneo, Indonesia<br><b>Verified?</b> False<br><b>Date:</b> 2021-08-05<br><b>Tweet:</b> Coca-Cola And State Farm Are Re-Evaluating Their Overwatch League Partnerships https://t.co/RTL1bFRaGV https://t.co/YROIQunndi<b>Polarity:</b> 0.0<br><b>Subjectivity:</b> 0.0",
          "<b>Name:</b> davidpremier<br><b>User Location:</b> nan<br><b>Verified?</b> False<br><b>Date:</b> 2021-08-06<br><b>Tweet:</b> Coca-Cola and State Farm reassessing Overwatch League sponsorships https://t.co/Z1aUl9a9Nv #CallofDuty #Commercial #Games #LatestNews #Markets https://t.co/TfWlHUYSDC<b>Polarity:</b> 0.0<br><b>Subjectivity:</b> 0.0",
          "<b>Name:</b> NewsZoneWeb1<br><b>User Location:</b> nan<br><b>Verified?</b> False<br><b>Date:</b> 2021-08-06<br><b>Tweet:</b> Coca-Cola and State Farm reportedly reconsidering Overwatch League deal https://t.co/Ls3BhmlJL4<b>Polarity:</b> 0.0<br><b>Subjectivity:</b> 0.0",
          "<b>Name:</b> bbnrworld<br><b>User Location:</b> Worldwide <br><b>Verified?</b> False<br><b>Date:</b> 2021-08-06<br><b>Tweet:</b> Coca-Cola and State Farm, are pulling back from the League Overwatch https://t.co/AUuIyHvsKc<b>Polarity:</b> 0.0<br><b>Subjectivity:</b> 0.0",
          "<b>Name:</b> BigJermHQ<br><b>User Location:</b> Los Angeles, California<br><b>Verified?</b> False<br><b>Date:</b> 2021-08-05<br><b>Tweet:</b> Coca-Cola, State Farm Reconsidering Overwatch League Sponsorships https://t.co/6JvDHtISLs #gamingnews https://t.co/HkDdgIbPug<b>Polarity:</b> 0.0<br><b>Subjectivity:</b> 0.0",
          "<b>Name:</b> qottonete<br><b>User Location:</b> Beatdown Boulevard<br><b>Verified?</b> False<br><b>Date:</b> 2021-07-15<br><b>Tweet:</b> @Outlaws @HEB @Crimzo \"Coca-Cola is the official refreshment of the Overwatch League.\"<b>Polarity:</b> 0.0<br><b>Subjectivity:</b> 0.0",
          "<b>Name:</b> PH7RAOH<br><b>User Location:</b> nan<br><b>Verified?</b> False<br><b>Date:</b> 2021-08-06<br><b>Tweet:</b> @Avast_o @SADO_OW @ChuckECheese Carrying not only the team but Overwatch League’s Coca-Cola sponsorship on his back<b>Polarity:</b> 0.0<br><b>Subjectivity:</b> 0.5",
          "<b>Name:</b> WorldWideTweet3<br><b>User Location:</b> nan<br><b>Verified?</b> False<br><b>Date:</b> 2021-08-06<br><b>Tweet:</b> Coca-Cola and State Farm reportedly reconsidering Overwatch League deal - https://t.co/spAi9CqJiV<b>Polarity:</b> 0.0<br><b>Subjectivity:</b> 0.0",
          "<b>Name:</b> Greatfulx<br><b>User Location:</b> Texas, USA<br><b>Verified?</b> False<br><b>Date:</b> 2021-12-02<br><b>Tweet:</b> Continuing on this the Overwatch League only has 2, CocaCola and TeamSpeak... jesus man acti/blizz really are shitting the best rn https://t.co/MjqrYpJTon<b>Polarity:</b> 0.39999999999999997<br><b>Subjectivity:</b> 0.5",
          "<b>Name:</b> Noshii24<br><b>User Location:</b> United States<br><b>Verified?</b> False<br><b>Date:</b> 2021-09-27<br><b>Tweet:</b> @overwatchleague @BadPachimari @CocaCola Can’t be saying stuff like that @overwatchleague 🤭 https://t.co/NHpl76hpue<b>Polarity:</b> 0.0<br><b>Subjectivity:</b> 0.0",
          "<b>Name:</b> GyrotheGoat<br><b>User Location:</b> nan<br><b>Verified?</b> False<br><b>Date:</b> 2021-09-28<br><b>Tweet:</b> @overwatchleague @BadPachimari @CocaCola Owl SMM after bp predicted atlanta losing to glads https://t.co/nH4jC9zWJg<b>Polarity:</b> 0.0<br><b>Subjectivity:</b> 0.0",
          "<b>Name:</b> KLASSSI_OW<br><b>User Location:</b> Iceland<br><b>Verified?</b> False<br><b>Date:</b> 2021-09-28<br><b>Tweet:</b> @gurryelmars @overwatchleague @CocaCola Dababy?<b>Polarity:</b> 0.0<br><b>Subjectivity:</b> 0.0",
          "<b>Name:</b> MarkJones_1998<br><b>User Location:</b> nan<br><b>Verified?</b> False<br><b>Date:</b> 2021-09-27<br><b>Tweet:</b> @overwatchleague @BadPachimari @CocaCola owl smm woke up and chose violence today it seems<b>Polarity:</b> 0.0<br><b>Subjectivity:</b> 0.0",
          "<b>Name:</b> DISEROGG<br><b>User Location:</b> In a galaxy far far away<br><b>Verified?</b> False<br><b>Date:</b> 2021-09-29<br><b>Tweet:</b> @Res215dg @overwatchleague @CocaCola I have patience for some Seoul Jerseys thank you<b>Polarity:</b> 0.0<br><b>Subjectivity:</b> 0.0",
          "<b>Name:</b> MirrorkatFeces<br><b>User Location:</b> nan<br><b>Verified?</b> False<br><b>Date:</b> 2021-09-27<br><b>Tweet:</b> @overwatchleague @CocaCola Give Leave a MVP skin<b>Polarity:</b> 0.0<br><b>Subjectivity:</b> 0.0",
          "<b>Name:</b> _Spydergaming<br><b>User Location:</b> Maryland, USA<br><b>Verified?</b> False<br><b>Date:</b> 2021-09-27<br><b>Tweet:</b> @BadPachimari @overwatchleague @CocaCola https://t.co/7Mv2CqdlUy<b>Polarity:</b> 0.0<br><b>Subjectivity:</b> 0.0",
          "<b>Name:</b> ClearTogether<br><b>User Location:</b> USA | She/ Her | Lesbian<br><b>Verified?</b> False<br><b>Date:</b> 2021-09-27<br><b>Tweet:</b> @overwatchleague @AdvanceWarsDS @CocaCola these are sooo cute!! 🥺 so happy for these couples!! awww 💖💖<b>Polarity:</b> 0.7270833333333333<br><b>Subjectivity:</b> 0.9666666666666667",
          "<b>Name:</b> DISEROGG<br><b>User Location:</b> In a galaxy far far away<br><b>Verified?</b> False<br><b>Date:</b> 2021-09-28<br><b>Tweet:</b> @Res215dg @overwatchleague @CocaCola They are going to reopen the store?<b>Polarity:</b> 0.0<br><b>Subjectivity:</b> 0.0",
          "<b>Name:</b> SCALCH0PPIN<br><b>User Location:</b> Nuvema Town, Unova<br><b>Verified?</b> False<br><b>Date:</b> 2021-09-27<br><b>Tweet:</b> @BadPachimari @overwatchleague @CocaCola Who did you hurt on the OWL social media team????<b>Polarity:</b> 0.03333333333333333<br><b>Subjectivity:</b> 0.06666666666666667",
          "<b>Name:</b> redditOWL<br><b>User Location:</b> nan<br><b>Verified?</b> False<br><b>Date:</b> 2022-03-27<br><b>Tweet:</b> \"Coca-Cola and TeamSpeak OWL sponsorship is back? https://t.co/fbh8BgsKFC\" - Blue737 https://t.co/XGicj4priQ #OverwatchLeague<b>Polarity:</b> 0.0<br><b>Subjectivity:</b> 0.0",
          "<b>Name:</b> gurryelmars<br><b>User Location:</b> she<br><b>Verified?</b> False<br><b>Date:</b> 2021-09-27<br><b>Tweet:</b> @BragiEmil @overwatchleague @CocaCola literally🥺 half way there already<b>Polarity:</b> -0.16666666666666666<br><b>Subjectivity:</b> 0.16666666666666666",
          "<b>Name:</b> BragiEmil<br><b>User Location:</b> nan<br><b>Verified?</b> False<br><b>Date:</b> 2021-09-27<br><b>Tweet:</b> @gurryelmars @overwatchleague @CocaCola 20weeks already damn time flies.<b>Polarity:</b> 0.0<br><b>Subjectivity:</b> 0.0",
          "<b>Name:</b> HealsNKills<br><b>User Location:</b> Little Rock, AR<br><b>Verified?</b> False<br><b>Date:</b> 2022-09-28<br><b>Tweet:</b> @overwatchleague @WatchpointPride @CocaCola @TheOakenForest @NeekaTodd25 @WatchpointPride  Can't wait for our big moves with OW2!! ❤️😍 It's time to get the gang back together<b>Polarity:</b> 0.0<br><b>Subjectivity:</b> 0.05",
          "<b>Name:</b> FreyaSenshi<br><b>User Location:</b> Boston<br><b>Verified?</b> False<br><b>Date:</b> 2021-09-27<br><b>Tweet:</b> @overwatchleague @CocaCola me and who ahahaha<b>Polarity:</b> 0.0<br><b>Subjectivity:</b> 0.0",
          "<b>Name:</b> SaltyPhish<br><b>User Location:</b> nan<br><b>Verified?</b> False<br><b>Date:</b> 2021-09-27<br><b>Tweet:</b> @overwatchleague @CocaCola Stop being happily in love everyone!!<b>Polarity:</b> 0.78125<br><b>Subjectivity:</b> 0.6",
          "<b>Name:</b> Old_Newspaper<br><b>User Location:</b> Little Rock, AR<br><b>Verified?</b> False<br><b>Date:</b> 2022-10-30<br><b>Tweet:</b> @lindsaycaudill @overwatchleague @Butterfinger We’ll slow the bandwagon down a little so you can jump back on, @CocaCola, but be quick about it. We’re going places.<b>Polarity:</b> -0.061944444444444455<br><b>Subjectivity:</b> 0.3377777777777778",
          "<b>Name:</b> gurryelmars<br><b>User Location:</b> she<br><b>Verified?</b> False<br><b>Date:</b> 2021-09-27<br><b>Tweet:</b> @overwatchleague @CocaCola i met my bf through an overwatch tournament💕we’re now 20weeks pregnant<b>Polarity:</b> 0.3333333333333333<br><b>Subjectivity:</b> 0.5",
          "<b>Name:</b> mintyfreshlife<br><b>User Location:</b> Toronto, Canada<br><b>Verified?</b> False<br><b>Date:</b> 2021-09-27<br><b>Tweet:</b> @end_fps @overwatchleague @BadPachimari @CocaCola Absolute massacre<b>Polarity:</b> 0.2<br><b>Subjectivity:</b> 0.9",
          "<b>Name:</b> Mega36545552<br><b>User Location:</b> Weenie Hut Jrs<br><b>Verified?</b> False<br><b>Date:</b> 2021-05-08<br><b>Tweet:</b> @Fusion @Mano_OWL Coca-Cola the official refreshment of the Overwatch League<b>Polarity:</b> 0.0<br><b>Subjectivity:</b> 0.0",
          "<b>Name:</b> beiser2ryan<br><b>User Location:</b> Santa Monica, California<br><b>Verified?</b> False<br><b>Date:</b> 2021-08-06<br><b>Tweet:</b> Coca-Cola and State Farm may pull ‘Overwatch’ League sponsorships https://t.co/W8vgpGmRvy<b>Polarity:</b> 0.0<br><b>Subjectivity:</b> 0.0",
          "<b>Name:</b> beiser2ryan<br><b>User Location:</b> Santa Monica, California<br><b>Verified?</b> False<br><b>Date:</b> 2021-08-06<br><b>Tweet:</b> Coca-Cola and State Farm are pulling back from the Overwatch League https://t.co/0HueBFXxKL<b>Polarity:</b> 0.0<br><b>Subjectivity:</b> 0.0",
          "<b>Name:</b> RaweGame<br><b>User Location:</b> nan<br><b>Verified?</b> False<br><b>Date:</b> 2021-08-05<br><b>Tweet:</b> Coca-Cola, State Farm Reconsidering Overwatch League Sponsorships https://t.co/3JfbhjcRDX<b>Polarity:</b> 0.0<br><b>Subjectivity:</b> 0.0",
          "<b>Name:</b> TechnologyMani2<br><b>User Location:</b> SanFransisco<br><b>Verified?</b> False<br><b>Date:</b> 2021-08-06<br><b>Tweet:</b> Coca-Cola and State Farm are pulling back from the Overwatch League https://t.co/hIj6rsErt9<b>Polarity:</b> 0.0<br><b>Subjectivity:</b> 0.0",
          "<b>Name:</b> LegitGamersG<br><b>User Location:</b> nan<br><b>Verified?</b> False<br><b>Date:</b> 2021-08-06<br><b>Tweet:</b> Coca-Cola and State Farm reportedly reconsidering Overwatch League deal https://t.co/Z99ltLyq55<b>Polarity:</b> 0.0<br><b>Subjectivity:</b> 0.0",
          "<b>Name:</b> gregogaming43<br><b>User Location:</b> Greenville, MS<br><b>Verified?</b> False<br><b>Date:</b> 2021-08-06<br><b>Tweet:</b> Coca-Cola and State Farm reportedly reconsidering Overwatch League deal https://t.co/nQZm6okVR2<b>Polarity:</b> 0.0<br><b>Subjectivity:</b> 0.0",
          "<b>Name:</b> pumpa007<br><b>User Location:</b> Yorkshire and The Humber, Engl<br><b>Verified?</b> False<br><b>Date:</b> 2021-08-16<br><b>Tweet:</b> Coca-Cola, State Farm Reconsidering Overwatch League Sponsorships\nSome Overwatch League sponsors… \n#esports #gaming #gamer #fortnite #games #gamers #youtube #pc #pubgmobile  #memes #bhfyp https://t.co/aAw1nxdE8L https://t.co/ZAQkX4VE7B<b>Polarity:</b> 0.0<br><b>Subjectivity:</b> 0.0",
          "<b>Name:</b> ModXpresss<br><b>User Location:</b> Gujrat Pakistan<br><b>Verified?</b> False<br><b>Date:</b> 2021-08-05<br><b>Tweet:</b> Coca-Cola, State Farm Reconsidering Overwatch League Sponsorships https://t.co/Gk6imBYfId<b>Polarity:</b> 0.0<br><b>Subjectivity:</b> 0.0",
          "<b>Name:</b> MajorLinux<br><b>User Location:</b> https://toot.majorshouse.com/<br><b>Verified?</b> False<br><b>Date:</b> 2021-08-06<br><b>Tweet:</b> Jake from State Farm has had enough of this, too!\n\nCoca-Cola temporarily cans Overwatch League support amid discrimination lawsuit https://t.co/8yPZRF2vxa https://t.co/gQSbq09t23<b>Polarity:</b> 0.0<br><b>Subjectivity:</b> 0.5",
          "<b>Name:</b> NewzoramaGaming<br><b>User Location:</b> nan<br><b>Verified?</b> False<br><b>Date:</b> 2021-08-11<br><b>Tweet:</b> Coca-Cola, State Farm and More Reassessing Partnerships With Overwatch League - The Fix: Esports \n - \nhttps://t.co/AhpYDyahTg<b>Polarity:</b> 0.5<br><b>Subjectivity:</b> 0.5",
          "<b>Name:</b> GamesnGadgets09<br><b>User Location:</b> nan<br><b>Verified?</b> False<br><b>Date:</b> 2021-08-06<br><b>Tweet:</b> Coca-Cola, State Farm Reconsidering Overwatch League Sponsorships https://t.co/5ESIpX8pAD https://t.co/snEU6KBfvb<b>Polarity:</b> 0.0<br><b>Subjectivity:</b> 0.0",
          "<b>Name:</b> RedValoroso<br><b>User Location:</b> The Warehouse<br><b>Verified?</b> False<br><b>Date:</b> 2022-01-18<br><b>Tweet:</b> Overwatch League, in partnership with Coca-Cola and Windows 11, “the best place to play.”<b>Polarity:</b> 1.0<br><b>Subjectivity:</b> 0.3",
          "<b>Name:</b> gamerabble<br><b>User Location:</b> Worldwide<br><b>Verified?</b> False<br><b>Date:</b> 2021-08-06<br><b>Tweet:</b> Coca-Cola and State Farm reassessing Overwatch League sponsorships https://t.co/qhdbw377Q7<b>Polarity:</b> 0.0<br><b>Subjectivity:</b> 0.0",
          "<b>Name:</b> gatamchun<br><b>User Location:</b> nan<br><b>Verified?</b> False<br><b>Date:</b> 2021-07-12<br><b>Tweet:</b> OWL: Coca Cola is the official refreshment of the Overwatch League\nHusb: what about liquid Pringles Wavy?<b>Polarity:</b> 0.0<br><b>Subjectivity:</b> 0.0",
          "<b>Name:</b> themoreitdries<br><b>User Location:</b> nan<br><b>Verified?</b> False<br><b>Date:</b> 2021-07-02<br><b>Tweet:</b> @A2Ziegler What if it was a can of the official beverage of the Overwatch League, Coca-cola<b>Polarity:</b> 0.0<br><b>Subjectivity:</b> 0.0",
          "<b>Name:</b> Ari_Lover239<br><b>User Location:</b> nan<br><b>Verified?</b> False<br><b>Date:</b> 2021-08-05<br><b>Tweet:</b> Report: Coca-Cola and State Farm step away from Overwatch League sponsorship \n#Gaming  \nhttps://t.co/qphYgm6tXV<b>Polarity:</b> 0.0<br><b>Subjectivity:</b> 0.0",
          "<b>Name:</b> esportsinsider<br><b>User Location:</b> London, England<br><b>Verified?</b> False<br><b>Date:</b> 2021-08-06<br><b>Tweet:</b> Yesterday, it was revealed that State Farm and Coca-Cola are reevaluating its partnerships with Activision Blizzard’s Overwatch League.\n\nRead more here: https://t.co/Cn3M8Xl84F https://t.co/IjpSz8a5Cd<b>Polarity:</b> 0.5<br><b>Subjectivity:</b> 0.5",
          "<b>Name:</b> thetweetbud<br><b>User Location:</b> nan<br><b>Verified?</b> False<br><b>Date:</b> 2021-08-05<br><b>Tweet:</b> Report: Coca-Cola and State Farm step away from Overwatch League sponsorship \n#Gaming  \nhttps://t.co/Rta7rtgGSe<b>Polarity:</b> 0.0<br><b>Subjectivity:</b> 0.0",
          "<b>Name:</b> gamerabble<br><b>User Location:</b> Worldwide<br><b>Verified?</b> False<br><b>Date:</b> 2021-08-05<br><b>Tweet:</b> State Farm and Coca-Cola reportedly ‘reassessing’ partnerships with Activision Blizzard’s Overwatch League https://t.co/nWyI9gKuvc<b>Polarity:</b> 0.0<br><b>Subjectivity:</b> 0.0",
          "<b>Name:</b> overwatchreddit<br><b>User Location:</b> Watchpoint Gibraltar<br><b>Verified?</b> False<br><b>Date:</b> 2021-08-06<br><b>Tweet:</b> #overwatch https://t.co/FoU9fqVWUQ Amid harassment lawsuit, Coca Cola, State Farm pull back from Blizzard’s Overwatch League by /u/the_patman2017<b>Polarity:</b> 0.0<br><b>Subjectivity:</b> 0.0",
          "<b>Name:</b> GIBiz<br><b>User Location:</b> www.gamesindustry.biz<br><b>Verified?</b> False<br><b>Date:</b> 2021-08-06<br><b>Tweet:</b> Kellogg and State Farm no longer partners for Overwatch League; Coca-Cola says it will \"take a step back\" to reassess support\n\nhttps://t.co/IYEvTyyv1Y<b>Polarity:</b> 0.0<br><b>Subjectivity:</b> 0.0",
          "<b>Name:</b> washpostbiz<br><b>User Location:</b> Washington, D.C.<br><b>Verified?</b> False<br><b>Date:</b> 2021-08-05<br><b>Tweet:</b> Amid harassment lawsuit, Coca Cola, State Farm pull back from Blizzard’s Overwatch League https://t.co/cDRTiuOWyc<b>Polarity:</b> 0.0<br><b>Subjectivity:</b> 0.0",
          "<b>Name:</b> gamingandtips<br><b>User Location:</b> Echo Creek<br><b>Verified?</b> False<br><b>Date:</b> 2021-08-06<br><b>Tweet:</b> Coca-Cola temporarily cans Overwatch League support amid discrimination lawsuit(Read more at: https://t.co/g6vgkncV7g)<b>Polarity:</b> 0.5<br><b>Subjectivity:</b> 0.5",
          "<b>Name:</b> cuongcz<br><b>User Location:</b> New York, NY<br><b>Verified?</b> False<br><b>Date:</b> 2021-08-05<br><b>Tweet:</b> #ai #ml #artificialintelligence #machinelearning #datascience #bigdata #analytics #blockchain #tech #data @Nicochan33 @TrippBraden @Paula_Piccard @haroldsinnott @sallyeaves\nCoca-Cola And State Farm Are Re-Evaluating Their Overwatch League Partnerships https://t.co/9yEqdl4B31<b>Polarity:</b> 0.0<br><b>Subjectivity:</b> 0.0",
          "<b>Name:</b> misteruplay2016<br><b>User Location:</b> nan<br><b>Verified?</b> False<br><b>Date:</b> 2021-08-06<br><b>Tweet:</b> Coca-Cola and State Farm are pulling back from the Overwatch League https://t.co/jkumE0YpJW<b>Polarity:</b> 0.0<br><b>Subjectivity:</b> 0.0",
          "<b>Name:</b> raistand<br><b>User Location:</b> Polska<br><b>Verified?</b> False<br><b>Date:</b> 2021-08-07<br><b>Tweet:</b> Coca-Cola temporarily cans Overwatch League support amid discrimination lawsuit https://t.co/LqLzyfyprm<b>Polarity:</b> 0.0<br><b>Subjectivity:</b> 0.0",
          "<b>Name:</b> modcontrollerz<br><b>User Location:</b> Oakville Ct<br><b>Verified?</b> False<br><b>Date:</b> 2021-08-05<br><b>Tweet:</b> Coca-Cola, State Farm Reconsidering Overwatch League Sponsorships https://t.co/rJQzxEn3c3<b>Polarity:</b> 0.0<br><b>Subjectivity:</b> 0.0",
          "<b>Name:</b> Gaming_NN<br><b>User Location:</b> Everywhere<br><b>Verified?</b> False<br><b>Date:</b> 2021-08-06<br><b>Tweet:</b> Report: Coca-Cola and State Farm step away from Overwatch League sponsorship https://t.co/AnN6wmIYOr https://t.co/Sqi43YUmc5<b>Polarity:</b> 0.0<br><b>Subjectivity:</b> 0.0",
          "<b>Name:</b> GameRant<br><b>User Location:</b> Earth<br><b>Verified?</b> False<br><b>Date:</b> 2021-08-06<br><b>Tweet:</b> Coca-Cola and State Farm 'Reassessing' Activision Blizzard Partnership, Could Pull Overwatch League Sponsorships https://t.co/7Ft29IZP1F https://t.co/hBdUWW2X9y<b>Polarity:</b> 0.0<br><b>Subjectivity:</b> 0.0",
          "<b>Name:</b> Kakuchopurei<br><b>User Location:</b> Kuala Lumpur<br><b>Verified?</b> False<br><b>Date:</b> 2021-08-06<br><b>Tweet:</b> Major Sponsors Like Coca-Cola Are Pulling Back From Overwatch League https://t.co/ekoAgaAyyg<b>Polarity:</b> 0.03125<br><b>Subjectivity:</b> 0.25",
          "<b>Name:</b> LauncherWP<br><b>User Location:</b> Capital Wasteland<br><b>Verified?</b> False<br><b>Date:</b> 2021-08-05<br><b>Tweet:</b> NEW: Coca-Cola and State Farm are reassessing partnerships with Activision Blizzard’s Overwatch League.\n\nReport by @TeddyAmen:\nhttps://t.co/C3x9coCHlh<b>Polarity:</b> 0.13636363636363635<br><b>Subjectivity:</b> 0.45454545454545453",
          "<b>Name:</b> TodayHeadline42<br><b>User Location:</b> United States<br><b>Verified?</b> False<br><b>Date:</b> 2021-08-06<br><b>Tweet:</b> Coca-Cola and State Farm are pulling back from the Overwatch League https://t.co/c9OPZCCQhF<b>Polarity:</b> 0.0<br><b>Subjectivity:</b> 0.0",
          "<b>Name:</b> SportsRants_<br><b>User Location:</b> Miami, Florida<br><b>Verified?</b> False<br><b>Date:</b> 2021-08-06<br><b>Tweet:</b> State Farm, Coca-Cola Re-Assessing Overwatch League Sponsorships https://t.co/EZDAodJHJ8 https://t.co/vRhlOtkArV<b>Polarity:</b> 0.0<br><b>Subjectivity:</b> 0.0",
          "<b>Name:</b> Planet_Smarts<br><b>User Location:</b> nan<br><b>Verified?</b> False<br><b>Date:</b> 2021-08-06<br><b>Tweet:</b> Overwatch League continues to lose endorsements: Coca-Cola and State Farm withdraw support for Blizzard after lawsuit https://t.co/a2z72IZyKJ<b>Polarity:</b> 0.0<br><b>Subjectivity:</b> 0.0",
          "<b>Name:</b> GamerIntel<br><b>User Location:</b> Chicago, IL USA<br><b>Verified?</b> False<br><b>Date:</b> 2021-08-05<br><b>Tweet:</b> Report: Coca-Cola and State Farm step away from Overwatch League sponsorship https://t.co/ghuIGbHLEM https://t.co/ypbjNmmxW0<b>Polarity:</b> 0.0<br><b>Subjectivity:</b> 0.0",
          "<b>Name:</b> mj_consultores<br><b>User Location:</b> vale<br><b>Verified?</b> False<br><b>Date:</b> 2021-08-06<br><b>Tweet:</b> Coca-Cola and State Farm reassessing Overwatch League sponsorships https://t.co/CvU8bCP31k vía @esportsinsider_ https://t.co/LCsrKxL1gW<b>Polarity:</b> 0.0<br><b>Subjectivity:</b> 0.0",
          "<b>Name:</b> Technology_Bits<br><b>User Location:</b> nan<br><b>Verified?</b> False<br><b>Date:</b> 2021-08-07<br><b>Tweet:</b> Amid harassment lawsuit, Coca Cola, State Farm pull back from Blizzard’s Overwatch League https://t.co/ifK1G28GiH https://t.co/NNaXQCZRgj<b>Polarity:</b> 0.0<br><b>Subjectivity:</b> 0.0",
          "<b>Name:</b> NormaDean<br><b>User Location:</b> USA<br><b>Verified?</b> False<br><b>Date:</b> 2021-08-05<br><b>Tweet:</b> “Coca-Cola, State Farm pull back from Overwatch League after Activision Blizzard lawsuit”\n\nYou love to see it. Activision has been in need of a reckoning for some time now. https://t.co/jfFPDTfDSs<b>Polarity:</b> 0.25<br><b>Subjectivity:</b> 0.3",
          "<b>Name:</b> AdamRobertsMKE<br><b>User Location:</b> Milwaukee, WI<br><b>Verified?</b> False<br><b>Date:</b> 2021-08-06<br><b>Tweet:</b> @WiscoGrant Hey Grant, first time long time here...do you think there's a long-term future for the Overwatch League even though both Coca Cola and State Farm have ended their sponsorships with the league? I'll take your thoughts off the air.<b>Polarity:</b> 0.06666666666666667<br><b>Subjectivity:</b> 0.28611111111111115",
          "<b>Name:</b> joeriwagner<br><b>User Location:</b> Nederland<br><b>Verified?</b> False<br><b>Date:</b> 2021-08-06<br><b>Tweet:</b> Coca Cola and State Farm are pulling back from Overwatch League\n\nhttps://t.co/gKXLUhmfw4 https://t.co/LGTPWcXe5e<b>Polarity:</b> 0.0<br><b>Subjectivity:</b> 0.0",
          "<b>Name:</b> 15MinuteNewsEnt<br><b>User Location:</b> nan<br><b>Verified?</b> False<br><b>Date:</b> 2021-08-06<br><b>Tweet:</b> Coca-Cola and State Farm may pull 'Overwatch' League sponsorships https://t.co/d3CcE01oUS #Music<b>Polarity:</b> 0.0<br><b>Subjectivity:</b> 0.0",
          "<b>Name:</b> RelaxingMusica5<br><b>User Location:</b> United States<br><b>Verified?</b> False<br><b>Date:</b> 2021-08-05<br><b>Tweet:</b> Coca-Cola and State Farm are pulling back from the Overwatch League https://t.co/a9RzU2piy3<b>Polarity:</b> 0.0<br><b>Subjectivity:</b> 0.0",
          "<b>Name:</b> EsportzGlobal<br><b>User Location:</b> UK <br><b>Verified?</b> False<br><b>Date:</b> 2021-08-06<br><b>Tweet:</b> Amid harassment lawsuit, Coca Cola, State Farm pull back from Blizzard’s Overwatch League.\nhttps://t.co/9gCsvnzfEf #gamingculture #esports  #esportsbusiness #esportsindustry #gaming #blizzard<b>Polarity:</b> 0.0<br><b>Subjectivity:</b> 0.0",
          "<b>Name:</b> Martell_Media<br><b>User Location:</b> Austin TX<br><b>Verified?</b> False<br><b>Date:</b> 2021-08-06<br><b>Tweet:</b> Coca-Cola and State Farm are 'reassessing' partnerships with Activision Blizzard’s Overwatch League\nhttps://t.co/0CHEMYwd9O<b>Polarity:</b> 0.0<br><b>Subjectivity:</b> 0.0",
          "<b>Name:</b> zimisss<br><b>User Location:</b> nan<br><b>Verified?</b> False<br><b>Date:</b> 2021-08-07<br><b>Tweet:</b> Coca-Cola temporarily cans Overwatch League support amid discrimination lawsuit: Coca-Cola is stepping back from its partnership with Activision Blizzard's Overwatch League, amid a lawsuit by the state of California over a \"frat boy\"… https://t.co/HLdjIJjQ35 #eSports #FPS https://t.co/iJChuKeott<b>Polarity:</b> 0.0<br><b>Subjectivity:</b> 0.0",
          "<b>Name:</b> EsportsPressUK<br><b>User Location:</b> UK Based/Global Reach<br><b>Verified?</b> False<br><b>Date:</b> 2021-08-06<br><b>Tweet:</b> Amid harassment lawsuit, Coca Cola, State Farm pull back from Blizzard’s Overwatch League.\nhttps://t.co/jfAa8jAwwn #gamingculture #esports  #esportsbusiness #esportsindustry #gaming #blizzard<b>Polarity:</b> 0.0<br><b>Subjectivity:</b> 0.0",
          "<b>Name:</b> Gaymeo<br><b>User Location:</b> nan<br><b>Verified?</b> False<br><b>Date:</b> 2021-08-06<br><b>Tweet:</b> Coca Cola, T-Mobile and more are all leaving the Overwatch League following the Activision Blizzard lawsuit.\n\nhttps://t.co/WJDH3rTMXg<b>Polarity:</b> 0.25<br><b>Subjectivity:</b> 0.3",
          "<b>Name:</b> GameSensedotCo<br><b>User Location:</b> nan<br><b>Verified?</b> False<br><b>Date:</b> 2021-08-07<br><b>Tweet:</b> Coca-Cola and State Farm are reassessing their partnerships with Activision Blizzard's Overwatch League, amid the company's sexual harassment and discrimination lawsuit.   #overwatch https://t.co/S07KKdeitU<b>Polarity:</b> 0.5<br><b>Subjectivity:</b> 0.8333333333333334",
          "<b>Name:</b> TeddyAmen<br><b>User Location:</b> Washington, DC<br><b>Verified?</b> False<br><b>Date:</b> 2022-03-24<br><b>Tweet:</b> For the past few years, Coca-Cola has been the sponsor of Activision Blizzard's Overwatch League. Now, they're backing Riot.<b>Polarity:</b> -0.225<br><b>Subjectivity:</b> 0.175",
          "<b>Name:</b> adage<br><b>User Location:</b> NYC, Chicago, Los Angeles, USA<br><b>Verified?</b> False<br><b>Date:</b> 2021-08-06<br><b>Tweet:</b> State Farm, Coca-Cola and T-Mobile have all paused their marketing efforts with the video game publisher’s Overwatch League following a lawsuit against the company https://t.co/sqRVWp1OGi<b>Polarity:</b> -0.2<br><b>Subjectivity:</b> 0.25",
          "<b>Name:</b> drogon_dracarys<br><b>User Location:</b> Flying around USA<br><b>Verified?</b> False<br><b>Date:</b> 2021-08-05<br><b>Tweet:</b> Coca-Cola and State Farm are reassessing partnerships with Activision Blizzard’s Overwatch League \n\nThey are two of seven sponsors currently listed on the Overwatch League website. https://t.co/Bp1583XI6T<b>Polarity:</b> 0.0<br><b>Subjectivity:</b> 0.4",
          "<b>Name:</b> ForbesTech<br><b>User Location:</b> nan<br><b>Verified?</b> False<br><b>Date:</b> 2021-08-06<br><b>Tweet:</b> Coca-Cola and State Farm are reevaluating their Overwatch League partnerships https://t.co/hUVsHuDIQE by @krisholt<b>Polarity:</b> 0.0<br><b>Subjectivity:</b> 0.0",
          "<b>Name:</b> LeaderGrev<br><b>User Location:</b> Washington, DC<br><b>Verified?</b> False<br><b>Date:</b> 2021-08-05<br><b>Tweet:</b> Coca-Cola and State Farm told The Post they're reassessing partnerships with Activision Blizzard’s Overwatch League.\n\nBoth companies ran advertisements in matches earlier this week, though some other sponsors were conspicuously absent.\n\nNew, by @TeddyAmen:\nhttps://t.co/DcISAXRTdD<b>Polarity:</b> 0.0037878787878787845<br><b>Subjectivity:</b> 0.4431818181818182",
          "<b>Name:</b> GamerMonkey_<br><b>User Location:</b> Online- Give Us A Follow!<br><b>Verified?</b> False<br><b>Date:</b> 2021-08-06<br><b>Tweet:</b> Report: Coca-Cola and State Farm step away from Overwatch League sponsorship https://t.co/LkB68Rviie<b>Polarity:</b> 0.0<br><b>Subjectivity:</b> 0.0",
          "<b>Name:</b> Gfinity<br><b>User Location:</b> The Gfinity Arena<br><b>Verified?</b> False<br><b>Date:</b> 2021-08-06<br><b>Tweet:</b> Coca Cola are stepping back from partnership with Overwatch League due to discrimination lawsuit\n\nhttps://t.co/XId8XtSuoM<b>Polarity:</b> -0.0625<br><b>Subjectivity:</b> 0.1875",
          "<b>Name:</b> TeddyAmen<br><b>User Location:</b> Washington, DC<br><b>Verified?</b> False<br><b>Date:</b> 2022-03-17<br><b>Tweet:</b> New for @LauncherWP w/ a scoop:\nI emailed every company that sponsored the Overwatch League last season. Coca-Cola, Kellogg’s, State Farm and Comcast don’t have plans to sponsor #OWL2022\n\nhttps://t.co/qrxW2hvvA9<b>Polarity:</b> 0.06818181818181818<br><b>Subjectivity:</b> 0.2606060606060606",
          "<b>Name:</b> camashta<br><b>User Location:</b> Austin, TX<br><b>Verified?</b> False<br><b>Date:</b> 2021-08-05<br><b>Tweet:</b> Amid harassment lawsuit, Coca Cola, State Farm pull back from Blizzard’s Overwatch League https://t.co/AuDv2pZSY0 https://t.co/knkfuqHhIL https://t.co/LzC4KGdRVm<b>Polarity:</b> 0.0<br><b>Subjectivity:</b> 0.0",
          "<b>Name:</b> boybecauseofyou<br><b>User Location:</b> nan<br><b>Verified?</b> False<br><b>Date:</b> 2021-08-07<br><b>Tweet:</b> @CocaCola Watching the Overwatch League<b>Polarity:</b> 0.0<br><b>Subjectivity:</b> 0.0",
          "<b>Name:</b> Magia_OW<br><b>User Location:</b> nan<br><b>Verified?</b> False<br><b>Date:</b> 2021-11-13<br><b>Tweet:</b> If we ever have another goats meta because OWL is sponsored by Coca-cola can we call it \"Diet Goats\" @overwatchleague<b>Polarity:</b> 0.0<br><b>Subjectivity:</b> 0.0",
          "<b>Name:</b> MercyWattson<br><b>User Location:</b> nan<br><b>Verified?</b> False<br><b>Date:</b> 2021-07-11<br><b>Tweet:</b> @VisorDaddy @overwatchleague @CocaCola @DallasFuel @ATLReign @BostonUprising @washjustice @ParisEternal @LAGladiators \"Gone. Reduced to atoms.\"<b>Polarity:</b> 0.0<br><b>Subjectivity:</b> 0.0",
          "<b>Name:</b> Whateva22948784<br><b>User Location:</b> nan<br><b>Verified?</b> False<br><b>Date:</b> 2021-08-06<br><b>Tweet:</b> @CocaCola @StateFarm @TMobile The news about Blizzard harassment are already bad for Overwatch League Viewers. Do not abandon us now.<b>Polarity:</b> -0.6999999999999998<br><b>Subjectivity:</b> 0.6666666666666666",
          "<b>Name:</b> Quote_nderscore<br><b>User Location:</b> nan<br><b>Verified?</b> False<br><b>Date:</b> 2021-07-17<br><b>Tweet:</b> @overwatchleague @ShanghaiDragons @ChengduHunters @CocaCola summoning circle, hope this works \n\n                       🕯\n              🕯              🕯\n        🕯                         🕯\n \n   🕯        Chengdu win     🕯\n\n        🕯                          🕯\n              🕯              🕯\n                        🕯<b>Polarity:</b> 0.8<br><b>Subjectivity:</b> 0.4",
          "<b>Name:</b> penguincosplay1<br><b>User Location:</b> Georgia, USA<br><b>Verified?</b> False<br><b>Date:</b> 2021-07-20<br><b>Tweet:</b> @overwatchleague @CocaCola Family through an through....\nWouldn't know where I would be without my @ATLRoyalFamily @MasqueradeRoyal... https://t.co/dXsEPt2BrG<b>Polarity:</b> 0.0<br><b>Subjectivity:</b> 0.0",
          "<b>Name:</b> BadPachimari<br><b>User Location:</b> London<br><b>Verified?</b> False<br><b>Date:</b> 2021-07-17<br><b>Tweet:</b> @overwatchleague @ShanghaiDragons @ChengduHunters @CocaCola no please. i didnt get any sleep last night<b>Polarity:</b> 0.0<br><b>Subjectivity:</b> 0.06666666666666667",
          "<b>Name:</b> scriblax<br><b>User Location:</b> nan<br><b>Verified?</b> False<br><b>Date:</b> 2021-08-06<br><b>Tweet:</b> @Viddviddesan_ @ChristopherSpad @overwatchleague @MattMrX OWL have lost Coca Cola and statefarm sponsors and other 2 are planning to leave<b>Polarity:</b> -0.125<br><b>Subjectivity:</b> 0.375",
          "<b>Name:</b> jp_shujinkou<br><b>User Location:</b> 東京<br><b>Verified?</b> False<br><b>Date:</b> 2021-07-19<br><b>Tweet:</b> @overwatchleague @CocaCola @5DVNYC and @CURIEUXQUEEN are so awesome! \nEveryone was super welcoming every time I visited NY. Both the Barclays Grand Finals and the NYXL homestand are cherished memories.<b>Polarity:</b> 0.611111111111111<br><b>Subjectivity:</b> 0.8888888888888888",
          "<b>Name:</b> overwatchleague<br><b>User Location:</b> Irvine, CA<br><b>Verified?</b> False<br><b>Date:</b> 2021-09-27<br><b>Tweet:</b> @BadPachimari @CocaCola It's okay BP, there's someone out there for you, somebody that will truly appreciate all of your incorrect OWL predictions.<b>Polarity:</b> 0.5<br><b>Subjectivity:</b> 0.5",
          "<b>Name:</b> washvicevirtue<br><b>User Location:</b> Washington, DC<br><b>Verified?</b> False<br><b>Date:</b> 2021-07-19<br><b>Tweet:</b> @overwatchleague @CocaCola Hey I know them @consuesue \nIf anyone wants info on the Washington justice support group let’s us know! #JusticeIsServed #justicefighting #vvdc<b>Polarity:</b> 0.25<br><b>Subjectivity:</b> 0.1",
          "<b>Name:</b> ShanghaiDragons<br><b>User Location:</b> Shanghai, China<br><b>Verified?</b> False<br><b>Date:</b> 2021-07-17<br><b>Tweet:</b> @overwatchleague @ChengduHunters @CocaCola Yeah we gotchu, no problem!<b>Polarity:</b> 0.0<br><b>Subjectivity:</b> 0.0",
          "<b>Name:</b> carloslimba<br><b>User Location:</b> nan<br><b>Verified?</b> False<br><b>Date:</b> 2021-08-09<br><b>Tweet:</b> @gamerwipe @OverwatchTXT @CocaCola @overwatchleague This is by far the less offensive thing Coca Cola has done in history. The use to kill union workers in third world countries…<b>Polarity:</b> -0.022222222222222216<br><b>Subjectivity:</b> 0.35555555555555557",
          "<b>Name:</b> Pixel__Byte<br><b>User Location:</b> nan<br><b>Verified?</b> False<br><b>Date:</b> 2022-03-19<br><b>Tweet:</b> Report: Two Months Before Return, Overwatch League Still Has No Sponsors https://t.co/yEhf2PEE2a #overwatch #overwatchleague #cocacola #activisionblizzard<b>Polarity:</b> 0.0<br><b>Subjectivity:</b> 0.0",
          "<b>Name:</b> redditOWL<br><b>User Location:</b> nan<br><b>Verified?</b> False<br><b>Date:</b> 2021-09-22<br><b>Tweet:</b> \"wait are coca-cola still sponsoring the OWL? saw this just now in the livestream and i got confused\" - gabot-gdolot https://t.co/a9HMY054C3 #OverwatchLeague<b>Polarity:</b> -0.4<br><b>Subjectivity:</b> 0.7",
          "<b>Name:</b> jrockway<br><b>User Location:</b> Brooklyn<br><b>Verified?</b> False<br><b>Date:</b> 2021-08-19<br><b>Tweet:</b> 2 weeks ago when Blizzard was in the news, @CocaCola  said they were going to pull out of sponsoring Overwatch League.  Go over to the OWL website, and they're still sponsors.  Slimy.<b>Polarity:</b> 0.0<br><b>Subjectivity:</b> 0.0",
          "<b>Name:</b> WhatsOnTwitch<br><b>User Location:</b> Internet<br><b>Verified?</b> False<br><b>Date:</b> 2021-08-09<br><b>Tweet:</b> Overwatch League could lose Coca-Cola and State Farm sponsorship amid Blizzard lawsuit https://t.co/ZUxmt0Xs7t https://t.co/5eqcLZx3mE<b>Polarity:</b> 0.0<br><b>Subjectivity:</b> 0.0",
          "<b>Name:</b> redditOWL<br><b>User Location:</b> nan<br><b>Verified?</b> False<br><b>Date:</b> 2021-08-07<br><b>Tweet:</b> \"Kellogg's have pulled the sponsorship from OWL leaving only xfinity, Coca Cola (who is reevaluating) and State Farm (who is also reevaluating)\" - Tacovargen https://t.co/C5PZFwxR1t #OverwatchLeague<b>Polarity:</b> 0.0<br><b>Subjectivity:</b> 1.0",
          "<b>Name:</b> sky5niper<br><b>User Location:</b> A ༯<br><b>Verified?</b> False<br><b>Date:</b> 2021-08-06<br><b>Tweet:</b> @tjsr @BillyDaMoose @CocaCola @TMobile @overwatchleague Well that is literally any competitive game and overwatch doesn’t even have it the worse lol. Also OWL is not comp games... it’s the best players competing and almost all of them enjoy it and are respectful<b>Polarity:</b> 0.31666666666666665<br><b>Subjectivity:</b> 0.5333333333333333",
          "<b>Name:</b> You_Deeptech<br><b>User Location:</b> Surat, India<br><b>Verified?</b> False<br><b>Date:</b> 2021-08-10<br><b>Tweet:</b> Coca-Cola, State Farm and More Reassessing Partnerships With Overwatch League – The Fix: Esports https://t.co/bGRvu6qlqd<b>Polarity:</b> 0.5<br><b>Subjectivity:</b> 0.5",
          "<b>Name:</b> meunboxing<br><b>User Location:</b> Earth <br><b>Verified?</b> False<br><b>Date:</b> 2021-08-06<br><b>Tweet:</b> Coca-Cola, State Farm Reconsidering Overwatch League Sponsorships https://t.co/oc4vV6i2DT https://t.co/qc4FaZ8Z4r<b>Polarity:</b> 0.0<br><b>Subjectivity:</b> 0.0",
          "<b>Name:</b> Dungeon00X<br><b>User Location:</b> Texas<br><b>Verified?</b> False<br><b>Date:</b> 2021-08-05<br><b>Tweet:</b> @Kotaku I'm surprised that an Overwatch league still exists after this. Also, Bobby Kotick is on the board of directors at Coca-cola!<b>Polarity:</b> 0.125<br><b>Subjectivity:</b> 0.9",
          "<b>Name:</b> EGamersWorld<br><b>User Location:</b> nan<br><b>Verified?</b> False<br><b>Date:</b> 2021-08-06<br><b>Tweet:</b> Coca-Cola and State Farm reconsider Overwatch League partnership\n\nThe organizations made this decision due to allegations of harassment and discrimination against Activision Blizzard.\n\nhttps://t.co/1jDmDZoXQw<b>Polarity:</b> -0.125<br><b>Subjectivity:</b> 0.375",
          "<b>Name:</b> mariuskarma<br><b>User Location:</b> internet<br><b>Verified?</b> False<br><b>Date:</b> 2021-08-07<br><b>Tweet:</b> ForbesTech: Coca-Cola and State Farm are reevaluating their Overwatch League partnerships https://t.co/KiyZTn5YYJ by @krisholt<b>Polarity:</b> 0.0<br><b>Subjectivity:</b> 0.0",
          "<b>Name:</b> jaymcastello<br><b>User Location:</b> jaymcastello [at] gmail.com<br><b>Verified?</b> False<br><b>Date:</b> 2021-08-05<br><b>Tweet:</b> @Vahn16 \"Both Coca-Cola and State Farm ran advertisements in Overwatch League matches earlier this week\" love to see brands take decisive and timely action<b>Polarity:</b> 0.19999999999999998<br><b>Subjectivity:</b> 0.4000000000000001",
          "<b>Name:</b> MsMoLogan<br><b>User Location:</b> Georgia, USA<br><b>Verified?</b> False<br><b>Date:</b> 2021-08-06<br><b>Tweet:</b> 👀 The Washington Post: Amid harassment lawsuit, Coca Cola, State Farm pull back from Blizzard's Overwatch League.\nhttps://t.co/lCiskYZnGV\n\nvia @GoogleNews<b>Polarity:</b> 0.0<br><b>Subjectivity:</b> 0.0"
         ],
         "type": "scattermapbox"
        }
       ],
       "layout": {
        "height": 650,
        "mapbox": {
         "center": {
          "lat": 46.3144754,
          "lon": 11.0480288
         },
         "style": "carto-positron",
         "zoom": 0.5
        },
        "template": {
         "data": {
          "bar": [
           {
            "error_x": {
             "color": "#2a3f5f"
            },
            "error_y": {
             "color": "#2a3f5f"
            },
            "marker": {
             "line": {
              "color": "#E5ECF6",
              "width": 0.5
             },
             "pattern": {
              "fillmode": "overlay",
              "size": 10,
              "solidity": 0.2
             }
            },
            "type": "bar"
           }
          ],
          "barpolar": [
           {
            "marker": {
             "line": {
              "color": "#E5ECF6",
              "width": 0.5
             },
             "pattern": {
              "fillmode": "overlay",
              "size": 10,
              "solidity": 0.2
             }
            },
            "type": "barpolar"
           }
          ],
          "carpet": [
           {
            "aaxis": {
             "endlinecolor": "#2a3f5f",
             "gridcolor": "white",
             "linecolor": "white",
             "minorgridcolor": "white",
             "startlinecolor": "#2a3f5f"
            },
            "baxis": {
             "endlinecolor": "#2a3f5f",
             "gridcolor": "white",
             "linecolor": "white",
             "minorgridcolor": "white",
             "startlinecolor": "#2a3f5f"
            },
            "type": "carpet"
           }
          ],
          "choropleth": [
           {
            "colorbar": {
             "outlinewidth": 0,
             "ticks": ""
            },
            "type": "choropleth"
           }
          ],
          "contour": [
           {
            "colorbar": {
             "outlinewidth": 0,
             "ticks": ""
            },
            "colorscale": [
             [
              0,
              "#0d0887"
             ],
             [
              0.1111111111111111,
              "#46039f"
             ],
             [
              0.2222222222222222,
              "#7201a8"
             ],
             [
              0.3333333333333333,
              "#9c179e"
             ],
             [
              0.4444444444444444,
              "#bd3786"
             ],
             [
              0.5555555555555556,
              "#d8576b"
             ],
             [
              0.6666666666666666,
              "#ed7953"
             ],
             [
              0.7777777777777778,
              "#fb9f3a"
             ],
             [
              0.8888888888888888,
              "#fdca26"
             ],
             [
              1,
              "#f0f921"
             ]
            ],
            "type": "contour"
           }
          ],
          "contourcarpet": [
           {
            "colorbar": {
             "outlinewidth": 0,
             "ticks": ""
            },
            "type": "contourcarpet"
           }
          ],
          "heatmap": [
           {
            "colorbar": {
             "outlinewidth": 0,
             "ticks": ""
            },
            "colorscale": [
             [
              0,
              "#0d0887"
             ],
             [
              0.1111111111111111,
              "#46039f"
             ],
             [
              0.2222222222222222,
              "#7201a8"
             ],
             [
              0.3333333333333333,
              "#9c179e"
             ],
             [
              0.4444444444444444,
              "#bd3786"
             ],
             [
              0.5555555555555556,
              "#d8576b"
             ],
             [
              0.6666666666666666,
              "#ed7953"
             ],
             [
              0.7777777777777778,
              "#fb9f3a"
             ],
             [
              0.8888888888888888,
              "#fdca26"
             ],
             [
              1,
              "#f0f921"
             ]
            ],
            "type": "heatmap"
           }
          ],
          "heatmapgl": [
           {
            "colorbar": {
             "outlinewidth": 0,
             "ticks": ""
            },
            "colorscale": [
             [
              0,
              "#0d0887"
             ],
             [
              0.1111111111111111,
              "#46039f"
             ],
             [
              0.2222222222222222,
              "#7201a8"
             ],
             [
              0.3333333333333333,
              "#9c179e"
             ],
             [
              0.4444444444444444,
              "#bd3786"
             ],
             [
              0.5555555555555556,
              "#d8576b"
             ],
             [
              0.6666666666666666,
              "#ed7953"
             ],
             [
              0.7777777777777778,
              "#fb9f3a"
             ],
             [
              0.8888888888888888,
              "#fdca26"
             ],
             [
              1,
              "#f0f921"
             ]
            ],
            "type": "heatmapgl"
           }
          ],
          "histogram": [
           {
            "marker": {
             "pattern": {
              "fillmode": "overlay",
              "size": 10,
              "solidity": 0.2
             }
            },
            "type": "histogram"
           }
          ],
          "histogram2d": [
           {
            "colorbar": {
             "outlinewidth": 0,
             "ticks": ""
            },
            "colorscale": [
             [
              0,
              "#0d0887"
             ],
             [
              0.1111111111111111,
              "#46039f"
             ],
             [
              0.2222222222222222,
              "#7201a8"
             ],
             [
              0.3333333333333333,
              "#9c179e"
             ],
             [
              0.4444444444444444,
              "#bd3786"
             ],
             [
              0.5555555555555556,
              "#d8576b"
             ],
             [
              0.6666666666666666,
              "#ed7953"
             ],
             [
              0.7777777777777778,
              "#fb9f3a"
             ],
             [
              0.8888888888888888,
              "#fdca26"
             ],
             [
              1,
              "#f0f921"
             ]
            ],
            "type": "histogram2d"
           }
          ],
          "histogram2dcontour": [
           {
            "colorbar": {
             "outlinewidth": 0,
             "ticks": ""
            },
            "colorscale": [
             [
              0,
              "#0d0887"
             ],
             [
              0.1111111111111111,
              "#46039f"
             ],
             [
              0.2222222222222222,
              "#7201a8"
             ],
             [
              0.3333333333333333,
              "#9c179e"
             ],
             [
              0.4444444444444444,
              "#bd3786"
             ],
             [
              0.5555555555555556,
              "#d8576b"
             ],
             [
              0.6666666666666666,
              "#ed7953"
             ],
             [
              0.7777777777777778,
              "#fb9f3a"
             ],
             [
              0.8888888888888888,
              "#fdca26"
             ],
             [
              1,
              "#f0f921"
             ]
            ],
            "type": "histogram2dcontour"
           }
          ],
          "mesh3d": [
           {
            "colorbar": {
             "outlinewidth": 0,
             "ticks": ""
            },
            "type": "mesh3d"
           }
          ],
          "parcoords": [
           {
            "line": {
             "colorbar": {
              "outlinewidth": 0,
              "ticks": ""
             }
            },
            "type": "parcoords"
           }
          ],
          "pie": [
           {
            "automargin": true,
            "type": "pie"
           }
          ],
          "scatter": [
           {
            "fillpattern": {
             "fillmode": "overlay",
             "size": 10,
             "solidity": 0.2
            },
            "type": "scatter"
           }
          ],
          "scatter3d": [
           {
            "line": {
             "colorbar": {
              "outlinewidth": 0,
              "ticks": ""
             }
            },
            "marker": {
             "colorbar": {
              "outlinewidth": 0,
              "ticks": ""
             }
            },
            "type": "scatter3d"
           }
          ],
          "scattercarpet": [
           {
            "marker": {
             "colorbar": {
              "outlinewidth": 0,
              "ticks": ""
             }
            },
            "type": "scattercarpet"
           }
          ],
          "scattergeo": [
           {
            "marker": {
             "colorbar": {
              "outlinewidth": 0,
              "ticks": ""
             }
            },
            "type": "scattergeo"
           }
          ],
          "scattergl": [
           {
            "marker": {
             "colorbar": {
              "outlinewidth": 0,
              "ticks": ""
             }
            },
            "type": "scattergl"
           }
          ],
          "scattermapbox": [
           {
            "marker": {
             "colorbar": {
              "outlinewidth": 0,
              "ticks": ""
             }
            },
            "type": "scattermapbox"
           }
          ],
          "scatterpolar": [
           {
            "marker": {
             "colorbar": {
              "outlinewidth": 0,
              "ticks": ""
             }
            },
            "type": "scatterpolar"
           }
          ],
          "scatterpolargl": [
           {
            "marker": {
             "colorbar": {
              "outlinewidth": 0,
              "ticks": ""
             }
            },
            "type": "scatterpolargl"
           }
          ],
          "scatterternary": [
           {
            "marker": {
             "colorbar": {
              "outlinewidth": 0,
              "ticks": ""
             }
            },
            "type": "scatterternary"
           }
          ],
          "surface": [
           {
            "colorbar": {
             "outlinewidth": 0,
             "ticks": ""
            },
            "colorscale": [
             [
              0,
              "#0d0887"
             ],
             [
              0.1111111111111111,
              "#46039f"
             ],
             [
              0.2222222222222222,
              "#7201a8"
             ],
             [
              0.3333333333333333,
              "#9c179e"
             ],
             [
              0.4444444444444444,
              "#bd3786"
             ],
             [
              0.5555555555555556,
              "#d8576b"
             ],
             [
              0.6666666666666666,
              "#ed7953"
             ],
             [
              0.7777777777777778,
              "#fb9f3a"
             ],
             [
              0.8888888888888888,
              "#fdca26"
             ],
             [
              1,
              "#f0f921"
             ]
            ],
            "type": "surface"
           }
          ],
          "table": [
           {
            "cells": {
             "fill": {
              "color": "#EBF0F8"
             },
             "line": {
              "color": "white"
             }
            },
            "header": {
             "fill": {
              "color": "#C8D4E3"
             },
             "line": {
              "color": "white"
             }
            },
            "type": "table"
           }
          ]
         },
         "layout": {
          "annotationdefaults": {
           "arrowcolor": "#2a3f5f",
           "arrowhead": 0,
           "arrowwidth": 1
          },
          "autotypenumbers": "strict",
          "coloraxis": {
           "colorbar": {
            "outlinewidth": 0,
            "ticks": ""
           }
          },
          "colorscale": {
           "diverging": [
            [
             0,
             "#8e0152"
            ],
            [
             0.1,
             "#c51b7d"
            ],
            [
             0.2,
             "#de77ae"
            ],
            [
             0.3,
             "#f1b6da"
            ],
            [
             0.4,
             "#fde0ef"
            ],
            [
             0.5,
             "#f7f7f7"
            ],
            [
             0.6,
             "#e6f5d0"
            ],
            [
             0.7,
             "#b8e186"
            ],
            [
             0.8,
             "#7fbc41"
            ],
            [
             0.9,
             "#4d9221"
            ],
            [
             1,
             "#276419"
            ]
           ],
           "sequential": [
            [
             0,
             "#0d0887"
            ],
            [
             0.1111111111111111,
             "#46039f"
            ],
            [
             0.2222222222222222,
             "#7201a8"
            ],
            [
             0.3333333333333333,
             "#9c179e"
            ],
            [
             0.4444444444444444,
             "#bd3786"
            ],
            [
             0.5555555555555556,
             "#d8576b"
            ],
            [
             0.6666666666666666,
             "#ed7953"
            ],
            [
             0.7777777777777778,
             "#fb9f3a"
            ],
            [
             0.8888888888888888,
             "#fdca26"
            ],
            [
             1,
             "#f0f921"
            ]
           ],
           "sequentialminus": [
            [
             0,
             "#0d0887"
            ],
            [
             0.1111111111111111,
             "#46039f"
            ],
            [
             0.2222222222222222,
             "#7201a8"
            ],
            [
             0.3333333333333333,
             "#9c179e"
            ],
            [
             0.4444444444444444,
             "#bd3786"
            ],
            [
             0.5555555555555556,
             "#d8576b"
            ],
            [
             0.6666666666666666,
             "#ed7953"
            ],
            [
             0.7777777777777778,
             "#fb9f3a"
            ],
            [
             0.8888888888888888,
             "#fdca26"
            ],
            [
             1,
             "#f0f921"
            ]
           ]
          },
          "colorway": [
           "#636efa",
           "#EF553B",
           "#00cc96",
           "#ab63fa",
           "#FFA15A",
           "#19d3f3",
           "#FF6692",
           "#B6E880",
           "#FF97FF",
           "#FECB52"
          ],
          "font": {
           "color": "#2a3f5f"
          },
          "geo": {
           "bgcolor": "white",
           "lakecolor": "white",
           "landcolor": "#E5ECF6",
           "showlakes": true,
           "showland": true,
           "subunitcolor": "white"
          },
          "hoverlabel": {
           "align": "left"
          },
          "hovermode": "closest",
          "mapbox": {
           "style": "light"
          },
          "paper_bgcolor": "white",
          "plot_bgcolor": "#E5ECF6",
          "polar": {
           "angularaxis": {
            "gridcolor": "white",
            "linecolor": "white",
            "ticks": ""
           },
           "bgcolor": "#E5ECF6",
           "radialaxis": {
            "gridcolor": "white",
            "linecolor": "white",
            "ticks": ""
           }
          },
          "scene": {
           "xaxis": {
            "backgroundcolor": "#E5ECF6",
            "gridcolor": "white",
            "gridwidth": 2,
            "linecolor": "white",
            "showbackground": true,
            "ticks": "",
            "zerolinecolor": "white"
           },
           "yaxis": {
            "backgroundcolor": "#E5ECF6",
            "gridcolor": "white",
            "gridwidth": 2,
            "linecolor": "white",
            "showbackground": true,
            "ticks": "",
            "zerolinecolor": "white"
           },
           "zaxis": {
            "backgroundcolor": "#E5ECF6",
            "gridcolor": "white",
            "gridwidth": 2,
            "linecolor": "white",
            "showbackground": true,
            "ticks": "",
            "zerolinecolor": "white"
           }
          },
          "shapedefaults": {
           "line": {
            "color": "#2a3f5f"
           }
          },
          "ternary": {
           "aaxis": {
            "gridcolor": "white",
            "linecolor": "white",
            "ticks": ""
           },
           "baxis": {
            "gridcolor": "white",
            "linecolor": "white",
            "ticks": ""
           },
           "bgcolor": "#E5ECF6",
           "caxis": {
            "gridcolor": "white",
            "linecolor": "white",
            "ticks": ""
           }
          },
          "title": {
           "x": 0.05
          },
          "xaxis": {
           "automargin": true,
           "gridcolor": "white",
           "linecolor": "white",
           "ticks": "",
           "title": {
            "standoff": 15
           },
           "zerolinecolor": "white",
           "zerolinewidth": 2
          },
          "yaxis": {
           "automargin": true,
           "gridcolor": "white",
           "linecolor": "white",
           "ticks": "",
           "title": {
            "standoff": 15
           },
           "zerolinecolor": "white",
           "zerolinewidth": 2
          }
         }
        },
        "title": {
         "text": "Polarity of Overwatch League/Coca-Cola-related Tweets"
        },
        "width": 900
       }
      }
     },
     "metadata": {},
     "output_type": "display_data"
    }
   ],
   "source": [
    "# Create a Scatter map figure with data for Polarity of Overwatch League/Coca-Cola-related Tweets\n",
    "polmap = go.Figure(go.Scattermapbox(lat=tweets_final['geometry'].y,\n",
    "                                    lon=tweets_final['geometry'].x,\n",
    "                                    mode='markers',\n",
    "                                    marker=dict(size=7.5,\n",
    "                                                color=tweets_final['polarity'],\n",
    "                                                colorscale='sunset',\n",
    "                                                opacity=0.7,\n",
    "                                                colorbar=dict(title='Polarity')),\n",
    "                                    text=sentimenthover)\n",
    ")\n",
    "\n",
    "# Set the layout of the Scatter map figure, including the title, the map attributes, the plot height and the plot width\n",
    "polmap.update_layout(title='Polarity of Overwatch League/Coca-Cola-related Tweets',\n",
    "                     mapbox=dict(style='carto-positron',\n",
    "                                 center=dict(lat=tweets_final['geometry'].y.median(),\n",
    "                                             lon=tweets_final['geometry'].x.median()),\n",
    "                                 zoom=0.5),\n",
    "                     height=650,\n",
    "                     width=900\n",
    ")\n",
    "\n",
    "# Show the Scatter map figure\n",
    "polmap.show()"
   ]
  },
  {
   "attachments": {},
   "cell_type": "markdown",
   "metadata": {},
   "source": [
    "Using a Scatter map again, we visualise the geographical distribution of the polarity data from tweets related to the Overwatch League/Coca-Cola sponsorship. Using the Plotly library, and the Mapbox API, markers are placed on the map that correspond to the approximate location of each tweet and where it originated from. The 'carto-positron' Mapbox style is used to provide a clear background, and uses the latitude and longitude coordinates, which are derived from the 'geometry' column in the dataset, to plot each tweet. The markers are colored using the 'sunset' colorscale, which ranges from yellow to purple to represent negative and positive polarity, respectively. This helps to quickly identify areas of high negative or positive sentiment in the tweets and provides a broad overview of the global opinion of the Overwatch League/Coca-Cola sponsorship on Twitter."
   ]
  },
  {
   "attachments": {},
   "cell_type": "markdown",
   "metadata": {},
   "source": [
    "##### Subjectivity"
   ]
  },
  {
   "cell_type": "code",
   "execution_count": 22,
   "metadata": {},
   "outputs": [
    {
     "data": {
      "application/vnd.plotly.v1+json": {
       "config": {
        "plotlyServerURL": "https://plot.ly"
       },
       "data": [
        {
         "alignmentgroup": "True",
         "bingroup": "x",
         "hovertemplate": "subjectivity=%{x}<br>count=%{y}<extra></extra>",
         "legendgroup": "",
         "marker": {
          "color": "#636efa",
          "pattern": {
           "shape": ""
          }
         },
         "name": "",
         "nbinsx": 20,
         "offsetgroup": "",
         "orientation": "v",
         "showlegend": false,
         "type": "histogram",
         "x": [
          0,
          0.125,
          0.275,
          0.8,
          0.49000000000000005,
          1,
          0,
          0,
          0.4772727272727273,
          0.3375,
          0.7666666666666666,
          0,
          0.5333333333333333,
          0.8333333333333334,
          0,
          0,
          0.34424242424242424,
          0,
          0,
          0.1875,
          0.75,
          0,
          0,
          0.5,
          0.2333333333333333,
          0.13333333333333333,
          1,
          1,
          0,
          0.78,
          0.9,
          0,
          0,
          0,
          0,
          0,
          0,
          0,
          0,
          0.8333333333333334,
          1,
          0.275,
          0,
          0,
          0.75,
          0.3,
          0.53125,
          0.6000000000000001,
          0.5,
          0,
          0.15000000000000002,
          0,
          0,
          0,
          0,
          0,
          0,
          0.5,
          0,
          0.5,
          0,
          0,
          0,
          0,
          0,
          0,
          0,
          0.9666666666666667,
          0,
          0.06666666666666667,
          0,
          0.16666666666666666,
          0,
          0.05,
          0,
          0.6,
          0.3377777777777778,
          0.5,
          0.9,
          0,
          0,
          0,
          0,
          0,
          0,
          0,
          0,
          0,
          0.5,
          0.5,
          0,
          0.3,
          0,
          0,
          0,
          0,
          0.5,
          0,
          0,
          0,
          0,
          0,
          0.5,
          0,
          0,
          0,
          0,
          0,
          0,
          0.25,
          0.45454545454545453,
          0,
          0,
          0,
          0,
          0,
          0,
          0.3,
          0.28611111111111115,
          0,
          0,
          0,
          0,
          0,
          0,
          0,
          0.3,
          0.8333333333333334,
          0.175,
          0.25,
          0.4,
          0,
          0.4431818181818182,
          0,
          0.1875,
          0.2606060606060606,
          0,
          0,
          0,
          0,
          0.6666666666666666,
          0.4,
          0,
          0.06666666666666667,
          0.375,
          0.8888888888888888,
          0.5,
          0.1,
          0,
          0.35555555555555557,
          0,
          0.7,
          0,
          0,
          1,
          0.5333333333333333,
          0.5,
          0,
          0.9,
          0.375,
          0,
          0.4000000000000001,
          0
         ],
         "xaxis": "x",
         "yaxis": "y"
        }
       ],
       "layout": {
        "barmode": "relative",
        "legend": {
         "tracegroupgap": 0
        },
        "template": {
         "data": {
          "bar": [
           {
            "error_x": {
             "color": "#2a3f5f"
            },
            "error_y": {
             "color": "#2a3f5f"
            },
            "marker": {
             "line": {
              "color": "#E5ECF6",
              "width": 0.5
             },
             "pattern": {
              "fillmode": "overlay",
              "size": 10,
              "solidity": 0.2
             }
            },
            "type": "bar"
           }
          ],
          "barpolar": [
           {
            "marker": {
             "line": {
              "color": "#E5ECF6",
              "width": 0.5
             },
             "pattern": {
              "fillmode": "overlay",
              "size": 10,
              "solidity": 0.2
             }
            },
            "type": "barpolar"
           }
          ],
          "carpet": [
           {
            "aaxis": {
             "endlinecolor": "#2a3f5f",
             "gridcolor": "white",
             "linecolor": "white",
             "minorgridcolor": "white",
             "startlinecolor": "#2a3f5f"
            },
            "baxis": {
             "endlinecolor": "#2a3f5f",
             "gridcolor": "white",
             "linecolor": "white",
             "minorgridcolor": "white",
             "startlinecolor": "#2a3f5f"
            },
            "type": "carpet"
           }
          ],
          "choropleth": [
           {
            "colorbar": {
             "outlinewidth": 0,
             "ticks": ""
            },
            "type": "choropleth"
           }
          ],
          "contour": [
           {
            "colorbar": {
             "outlinewidth": 0,
             "ticks": ""
            },
            "colorscale": [
             [
              0,
              "#0d0887"
             ],
             [
              0.1111111111111111,
              "#46039f"
             ],
             [
              0.2222222222222222,
              "#7201a8"
             ],
             [
              0.3333333333333333,
              "#9c179e"
             ],
             [
              0.4444444444444444,
              "#bd3786"
             ],
             [
              0.5555555555555556,
              "#d8576b"
             ],
             [
              0.6666666666666666,
              "#ed7953"
             ],
             [
              0.7777777777777778,
              "#fb9f3a"
             ],
             [
              0.8888888888888888,
              "#fdca26"
             ],
             [
              1,
              "#f0f921"
             ]
            ],
            "type": "contour"
           }
          ],
          "contourcarpet": [
           {
            "colorbar": {
             "outlinewidth": 0,
             "ticks": ""
            },
            "type": "contourcarpet"
           }
          ],
          "heatmap": [
           {
            "colorbar": {
             "outlinewidth": 0,
             "ticks": ""
            },
            "colorscale": [
             [
              0,
              "#0d0887"
             ],
             [
              0.1111111111111111,
              "#46039f"
             ],
             [
              0.2222222222222222,
              "#7201a8"
             ],
             [
              0.3333333333333333,
              "#9c179e"
             ],
             [
              0.4444444444444444,
              "#bd3786"
             ],
             [
              0.5555555555555556,
              "#d8576b"
             ],
             [
              0.6666666666666666,
              "#ed7953"
             ],
             [
              0.7777777777777778,
              "#fb9f3a"
             ],
             [
              0.8888888888888888,
              "#fdca26"
             ],
             [
              1,
              "#f0f921"
             ]
            ],
            "type": "heatmap"
           }
          ],
          "heatmapgl": [
           {
            "colorbar": {
             "outlinewidth": 0,
             "ticks": ""
            },
            "colorscale": [
             [
              0,
              "#0d0887"
             ],
             [
              0.1111111111111111,
              "#46039f"
             ],
             [
              0.2222222222222222,
              "#7201a8"
             ],
             [
              0.3333333333333333,
              "#9c179e"
             ],
             [
              0.4444444444444444,
              "#bd3786"
             ],
             [
              0.5555555555555556,
              "#d8576b"
             ],
             [
              0.6666666666666666,
              "#ed7953"
             ],
             [
              0.7777777777777778,
              "#fb9f3a"
             ],
             [
              0.8888888888888888,
              "#fdca26"
             ],
             [
              1,
              "#f0f921"
             ]
            ],
            "type": "heatmapgl"
           }
          ],
          "histogram": [
           {
            "marker": {
             "pattern": {
              "fillmode": "overlay",
              "size": 10,
              "solidity": 0.2
             }
            },
            "type": "histogram"
           }
          ],
          "histogram2d": [
           {
            "colorbar": {
             "outlinewidth": 0,
             "ticks": ""
            },
            "colorscale": [
             [
              0,
              "#0d0887"
             ],
             [
              0.1111111111111111,
              "#46039f"
             ],
             [
              0.2222222222222222,
              "#7201a8"
             ],
             [
              0.3333333333333333,
              "#9c179e"
             ],
             [
              0.4444444444444444,
              "#bd3786"
             ],
             [
              0.5555555555555556,
              "#d8576b"
             ],
             [
              0.6666666666666666,
              "#ed7953"
             ],
             [
              0.7777777777777778,
              "#fb9f3a"
             ],
             [
              0.8888888888888888,
              "#fdca26"
             ],
             [
              1,
              "#f0f921"
             ]
            ],
            "type": "histogram2d"
           }
          ],
          "histogram2dcontour": [
           {
            "colorbar": {
             "outlinewidth": 0,
             "ticks": ""
            },
            "colorscale": [
             [
              0,
              "#0d0887"
             ],
             [
              0.1111111111111111,
              "#46039f"
             ],
             [
              0.2222222222222222,
              "#7201a8"
             ],
             [
              0.3333333333333333,
              "#9c179e"
             ],
             [
              0.4444444444444444,
              "#bd3786"
             ],
             [
              0.5555555555555556,
              "#d8576b"
             ],
             [
              0.6666666666666666,
              "#ed7953"
             ],
             [
              0.7777777777777778,
              "#fb9f3a"
             ],
             [
              0.8888888888888888,
              "#fdca26"
             ],
             [
              1,
              "#f0f921"
             ]
            ],
            "type": "histogram2dcontour"
           }
          ],
          "mesh3d": [
           {
            "colorbar": {
             "outlinewidth": 0,
             "ticks": ""
            },
            "type": "mesh3d"
           }
          ],
          "parcoords": [
           {
            "line": {
             "colorbar": {
              "outlinewidth": 0,
              "ticks": ""
             }
            },
            "type": "parcoords"
           }
          ],
          "pie": [
           {
            "automargin": true,
            "type": "pie"
           }
          ],
          "scatter": [
           {
            "fillpattern": {
             "fillmode": "overlay",
             "size": 10,
             "solidity": 0.2
            },
            "type": "scatter"
           }
          ],
          "scatter3d": [
           {
            "line": {
             "colorbar": {
              "outlinewidth": 0,
              "ticks": ""
             }
            },
            "marker": {
             "colorbar": {
              "outlinewidth": 0,
              "ticks": ""
             }
            },
            "type": "scatter3d"
           }
          ],
          "scattercarpet": [
           {
            "marker": {
             "colorbar": {
              "outlinewidth": 0,
              "ticks": ""
             }
            },
            "type": "scattercarpet"
           }
          ],
          "scattergeo": [
           {
            "marker": {
             "colorbar": {
              "outlinewidth": 0,
              "ticks": ""
             }
            },
            "type": "scattergeo"
           }
          ],
          "scattergl": [
           {
            "marker": {
             "colorbar": {
              "outlinewidth": 0,
              "ticks": ""
             }
            },
            "type": "scattergl"
           }
          ],
          "scattermapbox": [
           {
            "marker": {
             "colorbar": {
              "outlinewidth": 0,
              "ticks": ""
             }
            },
            "type": "scattermapbox"
           }
          ],
          "scatterpolar": [
           {
            "marker": {
             "colorbar": {
              "outlinewidth": 0,
              "ticks": ""
             }
            },
            "type": "scatterpolar"
           }
          ],
          "scatterpolargl": [
           {
            "marker": {
             "colorbar": {
              "outlinewidth": 0,
              "ticks": ""
             }
            },
            "type": "scatterpolargl"
           }
          ],
          "scatterternary": [
           {
            "marker": {
             "colorbar": {
              "outlinewidth": 0,
              "ticks": ""
             }
            },
            "type": "scatterternary"
           }
          ],
          "surface": [
           {
            "colorbar": {
             "outlinewidth": 0,
             "ticks": ""
            },
            "colorscale": [
             [
              0,
              "#0d0887"
             ],
             [
              0.1111111111111111,
              "#46039f"
             ],
             [
              0.2222222222222222,
              "#7201a8"
             ],
             [
              0.3333333333333333,
              "#9c179e"
             ],
             [
              0.4444444444444444,
              "#bd3786"
             ],
             [
              0.5555555555555556,
              "#d8576b"
             ],
             [
              0.6666666666666666,
              "#ed7953"
             ],
             [
              0.7777777777777778,
              "#fb9f3a"
             ],
             [
              0.8888888888888888,
              "#fdca26"
             ],
             [
              1,
              "#f0f921"
             ]
            ],
            "type": "surface"
           }
          ],
          "table": [
           {
            "cells": {
             "fill": {
              "color": "#EBF0F8"
             },
             "line": {
              "color": "white"
             }
            },
            "header": {
             "fill": {
              "color": "#C8D4E3"
             },
             "line": {
              "color": "white"
             }
            },
            "type": "table"
           }
          ]
         },
         "layout": {
          "annotationdefaults": {
           "arrowcolor": "#2a3f5f",
           "arrowhead": 0,
           "arrowwidth": 1
          },
          "autotypenumbers": "strict",
          "coloraxis": {
           "colorbar": {
            "outlinewidth": 0,
            "ticks": ""
           }
          },
          "colorscale": {
           "diverging": [
            [
             0,
             "#8e0152"
            ],
            [
             0.1,
             "#c51b7d"
            ],
            [
             0.2,
             "#de77ae"
            ],
            [
             0.3,
             "#f1b6da"
            ],
            [
             0.4,
             "#fde0ef"
            ],
            [
             0.5,
             "#f7f7f7"
            ],
            [
             0.6,
             "#e6f5d0"
            ],
            [
             0.7,
             "#b8e186"
            ],
            [
             0.8,
             "#7fbc41"
            ],
            [
             0.9,
             "#4d9221"
            ],
            [
             1,
             "#276419"
            ]
           ],
           "sequential": [
            [
             0,
             "#0d0887"
            ],
            [
             0.1111111111111111,
             "#46039f"
            ],
            [
             0.2222222222222222,
             "#7201a8"
            ],
            [
             0.3333333333333333,
             "#9c179e"
            ],
            [
             0.4444444444444444,
             "#bd3786"
            ],
            [
             0.5555555555555556,
             "#d8576b"
            ],
            [
             0.6666666666666666,
             "#ed7953"
            ],
            [
             0.7777777777777778,
             "#fb9f3a"
            ],
            [
             0.8888888888888888,
             "#fdca26"
            ],
            [
             1,
             "#f0f921"
            ]
           ],
           "sequentialminus": [
            [
             0,
             "#0d0887"
            ],
            [
             0.1111111111111111,
             "#46039f"
            ],
            [
             0.2222222222222222,
             "#7201a8"
            ],
            [
             0.3333333333333333,
             "#9c179e"
            ],
            [
             0.4444444444444444,
             "#bd3786"
            ],
            [
             0.5555555555555556,
             "#d8576b"
            ],
            [
             0.6666666666666666,
             "#ed7953"
            ],
            [
             0.7777777777777778,
             "#fb9f3a"
            ],
            [
             0.8888888888888888,
             "#fdca26"
            ],
            [
             1,
             "#f0f921"
            ]
           ]
          },
          "colorway": [
           "#636efa",
           "#EF553B",
           "#00cc96",
           "#ab63fa",
           "#FFA15A",
           "#19d3f3",
           "#FF6692",
           "#B6E880",
           "#FF97FF",
           "#FECB52"
          ],
          "font": {
           "color": "#2a3f5f"
          },
          "geo": {
           "bgcolor": "white",
           "lakecolor": "white",
           "landcolor": "#E5ECF6",
           "showlakes": true,
           "showland": true,
           "subunitcolor": "white"
          },
          "hoverlabel": {
           "align": "left"
          },
          "hovermode": "closest",
          "mapbox": {
           "style": "light"
          },
          "paper_bgcolor": "white",
          "plot_bgcolor": "#E5ECF6",
          "polar": {
           "angularaxis": {
            "gridcolor": "white",
            "linecolor": "white",
            "ticks": ""
           },
           "bgcolor": "#E5ECF6",
           "radialaxis": {
            "gridcolor": "white",
            "linecolor": "white",
            "ticks": ""
           }
          },
          "scene": {
           "xaxis": {
            "backgroundcolor": "#E5ECF6",
            "gridcolor": "white",
            "gridwidth": 2,
            "linecolor": "white",
            "showbackground": true,
            "ticks": "",
            "zerolinecolor": "white"
           },
           "yaxis": {
            "backgroundcolor": "#E5ECF6",
            "gridcolor": "white",
            "gridwidth": 2,
            "linecolor": "white",
            "showbackground": true,
            "ticks": "",
            "zerolinecolor": "white"
           },
           "zaxis": {
            "backgroundcolor": "#E5ECF6",
            "gridcolor": "white",
            "gridwidth": 2,
            "linecolor": "white",
            "showbackground": true,
            "ticks": "",
            "zerolinecolor": "white"
           }
          },
          "shapedefaults": {
           "line": {
            "color": "#2a3f5f"
           }
          },
          "ternary": {
           "aaxis": {
            "gridcolor": "white",
            "linecolor": "white",
            "ticks": ""
           },
           "baxis": {
            "gridcolor": "white",
            "linecolor": "white",
            "ticks": ""
           },
           "bgcolor": "#E5ECF6",
           "caxis": {
            "gridcolor": "white",
            "linecolor": "white",
            "ticks": ""
           }
          },
          "title": {
           "x": 0.05
          },
          "xaxis": {
           "automargin": true,
           "gridcolor": "white",
           "linecolor": "white",
           "ticks": "",
           "title": {
            "standoff": 15
           },
           "zerolinecolor": "white",
           "zerolinewidth": 2
          },
          "yaxis": {
           "automargin": true,
           "gridcolor": "white",
           "linecolor": "white",
           "ticks": "",
           "title": {
            "standoff": 15
           },
           "zerolinecolor": "white",
           "zerolinewidth": 2
          }
         }
        },
        "title": {
         "text": "Subjectivity of Overwatch League/Coca-Cola-related Tweets"
        },
        "width": 900,
        "xaxis": {
         "anchor": "y",
         "domain": [
          0,
          1
         ],
         "title": {
          "text": "subjectivity"
         }
        },
        "yaxis": {
         "anchor": "x",
         "domain": [
          0,
          1
         ],
         "title": {
          "text": "count"
         }
        }
       }
      }
     },
     "metadata": {},
     "output_type": "display_data"
    }
   ],
   "source": [
    "# Create a Histogram figure with data for Subjectivity of Overwatch League/Coca-Cola-related Tweets\n",
    "subhist=px.histogram(tweets_final,\n",
    "                     x='subjectivity',\n",
    "                     nbins=20,\n",
    "                     title='Subjectivity of Overwatch League/Coca-Cola-related Tweets',\n",
    "                     width=900)\n",
    "\n",
    "# Show the Histogram figure\n",
    "subhist.show()"
   ]
  },
  {
   "attachments": {},
   "cell_type": "markdown",
   "metadata": {},
   "source": [
    "Using a histogram again, we can visualize the subjectivity data from the sentiment analysis we applied to the dataset. The histogram shows that the majority of tweets have a subjectivity score of 0, indicating an objective tone towards the Overwatch League/Coca-Cola sponsorship. There are a handful of tweets with fair to high subjectivity scores, indicating a more personal or emotional tone. Overall, the histogram provides a clear representation of the subjectivity distribution among Twitter users in relation to the Overwatch League/Coca-Cola sponsorship."
   ]
  },
  {
   "cell_type": "code",
   "execution_count": 23,
   "metadata": {},
   "outputs": [
    {
     "data": {
      "application/vnd.plotly.v1+json": {
       "config": {
        "plotlyServerURL": "https://plot.ly"
       },
       "data": [
        {
         "lat": [
          61.0666922,
          30.2423325,
          null,
          33.6856969,
          39.7837304,
          54.596391,
          51.31485155,
          46.3144754,
          38.8950368,
          46.3144754,
          46.3144754,
          46.3144754,
          34.2331373,
          null,
          46.3144754,
          46.3144754,
          46.3144754,
          54.7023545,
          51.31485155,
          34.0536909,
          38.8950368,
          46.3144754,
          null,
          39.7837304,
          null,
          38.8950368,
          38.8950368,
          null,
          38.8950368,
          46.3144754,
          46.3144754,
          37.1232245,
          45.4641943,
          22.2793278,
          46.3144754,
          51.0333408,
          46.3144754,
          46.3144754,
          null,
          46.3144754,
          46.3144754,
          46.3144754,
          46.3144754,
          46.3144754,
          null,
          null,
          null,
          null,
          46.3144754,
          null,
          46.3144754,
          null,
          46.3144754,
          46.3144754,
          53.5120412,
          34.0536909,
          null,
          46.3144754,
          46.3144754,
          31.2638905,
          39.7837304,
          46.3144754,
          64.9841821,
          46.3144754,
          null,
          46.3144754,
          39.5162401,
          null,
          null,
          null,
          46.3144754,
          40.3491604,
          46.3144754,
          34.7465071,
          42.3554334,
          46.3144754,
          34.7465071,
          40.3491604,
          43.6534817,
          null,
          34.0194704,
          34.0194704,
          46.3144754,
          4.5962954,
          46.3144754,
          33.4000633,
          null,
          32.5686782,
          null,
          46.3144754,
          46.3144754,
          53.7584391,
          53.5120412,
          46.3144754,
          46.3144754,
          46.3144754,
          51.5073359,
          46.3144754,
          53.5120412,
          null,
          null,
          38.8950368,
          36.4738178,
          40.7127281,
          46.3144754,
          52.215933,
          41.589782,
          39.6262264,
          34.2331373,
          3.1516964,
          55.6786485,
          39.7837304,
          25.7741728,
          46.3144754,
          41.8755616,
          43.982063,
          46.3144754,
          39.7837304,
          43.0349931,
          52.2434979,
          46.3144754,
          39.7837304,
          6.3110548,
          30.2711286,
          46.3144754,
          null,
          46.3144754,
          46.3144754,
          38.8950368,
          null,
          null,
          46.3144754,
          38.8950368,
          null,
          null,
          38.8950368,
          30.2711286,
          46.3144754,
          46.3144754,
          46.3144754,
          46.3144754,
          46.3144754,
          32.3293809,
          51.5073359,
          46.3144754,
          35.6840574,
          33.6856969,
          38.8950368,
          31.2312707,
          46.3144754,
          46.3144754,
          46.3144754,
          40.6526006,
          19.37218875,
          46.3144754,
          57.7576706,
          21.2094892,
          34.2331373,
          31.2638905,
          46.3144754,
          19.37218875,
          null,
          32.3293809
         ],
         "lon": [
          -107.991707,
          -97.84316855,
          null,
          -117.8259819,
          -100.445882,
          -5.9301829,
          9.526185431742482,
          11.0480288,
          -77.0365427,
          11.0480288,
          11.0480288,
          11.0480288,
          -102.4107493,
          null,
          11.0480288,
          11.0480288,
          11.0480288,
          -3.2765753,
          9.526185431742482,
          -118.242766,
          -77.0365427,
          11.0480288,
          null,
          -100.445882,
          null,
          -77.0365427,
          -77.0365427,
          null,
          -77.0365427,
          11.0480288,
          11.0480288,
          -78.4927721,
          9.1896346,
          114.1628131,
          11.0480288,
          2.8647185,
          11.0480288,
          11.0480288,
          null,
          11.0480288,
          11.0480288,
          11.0480288,
          11.0480288,
          11.0480288,
          null,
          null,
          null,
          null,
          11.0480288,
          null,
          11.0480288,
          null,
          11.0480288,
          11.0480288,
          -2.2434612,
          -118.242766,
          null,
          11.0480288,
          11.0480288,
          -98.5456116,
          -100.445882,
          11.0480288,
          -18.1059013,
          11.0480288,
          null,
          11.0480288,
          -76.9382069,
          null,
          null,
          null,
          11.0480288,
          -84.1593008,
          11.0480288,
          -92.2896267,
          -71.060511,
          11.0480288,
          -92.2896267,
          -84.1593008,
          -79.3839347,
          null,
          -118.491227,
          -118.491227,
          11.0480288,
          -74.0944069,
          11.0480288,
          -91.0551312,
          null,
          74.071481,
          null,
          11.0480288,
          11.0480288,
          -2.6951861,
          -2.2434612,
          11.0480288,
          11.0480288,
          11.0480288,
          -0.12765,
          11.0480288,
          -2.2434612,
          null,
          null,
          -77.0365427,
          -86.1414298,
          -74.0060152,
          11.0480288,
          19.134422,
          -73.07858882598426,
          19.9036023,
          -102.4107493,
          101.6942371,
          12.5697826,
          -100.445882,
          -80.19362,
          11.0480288,
          -87.6244212,
          -117.238456,
          11.0480288,
          -100.445882,
          -87.922497,
          5.6343227,
          11.0480288,
          -100.445882,
          20.5447525,
          -97.7436995,
          11.0480288,
          null,
          11.0480288,
          11.0480288,
          -77.0365427,
          null,
          null,
          11.0480288,
          -77.0365427,
          null,
          null,
          -77.0365427,
          -97.7436995,
          11.0480288,
          11.0480288,
          11.0480288,
          11.0480288,
          11.0480288,
          -83.1137366,
          -0.12765,
          11.0480288,
          139.7744912,
          -117.8259819,
          -77.0365427,
          121.4700152,
          11.0480288,
          11.0480288,
          11.0480288,
          -73.9497211,
          -72.33465445105234,
          11.0480288,
          11.9910676,
          72.8317058,
          -102.4107493,
          -98.5456116,
          11.0480288,
          -72.33465445105234,
          null,
          -83.1137366
         ],
         "marker": {
          "color": [
           0,
           0.125,
           0.275,
           0.8,
           0.49000000000000005,
           1,
           0,
           0,
           0.4772727272727273,
           0.3375,
           0.7666666666666666,
           0,
           0.5333333333333333,
           0.8333333333333334,
           0,
           0,
           0.34424242424242424,
           0,
           0,
           0.1875,
           0.75,
           0,
           0,
           0.5,
           0.2333333333333333,
           0.13333333333333333,
           1,
           1,
           0,
           0.78,
           0.9,
           0,
           0,
           0,
           0,
           0,
           0,
           0,
           0,
           0.8333333333333334,
           1,
           0.275,
           0,
           0,
           0.75,
           0.3,
           0.53125,
           0.6000000000000001,
           0.5,
           0,
           0.15000000000000002,
           0,
           0,
           0,
           0,
           0,
           0,
           0.5,
           0,
           0.5,
           0,
           0,
           0,
           0,
           0,
           0,
           0,
           0.9666666666666667,
           0,
           0.06666666666666667,
           0,
           0.16666666666666666,
           0,
           0.05,
           0,
           0.6,
           0.3377777777777778,
           0.5,
           0.9,
           0,
           0,
           0,
           0,
           0,
           0,
           0,
           0,
           0,
           0.5,
           0.5,
           0,
           0.3,
           0,
           0,
           0,
           0,
           0.5,
           0,
           0,
           0,
           0,
           0,
           0.5,
           0,
           0,
           0,
           0,
           0,
           0,
           0.25,
           0.45454545454545453,
           0,
           0,
           0,
           0,
           0,
           0,
           0.3,
           0.28611111111111115,
           0,
           0,
           0,
           0,
           0,
           0,
           0,
           0.3,
           0.8333333333333334,
           0.175,
           0.25,
           0.4,
           0,
           0.4431818181818182,
           0,
           0.1875,
           0.2606060606060606,
           0,
           0,
           0,
           0,
           0.6666666666666666,
           0.4,
           0,
           0.06666666666666667,
           0.375,
           0.8888888888888888,
           0.5,
           0.1,
           0,
           0.35555555555555557,
           0,
           0.7,
           0,
           0,
           1,
           0.5333333333333333,
           0.5,
           0,
           0.9,
           0.375,
           0,
           0.4000000000000001,
           0
          ],
          "colorbar": {
           "title": {
            "text": "Subjectivity"
           }
          },
          "colorscale": [
           [
            0,
            "rgb(243, 231, 155)"
           ],
           [
            0.16666666666666666,
            "rgb(250, 196, 132)"
           ],
           [
            0.3333333333333333,
            "rgb(248, 160, 126)"
           ],
           [
            0.5,
            "rgb(235, 127, 134)"
           ],
           [
            0.6666666666666666,
            "rgb(206, 102, 147)"
           ],
           [
            0.8333333333333334,
            "rgb(160, 89, 160)"
           ],
           [
            1,
            "rgb(92, 83, 165)"
           ]
          ],
          "opacity": 0.7,
          "size": 7.5
         },
         "mode": "markers",
         "text": [
          "<b>Name:</b> fuckitseominsoo<br><b>User Location:</b> Canada<br><b>Verified?</b> False<br><b>Date:</b> 2022-11-06<br><b>Tweet:</b> Despite no longer sponsoring OWL, you can still purchase Overwatch League branded Coca-Cola bottles on their website.\n\n🥤: https://t.co/im4CjQT2I5 https://t.co/coH2f4mhO0<b>Polarity:</b> 0.0<br><b>Subjectivity:</b> 0.0",
          "<b>Name:</b> OscarINTEL<br><b>User Location:</b> Overwatch<br><b>Verified?</b> False<br><b>Date:</b> 2021-08-05<br><b>Tweet:</b> State Farm and Coca Cola have paused their sponsorship of the Overwatch League amid the Activision Blizzard lawsuit controversy. \n\nWashington Post reports that both sponsors are \"reassessing\" their future with OWL. https://t.co/n6F5evGREl<b>Polarity:</b> 0.0<br><b>Subjectivity:</b> 0.125",
          "<b>Name:</b> Wowhead<br><b>User Location:</b> Azeroth & Sanctuary<br><b>Verified?</b> False<br><b>Date:</b> 2021-08-06<br><b>Tweet:</b> Several corporate sponsors of the Overwatch League are rethinking their relationships following the Activision Blizzard lawsuit. \n\nSo far, T-Mobile, State Farm insurance, and Coca-Cola have removed their advertisements from Overwatch League matches.\n\nhttps://t.co/cAm4gP9Yq8 https://t.co/OYGX2bLI0V<b>Polarity:</b> 0.025<br><b>Subjectivity:</b> 0.275",
          "<b>Name:</b> overwatchleague<br><b>User Location:</b> Irvine, CA<br><b>Verified?</b> False<br><b>Date:</b> 2021-09-27<br><b>Tweet:</b> Love is in the Overwatch League 💍\n\nProposals and adorable matching jerseys galore in this @CocaCola Community Feature! https://t.co/0sNFWXCyVm<b>Polarity:</b> 0.5625<br><b>Subjectivity:</b> 0.8",
          "<b>Name:</b> jonunderscor<br><b>User Location:</b> United States<br><b>Verified?</b> False<br><b>Date:</b> 2023-05-22<br><b>Tweet:</b> What a great match there coming from the Coca-Cola Overwatch League. \n\nNow it's time for the Cheezits Groove Play of the Game Brought to you by our Sour Patch Kids Analyst Desk.\n\nHere's Jake Butterfinger, ready to tell you about the Bud Light Widowmaker kill on State Farm Kings R<b>Polarity:</b> 0.17<br><b>Subjectivity:</b> 0.49000000000000005",
          "<b>Name:</b> BellularGaming<br><b>User Location:</b> Belfast, Northern Ireland 🇮🇪<br><b>Verified?</b> False<br><b>Date:</b> 2021-08-06<br><b>Tweet:</b> Coca-Cola have pulled sponsorship from Overwatch League.\n\nBobby Kotick is on the board of the Coca-Cola company. Awkward!<b>Polarity:</b> -0.75<br><b>Subjectivity:</b> 1.0",
          "<b>Name:</b> shdw_shock<br><b>User Location:</b> he/him<br><b>Verified?</b> False<br><b>Date:</b> 2021-09-04<br><b>Tweet:</b> coca cola is the official refreshment of the overwatch league https://t.co/Bd4zSxrmMQ<b>Polarity:</b> 0.0<br><b>Subjectivity:</b> 0.0",
          "<b>Name:</b> IGN<br><b>User Location:</b> nan<br><b>Verified?</b> False<br><b>Date:</b> 2021-08-06<br><b>Tweet:</b> Overwatch League sponsors like Coca-Cola and State Farm are stepping back to reevaluate their relationships. https://t.co/L5XxPb1QPA https://t.co/tY9XC9Jixw<b>Polarity:</b> 0.0<br><b>Subjectivity:</b> 0.0",
          "<b>Name:</b> TeddyAmen<br><b>User Location:</b> Washington, DC<br><b>Verified?</b> False<br><b>Date:</b> 2021-08-05<br><b>Tweet:</b> New from me: State Farm is pulling its ads from the Overwatch League and Coca-Cola says they're revisiting plans with Blizzard. \n\nMore fallout from the California lawsuit alleging widespread harassments and discrimination at Activision Blizzard. https://t.co/8F5kRD3WR3<b>Polarity:</b> 0.3181818181818182<br><b>Subjectivity:</b> 0.4772727272727273",
          "<b>Name:</b> IGN<br><b>User Location:</b> nan<br><b>Verified?</b> False<br><b>Date:</b> 2021-08-10<br><b>Tweet:</b> The Overwatch League has seen many of their sponsors pull out of their deals due to the ongoing Activision/Blizzard accusations. Is Coca-Cola next? And what could this mean for the future of the OWL? https://t.co/uxErJEqaJh https://t.co/BM8iRcilym<b>Polarity:</b> 0.0125<br><b>Subjectivity:</b> 0.3375",
          "<b>Name:</b> GameSpot<br><b>User Location:</b> nan<br><b>Verified?</b> False<br><b>Date:</b> 2021-08-07<br><b>Tweet:</b> Coca-Cola and State Farm are reconsidering their Overwatch League sponsorships in light of the allegations of sexual harassment and discrimination at Activision Blizzard. https://t.co/eWI8WYuqFf https://t.co/UvN5hGjrgG<b>Polarity:</b> 0.45<br><b>Subjectivity:</b> 0.7666666666666666",
          "<b>Name:</b> VG247<br><b>User Location:</b> nan<br><b>Verified?</b> False<br><b>Date:</b> 2021-08-08<br><b>Tweet:</b> Coca-Cola, Kellogg, and State Farm are pulling back from the Overwatch League.\n\nhttps://t.co/lN3fPQRJzD https://t.co/CUNU5Ivq57<b>Polarity:</b> 0.0<br><b>Subjectivity:</b> 0.0",
          "<b>Name:</b> esports<br><b>User Location:</b> Earth<br><b>Verified?</b> False<br><b>Date:</b> 2021-08-09<br><b>Tweet:</b> And then there were three.\n\nLast week, as a result of the harassment lawsuit filed against Activision Blizzard, the Overwatch League shed all but three of its sponsors as only Xfinity, Coca-Cola, and TeamSpeak remain. \n\nStory by @Briggsycakes 💢 https://t.co/LHpI5FSrcP https://t.co/yFvLVbBTkg<b>Polarity:</b> 0.0<br><b>Subjectivity:</b> 0.5333333333333333",
          "<b>Name:</b> nichegamer<br><b>User Location:</b> Become a member<br><b>Verified?</b> False<br><b>Date:</b> 2021-08-06<br><b>Tweet:</b> Coca-Cola and State Farm Reassessing Overwatch League Partnership Amid Activision Blizzard Sexual Harassment Lawsuit https://t.co/ecmafJnPXX https://t.co/jWH9xIc4ER<b>Polarity:</b> 0.5<br><b>Subjectivity:</b> 0.8333333333333334",
          "<b>Name:</b> Overbuff<br><b>User Location:</b> nan<br><b>Verified?</b> False<br><b>Date:</b> 2021-08-05<br><b>Tweet:</b> Both State Farm and Coca-Cola are not out as advertisers yet, but are reportedly reassessing their sponsorship deals with the Overwatch League.\n\nState Farm has no ads running this weekend, and Coke is \"taking a step back.\"\n\nhttps://t.co/AuS6jrd20R<b>Polarity:</b> 0.0<br><b>Subjectivity:</b> 0.0",
          "<b>Name:</b> VG247<br><b>User Location:</b> nan<br><b>Verified?</b> False<br><b>Date:</b> 2021-08-06<br><b>Tweet:</b> Coca-Cola and State Farm are pulling back from the #OverwatchLeague \nhttps://t.co/lN3fPQA8I5 https://t.co/vb2TTmsOmw<b>Polarity:</b> 0.0<br><b>Subjectivity:</b> 0.0",
          "<b>Name:</b> OWUpdated<br><b>User Location:</b> nan<br><b>Verified?</b> False<br><b>Date:</b> 2022-03-21<br><b>Tweet:</b> Overwatch League has trouble getting new sponsors. Coca-Cola, Kellogg’s and State Farm paused/canceled their contracts. Therefore the Overwatch 2 e-sports scene could be much less relevant than the Overwatch 1 already is. \n\nThis is a big problem for Overwatch 2 and the franchise.<b>Polarity:</b> 0.03393939393939394<br><b>Subjectivity:</b> 0.34424242424242424",
          "<b>Name:</b> eurogamer<br><b>User Location:</b> United Kingdom<br><b>Verified?</b> False<br><b>Date:</b> 2021-08-06<br><b>Tweet:</b> Coca-Cola temporarily cans Overwatch League support amid discrimination lawsuit \nhttps://t.co/ZWhgqnwbud<b>Polarity:</b> 0.0<br><b>Subjectivity:</b> 0.0",
          "<b>Name:</b> shdw_shock<br><b>User Location:</b> he/him<br><b>Verified?</b> False<br><b>Date:</b> 2021-07-10<br><b>Tweet:</b> coca cola is the official refreshment of the overwatch league<b>Polarity:</b> 0.0<br><b>Subjectivity:</b> 0.0",
          "<b>Name:</b> JakeSucky<br><b>User Location:</b> Los Angeles, CA<br><b>Verified?</b> False<br><b>Date:</b> 2021-08-07<br><b>Tweet:</b> State Farm, Coca Cola, Kellogg’s, Pringles, Cheez It, and other sponsors have either stepped back or are reconsidering their partnerships with the Overwatch League\n\nExpect others to announce soon<b>Polarity:</b> -0.0625<br><b>Subjectivity:</b> 0.1875",
          "<b>Name:</b> GenePark<br><b>User Location:</b> Washington, DC<br><b>Verified?</b> False<br><b>Date:</b> 2021-08-05<br><b>Tweet:</b> Coca-Cola and State Farm are reassessing partnerships with Activision Blizzard’s Overwatch League. great story by @TeddyAmen \n\nhttps://t.co/XCqKsGVCo2<b>Polarity:</b> 0.8<br><b>Subjectivity:</b> 0.75",
          "<b>Name:</b> STONE_KING_X<br><b>User Location:</b> nan<br><b>Verified?</b> False<br><b>Date:</b> 2021-08-07<br><b>Tweet:</b> Coca-Cola, Kellogg, State Farm and T-Mobile are reassessing partnerships with Activision Blizzard’s Overwatch League.\n\nhttps://t.co/3JedV7Qczn\n\n#ActivisionBlizzard https://t.co/X8ChFR5x2a<b>Polarity:</b> 0.0<br><b>Subjectivity:</b> 0.0",
          "<b>Name:</b> Street24Mag<br><b>User Location:</b> Across The Globe<br><b>Verified?</b> False<br><b>Date:</b> 2021-08-06<br><b>Tweet:</b> Coca-Cola And State Farm Are Pulling Back From The Overwatch League - https://t.co/r0BDZwIhGn https://t.co/OP6pwrrvFx<b>Polarity:</b> 0.0<br><b>Subjectivity:</b> 0.0",
          "<b>Name:</b> Okami13_<br><b>User Location:</b> USA<br><b>Verified?</b> False<br><b>Date:</b> 2021-08-08<br><b>Tweet:</b> According to Overwatch leaker and content creator @Metro_OW, Overwatch 2 will likely not make its 2022 release date.\n\nT-Mobile, State Farm, and Coca-Cola recently pulled out of the Overwatch League after the recent allegations. https://t.co/6QJ8FTgpxi<b>Polarity:</b> 0.0<br><b>Subjectivity:</b> 0.5",
          "<b>Name:</b> jamesbardolph<br><b>User Location:</b> London / Los Angeles / Oceans<br><b>Verified?</b> False<br><b>Date:</b> 2023-07-19<br><b>Tweet:</b> I wonder what the views of the big non-endemic sponsors will be following their journey with Overwatch league, in terms of their experience with esports and the fallout.\n\nYou can find a list of them here, the likes of Coca Cola, Toyota and such.  https://t.co/NFVWqFnrOy<b>Polarity:</b> 0.0<br><b>Subjectivity:</b> 0.2333333333333333",
          "<b>Name:</b> LeaderGrev<br><b>User Location:</b> Washington, DC<br><b>Verified?</b> False<br><b>Date:</b> 2022-03-17<br><b>Tweet:</b> The Overwatch League is coming back in May with NA's first in-person Overwatch match since 2020.\n\nSome big-name sponsors — Coca-Cola, Kellogg’s, State Farm and Comcast — are not returning. Last season, Comcast was the official ISP for the league.\nhttps://t.co/pSkBh1cYW3<b>Polarity:</b> 0.08333333333333333<br><b>Subjectivity:</b> 0.13333333333333333",
          "<b>Name:</b> markittystuff<br><b>User Location:</b> Washington, USA<br><b>Verified?</b> False<br><b>Date:</b> 2023-05-19<br><b>Tweet:</b> So unfortunate that Overwatch League lost all their sponsors cos if Coca-Cola was still a sponsor they could've called it Fanta™-Sea Picks it would've been so perfect.<b>Polarity:</b> 0.25<br><b>Subjectivity:</b> 1.0",
          "<b>Name:</b> Instinct_FPS<br><b>User Location:</b> Shores of Time<br><b>Verified?</b> False<br><b>Date:</b> 2021-09-26<br><b>Tweet:</b> Coca-Cola is the official refreshing beverage of the Overwatch League 🥺 #OWL2021 \n\nIT'S AN END OF ERA 😭😭😭😭😭😭<b>Polarity:</b> 0.5<br><b>Subjectivity:</b> 1.0",
          "<b>Name:</b> washingtonpost<br><b>User Location:</b> Washington, DC<br><b>Verified?</b> False<br><b>Date:</b> 2021-08-05<br><b>Tweet:</b> Amid harassment lawsuit, Coca Cola, State Farm pull back from Blizzard’s Overwatch League https://t.co/C4NL1BY3Qt<b>Polarity:</b> 0.0<br><b>Subjectivity:</b> 0.0",
          "<b>Name:</b> fontiago<br><b>User Location:</b> nan<br><b>Verified?</b> False<br><b>Date:</b> 2021-05-28<br><b>Tweet:</b> losing my absolute fucking mind watching OWL today and hearing \"this week on the overwatch league fan art gallery we would love you to try and submit your favorite overwatch league player enjoying a coca-cola beverage\" im flabbergasted<b>Polarity:</b> 0.22000000000000003<br><b>Subjectivity:</b> 0.78",
          "<b>Name:</b> boybecauseofyou<br><b>User Location:</b> nan<br><b>Verified?</b> False<br><b>Date:</b> 2021-08-05<br><b>Tweet:</b> @CocaCola please don't punish the Overwatch League and their teams.\nKindly yours, a fan of owl and coca cola<b>Polarity:</b> 0.6<br><b>Subjectivity:</b> 0.9",
          "<b>Name:</b> Rose_THFC<br><b>User Location:</b> Virginia<br><b>Verified?</b> False<br><b>Date:</b> 2021-05-29<br><b>Tweet:</b> the overwatch league is brought to you by coca cola the official refreshment of the overwatch league and by IBM the official cloud and AI partner of the overwatch league<b>Polarity:</b> 0.0<br><b>Subjectivity:</b> 0.0",
          "<b>Name:</b> frostwolfst<br><b>User Location:</b> Milan, Italy<br><b>Verified?</b> False<br><b>Date:</b> 2021-08-06<br><b>Tweet:</b> Report: Coca-Cola and State Farm step away from Overwatch League sponsorship https://t.co/PXfZgrb0JW https://t.co/jmjeMBb87E<b>Polarity:</b> 0.0<br><b>Subjectivity:</b> 0.0",
          "<b>Name:</b> realgamecreeper<br><b>User Location:</b> Hong Kong<br><b>Verified?</b> False<br><b>Date:</b> 2021-08-06<br><b>Tweet:</b> Overwatch League sponsors like Coca-Cola and State Farm are stepping back to reevaluate their relationships. https://t.co/JKnTg9KkGX https://t.co/EMoCD9hvSq<b>Polarity:</b> 0.0<br><b>Subjectivity:</b> 0.0",
          "<b>Name:</b> ballsandbells<br><b>User Location:</b> nan<br><b>Verified?</b> False<br><b>Date:</b> 2021-08-05<br><b>Tweet:</b> Coca-Cola, State Farm Reconsidering Overwatch League Sponsorships - https://t.co/Pb1gCQWj8f https://t.co/PV4Sk6GHIa<b>Polarity:</b> 0.0<br><b>Subjectivity:</b> 0.0",
          "<b>Name:</b> AndyVermaut<br><b>User Location:</b> Diksmuide, België<br><b>Verified?</b> False<br><b>Date:</b> 2021-08-06<br><b>Tweet:</b> Coca-Cola and State Farm may pull ‘Overwatch’ League sponsorships https://t.co/PsOpulTEOU https://t.co/Gk7DHhMRB3<b>Polarity:</b> 0.0<br><b>Subjectivity:</b> 0.0",
          "<b>Name:</b> NewsItech<br><b>User Location:</b> nan<br><b>Verified?</b> False<br><b>Date:</b> 2021-08-05<br><b>Tweet:</b> Coca-Cola, State Farm Reconsidering Overwatch League Sponsorships https://t.co/rvf1QIjlmW<b>Polarity:</b> 0.0<br><b>Subjectivity:</b> 0.0",
          "<b>Name:</b> ballsandbells<br><b>User Location:</b> nan<br><b>Verified?</b> False<br><b>Date:</b> 2021-08-07<br><b>Tweet:</b> Coca-Cola and State Farm reassessing Overwatch League sponsorships - https://t.co/FFUJH3ueEj https://t.co/U9UpwhO2yY<b>Polarity:</b> 0.0<br><b>Subjectivity:</b> 0.0",
          "<b>Name:</b> lifelight_fps<br><b>User Location:</b> Canberra, Australia/Hanoi, VN<br><b>Verified?</b> False<br><b>Date:</b> 2022-04-03<br><b>Tweet:</b> @scottyzzzzzzz @baegle527 @jakeow of course I've tried coca cola, the former official refreshment of the overwatch league<b>Polarity:</b> 0.0<br><b>Subjectivity:</b> 0.0",
          "<b>Name:</b> Kotaku<br><b>User Location:</b> nan<br><b>Verified?</b> False<br><b>Date:</b> 2021-08-05<br><b>Tweet:</b> Coca-Cola and State Farm are reevaluating their Overwatch League sponsorships in the wake of the sexual harassment lawsuit against Activision Blizzard https://t.co/OyfpYZMKni https://t.co/COkLcDrZ8j<b>Polarity:</b> 0.5<br><b>Subjectivity:</b> 0.8333333333333334",
          "<b>Name:</b> Kikkysan<br><b>User Location:</b> nan<br><b>Verified?</b> False<br><b>Date:</b> 2021-09-27<br><b>Tweet:</b> @overwatchleague @CocaCola Get you a duo who will watch overwatch league with you and take you to the homestands. Happily  gaming together for 11 years 💙 https://t.co/Mlxj9ZQkbX<b>Polarity:</b> 0.8<br><b>Subjectivity:</b> 1.0",
          "<b>Name:</b> Healz_Plix<br><b>User Location:</b> nan<br><b>Verified?</b> False<br><b>Date:</b> 2021-08-06<br><b>Tweet:</b> Several corporate sponsors of the Overwatch League are rethinking their relationships following the Activision Blizzard lawsuit. \n\nSo far, T-Mobile, State Farm insurance, and Coca-Cola have removed their advertisements from Overwatch League matches.\n\n… https://t.co/pR0Hz0PW27<b>Polarity:</b> 0.025<br><b>Subjectivity:</b> 0.275",
          "<b>Name:</b> jacob_fawcett_4<br><b>User Location:</b> nan<br><b>Verified?</b> False<br><b>Date:</b> 2021-08-06<br><b>Tweet:</b> Coca-Cola, State Farm Reconsidering Overwatch League Sponsorships<b>Polarity:</b> 0.0<br><b>Subjectivity:</b> 0.0",
          "<b>Name:</b> jonylj20<br><b>User Location:</b> nan<br><b>Verified?</b> False<br><b>Date:</b> 2021-08-05<br><b>Tweet:</b> Coca cola y State Farm se retiran como sponsors de la Overwatch League<b>Polarity:</b> 0.0<br><b>Subjectivity:</b> 0.0",
          "<b>Name:</b> RealKingYakko<br><b>User Location:</b> Your head, rent free :)<br><b>Verified?</b> False<br><b>Date:</b> 2023-02-11<br><b>Tweet:</b> Lame L cringe Pepsi should have been Coca-Cola, the official refreshment of the Overwatch League<b>Polarity:</b> -0.5<br><b>Subjectivity:</b> 0.75",
          "<b>Name:</b> RealKingYakko<br><b>User Location:</b> Your head, rent free :)<br><b>Verified?</b> False<br><b>Date:</b> 2023-01-01<br><b>Tweet:</b> @bubblesmeep BASED\n\nPersonally my go to is Coca-Cola, the official refreshment of the Overwatch League 😎<b>Polarity:</b> 0.0<br><b>Subjectivity:</b> 0.3",
          "<b>Name:</b> NargacugaBalls<br><b>User Location:</b> yassification murder shed 18<br><b>Verified?</b> False<br><b>Date:</b> 2022-01-03<br><b>Tweet:</b> Kerbal Space Program - NASA - Coca Cola - Overwatch - Activision-Blizzard - Call of Duty: Cold War - Amoeba (song by the Adolescents) - Grand Theft Auto V - Back to the Future - Rocket League - Fortnite<b>Polarity:</b> -0.024999999999999994<br><b>Subjectivity:</b> 0.53125",
          "<b>Name:</b> snoweenie<br><b>User Location:</b> videogames, rodents, music<br><b>Verified?</b> False<br><b>Date:</b> 2021-10-13<br><b>Tweet:</b> @godflict well overwatch league already had a coca cola sponsor but lost it i believe because of the whole blizzard shit, and vanilla wouldn’t be a good flavor. has to be something fruity or like an energy drink<b>Polarity:</b> 0.2333333333333333<br><b>Subjectivity:</b> 0.6000000000000001",
          "<b>Name:</b> Findsleep<br><b>User Location:</b> nan<br><b>Verified?</b> False<br><b>Date:</b> 2021-08-07<br><b>Tweet:</b> Overwatch League getting cancelled T-Mobile, Coca Cola and State Farm pulling back! Gays finally won ❤️☺️<b>Polarity:</b> 0.0<br><b>Subjectivity:</b> 0.5",
          "<b>Name:</b> NESbot_feed<br><b>User Location:</b> IRC/discord<br><b>Verified?</b> False<br><b>Date:</b> 2021-08-05<br><b>Tweet:</b> Amid Harassment Lawsuit, Coca Cola, State Farm Pull Back From Blizzard’s Overwatch League\nhttps://t.co/cyYlb5R6fh<b>Polarity:</b> 0.0<br><b>Subjectivity:</b> 0.0",
          "<b>Name:</b> RichieRTrades<br><b>User Location:</b> nan<br><b>Verified?</b> False<br><b>Date:</b> 2022-07-15<br><b>Tweet:</b> How much do we reckon this deal was worth? #GILD Coca-Cola signs multi-year deal sponsorship deal with Overwatch League https://t.co/u2OCo8G7pV<b>Polarity:</b> 0.25<br><b>Subjectivity:</b> 0.15000000000000002",
          "<b>Name:</b> AhmadNorMaulana<br><b>User Location:</b> South Borneo, Indonesia<br><b>Verified?</b> False<br><b>Date:</b> 2021-08-05<br><b>Tweet:</b> Coca-Cola And State Farm Are Re-Evaluating Their Overwatch League Partnerships https://t.co/RTL1bFRaGV https://t.co/YROIQunndi<b>Polarity:</b> 0.0<br><b>Subjectivity:</b> 0.0",
          "<b>Name:</b> davidpremier<br><b>User Location:</b> nan<br><b>Verified?</b> False<br><b>Date:</b> 2021-08-06<br><b>Tweet:</b> Coca-Cola and State Farm reassessing Overwatch League sponsorships https://t.co/Z1aUl9a9Nv #CallofDuty #Commercial #Games #LatestNews #Markets https://t.co/TfWlHUYSDC<b>Polarity:</b> 0.0<br><b>Subjectivity:</b> 0.0",
          "<b>Name:</b> NewsZoneWeb1<br><b>User Location:</b> nan<br><b>Verified?</b> False<br><b>Date:</b> 2021-08-06<br><b>Tweet:</b> Coca-Cola and State Farm reportedly reconsidering Overwatch League deal https://t.co/Ls3BhmlJL4<b>Polarity:</b> 0.0<br><b>Subjectivity:</b> 0.0",
          "<b>Name:</b> bbnrworld<br><b>User Location:</b> Worldwide <br><b>Verified?</b> False<br><b>Date:</b> 2021-08-06<br><b>Tweet:</b> Coca-Cola and State Farm, are pulling back from the League Overwatch https://t.co/AUuIyHvsKc<b>Polarity:</b> 0.0<br><b>Subjectivity:</b> 0.0",
          "<b>Name:</b> BigJermHQ<br><b>User Location:</b> Los Angeles, California<br><b>Verified?</b> False<br><b>Date:</b> 2021-08-05<br><b>Tweet:</b> Coca-Cola, State Farm Reconsidering Overwatch League Sponsorships https://t.co/6JvDHtISLs #gamingnews https://t.co/HkDdgIbPug<b>Polarity:</b> 0.0<br><b>Subjectivity:</b> 0.0",
          "<b>Name:</b> qottonete<br><b>User Location:</b> Beatdown Boulevard<br><b>Verified?</b> False<br><b>Date:</b> 2021-07-15<br><b>Tweet:</b> @Outlaws @HEB @Crimzo \"Coca-Cola is the official refreshment of the Overwatch League.\"<b>Polarity:</b> 0.0<br><b>Subjectivity:</b> 0.0",
          "<b>Name:</b> PH7RAOH<br><b>User Location:</b> nan<br><b>Verified?</b> False<br><b>Date:</b> 2021-08-06<br><b>Tweet:</b> @Avast_o @SADO_OW @ChuckECheese Carrying not only the team but Overwatch League’s Coca-Cola sponsorship on his back<b>Polarity:</b> 0.0<br><b>Subjectivity:</b> 0.5",
          "<b>Name:</b> WorldWideTweet3<br><b>User Location:</b> nan<br><b>Verified?</b> False<br><b>Date:</b> 2021-08-06<br><b>Tweet:</b> Coca-Cola and State Farm reportedly reconsidering Overwatch League deal - https://t.co/spAi9CqJiV<b>Polarity:</b> 0.0<br><b>Subjectivity:</b> 0.0",
          "<b>Name:</b> Greatfulx<br><b>User Location:</b> Texas, USA<br><b>Verified?</b> False<br><b>Date:</b> 2021-12-02<br><b>Tweet:</b> Continuing on this the Overwatch League only has 2, CocaCola and TeamSpeak... jesus man acti/blizz really are shitting the best rn https://t.co/MjqrYpJTon<b>Polarity:</b> 0.39999999999999997<br><b>Subjectivity:</b> 0.5",
          "<b>Name:</b> Noshii24<br><b>User Location:</b> United States<br><b>Verified?</b> False<br><b>Date:</b> 2021-09-27<br><b>Tweet:</b> @overwatchleague @BadPachimari @CocaCola Can’t be saying stuff like that @overwatchleague 🤭 https://t.co/NHpl76hpue<b>Polarity:</b> 0.0<br><b>Subjectivity:</b> 0.0",
          "<b>Name:</b> GyrotheGoat<br><b>User Location:</b> nan<br><b>Verified?</b> False<br><b>Date:</b> 2021-09-28<br><b>Tweet:</b> @overwatchleague @BadPachimari @CocaCola Owl SMM after bp predicted atlanta losing to glads https://t.co/nH4jC9zWJg<b>Polarity:</b> 0.0<br><b>Subjectivity:</b> 0.0",
          "<b>Name:</b> KLASSSI_OW<br><b>User Location:</b> Iceland<br><b>Verified?</b> False<br><b>Date:</b> 2021-09-28<br><b>Tweet:</b> @gurryelmars @overwatchleague @CocaCola Dababy?<b>Polarity:</b> 0.0<br><b>Subjectivity:</b> 0.0",
          "<b>Name:</b> MarkJones_1998<br><b>User Location:</b> nan<br><b>Verified?</b> False<br><b>Date:</b> 2021-09-27<br><b>Tweet:</b> @overwatchleague @BadPachimari @CocaCola owl smm woke up and chose violence today it seems<b>Polarity:</b> 0.0<br><b>Subjectivity:</b> 0.0",
          "<b>Name:</b> DISEROGG<br><b>User Location:</b> In a galaxy far far away<br><b>Verified?</b> False<br><b>Date:</b> 2021-09-29<br><b>Tweet:</b> @Res215dg @overwatchleague @CocaCola I have patience for some Seoul Jerseys thank you<b>Polarity:</b> 0.0<br><b>Subjectivity:</b> 0.0",
          "<b>Name:</b> MirrorkatFeces<br><b>User Location:</b> nan<br><b>Verified?</b> False<br><b>Date:</b> 2021-09-27<br><b>Tweet:</b> @overwatchleague @CocaCola Give Leave a MVP skin<b>Polarity:</b> 0.0<br><b>Subjectivity:</b> 0.0",
          "<b>Name:</b> _Spydergaming<br><b>User Location:</b> Maryland, USA<br><b>Verified?</b> False<br><b>Date:</b> 2021-09-27<br><b>Tweet:</b> @BadPachimari @overwatchleague @CocaCola https://t.co/7Mv2CqdlUy<b>Polarity:</b> 0.0<br><b>Subjectivity:</b> 0.0",
          "<b>Name:</b> ClearTogether<br><b>User Location:</b> USA | She/ Her | Lesbian<br><b>Verified?</b> False<br><b>Date:</b> 2021-09-27<br><b>Tweet:</b> @overwatchleague @AdvanceWarsDS @CocaCola these are sooo cute!! 🥺 so happy for these couples!! awww 💖💖<b>Polarity:</b> 0.7270833333333333<br><b>Subjectivity:</b> 0.9666666666666667",
          "<b>Name:</b> DISEROGG<br><b>User Location:</b> In a galaxy far far away<br><b>Verified?</b> False<br><b>Date:</b> 2021-09-28<br><b>Tweet:</b> @Res215dg @overwatchleague @CocaCola They are going to reopen the store?<b>Polarity:</b> 0.0<br><b>Subjectivity:</b> 0.0",
          "<b>Name:</b> SCALCH0PPIN<br><b>User Location:</b> Nuvema Town, Unova<br><b>Verified?</b> False<br><b>Date:</b> 2021-09-27<br><b>Tweet:</b> @BadPachimari @overwatchleague @CocaCola Who did you hurt on the OWL social media team????<b>Polarity:</b> 0.03333333333333333<br><b>Subjectivity:</b> 0.06666666666666667",
          "<b>Name:</b> redditOWL<br><b>User Location:</b> nan<br><b>Verified?</b> False<br><b>Date:</b> 2022-03-27<br><b>Tweet:</b> \"Coca-Cola and TeamSpeak OWL sponsorship is back? https://t.co/fbh8BgsKFC\" - Blue737 https://t.co/XGicj4priQ #OverwatchLeague<b>Polarity:</b> 0.0<br><b>Subjectivity:</b> 0.0",
          "<b>Name:</b> gurryelmars<br><b>User Location:</b> she<br><b>Verified?</b> False<br><b>Date:</b> 2021-09-27<br><b>Tweet:</b> @BragiEmil @overwatchleague @CocaCola literally🥺 half way there already<b>Polarity:</b> -0.16666666666666666<br><b>Subjectivity:</b> 0.16666666666666666",
          "<b>Name:</b> BragiEmil<br><b>User Location:</b> nan<br><b>Verified?</b> False<br><b>Date:</b> 2021-09-27<br><b>Tweet:</b> @gurryelmars @overwatchleague @CocaCola 20weeks already damn time flies.<b>Polarity:</b> 0.0<br><b>Subjectivity:</b> 0.0",
          "<b>Name:</b> HealsNKills<br><b>User Location:</b> Little Rock, AR<br><b>Verified?</b> False<br><b>Date:</b> 2022-09-28<br><b>Tweet:</b> @overwatchleague @WatchpointPride @CocaCola @TheOakenForest @NeekaTodd25 @WatchpointPride  Can't wait for our big moves with OW2!! ❤️😍 It's time to get the gang back together<b>Polarity:</b> 0.0<br><b>Subjectivity:</b> 0.05",
          "<b>Name:</b> FreyaSenshi<br><b>User Location:</b> Boston<br><b>Verified?</b> False<br><b>Date:</b> 2021-09-27<br><b>Tweet:</b> @overwatchleague @CocaCola me and who ahahaha<b>Polarity:</b> 0.0<br><b>Subjectivity:</b> 0.0",
          "<b>Name:</b> SaltyPhish<br><b>User Location:</b> nan<br><b>Verified?</b> False<br><b>Date:</b> 2021-09-27<br><b>Tweet:</b> @overwatchleague @CocaCola Stop being happily in love everyone!!<b>Polarity:</b> 0.78125<br><b>Subjectivity:</b> 0.6",
          "<b>Name:</b> Old_Newspaper<br><b>User Location:</b> Little Rock, AR<br><b>Verified?</b> False<br><b>Date:</b> 2022-10-30<br><b>Tweet:</b> @lindsaycaudill @overwatchleague @Butterfinger We’ll slow the bandwagon down a little so you can jump back on, @CocaCola, but be quick about it. We’re going places.<b>Polarity:</b> -0.061944444444444455<br><b>Subjectivity:</b> 0.3377777777777778",
          "<b>Name:</b> gurryelmars<br><b>User Location:</b> she<br><b>Verified?</b> False<br><b>Date:</b> 2021-09-27<br><b>Tweet:</b> @overwatchleague @CocaCola i met my bf through an overwatch tournament💕we’re now 20weeks pregnant<b>Polarity:</b> 0.3333333333333333<br><b>Subjectivity:</b> 0.5",
          "<b>Name:</b> mintyfreshlife<br><b>User Location:</b> Toronto, Canada<br><b>Verified?</b> False<br><b>Date:</b> 2021-09-27<br><b>Tweet:</b> @end_fps @overwatchleague @BadPachimari @CocaCola Absolute massacre<b>Polarity:</b> 0.2<br><b>Subjectivity:</b> 0.9",
          "<b>Name:</b> Mega36545552<br><b>User Location:</b> Weenie Hut Jrs<br><b>Verified?</b> False<br><b>Date:</b> 2021-05-08<br><b>Tweet:</b> @Fusion @Mano_OWL Coca-Cola the official refreshment of the Overwatch League<b>Polarity:</b> 0.0<br><b>Subjectivity:</b> 0.0",
          "<b>Name:</b> beiser2ryan<br><b>User Location:</b> Santa Monica, California<br><b>Verified?</b> False<br><b>Date:</b> 2021-08-06<br><b>Tweet:</b> Coca-Cola and State Farm may pull ‘Overwatch’ League sponsorships https://t.co/W8vgpGmRvy<b>Polarity:</b> 0.0<br><b>Subjectivity:</b> 0.0",
          "<b>Name:</b> beiser2ryan<br><b>User Location:</b> Santa Monica, California<br><b>Verified?</b> False<br><b>Date:</b> 2021-08-06<br><b>Tweet:</b> Coca-Cola and State Farm are pulling back from the Overwatch League https://t.co/0HueBFXxKL<b>Polarity:</b> 0.0<br><b>Subjectivity:</b> 0.0",
          "<b>Name:</b> RaweGame<br><b>User Location:</b> nan<br><b>Verified?</b> False<br><b>Date:</b> 2021-08-05<br><b>Tweet:</b> Coca-Cola, State Farm Reconsidering Overwatch League Sponsorships https://t.co/3JfbhjcRDX<b>Polarity:</b> 0.0<br><b>Subjectivity:</b> 0.0",
          "<b>Name:</b> TechnologyMani2<br><b>User Location:</b> SanFransisco<br><b>Verified?</b> False<br><b>Date:</b> 2021-08-06<br><b>Tweet:</b> Coca-Cola and State Farm are pulling back from the Overwatch League https://t.co/hIj6rsErt9<b>Polarity:</b> 0.0<br><b>Subjectivity:</b> 0.0",
          "<b>Name:</b> LegitGamersG<br><b>User Location:</b> nan<br><b>Verified?</b> False<br><b>Date:</b> 2021-08-06<br><b>Tweet:</b> Coca-Cola and State Farm reportedly reconsidering Overwatch League deal https://t.co/Z99ltLyq55<b>Polarity:</b> 0.0<br><b>Subjectivity:</b> 0.0",
          "<b>Name:</b> gregogaming43<br><b>User Location:</b> Greenville, MS<br><b>Verified?</b> False<br><b>Date:</b> 2021-08-06<br><b>Tweet:</b> Coca-Cola and State Farm reportedly reconsidering Overwatch League deal https://t.co/nQZm6okVR2<b>Polarity:</b> 0.0<br><b>Subjectivity:</b> 0.0",
          "<b>Name:</b> pumpa007<br><b>User Location:</b> Yorkshire and The Humber, Engl<br><b>Verified?</b> False<br><b>Date:</b> 2021-08-16<br><b>Tweet:</b> Coca-Cola, State Farm Reconsidering Overwatch League Sponsorships\nSome Overwatch League sponsors… \n#esports #gaming #gamer #fortnite #games #gamers #youtube #pc #pubgmobile  #memes #bhfyp https://t.co/aAw1nxdE8L https://t.co/ZAQkX4VE7B<b>Polarity:</b> 0.0<br><b>Subjectivity:</b> 0.0",
          "<b>Name:</b> ModXpresss<br><b>User Location:</b> Gujrat Pakistan<br><b>Verified?</b> False<br><b>Date:</b> 2021-08-05<br><b>Tweet:</b> Coca-Cola, State Farm Reconsidering Overwatch League Sponsorships https://t.co/Gk6imBYfId<b>Polarity:</b> 0.0<br><b>Subjectivity:</b> 0.0",
          "<b>Name:</b> MajorLinux<br><b>User Location:</b> https://toot.majorshouse.com/<br><b>Verified?</b> False<br><b>Date:</b> 2021-08-06<br><b>Tweet:</b> Jake from State Farm has had enough of this, too!\n\nCoca-Cola temporarily cans Overwatch League support amid discrimination lawsuit https://t.co/8yPZRF2vxa https://t.co/gQSbq09t23<b>Polarity:</b> 0.0<br><b>Subjectivity:</b> 0.5",
          "<b>Name:</b> NewzoramaGaming<br><b>User Location:</b> nan<br><b>Verified?</b> False<br><b>Date:</b> 2021-08-11<br><b>Tweet:</b> Coca-Cola, State Farm and More Reassessing Partnerships With Overwatch League - The Fix: Esports \n - \nhttps://t.co/AhpYDyahTg<b>Polarity:</b> 0.5<br><b>Subjectivity:</b> 0.5",
          "<b>Name:</b> GamesnGadgets09<br><b>User Location:</b> nan<br><b>Verified?</b> False<br><b>Date:</b> 2021-08-06<br><b>Tweet:</b> Coca-Cola, State Farm Reconsidering Overwatch League Sponsorships https://t.co/5ESIpX8pAD https://t.co/snEU6KBfvb<b>Polarity:</b> 0.0<br><b>Subjectivity:</b> 0.0",
          "<b>Name:</b> RedValoroso<br><b>User Location:</b> The Warehouse<br><b>Verified?</b> False<br><b>Date:</b> 2022-01-18<br><b>Tweet:</b> Overwatch League, in partnership with Coca-Cola and Windows 11, “the best place to play.”<b>Polarity:</b> 1.0<br><b>Subjectivity:</b> 0.3",
          "<b>Name:</b> gamerabble<br><b>User Location:</b> Worldwide<br><b>Verified?</b> False<br><b>Date:</b> 2021-08-06<br><b>Tweet:</b> Coca-Cola and State Farm reassessing Overwatch League sponsorships https://t.co/qhdbw377Q7<b>Polarity:</b> 0.0<br><b>Subjectivity:</b> 0.0",
          "<b>Name:</b> gatamchun<br><b>User Location:</b> nan<br><b>Verified?</b> False<br><b>Date:</b> 2021-07-12<br><b>Tweet:</b> OWL: Coca Cola is the official refreshment of the Overwatch League\nHusb: what about liquid Pringles Wavy?<b>Polarity:</b> 0.0<br><b>Subjectivity:</b> 0.0",
          "<b>Name:</b> themoreitdries<br><b>User Location:</b> nan<br><b>Verified?</b> False<br><b>Date:</b> 2021-07-02<br><b>Tweet:</b> @A2Ziegler What if it was a can of the official beverage of the Overwatch League, Coca-cola<b>Polarity:</b> 0.0<br><b>Subjectivity:</b> 0.0",
          "<b>Name:</b> Ari_Lover239<br><b>User Location:</b> nan<br><b>Verified?</b> False<br><b>Date:</b> 2021-08-05<br><b>Tweet:</b> Report: Coca-Cola and State Farm step away from Overwatch League sponsorship \n#Gaming  \nhttps://t.co/qphYgm6tXV<b>Polarity:</b> 0.0<br><b>Subjectivity:</b> 0.0",
          "<b>Name:</b> esportsinsider<br><b>User Location:</b> London, England<br><b>Verified?</b> False<br><b>Date:</b> 2021-08-06<br><b>Tweet:</b> Yesterday, it was revealed that State Farm and Coca-Cola are reevaluating its partnerships with Activision Blizzard’s Overwatch League.\n\nRead more here: https://t.co/Cn3M8Xl84F https://t.co/IjpSz8a5Cd<b>Polarity:</b> 0.5<br><b>Subjectivity:</b> 0.5",
          "<b>Name:</b> thetweetbud<br><b>User Location:</b> nan<br><b>Verified?</b> False<br><b>Date:</b> 2021-08-05<br><b>Tweet:</b> Report: Coca-Cola and State Farm step away from Overwatch League sponsorship \n#Gaming  \nhttps://t.co/Rta7rtgGSe<b>Polarity:</b> 0.0<br><b>Subjectivity:</b> 0.0",
          "<b>Name:</b> gamerabble<br><b>User Location:</b> Worldwide<br><b>Verified?</b> False<br><b>Date:</b> 2021-08-05<br><b>Tweet:</b> State Farm and Coca-Cola reportedly ‘reassessing’ partnerships with Activision Blizzard’s Overwatch League https://t.co/nWyI9gKuvc<b>Polarity:</b> 0.0<br><b>Subjectivity:</b> 0.0",
          "<b>Name:</b> overwatchreddit<br><b>User Location:</b> Watchpoint Gibraltar<br><b>Verified?</b> False<br><b>Date:</b> 2021-08-06<br><b>Tweet:</b> #overwatch https://t.co/FoU9fqVWUQ Amid harassment lawsuit, Coca Cola, State Farm pull back from Blizzard’s Overwatch League by /u/the_patman2017<b>Polarity:</b> 0.0<br><b>Subjectivity:</b> 0.0",
          "<b>Name:</b> GIBiz<br><b>User Location:</b> www.gamesindustry.biz<br><b>Verified?</b> False<br><b>Date:</b> 2021-08-06<br><b>Tweet:</b> Kellogg and State Farm no longer partners for Overwatch League; Coca-Cola says it will \"take a step back\" to reassess support\n\nhttps://t.co/IYEvTyyv1Y<b>Polarity:</b> 0.0<br><b>Subjectivity:</b> 0.0",
          "<b>Name:</b> washpostbiz<br><b>User Location:</b> Washington, D.C.<br><b>Verified?</b> False<br><b>Date:</b> 2021-08-05<br><b>Tweet:</b> Amid harassment lawsuit, Coca Cola, State Farm pull back from Blizzard’s Overwatch League https://t.co/cDRTiuOWyc<b>Polarity:</b> 0.0<br><b>Subjectivity:</b> 0.0",
          "<b>Name:</b> gamingandtips<br><b>User Location:</b> Echo Creek<br><b>Verified?</b> False<br><b>Date:</b> 2021-08-06<br><b>Tweet:</b> Coca-Cola temporarily cans Overwatch League support amid discrimination lawsuit(Read more at: https://t.co/g6vgkncV7g)<b>Polarity:</b> 0.5<br><b>Subjectivity:</b> 0.5",
          "<b>Name:</b> cuongcz<br><b>User Location:</b> New York, NY<br><b>Verified?</b> False<br><b>Date:</b> 2021-08-05<br><b>Tweet:</b> #ai #ml #artificialintelligence #machinelearning #datascience #bigdata #analytics #blockchain #tech #data @Nicochan33 @TrippBraden @Paula_Piccard @haroldsinnott @sallyeaves\nCoca-Cola And State Farm Are Re-Evaluating Their Overwatch League Partnerships https://t.co/9yEqdl4B31<b>Polarity:</b> 0.0<br><b>Subjectivity:</b> 0.0",
          "<b>Name:</b> misteruplay2016<br><b>User Location:</b> nan<br><b>Verified?</b> False<br><b>Date:</b> 2021-08-06<br><b>Tweet:</b> Coca-Cola and State Farm are pulling back from the Overwatch League https://t.co/jkumE0YpJW<b>Polarity:</b> 0.0<br><b>Subjectivity:</b> 0.0",
          "<b>Name:</b> raistand<br><b>User Location:</b> Polska<br><b>Verified?</b> False<br><b>Date:</b> 2021-08-07<br><b>Tweet:</b> Coca-Cola temporarily cans Overwatch League support amid discrimination lawsuit https://t.co/LqLzyfyprm<b>Polarity:</b> 0.0<br><b>Subjectivity:</b> 0.0",
          "<b>Name:</b> modcontrollerz<br><b>User Location:</b> Oakville Ct<br><b>Verified?</b> False<br><b>Date:</b> 2021-08-05<br><b>Tweet:</b> Coca-Cola, State Farm Reconsidering Overwatch League Sponsorships https://t.co/rJQzxEn3c3<b>Polarity:</b> 0.0<br><b>Subjectivity:</b> 0.0",
          "<b>Name:</b> Gaming_NN<br><b>User Location:</b> Everywhere<br><b>Verified?</b> False<br><b>Date:</b> 2021-08-06<br><b>Tweet:</b> Report: Coca-Cola and State Farm step away from Overwatch League sponsorship https://t.co/AnN6wmIYOr https://t.co/Sqi43YUmc5<b>Polarity:</b> 0.0<br><b>Subjectivity:</b> 0.0",
          "<b>Name:</b> GameRant<br><b>User Location:</b> Earth<br><b>Verified?</b> False<br><b>Date:</b> 2021-08-06<br><b>Tweet:</b> Coca-Cola and State Farm 'Reassessing' Activision Blizzard Partnership, Could Pull Overwatch League Sponsorships https://t.co/7Ft29IZP1F https://t.co/hBdUWW2X9y<b>Polarity:</b> 0.0<br><b>Subjectivity:</b> 0.0",
          "<b>Name:</b> Kakuchopurei<br><b>User Location:</b> Kuala Lumpur<br><b>Verified?</b> False<br><b>Date:</b> 2021-08-06<br><b>Tweet:</b> Major Sponsors Like Coca-Cola Are Pulling Back From Overwatch League https://t.co/ekoAgaAyyg<b>Polarity:</b> 0.03125<br><b>Subjectivity:</b> 0.25",
          "<b>Name:</b> LauncherWP<br><b>User Location:</b> Capital Wasteland<br><b>Verified?</b> False<br><b>Date:</b> 2021-08-05<br><b>Tweet:</b> NEW: Coca-Cola and State Farm are reassessing partnerships with Activision Blizzard’s Overwatch League.\n\nReport by @TeddyAmen:\nhttps://t.co/C3x9coCHlh<b>Polarity:</b> 0.13636363636363635<br><b>Subjectivity:</b> 0.45454545454545453",
          "<b>Name:</b> TodayHeadline42<br><b>User Location:</b> United States<br><b>Verified?</b> False<br><b>Date:</b> 2021-08-06<br><b>Tweet:</b> Coca-Cola and State Farm are pulling back from the Overwatch League https://t.co/c9OPZCCQhF<b>Polarity:</b> 0.0<br><b>Subjectivity:</b> 0.0",
          "<b>Name:</b> SportsRants_<br><b>User Location:</b> Miami, Florida<br><b>Verified?</b> False<br><b>Date:</b> 2021-08-06<br><b>Tweet:</b> State Farm, Coca-Cola Re-Assessing Overwatch League Sponsorships https://t.co/EZDAodJHJ8 https://t.co/vRhlOtkArV<b>Polarity:</b> 0.0<br><b>Subjectivity:</b> 0.0",
          "<b>Name:</b> Planet_Smarts<br><b>User Location:</b> nan<br><b>Verified?</b> False<br><b>Date:</b> 2021-08-06<br><b>Tweet:</b> Overwatch League continues to lose endorsements: Coca-Cola and State Farm withdraw support for Blizzard after lawsuit https://t.co/a2z72IZyKJ<b>Polarity:</b> 0.0<br><b>Subjectivity:</b> 0.0",
          "<b>Name:</b> GamerIntel<br><b>User Location:</b> Chicago, IL USA<br><b>Verified?</b> False<br><b>Date:</b> 2021-08-05<br><b>Tweet:</b> Report: Coca-Cola and State Farm step away from Overwatch League sponsorship https://t.co/ghuIGbHLEM https://t.co/ypbjNmmxW0<b>Polarity:</b> 0.0<br><b>Subjectivity:</b> 0.0",
          "<b>Name:</b> mj_consultores<br><b>User Location:</b> vale<br><b>Verified?</b> False<br><b>Date:</b> 2021-08-06<br><b>Tweet:</b> Coca-Cola and State Farm reassessing Overwatch League sponsorships https://t.co/CvU8bCP31k vía @esportsinsider_ https://t.co/LCsrKxL1gW<b>Polarity:</b> 0.0<br><b>Subjectivity:</b> 0.0",
          "<b>Name:</b> Technology_Bits<br><b>User Location:</b> nan<br><b>Verified?</b> False<br><b>Date:</b> 2021-08-07<br><b>Tweet:</b> Amid harassment lawsuit, Coca Cola, State Farm pull back from Blizzard’s Overwatch League https://t.co/ifK1G28GiH https://t.co/NNaXQCZRgj<b>Polarity:</b> 0.0<br><b>Subjectivity:</b> 0.0",
          "<b>Name:</b> NormaDean<br><b>User Location:</b> USA<br><b>Verified?</b> False<br><b>Date:</b> 2021-08-05<br><b>Tweet:</b> “Coca-Cola, State Farm pull back from Overwatch League after Activision Blizzard lawsuit”\n\nYou love to see it. Activision has been in need of a reckoning for some time now. https://t.co/jfFPDTfDSs<b>Polarity:</b> 0.25<br><b>Subjectivity:</b> 0.3",
          "<b>Name:</b> AdamRobertsMKE<br><b>User Location:</b> Milwaukee, WI<br><b>Verified?</b> False<br><b>Date:</b> 2021-08-06<br><b>Tweet:</b> @WiscoGrant Hey Grant, first time long time here...do you think there's a long-term future for the Overwatch League even though both Coca Cola and State Farm have ended their sponsorships with the league? I'll take your thoughts off the air.<b>Polarity:</b> 0.06666666666666667<br><b>Subjectivity:</b> 0.28611111111111115",
          "<b>Name:</b> joeriwagner<br><b>User Location:</b> Nederland<br><b>Verified?</b> False<br><b>Date:</b> 2021-08-06<br><b>Tweet:</b> Coca Cola and State Farm are pulling back from Overwatch League\n\nhttps://t.co/gKXLUhmfw4 https://t.co/LGTPWcXe5e<b>Polarity:</b> 0.0<br><b>Subjectivity:</b> 0.0",
          "<b>Name:</b> 15MinuteNewsEnt<br><b>User Location:</b> nan<br><b>Verified?</b> False<br><b>Date:</b> 2021-08-06<br><b>Tweet:</b> Coca-Cola and State Farm may pull 'Overwatch' League sponsorships https://t.co/d3CcE01oUS #Music<b>Polarity:</b> 0.0<br><b>Subjectivity:</b> 0.0",
          "<b>Name:</b> RelaxingMusica5<br><b>User Location:</b> United States<br><b>Verified?</b> False<br><b>Date:</b> 2021-08-05<br><b>Tweet:</b> Coca-Cola and State Farm are pulling back from the Overwatch League https://t.co/a9RzU2piy3<b>Polarity:</b> 0.0<br><b>Subjectivity:</b> 0.0",
          "<b>Name:</b> EsportzGlobal<br><b>User Location:</b> UK <br><b>Verified?</b> False<br><b>Date:</b> 2021-08-06<br><b>Tweet:</b> Amid harassment lawsuit, Coca Cola, State Farm pull back from Blizzard’s Overwatch League.\nhttps://t.co/9gCsvnzfEf #gamingculture #esports  #esportsbusiness #esportsindustry #gaming #blizzard<b>Polarity:</b> 0.0<br><b>Subjectivity:</b> 0.0",
          "<b>Name:</b> Martell_Media<br><b>User Location:</b> Austin TX<br><b>Verified?</b> False<br><b>Date:</b> 2021-08-06<br><b>Tweet:</b> Coca-Cola and State Farm are 'reassessing' partnerships with Activision Blizzard’s Overwatch League\nhttps://t.co/0CHEMYwd9O<b>Polarity:</b> 0.0<br><b>Subjectivity:</b> 0.0",
          "<b>Name:</b> zimisss<br><b>User Location:</b> nan<br><b>Verified?</b> False<br><b>Date:</b> 2021-08-07<br><b>Tweet:</b> Coca-Cola temporarily cans Overwatch League support amid discrimination lawsuit: Coca-Cola is stepping back from its partnership with Activision Blizzard's Overwatch League, amid a lawsuit by the state of California over a \"frat boy\"… https://t.co/HLdjIJjQ35 #eSports #FPS https://t.co/iJChuKeott<b>Polarity:</b> 0.0<br><b>Subjectivity:</b> 0.0",
          "<b>Name:</b> EsportsPressUK<br><b>User Location:</b> UK Based/Global Reach<br><b>Verified?</b> False<br><b>Date:</b> 2021-08-06<br><b>Tweet:</b> Amid harassment lawsuit, Coca Cola, State Farm pull back from Blizzard’s Overwatch League.\nhttps://t.co/jfAa8jAwwn #gamingculture #esports  #esportsbusiness #esportsindustry #gaming #blizzard<b>Polarity:</b> 0.0<br><b>Subjectivity:</b> 0.0",
          "<b>Name:</b> Gaymeo<br><b>User Location:</b> nan<br><b>Verified?</b> False<br><b>Date:</b> 2021-08-06<br><b>Tweet:</b> Coca Cola, T-Mobile and more are all leaving the Overwatch League following the Activision Blizzard lawsuit.\n\nhttps://t.co/WJDH3rTMXg<b>Polarity:</b> 0.25<br><b>Subjectivity:</b> 0.3",
          "<b>Name:</b> GameSensedotCo<br><b>User Location:</b> nan<br><b>Verified?</b> False<br><b>Date:</b> 2021-08-07<br><b>Tweet:</b> Coca-Cola and State Farm are reassessing their partnerships with Activision Blizzard's Overwatch League, amid the company's sexual harassment and discrimination lawsuit.   #overwatch https://t.co/S07KKdeitU<b>Polarity:</b> 0.5<br><b>Subjectivity:</b> 0.8333333333333334",
          "<b>Name:</b> TeddyAmen<br><b>User Location:</b> Washington, DC<br><b>Verified?</b> False<br><b>Date:</b> 2022-03-24<br><b>Tweet:</b> For the past few years, Coca-Cola has been the sponsor of Activision Blizzard's Overwatch League. Now, they're backing Riot.<b>Polarity:</b> -0.225<br><b>Subjectivity:</b> 0.175",
          "<b>Name:</b> adage<br><b>User Location:</b> NYC, Chicago, Los Angeles, USA<br><b>Verified?</b> False<br><b>Date:</b> 2021-08-06<br><b>Tweet:</b> State Farm, Coca-Cola and T-Mobile have all paused their marketing efforts with the video game publisher’s Overwatch League following a lawsuit against the company https://t.co/sqRVWp1OGi<b>Polarity:</b> -0.2<br><b>Subjectivity:</b> 0.25",
          "<b>Name:</b> drogon_dracarys<br><b>User Location:</b> Flying around USA<br><b>Verified?</b> False<br><b>Date:</b> 2021-08-05<br><b>Tweet:</b> Coca-Cola and State Farm are reassessing partnerships with Activision Blizzard’s Overwatch League \n\nThey are two of seven sponsors currently listed on the Overwatch League website. https://t.co/Bp1583XI6T<b>Polarity:</b> 0.0<br><b>Subjectivity:</b> 0.4",
          "<b>Name:</b> ForbesTech<br><b>User Location:</b> nan<br><b>Verified?</b> False<br><b>Date:</b> 2021-08-06<br><b>Tweet:</b> Coca-Cola and State Farm are reevaluating their Overwatch League partnerships https://t.co/hUVsHuDIQE by @krisholt<b>Polarity:</b> 0.0<br><b>Subjectivity:</b> 0.0",
          "<b>Name:</b> LeaderGrev<br><b>User Location:</b> Washington, DC<br><b>Verified?</b> False<br><b>Date:</b> 2021-08-05<br><b>Tweet:</b> Coca-Cola and State Farm told The Post they're reassessing partnerships with Activision Blizzard’s Overwatch League.\n\nBoth companies ran advertisements in matches earlier this week, though some other sponsors were conspicuously absent.\n\nNew, by @TeddyAmen:\nhttps://t.co/DcISAXRTdD<b>Polarity:</b> 0.0037878787878787845<br><b>Subjectivity:</b> 0.4431818181818182",
          "<b>Name:</b> GamerMonkey_<br><b>User Location:</b> Online- Give Us A Follow!<br><b>Verified?</b> False<br><b>Date:</b> 2021-08-06<br><b>Tweet:</b> Report: Coca-Cola and State Farm step away from Overwatch League sponsorship https://t.co/LkB68Rviie<b>Polarity:</b> 0.0<br><b>Subjectivity:</b> 0.0",
          "<b>Name:</b> Gfinity<br><b>User Location:</b> The Gfinity Arena<br><b>Verified?</b> False<br><b>Date:</b> 2021-08-06<br><b>Tweet:</b> Coca Cola are stepping back from partnership with Overwatch League due to discrimination lawsuit\n\nhttps://t.co/XId8XtSuoM<b>Polarity:</b> -0.0625<br><b>Subjectivity:</b> 0.1875",
          "<b>Name:</b> TeddyAmen<br><b>User Location:</b> Washington, DC<br><b>Verified?</b> False<br><b>Date:</b> 2022-03-17<br><b>Tweet:</b> New for @LauncherWP w/ a scoop:\nI emailed every company that sponsored the Overwatch League last season. Coca-Cola, Kellogg’s, State Farm and Comcast don’t have plans to sponsor #OWL2022\n\nhttps://t.co/qrxW2hvvA9<b>Polarity:</b> 0.06818181818181818<br><b>Subjectivity:</b> 0.2606060606060606",
          "<b>Name:</b> camashta<br><b>User Location:</b> Austin, TX<br><b>Verified?</b> False<br><b>Date:</b> 2021-08-05<br><b>Tweet:</b> Amid harassment lawsuit, Coca Cola, State Farm pull back from Blizzard’s Overwatch League https://t.co/AuDv2pZSY0 https://t.co/knkfuqHhIL https://t.co/LzC4KGdRVm<b>Polarity:</b> 0.0<br><b>Subjectivity:</b> 0.0",
          "<b>Name:</b> boybecauseofyou<br><b>User Location:</b> nan<br><b>Verified?</b> False<br><b>Date:</b> 2021-08-07<br><b>Tweet:</b> @CocaCola Watching the Overwatch League<b>Polarity:</b> 0.0<br><b>Subjectivity:</b> 0.0",
          "<b>Name:</b> Magia_OW<br><b>User Location:</b> nan<br><b>Verified?</b> False<br><b>Date:</b> 2021-11-13<br><b>Tweet:</b> If we ever have another goats meta because OWL is sponsored by Coca-cola can we call it \"Diet Goats\" @overwatchleague<b>Polarity:</b> 0.0<br><b>Subjectivity:</b> 0.0",
          "<b>Name:</b> MercyWattson<br><b>User Location:</b> nan<br><b>Verified?</b> False<br><b>Date:</b> 2021-07-11<br><b>Tweet:</b> @VisorDaddy @overwatchleague @CocaCola @DallasFuel @ATLReign @BostonUprising @washjustice @ParisEternal @LAGladiators \"Gone. Reduced to atoms.\"<b>Polarity:</b> 0.0<br><b>Subjectivity:</b> 0.0",
          "<b>Name:</b> Whateva22948784<br><b>User Location:</b> nan<br><b>Verified?</b> False<br><b>Date:</b> 2021-08-06<br><b>Tweet:</b> @CocaCola @StateFarm @TMobile The news about Blizzard harassment are already bad for Overwatch League Viewers. Do not abandon us now.<b>Polarity:</b> -0.6999999999999998<br><b>Subjectivity:</b> 0.6666666666666666",
          "<b>Name:</b> Quote_nderscore<br><b>User Location:</b> nan<br><b>Verified?</b> False<br><b>Date:</b> 2021-07-17<br><b>Tweet:</b> @overwatchleague @ShanghaiDragons @ChengduHunters @CocaCola summoning circle, hope this works \n\n                       🕯\n              🕯              🕯\n        🕯                         🕯\n \n   🕯        Chengdu win     🕯\n\n        🕯                          🕯\n              🕯              🕯\n                        🕯<b>Polarity:</b> 0.8<br><b>Subjectivity:</b> 0.4",
          "<b>Name:</b> penguincosplay1<br><b>User Location:</b> Georgia, USA<br><b>Verified?</b> False<br><b>Date:</b> 2021-07-20<br><b>Tweet:</b> @overwatchleague @CocaCola Family through an through....\nWouldn't know where I would be without my @ATLRoyalFamily @MasqueradeRoyal... https://t.co/dXsEPt2BrG<b>Polarity:</b> 0.0<br><b>Subjectivity:</b> 0.0",
          "<b>Name:</b> BadPachimari<br><b>User Location:</b> London<br><b>Verified?</b> False<br><b>Date:</b> 2021-07-17<br><b>Tweet:</b> @overwatchleague @ShanghaiDragons @ChengduHunters @CocaCola no please. i didnt get any sleep last night<b>Polarity:</b> 0.0<br><b>Subjectivity:</b> 0.06666666666666667",
          "<b>Name:</b> scriblax<br><b>User Location:</b> nan<br><b>Verified?</b> False<br><b>Date:</b> 2021-08-06<br><b>Tweet:</b> @Viddviddesan_ @ChristopherSpad @overwatchleague @MattMrX OWL have lost Coca Cola and statefarm sponsors and other 2 are planning to leave<b>Polarity:</b> -0.125<br><b>Subjectivity:</b> 0.375",
          "<b>Name:</b> jp_shujinkou<br><b>User Location:</b> 東京<br><b>Verified?</b> False<br><b>Date:</b> 2021-07-19<br><b>Tweet:</b> @overwatchleague @CocaCola @5DVNYC and @CURIEUXQUEEN are so awesome! \nEveryone was super welcoming every time I visited NY. Both the Barclays Grand Finals and the NYXL homestand are cherished memories.<b>Polarity:</b> 0.611111111111111<br><b>Subjectivity:</b> 0.8888888888888888",
          "<b>Name:</b> overwatchleague<br><b>User Location:</b> Irvine, CA<br><b>Verified?</b> False<br><b>Date:</b> 2021-09-27<br><b>Tweet:</b> @BadPachimari @CocaCola It's okay BP, there's someone out there for you, somebody that will truly appreciate all of your incorrect OWL predictions.<b>Polarity:</b> 0.5<br><b>Subjectivity:</b> 0.5",
          "<b>Name:</b> washvicevirtue<br><b>User Location:</b> Washington, DC<br><b>Verified?</b> False<br><b>Date:</b> 2021-07-19<br><b>Tweet:</b> @overwatchleague @CocaCola Hey I know them @consuesue \nIf anyone wants info on the Washington justice support group let’s us know! #JusticeIsServed #justicefighting #vvdc<b>Polarity:</b> 0.25<br><b>Subjectivity:</b> 0.1",
          "<b>Name:</b> ShanghaiDragons<br><b>User Location:</b> Shanghai, China<br><b>Verified?</b> False<br><b>Date:</b> 2021-07-17<br><b>Tweet:</b> @overwatchleague @ChengduHunters @CocaCola Yeah we gotchu, no problem!<b>Polarity:</b> 0.0<br><b>Subjectivity:</b> 0.0",
          "<b>Name:</b> carloslimba<br><b>User Location:</b> nan<br><b>Verified?</b> False<br><b>Date:</b> 2021-08-09<br><b>Tweet:</b> @gamerwipe @OverwatchTXT @CocaCola @overwatchleague This is by far the less offensive thing Coca Cola has done in history. The use to kill union workers in third world countries…<b>Polarity:</b> -0.022222222222222216<br><b>Subjectivity:</b> 0.35555555555555557",
          "<b>Name:</b> Pixel__Byte<br><b>User Location:</b> nan<br><b>Verified?</b> False<br><b>Date:</b> 2022-03-19<br><b>Tweet:</b> Report: Two Months Before Return, Overwatch League Still Has No Sponsors https://t.co/yEhf2PEE2a #overwatch #overwatchleague #cocacola #activisionblizzard<b>Polarity:</b> 0.0<br><b>Subjectivity:</b> 0.0",
          "<b>Name:</b> redditOWL<br><b>User Location:</b> nan<br><b>Verified?</b> False<br><b>Date:</b> 2021-09-22<br><b>Tweet:</b> \"wait are coca-cola still sponsoring the OWL? saw this just now in the livestream and i got confused\" - gabot-gdolot https://t.co/a9HMY054C3 #OverwatchLeague<b>Polarity:</b> -0.4<br><b>Subjectivity:</b> 0.7",
          "<b>Name:</b> jrockway<br><b>User Location:</b> Brooklyn<br><b>Verified?</b> False<br><b>Date:</b> 2021-08-19<br><b>Tweet:</b> 2 weeks ago when Blizzard was in the news, @CocaCola  said they were going to pull out of sponsoring Overwatch League.  Go over to the OWL website, and they're still sponsors.  Slimy.<b>Polarity:</b> 0.0<br><b>Subjectivity:</b> 0.0",
          "<b>Name:</b> WhatsOnTwitch<br><b>User Location:</b> Internet<br><b>Verified?</b> False<br><b>Date:</b> 2021-08-09<br><b>Tweet:</b> Overwatch League could lose Coca-Cola and State Farm sponsorship amid Blizzard lawsuit https://t.co/ZUxmt0Xs7t https://t.co/5eqcLZx3mE<b>Polarity:</b> 0.0<br><b>Subjectivity:</b> 0.0",
          "<b>Name:</b> redditOWL<br><b>User Location:</b> nan<br><b>Verified?</b> False<br><b>Date:</b> 2021-08-07<br><b>Tweet:</b> \"Kellogg's have pulled the sponsorship from OWL leaving only xfinity, Coca Cola (who is reevaluating) and State Farm (who is also reevaluating)\" - Tacovargen https://t.co/C5PZFwxR1t #OverwatchLeague<b>Polarity:</b> 0.0<br><b>Subjectivity:</b> 1.0",
          "<b>Name:</b> sky5niper<br><b>User Location:</b> A ༯<br><b>Verified?</b> False<br><b>Date:</b> 2021-08-06<br><b>Tweet:</b> @tjsr @BillyDaMoose @CocaCola @TMobile @overwatchleague Well that is literally any competitive game and overwatch doesn’t even have it the worse lol. Also OWL is not comp games... it’s the best players competing and almost all of them enjoy it and are respectful<b>Polarity:</b> 0.31666666666666665<br><b>Subjectivity:</b> 0.5333333333333333",
          "<b>Name:</b> You_Deeptech<br><b>User Location:</b> Surat, India<br><b>Verified?</b> False<br><b>Date:</b> 2021-08-10<br><b>Tweet:</b> Coca-Cola, State Farm and More Reassessing Partnerships With Overwatch League – The Fix: Esports https://t.co/bGRvu6qlqd<b>Polarity:</b> 0.5<br><b>Subjectivity:</b> 0.5",
          "<b>Name:</b> meunboxing<br><b>User Location:</b> Earth <br><b>Verified?</b> False<br><b>Date:</b> 2021-08-06<br><b>Tweet:</b> Coca-Cola, State Farm Reconsidering Overwatch League Sponsorships https://t.co/oc4vV6i2DT https://t.co/qc4FaZ8Z4r<b>Polarity:</b> 0.0<br><b>Subjectivity:</b> 0.0",
          "<b>Name:</b> Dungeon00X<br><b>User Location:</b> Texas<br><b>Verified?</b> False<br><b>Date:</b> 2021-08-05<br><b>Tweet:</b> @Kotaku I'm surprised that an Overwatch league still exists after this. Also, Bobby Kotick is on the board of directors at Coca-cola!<b>Polarity:</b> 0.125<br><b>Subjectivity:</b> 0.9",
          "<b>Name:</b> EGamersWorld<br><b>User Location:</b> nan<br><b>Verified?</b> False<br><b>Date:</b> 2021-08-06<br><b>Tweet:</b> Coca-Cola and State Farm reconsider Overwatch League partnership\n\nThe organizations made this decision due to allegations of harassment and discrimination against Activision Blizzard.\n\nhttps://t.co/1jDmDZoXQw<b>Polarity:</b> -0.125<br><b>Subjectivity:</b> 0.375",
          "<b>Name:</b> mariuskarma<br><b>User Location:</b> internet<br><b>Verified?</b> False<br><b>Date:</b> 2021-08-07<br><b>Tweet:</b> ForbesTech: Coca-Cola and State Farm are reevaluating their Overwatch League partnerships https://t.co/KiyZTn5YYJ by @krisholt<b>Polarity:</b> 0.0<br><b>Subjectivity:</b> 0.0",
          "<b>Name:</b> jaymcastello<br><b>User Location:</b> jaymcastello [at] gmail.com<br><b>Verified?</b> False<br><b>Date:</b> 2021-08-05<br><b>Tweet:</b> @Vahn16 \"Both Coca-Cola and State Farm ran advertisements in Overwatch League matches earlier this week\" love to see brands take decisive and timely action<b>Polarity:</b> 0.19999999999999998<br><b>Subjectivity:</b> 0.4000000000000001",
          "<b>Name:</b> MsMoLogan<br><b>User Location:</b> Georgia, USA<br><b>Verified?</b> False<br><b>Date:</b> 2021-08-06<br><b>Tweet:</b> 👀 The Washington Post: Amid harassment lawsuit, Coca Cola, State Farm pull back from Blizzard's Overwatch League.\nhttps://t.co/lCiskYZnGV\n\nvia @GoogleNews<b>Polarity:</b> 0.0<br><b>Subjectivity:</b> 0.0"
         ],
         "type": "scattermapbox"
        }
       ],
       "layout": {
        "height": 650,
        "mapbox": {
         "center": {
          "lat": 46.3144754,
          "lon": 11.0480288
         },
         "style": "carto-positron",
         "zoom": 0.5
        },
        "template": {
         "data": {
          "bar": [
           {
            "error_x": {
             "color": "#2a3f5f"
            },
            "error_y": {
             "color": "#2a3f5f"
            },
            "marker": {
             "line": {
              "color": "#E5ECF6",
              "width": 0.5
             },
             "pattern": {
              "fillmode": "overlay",
              "size": 10,
              "solidity": 0.2
             }
            },
            "type": "bar"
           }
          ],
          "barpolar": [
           {
            "marker": {
             "line": {
              "color": "#E5ECF6",
              "width": 0.5
             },
             "pattern": {
              "fillmode": "overlay",
              "size": 10,
              "solidity": 0.2
             }
            },
            "type": "barpolar"
           }
          ],
          "carpet": [
           {
            "aaxis": {
             "endlinecolor": "#2a3f5f",
             "gridcolor": "white",
             "linecolor": "white",
             "minorgridcolor": "white",
             "startlinecolor": "#2a3f5f"
            },
            "baxis": {
             "endlinecolor": "#2a3f5f",
             "gridcolor": "white",
             "linecolor": "white",
             "minorgridcolor": "white",
             "startlinecolor": "#2a3f5f"
            },
            "type": "carpet"
           }
          ],
          "choropleth": [
           {
            "colorbar": {
             "outlinewidth": 0,
             "ticks": ""
            },
            "type": "choropleth"
           }
          ],
          "contour": [
           {
            "colorbar": {
             "outlinewidth": 0,
             "ticks": ""
            },
            "colorscale": [
             [
              0,
              "#0d0887"
             ],
             [
              0.1111111111111111,
              "#46039f"
             ],
             [
              0.2222222222222222,
              "#7201a8"
             ],
             [
              0.3333333333333333,
              "#9c179e"
             ],
             [
              0.4444444444444444,
              "#bd3786"
             ],
             [
              0.5555555555555556,
              "#d8576b"
             ],
             [
              0.6666666666666666,
              "#ed7953"
             ],
             [
              0.7777777777777778,
              "#fb9f3a"
             ],
             [
              0.8888888888888888,
              "#fdca26"
             ],
             [
              1,
              "#f0f921"
             ]
            ],
            "type": "contour"
           }
          ],
          "contourcarpet": [
           {
            "colorbar": {
             "outlinewidth": 0,
             "ticks": ""
            },
            "type": "contourcarpet"
           }
          ],
          "heatmap": [
           {
            "colorbar": {
             "outlinewidth": 0,
             "ticks": ""
            },
            "colorscale": [
             [
              0,
              "#0d0887"
             ],
             [
              0.1111111111111111,
              "#46039f"
             ],
             [
              0.2222222222222222,
              "#7201a8"
             ],
             [
              0.3333333333333333,
              "#9c179e"
             ],
             [
              0.4444444444444444,
              "#bd3786"
             ],
             [
              0.5555555555555556,
              "#d8576b"
             ],
             [
              0.6666666666666666,
              "#ed7953"
             ],
             [
              0.7777777777777778,
              "#fb9f3a"
             ],
             [
              0.8888888888888888,
              "#fdca26"
             ],
             [
              1,
              "#f0f921"
             ]
            ],
            "type": "heatmap"
           }
          ],
          "heatmapgl": [
           {
            "colorbar": {
             "outlinewidth": 0,
             "ticks": ""
            },
            "colorscale": [
             [
              0,
              "#0d0887"
             ],
             [
              0.1111111111111111,
              "#46039f"
             ],
             [
              0.2222222222222222,
              "#7201a8"
             ],
             [
              0.3333333333333333,
              "#9c179e"
             ],
             [
              0.4444444444444444,
              "#bd3786"
             ],
             [
              0.5555555555555556,
              "#d8576b"
             ],
             [
              0.6666666666666666,
              "#ed7953"
             ],
             [
              0.7777777777777778,
              "#fb9f3a"
             ],
             [
              0.8888888888888888,
              "#fdca26"
             ],
             [
              1,
              "#f0f921"
             ]
            ],
            "type": "heatmapgl"
           }
          ],
          "histogram": [
           {
            "marker": {
             "pattern": {
              "fillmode": "overlay",
              "size": 10,
              "solidity": 0.2
             }
            },
            "type": "histogram"
           }
          ],
          "histogram2d": [
           {
            "colorbar": {
             "outlinewidth": 0,
             "ticks": ""
            },
            "colorscale": [
             [
              0,
              "#0d0887"
             ],
             [
              0.1111111111111111,
              "#46039f"
             ],
             [
              0.2222222222222222,
              "#7201a8"
             ],
             [
              0.3333333333333333,
              "#9c179e"
             ],
             [
              0.4444444444444444,
              "#bd3786"
             ],
             [
              0.5555555555555556,
              "#d8576b"
             ],
             [
              0.6666666666666666,
              "#ed7953"
             ],
             [
              0.7777777777777778,
              "#fb9f3a"
             ],
             [
              0.8888888888888888,
              "#fdca26"
             ],
             [
              1,
              "#f0f921"
             ]
            ],
            "type": "histogram2d"
           }
          ],
          "histogram2dcontour": [
           {
            "colorbar": {
             "outlinewidth": 0,
             "ticks": ""
            },
            "colorscale": [
             [
              0,
              "#0d0887"
             ],
             [
              0.1111111111111111,
              "#46039f"
             ],
             [
              0.2222222222222222,
              "#7201a8"
             ],
             [
              0.3333333333333333,
              "#9c179e"
             ],
             [
              0.4444444444444444,
              "#bd3786"
             ],
             [
              0.5555555555555556,
              "#d8576b"
             ],
             [
              0.6666666666666666,
              "#ed7953"
             ],
             [
              0.7777777777777778,
              "#fb9f3a"
             ],
             [
              0.8888888888888888,
              "#fdca26"
             ],
             [
              1,
              "#f0f921"
             ]
            ],
            "type": "histogram2dcontour"
           }
          ],
          "mesh3d": [
           {
            "colorbar": {
             "outlinewidth": 0,
             "ticks": ""
            },
            "type": "mesh3d"
           }
          ],
          "parcoords": [
           {
            "line": {
             "colorbar": {
              "outlinewidth": 0,
              "ticks": ""
             }
            },
            "type": "parcoords"
           }
          ],
          "pie": [
           {
            "automargin": true,
            "type": "pie"
           }
          ],
          "scatter": [
           {
            "fillpattern": {
             "fillmode": "overlay",
             "size": 10,
             "solidity": 0.2
            },
            "type": "scatter"
           }
          ],
          "scatter3d": [
           {
            "line": {
             "colorbar": {
              "outlinewidth": 0,
              "ticks": ""
             }
            },
            "marker": {
             "colorbar": {
              "outlinewidth": 0,
              "ticks": ""
             }
            },
            "type": "scatter3d"
           }
          ],
          "scattercarpet": [
           {
            "marker": {
             "colorbar": {
              "outlinewidth": 0,
              "ticks": ""
             }
            },
            "type": "scattercarpet"
           }
          ],
          "scattergeo": [
           {
            "marker": {
             "colorbar": {
              "outlinewidth": 0,
              "ticks": ""
             }
            },
            "type": "scattergeo"
           }
          ],
          "scattergl": [
           {
            "marker": {
             "colorbar": {
              "outlinewidth": 0,
              "ticks": ""
             }
            },
            "type": "scattergl"
           }
          ],
          "scattermapbox": [
           {
            "marker": {
             "colorbar": {
              "outlinewidth": 0,
              "ticks": ""
             }
            },
            "type": "scattermapbox"
           }
          ],
          "scatterpolar": [
           {
            "marker": {
             "colorbar": {
              "outlinewidth": 0,
              "ticks": ""
             }
            },
            "type": "scatterpolar"
           }
          ],
          "scatterpolargl": [
           {
            "marker": {
             "colorbar": {
              "outlinewidth": 0,
              "ticks": ""
             }
            },
            "type": "scatterpolargl"
           }
          ],
          "scatterternary": [
           {
            "marker": {
             "colorbar": {
              "outlinewidth": 0,
              "ticks": ""
             }
            },
            "type": "scatterternary"
           }
          ],
          "surface": [
           {
            "colorbar": {
             "outlinewidth": 0,
             "ticks": ""
            },
            "colorscale": [
             [
              0,
              "#0d0887"
             ],
             [
              0.1111111111111111,
              "#46039f"
             ],
             [
              0.2222222222222222,
              "#7201a8"
             ],
             [
              0.3333333333333333,
              "#9c179e"
             ],
             [
              0.4444444444444444,
              "#bd3786"
             ],
             [
              0.5555555555555556,
              "#d8576b"
             ],
             [
              0.6666666666666666,
              "#ed7953"
             ],
             [
              0.7777777777777778,
              "#fb9f3a"
             ],
             [
              0.8888888888888888,
              "#fdca26"
             ],
             [
              1,
              "#f0f921"
             ]
            ],
            "type": "surface"
           }
          ],
          "table": [
           {
            "cells": {
             "fill": {
              "color": "#EBF0F8"
             },
             "line": {
              "color": "white"
             }
            },
            "header": {
             "fill": {
              "color": "#C8D4E3"
             },
             "line": {
              "color": "white"
             }
            },
            "type": "table"
           }
          ]
         },
         "layout": {
          "annotationdefaults": {
           "arrowcolor": "#2a3f5f",
           "arrowhead": 0,
           "arrowwidth": 1
          },
          "autotypenumbers": "strict",
          "coloraxis": {
           "colorbar": {
            "outlinewidth": 0,
            "ticks": ""
           }
          },
          "colorscale": {
           "diverging": [
            [
             0,
             "#8e0152"
            ],
            [
             0.1,
             "#c51b7d"
            ],
            [
             0.2,
             "#de77ae"
            ],
            [
             0.3,
             "#f1b6da"
            ],
            [
             0.4,
             "#fde0ef"
            ],
            [
             0.5,
             "#f7f7f7"
            ],
            [
             0.6,
             "#e6f5d0"
            ],
            [
             0.7,
             "#b8e186"
            ],
            [
             0.8,
             "#7fbc41"
            ],
            [
             0.9,
             "#4d9221"
            ],
            [
             1,
             "#276419"
            ]
           ],
           "sequential": [
            [
             0,
             "#0d0887"
            ],
            [
             0.1111111111111111,
             "#46039f"
            ],
            [
             0.2222222222222222,
             "#7201a8"
            ],
            [
             0.3333333333333333,
             "#9c179e"
            ],
            [
             0.4444444444444444,
             "#bd3786"
            ],
            [
             0.5555555555555556,
             "#d8576b"
            ],
            [
             0.6666666666666666,
             "#ed7953"
            ],
            [
             0.7777777777777778,
             "#fb9f3a"
            ],
            [
             0.8888888888888888,
             "#fdca26"
            ],
            [
             1,
             "#f0f921"
            ]
           ],
           "sequentialminus": [
            [
             0,
             "#0d0887"
            ],
            [
             0.1111111111111111,
             "#46039f"
            ],
            [
             0.2222222222222222,
             "#7201a8"
            ],
            [
             0.3333333333333333,
             "#9c179e"
            ],
            [
             0.4444444444444444,
             "#bd3786"
            ],
            [
             0.5555555555555556,
             "#d8576b"
            ],
            [
             0.6666666666666666,
             "#ed7953"
            ],
            [
             0.7777777777777778,
             "#fb9f3a"
            ],
            [
             0.8888888888888888,
             "#fdca26"
            ],
            [
             1,
             "#f0f921"
            ]
           ]
          },
          "colorway": [
           "#636efa",
           "#EF553B",
           "#00cc96",
           "#ab63fa",
           "#FFA15A",
           "#19d3f3",
           "#FF6692",
           "#B6E880",
           "#FF97FF",
           "#FECB52"
          ],
          "font": {
           "color": "#2a3f5f"
          },
          "geo": {
           "bgcolor": "white",
           "lakecolor": "white",
           "landcolor": "#E5ECF6",
           "showlakes": true,
           "showland": true,
           "subunitcolor": "white"
          },
          "hoverlabel": {
           "align": "left"
          },
          "hovermode": "closest",
          "mapbox": {
           "style": "light"
          },
          "paper_bgcolor": "white",
          "plot_bgcolor": "#E5ECF6",
          "polar": {
           "angularaxis": {
            "gridcolor": "white",
            "linecolor": "white",
            "ticks": ""
           },
           "bgcolor": "#E5ECF6",
           "radialaxis": {
            "gridcolor": "white",
            "linecolor": "white",
            "ticks": ""
           }
          },
          "scene": {
           "xaxis": {
            "backgroundcolor": "#E5ECF6",
            "gridcolor": "white",
            "gridwidth": 2,
            "linecolor": "white",
            "showbackground": true,
            "ticks": "",
            "zerolinecolor": "white"
           },
           "yaxis": {
            "backgroundcolor": "#E5ECF6",
            "gridcolor": "white",
            "gridwidth": 2,
            "linecolor": "white",
            "showbackground": true,
            "ticks": "",
            "zerolinecolor": "white"
           },
           "zaxis": {
            "backgroundcolor": "#E5ECF6",
            "gridcolor": "white",
            "gridwidth": 2,
            "linecolor": "white",
            "showbackground": true,
            "ticks": "",
            "zerolinecolor": "white"
           }
          },
          "shapedefaults": {
           "line": {
            "color": "#2a3f5f"
           }
          },
          "ternary": {
           "aaxis": {
            "gridcolor": "white",
            "linecolor": "white",
            "ticks": ""
           },
           "baxis": {
            "gridcolor": "white",
            "linecolor": "white",
            "ticks": ""
           },
           "bgcolor": "#E5ECF6",
           "caxis": {
            "gridcolor": "white",
            "linecolor": "white",
            "ticks": ""
           }
          },
          "title": {
           "x": 0.05
          },
          "xaxis": {
           "automargin": true,
           "gridcolor": "white",
           "linecolor": "white",
           "ticks": "",
           "title": {
            "standoff": 15
           },
           "zerolinecolor": "white",
           "zerolinewidth": 2
          },
          "yaxis": {
           "automargin": true,
           "gridcolor": "white",
           "linecolor": "white",
           "ticks": "",
           "title": {
            "standoff": 15
           },
           "zerolinecolor": "white",
           "zerolinewidth": 2
          }
         }
        },
        "title": {
         "text": "Subjectivity of Overwatch League/Coca-Cola-related Tweets"
        },
        "width": 900
       }
      }
     },
     "metadata": {},
     "output_type": "display_data"
    }
   ],
   "source": [
    "# Create a Scatter map figure with data for Subjectivity of Overwatch League/Coca-Cola-related Tweets\n",
    "submap = go.Figure(go.Scattermapbox(lat=tweets_final['geometry'].y,\n",
    "                                    lon=tweets_final['geometry'].x,\n",
    "                                    mode='markers',\n",
    "                                    marker=dict(size=7.5,\n",
    "                                                color=tweets_final['subjectivity'],\n",
    "                                                colorscale='sunset',\n",
    "                                                opacity=0.7,\n",
    "                                                colorbar=dict(title='Subjectivity')),\n",
    "                                    text=sentimenthover)\n",
    ")\n",
    "\n",
    "# Set the layout of the Scatter map figure, including the title, the map attributes, the plot height and the plot width\n",
    "submap.update_layout(title='Subjectivity of Overwatch League/Coca-Cola-related Tweets',\n",
    "                     mapbox=dict(style='carto-positron',\n",
    "                                 center=dict(lat=tweets_final['geometry'].y.median(),\n",
    "                                             lon=tweets_final['geometry'].x.median()),\n",
    "                                 zoom=0.5),\n",
    "                     height=650,\n",
    "                     width=900\n",
    ")\n",
    "\n",
    "# Show the Scatter map figure\n",
    "submap.show()"
   ]
  },
  {
   "attachments": {},
   "cell_type": "markdown",
   "metadata": {},
   "source": [
    "Using a Scatter map again, we visualise the geographical distribution of the subjectivity data from tweets related to the Overwatch League/Coca-Cola sponsorship. Using the Plotly library, and the Mapbox API, markers are placed on the map that correspond to the approximate location of each tweet and where it originated from. The 'carto-positron' Mapbox style is used to provide a clear background, and uses the latitude and longitude coordinates, which are derived from the 'geometry' column in the dataset, to plot each tweet. The markers are colored using the 'sunset' colorscale, which ranges from yellow to purple to represent objectivity and subjectivity, respectively."
   ]
  },
  {
   "cell_type": "code",
   "execution_count": 24,
   "metadata": {},
   "outputs": [
    {
     "data": {
      "text/html": [
       "<div>\n",
       "<style scoped>\n",
       "    .dataframe tbody tr th:only-of-type {\n",
       "        vertical-align: middle;\n",
       "    }\n",
       "\n",
       "    .dataframe tbody tr th {\n",
       "        vertical-align: top;\n",
       "    }\n",
       "\n",
       "    .dataframe thead th {\n",
       "        text-align: right;\n",
       "    }\n",
       "</style>\n",
       "<table border=\"1\" class=\"dataframe\">\n",
       "  <thead>\n",
       "    <tr style=\"text-align: right;\">\n",
       "      <th></th>\n",
       "      <th>tweet_id</th>\n",
       "      <th>username</th>\n",
       "      <th>full_name</th>\n",
       "      <th>full_text</th>\n",
       "      <th>view_count</th>\n",
       "      <th>bookmark_count</th>\n",
       "      <th>favorite_count</th>\n",
       "      <th>reply_count</th>\n",
       "      <th>retweet_count</th>\n",
       "      <th>quote_count</th>\n",
       "      <th>...</th>\n",
       "      <th>avatar_url</th>\n",
       "      <th>verified</th>\n",
       "      <th>is_blue_verified</th>\n",
       "      <th>user_created_at</th>\n",
       "      <th>acc_location</th>\n",
       "      <th>lat</th>\n",
       "      <th>lon</th>\n",
       "      <th>geometry</th>\n",
       "      <th>polarity</th>\n",
       "      <th>subjectivity</th>\n",
       "    </tr>\n",
       "  </thead>\n",
       "  <tbody>\n",
       "    <tr>\n",
       "      <th>0</th>\n",
       "      <td>1589292294456627200</td>\n",
       "      <td>fuckitseominsoo</td>\n",
       "      <td>fuck it seominsoo</td>\n",
       "      <td>Despite no longer sponsoring OWL, you can stil...</td>\n",
       "      <td>0</td>\n",
       "      <td>22</td>\n",
       "      <td>784</td>\n",
       "      <td>12</td>\n",
       "      <td>30</td>\n",
       "      <td>8</td>\n",
       "      <td>...</td>\n",
       "      <td>https://pbs.twimg.com/profile_images/161295423...</td>\n",
       "      <td>False</td>\n",
       "      <td>False</td>\n",
       "      <td>2019-10-14</td>\n",
       "      <td>(Canada, (61.0666922, -107.991707))</td>\n",
       "      <td>61.066692</td>\n",
       "      <td>-107.991707</td>\n",
       "      <td>POINT (-107.99171 61.06669)</td>\n",
       "      <td>0.0000</td>\n",
       "      <td>0.000</td>\n",
       "    </tr>\n",
       "    <tr>\n",
       "      <th>1</th>\n",
       "      <td>1423381826094223362</td>\n",
       "      <td>OscarINTEL</td>\n",
       "      <td>Overwatch 2 News</td>\n",
       "      <td>State Farm and Coca Cola have paused their spo...</td>\n",
       "      <td>0</td>\n",
       "      <td>10</td>\n",
       "      <td>1033</td>\n",
       "      <td>26</td>\n",
       "      <td>127</td>\n",
       "      <td>138</td>\n",
       "      <td>...</td>\n",
       "      <td>https://pbs.twimg.com/profile_images/145062056...</td>\n",
       "      <td>False</td>\n",
       "      <td>True</td>\n",
       "      <td>2016-05-27</td>\n",
       "      <td>(Overwatch, 5301, Southwest Parkway, Austin, T...</td>\n",
       "      <td>30.242332</td>\n",
       "      <td>-97.843169</td>\n",
       "      <td>POINT (-97.84317 30.24233)</td>\n",
       "      <td>0.0000</td>\n",
       "      <td>0.125</td>\n",
       "    </tr>\n",
       "    <tr>\n",
       "      <th>3</th>\n",
       "      <td>1442536089688883200</td>\n",
       "      <td>overwatchleague</td>\n",
       "      <td>Overwatch League</td>\n",
       "      <td>Love is in the Overwatch League 💍\\n\\nProposals...</td>\n",
       "      <td>0</td>\n",
       "      <td>7</td>\n",
       "      <td>799</td>\n",
       "      <td>12</td>\n",
       "      <td>27</td>\n",
       "      <td>7</td>\n",
       "      <td>...</td>\n",
       "      <td>https://pbs.twimg.com/profile_images/167842888...</td>\n",
       "      <td>False</td>\n",
       "      <td>False</td>\n",
       "      <td>2016-10-26</td>\n",
       "      <td>(Irvine, Orange County, California, United Sta...</td>\n",
       "      <td>33.685697</td>\n",
       "      <td>-117.825982</td>\n",
       "      <td>POINT (-117.82598 33.68570)</td>\n",
       "      <td>0.5625</td>\n",
       "      <td>0.800</td>\n",
       "    </tr>\n",
       "    <tr>\n",
       "      <th>4</th>\n",
       "      <td>1660686983293816832</td>\n",
       "      <td>jonunderscor</td>\n",
       "      <td>Jon</td>\n",
       "      <td>What a great match there coming from the Coca-...</td>\n",
       "      <td>34188</td>\n",
       "      <td>1</td>\n",
       "      <td>391</td>\n",
       "      <td>8</td>\n",
       "      <td>16</td>\n",
       "      <td>3</td>\n",
       "      <td>...</td>\n",
       "      <td>https://pbs.twimg.com/profile_images/143510425...</td>\n",
       "      <td>False</td>\n",
       "      <td>False</td>\n",
       "      <td>2017-04-19</td>\n",
       "      <td>(United States, (39.7837304, -100.445882))</td>\n",
       "      <td>39.783730</td>\n",
       "      <td>-100.445882</td>\n",
       "      <td>POINT (-100.44588 39.78373)</td>\n",
       "      <td>0.1700</td>\n",
       "      <td>0.490</td>\n",
       "    </tr>\n",
       "    <tr>\n",
       "      <th>5</th>\n",
       "      <td>1423621724575260675</td>\n",
       "      <td>BellularGaming</td>\n",
       "      <td>Michael</td>\n",
       "      <td>Coca-Cola have pulled sponsorship from Overwat...</td>\n",
       "      <td>0</td>\n",
       "      <td>1</td>\n",
       "      <td>1923</td>\n",
       "      <td>61</td>\n",
       "      <td>104</td>\n",
       "      <td>5</td>\n",
       "      <td>...</td>\n",
       "      <td>https://pbs.twimg.com/profile_images/145845504...</td>\n",
       "      <td>False</td>\n",
       "      <td>True</td>\n",
       "      <td>2013-04-07</td>\n",
       "      <td>(Belfast, County Antrim, Northern Ireland / Tu...</td>\n",
       "      <td>54.596391</td>\n",
       "      <td>-5.930183</td>\n",
       "      <td>POINT (-5.93018 54.59639)</td>\n",
       "      <td>-0.7500</td>\n",
       "      <td>1.000</td>\n",
       "    </tr>\n",
       "  </tbody>\n",
       "</table>\n",
       "<p>5 rows × 44 columns</p>\n",
       "</div>"
      ],
      "text/plain": [
       "              tweet_id         username          full_name  \\\n",
       "0  1589292294456627200  fuckitseominsoo  fuck it seominsoo   \n",
       "1  1423381826094223362       OscarINTEL   Overwatch 2 News   \n",
       "3  1442536089688883200  overwatchleague   Overwatch League   \n",
       "4  1660686983293816832     jonunderscor                Jon   \n",
       "5  1423621724575260675   BellularGaming            Michael   \n",
       "\n",
       "                                           full_text  view_count  \\\n",
       "0  Despite no longer sponsoring OWL, you can stil...           0   \n",
       "1  State Farm and Coca Cola have paused their spo...           0   \n",
       "3  Love is in the Overwatch League 💍\\n\\nProposals...           0   \n",
       "4  What a great match there coming from the Coca-...       34188   \n",
       "5  Coca-Cola have pulled sponsorship from Overwat...           0   \n",
       "\n",
       "   bookmark_count  favorite_count  reply_count  retweet_count  quote_count  \\\n",
       "0              22             784           12             30            8   \n",
       "1              10            1033           26            127          138   \n",
       "3               7             799           12             27            7   \n",
       "4               1             391            8             16            3   \n",
       "5               1            1923           61            104            5   \n",
       "\n",
       "   ...                                         avatar_url verified  \\\n",
       "0  ...  https://pbs.twimg.com/profile_images/161295423...    False   \n",
       "1  ...  https://pbs.twimg.com/profile_images/145062056...    False   \n",
       "3  ...  https://pbs.twimg.com/profile_images/167842888...    False   \n",
       "4  ...  https://pbs.twimg.com/profile_images/143510425...    False   \n",
       "5  ...  https://pbs.twimg.com/profile_images/145845504...    False   \n",
       "\n",
       "   is_blue_verified  user_created_at  \\\n",
       "0             False       2019-10-14   \n",
       "1              True       2016-05-27   \n",
       "3             False       2016-10-26   \n",
       "4             False       2017-04-19   \n",
       "5              True       2013-04-07   \n",
       "\n",
       "                                        acc_location        lat         lon  \\\n",
       "0                (Canada, (61.0666922, -107.991707))  61.066692 -107.991707   \n",
       "1  (Overwatch, 5301, Southwest Parkway, Austin, T...  30.242332  -97.843169   \n",
       "3  (Irvine, Orange County, California, United Sta...  33.685697 -117.825982   \n",
       "4         (United States, (39.7837304, -100.445882))  39.783730 -100.445882   \n",
       "5  (Belfast, County Antrim, Northern Ireland / Tu...  54.596391   -5.930183   \n",
       "\n",
       "                      geometry  polarity subjectivity  \n",
       "0  POINT (-107.99171 61.06669)    0.0000        0.000  \n",
       "1   POINT (-97.84317 30.24233)    0.0000        0.125  \n",
       "3  POINT (-117.82598 33.68570)    0.5625        0.800  \n",
       "4  POINT (-100.44588 39.78373)    0.1700        0.490  \n",
       "5    POINT (-5.93018 54.59639)   -0.7500        1.000  \n",
       "\n",
       "[5 rows x 44 columns]"
      ]
     },
     "execution_count": 24,
     "metadata": {},
     "output_type": "execute_result"
    }
   ],
   "source": [
    "tweets_countrypre=tweets_final[tweets_final['lat'].notna()]\n",
    "tweets_countrypre.head()"
   ]
  },
  {
   "cell_type": "code",
   "execution_count": 25,
   "metadata": {},
   "outputs": [
    {
     "data": {
      "text/html": [
       "<div>\n",
       "<style scoped>\n",
       "    .dataframe tbody tr th:only-of-type {\n",
       "        vertical-align: middle;\n",
       "    }\n",
       "\n",
       "    .dataframe tbody tr th {\n",
       "        vertical-align: top;\n",
       "    }\n",
       "\n",
       "    .dataframe thead th {\n",
       "        text-align: right;\n",
       "    }\n",
       "</style>\n",
       "<table border=\"1\" class=\"dataframe\">\n",
       "  <thead>\n",
       "    <tr style=\"text-align: right;\">\n",
       "      <th></th>\n",
       "      <th>tweet_id</th>\n",
       "      <th>username</th>\n",
       "      <th>full_name</th>\n",
       "      <th>full_text</th>\n",
       "      <th>view_count</th>\n",
       "      <th>bookmark_count</th>\n",
       "      <th>favorite_count</th>\n",
       "      <th>reply_count</th>\n",
       "      <th>retweet_count</th>\n",
       "      <th>quote_count</th>\n",
       "      <th>...</th>\n",
       "      <th>verified</th>\n",
       "      <th>is_blue_verified</th>\n",
       "      <th>user_created_at</th>\n",
       "      <th>acc_location</th>\n",
       "      <th>lat</th>\n",
       "      <th>lon</th>\n",
       "      <th>geometry</th>\n",
       "      <th>polarity</th>\n",
       "      <th>subjectivity</th>\n",
       "      <th>country</th>\n",
       "    </tr>\n",
       "  </thead>\n",
       "  <tbody>\n",
       "    <tr>\n",
       "      <th>0</th>\n",
       "      <td>1589292294456627200</td>\n",
       "      <td>fuckitseominsoo</td>\n",
       "      <td>fuck it seominsoo</td>\n",
       "      <td>Despite no longer sponsoring OWL, you can stil...</td>\n",
       "      <td>0</td>\n",
       "      <td>22</td>\n",
       "      <td>784</td>\n",
       "      <td>12</td>\n",
       "      <td>30</td>\n",
       "      <td>8</td>\n",
       "      <td>...</td>\n",
       "      <td>False</td>\n",
       "      <td>False</td>\n",
       "      <td>2019-10-14</td>\n",
       "      <td>(Canada, (61.0666922, -107.991707))</td>\n",
       "      <td>61.066692</td>\n",
       "      <td>-107.991707</td>\n",
       "      <td>POINT (-107.99171 61.06669)</td>\n",
       "      <td>0.0000</td>\n",
       "      <td>0.000</td>\n",
       "      <td>Canada</td>\n",
       "    </tr>\n",
       "    <tr>\n",
       "      <th>1</th>\n",
       "      <td>1423381826094223362</td>\n",
       "      <td>OscarINTEL</td>\n",
       "      <td>Overwatch 2 News</td>\n",
       "      <td>State Farm and Coca Cola have paused their spo...</td>\n",
       "      <td>0</td>\n",
       "      <td>10</td>\n",
       "      <td>1033</td>\n",
       "      <td>26</td>\n",
       "      <td>127</td>\n",
       "      <td>138</td>\n",
       "      <td>...</td>\n",
       "      <td>False</td>\n",
       "      <td>True</td>\n",
       "      <td>2016-05-27</td>\n",
       "      <td>(Overwatch, 5301, Southwest Parkway, Austin, T...</td>\n",
       "      <td>30.242332</td>\n",
       "      <td>-97.843169</td>\n",
       "      <td>POINT (-97.84317 30.24233)</td>\n",
       "      <td>0.0000</td>\n",
       "      <td>0.125</td>\n",
       "      <td>United States</td>\n",
       "    </tr>\n",
       "    <tr>\n",
       "      <th>2</th>\n",
       "      <td>1423623154820214784</td>\n",
       "      <td>Wowhead</td>\n",
       "      <td>Wowhead💙</td>\n",
       "      <td>Several corporate sponsors of the Overwatch Le...</td>\n",
       "      <td>0</td>\n",
       "      <td>1</td>\n",
       "      <td>620</td>\n",
       "      <td>31</td>\n",
       "      <td>105</td>\n",
       "      <td>33</td>\n",
       "      <td>...</td>\n",
       "      <td>False</td>\n",
       "      <td>True</td>\n",
       "      <td>2008-11-08</td>\n",
       "      <td>None</td>\n",
       "      <td>NaN</td>\n",
       "      <td>NaN</td>\n",
       "      <td>POINT EMPTY</td>\n",
       "      <td>0.0250</td>\n",
       "      <td>0.275</td>\n",
       "      <td>NaN</td>\n",
       "    </tr>\n",
       "    <tr>\n",
       "      <th>3</th>\n",
       "      <td>1442536089688883200</td>\n",
       "      <td>overwatchleague</td>\n",
       "      <td>Overwatch League</td>\n",
       "      <td>Love is in the Overwatch League 💍\\n\\nProposals...</td>\n",
       "      <td>0</td>\n",
       "      <td>7</td>\n",
       "      <td>799</td>\n",
       "      <td>12</td>\n",
       "      <td>27</td>\n",
       "      <td>7</td>\n",
       "      <td>...</td>\n",
       "      <td>False</td>\n",
       "      <td>False</td>\n",
       "      <td>2016-10-26</td>\n",
       "      <td>(Irvine, Orange County, California, United Sta...</td>\n",
       "      <td>33.685697</td>\n",
       "      <td>-117.825982</td>\n",
       "      <td>POINT (-117.82598 33.68570)</td>\n",
       "      <td>0.5625</td>\n",
       "      <td>0.800</td>\n",
       "      <td>United States</td>\n",
       "    </tr>\n",
       "    <tr>\n",
       "      <th>4</th>\n",
       "      <td>1660686983293816832</td>\n",
       "      <td>jonunderscor</td>\n",
       "      <td>Jon</td>\n",
       "      <td>What a great match there coming from the Coca-...</td>\n",
       "      <td>34188</td>\n",
       "      <td>1</td>\n",
       "      <td>391</td>\n",
       "      <td>8</td>\n",
       "      <td>16</td>\n",
       "      <td>3</td>\n",
       "      <td>...</td>\n",
       "      <td>False</td>\n",
       "      <td>False</td>\n",
       "      <td>2017-04-19</td>\n",
       "      <td>(United States, (39.7837304, -100.445882))</td>\n",
       "      <td>39.783730</td>\n",
       "      <td>-100.445882</td>\n",
       "      <td>POINT (-100.44588 39.78373)</td>\n",
       "      <td>0.1700</td>\n",
       "      <td>0.490</td>\n",
       "      <td>United States</td>\n",
       "    </tr>\n",
       "  </tbody>\n",
       "</table>\n",
       "<p>5 rows × 45 columns</p>\n",
       "</div>"
      ],
      "text/plain": [
       "              tweet_id         username          full_name  \\\n",
       "0  1589292294456627200  fuckitseominsoo  fuck it seominsoo   \n",
       "1  1423381826094223362       OscarINTEL   Overwatch 2 News   \n",
       "2  1423623154820214784          Wowhead           Wowhead💙   \n",
       "3  1442536089688883200  overwatchleague   Overwatch League   \n",
       "4  1660686983293816832     jonunderscor                Jon   \n",
       "\n",
       "                                           full_text  view_count  \\\n",
       "0  Despite no longer sponsoring OWL, you can stil...           0   \n",
       "1  State Farm and Coca Cola have paused their spo...           0   \n",
       "2  Several corporate sponsors of the Overwatch Le...           0   \n",
       "3  Love is in the Overwatch League 💍\\n\\nProposals...           0   \n",
       "4  What a great match there coming from the Coca-...       34188   \n",
       "\n",
       "   bookmark_count  favorite_count  reply_count  retweet_count  quote_count  \\\n",
       "0              22             784           12             30            8   \n",
       "1              10            1033           26            127          138   \n",
       "2               1             620           31            105           33   \n",
       "3               7             799           12             27            7   \n",
       "4               1             391            8             16            3   \n",
       "\n",
       "   ...  verified is_blue_verified  user_created_at  \\\n",
       "0  ...     False            False       2019-10-14   \n",
       "1  ...     False             True       2016-05-27   \n",
       "2  ...     False             True       2008-11-08   \n",
       "3  ...     False            False       2016-10-26   \n",
       "4  ...     False            False       2017-04-19   \n",
       "\n",
       "                                        acc_location        lat         lon  \\\n",
       "0                (Canada, (61.0666922, -107.991707))  61.066692 -107.991707   \n",
       "1  (Overwatch, 5301, Southwest Parkway, Austin, T...  30.242332  -97.843169   \n",
       "2                                               None        NaN         NaN   \n",
       "3  (Irvine, Orange County, California, United Sta...  33.685697 -117.825982   \n",
       "4         (United States, (39.7837304, -100.445882))  39.783730 -100.445882   \n",
       "\n",
       "                      geometry  polarity  subjectivity        country  \n",
       "0  POINT (-107.99171 61.06669)    0.0000         0.000         Canada  \n",
       "1   POINT (-97.84317 30.24233)    0.0000         0.125  United States  \n",
       "2                  POINT EMPTY    0.0250         0.275            NaN  \n",
       "3  POINT (-117.82598 33.68570)    0.5625         0.800  United States  \n",
       "4  POINT (-100.44588 39.78373)    0.1700         0.490  United States  \n",
       "\n",
       "[5 rows x 45 columns]"
      ]
     },
     "execution_count": 25,
     "metadata": {},
     "output_type": "execute_result"
    }
   ],
   "source": [
    "def get_country(lat, lon):\n",
    "    location = geolocator.reverse((lat, lon), exactly_one=True)\n",
    "    if location is None:\n",
    "        return None\n",
    "    elif 'country' not in location.raw['address']:\n",
    "        return None\n",
    "    else:\n",
    "        return location.raw['address']['country']\n",
    "\n",
    "tweets_final['country'] = tweets_countrypre.apply(lambda row: get_country(row['lat'], row['lon']), axis=1)\n",
    "tweets_final.head()"
   ]
  },
  {
   "attachments": {},
   "cell_type": "markdown",
   "metadata": {},
   "source": [
    "To further enhance the geographical information for each tweet, we used Nominatim once again, this time to obtain the country that each tweet originated from. We did this by utilizing the 'Lat' and 'Lon' columns that were generated the previous time we used Nominatim. The 'get_country' function was created to take the latitude and longitude coordinates of each tweet and reverse geocode them using Nominatim to retrieve the corresponding country. This function was then applied to each row of the dataframe, which resulted in a new 'country' column being added to the dataframe that contains the country name for each tweet.\n",
    "\n",
    "If code produces \"KeyError: 'country'\", run notebook from scratch. Reason why code produces \"KeyError: 'country'\" every now and then is unknown. It is possibly caused by one of the values in \"user_location\" column in \"tweets_final\"."
   ]
  },
  {
   "cell_type": "code",
   "execution_count": 26,
   "metadata": {},
   "outputs": [
    {
     "data": {
      "text/html": [
       "<div>\n",
       "<style scoped>\n",
       "    .dataframe tbody tr th:only-of-type {\n",
       "        vertical-align: middle;\n",
       "    }\n",
       "\n",
       "    .dataframe tbody tr th {\n",
       "        vertical-align: top;\n",
       "    }\n",
       "\n",
       "    .dataframe thead th {\n",
       "        text-align: right;\n",
       "    }\n",
       "</style>\n",
       "<table border=\"1\" class=\"dataframe\">\n",
       "  <thead>\n",
       "    <tr style=\"text-align: right;\">\n",
       "      <th></th>\n",
       "      <th>tweet_id</th>\n",
       "      <th>username</th>\n",
       "      <th>full_name</th>\n",
       "      <th>full_text</th>\n",
       "      <th>view_count</th>\n",
       "      <th>bookmark_count</th>\n",
       "      <th>favorite_count</th>\n",
       "      <th>reply_count</th>\n",
       "      <th>retweet_count</th>\n",
       "      <th>quote_count</th>\n",
       "      <th>...</th>\n",
       "      <th>verified</th>\n",
       "      <th>is_blue_verified</th>\n",
       "      <th>user_created_at</th>\n",
       "      <th>acc_location</th>\n",
       "      <th>lat</th>\n",
       "      <th>lon</th>\n",
       "      <th>geometry</th>\n",
       "      <th>polarity</th>\n",
       "      <th>subjectivity</th>\n",
       "      <th>country</th>\n",
       "    </tr>\n",
       "  </thead>\n",
       "  <tbody>\n",
       "    <tr>\n",
       "      <th>0</th>\n",
       "      <td>1589292294456627200</td>\n",
       "      <td>fuckitseominsoo</td>\n",
       "      <td>fuck it seominsoo</td>\n",
       "      <td>Despite no longer sponsoring OWL, you can stil...</td>\n",
       "      <td>0</td>\n",
       "      <td>22</td>\n",
       "      <td>784</td>\n",
       "      <td>12</td>\n",
       "      <td>30</td>\n",
       "      <td>8</td>\n",
       "      <td>...</td>\n",
       "      <td>False</td>\n",
       "      <td>False</td>\n",
       "      <td>2019-10-14</td>\n",
       "      <td>(Canada, (61.0666922, -107.991707))</td>\n",
       "      <td>61.066692</td>\n",
       "      <td>-107.991707</td>\n",
       "      <td>POINT (-107.99171 61.06669)</td>\n",
       "      <td>0.0000</td>\n",
       "      <td>0.000</td>\n",
       "      <td>Canada</td>\n",
       "    </tr>\n",
       "    <tr>\n",
       "      <th>1</th>\n",
       "      <td>1423381826094223362</td>\n",
       "      <td>OscarINTEL</td>\n",
       "      <td>Overwatch 2 News</td>\n",
       "      <td>State Farm and Coca Cola have paused their spo...</td>\n",
       "      <td>0</td>\n",
       "      <td>10</td>\n",
       "      <td>1033</td>\n",
       "      <td>26</td>\n",
       "      <td>127</td>\n",
       "      <td>138</td>\n",
       "      <td>...</td>\n",
       "      <td>False</td>\n",
       "      <td>True</td>\n",
       "      <td>2016-05-27</td>\n",
       "      <td>(Overwatch, 5301, Southwest Parkway, Austin, T...</td>\n",
       "      <td>30.242332</td>\n",
       "      <td>-97.843169</td>\n",
       "      <td>POINT (-97.84317 30.24233)</td>\n",
       "      <td>0.0000</td>\n",
       "      <td>0.125</td>\n",
       "      <td>United States</td>\n",
       "    </tr>\n",
       "    <tr>\n",
       "      <th>2</th>\n",
       "      <td>1423623154820214784</td>\n",
       "      <td>Wowhead</td>\n",
       "      <td>Wowhead💙</td>\n",
       "      <td>Several corporate sponsors of the Overwatch Le...</td>\n",
       "      <td>0</td>\n",
       "      <td>1</td>\n",
       "      <td>620</td>\n",
       "      <td>31</td>\n",
       "      <td>105</td>\n",
       "      <td>33</td>\n",
       "      <td>...</td>\n",
       "      <td>False</td>\n",
       "      <td>True</td>\n",
       "      <td>2008-11-08</td>\n",
       "      <td>None</td>\n",
       "      <td>NaN</td>\n",
       "      <td>NaN</td>\n",
       "      <td>POINT EMPTY</td>\n",
       "      <td>0.0250</td>\n",
       "      <td>0.275</td>\n",
       "      <td>NaN</td>\n",
       "    </tr>\n",
       "    <tr>\n",
       "      <th>3</th>\n",
       "      <td>1442536089688883200</td>\n",
       "      <td>overwatchleague</td>\n",
       "      <td>Overwatch League</td>\n",
       "      <td>Love is in the Overwatch League 💍\\n\\nProposals...</td>\n",
       "      <td>0</td>\n",
       "      <td>7</td>\n",
       "      <td>799</td>\n",
       "      <td>12</td>\n",
       "      <td>27</td>\n",
       "      <td>7</td>\n",
       "      <td>...</td>\n",
       "      <td>False</td>\n",
       "      <td>False</td>\n",
       "      <td>2016-10-26</td>\n",
       "      <td>(Irvine, Orange County, California, United Sta...</td>\n",
       "      <td>33.685697</td>\n",
       "      <td>-117.825982</td>\n",
       "      <td>POINT (-117.82598 33.68570)</td>\n",
       "      <td>0.5625</td>\n",
       "      <td>0.800</td>\n",
       "      <td>United States</td>\n",
       "    </tr>\n",
       "    <tr>\n",
       "      <th>4</th>\n",
       "      <td>1660686983293816832</td>\n",
       "      <td>jonunderscor</td>\n",
       "      <td>Jon</td>\n",
       "      <td>What a great match there coming from the Coca-...</td>\n",
       "      <td>34188</td>\n",
       "      <td>1</td>\n",
       "      <td>391</td>\n",
       "      <td>8</td>\n",
       "      <td>16</td>\n",
       "      <td>3</td>\n",
       "      <td>...</td>\n",
       "      <td>False</td>\n",
       "      <td>False</td>\n",
       "      <td>2017-04-19</td>\n",
       "      <td>(United States, (39.7837304, -100.445882))</td>\n",
       "      <td>39.783730</td>\n",
       "      <td>-100.445882</td>\n",
       "      <td>POINT (-100.44588 39.78373)</td>\n",
       "      <td>0.1700</td>\n",
       "      <td>0.490</td>\n",
       "      <td>United States</td>\n",
       "    </tr>\n",
       "  </tbody>\n",
       "</table>\n",
       "<p>5 rows × 45 columns</p>\n",
       "</div>"
      ],
      "text/plain": [
       "              tweet_id         username          full_name  \\\n",
       "0  1589292294456627200  fuckitseominsoo  fuck it seominsoo   \n",
       "1  1423381826094223362       OscarINTEL   Overwatch 2 News   \n",
       "2  1423623154820214784          Wowhead           Wowhead💙   \n",
       "3  1442536089688883200  overwatchleague   Overwatch League   \n",
       "4  1660686983293816832     jonunderscor                Jon   \n",
       "\n",
       "                                           full_text  view_count  \\\n",
       "0  Despite no longer sponsoring OWL, you can stil...           0   \n",
       "1  State Farm and Coca Cola have paused their spo...           0   \n",
       "2  Several corporate sponsors of the Overwatch Le...           0   \n",
       "3  Love is in the Overwatch League 💍\\n\\nProposals...           0   \n",
       "4  What a great match there coming from the Coca-...       34188   \n",
       "\n",
       "   bookmark_count  favorite_count  reply_count  retweet_count  quote_count  \\\n",
       "0              22             784           12             30            8   \n",
       "1              10            1033           26            127          138   \n",
       "2               1             620           31            105           33   \n",
       "3               7             799           12             27            7   \n",
       "4               1             391            8             16            3   \n",
       "\n",
       "   ...  verified is_blue_verified  user_created_at  \\\n",
       "0  ...     False            False       2019-10-14   \n",
       "1  ...     False             True       2016-05-27   \n",
       "2  ...     False             True       2008-11-08   \n",
       "3  ...     False            False       2016-10-26   \n",
       "4  ...     False            False       2017-04-19   \n",
       "\n",
       "                                        acc_location        lat         lon  \\\n",
       "0                (Canada, (61.0666922, -107.991707))  61.066692 -107.991707   \n",
       "1  (Overwatch, 5301, Southwest Parkway, Austin, T...  30.242332  -97.843169   \n",
       "2                                               None        NaN         NaN   \n",
       "3  (Irvine, Orange County, California, United Sta...  33.685697 -117.825982   \n",
       "4         (United States, (39.7837304, -100.445882))  39.783730 -100.445882   \n",
       "\n",
       "                      geometry  polarity  subjectivity        country  \n",
       "0  POINT (-107.99171 61.06669)    0.0000         0.000         Canada  \n",
       "1   POINT (-97.84317 30.24233)    0.0000         0.125  United States  \n",
       "2                  POINT EMPTY    0.0250         0.275            NaN  \n",
       "3  POINT (-117.82598 33.68570)    0.5625         0.800  United States  \n",
       "4  POINT (-100.44588 39.78373)    0.1700         0.490  United States  \n",
       "\n",
       "[5 rows x 45 columns]"
      ]
     },
     "execution_count": 26,
     "metadata": {},
     "output_type": "execute_result"
    }
   ],
   "source": [
    "translate_client = translate.Client()\n",
    "\n",
    "def translate_text(text, target_language):\n",
    "    result = translate_client.translate(text, target_language=target_language)\n",
    "    return result['translatedText']\n",
    "\n",
    "tweets_final['country'] = tweets_final['country'].apply(lambda x: translate_text(x, 'en') if isinstance(x, str) and len(x) > 0 else x)\n",
    "tweets_final.head()"
   ]
  },
  {
   "attachments": {},
   "cell_type": "markdown",
   "metadata": {},
   "source": [
    "In order to make the country names more accessible to English-speaking individuals, we utilised Google Cloud's Translation API to translate the non-English country names obtained from the previous Nominatim run into English. This translation process was applied specifically to the 'country' column, which allowed us to overwrite the previous values with their English equivalents. By doing so, we were able to ensure that the English version of the country names were readily available for future use."
   ]
  },
  {
   "cell_type": "code",
   "execution_count": 27,
   "metadata": {},
   "outputs": [
    {
     "data": {
      "text/html": [
       "<div>\n",
       "<style scoped>\n",
       "    .dataframe tbody tr th:only-of-type {\n",
       "        vertical-align: middle;\n",
       "    }\n",
       "\n",
       "    .dataframe tbody tr th {\n",
       "        vertical-align: top;\n",
       "    }\n",
       "\n",
       "    .dataframe thead th {\n",
       "        text-align: right;\n",
       "    }\n",
       "</style>\n",
       "<table border=\"1\" class=\"dataframe\">\n",
       "  <thead>\n",
       "    <tr style=\"text-align: right;\">\n",
       "      <th></th>\n",
       "      <th>country</th>\n",
       "      <th>country code</th>\n",
       "      <th>tweet_id</th>\n",
       "      <th>username</th>\n",
       "      <th>full_name</th>\n",
       "      <th>full_text</th>\n",
       "      <th>view_count</th>\n",
       "      <th>bookmark_count</th>\n",
       "      <th>favorite_count</th>\n",
       "      <th>reply_count</th>\n",
       "      <th>...</th>\n",
       "      <th>avatar_url</th>\n",
       "      <th>verified</th>\n",
       "      <th>is_blue_verified</th>\n",
       "      <th>user_created_at</th>\n",
       "      <th>acc_location</th>\n",
       "      <th>lat</th>\n",
       "      <th>lon</th>\n",
       "      <th>geometry</th>\n",
       "      <th>polarity</th>\n",
       "      <th>subjectivity</th>\n",
       "    </tr>\n",
       "  </thead>\n",
       "  <tbody>\n",
       "    <tr>\n",
       "      <th>0</th>\n",
       "      <td>Canada</td>\n",
       "      <td>CAN</td>\n",
       "      <td>1589292294456627200</td>\n",
       "      <td>fuckitseominsoo</td>\n",
       "      <td>fuck it seominsoo</td>\n",
       "      <td>Despite no longer sponsoring OWL, you can stil...</td>\n",
       "      <td>0</td>\n",
       "      <td>22</td>\n",
       "      <td>784</td>\n",
       "      <td>12</td>\n",
       "      <td>...</td>\n",
       "      <td>https://pbs.twimg.com/profile_images/161295423...</td>\n",
       "      <td>False</td>\n",
       "      <td>False</td>\n",
       "      <td>2019-10-14</td>\n",
       "      <td>(Canada, (61.0666922, -107.991707))</td>\n",
       "      <td>61.066692</td>\n",
       "      <td>-107.991707</td>\n",
       "      <td>POINT (-107.99171 61.06669)</td>\n",
       "      <td>0.0</td>\n",
       "      <td>0.0</td>\n",
       "    </tr>\n",
       "    <tr>\n",
       "      <th>1</th>\n",
       "      <td>Canada</td>\n",
       "      <td>CAN</td>\n",
       "      <td>1442543500751474695</td>\n",
       "      <td>mintyfreshlife</td>\n",
       "      <td>The Nanny Named FranXX</td>\n",
       "      <td>@end_fps @overwatchleague @BadPachimari @CocaC...</td>\n",
       "      <td>0</td>\n",
       "      <td>0</td>\n",
       "      <td>2</td>\n",
       "      <td>0</td>\n",
       "      <td>...</td>\n",
       "      <td>https://pbs.twimg.com/profile_images/906245071...</td>\n",
       "      <td>False</td>\n",
       "      <td>False</td>\n",
       "      <td>2015-02-16</td>\n",
       "      <td>(Toronto, Golden Horseshoe, Ontario, Canada, (...</td>\n",
       "      <td>43.653482</td>\n",
       "      <td>-79.383935</td>\n",
       "      <td>POINT (-79.38393 43.65348)</td>\n",
       "      <td>0.2</td>\n",
       "      <td>0.9</td>\n",
       "    </tr>\n",
       "    <tr>\n",
       "      <th>2</th>\n",
       "      <td>Haiti</td>\n",
       "      <td>HTI</td>\n",
       "      <td>1424745673384075265</td>\n",
       "      <td>WhatsOnTwitch</td>\n",
       "      <td>Whats OnTwitch</td>\n",
       "      <td>Overwatch League could lose Coca-Cola and Stat...</td>\n",
       "      <td>0</td>\n",
       "      <td>0</td>\n",
       "      <td>0</td>\n",
       "      <td>0</td>\n",
       "      <td>...</td>\n",
       "      <td>https://pbs.twimg.com/profile_images/847932394...</td>\n",
       "      <td>False</td>\n",
       "      <td>False</td>\n",
       "      <td>2017-03-31</td>\n",
       "      <td>(Internet, 3e Bas de Sault, Saint Michel de l’...</td>\n",
       "      <td>19.372189</td>\n",
       "      <td>-72.334654</td>\n",
       "      <td>POINT (-72.33465 19.37219)</td>\n",
       "      <td>0.0</td>\n",
       "      <td>0.0</td>\n",
       "    </tr>\n",
       "    <tr>\n",
       "      <th>3</th>\n",
       "      <td>Haiti</td>\n",
       "      <td>HTI</td>\n",
       "      <td>1423915439315472388</td>\n",
       "      <td>mariuskarma</td>\n",
       "      <td>@mariuskarma</td>\n",
       "      <td>ForbesTech: Coca-Cola and State Farm are reeva...</td>\n",
       "      <td>0</td>\n",
       "      <td>0</td>\n",
       "      <td>0</td>\n",
       "      <td>0</td>\n",
       "      <td>...</td>\n",
       "      <td>https://pbs.twimg.com/profile_images/588820751...</td>\n",
       "      <td>False</td>\n",
       "      <td>False</td>\n",
       "      <td>2012-05-21</td>\n",
       "      <td>(Internet, 3e Bas de Sault, Saint Michel de l’...</td>\n",
       "      <td>19.372189</td>\n",
       "      <td>-72.334654</td>\n",
       "      <td>POINT (-72.33465 19.37219)</td>\n",
       "      <td>0.0</td>\n",
       "      <td>0.0</td>\n",
       "    </tr>\n",
       "    <tr>\n",
       "      <th>4</th>\n",
       "      <td>Colombia</td>\n",
       "      <td>COL</td>\n",
       "      <td>1423554791989469186</td>\n",
       "      <td>TechnologyMani2</td>\n",
       "      <td>Technology Manias</td>\n",
       "      <td>Coca-Cola and State Farm are pulling back from...</td>\n",
       "      <td>0</td>\n",
       "      <td>0</td>\n",
       "      <td>0</td>\n",
       "      <td>0</td>\n",
       "      <td>...</td>\n",
       "      <td>https://pbs.twimg.com/profile_images/139023753...</td>\n",
       "      <td>False</td>\n",
       "      <td>False</td>\n",
       "      <td>2021-05-06</td>\n",
       "      <td>(I e d sanfransisco asis, Carrera 21, UPZs de ...</td>\n",
       "      <td>4.596295</td>\n",
       "      <td>-74.094407</td>\n",
       "      <td>POINT (-74.09441 4.59630)</td>\n",
       "      <td>0.0</td>\n",
       "      <td>0.0</td>\n",
       "    </tr>\n",
       "  </tbody>\n",
       "</table>\n",
       "<p>5 rows × 46 columns</p>\n",
       "</div>"
      ],
      "text/plain": [
       "    country country code             tweet_id         username  \\\n",
       "0    Canada          CAN  1589292294456627200  fuckitseominsoo   \n",
       "1    Canada          CAN  1442543500751474695   mintyfreshlife   \n",
       "2     Haiti          HTI  1424745673384075265    WhatsOnTwitch   \n",
       "3     Haiti          HTI  1423915439315472388      mariuskarma   \n",
       "4  Colombia          COL  1423554791989469186  TechnologyMani2   \n",
       "\n",
       "                full_name                                          full_text  \\\n",
       "0       fuck it seominsoo  Despite no longer sponsoring OWL, you can stil...   \n",
       "1  The Nanny Named FranXX  @end_fps @overwatchleague @BadPachimari @CocaC...   \n",
       "2          Whats OnTwitch  Overwatch League could lose Coca-Cola and Stat...   \n",
       "3            @mariuskarma  ForbesTech: Coca-Cola and State Farm are reeva...   \n",
       "4       Technology Manias  Coca-Cola and State Farm are pulling back from...   \n",
       "\n",
       "   view_count  bookmark_count  favorite_count  reply_count  ...  \\\n",
       "0           0              22             784           12  ...   \n",
       "1           0               0               2            0  ...   \n",
       "2           0               0               0            0  ...   \n",
       "3           0               0               0            0  ...   \n",
       "4           0               0               0            0  ...   \n",
       "\n",
       "                                          avatar_url  verified  \\\n",
       "0  https://pbs.twimg.com/profile_images/161295423...     False   \n",
       "1  https://pbs.twimg.com/profile_images/906245071...     False   \n",
       "2  https://pbs.twimg.com/profile_images/847932394...     False   \n",
       "3  https://pbs.twimg.com/profile_images/588820751...     False   \n",
       "4  https://pbs.twimg.com/profile_images/139023753...     False   \n",
       "\n",
       "   is_blue_verified user_created_at  \\\n",
       "0             False      2019-10-14   \n",
       "1             False      2015-02-16   \n",
       "2             False      2017-03-31   \n",
       "3             False      2012-05-21   \n",
       "4             False      2021-05-06   \n",
       "\n",
       "                                        acc_location        lat         lon  \\\n",
       "0                (Canada, (61.0666922, -107.991707))  61.066692 -107.991707   \n",
       "1  (Toronto, Golden Horseshoe, Ontario, Canada, (...  43.653482  -79.383935   \n",
       "2  (Internet, 3e Bas de Sault, Saint Michel de l’...  19.372189  -72.334654   \n",
       "3  (Internet, 3e Bas de Sault, Saint Michel de l’...  19.372189  -72.334654   \n",
       "4  (I e d sanfransisco asis, Carrera 21, UPZs de ...   4.596295  -74.094407   \n",
       "\n",
       "                      geometry polarity  subjectivity  \n",
       "0  POINT (-107.99171 61.06669)      0.0           0.0  \n",
       "1   POINT (-79.38393 43.65348)      0.2           0.9  \n",
       "2   POINT (-72.33465 19.37219)      0.0           0.0  \n",
       "3   POINT (-72.33465 19.37219)      0.0           0.0  \n",
       "4    POINT (-74.09441 4.59630)      0.0           0.0  \n",
       "\n",
       "[5 rows x 46 columns]"
      ]
     },
     "execution_count": 27,
     "metadata": {},
     "output_type": "execute_result"
    }
   ],
   "source": [
    "tweetsmerged=pd.merge(world, tweets_final, on=\"country\")\n",
    "tweetsmerged.head()"
   ]
  },
  {
   "attachments": {},
   "cell_type": "markdown",
   "metadata": {},
   "source": [
    "By extracting the country name of each tweet from the 'location' column using Nominatim, we were able to create a new column with the country name for each tweet, called 'country'. With this information available, we were able to merge our dataset with the 'world' dataset. The 'world' dataset contains information on each country around the world, including their country code, which is what both datasets were merged on. This allowed us to plot our data onto a choropleth map, a type of map that displays data in differerent shades of color on predefined geographical regions. This made it possible to visualise and analyze data like averages, distribution, and other patterns on a global scale."
   ]
  },
  {
   "cell_type": "code",
   "execution_count": 28,
   "metadata": {},
   "outputs": [
    {
     "data": {
      "text/html": [
       "<div>\n",
       "<style scoped>\n",
       "    .dataframe tbody tr th:only-of-type {\n",
       "        vertical-align: middle;\n",
       "    }\n",
       "\n",
       "    .dataframe tbody tr th {\n",
       "        vertical-align: top;\n",
       "    }\n",
       "\n",
       "    .dataframe thead th {\n",
       "        text-align: right;\n",
       "    }\n",
       "</style>\n",
       "<table border=\"1\" class=\"dataframe\">\n",
       "  <thead>\n",
       "    <tr style=\"text-align: right;\">\n",
       "      <th></th>\n",
       "      <th>country</th>\n",
       "      <th>country code</th>\n",
       "      <th>polarity</th>\n",
       "    </tr>\n",
       "  </thead>\n",
       "  <tbody>\n",
       "    <tr>\n",
       "      <th>0</th>\n",
       "      <td>Canada</td>\n",
       "      <td>CAN</td>\n",
       "      <td>0.100000</td>\n",
       "    </tr>\n",
       "    <tr>\n",
       "      <th>1</th>\n",
       "      <td>China</td>\n",
       "      <td>CHN</td>\n",
       "      <td>0.000000</td>\n",
       "    </tr>\n",
       "    <tr>\n",
       "      <th>2</th>\n",
       "      <td>Colombia</td>\n",
       "      <td>COL</td>\n",
       "      <td>0.000000</td>\n",
       "    </tr>\n",
       "    <tr>\n",
       "      <th>3</th>\n",
       "      <td>Denmark</td>\n",
       "      <td>DNK</td>\n",
       "      <td>0.136364</td>\n",
       "    </tr>\n",
       "    <tr>\n",
       "      <th>4</th>\n",
       "      <td>Germany</td>\n",
       "      <td>DEU</td>\n",
       "      <td>0.000000</td>\n",
       "    </tr>\n",
       "    <tr>\n",
       "      <th>5</th>\n",
       "      <td>Haiti</td>\n",
       "      <td>HTI</td>\n",
       "      <td>0.000000</td>\n",
       "    </tr>\n",
       "    <tr>\n",
       "      <th>6</th>\n",
       "      <td>Iceland</td>\n",
       "      <td>ISL</td>\n",
       "      <td>0.000000</td>\n",
       "    </tr>\n",
       "    <tr>\n",
       "      <th>7</th>\n",
       "      <td>India</td>\n",
       "      <td>IND</td>\n",
       "      <td>0.500000</td>\n",
       "    </tr>\n",
       "    <tr>\n",
       "      <th>8</th>\n",
       "      <td>Italy</td>\n",
       "      <td>ITA</td>\n",
       "      <td>0.075008</td>\n",
       "    </tr>\n",
       "    <tr>\n",
       "      <th>9</th>\n",
       "      <td>Japan</td>\n",
       "      <td>JPN</td>\n",
       "      <td>0.611111</td>\n",
       "    </tr>\n",
       "    <tr>\n",
       "      <th>10</th>\n",
       "      <td>Malaysia</td>\n",
       "      <td>MYS</td>\n",
       "      <td>0.031250</td>\n",
       "    </tr>\n",
       "    <tr>\n",
       "      <th>11</th>\n",
       "      <td>Pakistan</td>\n",
       "      <td>PAK</td>\n",
       "      <td>0.000000</td>\n",
       "    </tr>\n",
       "    <tr>\n",
       "      <th>12</th>\n",
       "      <td>Poland</td>\n",
       "      <td>POL</td>\n",
       "      <td>0.000000</td>\n",
       "    </tr>\n",
       "    <tr>\n",
       "      <th>13</th>\n",
       "      <td>Sweden</td>\n",
       "      <td>SWE</td>\n",
       "      <td>0.316667</td>\n",
       "    </tr>\n",
       "    <tr>\n",
       "      <th>14</th>\n",
       "      <td>United Kingdom</td>\n",
       "      <td>GBR</td>\n",
       "      <td>0.093750</td>\n",
       "    </tr>\n",
       "  </tbody>\n",
       "</table>\n",
       "</div>"
      ],
      "text/plain": [
       "           country country code  polarity\n",
       "0           Canada          CAN  0.100000\n",
       "1            China          CHN  0.000000\n",
       "2         Colombia          COL  0.000000\n",
       "3          Denmark          DNK  0.136364\n",
       "4          Germany          DEU  0.000000\n",
       "5            Haiti          HTI  0.000000\n",
       "6          Iceland          ISL  0.000000\n",
       "7            India          IND  0.500000\n",
       "8            Italy          ITA  0.075008\n",
       "9            Japan          JPN  0.611111\n",
       "10        Malaysia          MYS  0.031250\n",
       "11        Pakistan          PAK  0.000000\n",
       "12          Poland          POL  0.000000\n",
       "13          Sweden          SWE  0.316667\n",
       "14  United Kingdom          GBR  0.093750"
      ]
     },
     "execution_count": 28,
     "metadata": {},
     "output_type": "execute_result"
    }
   ],
   "source": [
    "tweetsmerged['country code'] = tweetsmerged['country code'].astype(str)\n",
    "avg_polarity = tweetsmerged.groupby(['country', 'country code'])['polarity'].mean().reset_index()\n",
    "avg_polarity"
   ]
  },
  {
   "cell_type": "code",
   "execution_count": 29,
   "metadata": {},
   "outputs": [
    {
     "data": {
      "text/html": [
       "<div>\n",
       "<style scoped>\n",
       "    .dataframe tbody tr th:only-of-type {\n",
       "        vertical-align: middle;\n",
       "    }\n",
       "\n",
       "    .dataframe tbody tr th {\n",
       "        vertical-align: top;\n",
       "    }\n",
       "\n",
       "    .dataframe thead th {\n",
       "        text-align: right;\n",
       "    }\n",
       "</style>\n",
       "<table border=\"1\" class=\"dataframe\">\n",
       "  <thead>\n",
       "    <tr style=\"text-align: right;\">\n",
       "      <th></th>\n",
       "      <th>country</th>\n",
       "      <th>country code</th>\n",
       "      <th>subjectivity</th>\n",
       "    </tr>\n",
       "  </thead>\n",
       "  <tbody>\n",
       "    <tr>\n",
       "      <th>0</th>\n",
       "      <td>Canada</td>\n",
       "      <td>CAN</td>\n",
       "      <td>0.450000</td>\n",
       "    </tr>\n",
       "    <tr>\n",
       "      <th>1</th>\n",
       "      <td>China</td>\n",
       "      <td>CHN</td>\n",
       "      <td>0.000000</td>\n",
       "    </tr>\n",
       "    <tr>\n",
       "      <th>2</th>\n",
       "      <td>Colombia</td>\n",
       "      <td>COL</td>\n",
       "      <td>0.000000</td>\n",
       "    </tr>\n",
       "    <tr>\n",
       "      <th>3</th>\n",
       "      <td>Denmark</td>\n",
       "      <td>DNK</td>\n",
       "      <td>0.454545</td>\n",
       "    </tr>\n",
       "    <tr>\n",
       "      <th>4</th>\n",
       "      <td>Germany</td>\n",
       "      <td>DEU</td>\n",
       "      <td>0.000000</td>\n",
       "    </tr>\n",
       "    <tr>\n",
       "      <th>5</th>\n",
       "      <td>Haiti</td>\n",
       "      <td>HTI</td>\n",
       "      <td>0.000000</td>\n",
       "    </tr>\n",
       "    <tr>\n",
       "      <th>6</th>\n",
       "      <td>Iceland</td>\n",
       "      <td>ISL</td>\n",
       "      <td>0.000000</td>\n",
       "    </tr>\n",
       "    <tr>\n",
       "      <th>7</th>\n",
       "      <td>India</td>\n",
       "      <td>IND</td>\n",
       "      <td>0.500000</td>\n",
       "    </tr>\n",
       "    <tr>\n",
       "      <th>8</th>\n",
       "      <td>Italy</td>\n",
       "      <td>ITA</td>\n",
       "      <td>0.215384</td>\n",
       "    </tr>\n",
       "    <tr>\n",
       "      <th>9</th>\n",
       "      <td>Japan</td>\n",
       "      <td>JPN</td>\n",
       "      <td>0.888889</td>\n",
       "    </tr>\n",
       "    <tr>\n",
       "      <th>10</th>\n",
       "      <td>Malaysia</td>\n",
       "      <td>MYS</td>\n",
       "      <td>0.250000</td>\n",
       "    </tr>\n",
       "    <tr>\n",
       "      <th>11</th>\n",
       "      <td>Pakistan</td>\n",
       "      <td>PAK</td>\n",
       "      <td>0.000000</td>\n",
       "    </tr>\n",
       "    <tr>\n",
       "      <th>12</th>\n",
       "      <td>Poland</td>\n",
       "      <td>POL</td>\n",
       "      <td>0.000000</td>\n",
       "    </tr>\n",
       "    <tr>\n",
       "      <th>13</th>\n",
       "      <td>Sweden</td>\n",
       "      <td>SWE</td>\n",
       "      <td>0.533333</td>\n",
       "    </tr>\n",
       "    <tr>\n",
       "      <th>14</th>\n",
       "      <td>United Kingdom</td>\n",
       "      <td>GBR</td>\n",
       "      <td>0.233333</td>\n",
       "    </tr>\n",
       "  </tbody>\n",
       "</table>\n",
       "</div>"
      ],
      "text/plain": [
       "           country country code  subjectivity\n",
       "0           Canada          CAN      0.450000\n",
       "1            China          CHN      0.000000\n",
       "2         Colombia          COL      0.000000\n",
       "3          Denmark          DNK      0.454545\n",
       "4          Germany          DEU      0.000000\n",
       "5            Haiti          HTI      0.000000\n",
       "6          Iceland          ISL      0.000000\n",
       "7            India          IND      0.500000\n",
       "8            Italy          ITA      0.215384\n",
       "9            Japan          JPN      0.888889\n",
       "10        Malaysia          MYS      0.250000\n",
       "11        Pakistan          PAK      0.000000\n",
       "12          Poland          POL      0.000000\n",
       "13          Sweden          SWE      0.533333\n",
       "14  United Kingdom          GBR      0.233333"
      ]
     },
     "execution_count": 29,
     "metadata": {},
     "output_type": "execute_result"
    }
   ],
   "source": [
    "tweetsmerged['country code'] = tweetsmerged['country code'].astype(str)\n",
    "avg_subjectivity = tweetsmerged.groupby(['country', 'country code'])['subjectivity'].mean().reset_index()\n",
    "avg_subjectivity"
   ]
  },
  {
   "attachments": {},
   "cell_type": "markdown",
   "metadata": {},
   "source": [
    "Having merged the data from the 'world' and 'tweets_final' datasets to create 'tweetsmerged', we could use the polarity and subjectivity data we obtained through TextBlob sentiment analysis, to calculate the mean polarity and subjectivity for each country. This calculated data can then be plotted on a choropleth map, which is achieved by leveraging the country code information in our dataset. By providing Plotly with the country code data, we can indicate where on the choropleth map the polarity or subjectivity data is plotted.\n",
    "\n",
    "Plotting the mean polarity and subjectivity for each country can provide valuable insights into the overall sentiment of Twitter users in different regions of the world. By aggregating sentiment data on a country level, we can identify patterns and trends in public opinion that may be relevant to executives, tournament officials, and other organisations operating in those regions. For example, positive sentiment towards a certain topic or product in a particular country could indicate a potential market opportunity. Similarly, negative sentiment towards a particular issue could signal a need for further investigation or action. Additionally, mapping sentiment data can help visualize the distribution of sentiment across different regions, allowing for easier comparison and analysis.\n",
    "\n",
    "Overall, plotting the mean polarity and subjectivity for each country can provide a useful tool for understanding and interpreting public sentiment towards the Overwatch League/Coca-Cola sponsorship on a global scale, enabling decision-makers to take appropriate actions based on the insights gained."
   ]
  },
  {
   "cell_type": "code",
   "execution_count": 30,
   "metadata": {},
   "outputs": [
    {
     "data": {
      "application/vnd.plotly.v1+json": {
       "config": {
        "plotlyServerURL": "https://plot.ly"
       },
       "data": [
        {
         "colorbar": {
          "orientation": "h",
          "title": {
           "text": "Polarity"
          }
         },
         "colorscale": [
          [
           0,
           "rgb(243, 231, 155)"
          ],
          [
           0.16666666666666666,
           "rgb(250, 196, 132)"
          ],
          [
           0.3333333333333333,
           "rgb(248, 160, 126)"
          ],
          [
           0.5,
           "rgb(235, 127, 134)"
          ],
          [
           0.6666666666666666,
           "rgb(206, 102, 147)"
          ],
          [
           0.8333333333333334,
           "rgb(160, 89, 160)"
          ],
          [
           1,
           "rgb(92, 83, 165)"
          ]
         ],
         "hovertemplate": [
          "<b>Country:</b> Canada<br><b>Country Code:</b> CAN<br><b>Polarity:</b> %{z:.3f}<extra></extra>",
          "<b>Country:</b> China<br><b>Country Code:</b> CHN<br><b>Polarity:</b> %{z:.3f}<extra></extra>",
          "<b>Country:</b> Colombia<br><b>Country Code:</b> COL<br><b>Polarity:</b> %{z:.3f}<extra></extra>",
          "<b>Country:</b> Denmark<br><b>Country Code:</b> DNK<br><b>Polarity:</b> %{z:.3f}<extra></extra>",
          "<b>Country:</b> Germany<br><b>Country Code:</b> DEU<br><b>Polarity:</b> %{z:.3f}<extra></extra>",
          "<b>Country:</b> Haiti<br><b>Country Code:</b> HTI<br><b>Polarity:</b> %{z:.3f}<extra></extra>",
          "<b>Country:</b> Iceland<br><b>Country Code:</b> ISL<br><b>Polarity:</b> %{z:.3f}<extra></extra>",
          "<b>Country:</b> India<br><b>Country Code:</b> IND<br><b>Polarity:</b> %{z:.3f}<extra></extra>",
          "<b>Country:</b> Italy<br><b>Country Code:</b> ITA<br><b>Polarity:</b> %{z:.3f}<extra></extra>",
          "<b>Country:</b> Japan<br><b>Country Code:</b> JPN<br><b>Polarity:</b> %{z:.3f}<extra></extra>",
          "<b>Country:</b> Malaysia<br><b>Country Code:</b> MYS<br><b>Polarity:</b> %{z:.3f}<extra></extra>",
          "<b>Country:</b> Pakistan<br><b>Country Code:</b> PAK<br><b>Polarity:</b> %{z:.3f}<extra></extra>",
          "<b>Country:</b> Poland<br><b>Country Code:</b> POL<br><b>Polarity:</b> %{z:.3f}<extra></extra>",
          "<b>Country:</b> Sweden<br><b>Country Code:</b> SWE<br><b>Polarity:</b> %{z:.3f}<extra></extra>",
          "<b>Country:</b> United Kingdom<br><b>Country Code:</b> GBR<br><b>Polarity:</b> %{z:.3f}<extra></extra>"
         ],
         "locations": [
          "CAN",
          "CHN",
          "COL",
          "DNK",
          "DEU",
          "HTI",
          "ISL",
          "IND",
          "ITA",
          "JPN",
          "MYS",
          "PAK",
          "POL",
          "SWE",
          "GBR"
         ],
         "marker": {
          "line": {
           "color": "gray",
           "width": 0.2
          }
         },
         "type": "choropleth",
         "z": [
          0.1,
          0,
          0,
          0.13636363636363635,
          0,
          0,
          0,
          0.5,
          0.07500805468477884,
          0.611111111111111,
          0.03125,
          0,
          0,
          0.31666666666666665,
          0.09375
         ]
        }
       ],
       "layout": {
        "geo": {
         "showcoastlines": false,
         "showframe": false
        },
        "template": {
         "data": {
          "bar": [
           {
            "error_x": {
             "color": "#2a3f5f"
            },
            "error_y": {
             "color": "#2a3f5f"
            },
            "marker": {
             "line": {
              "color": "#E5ECF6",
              "width": 0.5
             },
             "pattern": {
              "fillmode": "overlay",
              "size": 10,
              "solidity": 0.2
             }
            },
            "type": "bar"
           }
          ],
          "barpolar": [
           {
            "marker": {
             "line": {
              "color": "#E5ECF6",
              "width": 0.5
             },
             "pattern": {
              "fillmode": "overlay",
              "size": 10,
              "solidity": 0.2
             }
            },
            "type": "barpolar"
           }
          ],
          "carpet": [
           {
            "aaxis": {
             "endlinecolor": "#2a3f5f",
             "gridcolor": "white",
             "linecolor": "white",
             "minorgridcolor": "white",
             "startlinecolor": "#2a3f5f"
            },
            "baxis": {
             "endlinecolor": "#2a3f5f",
             "gridcolor": "white",
             "linecolor": "white",
             "minorgridcolor": "white",
             "startlinecolor": "#2a3f5f"
            },
            "type": "carpet"
           }
          ],
          "choropleth": [
           {
            "colorbar": {
             "outlinewidth": 0,
             "ticks": ""
            },
            "type": "choropleth"
           }
          ],
          "contour": [
           {
            "colorbar": {
             "outlinewidth": 0,
             "ticks": ""
            },
            "colorscale": [
             [
              0,
              "#0d0887"
             ],
             [
              0.1111111111111111,
              "#46039f"
             ],
             [
              0.2222222222222222,
              "#7201a8"
             ],
             [
              0.3333333333333333,
              "#9c179e"
             ],
             [
              0.4444444444444444,
              "#bd3786"
             ],
             [
              0.5555555555555556,
              "#d8576b"
             ],
             [
              0.6666666666666666,
              "#ed7953"
             ],
             [
              0.7777777777777778,
              "#fb9f3a"
             ],
             [
              0.8888888888888888,
              "#fdca26"
             ],
             [
              1,
              "#f0f921"
             ]
            ],
            "type": "contour"
           }
          ],
          "contourcarpet": [
           {
            "colorbar": {
             "outlinewidth": 0,
             "ticks": ""
            },
            "type": "contourcarpet"
           }
          ],
          "heatmap": [
           {
            "colorbar": {
             "outlinewidth": 0,
             "ticks": ""
            },
            "colorscale": [
             [
              0,
              "#0d0887"
             ],
             [
              0.1111111111111111,
              "#46039f"
             ],
             [
              0.2222222222222222,
              "#7201a8"
             ],
             [
              0.3333333333333333,
              "#9c179e"
             ],
             [
              0.4444444444444444,
              "#bd3786"
             ],
             [
              0.5555555555555556,
              "#d8576b"
             ],
             [
              0.6666666666666666,
              "#ed7953"
             ],
             [
              0.7777777777777778,
              "#fb9f3a"
             ],
             [
              0.8888888888888888,
              "#fdca26"
             ],
             [
              1,
              "#f0f921"
             ]
            ],
            "type": "heatmap"
           }
          ],
          "heatmapgl": [
           {
            "colorbar": {
             "outlinewidth": 0,
             "ticks": ""
            },
            "colorscale": [
             [
              0,
              "#0d0887"
             ],
             [
              0.1111111111111111,
              "#46039f"
             ],
             [
              0.2222222222222222,
              "#7201a8"
             ],
             [
              0.3333333333333333,
              "#9c179e"
             ],
             [
              0.4444444444444444,
              "#bd3786"
             ],
             [
              0.5555555555555556,
              "#d8576b"
             ],
             [
              0.6666666666666666,
              "#ed7953"
             ],
             [
              0.7777777777777778,
              "#fb9f3a"
             ],
             [
              0.8888888888888888,
              "#fdca26"
             ],
             [
              1,
              "#f0f921"
             ]
            ],
            "type": "heatmapgl"
           }
          ],
          "histogram": [
           {
            "marker": {
             "pattern": {
              "fillmode": "overlay",
              "size": 10,
              "solidity": 0.2
             }
            },
            "type": "histogram"
           }
          ],
          "histogram2d": [
           {
            "colorbar": {
             "outlinewidth": 0,
             "ticks": ""
            },
            "colorscale": [
             [
              0,
              "#0d0887"
             ],
             [
              0.1111111111111111,
              "#46039f"
             ],
             [
              0.2222222222222222,
              "#7201a8"
             ],
             [
              0.3333333333333333,
              "#9c179e"
             ],
             [
              0.4444444444444444,
              "#bd3786"
             ],
             [
              0.5555555555555556,
              "#d8576b"
             ],
             [
              0.6666666666666666,
              "#ed7953"
             ],
             [
              0.7777777777777778,
              "#fb9f3a"
             ],
             [
              0.8888888888888888,
              "#fdca26"
             ],
             [
              1,
              "#f0f921"
             ]
            ],
            "type": "histogram2d"
           }
          ],
          "histogram2dcontour": [
           {
            "colorbar": {
             "outlinewidth": 0,
             "ticks": ""
            },
            "colorscale": [
             [
              0,
              "#0d0887"
             ],
             [
              0.1111111111111111,
              "#46039f"
             ],
             [
              0.2222222222222222,
              "#7201a8"
             ],
             [
              0.3333333333333333,
              "#9c179e"
             ],
             [
              0.4444444444444444,
              "#bd3786"
             ],
             [
              0.5555555555555556,
              "#d8576b"
             ],
             [
              0.6666666666666666,
              "#ed7953"
             ],
             [
              0.7777777777777778,
              "#fb9f3a"
             ],
             [
              0.8888888888888888,
              "#fdca26"
             ],
             [
              1,
              "#f0f921"
             ]
            ],
            "type": "histogram2dcontour"
           }
          ],
          "mesh3d": [
           {
            "colorbar": {
             "outlinewidth": 0,
             "ticks": ""
            },
            "type": "mesh3d"
           }
          ],
          "parcoords": [
           {
            "line": {
             "colorbar": {
              "outlinewidth": 0,
              "ticks": ""
             }
            },
            "type": "parcoords"
           }
          ],
          "pie": [
           {
            "automargin": true,
            "type": "pie"
           }
          ],
          "scatter": [
           {
            "fillpattern": {
             "fillmode": "overlay",
             "size": 10,
             "solidity": 0.2
            },
            "type": "scatter"
           }
          ],
          "scatter3d": [
           {
            "line": {
             "colorbar": {
              "outlinewidth": 0,
              "ticks": ""
             }
            },
            "marker": {
             "colorbar": {
              "outlinewidth": 0,
              "ticks": ""
             }
            },
            "type": "scatter3d"
           }
          ],
          "scattercarpet": [
           {
            "marker": {
             "colorbar": {
              "outlinewidth": 0,
              "ticks": ""
             }
            },
            "type": "scattercarpet"
           }
          ],
          "scattergeo": [
           {
            "marker": {
             "colorbar": {
              "outlinewidth": 0,
              "ticks": ""
             }
            },
            "type": "scattergeo"
           }
          ],
          "scattergl": [
           {
            "marker": {
             "colorbar": {
              "outlinewidth": 0,
              "ticks": ""
             }
            },
            "type": "scattergl"
           }
          ],
          "scattermapbox": [
           {
            "marker": {
             "colorbar": {
              "outlinewidth": 0,
              "ticks": ""
             }
            },
            "type": "scattermapbox"
           }
          ],
          "scatterpolar": [
           {
            "marker": {
             "colorbar": {
              "outlinewidth": 0,
              "ticks": ""
             }
            },
            "type": "scatterpolar"
           }
          ],
          "scatterpolargl": [
           {
            "marker": {
             "colorbar": {
              "outlinewidth": 0,
              "ticks": ""
             }
            },
            "type": "scatterpolargl"
           }
          ],
          "scatterternary": [
           {
            "marker": {
             "colorbar": {
              "outlinewidth": 0,
              "ticks": ""
             }
            },
            "type": "scatterternary"
           }
          ],
          "surface": [
           {
            "colorbar": {
             "outlinewidth": 0,
             "ticks": ""
            },
            "colorscale": [
             [
              0,
              "#0d0887"
             ],
             [
              0.1111111111111111,
              "#46039f"
             ],
             [
              0.2222222222222222,
              "#7201a8"
             ],
             [
              0.3333333333333333,
              "#9c179e"
             ],
             [
              0.4444444444444444,
              "#bd3786"
             ],
             [
              0.5555555555555556,
              "#d8576b"
             ],
             [
              0.6666666666666666,
              "#ed7953"
             ],
             [
              0.7777777777777778,
              "#fb9f3a"
             ],
             [
              0.8888888888888888,
              "#fdca26"
             ],
             [
              1,
              "#f0f921"
             ]
            ],
            "type": "surface"
           }
          ],
          "table": [
           {
            "cells": {
             "fill": {
              "color": "#EBF0F8"
             },
             "line": {
              "color": "white"
             }
            },
            "header": {
             "fill": {
              "color": "#C8D4E3"
             },
             "line": {
              "color": "white"
             }
            },
            "type": "table"
           }
          ]
         },
         "layout": {
          "annotationdefaults": {
           "arrowcolor": "#2a3f5f",
           "arrowhead": 0,
           "arrowwidth": 1
          },
          "autotypenumbers": "strict",
          "coloraxis": {
           "colorbar": {
            "outlinewidth": 0,
            "ticks": ""
           }
          },
          "colorscale": {
           "diverging": [
            [
             0,
             "#8e0152"
            ],
            [
             0.1,
             "#c51b7d"
            ],
            [
             0.2,
             "#de77ae"
            ],
            [
             0.3,
             "#f1b6da"
            ],
            [
             0.4,
             "#fde0ef"
            ],
            [
             0.5,
             "#f7f7f7"
            ],
            [
             0.6,
             "#e6f5d0"
            ],
            [
             0.7,
             "#b8e186"
            ],
            [
             0.8,
             "#7fbc41"
            ],
            [
             0.9,
             "#4d9221"
            ],
            [
             1,
             "#276419"
            ]
           ],
           "sequential": [
            [
             0,
             "#0d0887"
            ],
            [
             0.1111111111111111,
             "#46039f"
            ],
            [
             0.2222222222222222,
             "#7201a8"
            ],
            [
             0.3333333333333333,
             "#9c179e"
            ],
            [
             0.4444444444444444,
             "#bd3786"
            ],
            [
             0.5555555555555556,
             "#d8576b"
            ],
            [
             0.6666666666666666,
             "#ed7953"
            ],
            [
             0.7777777777777778,
             "#fb9f3a"
            ],
            [
             0.8888888888888888,
             "#fdca26"
            ],
            [
             1,
             "#f0f921"
            ]
           ],
           "sequentialminus": [
            [
             0,
             "#0d0887"
            ],
            [
             0.1111111111111111,
             "#46039f"
            ],
            [
             0.2222222222222222,
             "#7201a8"
            ],
            [
             0.3333333333333333,
             "#9c179e"
            ],
            [
             0.4444444444444444,
             "#bd3786"
            ],
            [
             0.5555555555555556,
             "#d8576b"
            ],
            [
             0.6666666666666666,
             "#ed7953"
            ],
            [
             0.7777777777777778,
             "#fb9f3a"
            ],
            [
             0.8888888888888888,
             "#fdca26"
            ],
            [
             1,
             "#f0f921"
            ]
           ]
          },
          "colorway": [
           "#636efa",
           "#EF553B",
           "#00cc96",
           "#ab63fa",
           "#FFA15A",
           "#19d3f3",
           "#FF6692",
           "#B6E880",
           "#FF97FF",
           "#FECB52"
          ],
          "font": {
           "color": "#2a3f5f"
          },
          "geo": {
           "bgcolor": "white",
           "lakecolor": "white",
           "landcolor": "#E5ECF6",
           "showlakes": true,
           "showland": true,
           "subunitcolor": "white"
          },
          "hoverlabel": {
           "align": "left"
          },
          "hovermode": "closest",
          "mapbox": {
           "style": "light"
          },
          "paper_bgcolor": "white",
          "plot_bgcolor": "#E5ECF6",
          "polar": {
           "angularaxis": {
            "gridcolor": "white",
            "linecolor": "white",
            "ticks": ""
           },
           "bgcolor": "#E5ECF6",
           "radialaxis": {
            "gridcolor": "white",
            "linecolor": "white",
            "ticks": ""
           }
          },
          "scene": {
           "xaxis": {
            "backgroundcolor": "#E5ECF6",
            "gridcolor": "white",
            "gridwidth": 2,
            "linecolor": "white",
            "showbackground": true,
            "ticks": "",
            "zerolinecolor": "white"
           },
           "yaxis": {
            "backgroundcolor": "#E5ECF6",
            "gridcolor": "white",
            "gridwidth": 2,
            "linecolor": "white",
            "showbackground": true,
            "ticks": "",
            "zerolinecolor": "white"
           },
           "zaxis": {
            "backgroundcolor": "#E5ECF6",
            "gridcolor": "white",
            "gridwidth": 2,
            "linecolor": "white",
            "showbackground": true,
            "ticks": "",
            "zerolinecolor": "white"
           }
          },
          "shapedefaults": {
           "line": {
            "color": "#2a3f5f"
           }
          },
          "ternary": {
           "aaxis": {
            "gridcolor": "white",
            "linecolor": "white",
            "ticks": ""
           },
           "baxis": {
            "gridcolor": "white",
            "linecolor": "white",
            "ticks": ""
           },
           "bgcolor": "#E5ECF6",
           "caxis": {
            "gridcolor": "white",
            "linecolor": "white",
            "ticks": ""
           }
          },
          "title": {
           "x": 0.05
          },
          "xaxis": {
           "automargin": true,
           "gridcolor": "white",
           "linecolor": "white",
           "ticks": "",
           "title": {
            "standoff": 15
           },
           "zerolinecolor": "white",
           "zerolinewidth": 2
          },
          "yaxis": {
           "automargin": true,
           "gridcolor": "white",
           "linecolor": "white",
           "ticks": "",
           "title": {
            "standoff": 15
           },
           "zerolinecolor": "white",
           "zerolinewidth": 2
          }
         }
        },
        "title": {
         "text": "Polarity of Overwatch League/Coca-Cola-related Tweets by Country"
        },
        "width": 900
       }
      }
     },
     "metadata": {},
     "output_type": "display_data"
    }
   ],
   "source": [
    "# Create text hover template\n",
    "avgpolhover = ('<b>Country:</b> ' + avg_polarity['country'].astype(str) + '<br>' +\n",
    "               '<b>Country Code:</b> ' + avg_polarity['country code'].astype(str) + '<br>' +\n",
    "               '<b>Polarity:</b> ' + '%{z:.3f}' + '<extra></extra>'\n",
    ")\n",
    "\n",
    "# Create a Choropleth figure with data for Polarity of Overwatch League/Coca-Cola-related Tweets by Country\n",
    "avgpolmap = go.Figure(go.Choropleth(locations = avg_polarity['country code'],\n",
    "                                    z = avg_polarity['polarity'],\n",
    "                                    hovertemplate = avgpolhover,\n",
    "                                    colorscale = 'sunset',\n",
    "                                    marker_line_color='gray',\n",
    "                                    marker_line_width=0.2,\n",
    "                                    colorbar_title = 'Polarity',\n",
    "                                    colorbar=dict(orientation='h'))\n",
    ")\n",
    "\n",
    "# Set the layout of the Choropleth figure, including the title, the plot width and the map attributes\n",
    "avgpolmap.update_layout(title_text='Polarity of Overwatch League/Coca-Cola-related Tweets by Country',\n",
    "                        width=900,\n",
    "                        geo=dict(showframe=False,\n",
    "                                 showcoastlines=False)\n",
    ")\n",
    "\n",
    "# Show the Choropleth figure\n",
    "avgpolmap.show()"
   ]
  },
  {
   "attachments": {},
   "cell_type": "markdown",
   "metadata": {},
   "source": [
    "With the average polarity data per country we calculated earlier, we can create a choropleth map that visualizes the overall sentiment of Twitter users towards the Overwatch League/Coca-Cola sponsorship across different regions of the world. By leveraging the country code information in our dataset, we can plot the polarity data on the map and color each country based on its polarity score using a 'sunset' color scale. This color scale ranges from yellow to purple, representing positivity and negativity respectively. The choropleth map provides an easy-to-understand visualization of the distribution of sentiment across different regions and can help identify countries with particularly strong positive or negative sentiment towards the Overwatch League/Coca-Cola sponsorship. This can be valuable for executives, tournament officials, and other organisations seeking to understand public opinion and tailor their strategies accordingly."
   ]
  },
  {
   "cell_type": "code",
   "execution_count": 31,
   "metadata": {},
   "outputs": [
    {
     "data": {
      "application/vnd.plotly.v1+json": {
       "config": {
        "plotlyServerURL": "https://plot.ly"
       },
       "data": [
        {
         "colorbar": {
          "orientation": "h",
          "title": {
           "text": "Subjectivity"
          }
         },
         "colorscale": [
          [
           0,
           "rgb(243, 231, 155)"
          ],
          [
           0.16666666666666666,
           "rgb(250, 196, 132)"
          ],
          [
           0.3333333333333333,
           "rgb(248, 160, 126)"
          ],
          [
           0.5,
           "rgb(235, 127, 134)"
          ],
          [
           0.6666666666666666,
           "rgb(206, 102, 147)"
          ],
          [
           0.8333333333333334,
           "rgb(160, 89, 160)"
          ],
          [
           1,
           "rgb(92, 83, 165)"
          ]
         ],
         "hovertemplate": [
          "<b>Country:</b> Canada<br><b>Country Code:</b> CAN<br><b>Subjectivity:</b> %{z:.3f}<extra></extra>",
          "<b>Country:</b> China<br><b>Country Code:</b> CHN<br><b>Subjectivity:</b> %{z:.3f}<extra></extra>",
          "<b>Country:</b> Colombia<br><b>Country Code:</b> COL<br><b>Subjectivity:</b> %{z:.3f}<extra></extra>",
          "<b>Country:</b> Denmark<br><b>Country Code:</b> DNK<br><b>Subjectivity:</b> %{z:.3f}<extra></extra>",
          "<b>Country:</b> Germany<br><b>Country Code:</b> DEU<br><b>Subjectivity:</b> %{z:.3f}<extra></extra>",
          "<b>Country:</b> Haiti<br><b>Country Code:</b> HTI<br><b>Subjectivity:</b> %{z:.3f}<extra></extra>",
          "<b>Country:</b> Iceland<br><b>Country Code:</b> ISL<br><b>Subjectivity:</b> %{z:.3f}<extra></extra>",
          "<b>Country:</b> India<br><b>Country Code:</b> IND<br><b>Subjectivity:</b> %{z:.3f}<extra></extra>",
          "<b>Country:</b> Italy<br><b>Country Code:</b> ITA<br><b>Subjectivity:</b> %{z:.3f}<extra></extra>",
          "<b>Country:</b> Japan<br><b>Country Code:</b> JPN<br><b>Subjectivity:</b> %{z:.3f}<extra></extra>",
          "<b>Country:</b> Malaysia<br><b>Country Code:</b> MYS<br><b>Subjectivity:</b> %{z:.3f}<extra></extra>",
          "<b>Country:</b> Pakistan<br><b>Country Code:</b> PAK<br><b>Subjectivity:</b> %{z:.3f}<extra></extra>",
          "<b>Country:</b> Poland<br><b>Country Code:</b> POL<br><b>Subjectivity:</b> %{z:.3f}<extra></extra>",
          "<b>Country:</b> Sweden<br><b>Country Code:</b> SWE<br><b>Subjectivity:</b> %{z:.3f}<extra></extra>",
          "<b>Country:</b> United Kingdom<br><b>Country Code:</b> GBR<br><b>Subjectivity:</b> %{z:.3f}<extra></extra>"
         ],
         "locations": [
          "CAN",
          "CHN",
          "COL",
          "DNK",
          "DEU",
          "HTI",
          "ISL",
          "IND",
          "ITA",
          "JPN",
          "MYS",
          "PAK",
          "POL",
          "SWE",
          "GBR"
         ],
         "marker": {
          "line": {
           "color": "gray",
           "width": 0.2
          }
         },
         "type": "choropleth",
         "z": [
          0.45,
          0,
          0,
          0.45454545454545453,
          0,
          0,
          0,
          0.5,
          0.21538444792755138,
          0.8888888888888888,
          0.25,
          0,
          0,
          0.5333333333333333,
          0.23333333333333334
         ]
        }
       ],
       "layout": {
        "geo": {
         "showcoastlines": false,
         "showframe": false
        },
        "template": {
         "data": {
          "bar": [
           {
            "error_x": {
             "color": "#2a3f5f"
            },
            "error_y": {
             "color": "#2a3f5f"
            },
            "marker": {
             "line": {
              "color": "#E5ECF6",
              "width": 0.5
             },
             "pattern": {
              "fillmode": "overlay",
              "size": 10,
              "solidity": 0.2
             }
            },
            "type": "bar"
           }
          ],
          "barpolar": [
           {
            "marker": {
             "line": {
              "color": "#E5ECF6",
              "width": 0.5
             },
             "pattern": {
              "fillmode": "overlay",
              "size": 10,
              "solidity": 0.2
             }
            },
            "type": "barpolar"
           }
          ],
          "carpet": [
           {
            "aaxis": {
             "endlinecolor": "#2a3f5f",
             "gridcolor": "white",
             "linecolor": "white",
             "minorgridcolor": "white",
             "startlinecolor": "#2a3f5f"
            },
            "baxis": {
             "endlinecolor": "#2a3f5f",
             "gridcolor": "white",
             "linecolor": "white",
             "minorgridcolor": "white",
             "startlinecolor": "#2a3f5f"
            },
            "type": "carpet"
           }
          ],
          "choropleth": [
           {
            "colorbar": {
             "outlinewidth": 0,
             "ticks": ""
            },
            "type": "choropleth"
           }
          ],
          "contour": [
           {
            "colorbar": {
             "outlinewidth": 0,
             "ticks": ""
            },
            "colorscale": [
             [
              0,
              "#0d0887"
             ],
             [
              0.1111111111111111,
              "#46039f"
             ],
             [
              0.2222222222222222,
              "#7201a8"
             ],
             [
              0.3333333333333333,
              "#9c179e"
             ],
             [
              0.4444444444444444,
              "#bd3786"
             ],
             [
              0.5555555555555556,
              "#d8576b"
             ],
             [
              0.6666666666666666,
              "#ed7953"
             ],
             [
              0.7777777777777778,
              "#fb9f3a"
             ],
             [
              0.8888888888888888,
              "#fdca26"
             ],
             [
              1,
              "#f0f921"
             ]
            ],
            "type": "contour"
           }
          ],
          "contourcarpet": [
           {
            "colorbar": {
             "outlinewidth": 0,
             "ticks": ""
            },
            "type": "contourcarpet"
           }
          ],
          "heatmap": [
           {
            "colorbar": {
             "outlinewidth": 0,
             "ticks": ""
            },
            "colorscale": [
             [
              0,
              "#0d0887"
             ],
             [
              0.1111111111111111,
              "#46039f"
             ],
             [
              0.2222222222222222,
              "#7201a8"
             ],
             [
              0.3333333333333333,
              "#9c179e"
             ],
             [
              0.4444444444444444,
              "#bd3786"
             ],
             [
              0.5555555555555556,
              "#d8576b"
             ],
             [
              0.6666666666666666,
              "#ed7953"
             ],
             [
              0.7777777777777778,
              "#fb9f3a"
             ],
             [
              0.8888888888888888,
              "#fdca26"
             ],
             [
              1,
              "#f0f921"
             ]
            ],
            "type": "heatmap"
           }
          ],
          "heatmapgl": [
           {
            "colorbar": {
             "outlinewidth": 0,
             "ticks": ""
            },
            "colorscale": [
             [
              0,
              "#0d0887"
             ],
             [
              0.1111111111111111,
              "#46039f"
             ],
             [
              0.2222222222222222,
              "#7201a8"
             ],
             [
              0.3333333333333333,
              "#9c179e"
             ],
             [
              0.4444444444444444,
              "#bd3786"
             ],
             [
              0.5555555555555556,
              "#d8576b"
             ],
             [
              0.6666666666666666,
              "#ed7953"
             ],
             [
              0.7777777777777778,
              "#fb9f3a"
             ],
             [
              0.8888888888888888,
              "#fdca26"
             ],
             [
              1,
              "#f0f921"
             ]
            ],
            "type": "heatmapgl"
           }
          ],
          "histogram": [
           {
            "marker": {
             "pattern": {
              "fillmode": "overlay",
              "size": 10,
              "solidity": 0.2
             }
            },
            "type": "histogram"
           }
          ],
          "histogram2d": [
           {
            "colorbar": {
             "outlinewidth": 0,
             "ticks": ""
            },
            "colorscale": [
             [
              0,
              "#0d0887"
             ],
             [
              0.1111111111111111,
              "#46039f"
             ],
             [
              0.2222222222222222,
              "#7201a8"
             ],
             [
              0.3333333333333333,
              "#9c179e"
             ],
             [
              0.4444444444444444,
              "#bd3786"
             ],
             [
              0.5555555555555556,
              "#d8576b"
             ],
             [
              0.6666666666666666,
              "#ed7953"
             ],
             [
              0.7777777777777778,
              "#fb9f3a"
             ],
             [
              0.8888888888888888,
              "#fdca26"
             ],
             [
              1,
              "#f0f921"
             ]
            ],
            "type": "histogram2d"
           }
          ],
          "histogram2dcontour": [
           {
            "colorbar": {
             "outlinewidth": 0,
             "ticks": ""
            },
            "colorscale": [
             [
              0,
              "#0d0887"
             ],
             [
              0.1111111111111111,
              "#46039f"
             ],
             [
              0.2222222222222222,
              "#7201a8"
             ],
             [
              0.3333333333333333,
              "#9c179e"
             ],
             [
              0.4444444444444444,
              "#bd3786"
             ],
             [
              0.5555555555555556,
              "#d8576b"
             ],
             [
              0.6666666666666666,
              "#ed7953"
             ],
             [
              0.7777777777777778,
              "#fb9f3a"
             ],
             [
              0.8888888888888888,
              "#fdca26"
             ],
             [
              1,
              "#f0f921"
             ]
            ],
            "type": "histogram2dcontour"
           }
          ],
          "mesh3d": [
           {
            "colorbar": {
             "outlinewidth": 0,
             "ticks": ""
            },
            "type": "mesh3d"
           }
          ],
          "parcoords": [
           {
            "line": {
             "colorbar": {
              "outlinewidth": 0,
              "ticks": ""
             }
            },
            "type": "parcoords"
           }
          ],
          "pie": [
           {
            "automargin": true,
            "type": "pie"
           }
          ],
          "scatter": [
           {
            "fillpattern": {
             "fillmode": "overlay",
             "size": 10,
             "solidity": 0.2
            },
            "type": "scatter"
           }
          ],
          "scatter3d": [
           {
            "line": {
             "colorbar": {
              "outlinewidth": 0,
              "ticks": ""
             }
            },
            "marker": {
             "colorbar": {
              "outlinewidth": 0,
              "ticks": ""
             }
            },
            "type": "scatter3d"
           }
          ],
          "scattercarpet": [
           {
            "marker": {
             "colorbar": {
              "outlinewidth": 0,
              "ticks": ""
             }
            },
            "type": "scattercarpet"
           }
          ],
          "scattergeo": [
           {
            "marker": {
             "colorbar": {
              "outlinewidth": 0,
              "ticks": ""
             }
            },
            "type": "scattergeo"
           }
          ],
          "scattergl": [
           {
            "marker": {
             "colorbar": {
              "outlinewidth": 0,
              "ticks": ""
             }
            },
            "type": "scattergl"
           }
          ],
          "scattermapbox": [
           {
            "marker": {
             "colorbar": {
              "outlinewidth": 0,
              "ticks": ""
             }
            },
            "type": "scattermapbox"
           }
          ],
          "scatterpolar": [
           {
            "marker": {
             "colorbar": {
              "outlinewidth": 0,
              "ticks": ""
             }
            },
            "type": "scatterpolar"
           }
          ],
          "scatterpolargl": [
           {
            "marker": {
             "colorbar": {
              "outlinewidth": 0,
              "ticks": ""
             }
            },
            "type": "scatterpolargl"
           }
          ],
          "scatterternary": [
           {
            "marker": {
             "colorbar": {
              "outlinewidth": 0,
              "ticks": ""
             }
            },
            "type": "scatterternary"
           }
          ],
          "surface": [
           {
            "colorbar": {
             "outlinewidth": 0,
             "ticks": ""
            },
            "colorscale": [
             [
              0,
              "#0d0887"
             ],
             [
              0.1111111111111111,
              "#46039f"
             ],
             [
              0.2222222222222222,
              "#7201a8"
             ],
             [
              0.3333333333333333,
              "#9c179e"
             ],
             [
              0.4444444444444444,
              "#bd3786"
             ],
             [
              0.5555555555555556,
              "#d8576b"
             ],
             [
              0.6666666666666666,
              "#ed7953"
             ],
             [
              0.7777777777777778,
              "#fb9f3a"
             ],
             [
              0.8888888888888888,
              "#fdca26"
             ],
             [
              1,
              "#f0f921"
             ]
            ],
            "type": "surface"
           }
          ],
          "table": [
           {
            "cells": {
             "fill": {
              "color": "#EBF0F8"
             },
             "line": {
              "color": "white"
             }
            },
            "header": {
             "fill": {
              "color": "#C8D4E3"
             },
             "line": {
              "color": "white"
             }
            },
            "type": "table"
           }
          ]
         },
         "layout": {
          "annotationdefaults": {
           "arrowcolor": "#2a3f5f",
           "arrowhead": 0,
           "arrowwidth": 1
          },
          "autotypenumbers": "strict",
          "coloraxis": {
           "colorbar": {
            "outlinewidth": 0,
            "ticks": ""
           }
          },
          "colorscale": {
           "diverging": [
            [
             0,
             "#8e0152"
            ],
            [
             0.1,
             "#c51b7d"
            ],
            [
             0.2,
             "#de77ae"
            ],
            [
             0.3,
             "#f1b6da"
            ],
            [
             0.4,
             "#fde0ef"
            ],
            [
             0.5,
             "#f7f7f7"
            ],
            [
             0.6,
             "#e6f5d0"
            ],
            [
             0.7,
             "#b8e186"
            ],
            [
             0.8,
             "#7fbc41"
            ],
            [
             0.9,
             "#4d9221"
            ],
            [
             1,
             "#276419"
            ]
           ],
           "sequential": [
            [
             0,
             "#0d0887"
            ],
            [
             0.1111111111111111,
             "#46039f"
            ],
            [
             0.2222222222222222,
             "#7201a8"
            ],
            [
             0.3333333333333333,
             "#9c179e"
            ],
            [
             0.4444444444444444,
             "#bd3786"
            ],
            [
             0.5555555555555556,
             "#d8576b"
            ],
            [
             0.6666666666666666,
             "#ed7953"
            ],
            [
             0.7777777777777778,
             "#fb9f3a"
            ],
            [
             0.8888888888888888,
             "#fdca26"
            ],
            [
             1,
             "#f0f921"
            ]
           ],
           "sequentialminus": [
            [
             0,
             "#0d0887"
            ],
            [
             0.1111111111111111,
             "#46039f"
            ],
            [
             0.2222222222222222,
             "#7201a8"
            ],
            [
             0.3333333333333333,
             "#9c179e"
            ],
            [
             0.4444444444444444,
             "#bd3786"
            ],
            [
             0.5555555555555556,
             "#d8576b"
            ],
            [
             0.6666666666666666,
             "#ed7953"
            ],
            [
             0.7777777777777778,
             "#fb9f3a"
            ],
            [
             0.8888888888888888,
             "#fdca26"
            ],
            [
             1,
             "#f0f921"
            ]
           ]
          },
          "colorway": [
           "#636efa",
           "#EF553B",
           "#00cc96",
           "#ab63fa",
           "#FFA15A",
           "#19d3f3",
           "#FF6692",
           "#B6E880",
           "#FF97FF",
           "#FECB52"
          ],
          "font": {
           "color": "#2a3f5f"
          },
          "geo": {
           "bgcolor": "white",
           "lakecolor": "white",
           "landcolor": "#E5ECF6",
           "showlakes": true,
           "showland": true,
           "subunitcolor": "white"
          },
          "hoverlabel": {
           "align": "left"
          },
          "hovermode": "closest",
          "mapbox": {
           "style": "light"
          },
          "paper_bgcolor": "white",
          "plot_bgcolor": "#E5ECF6",
          "polar": {
           "angularaxis": {
            "gridcolor": "white",
            "linecolor": "white",
            "ticks": ""
           },
           "bgcolor": "#E5ECF6",
           "radialaxis": {
            "gridcolor": "white",
            "linecolor": "white",
            "ticks": ""
           }
          },
          "scene": {
           "xaxis": {
            "backgroundcolor": "#E5ECF6",
            "gridcolor": "white",
            "gridwidth": 2,
            "linecolor": "white",
            "showbackground": true,
            "ticks": "",
            "zerolinecolor": "white"
           },
           "yaxis": {
            "backgroundcolor": "#E5ECF6",
            "gridcolor": "white",
            "gridwidth": 2,
            "linecolor": "white",
            "showbackground": true,
            "ticks": "",
            "zerolinecolor": "white"
           },
           "zaxis": {
            "backgroundcolor": "#E5ECF6",
            "gridcolor": "white",
            "gridwidth": 2,
            "linecolor": "white",
            "showbackground": true,
            "ticks": "",
            "zerolinecolor": "white"
           }
          },
          "shapedefaults": {
           "line": {
            "color": "#2a3f5f"
           }
          },
          "ternary": {
           "aaxis": {
            "gridcolor": "white",
            "linecolor": "white",
            "ticks": ""
           },
           "baxis": {
            "gridcolor": "white",
            "linecolor": "white",
            "ticks": ""
           },
           "bgcolor": "#E5ECF6",
           "caxis": {
            "gridcolor": "white",
            "linecolor": "white",
            "ticks": ""
           }
          },
          "title": {
           "x": 0.05
          },
          "xaxis": {
           "automargin": true,
           "gridcolor": "white",
           "linecolor": "white",
           "ticks": "",
           "title": {
            "standoff": 15
           },
           "zerolinecolor": "white",
           "zerolinewidth": 2
          },
          "yaxis": {
           "automargin": true,
           "gridcolor": "white",
           "linecolor": "white",
           "ticks": "",
           "title": {
            "standoff": 15
           },
           "zerolinecolor": "white",
           "zerolinewidth": 2
          }
         }
        },
        "title": {
         "text": "Subjectivity of Overwatch League/Coca-Cola-related Tweets by Country"
        },
        "width": 900
       }
      }
     },
     "metadata": {},
     "output_type": "display_data"
    }
   ],
   "source": [
    "# Create text hover template\n",
    "avgsubhover = ('<b>Country:</b> ' + avg_subjectivity['country'].astype(str) + '<br>' +\n",
    "               '<b>Country Code:</b> ' + avg_subjectivity['country code'].astype(str) + '<br>' +\n",
    "               '<b>Subjectivity:</b> ' + '%{z:.3f}' + '<extra></extra>'\n",
    ")\n",
    "\n",
    "# Create a Choropleth figure with data for Subjectivity of Overwatch League/Coca-Cola-related Tweets by Country\n",
    "avgsubmap = go.Figure(go.Choropleth(locations = avg_subjectivity['country code'],\n",
    "                                    z = avg_subjectivity['subjectivity'],\n",
    "                                    hovertemplate = avgsubhover,\n",
    "                                    colorscale = 'sunset',\n",
    "                                    marker_line_color='gray',\n",
    "                                    marker_line_width=0.2,\n",
    "                                    colorbar_title = 'Subjectivity',\n",
    "                                    colorbar=dict(orientation='h'))\n",
    ")\n",
    "\n",
    "# Set the layout of the Choropleth figure, including the title, the plot width and the map attributes\n",
    "avgsubmap.update_layout(title_text='Subjectivity of Overwatch League/Coca-Cola-related Tweets by Country',\n",
    "                        width=900,\n",
    "                        geo=dict(showframe=False,\n",
    "                                showcoastlines=False)    \n",
    ")\n",
    "\n",
    "# Show the Choropleth figure\n",
    "avgsubmap.show()"
   ]
  },
  {
   "attachments": {},
   "cell_type": "markdown",
   "metadata": {},
   "source": [
    "Using a choropleth map again, we can display the average subjectivity of tweets related to the Overwatch League/Coca-Cola sponsorship in each country. Ranging from 0 (displayed in yellow) to 1 (displayed in purple), the colors, using the 'sunset' colorscale, on the map provide a visual representation of the overall sentiment towards the sponsorship in different regions of the world. By analyzing the patterns and trends in subjectivity data, we can gain insights into how people are feeling about the Overwatch League/Coca-Cola sponsorship across different countries. This information can be useful for executives, tournament officials, and other organisations to develop targeted interventions and messaging strategies that address specific concerns or issues related to the sponsorship in different regions. Overall, this map can serve as a valuable tool for understanding the public sentiment towards the Overwatch League/Coca-Cola sponsorship on a global scale."
   ]
  },
  {
   "attachments": {},
   "cell_type": "markdown",
   "metadata": {},
   "source": [
    "Narrowing down the average visualisations to regions, states, or cities is possible with further data refinement using Nominatim, however, due to time constraints, a working version was not included in this notebook."
   ]
  }
 ],
 "metadata": {
  "kernelspec": {
   "display_name": "Python 3",
   "language": "python",
   "name": "python3"
  },
  "language_info": {
   "codemirror_mode": {
    "name": "ipython",
    "version": 3
   },
   "file_extension": ".py",
   "mimetype": "text/x-python",
   "name": "python",
   "nbconvert_exporter": "python",
   "pygments_lexer": "ipython3",
   "version": "3.11.5"
  },
  "orig_nbformat": 4
 },
 "nbformat": 4,
 "nbformat_minor": 2
}
