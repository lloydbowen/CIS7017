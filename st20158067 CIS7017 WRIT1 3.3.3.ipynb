{
 "cells": [
  {
   "attachments": {},
   "cell_type": "markdown",
   "metadata": {},
   "source": [
    "# CIS7017 - Technology Dissertation\n",
    "## Lloyd Bowen - st20158067"
   ]
  },
  {
   "attachments": {},
   "cell_type": "markdown",
   "metadata": {},
   "source": [
    "### Exploring the Impact of Social Media on Sponsorship and Branding in Esports"
   ]
  },
  {
   "attachments": {},
   "cell_type": "markdown",
   "metadata": {},
   "source": [
    "##### Importing Libraries and Datasets"
   ]
  },
  {
   "cell_type": "code",
   "execution_count": 1,
   "metadata": {},
   "outputs": [],
   "source": [
    "import pandas as pd\n",
    "\n",
    "pd.options.mode.chained_assignment = None  # default='warn'\n",
    "\n",
    "pd.options.display.max_rows = 60 # default=60\n",
    "\n",
    "import geopandas as gpd\n",
    "import plotly.express as px\n",
    "import plotly.graph_objects as go\n",
    "import os\n",
    "\n",
    "os.environ['GOOGLE_APPLICATION_CREDENTIALS'] = './resources/bowenn.json'\n",
    "\n",
    "import pyproj\n",
    "import matplotlib.pyplot as plt\n",
    "import plotly.io as pio\n",
    "\n",
    "# pio.templates['bowen']= pio.templates['plotly']\n",
    "# pio.templates['bowen'].update({\n",
    "#     'layout_font_family': 'SF Pro Display'\n",
    "# })\n",
    "\n",
    "# pio.templates.default = 'bowen'\n",
    "\n",
    "from geopy.geocoders import Nominatim\n",
    "from geopy.extra.rate_limiter import RateLimiter\n",
    "from shapely.geometry import Point\n",
    "from textblob import TextBlob\n",
    "from google.cloud import translate_v2 as translate\n",
    "from wordcloud import WordCloud"
   ]
  },
  {
   "attachments": {},
   "cell_type": "markdown",
   "metadata": {},
   "source": [
    "Here we have imported the various Python Libraries we will be using throughout this document.\n",
    "\n",
    "pandas is used for general data analysis, geopandas is for geospatial data analysis, plotly and matplotlib are used for visualising the data by creating plots, geopy, pyproj and shapely are used for geolocating, textblob is used for sentiment analysis, google.cloud translate_v2 is used for translation, wordcloud is used for generating wordclouds"
   ]
  },
  {
   "cell_type": "code",
   "execution_count": 2,
   "metadata": {},
   "outputs": [
    {
     "data": {
      "text/html": [
       "<div>\n",
       "<style scoped>\n",
       "    .dataframe tbody tr th:only-of-type {\n",
       "        vertical-align: middle;\n",
       "    }\n",
       "\n",
       "    .dataframe tbody tr th {\n",
       "        vertical-align: top;\n",
       "    }\n",
       "\n",
       "    .dataframe thead th {\n",
       "        text-align: right;\n",
       "    }\n",
       "</style>\n",
       "<table border=\"1\" class=\"dataframe\">\n",
       "  <thead>\n",
       "    <tr style=\"text-align: right;\">\n",
       "      <th></th>\n",
       "      <th>tweet_id</th>\n",
       "      <th>username</th>\n",
       "      <th>full_name</th>\n",
       "      <th>full_text</th>\n",
       "      <th>view_count</th>\n",
       "      <th>bookmark_count</th>\n",
       "      <th>favorite_count</th>\n",
       "      <th>reply_count</th>\n",
       "      <th>retweet_count</th>\n",
       "      <th>quote_count</th>\n",
       "      <th>...</th>\n",
       "      <th>normal_followers_count</th>\n",
       "      <th>followed_by</th>\n",
       "      <th>following</th>\n",
       "      <th>location</th>\n",
       "      <th>profile_banner_url</th>\n",
       "      <th>profile_url</th>\n",
       "      <th>avatar_url</th>\n",
       "      <th>verified</th>\n",
       "      <th>is_blue_verified</th>\n",
       "      <th>user_created_at</th>\n",
       "    </tr>\n",
       "  </thead>\n",
       "  <tbody>\n",
       "    <tr>\n",
       "      <th>0</th>\n",
       "      <td>1293716451522560000</td>\n",
       "      <td>Slasher</td>\n",
       "      <td>Rod Breslau</td>\n",
       "      <td>if Riot never rescinded their LEC NEOM sponsor...</td>\n",
       "      <td>0</td>\n",
       "      <td>2</td>\n",
       "      <td>984</td>\n",
       "      <td>6</td>\n",
       "      <td>46</td>\n",
       "      <td>1</td>\n",
       "      <td>...</td>\n",
       "      <td>375985</td>\n",
       "      <td>NaN</td>\n",
       "      <td>True</td>\n",
       "      <td>Manhattan, NY</td>\n",
       "      <td>https://pbs.twimg.com/profile_banners/19040580...</td>\n",
       "      <td>https://www.twitter.com/Slasher</td>\n",
       "      <td>https://pbs.twimg.com/profile_images/130227366...</td>\n",
       "      <td>False</td>\n",
       "      <td>False</td>\n",
       "      <td>2009-01-15</td>\n",
       "    </tr>\n",
       "    <tr>\n",
       "      <th>1</th>\n",
       "      <td>1288667916087562240</td>\n",
       "      <td>JacobWolf</td>\n",
       "      <td>Jacob Wolf</td>\n",
       "      <td>Crazy how much reputation the #LEC lost for pa...</td>\n",
       "      <td>0</td>\n",
       "      <td>3</td>\n",
       "      <td>1505</td>\n",
       "      <td>28</td>\n",
       "      <td>50</td>\n",
       "      <td>4</td>\n",
       "      <td>...</td>\n",
       "      <td>79031</td>\n",
       "      <td>NaN</td>\n",
       "      <td>True</td>\n",
       "      <td>Austin, TX</td>\n",
       "      <td>https://pbs.twimg.com/profile_banners/33654848...</td>\n",
       "      <td>https://www.twitter.com/JacobWolf</td>\n",
       "      <td>https://pbs.twimg.com/profile_images/134582333...</td>\n",
       "      <td>False</td>\n",
       "      <td>True</td>\n",
       "      <td>2011-07-16</td>\n",
       "    </tr>\n",
       "    <tr>\n",
       "      <th>2</th>\n",
       "      <td>1288953507492618242</td>\n",
       "      <td>JacobWolf</td>\n",
       "      <td>Jacob Wolf</td>\n",
       "      <td>Regarding speculation that #LEC teams having v...</td>\n",
       "      <td>0</td>\n",
       "      <td>1</td>\n",
       "      <td>248</td>\n",
       "      <td>5</td>\n",
       "      <td>20</td>\n",
       "      <td>6</td>\n",
       "      <td>...</td>\n",
       "      <td>79031</td>\n",
       "      <td>NaN</td>\n",
       "      <td>True</td>\n",
       "      <td>Austin, TX</td>\n",
       "      <td>https://pbs.twimg.com/profile_banners/33654848...</td>\n",
       "      <td>https://www.twitter.com/JacobWolf</td>\n",
       "      <td>https://pbs.twimg.com/profile_images/134582333...</td>\n",
       "      <td>False</td>\n",
       "      <td>True</td>\n",
       "      <td>2011-07-16</td>\n",
       "    </tr>\n",
       "    <tr>\n",
       "      <th>3</th>\n",
       "      <td>1625140182499352576</td>\n",
       "      <td>NOHEATED</td>\n",
       "      <td>NOHEATED🇺🇦</td>\n",
       "      <td>@MShadov @erasus_dk @MmX_A_ @G2esports @Carlos...</td>\n",
       "      <td>46</td>\n",
       "      <td>0</td>\n",
       "      <td>0</td>\n",
       "      <td>1</td>\n",
       "      <td>0</td>\n",
       "      <td>0</td>\n",
       "      <td>...</td>\n",
       "      <td>92</td>\n",
       "      <td>NaN</td>\n",
       "      <td>NaN</td>\n",
       "      <td>Ukraine, Dnipro</td>\n",
       "      <td>https://pbs.twimg.com/profile_banners/24156873...</td>\n",
       "      <td>https://www.twitter.com/NOHEATED</td>\n",
       "      <td>https://pbs.twimg.com/profile_images/151380101...</td>\n",
       "      <td>False</td>\n",
       "      <td>False</td>\n",
       "      <td>2014-03-16</td>\n",
       "    </tr>\n",
       "    <tr>\n",
       "      <th>4</th>\n",
       "      <td>1288994390552252418</td>\n",
       "      <td>MShent1238</td>\n",
       "      <td>Shent🐀</td>\n",
       "      <td>@iiLoVE18 @PoliticsAndMem2 @VewNizion @BGBFG14...</td>\n",
       "      <td>0</td>\n",
       "      <td>0</td>\n",
       "      <td>0</td>\n",
       "      <td>1</td>\n",
       "      <td>0</td>\n",
       "      <td>0</td>\n",
       "      <td>...</td>\n",
       "      <td>73</td>\n",
       "      <td>NaN</td>\n",
       "      <td>NaN</td>\n",
       "      <td>NaN</td>\n",
       "      <td>https://pbs.twimg.com/profile_banners/84175617...</td>\n",
       "      <td>https://www.twitter.com/MShent1238</td>\n",
       "      <td>https://pbs.twimg.com/profile_images/978360163...</td>\n",
       "      <td>False</td>\n",
       "      <td>False</td>\n",
       "      <td>2017-03-14</td>\n",
       "    </tr>\n",
       "    <tr>\n",
       "      <th>...</th>\n",
       "      <td>...</td>\n",
       "      <td>...</td>\n",
       "      <td>...</td>\n",
       "      <td>...</td>\n",
       "      <td>...</td>\n",
       "      <td>...</td>\n",
       "      <td>...</td>\n",
       "      <td>...</td>\n",
       "      <td>...</td>\n",
       "      <td>...</td>\n",
       "      <td>...</td>\n",
       "      <td>...</td>\n",
       "      <td>...</td>\n",
       "      <td>...</td>\n",
       "      <td>...</td>\n",
       "      <td>...</td>\n",
       "      <td>...</td>\n",
       "      <td>...</td>\n",
       "      <td>...</td>\n",
       "      <td>...</td>\n",
       "      <td>...</td>\n",
       "    </tr>\n",
       "    <tr>\n",
       "      <th>88</th>\n",
       "      <td>1288913105850753024</td>\n",
       "      <td>EsportzNetwork</td>\n",
       "      <td>Esportz Network</td>\n",
       "      <td>Just 15 hours after announcing a partnership b...</td>\n",
       "      <td>0</td>\n",
       "      <td>0</td>\n",
       "      <td>7</td>\n",
       "      <td>1</td>\n",
       "      <td>0</td>\n",
       "      <td>1</td>\n",
       "      <td>...</td>\n",
       "      <td>2647</td>\n",
       "      <td>NaN</td>\n",
       "      <td>NaN</td>\n",
       "      <td>NaN</td>\n",
       "      <td>https://pbs.twimg.com/profile_banners/10900277...</td>\n",
       "      <td>https://www.twitter.com/EsportzNetwork</td>\n",
       "      <td>https://pbs.twimg.com/profile_images/128173745...</td>\n",
       "      <td>False</td>\n",
       "      <td>False</td>\n",
       "      <td>2019-01-28</td>\n",
       "    </tr>\n",
       "    <tr>\n",
       "      <th>89</th>\n",
       "      <td>1289031558607773696</td>\n",
       "      <td>InvenGlobal</td>\n",
       "      <td>Inven Global</td>\n",
       "      <td>[#LEC] The @LEC Broadcast crew put their jobs ...</td>\n",
       "      <td>0</td>\n",
       "      <td>0</td>\n",
       "      <td>179</td>\n",
       "      <td>5</td>\n",
       "      <td>18</td>\n",
       "      <td>1</td>\n",
       "      <td>...</td>\n",
       "      <td>23819</td>\n",
       "      <td>NaN</td>\n",
       "      <td>NaN</td>\n",
       "      <td>NaN</td>\n",
       "      <td>https://pbs.twimg.com/profile_banners/77126446...</td>\n",
       "      <td>https://www.twitter.com/InvenGlobal</td>\n",
       "      <td>https://pbs.twimg.com/profile_images/144148328...</td>\n",
       "      <td>False</td>\n",
       "      <td>False</td>\n",
       "      <td>2016-09-01</td>\n",
       "    </tr>\n",
       "    <tr>\n",
       "      <th>90</th>\n",
       "      <td>1302674343315595266</td>\n",
       "      <td>LauncherWP</td>\n",
       "      <td>Launcher</td>\n",
       "      <td>The LEC and NEOM was likely just the beginning...</td>\n",
       "      <td>0</td>\n",
       "      <td>0</td>\n",
       "      <td>2</td>\n",
       "      <td>0</td>\n",
       "      <td>0</td>\n",
       "      <td>0</td>\n",
       "      <td>...</td>\n",
       "      <td>16017</td>\n",
       "      <td>NaN</td>\n",
       "      <td>NaN</td>\n",
       "      <td>Capital Wasteland</td>\n",
       "      <td>https://pbs.twimg.com/profile_banners/19213504...</td>\n",
       "      <td>https://www.twitter.com/LauncherWP</td>\n",
       "      <td>https://pbs.twimg.com/profile_images/118173634...</td>\n",
       "      <td>False</td>\n",
       "      <td>False</td>\n",
       "      <td>2013-09-30</td>\n",
       "    </tr>\n",
       "    <tr>\n",
       "      <th>91</th>\n",
       "      <td>1291066165645570048</td>\n",
       "      <td>moonduckTV</td>\n",
       "      <td>moonduckTV</td>\n",
       "      <td>EP162 of the @TrentPax &amp;amp; @ZyoriTV Podcast\\...</td>\n",
       "      <td>0</td>\n",
       "      <td>0</td>\n",
       "      <td>9</td>\n",
       "      <td>0</td>\n",
       "      <td>1</td>\n",
       "      <td>0</td>\n",
       "      <td>...</td>\n",
       "      <td>19210</td>\n",
       "      <td>NaN</td>\n",
       "      <td>NaN</td>\n",
       "      <td>United States</td>\n",
       "      <td>https://pbs.twimg.com/profile_banners/34326555...</td>\n",
       "      <td>https://www.twitter.com/moonduckTV</td>\n",
       "      <td>https://pbs.twimg.com/profile_images/637309248...</td>\n",
       "      <td>False</td>\n",
       "      <td>False</td>\n",
       "      <td>2015-08-20</td>\n",
       "    </tr>\n",
       "    <tr>\n",
       "      <th>92</th>\n",
       "      <td>1288662430441144321</td>\n",
       "      <td>jfudge</td>\n",
       "      <td>James B Fudge</td>\n",
       "      <td>Credit to all the @riotgames employees that st...</td>\n",
       "      <td>0</td>\n",
       "      <td>0</td>\n",
       "      <td>1</td>\n",
       "      <td>0</td>\n",
       "      <td>0</td>\n",
       "      <td>0</td>\n",
       "      <td>...</td>\n",
       "      <td>1894</td>\n",
       "      <td>NaN</td>\n",
       "      <td>NaN</td>\n",
       "      <td>Berkshire County, Ma</td>\n",
       "      <td>https://pbs.twimg.com/profile_banners/15828915...</td>\n",
       "      <td>https://www.twitter.com/jfudge</td>\n",
       "      <td>https://pbs.twimg.com/profile_images/154758079...</td>\n",
       "      <td>False</td>\n",
       "      <td>True</td>\n",
       "      <td>2008-08-12</td>\n",
       "    </tr>\n",
       "  </tbody>\n",
       "</table>\n",
       "<p>93 rows × 38 columns</p>\n",
       "</div>"
      ],
      "text/plain": [
       "               tweet_id        username        full_name  \\\n",
       "0   1293716451522560000         Slasher      Rod Breslau   \n",
       "1   1288667916087562240       JacobWolf       Jacob Wolf   \n",
       "2   1288953507492618242       JacobWolf       Jacob Wolf   \n",
       "3   1625140182499352576        NOHEATED       NOHEATED🇺🇦   \n",
       "4   1288994390552252418      MShent1238           Shent🐀   \n",
       "..                  ...             ...              ...   \n",
       "88  1288913105850753024  EsportzNetwork  Esportz Network   \n",
       "89  1289031558607773696     InvenGlobal     Inven Global   \n",
       "90  1302674343315595266      LauncherWP         Launcher   \n",
       "91  1291066165645570048      moonduckTV       moonduckTV   \n",
       "92  1288662430441144321          jfudge    James B Fudge   \n",
       "\n",
       "                                            full_text  view_count  \\\n",
       "0   if Riot never rescinded their LEC NEOM sponsor...           0   \n",
       "1   Crazy how much reputation the #LEC lost for pa...           0   \n",
       "2   Regarding speculation that #LEC teams having v...           0   \n",
       "3   @MShadov @erasus_dk @MmX_A_ @G2esports @Carlos...          46   \n",
       "4   @iiLoVE18 @PoliticsAndMem2 @VewNizion @BGBFG14...           0   \n",
       "..                                                ...         ...   \n",
       "88  Just 15 hours after announcing a partnership b...           0   \n",
       "89  [#LEC] The @LEC Broadcast crew put their jobs ...           0   \n",
       "90  The LEC and NEOM was likely just the beginning...           0   \n",
       "91  EP162 of the @TrentPax &amp; @ZyoriTV Podcast\\...           0   \n",
       "92  Credit to all the @riotgames employees that st...           0   \n",
       "\n",
       "    bookmark_count  favorite_count  reply_count  retweet_count  quote_count  \\\n",
       "0                2             984            6             46            1   \n",
       "1                3            1505           28             50            4   \n",
       "2                1             248            5             20            6   \n",
       "3                0               0            1              0            0   \n",
       "4                0               0            1              0            0   \n",
       "..             ...             ...          ...            ...          ...   \n",
       "88               0               7            1              0            1   \n",
       "89               0             179            5             18            1   \n",
       "90               0               2            0              0            0   \n",
       "91               0               9            0              1            0   \n",
       "92               0               1            0              0            0   \n",
       "\n",
       "    ...  normal_followers_count followed_by  following              location  \\\n",
       "0   ...                  375985         NaN       True         Manhattan, NY   \n",
       "1   ...                   79031         NaN       True            Austin, TX   \n",
       "2   ...                   79031         NaN       True            Austin, TX   \n",
       "3   ...                      92         NaN        NaN       Ukraine, Dnipro   \n",
       "4   ...                      73         NaN        NaN                   NaN   \n",
       "..  ...                     ...         ...        ...                   ...   \n",
       "88  ...                    2647         NaN        NaN                   NaN   \n",
       "89  ...                   23819         NaN        NaN                   NaN   \n",
       "90  ...                   16017         NaN        NaN     Capital Wasteland   \n",
       "91  ...                   19210         NaN        NaN         United States   \n",
       "92  ...                    1894         NaN        NaN  Berkshire County, Ma   \n",
       "\n",
       "                                   profile_banner_url  \\\n",
       "0   https://pbs.twimg.com/profile_banners/19040580...   \n",
       "1   https://pbs.twimg.com/profile_banners/33654848...   \n",
       "2   https://pbs.twimg.com/profile_banners/33654848...   \n",
       "3   https://pbs.twimg.com/profile_banners/24156873...   \n",
       "4   https://pbs.twimg.com/profile_banners/84175617...   \n",
       "..                                                ...   \n",
       "88  https://pbs.twimg.com/profile_banners/10900277...   \n",
       "89  https://pbs.twimg.com/profile_banners/77126446...   \n",
       "90  https://pbs.twimg.com/profile_banners/19213504...   \n",
       "91  https://pbs.twimg.com/profile_banners/34326555...   \n",
       "92  https://pbs.twimg.com/profile_banners/15828915...   \n",
       "\n",
       "                               profile_url  \\\n",
       "0          https://www.twitter.com/Slasher   \n",
       "1        https://www.twitter.com/JacobWolf   \n",
       "2        https://www.twitter.com/JacobWolf   \n",
       "3         https://www.twitter.com/NOHEATED   \n",
       "4       https://www.twitter.com/MShent1238   \n",
       "..                                     ...   \n",
       "88  https://www.twitter.com/EsportzNetwork   \n",
       "89     https://www.twitter.com/InvenGlobal   \n",
       "90      https://www.twitter.com/LauncherWP   \n",
       "91      https://www.twitter.com/moonduckTV   \n",
       "92          https://www.twitter.com/jfudge   \n",
       "\n",
       "                                           avatar_url  verified  \\\n",
       "0   https://pbs.twimg.com/profile_images/130227366...     False   \n",
       "1   https://pbs.twimg.com/profile_images/134582333...     False   \n",
       "2   https://pbs.twimg.com/profile_images/134582333...     False   \n",
       "3   https://pbs.twimg.com/profile_images/151380101...     False   \n",
       "4   https://pbs.twimg.com/profile_images/978360163...     False   \n",
       "..                                                ...       ...   \n",
       "88  https://pbs.twimg.com/profile_images/128173745...     False   \n",
       "89  https://pbs.twimg.com/profile_images/144148328...     False   \n",
       "90  https://pbs.twimg.com/profile_images/118173634...     False   \n",
       "91  https://pbs.twimg.com/profile_images/637309248...     False   \n",
       "92  https://pbs.twimg.com/profile_images/154758079...     False   \n",
       "\n",
       "    is_blue_verified user_created_at  \n",
       "0              False      2009-01-15  \n",
       "1               True      2011-07-16  \n",
       "2               True      2011-07-16  \n",
       "3              False      2014-03-16  \n",
       "4              False      2017-03-14  \n",
       "..               ...             ...  \n",
       "88             False      2019-01-28  \n",
       "89             False      2016-09-01  \n",
       "90             False      2013-09-30  \n",
       "91             False      2015-08-20  \n",
       "92              True      2008-08-12  \n",
       "\n",
       "[93 rows x 38 columns]"
      ]
     },
     "execution_count": 2,
     "metadata": {},
     "output_type": "execute_result"
    }
   ],
   "source": [
    "tweets=pd.read_csv('./datasets/lec-neom-93.csv')\n",
    "tweets"
   ]
  },
  {
   "attachments": {},
   "cell_type": "markdown",
   "metadata": {},
   "source": [
    "Here we have imported the main dataset, lec-neom-93.csv as 'tweets', which is what will be used for the main analysis of this task."
   ]
  },
  {
   "cell_type": "code",
   "execution_count": 3,
   "metadata": {},
   "outputs": [
    {
     "data": {
      "text/plain": [
       "['naturalearth_cities', 'naturalearth_lowres', 'nybb']"
      ]
     },
     "execution_count": 3,
     "metadata": {},
     "output_type": "execute_result"
    }
   ],
   "source": [
    "gpd.datasets.available"
   ]
  },
  {
   "cell_type": "code",
   "execution_count": 4,
   "metadata": {},
   "outputs": [
    {
     "name": "stderr",
     "output_type": "stream",
     "text": [
      "C:\\Users\\bowen\\AppData\\Local\\Temp\\ipykernel_13120\\3742288801.py:1: FutureWarning: The geopandas.dataset module is deprecated and will be removed in GeoPandas 1.0. You can get the original 'naturalearth_lowres' data from https://www.naturalearthdata.com/downloads/110m-cultural-vectors/.\n",
      "  world_default=gpd.read_file(gpd.datasets.get_path('naturalearth_lowres'))\n"
     ]
    },
    {
     "data": {
      "text/html": [
       "<div>\n",
       "<style scoped>\n",
       "    .dataframe tbody tr th:only-of-type {\n",
       "        vertical-align: middle;\n",
       "    }\n",
       "\n",
       "    .dataframe tbody tr th {\n",
       "        vertical-align: top;\n",
       "    }\n",
       "\n",
       "    .dataframe thead th {\n",
       "        text-align: right;\n",
       "    }\n",
       "</style>\n",
       "<table border=\"1\" class=\"dataframe\">\n",
       "  <thead>\n",
       "    <tr style=\"text-align: right;\">\n",
       "      <th></th>\n",
       "      <th>pop_est</th>\n",
       "      <th>continent</th>\n",
       "      <th>name</th>\n",
       "      <th>iso_a3</th>\n",
       "      <th>gdp_md_est</th>\n",
       "      <th>geometry</th>\n",
       "    </tr>\n",
       "  </thead>\n",
       "  <tbody>\n",
       "    <tr>\n",
       "      <th>0</th>\n",
       "      <td>889953.0</td>\n",
       "      <td>Oceania</td>\n",
       "      <td>Fiji</td>\n",
       "      <td>FJI</td>\n",
       "      <td>5496</td>\n",
       "      <td>MULTIPOLYGON (((180.00000 -16.06713, 180.00000...</td>\n",
       "    </tr>\n",
       "    <tr>\n",
       "      <th>1</th>\n",
       "      <td>58005463.0</td>\n",
       "      <td>Africa</td>\n",
       "      <td>Tanzania</td>\n",
       "      <td>TZA</td>\n",
       "      <td>63177</td>\n",
       "      <td>POLYGON ((33.90371 -0.95000, 34.07262 -1.05982...</td>\n",
       "    </tr>\n",
       "    <tr>\n",
       "      <th>2</th>\n",
       "      <td>603253.0</td>\n",
       "      <td>Africa</td>\n",
       "      <td>W. Sahara</td>\n",
       "      <td>ESH</td>\n",
       "      <td>907</td>\n",
       "      <td>POLYGON ((-8.66559 27.65643, -8.66512 27.58948...</td>\n",
       "    </tr>\n",
       "    <tr>\n",
       "      <th>3</th>\n",
       "      <td>37589262.0</td>\n",
       "      <td>North America</td>\n",
       "      <td>Canada</td>\n",
       "      <td>CAN</td>\n",
       "      <td>1736425</td>\n",
       "      <td>MULTIPOLYGON (((-122.84000 49.00000, -122.9742...</td>\n",
       "    </tr>\n",
       "    <tr>\n",
       "      <th>4</th>\n",
       "      <td>328239523.0</td>\n",
       "      <td>North America</td>\n",
       "      <td>United States of America</td>\n",
       "      <td>USA</td>\n",
       "      <td>21433226</td>\n",
       "      <td>MULTIPOLYGON (((-122.84000 49.00000, -120.0000...</td>\n",
       "    </tr>\n",
       "    <tr>\n",
       "      <th>...</th>\n",
       "      <td>...</td>\n",
       "      <td>...</td>\n",
       "      <td>...</td>\n",
       "      <td>...</td>\n",
       "      <td>...</td>\n",
       "      <td>...</td>\n",
       "    </tr>\n",
       "    <tr>\n",
       "      <th>172</th>\n",
       "      <td>6944975.0</td>\n",
       "      <td>Europe</td>\n",
       "      <td>Serbia</td>\n",
       "      <td>SRB</td>\n",
       "      <td>51475</td>\n",
       "      <td>POLYGON ((18.82982 45.90887, 18.82984 45.90888...</td>\n",
       "    </tr>\n",
       "    <tr>\n",
       "      <th>173</th>\n",
       "      <td>622137.0</td>\n",
       "      <td>Europe</td>\n",
       "      <td>Montenegro</td>\n",
       "      <td>MNE</td>\n",
       "      <td>5542</td>\n",
       "      <td>POLYGON ((20.07070 42.58863, 19.80161 42.50009...</td>\n",
       "    </tr>\n",
       "    <tr>\n",
       "      <th>174</th>\n",
       "      <td>1794248.0</td>\n",
       "      <td>Europe</td>\n",
       "      <td>Kosovo</td>\n",
       "      <td>-99</td>\n",
       "      <td>7926</td>\n",
       "      <td>POLYGON ((20.59025 41.85541, 20.52295 42.21787...</td>\n",
       "    </tr>\n",
       "    <tr>\n",
       "      <th>175</th>\n",
       "      <td>1394973.0</td>\n",
       "      <td>North America</td>\n",
       "      <td>Trinidad and Tobago</td>\n",
       "      <td>TTO</td>\n",
       "      <td>24269</td>\n",
       "      <td>POLYGON ((-61.68000 10.76000, -61.10500 10.890...</td>\n",
       "    </tr>\n",
       "    <tr>\n",
       "      <th>176</th>\n",
       "      <td>11062113.0</td>\n",
       "      <td>Africa</td>\n",
       "      <td>S. Sudan</td>\n",
       "      <td>SSD</td>\n",
       "      <td>11998</td>\n",
       "      <td>POLYGON ((30.83385 3.50917, 29.95350 4.17370, ...</td>\n",
       "    </tr>\n",
       "  </tbody>\n",
       "</table>\n",
       "<p>177 rows × 6 columns</p>\n",
       "</div>"
      ],
      "text/plain": [
       "         pop_est      continent                      name iso_a3  gdp_md_est  \\\n",
       "0       889953.0        Oceania                      Fiji    FJI        5496   \n",
       "1     58005463.0         Africa                  Tanzania    TZA       63177   \n",
       "2       603253.0         Africa                 W. Sahara    ESH         907   \n",
       "3     37589262.0  North America                    Canada    CAN     1736425   \n",
       "4    328239523.0  North America  United States of America    USA    21433226   \n",
       "..           ...            ...                       ...    ...         ...   \n",
       "172    6944975.0         Europe                    Serbia    SRB       51475   \n",
       "173     622137.0         Europe                Montenegro    MNE        5542   \n",
       "174    1794248.0         Europe                    Kosovo    -99        7926   \n",
       "175    1394973.0  North America       Trinidad and Tobago    TTO       24269   \n",
       "176   11062113.0         Africa                  S. Sudan    SSD       11998   \n",
       "\n",
       "                                              geometry  \n",
       "0    MULTIPOLYGON (((180.00000 -16.06713, 180.00000...  \n",
       "1    POLYGON ((33.90371 -0.95000, 34.07262 -1.05982...  \n",
       "2    POLYGON ((-8.66559 27.65643, -8.66512 27.58948...  \n",
       "3    MULTIPOLYGON (((-122.84000 49.00000, -122.9742...  \n",
       "4    MULTIPOLYGON (((-122.84000 49.00000, -120.0000...  \n",
       "..                                                 ...  \n",
       "172  POLYGON ((18.82982 45.90887, 18.82984 45.90888...  \n",
       "173  POLYGON ((20.07070 42.58863, 19.80161 42.50009...  \n",
       "174  POLYGON ((20.59025 41.85541, 20.52295 42.21787...  \n",
       "175  POLYGON ((-61.68000 10.76000, -61.10500 10.890...  \n",
       "176  POLYGON ((30.83385 3.50917, 29.95350 4.17370, ...  \n",
       "\n",
       "[177 rows x 6 columns]"
      ]
     },
     "execution_count": 4,
     "metadata": {},
     "output_type": "execute_result"
    }
   ],
   "source": [
    "world_default=gpd.read_file(gpd.datasets.get_path('naturalearth_lowres'))\n",
    "world_default"
   ]
  },
  {
   "attachments": {},
   "cell_type": "markdown",
   "metadata": {},
   "source": [
    "This reads from geopandas to display the datasets that are included in the library. Then we are reading the 'naturalearth_lowres' dataset, and assigning it the \"world_default\" variable."
   ]
  },
  {
   "cell_type": "code",
   "execution_count": 5,
   "metadata": {},
   "outputs": [
    {
     "data": {
      "text/html": [
       "<div>\n",
       "<style scoped>\n",
       "    .dataframe tbody tr th:only-of-type {\n",
       "        vertical-align: middle;\n",
       "    }\n",
       "\n",
       "    .dataframe tbody tr th {\n",
       "        vertical-align: top;\n",
       "    }\n",
       "\n",
       "    .dataframe thead th {\n",
       "        text-align: right;\n",
       "    }\n",
       "</style>\n",
       "<table border=\"1\" class=\"dataframe\">\n",
       "  <thead>\n",
       "    <tr style=\"text-align: right;\">\n",
       "      <th></th>\n",
       "      <th>name</th>\n",
       "      <th>iso_a3</th>\n",
       "    </tr>\n",
       "  </thead>\n",
       "  <tbody>\n",
       "    <tr>\n",
       "      <th>0</th>\n",
       "      <td>Fiji</td>\n",
       "      <td>FJI</td>\n",
       "    </tr>\n",
       "    <tr>\n",
       "      <th>1</th>\n",
       "      <td>Tanzania</td>\n",
       "      <td>TZA</td>\n",
       "    </tr>\n",
       "    <tr>\n",
       "      <th>2</th>\n",
       "      <td>W. Sahara</td>\n",
       "      <td>ESH</td>\n",
       "    </tr>\n",
       "    <tr>\n",
       "      <th>3</th>\n",
       "      <td>Canada</td>\n",
       "      <td>CAN</td>\n",
       "    </tr>\n",
       "    <tr>\n",
       "      <th>4</th>\n",
       "      <td>United States of America</td>\n",
       "      <td>USA</td>\n",
       "    </tr>\n",
       "    <tr>\n",
       "      <th>...</th>\n",
       "      <td>...</td>\n",
       "      <td>...</td>\n",
       "    </tr>\n",
       "    <tr>\n",
       "      <th>172</th>\n",
       "      <td>Serbia</td>\n",
       "      <td>SRB</td>\n",
       "    </tr>\n",
       "    <tr>\n",
       "      <th>173</th>\n",
       "      <td>Montenegro</td>\n",
       "      <td>MNE</td>\n",
       "    </tr>\n",
       "    <tr>\n",
       "      <th>174</th>\n",
       "      <td>Kosovo</td>\n",
       "      <td>-99</td>\n",
       "    </tr>\n",
       "    <tr>\n",
       "      <th>175</th>\n",
       "      <td>Trinidad and Tobago</td>\n",
       "      <td>TTO</td>\n",
       "    </tr>\n",
       "    <tr>\n",
       "      <th>176</th>\n",
       "      <td>S. Sudan</td>\n",
       "      <td>SSD</td>\n",
       "    </tr>\n",
       "  </tbody>\n",
       "</table>\n",
       "<p>177 rows × 2 columns</p>\n",
       "</div>"
      ],
      "text/plain": [
       "                         name iso_a3\n",
       "0                        Fiji    FJI\n",
       "1                    Tanzania    TZA\n",
       "2                   W. Sahara    ESH\n",
       "3                      Canada    CAN\n",
       "4    United States of America    USA\n",
       "..                        ...    ...\n",
       "172                    Serbia    SRB\n",
       "173                Montenegro    MNE\n",
       "174                    Kosovo    -99\n",
       "175       Trinidad and Tobago    TTO\n",
       "176                  S. Sudan    SSD\n",
       "\n",
       "[177 rows x 2 columns]"
      ]
     },
     "execution_count": 5,
     "metadata": {},
     "output_type": "execute_result"
    }
   ],
   "source": [
    "world_iso=world_default[[\"name\", \"iso_a3\"]]\n",
    "world_iso"
   ]
  },
  {
   "cell_type": "code",
   "execution_count": 6,
   "metadata": {},
   "outputs": [
    {
     "data": {
      "text/html": [
       "<div>\n",
       "<style scoped>\n",
       "    .dataframe tbody tr th:only-of-type {\n",
       "        vertical-align: middle;\n",
       "    }\n",
       "\n",
       "    .dataframe tbody tr th {\n",
       "        vertical-align: top;\n",
       "    }\n",
       "\n",
       "    .dataframe thead th {\n",
       "        text-align: right;\n",
       "    }\n",
       "</style>\n",
       "<table border=\"1\" class=\"dataframe\">\n",
       "  <thead>\n",
       "    <tr style=\"text-align: right;\">\n",
       "      <th></th>\n",
       "      <th>country</th>\n",
       "      <th>country code</th>\n",
       "    </tr>\n",
       "  </thead>\n",
       "  <tbody>\n",
       "    <tr>\n",
       "      <th>0</th>\n",
       "      <td>Fiji</td>\n",
       "      <td>FJI</td>\n",
       "    </tr>\n",
       "    <tr>\n",
       "      <th>1</th>\n",
       "      <td>Tanzania</td>\n",
       "      <td>TZA</td>\n",
       "    </tr>\n",
       "    <tr>\n",
       "      <th>2</th>\n",
       "      <td>W. Sahara</td>\n",
       "      <td>ESH</td>\n",
       "    </tr>\n",
       "    <tr>\n",
       "      <th>3</th>\n",
       "      <td>Canada</td>\n",
       "      <td>CAN</td>\n",
       "    </tr>\n",
       "    <tr>\n",
       "      <th>4</th>\n",
       "      <td>United States of America</td>\n",
       "      <td>USA</td>\n",
       "    </tr>\n",
       "    <tr>\n",
       "      <th>...</th>\n",
       "      <td>...</td>\n",
       "      <td>...</td>\n",
       "    </tr>\n",
       "    <tr>\n",
       "      <th>172</th>\n",
       "      <td>Serbia</td>\n",
       "      <td>SRB</td>\n",
       "    </tr>\n",
       "    <tr>\n",
       "      <th>173</th>\n",
       "      <td>Montenegro</td>\n",
       "      <td>MNE</td>\n",
       "    </tr>\n",
       "    <tr>\n",
       "      <th>174</th>\n",
       "      <td>Kosovo</td>\n",
       "      <td>-99</td>\n",
       "    </tr>\n",
       "    <tr>\n",
       "      <th>175</th>\n",
       "      <td>Trinidad and Tobago</td>\n",
       "      <td>TTO</td>\n",
       "    </tr>\n",
       "    <tr>\n",
       "      <th>176</th>\n",
       "      <td>S. Sudan</td>\n",
       "      <td>SSD</td>\n",
       "    </tr>\n",
       "  </tbody>\n",
       "</table>\n",
       "<p>177 rows × 2 columns</p>\n",
       "</div>"
      ],
      "text/plain": [
       "                      country country code\n",
       "0                        Fiji          FJI\n",
       "1                    Tanzania          TZA\n",
       "2                   W. Sahara          ESH\n",
       "3                      Canada          CAN\n",
       "4    United States of America          USA\n",
       "..                        ...          ...\n",
       "172                    Serbia          SRB\n",
       "173                Montenegro          MNE\n",
       "174                    Kosovo          -99\n",
       "175       Trinidad and Tobago          TTO\n",
       "176                  S. Sudan          SSD\n",
       "\n",
       "[177 rows x 2 columns]"
      ]
     },
     "execution_count": 6,
     "metadata": {},
     "output_type": "execute_result"
    }
   ],
   "source": [
    "world=world_iso.rename(columns={'name': 'country', 'iso_a3': 'country code'})\n",
    "world"
   ]
  },
  {
   "attachments": {},
   "cell_type": "markdown",
   "metadata": {},
   "source": [
    "\"world_iso\" is created by only pulling the \"name\" and \"iso_a3\" columns from the \"world_default\" DataFrame.\n",
    "\n",
    "We have then renamed the \"name\" columns to \"country\" and \"iso_a3\" column to \"country code\", then assigned it to the \"world\" variable. This is to distinguish it from the other DataFrames with a similar name. These will be used later."
   ]
  },
  {
   "attachments": {},
   "cell_type": "markdown",
   "metadata": {},
   "source": [
    "##### Filtering the Dataset"
   ]
  },
  {
   "cell_type": "code",
   "execution_count": 7,
   "metadata": {},
   "outputs": [],
   "source": [
    "'''\n",
    "# Import pycountry library\n",
    "import pycountry\n",
    "\n",
    "# Get a list of country names from pycountry.countries\n",
    "country_names = [country.name for country in pycountry.countries]\n",
    "\n",
    "# Filter out rows where \"location\" is not a country name contained in country_names (from pycountry.countries)\n",
    "tweets_cleaned = tweets[~((~tweets[\"location\"].isin(country_names)) | tweets[\"full_text\"].str.contains(\"https\") | tweets[\"username\"].str.contains(\"卐|卍\"))]\n",
    "tweets_cleaned''';"
   ]
  },
  {
   "attachments": {},
   "cell_type": "markdown",
   "metadata": {},
   "source": [
    "Originally tried filtering out invalid values (countries) from \"location\" using pycountry, however this filtered out too many rows of data, which in turn produced subpar data."
   ]
  },
  {
   "cell_type": "code",
   "execution_count": 8,
   "metadata": {},
   "outputs": [],
   "source": [
    "'''\n",
    "# Import nltk library and stopwords list\n",
    "import nltk\n",
    "nltk.download('stopwords')\n",
    "\n",
    "from nltk.corpus import stopwords\n",
    "\n",
    "# Replace missing (null/NaN) values with \"Unknown\"\n",
    "tweets[\"location\"].fillna(\"Unknown\", inplace=True)\n",
    "\n",
    "# Pull the set of English stopwords - assign to \"stop_words\" variable\n",
    "stop_words = set(stopwords.words('english'))\n",
    "\n",
    "# Filter out the rows containing the stop words\n",
    "tweets_cleaned = tweets[~tweets[\"location\"].str.lower().apply(lambda x: any([word in x.lower() for word in stop_words]))]''';"
   ]
  },
  {
   "attachments": {},
   "cell_type": "markdown",
   "metadata": {},
   "source": [
    "Again, tried filtering out invalid values (countries) from \"location\" using the stopwords list from nltk, however this, again, filtered out too many rows of data, which in turn produced subpar data."
   ]
  },
  {
   "cell_type": "code",
   "execution_count": 9,
   "metadata": {},
   "outputs": [],
   "source": [
    "# # Replace missing (null/NaN) values with \"Unknown\"\n",
    "# tweets[\"location\"].fillna(\"Unknown\", inplace=True)\n",
    "\n",
    "# # Read the filter values from the \"filters\" text file\n",
    "# with open('./resources/filters.txt', 'r') as f:\n",
    "#     filters = [val.lower() for val in f.read().splitlines()]\n",
    "\n",
    "# # Filter out the rows containing the filter values from the text file in the \"location\" column\n",
    "# # Filter our the rows containing \"https\" in the \"full_text\" column\n",
    "# tweets_cleaned = tweets[~(tweets[\"location\"].str.lower().str.contains('|'.join(filters)) | tweets[\"full_text\"].str.lower().str.contains(\"https\"))]\n",
    "# tweets_cleaned.count()"
   ]
  },
  {
   "attachments": {},
   "cell_type": "markdown",
   "metadata": {},
   "source": [
    "The method that was decided on required a separate text file, called \"filters\", which contained a list (one word a line) of values that did not make sense given the context of the \"location\" series.\n",
    "\n",
    "ChatGPT was used to quickly produce a list of various social media websites, emoji flags, as well as invalid characters (such as !, @, #, $ etc.), which was then joined by a handful of handpicked values spotted during testing.\n",
    "\n",
    "This method also drops the rows containing 'NaN', which removes many rows from the dataset, as many Twitter users leave the \"user_location\" field on their profile blank, often for privacy reasons."
   ]
  },
  {
   "cell_type": "markdown",
   "metadata": {},
   "source": [
    "Upon further investigation, it was decided that filtering out the dataset would limit the amount of useful data available. As this topic is niche, social media data is fairly scarce, meaning data with null values must be left in."
   ]
  },
  {
   "cell_type": "code",
   "execution_count": 10,
   "metadata": {},
   "outputs": [],
   "source": [
    "# tweets_sample=tweets_cleaned.dropna().sample(n=500)\n",
    "# tweets_sample.count()"
   ]
  },
  {
   "attachments": {},
   "cell_type": "markdown",
   "metadata": {},
   "source": [
    "For a large dataset, it would usually be good practice to select a sample, to make analysing and visualising data easier for the data analyst. In this case, due to the small size, it is best to use the full dataset."
   ]
  },
  {
   "attachments": {},
   "cell_type": "markdown",
   "metadata": {},
   "source": [
    "##### Geocoding"
   ]
  },
  {
   "cell_type": "code",
   "execution_count": 11,
   "metadata": {},
   "outputs": [],
   "source": [
    "# Assigns instance of Nomination, using \"MSc22\" user_agent, to \"geolocator\" variable\n",
    "geolocator = Nominatim(user_agent='MSc22')"
   ]
  },
  {
   "cell_type": "code",
   "execution_count": 12,
   "metadata": {},
   "outputs": [
    {
     "data": {
      "text/html": [
       "<div>\n",
       "<style scoped>\n",
       "    .dataframe tbody tr th:only-of-type {\n",
       "        vertical-align: middle;\n",
       "    }\n",
       "\n",
       "    .dataframe tbody tr th {\n",
       "        vertical-align: top;\n",
       "    }\n",
       "\n",
       "    .dataframe thead th {\n",
       "        text-align: right;\n",
       "    }\n",
       "</style>\n",
       "<table border=\"1\" class=\"dataframe\">\n",
       "  <thead>\n",
       "    <tr style=\"text-align: right;\">\n",
       "      <th></th>\n",
       "      <th>tweet_id</th>\n",
       "      <th>username</th>\n",
       "      <th>full_name</th>\n",
       "      <th>full_text</th>\n",
       "      <th>view_count</th>\n",
       "      <th>bookmark_count</th>\n",
       "      <th>favorite_count</th>\n",
       "      <th>reply_count</th>\n",
       "      <th>retweet_count</th>\n",
       "      <th>quote_count</th>\n",
       "      <th>...</th>\n",
       "      <th>location</th>\n",
       "      <th>profile_banner_url</th>\n",
       "      <th>profile_url</th>\n",
       "      <th>avatar_url</th>\n",
       "      <th>verified</th>\n",
       "      <th>is_blue_verified</th>\n",
       "      <th>user_created_at</th>\n",
       "      <th>acc_location</th>\n",
       "      <th>lat</th>\n",
       "      <th>lon</th>\n",
       "    </tr>\n",
       "  </thead>\n",
       "  <tbody>\n",
       "    <tr>\n",
       "      <th>0</th>\n",
       "      <td>1293716451522560000</td>\n",
       "      <td>Slasher</td>\n",
       "      <td>Rod Breslau</td>\n",
       "      <td>if Riot never rescinded their LEC NEOM sponsor...</td>\n",
       "      <td>0</td>\n",
       "      <td>2</td>\n",
       "      <td>984</td>\n",
       "      <td>6</td>\n",
       "      <td>46</td>\n",
       "      <td>1</td>\n",
       "      <td>...</td>\n",
       "      <td>Manhattan, NY</td>\n",
       "      <td>https://pbs.twimg.com/profile_banners/19040580...</td>\n",
       "      <td>https://www.twitter.com/Slasher</td>\n",
       "      <td>https://pbs.twimg.com/profile_images/130227366...</td>\n",
       "      <td>False</td>\n",
       "      <td>False</td>\n",
       "      <td>2009-01-15</td>\n",
       "      <td>(Manhattan, New York County, City of New York,...</td>\n",
       "      <td>40.789624</td>\n",
       "      <td>-73.959894</td>\n",
       "    </tr>\n",
       "    <tr>\n",
       "      <th>1</th>\n",
       "      <td>1288667916087562240</td>\n",
       "      <td>JacobWolf</td>\n",
       "      <td>Jacob Wolf</td>\n",
       "      <td>Crazy how much reputation the #LEC lost for pa...</td>\n",
       "      <td>0</td>\n",
       "      <td>3</td>\n",
       "      <td>1505</td>\n",
       "      <td>28</td>\n",
       "      <td>50</td>\n",
       "      <td>4</td>\n",
       "      <td>...</td>\n",
       "      <td>Austin, TX</td>\n",
       "      <td>https://pbs.twimg.com/profile_banners/33654848...</td>\n",
       "      <td>https://www.twitter.com/JacobWolf</td>\n",
       "      <td>https://pbs.twimg.com/profile_images/134582333...</td>\n",
       "      <td>False</td>\n",
       "      <td>True</td>\n",
       "      <td>2011-07-16</td>\n",
       "      <td>(Austin, Travis County, Texas, United States, ...</td>\n",
       "      <td>30.271129</td>\n",
       "      <td>-97.743700</td>\n",
       "    </tr>\n",
       "    <tr>\n",
       "      <th>2</th>\n",
       "      <td>1288953507492618242</td>\n",
       "      <td>JacobWolf</td>\n",
       "      <td>Jacob Wolf</td>\n",
       "      <td>Regarding speculation that #LEC teams having v...</td>\n",
       "      <td>0</td>\n",
       "      <td>1</td>\n",
       "      <td>248</td>\n",
       "      <td>5</td>\n",
       "      <td>20</td>\n",
       "      <td>6</td>\n",
       "      <td>...</td>\n",
       "      <td>Austin, TX</td>\n",
       "      <td>https://pbs.twimg.com/profile_banners/33654848...</td>\n",
       "      <td>https://www.twitter.com/JacobWolf</td>\n",
       "      <td>https://pbs.twimg.com/profile_images/134582333...</td>\n",
       "      <td>False</td>\n",
       "      <td>True</td>\n",
       "      <td>2011-07-16</td>\n",
       "      <td>(Austin, Travis County, Texas, United States, ...</td>\n",
       "      <td>30.271129</td>\n",
       "      <td>-97.743700</td>\n",
       "    </tr>\n",
       "    <tr>\n",
       "      <th>3</th>\n",
       "      <td>1625140182499352576</td>\n",
       "      <td>NOHEATED</td>\n",
       "      <td>NOHEATED🇺🇦</td>\n",
       "      <td>@MShadov @erasus_dk @MmX_A_ @G2esports @Carlos...</td>\n",
       "      <td>46</td>\n",
       "      <td>0</td>\n",
       "      <td>0</td>\n",
       "      <td>1</td>\n",
       "      <td>0</td>\n",
       "      <td>0</td>\n",
       "      <td>...</td>\n",
       "      <td>Ukraine, Dnipro</td>\n",
       "      <td>https://pbs.twimg.com/profile_banners/24156873...</td>\n",
       "      <td>https://www.twitter.com/NOHEATED</td>\n",
       "      <td>https://pbs.twimg.com/profile_images/151380101...</td>\n",
       "      <td>False</td>\n",
       "      <td>False</td>\n",
       "      <td>2014-03-16</td>\n",
       "      <td>(Дніпро, Дніпровська міська громада, Дніпровсь...</td>\n",
       "      <td>48.468022</td>\n",
       "      <td>35.041771</td>\n",
       "    </tr>\n",
       "    <tr>\n",
       "      <th>4</th>\n",
       "      <td>1288994390552252418</td>\n",
       "      <td>MShent1238</td>\n",
       "      <td>Shent🐀</td>\n",
       "      <td>@iiLoVE18 @PoliticsAndMem2 @VewNizion @BGBFG14...</td>\n",
       "      <td>0</td>\n",
       "      <td>0</td>\n",
       "      <td>0</td>\n",
       "      <td>1</td>\n",
       "      <td>0</td>\n",
       "      <td>0</td>\n",
       "      <td>...</td>\n",
       "      <td>NaN</td>\n",
       "      <td>https://pbs.twimg.com/profile_banners/84175617...</td>\n",
       "      <td>https://www.twitter.com/MShent1238</td>\n",
       "      <td>https://pbs.twimg.com/profile_images/978360163...</td>\n",
       "      <td>False</td>\n",
       "      <td>False</td>\n",
       "      <td>2017-03-14</td>\n",
       "      <td>(Nanno, Ville d'Anaunia, Comunità della Val di...</td>\n",
       "      <td>46.314475</td>\n",
       "      <td>11.048029</td>\n",
       "    </tr>\n",
       "  </tbody>\n",
       "</table>\n",
       "<p>5 rows × 41 columns</p>\n",
       "</div>"
      ],
      "text/plain": [
       "              tweet_id    username    full_name  \\\n",
       "0  1293716451522560000     Slasher  Rod Breslau   \n",
       "1  1288667916087562240   JacobWolf   Jacob Wolf   \n",
       "2  1288953507492618242   JacobWolf   Jacob Wolf   \n",
       "3  1625140182499352576    NOHEATED   NOHEATED🇺🇦   \n",
       "4  1288994390552252418  MShent1238       Shent🐀   \n",
       "\n",
       "                                           full_text  view_count  \\\n",
       "0  if Riot never rescinded their LEC NEOM sponsor...           0   \n",
       "1  Crazy how much reputation the #LEC lost for pa...           0   \n",
       "2  Regarding speculation that #LEC teams having v...           0   \n",
       "3  @MShadov @erasus_dk @MmX_A_ @G2esports @Carlos...          46   \n",
       "4  @iiLoVE18 @PoliticsAndMem2 @VewNizion @BGBFG14...           0   \n",
       "\n",
       "   bookmark_count  favorite_count  reply_count  retweet_count  quote_count  \\\n",
       "0               2             984            6             46            1   \n",
       "1               3            1505           28             50            4   \n",
       "2               1             248            5             20            6   \n",
       "3               0               0            1              0            0   \n",
       "4               0               0            1              0            0   \n",
       "\n",
       "   ...         location                                 profile_banner_url  \\\n",
       "0  ...    Manhattan, NY  https://pbs.twimg.com/profile_banners/19040580...   \n",
       "1  ...       Austin, TX  https://pbs.twimg.com/profile_banners/33654848...   \n",
       "2  ...       Austin, TX  https://pbs.twimg.com/profile_banners/33654848...   \n",
       "3  ...  Ukraine, Dnipro  https://pbs.twimg.com/profile_banners/24156873...   \n",
       "4  ...              NaN  https://pbs.twimg.com/profile_banners/84175617...   \n",
       "\n",
       "                          profile_url  \\\n",
       "0     https://www.twitter.com/Slasher   \n",
       "1   https://www.twitter.com/JacobWolf   \n",
       "2   https://www.twitter.com/JacobWolf   \n",
       "3    https://www.twitter.com/NOHEATED   \n",
       "4  https://www.twitter.com/MShent1238   \n",
       "\n",
       "                                          avatar_url  verified  \\\n",
       "0  https://pbs.twimg.com/profile_images/130227366...     False   \n",
       "1  https://pbs.twimg.com/profile_images/134582333...     False   \n",
       "2  https://pbs.twimg.com/profile_images/134582333...     False   \n",
       "3  https://pbs.twimg.com/profile_images/151380101...     False   \n",
       "4  https://pbs.twimg.com/profile_images/978360163...     False   \n",
       "\n",
       "  is_blue_verified user_created_at  \\\n",
       "0            False      2009-01-15   \n",
       "1             True      2011-07-16   \n",
       "2             True      2011-07-16   \n",
       "3            False      2014-03-16   \n",
       "4            False      2017-03-14   \n",
       "\n",
       "                                        acc_location        lat        lon  \n",
       "0  (Manhattan, New York County, City of New York,...  40.789624 -73.959894  \n",
       "1  (Austin, Travis County, Texas, United States, ...  30.271129 -97.743700  \n",
       "2  (Austin, Travis County, Texas, United States, ...  30.271129 -97.743700  \n",
       "3  (Дніпро, Дніпровська міська громада, Дніпровсь...  48.468022  35.041771  \n",
       "4  (Nanno, Ville d'Anaunia, Comunità della Val di...  46.314475  11.048029  \n",
       "\n",
       "[5 rows x 41 columns]"
      ]
     },
     "execution_count": 12,
     "metadata": {},
     "output_type": "execute_result"
    }
   ],
   "source": [
    "# Assigns rate-limited version of \"geocode\" method to \"geocode\" variable - minimum delay set to 0.1 seconds\n",
    "geocode = RateLimiter(geolocator.geocode, min_delay_seconds=0.1)\n",
    "\n",
    "# Creates \"location\", \"lat\", \"lon\" columns in \"tweets\", applies geocoding to existing \"location\" column\n",
    "# Retrieves approximate location, lat, lon data - data is assigned to each column\n",
    "tweets['acc_location'] = tweets['location'].apply(geocode)\n",
    "tweets['lat'] = tweets['acc_location'].apply(lambda x: x.latitude if x else None)\n",
    "tweets['lon'] = tweets['acc_location'].apply(lambda x: x.longitude if x else None)\n",
    "\n",
    "# Drops null values from \"tweets\", creates new DataFrame \"tweets_geo\", displays head (top 5) of \"tweets_geo\"\n",
    "tweets_geo=tweets\n",
    "tweets_geo.head()"
   ]
  },
  {
   "cell_type": "code",
   "execution_count": 13,
   "metadata": {},
   "outputs": [
    {
     "data": {
      "text/html": [
       "<div>\n",
       "<style scoped>\n",
       "    .dataframe tbody tr th:only-of-type {\n",
       "        vertical-align: middle;\n",
       "    }\n",
       "\n",
       "    .dataframe tbody tr th {\n",
       "        vertical-align: top;\n",
       "    }\n",
       "\n",
       "    .dataframe thead th {\n",
       "        text-align: right;\n",
       "    }\n",
       "</style>\n",
       "<table border=\"1\" class=\"dataframe\">\n",
       "  <thead>\n",
       "    <tr style=\"text-align: right;\">\n",
       "      <th></th>\n",
       "      <th>tweet_id</th>\n",
       "      <th>username</th>\n",
       "      <th>full_name</th>\n",
       "      <th>full_text</th>\n",
       "      <th>view_count</th>\n",
       "      <th>bookmark_count</th>\n",
       "      <th>favorite_count</th>\n",
       "      <th>reply_count</th>\n",
       "      <th>retweet_count</th>\n",
       "      <th>quote_count</th>\n",
       "      <th>...</th>\n",
       "      <th>location</th>\n",
       "      <th>profile_banner_url</th>\n",
       "      <th>profile_url</th>\n",
       "      <th>avatar_url</th>\n",
       "      <th>verified</th>\n",
       "      <th>is_blue_verified</th>\n",
       "      <th>user_created_at</th>\n",
       "      <th>acc_location</th>\n",
       "      <th>lat</th>\n",
       "      <th>lon</th>\n",
       "    </tr>\n",
       "  </thead>\n",
       "  <tbody>\n",
       "    <tr>\n",
       "      <th>88</th>\n",
       "      <td>1288913105850753024</td>\n",
       "      <td>EsportzNetwork</td>\n",
       "      <td>Esportz Network</td>\n",
       "      <td>Just 15 hours after announcing a partnership b...</td>\n",
       "      <td>0</td>\n",
       "      <td>0</td>\n",
       "      <td>7</td>\n",
       "      <td>1</td>\n",
       "      <td>0</td>\n",
       "      <td>1</td>\n",
       "      <td>...</td>\n",
       "      <td>NaN</td>\n",
       "      <td>https://pbs.twimg.com/profile_banners/10900277...</td>\n",
       "      <td>https://www.twitter.com/EsportzNetwork</td>\n",
       "      <td>https://pbs.twimg.com/profile_images/128173745...</td>\n",
       "      <td>False</td>\n",
       "      <td>False</td>\n",
       "      <td>2019-01-28</td>\n",
       "      <td>(Nanno, Ville d'Anaunia, Comunità della Val di...</td>\n",
       "      <td>46.314475</td>\n",
       "      <td>11.048029</td>\n",
       "    </tr>\n",
       "    <tr>\n",
       "      <th>89</th>\n",
       "      <td>1289031558607773696</td>\n",
       "      <td>InvenGlobal</td>\n",
       "      <td>Inven Global</td>\n",
       "      <td>[#LEC] The @LEC Broadcast crew put their jobs ...</td>\n",
       "      <td>0</td>\n",
       "      <td>0</td>\n",
       "      <td>179</td>\n",
       "      <td>5</td>\n",
       "      <td>18</td>\n",
       "      <td>1</td>\n",
       "      <td>...</td>\n",
       "      <td>NaN</td>\n",
       "      <td>https://pbs.twimg.com/profile_banners/77126446...</td>\n",
       "      <td>https://www.twitter.com/InvenGlobal</td>\n",
       "      <td>https://pbs.twimg.com/profile_images/144148328...</td>\n",
       "      <td>False</td>\n",
       "      <td>False</td>\n",
       "      <td>2016-09-01</td>\n",
       "      <td>(Nanno, Ville d'Anaunia, Comunità della Val di...</td>\n",
       "      <td>46.314475</td>\n",
       "      <td>11.048029</td>\n",
       "    </tr>\n",
       "    <tr>\n",
       "      <th>90</th>\n",
       "      <td>1302674343315595266</td>\n",
       "      <td>LauncherWP</td>\n",
       "      <td>Launcher</td>\n",
       "      <td>The LEC and NEOM was likely just the beginning...</td>\n",
       "      <td>0</td>\n",
       "      <td>0</td>\n",
       "      <td>2</td>\n",
       "      <td>0</td>\n",
       "      <td>0</td>\n",
       "      <td>0</td>\n",
       "      <td>...</td>\n",
       "      <td>Capital Wasteland</td>\n",
       "      <td>https://pbs.twimg.com/profile_banners/19213504...</td>\n",
       "      <td>https://www.twitter.com/LauncherWP</td>\n",
       "      <td>https://pbs.twimg.com/profile_images/118173634...</td>\n",
       "      <td>False</td>\n",
       "      <td>False</td>\n",
       "      <td>2013-09-30</td>\n",
       "      <td>(Wasteland, Studiestræde, Pisserenden, Indre B...</td>\n",
       "      <td>55.678649</td>\n",
       "      <td>12.569783</td>\n",
       "    </tr>\n",
       "    <tr>\n",
       "      <th>91</th>\n",
       "      <td>1291066165645570048</td>\n",
       "      <td>moonduckTV</td>\n",
       "      <td>moonduckTV</td>\n",
       "      <td>EP162 of the @TrentPax &amp;amp; @ZyoriTV Podcast\\...</td>\n",
       "      <td>0</td>\n",
       "      <td>0</td>\n",
       "      <td>9</td>\n",
       "      <td>0</td>\n",
       "      <td>1</td>\n",
       "      <td>0</td>\n",
       "      <td>...</td>\n",
       "      <td>United States</td>\n",
       "      <td>https://pbs.twimg.com/profile_banners/34326555...</td>\n",
       "      <td>https://www.twitter.com/moonduckTV</td>\n",
       "      <td>https://pbs.twimg.com/profile_images/637309248...</td>\n",
       "      <td>False</td>\n",
       "      <td>False</td>\n",
       "      <td>2015-08-20</td>\n",
       "      <td>(United States, (39.7837304, -100.445882))</td>\n",
       "      <td>39.783730</td>\n",
       "      <td>-100.445882</td>\n",
       "    </tr>\n",
       "    <tr>\n",
       "      <th>92</th>\n",
       "      <td>1288662430441144321</td>\n",
       "      <td>jfudge</td>\n",
       "      <td>James B Fudge</td>\n",
       "      <td>Credit to all the @riotgames employees that st...</td>\n",
       "      <td>0</td>\n",
       "      <td>0</td>\n",
       "      <td>1</td>\n",
       "      <td>0</td>\n",
       "      <td>0</td>\n",
       "      <td>0</td>\n",
       "      <td>...</td>\n",
       "      <td>Berkshire County, Ma</td>\n",
       "      <td>https://pbs.twimg.com/profile_banners/15828915...</td>\n",
       "      <td>https://www.twitter.com/jfudge</td>\n",
       "      <td>https://pbs.twimg.com/profile_images/154758079...</td>\n",
       "      <td>False</td>\n",
       "      <td>True</td>\n",
       "      <td>2008-08-12</td>\n",
       "      <td>(Berkshire County, Massachusetts, United State...</td>\n",
       "      <td>42.399995</td>\n",
       "      <td>-73.232264</td>\n",
       "    </tr>\n",
       "  </tbody>\n",
       "</table>\n",
       "<p>5 rows × 41 columns</p>\n",
       "</div>"
      ],
      "text/plain": [
       "               tweet_id        username        full_name  \\\n",
       "88  1288913105850753024  EsportzNetwork  Esportz Network   \n",
       "89  1289031558607773696     InvenGlobal     Inven Global   \n",
       "90  1302674343315595266      LauncherWP         Launcher   \n",
       "91  1291066165645570048      moonduckTV       moonduckTV   \n",
       "92  1288662430441144321          jfudge    James B Fudge   \n",
       "\n",
       "                                            full_text  view_count  \\\n",
       "88  Just 15 hours after announcing a partnership b...           0   \n",
       "89  [#LEC] The @LEC Broadcast crew put their jobs ...           0   \n",
       "90  The LEC and NEOM was likely just the beginning...           0   \n",
       "91  EP162 of the @TrentPax &amp; @ZyoriTV Podcast\\...           0   \n",
       "92  Credit to all the @riotgames employees that st...           0   \n",
       "\n",
       "    bookmark_count  favorite_count  reply_count  retweet_count  quote_count  \\\n",
       "88               0               7            1              0            1   \n",
       "89               0             179            5             18            1   \n",
       "90               0               2            0              0            0   \n",
       "91               0               9            0              1            0   \n",
       "92               0               1            0              0            0   \n",
       "\n",
       "    ...              location  \\\n",
       "88  ...                   NaN   \n",
       "89  ...                   NaN   \n",
       "90  ...     Capital Wasteland   \n",
       "91  ...         United States   \n",
       "92  ...  Berkshire County, Ma   \n",
       "\n",
       "                                   profile_banner_url  \\\n",
       "88  https://pbs.twimg.com/profile_banners/10900277...   \n",
       "89  https://pbs.twimg.com/profile_banners/77126446...   \n",
       "90  https://pbs.twimg.com/profile_banners/19213504...   \n",
       "91  https://pbs.twimg.com/profile_banners/34326555...   \n",
       "92  https://pbs.twimg.com/profile_banners/15828915...   \n",
       "\n",
       "                               profile_url  \\\n",
       "88  https://www.twitter.com/EsportzNetwork   \n",
       "89     https://www.twitter.com/InvenGlobal   \n",
       "90      https://www.twitter.com/LauncherWP   \n",
       "91      https://www.twitter.com/moonduckTV   \n",
       "92          https://www.twitter.com/jfudge   \n",
       "\n",
       "                                           avatar_url  verified  \\\n",
       "88  https://pbs.twimg.com/profile_images/128173745...     False   \n",
       "89  https://pbs.twimg.com/profile_images/144148328...     False   \n",
       "90  https://pbs.twimg.com/profile_images/118173634...     False   \n",
       "91  https://pbs.twimg.com/profile_images/637309248...     False   \n",
       "92  https://pbs.twimg.com/profile_images/154758079...     False   \n",
       "\n",
       "   is_blue_verified user_created_at  \\\n",
       "88            False      2019-01-28   \n",
       "89            False      2016-09-01   \n",
       "90            False      2013-09-30   \n",
       "91            False      2015-08-20   \n",
       "92             True      2008-08-12   \n",
       "\n",
       "                                         acc_location        lat         lon  \n",
       "88  (Nanno, Ville d'Anaunia, Comunità della Val di...  46.314475   11.048029  \n",
       "89  (Nanno, Ville d'Anaunia, Comunità della Val di...  46.314475   11.048029  \n",
       "90  (Wasteland, Studiestræde, Pisserenden, Indre B...  55.678649   12.569783  \n",
       "91         (United States, (39.7837304, -100.445882))  39.783730 -100.445882  \n",
       "92  (Berkshire County, Massachusetts, United State...  42.399995  -73.232264  \n",
       "\n",
       "[5 rows x 41 columns]"
      ]
     },
     "execution_count": 13,
     "metadata": {},
     "output_type": "execute_result"
    }
   ],
   "source": [
    "tweets_geo.tail()"
   ]
  },
  {
   "attachments": {},
   "cell_type": "markdown",
   "metadata": {},
   "source": [
    "To obtain more accurate geographical information for each tweet, we utilised Nominatim, a powerful geolocating tool from geopy that queries OpenStreetMap (OSM) data to find locations on Earth based on their name or address. The 'location' column from the dataset was used as a starting point to search for each user's approximate location. Nominatim generated a new 'acc_location' column that contains the name of the nearest location to the user's reported location. Additionally, it provided the latitude and longitude coordinates of each location, which we extracted into separate 'lat' and 'lon' columns. This allows us to plot each tweet on a map with greater accuracy and detail.\n",
    "\n",
    "After running the geolocator on our dataset sample, we must use the dropna function again as there may be some null values generated from the geolocator."
   ]
  },
  {
   "cell_type": "code",
   "execution_count": 14,
   "metadata": {},
   "outputs": [
    {
     "data": {
      "text/html": [
       "<div>\n",
       "<style scoped>\n",
       "    .dataframe tbody tr th:only-of-type {\n",
       "        vertical-align: middle;\n",
       "    }\n",
       "\n",
       "    .dataframe tbody tr th {\n",
       "        vertical-align: top;\n",
       "    }\n",
       "\n",
       "    .dataframe thead th {\n",
       "        text-align: right;\n",
       "    }\n",
       "</style>\n",
       "<table border=\"1\" class=\"dataframe\">\n",
       "  <thead>\n",
       "    <tr style=\"text-align: right;\">\n",
       "      <th></th>\n",
       "      <th>tweet_id</th>\n",
       "      <th>username</th>\n",
       "      <th>full_name</th>\n",
       "      <th>full_text</th>\n",
       "      <th>view_count</th>\n",
       "      <th>bookmark_count</th>\n",
       "      <th>favorite_count</th>\n",
       "      <th>reply_count</th>\n",
       "      <th>retweet_count</th>\n",
       "      <th>quote_count</th>\n",
       "      <th>...</th>\n",
       "      <th>profile_banner_url</th>\n",
       "      <th>profile_url</th>\n",
       "      <th>avatar_url</th>\n",
       "      <th>verified</th>\n",
       "      <th>is_blue_verified</th>\n",
       "      <th>user_created_at</th>\n",
       "      <th>acc_location</th>\n",
       "      <th>lat</th>\n",
       "      <th>lon</th>\n",
       "      <th>geometry</th>\n",
       "    </tr>\n",
       "  </thead>\n",
       "  <tbody>\n",
       "    <tr>\n",
       "      <th>0</th>\n",
       "      <td>1293716451522560000</td>\n",
       "      <td>Slasher</td>\n",
       "      <td>Rod Breslau</td>\n",
       "      <td>if Riot never rescinded their LEC NEOM sponsor...</td>\n",
       "      <td>0</td>\n",
       "      <td>2</td>\n",
       "      <td>984</td>\n",
       "      <td>6</td>\n",
       "      <td>46</td>\n",
       "      <td>1</td>\n",
       "      <td>...</td>\n",
       "      <td>https://pbs.twimg.com/profile_banners/19040580...</td>\n",
       "      <td>https://www.twitter.com/Slasher</td>\n",
       "      <td>https://pbs.twimg.com/profile_images/130227366...</td>\n",
       "      <td>False</td>\n",
       "      <td>False</td>\n",
       "      <td>2009-01-15</td>\n",
       "      <td>(Manhattan, New York County, City of New York,...</td>\n",
       "      <td>40.789624</td>\n",
       "      <td>-73.959894</td>\n",
       "      <td>POINT (-73.95989 40.78962)</td>\n",
       "    </tr>\n",
       "    <tr>\n",
       "      <th>1</th>\n",
       "      <td>1288667916087562240</td>\n",
       "      <td>JacobWolf</td>\n",
       "      <td>Jacob Wolf</td>\n",
       "      <td>Crazy how much reputation the #LEC lost for pa...</td>\n",
       "      <td>0</td>\n",
       "      <td>3</td>\n",
       "      <td>1505</td>\n",
       "      <td>28</td>\n",
       "      <td>50</td>\n",
       "      <td>4</td>\n",
       "      <td>...</td>\n",
       "      <td>https://pbs.twimg.com/profile_banners/33654848...</td>\n",
       "      <td>https://www.twitter.com/JacobWolf</td>\n",
       "      <td>https://pbs.twimg.com/profile_images/134582333...</td>\n",
       "      <td>False</td>\n",
       "      <td>True</td>\n",
       "      <td>2011-07-16</td>\n",
       "      <td>(Austin, Travis County, Texas, United States, ...</td>\n",
       "      <td>30.271129</td>\n",
       "      <td>-97.743700</td>\n",
       "      <td>POINT (-97.74370 30.27113)</td>\n",
       "    </tr>\n",
       "    <tr>\n",
       "      <th>2</th>\n",
       "      <td>1288953507492618242</td>\n",
       "      <td>JacobWolf</td>\n",
       "      <td>Jacob Wolf</td>\n",
       "      <td>Regarding speculation that #LEC teams having v...</td>\n",
       "      <td>0</td>\n",
       "      <td>1</td>\n",
       "      <td>248</td>\n",
       "      <td>5</td>\n",
       "      <td>20</td>\n",
       "      <td>6</td>\n",
       "      <td>...</td>\n",
       "      <td>https://pbs.twimg.com/profile_banners/33654848...</td>\n",
       "      <td>https://www.twitter.com/JacobWolf</td>\n",
       "      <td>https://pbs.twimg.com/profile_images/134582333...</td>\n",
       "      <td>False</td>\n",
       "      <td>True</td>\n",
       "      <td>2011-07-16</td>\n",
       "      <td>(Austin, Travis County, Texas, United States, ...</td>\n",
       "      <td>30.271129</td>\n",
       "      <td>-97.743700</td>\n",
       "      <td>POINT (-97.74370 30.27113)</td>\n",
       "    </tr>\n",
       "    <tr>\n",
       "      <th>3</th>\n",
       "      <td>1625140182499352576</td>\n",
       "      <td>NOHEATED</td>\n",
       "      <td>NOHEATED🇺🇦</td>\n",
       "      <td>@MShadov @erasus_dk @MmX_A_ @G2esports @Carlos...</td>\n",
       "      <td>46</td>\n",
       "      <td>0</td>\n",
       "      <td>0</td>\n",
       "      <td>1</td>\n",
       "      <td>0</td>\n",
       "      <td>0</td>\n",
       "      <td>...</td>\n",
       "      <td>https://pbs.twimg.com/profile_banners/24156873...</td>\n",
       "      <td>https://www.twitter.com/NOHEATED</td>\n",
       "      <td>https://pbs.twimg.com/profile_images/151380101...</td>\n",
       "      <td>False</td>\n",
       "      <td>False</td>\n",
       "      <td>2014-03-16</td>\n",
       "      <td>(Дніпро, Дніпровська міська громада, Дніпровсь...</td>\n",
       "      <td>48.468022</td>\n",
       "      <td>35.041771</td>\n",
       "      <td>POINT (35.04177 48.46802)</td>\n",
       "    </tr>\n",
       "    <tr>\n",
       "      <th>4</th>\n",
       "      <td>1288994390552252418</td>\n",
       "      <td>MShent1238</td>\n",
       "      <td>Shent🐀</td>\n",
       "      <td>@iiLoVE18 @PoliticsAndMem2 @VewNizion @BGBFG14...</td>\n",
       "      <td>0</td>\n",
       "      <td>0</td>\n",
       "      <td>0</td>\n",
       "      <td>1</td>\n",
       "      <td>0</td>\n",
       "      <td>0</td>\n",
       "      <td>...</td>\n",
       "      <td>https://pbs.twimg.com/profile_banners/84175617...</td>\n",
       "      <td>https://www.twitter.com/MShent1238</td>\n",
       "      <td>https://pbs.twimg.com/profile_images/978360163...</td>\n",
       "      <td>False</td>\n",
       "      <td>False</td>\n",
       "      <td>2017-03-14</td>\n",
       "      <td>(Nanno, Ville d'Anaunia, Comunità della Val di...</td>\n",
       "      <td>46.314475</td>\n",
       "      <td>11.048029</td>\n",
       "      <td>POINT (11.04803 46.31448)</td>\n",
       "    </tr>\n",
       "  </tbody>\n",
       "</table>\n",
       "<p>5 rows × 42 columns</p>\n",
       "</div>"
      ],
      "text/plain": [
       "              tweet_id    username    full_name  \\\n",
       "0  1293716451522560000     Slasher  Rod Breslau   \n",
       "1  1288667916087562240   JacobWolf   Jacob Wolf   \n",
       "2  1288953507492618242   JacobWolf   Jacob Wolf   \n",
       "3  1625140182499352576    NOHEATED   NOHEATED🇺🇦   \n",
       "4  1288994390552252418  MShent1238       Shent🐀   \n",
       "\n",
       "                                           full_text  view_count  \\\n",
       "0  if Riot never rescinded their LEC NEOM sponsor...           0   \n",
       "1  Crazy how much reputation the #LEC lost for pa...           0   \n",
       "2  Regarding speculation that #LEC teams having v...           0   \n",
       "3  @MShadov @erasus_dk @MmX_A_ @G2esports @Carlos...          46   \n",
       "4  @iiLoVE18 @PoliticsAndMem2 @VewNizion @BGBFG14...           0   \n",
       "\n",
       "   bookmark_count  favorite_count  reply_count  retweet_count  quote_count  \\\n",
       "0               2             984            6             46            1   \n",
       "1               3            1505           28             50            4   \n",
       "2               1             248            5             20            6   \n",
       "3               0               0            1              0            0   \n",
       "4               0               0            1              0            0   \n",
       "\n",
       "   ...                                 profile_banner_url  \\\n",
       "0  ...  https://pbs.twimg.com/profile_banners/19040580...   \n",
       "1  ...  https://pbs.twimg.com/profile_banners/33654848...   \n",
       "2  ...  https://pbs.twimg.com/profile_banners/33654848...   \n",
       "3  ...  https://pbs.twimg.com/profile_banners/24156873...   \n",
       "4  ...  https://pbs.twimg.com/profile_banners/84175617...   \n",
       "\n",
       "                          profile_url  \\\n",
       "0     https://www.twitter.com/Slasher   \n",
       "1   https://www.twitter.com/JacobWolf   \n",
       "2   https://www.twitter.com/JacobWolf   \n",
       "3    https://www.twitter.com/NOHEATED   \n",
       "4  https://www.twitter.com/MShent1238   \n",
       "\n",
       "                                          avatar_url  verified  \\\n",
       "0  https://pbs.twimg.com/profile_images/130227366...     False   \n",
       "1  https://pbs.twimg.com/profile_images/134582333...     False   \n",
       "2  https://pbs.twimg.com/profile_images/134582333...     False   \n",
       "3  https://pbs.twimg.com/profile_images/151380101...     False   \n",
       "4  https://pbs.twimg.com/profile_images/978360163...     False   \n",
       "\n",
       "   is_blue_verified user_created_at  \\\n",
       "0             False      2009-01-15   \n",
       "1              True      2011-07-16   \n",
       "2              True      2011-07-16   \n",
       "3             False      2014-03-16   \n",
       "4             False      2017-03-14   \n",
       "\n",
       "                                        acc_location        lat        lon  \\\n",
       "0  (Manhattan, New York County, City of New York,...  40.789624 -73.959894   \n",
       "1  (Austin, Travis County, Texas, United States, ...  30.271129 -97.743700   \n",
       "2  (Austin, Travis County, Texas, United States, ...  30.271129 -97.743700   \n",
       "3  (Дніпро, Дніпровська міська громада, Дніпровсь...  48.468022  35.041771   \n",
       "4  (Nanno, Ville d'Anaunia, Comunità della Val di...  46.314475  11.048029   \n",
       "\n",
       "                     geometry  \n",
       "0  POINT (-73.95989 40.78962)  \n",
       "1  POINT (-97.74370 30.27113)  \n",
       "2  POINT (-97.74370 30.27113)  \n",
       "3   POINT (35.04177 48.46802)  \n",
       "4   POINT (11.04803 46.31448)  \n",
       "\n",
       "[5 rows x 42 columns]"
      ]
     },
     "execution_count": 14,
     "metadata": {},
     "output_type": "execute_result"
    }
   ],
   "source": [
    "# Create Point objects from data in \"lat\" and \"lon\" columns in \"tweets_geo\" DataFrame\n",
    "# Use Coordinate Reference System (CRS) EPSG code 4326 - most common for GPS coordinates - assign to \"crs\" object \n",
    "geometry=[Point(xy) for xy in zip(tweets_geo['lon'], tweets_geo['lat'])]\n",
    "crs=pyproj.CRS('epsg:4326')\n",
    "\n",
    "# Update DataFrame \"tweets_geo\" to GeoDataFrame - add \"geometry\" column with Point data - using CRS code from \"crs\"\n",
    "tweets_geo=gpd.GeoDataFrame(tweets_geo, crs=crs, geometry=geometry)\n",
    "\n",
    "# Drops null values from \"tweets_geo\", creates new DataFrame \"tweets_final\", displays head (top 5) of \"tweets_final\"\n",
    "tweets_final=tweets_geo\n",
    "tweets_final.head()"
   ]
  },
  {
   "attachments": {},
   "cell_type": "markdown",
   "metadata": {},
   "source": [
    "With the latitude and longitude coordinates now available in the 'tweets_geo' DataFrame, we can create a new column that combines them into a 'POINT' object using the 'geometry' library. This can be achieved by creating a list of Points, with each Point being a pair of (longitude, latitude) coordinates extracted from the corresponding row in 'tweets_geo'. This new 'geometry' list is then added as a new column to 'tweets_geo'.\n",
    "\n",
    "We also need to define the coordinate reference system (CRS) of the data to enable accurate geographic visualization. In this case, we use the pyproj library to create a CRS object with the EPSG code 4326, which is the standard for GPS coordinates.\n",
    "\n",
    "Before plotting any data on any charts, we display what the dataset looks like at this stage to ensure everything is stored correctly."
   ]
  },
  {
   "attachments": {},
   "cell_type": "markdown",
   "metadata": {},
   "source": [
    "##### Plotting the Data"
   ]
  },
  {
   "cell_type": "code",
   "execution_count": 15,
   "metadata": {},
   "outputs": [
    {
     "data": {
      "image/png": "[encoded data removed]",
      "text/plain": [
       "<Figure size 800x800 with 1 Axes>"
      ]
     },
     "metadata": {},
     "output_type": "display_data"
    }
   ],
   "source": [
    "# Create DataFrame \"all_tweets\" with \"text\" data from \"tweets_final\" DataFrame - assign string data type\n",
    "all_tweets = ' '.join(tweets_final['full_text'].astype(str))\n",
    "\n",
    "# Create the WordCloud using data from \"all_tweets\", including the plot width, the plot height and the plot background colour \n",
    "textwordcloud = WordCloud(width=900,\n",
    "                          height=450,\n",
    "                          background_color='white').generate(all_tweets)\n",
    "\n",
    "# Plot the WorldCloud\n",
    "plt.figure(figsize = (8, 8), facecolor = None)\n",
    "plt.imshow(textwordcloud)\n",
    "plt.axis(\"off\")\n",
    "plt.tight_layout(pad = 0)\n",
    "\n",
    "# Show the WordCloud figure\n",
    "plt.show()"
   ]
  },
  {
   "attachments": {},
   "cell_type": "markdown",
   "metadata": {},
   "source": [
    "Producing a WordCloud gives us a visual representation of the amount each word in the \"full_text\" column in our DataFrame is being said."
   ]
  },
  {
   "cell_type": "code",
   "execution_count": 16,
   "metadata": {},
   "outputs": [
    {
     "data": {
      "application/vnd.plotly.v1+json": {
       "config": {
        "plotlyServerURL": "https://plot.ly"
       },
       "data": [
        {
         "lat": [
          40.7896239,
          30.2711286,
          30.2711286,
          48.4680221,
          46.3144754,
          4.4320637,
          34.0536909,
          null,
          46.3144754,
          52.5170365,
          30.2711286,
          50.2555218,
          null,
          null,
          38.8950368,
          56.7861112,
          -28.0752851,
          60.277614299999996,
          46.3144754,
          51.5073359,
          61.1529386,
          41.9538873,
          50.2555218,
          52.5170365,
          46.3144754,
          46.3144754,
          51.5073359,
          48.1012954,
          -0.26019000000000003,
          46.3144754,
          null,
          49.8975651,
          46.3144754,
          46.3144754,
          46.3144754,
          46.3144754,
          null,
          34.0536909,
          52.5170365,
          null,
          46.3144754,
          39.7837304,
          46.3144754,
          34.0536909,
          46.3144754,
          52.4796992,
          43.6211955,
          34.093042,
          55.670249,
          null,
          46.769379,
          55.670249,
          50.416667,
          45.022172,
          null,
          46.3144754,
          50.8550018,
          46.3144754,
          -34.0717253,
          52.865196,
          52.5170365,
          46.3144754,
          51.5073359,
          46.3144754,
          46.3144754,
          null,
          32.4610708,
          46.3144754,
          46.603354,
          46.3144754,
          -34.6075682,
          34.0536909,
          8.7712794,
          34.0536909,
          46.3144754,
          41.8755616,
          30.2711286,
          57.0462626,
          43.6534817,
          32.7762719,
          46.3144754,
          40.7127281,
          51.14804,
          40.7127281,
          46.3144754,
          42.3999954,
          null,
          46.3144754,
          46.3144754,
          46.3144754,
          55.6786485,
          39.7837304,
          42.3999954
         ],
         "lon": [
          -73.9598939,
          -97.7436995,
          -97.7436995,
          35.0417711,
          11.0480288,
          -75.2477734,
          -118.242766,
          null,
          11.0480288,
          13.3888599,
          -97.7436995,
          8.974959398792844,
          null,
          null,
          -77.0365427,
          -4.1140518,
          153.3637173,
          -1.1258082645868739,
          11.0480288,
          -0.12765,
          8.7876653,
          -87.654928,
          8.974959398792844,
          13.3888599,
          11.0480288,
          11.0480288,
          -0.12765,
          66.7780818,
          -90.72254665048543,
          11.0480288,
          null,
          6.8502714,
          11.0480288,
          11.0480288,
          11.0480288,
          11.0480288,
          null,
          -118.242766,
          13.3888599,
          null,
          11.0480288,
          -100.445882,
          11.0480288,
          -118.242766,
          11.0480288,
          -1.9026911,
          -84.6824346,
          -118.12706,
          10.3333283,
          null,
          23.5899542,
          10.3333283,
          -4.75,
          4.3221548,
          null,
          11.0480288,
          4.3512333761166175,
          11.0480288,
          151.04929585694757,
          -7.9794599,
          13.3888599,
          11.0480288,
          -0.12765,
          11.0480288,
          11.0480288,
          null,
          -84.9880449,
          11.0480288,
          1.8883335,
          11.0480288,
          -58.4370894,
          -118.242766,
          13.7803627,
          -118.242766,
          11.0480288,
          -87.6244212,
          -97.7436995,
          9.9215263,
          -79.3839347,
          -96.7968559,
          11.0480288,
          -74.0060152,
          -2.716577,
          -74.0060152,
          11.0480288,
          -73.2322639,
          null,
          11.0480288,
          11.0480288,
          11.0480288,
          12.5697826,
          -100.445882,
          -73.2322639
         ],
         "marker": {
          "colorscale": [
           [
            0,
            "rgb(243, 231, 155)"
           ],
           [
            0.16666666666666666,
            "rgb(250, 196, 132)"
           ],
           [
            0.3333333333333333,
            "rgb(248, 160, 126)"
           ],
           [
            0.5,
            "rgb(235, 127, 134)"
           ],
           [
            0.6666666666666666,
            "rgb(206, 102, 147)"
           ],
           [
            0.8333333333333334,
            "rgb(160, 89, 160)"
           ],
           [
            1,
            "rgb(92, 83, 165)"
           ]
          ],
          "opacity": 0.8,
          "size": 7.5,
          "symbol": "circle"
         },
         "mode": "markers",
         "text": [
          "<b>Name:</b> Slasher<br><b>User Location:</b> Manhattan, NY<br><b>Verified?</b> False<br><b>Date:</b> 2020-08-13<br><b>Tweet:</b> if Riot never rescinded their LEC NEOM sponsorship I don't see BLAST ever doing the same. Riot employees, LoL casters, and CSGO casters deserve all the praise for standing up for their beliefs, not to the executives who signed off on the deal to begin with https://t.co/M7WnV8uwas",
          "<b>Name:</b> JacobWolf<br><b>User Location:</b> Austin, TX<br><b>Verified?</b> False<br><b>Date:</b> 2020-07-30<br><b>Tweet:</b> Crazy how much reputation the #LEC lost for partnering with NEOM in the first place. It was arguably the most respect pro league by Western fans in the League of Legends space — as the #LCS has struggled to catch up — but seems a lot of that flew out the window today.",
          "<b>Name:</b> JacobWolf<br><b>User Location:</b> Austin, TX<br><b>Verified?</b> False<br><b>Date:</b> 2020-07-30<br><b>Tweet:</b> Regarding speculation that #LEC teams having voting power in league-wide sponsorships, they do not, sources told ESPN. Teams were notified of the NEOM deal but did not have a say for or against. \n\nhttps://t.co/d1cWqwVvSK",
          "<b>Name:</b> NOHEATED<br><b>User Location:</b> Ukraine, Dnipro<br><b>Verified?</b> False<br><b>Date:</b> 2023-02-13<br><b>Tweet:</b> @MShadov @erasus_dk @MmX_A_ @G2esports @CarlosR @HooXiCSGO New CEO not better tbh. The guy was responsible for the LEC Neom deal",
          "<b>Name:</b> MShent1238<br><b>User Location:</b> nan<br><b>Verified?</b> False<br><b>Date:</b> 2020-07-31<br><b>Tweet:</b> @iiLoVE18 @PoliticsAndMem2 @VewNizion @BGBFG14 @Kalytis_ @LEC @NEOM When u try to logically engage fundamentally illogical argument = u lost\n\nWhen you waste your time on homophobes = u lost",
          "<b>Name:</b> Lexandviolets<br><b>User Location:</b> Nowhere, CO<br><b>Verified?</b> False<br><b>Date:</b> 2020-07-30<br><b>Tweet:</b> @Tweeb1999 @Fenstick @TehHero117 @LEC @NEOM Not supporting any side. That's the easy way out. Some if us don't have a choice. You can try and play both sides then.",
          "<b>Name:</b> KappaChiino<br><b>User Location:</b> Los Angeles, CA<br><b>Verified?</b> False<br><b>Date:</b> 2020-12-03<br><b>Tweet:</b> @AfterLose @LEC @NEOM I went back to see the comments on this post, idk why, but man. You guys are sick in the head.",
          "<b>Name:</b> Geccobear<br><b>User Location:</b> Zamonien<br><b>Verified?</b> False<br><b>Date:</b> 2021-06-03<br><b>Tweet:</b> I don't know if it's just me... but seeing all these orgs changing their icons to rainbow colors sometimes feels like a big \"fuck you\" considering the everyday discrimination they ignore. It's only big scandals like the LEC NEOM partnership that forces reactions.",
          "<b>Name:</b> PrizeZepir<br><b>User Location:</b> nan<br><b>Verified?</b> False<br><b>Date:</b> 2022-09-24<br><b>Tweet:</b> @xghozin @Mayerdynn @Hughsie28 @LEC @NEOM you literally made all that up",
          "<b>Name:</b> DariusExMachina<br><b>User Location:</b> Berlin, Germany<br><b>Verified?</b> False<br><b>Date:</b> 2020-09-25<br><b>Tweet:</b> ngl, I think it‘s omegacringe how everyone was outraged at the #LEC NEOM deal, but no one bats an eye about the fact that PSG are sponsored by the state of Qatar, responsible for thousands of slave deaths within the last 5 years + having the same practice towards LGBTQ+ folk",
          "<b>Name:</b> IWDominate<br><b>User Location:</b> Austin, TX<br><b>Verified?</b> False<br><b>Date:</b> 2020-07-31<br><b>Tweet:</b> Regarding the segment on the LEC and NEOM, I did not speculate on what the Talent team should/shouldn't do.  I simply asked if we lose one of our best casters (Frosk) because of the statements and then deferred to my co-host and his opinion as someone who works as a caster.",
          "<b>Name:</b> TroZrat<br><b>User Location:</b> 22 he/him<br><b>Verified?</b> False<br><b>Date:</b> 2020-07-30<br><b>Tweet:</b> @Alpha_Canem @LEC @NEOM Move to mars or something we don't need you here.",
          "<b>Name:</b> RuneblowEX<br><b>User Location:</b> The Omnitard#4027 M 6'2\" (7\")<br><b>Verified?</b> False<br><b>Date:</b> 2020-07-30<br><b>Tweet:</b> @Nuyxo @Tweeb1999 @Fenstick @TehHero117 @LEC @NEOM I'm not taking any sides here but what about pedos and zoophiles?",
          "<b>Name:</b> RuneblowEX<br><b>User Location:</b> The Omnitard#4027 M 6'2\" (7\")<br><b>Verified?</b> False<br><b>Date:</b> 2020-07-30<br><b>Tweet:</b> @Nuyxo @Tweeb1999 @Fenstick @TehHero117 @LEC @NEOM fair enough, cant say ur wrong on that one",
          "<b>Name:</b> LewdPrune<br><b>User Location:</b> Washington<br><b>Verified?</b> False<br><b>Date:</b> 2020-07-30<br><b>Tweet:</b> @MikeHakansson @MeLlamanTamara_ @LEC @riotgames Neom is a city being built, the pet project of the Saudi Arabian Prince. So yes, it basically is the government for all intents and purposes except in business speak.",
          "<b>Name:</b> TheSeraphmin<br><b>User Location:</b> Scotland<br><b>Verified?</b> False<br><b>Date:</b> 2020-11-12<br><b>Tweet:</b> honestly riot has done some stupid and controversial things in the past, just look at the LEC neom fiasco, but now there's a genuine personal reason for why Seraphine is a terrible idea, and they really should just take the L on this",
          "<b>Name:</b> coachaarsh<br><b>User Location:</b> Gold Coast, Aus<br><b>Verified?</b> False<br><b>Date:</b> 2022-01-25<br><b>Tweet:</b> so is esl australia now also owned by saudi arabia? is this not literally the exact same issue as LEC and NEOM man how are we not learning from our past",
          "<b>Name:</b> Am_GDOo<br><b>User Location:</b> ( Kat cunning ) 🖤<br><b>Verified?</b> False<br><b>Date:</b> 2020-08-26<br><b>Tweet:</b> @Fenstick @TehHero117 @LEC @NEOM Any change in your country ?",
          "<b>Name:</b> OvisGotACup<br><b>User Location:</b> nan<br><b>Verified?</b> False<br><b>Date:</b> 2020-07-30<br><b>Tweet:</b> @Embrslol @Hotdynamixxx @Kalytis_ @LEC @NEOM Sorry mate what was that about twitter posts being meaningless LOL",
          "<b>Name:</b> geometric<br><b>User Location:</b> London, UK<br><b>Verified?</b> False<br><b>Date:</b> 2022-01-24<br><b>Tweet:</b> Don’t get me wrong, I understand that all companies really care about is money. But this reminds me a lot of the LEC NEOM deal. The war of wanting the Middle East’s money but not wanting their social stances may cause a rift in the esports world.",
          "<b>Name:</b> abdulelah11cc<br><b>User Location:</b> No<br><b>Verified?</b> False<br><b>Date:</b> 2020-08-12<br><b>Tweet:</b> @Rex21H @LEC @NEOM We are great people idk why people are attacking us",
          "<b>Name:</b> 719_kenny<br><b>User Location:</b> Sheridan, IL<br><b>Verified?</b> False<br><b>Date:</b> 2022-09-24<br><b>Tweet:</b> @Archer2014UBW @DzDiegoRosales @Perkz The thing is Riots public image still isn't very good but they're actually getting quite a bit better at rectifying bad PR (sure it would be better to prevent entirely but baby steps) remember the LEC/Neom disaster...they shut that down REAL quick",
          "<b>Name:</b> TroZrat<br><b>User Location:</b> 22 he/him<br><b>Verified?</b> False<br><b>Date:</b> 2020-07-30<br><b>Tweet:</b> @DavGreed @LEC @NEOM How close-minded can a person be...",
          "<b>Name:</b> DariusExMachina<br><b>User Location:</b> Berlin, Germany<br><b>Verified?</b> False<br><b>Date:</b> 2020-07-31<br><b>Tweet:</b> The entire #LEC Broadcast team, including members I couldnt add to these screenshots, have come out to say that they wouldve declined to appear on broadcast unless the NEOM deal was revoked - putting their jobs on the line.\n\nThe LEC Show is in good hands. All the power to them 🙌 https://t.co/7vQqlwOzE5",
          "<b>Name:</b> Towobix3<br><b>User Location:</b> nan<br><b>Verified?</b> False<br><b>Date:</b> 2020-07-30<br><b>Tweet:</b> @L9Commander @crescend0ll @linczernorbi @LEC @NEOM I wonder if you are baiting or you actually don't understand the point",
          "<b>Name:</b> daveekh<br><b>User Location:</b> nan<br><b>Verified?</b> False<br><b>Date:</b> 2020-07-30<br><b>Tweet:</b> @xuser117 @cs__lol @LEC neom partnership was not right because they are controlled by saudi arabia government which murders people. not because they're muslim.",
          "<b>Name:</b> VeteranEU<br><b>User Location:</b> London, England<br><b>Verified?</b> False<br><b>Date:</b> 2022-06-05<br><b>Tweet:</b> From an article about NEOM and the fallout of their LEC deal going wrong:\n\nhttps://t.co/2CLCbzRJP1 https://t.co/GAdHxxK2Im",
          "<b>Name:</b> hobbit667<br><b>User Location:</b> Kazakhstan<br><b>Verified?</b> False<br><b>Date:</b> 2020-07-30<br><b>Tweet:</b> @LEC @NEOM LEC got money from LGBTQ+ and now getting money from company against those. Nothing personal, just business.",
          "<b>Name:</b> dog69999<br><b>User Location:</b> Galapagos Island<br><b>Verified?</b> False<br><b>Date:</b> 2020-08-26<br><b>Tweet:</b> @LEC @NEOM has entered the chat",
          "<b>Name:</b> deadeg0<br><b>User Location:</b> nan<br><b>Verified?</b> False<br><b>Date:</b> 2020-07-30<br><b>Tweet:</b> @yougainbrouzouf @aolibai @DavGreed @LEC @NEOM As a Muslim, facts.",
          "<b>Name:</b> SirRubixx<br><b>User Location:</b> boring place in Canada<br><b>Verified?</b> False<br><b>Date:</b> 2022-12-30<br><b>Tweet:</b> @LordParasit @CarlosR guess you forgot about the LEC NEOM deal which was reversed because of community outrage.",
          "<b>Name:</b> SerioeseSeekuh<br><b>User Location:</b> Esch, Deutschland<br><b>Verified?</b> False<br><b>Date:</b> 2020-07-30<br><b>Tweet:</b> honestly i dont care if people hate me for this tweet but some things have to be said.\n\nFuck you if you are the kind of people that post under the \" lec neom\" posts with \"what about china\".\n\npls just fuck off or make urself noticeable so i can block all of you",
          "<b>Name:</b> moataz_magdy3<br><b>User Location:</b> nan<br><b>Verified?</b> False<br><b>Date:</b> 2020-07-30<br><b>Tweet:</b> @mohamadaladham @Aminopiou @Veigar_v2 @WufOwO u think neom would care about attacking LGBT or something!? business is business, lec/neom care about money nothing more, ppl just used their imagination and expected the future that neom from country so they will try their hardest to kill who is against Islam rules xd",
          "<b>Name:</b> OvisGotACup<br><b>User Location:</b> nan<br><b>Verified?</b> False<br><b>Date:</b> 2020-07-31<br><b>Tweet:</b> @iiLoVE18 @MShent1238 @PoliticsAndMem2 @BGBFG14 @Kalytis_ @LEC @NEOM Please take it somewhere else it’s over, you and the other guy lost already because they sponsorship was ended",
          "<b>Name:</b> ZAK_robloxer<br><b>User Location:</b> nan<br><b>Verified?</b> False<br><b>Date:</b> 2020-07-30<br><b>Tweet:</b> @TomEvilEye @LEC @NEOM Dont dig up old facts just coz they are muslims. Ur being an anti muslim karen now go play league politics are too much for u",
          "<b>Name:</b> blacksh40182773<br><b>User Location:</b> nan<br><b>Verified?</b> False<br><b>Date:</b> 2020-08-12<br><b>Tweet:</b> @Daythehut @TehHero117 @LEC @NEOM I’ll tell you what’s  no longer ok when your country comes to mine saying there’s terrorists there and they need to face them but instead they team up under the table and steals our oil the same mf thing happened to Iraq and Afghanistan",
          "<b>Name:</b> FrankieWard<br><b>User Location:</b> Cedar Creek Power Plant<br><b>Verified?</b> False<br><b>Date:</b> 2021-06-21<br><b>Tweet:</b> The reason this has suddenly reemerged was because I spoke out when he attacked Froskurinn for speaking out against the LEC/Neom deal.\n\nAnd yes, I was a hypocrite because of the jobs that I did, but I said I would be different moving forward and so far I have been.",
          "<b>Name:</b> TravisGafford<br><b>User Location:</b> Los Angeles, CA<br><b>Verified?</b> False<br><b>Date:</b> 2020-07-31<br><b>Tweet:</b> The LEC casters all said they would not appear on the LEC broadcast this weekend if the NEOM sponsorship continued.",
          "<b>Name:</b> BeccaCHenry<br><b>User Location:</b> Berlin<br><b>Verified?</b> False<br><b>Date:</b> 2020-07-30<br><b>Tweet:</b> Cancelling the Neom deal is a huge win for Riot and #LEC fans, but it didnt need to happen in the first place. It’s a real indication that Riot needs more diversity in the senior leadership team and approvals process. This should have not gone up the chain without red flags.",
          "<b>Name:</b> TheMoConceptual<br><b>User Location:</b> Na praça vendendo cigarro<br><b>Verified?</b> False<br><b>Date:</b> 2020-07-30<br><b>Tweet:</b> @Alpha_Canem @LEC @NEOM @LEC  as you can see, we got the message :)",
          "<b>Name:</b> dumon_antoine<br><b>User Location:</b> nan<br><b>Verified?</b> False<br><b>Date:</b> 2023-09-17<br><b>Tweet:</b> @Elioww_ @Tw22too @_blakcpink_ @Faaast_life @Zoxistyle Oui bah c’est juste un prétexte, si c’est faze ils refuseront à cause de l’instabilité économique et pour Navi ça sera l’instabilité politique. Je te rappelle qu’il y a quelque mois la LEC signait un contrat avec neom",
          "<b>Name:</b> flextaperapper<br><b>User Location:</b> United States<br><b>Verified?</b> False<br><b>Date:</b> 2021-07-21<br><b>Tweet:</b> @RazLCS @RisenLazarus I wonder if dignitas is okay with the famine in Yemen or apartheid in Palestine now that they financially benefit from those. First it was the LEC NEOM partnership now this? I wonder how many other teams are partnered or are considering partnering with bigots and war criminals?",
          "<b>Name:</b> AuxhLoL<br><b>User Location:</b> nan<br><b>Verified?</b> False<br><b>Date:</b> 2020-09-25<br><b>Tweet:</b> @DariusExMachina ngl, I think it‘s omegacringe how everyone was outraged at the #LEC NEOM deal, but no one bats an eye about the fact that S04 are sponsored by the state of Russia, responsible for thousands of political deaths within the last 5 years + having the same practice towards LGBTQ+ folk",
          "<b>Name:</b> CapCasts<br><b>User Location:</b> Los Angeles, CA<br><b>Verified?</b> False<br><b>Date:</b> 2020-07-30<br><b>Tweet:</b> Having the courage to put your career on the line for a cause you believe in strongly enough is laudible. Very impressed with the talent of LEC and their handling of the NEOM situation.\n\nIt brings back up the idea of which battles I personally am willing to fight &amp; what I am not",
          "<b>Name:</b> 21_Thorsten<br><b>User Location:</b> nan<br><b>Verified?</b> False<br><b>Date:</b> 2020-07-31<br><b>Tweet:</b> Well boys, my dogshit internet finally allowed me to upload! Shoutout to the LEC crew for the stance they took! \n\nHere it is!! \n\nWhen the LEC Partners with NEOM https://t.co/GOisU5Z3D8",
          "<b>Name:</b> hoffasaurusx<br><b>User Location:</b> Birmingham, England<br><b>Verified?</b> False<br><b>Date:</b> 2022-01-24<br><b>Tweet:</b> 10x worse than the LEC NEOM stuff",
          "<b>Name:</b> TPB_Robonyzer<br><b>User Location:</b> Michigan, USA<br><b>Verified?</b> False<br><b>Date:</b> 2022-02-20<br><b>Tweet:</b> Reminiscent of the LEC Neom situation. I expect an entirely negative reaction from fans, on air talent, and anyone except Ubisoft higher ups who want the money. The location will be changed, and if it isn’t it will be a PR disaster with fans and on air talent boycotting.",
          "<b>Name:</b> kirbee57<br><b>User Location:</b> Alhambra, CA<br><b>Verified?</b> False<br><b>Date:</b> 2020-08-01<br><b>Tweet:</b> When LEC announced the NEOM partnership, everyone spoke up. I hope they do the same again because\n1. this is putting players and talent's health at stake, since we have no way of knowing what the real COVID numbers are there\n2. Uighur concentration camps &amp; oppression on Hong Kong",
          "<b>Name:</b> Wickdlol<br><b>User Location:</b> Denmark<br><b>Verified?</b> False<br><b>Date:</b> 2020-07-30<br><b>Tweet:</b> #LEC ended the partnership with NEOM.\n\nPerhaps what I suggested wasn't so crazy and would have worked. No idea if anyone took that position, but the partnership did end.",
          "<b>Name:</b> aurahack<br><b>User Location:</b> 【Vancouver】【大阪】【Montréal】<br><b>Verified?</b> False<br><b>Date:</b> 2020-09-01<br><b>Tweet:</b> Remember the LEC x Neom thing? People inside the house made -lots- of noise. https://t.co/tnkMpYhT3O\n\nI hope y'all take lesson from it.",
          "<b>Name:</b> vepascanu<br><b>User Location:</b> Cluj-Napoca, România<br><b>Verified?</b> False<br><b>Date:</b> 2022-04-30<br><b>Tweet:</b> After how outraged the community was after the LEC NEOM deal, and how good if felt to push them back, this feels like a kick in the gut.",
          "<b>Name:</b> ChimoEsport<br><b>User Location:</b> Danmark<br><b>Verified?</b> False<br><b>Date:</b> 2022-01-25<br><b>Tweet:</b> @kelanwatling @Nymaera I wish this dilemma would come up, but honestly I rarely think it does. Just look at LEC Neom deal, or Blast Neom. The Blast Neom was insanely terrible.",
          "<b>Name:</b> followdunc<br><b>User Location:</b> Cornwall, United Kingdom<br><b>Verified?</b> False<br><b>Date:</b> 2020-07-30<br><b>Tweet:</b> You know when something says “hot - do not touch” but you can’t help yourself so you quickly touch it, thinking you’ll be fine. But you actually get burnt. \n\nLEC and Neom.",
          "<b>Name:</b> eSportsKingBets<br><b>User Location:</b> Mars<br><b>Verified?</b> False<br><b>Date:</b> 2020-07-31<br><b>Tweet:</b> LEC Ends NEOM Partnership After Community Backlash\n\n#BLAST #CSGO #LeagueofLegends #LEC #NEOM #RiotGames https://t.co/E8W5f79EVe",
          "<b>Name:</b> CoomersNexus<br><b>User Location:</b> getting Ara Ara by Onee-san<br><b>Verified?</b> False<br><b>Date:</b> 2020-08-01<br><b>Tweet:</b> @husam7172 @LixeLaBrioche @LEC @NEOM If so then your culture is incompatible with capitalism, modernization and progressivism. Trust me, this issue is significant enough that no amount of oil money can cover it up. Either Saudi Arabia will change it's barbarity or it will be the downfall of the nation.",
          "<b>Name:</b> TheEsportsIndia<br><b>User Location:</b> nan<br><b>Verified?</b> False<br><b>Date:</b> 2020-07-30<br><b>Tweet:</b> The LEC ends NEOM Partnership! #LEC #NEOM #leagueoflegends #esports #news \nhttps://t.co/tTcOX26CfN",
          "<b>Name:</b> _Viaurelia<br><b>User Location:</b> Brussels, Belgium<br><b>Verified?</b> False<br><b>Date:</b> 2020-07-29<br><b>Tweet:</b> @LEC @NEOM I've been waiting for years to see G2 lose to underdogs again, and now that I'm all hyped you're forcing me to stop watching LEC. No gg wp for you 🙄",
          "<b>Name:</b> Magus_sama<br><b>User Location:</b> nan<br><b>Verified?</b> False<br><b>Date:</b> 2020-07-30<br><b>Tweet:</b> @LEC @NEOM Even if gaming/esport there must be lgbt stuff, it's almost like an obsession for the lgbt community. Can't u just enjoy gaming without sexual orientations ??",
          "<b>Name:</b> hisaira<br><b>User Location:</b> the shire<br><b>Verified?</b> False<br><b>Date:</b> 2020-07-30<br><b>Tweet:</b> It’s one thing to rightfully hate a regime but a whole other thing to hate on all arabic people. It’s really heartbreaking to see the amount of islamophobia, xenophobia and flat out racism the LEC+NEOM deal topic has brought out. reminds me to not read twitter comments 😔",
          "<b>Name:</b> padrman<br><b>User Location:</b> Éire 🇮🇪 <br><b>Verified?</b> False<br><b>Date:</b> 2020-07-30<br><b>Tweet:</b> LEC cancel the NEOM partnership and now the Saudi state won't be buying Newcastle United.\n\nNot a bad day",
          "<b>Name:</b> MedicCasts<br><b>User Location:</b> Berlin, Germany<br><b>Verified?</b> False<br><b>Date:</b> 2022-09-18<br><b>Tweet:</b> @KidRonnie_ @LordZuip @CuratorRex @koyukixd @CarlosR I agree with you. I think casters have more power than they think. However, years of conditioning/understanding that Riot is their only job leads to thinking that power is limited (which it is because of new casters coming in). LEC casters stood against NEOM, but doing it again..",
          "<b>Name:</b> Voyboy<br><b>User Location:</b> nan<br><b>Verified?</b> False<br><b>Date:</b> 2020-07-30<br><b>Tweet:</b> Proud of everyone in the community who stood up in solidarity against the injustices of NEOM. Even though it never should have happened in the first place, good on the LEC for decisively cancelling the partnership.",
          "<b>Name:</b> Heyitsmedunk<br><b>User Location:</b> London, England<br><b>Verified?</b> False<br><b>Date:</b> 2022-01-25<br><b>Tweet:</b> @varceeful I think the only way to get a decent response is for an entire community wide pushback (i.e LEC and NEOM) otherwise you'll have a couple martyrs that go down for their own morals\n\nAnd that's hard when the bag is undeniably there.",
          "<b>Name:</b> InvenGlobal<br><b>User Location:</b> nan<br><b>Verified?</b> False<br><b>Date:</b> 2020-08-06<br><b>Tweet:</b> [#LEC] Rioters responsible for LEC NEOM deal reassured \"they did nothing wrong\", reports say: \n\nhttps://t.co/LWd3N8JNXO",
          "<b>Name:</b> FTWImad<br><b>User Location:</b> nan<br><b>Verified?</b> False<br><b>Date:</b> 2020-08-03<br><b>Tweet:</b> Today, LEC report @Matthieist jumps on to talk the #LEC and Neom deal and the league's involvement with China and @ArinMJ, editor in chief of the Esports Bar Association Journal, discusses the antitrust hearings and what it could mean for esports. \n\nhttps://t.co/awtfAsu6fI",
          "<b>Name:</b> NoahGamesDesign<br><b>User Location:</b> londonion <br><b>Verified?</b> False<br><b>Date:</b> 2020-07-30<br><b>Tweet:</b> @Red_Fr0st @SkinSpotlights There is a very clear difference. \n\nLEC &amp; Tencent:\nTencent own Riot Games, which owns League of Legends, which owns LoL Esports, which owns the LEC. \n\nLEC &amp; Neom: \nLEC's main sponsor would have been Neom. \n\nAt the end of the day, it is incredibly hard to do something about -",
          "<b>Name:</b> MnmzzzCS<br><b>User Location:</b> Columbus, GA<br><b>Verified?</b> False<br><b>Date:</b> 2020-07-31<br><b>Tweet:</b> Reminder that while public outrage forced @LEC to drop their sponsorship with NEOM, @BLASTPremier has slipped through the cracks and seemingly plan to continue working with NEOM.\n\nDefinitely feel like there should be more outrage directed at them.",
          "<b>Name:</b> InvenGlobal<br><b>User Location:</b> nan<br><b>Verified?</b> False<br><b>Date:</b> 2020-07-30<br><b>Tweet:</b> [#LEC] ‘On blood and bones’: the truth behind NEOM, @LEC ‘s short-lived partner.\n\n✍️ @GGNydrA #LoLesports \n\nhttps://t.co/KuRkrknnQf",
          "<b>Name:</b> helloaylee<br><b>User Location:</b> France<br><b>Verified?</b> False<br><b>Date:</b> 2020-07-30<br><b>Tweet:</b> LEC Ends NEOM Partnership.",
          "<b>Name:</b> ESPN_Esports<br><b>User Location:</b> nan<br><b>Verified?</b> False<br><b>Date:</b> 2020-07-30<br><b>Tweet:</b> UPDATE: The #LEC announced late Wednesday that it was terminating its partnership with NEOM following backlash throughout the day from many LEC staff members.\n\nhttps://t.co/MvXGxC18Ru",
          "<b>Name:</b> AlvaroPizarro<br><b>User Location:</b> Buenos Aires, Argentina<br><b>Verified?</b> False<br><b>Date:</b> 2020-08-01<br><b>Tweet:</b> If you steal something and then give it back after everyone gets angry at you... Does it count?\n\nWould you trust someone after they steal from you just because they gave it back when people got angry?\n\nDidn’t think so. This should’ve never happened. #LEC #NEOM",
          "<b>Name:</b> parquesomedia<br><b>User Location:</b> Los Angeles, CA<br><b>Verified?</b> False<br><b>Date:</b> 2021-02-08<br><b>Tweet:</b> I broke a number of stories based on a network I've been building for years, like Huni's Dignitas salary and its affect on their 2020 roster, furthering the story on the LEC Neom deal, various roster moves, and more.\n\nHuni: https://t.co/wmy0XTwgXP\nNeom: https://t.co/VLXwrI3Z3f",
          "<b>Name:</b> Thorin<br><b>User Location:</b> North<br><b>Verified?</b> False<br><b>Date:</b> 2021-08-26<br><b>Tweet:</b> Riot apparently fucked with the lawyers repping women with a case against them.\n\nRiot apparently told LEC NEOM deal was fine and just poorly messaged.\n\nBlizzard are apparently shredding docs now they're under microscope.\n\nLook at their actions not their words.",
          "<b>Name:</b> PiraTechnics<br><b>User Location:</b> Los Angeles, CA<br><b>Verified?</b> False<br><b>Date:</b> 2020-07-31<br><b>Tweet:</b> How in the actual hell could anyone's takeaway from the #LEC casters' stance on the NEOM debacle be that they are unprincipled??\n\nThey did the bravest thing possible - they refused to work a show until this horrible deal was undone.",
          "<b>Name:</b> GGReconGaming<br><b>User Location:</b> nan<br><b>Verified?</b> False<br><b>Date:</b> 2020-08-10<br><b>Tweet:</b> Following the #LEC x NEOM backlash, Riot is reportedly establishing an 'ethics committee'. #LeagueOfLegends https://t.co/apuUo8mDBm",
          "<b>Name:</b> FlizzyFletch<br><b>User Location:</b> Chicago<br><b>Verified?</b> False<br><b>Date:</b> 2020-07-30<br><b>Tweet:</b> Somewhere there's a partnership team that was SUPER excited about yesterday's #LEC/NEOM announcement.\n\nI can't imagine the anxiety I would feel seeing the community reaction blow up in my face like that so fast.",
          "<b>Name:</b> IWDominate<br><b>User Location:</b> Austin, TX<br><b>Verified?</b> False<br><b>Date:</b> 2020-07-31<br><b>Tweet:</b> @Shakarez @Froskurinn I still don't see how the thumbnail is done in poor taste, it shows her dissatisfaction in the sponsorship with the LEC and NEOM as she was the person who spoke out against it and gained the most traction.",
          "<b>Name:</b> Kaptajnmolen<br><b>User Location:</b> Aalborg, Danmark<br><b>Verified?</b> False<br><b>Date:</b> 2020-07-30<br><b>Tweet:</b> It's really beyond me how bad Riot leadership is. \nHow could they not have known how much this deal would backlash? For a company that constantly talks about how much they care about integrity, its seems rather foolish that they let this happen. #LEC #NEOM #Riot",
          "<b>Name:</b> MartinOmes<br><b>User Location:</b> Toronto, Ontario<br><b>Verified?</b> False<br><b>Date:</b> 2022-01-24<br><b>Tweet:</b> @Moses_FPS And FaceIt as well.\n\nInsane.\n\nWe hopefully will see LEC/NEOM like blowback from the community again.",
          "<b>Name:</b> crunchychocobo<br><b>User Location:</b> Dallas, TX<br><b>Verified?</b> False<br><b>Date:</b> 2020-07-30<br><b>Tweet:</b> Me editing stories for @DailyEsportsGG:\nG2 CEO speaks out against LEC partnership with NEOM\nLEC retratracts NEOM partnership\nBLAST announces sponsorship with NEOM\n\nPattern senses, tingling!",
          "<b>Name:</b> ESPN_Esports<br><b>User Location:</b> nan<br><b>Verified?</b> False<br><b>Date:</b> 2020-07-31<br><b>Tweet:</b> \"I think what the broadcast talent did in setting the standard with an immediate response that put their jobs on the line is actually incredibly brave.\" - @leagueofemily gives her thoughts on the #LEC's decision to abandon their partnership with NEOM.\n\n📺: https://t.co/t96vEL7dav https://t.co/dinDnEAUAl",
          "<b>Name:</b> CestDommage<br><b>User Location:</b> New York, NY<br><b>Verified?</b> False<br><b>Date:</b> 2020-07-30<br><b>Tweet:</b> I didn’t write really anything about LEC/NEOM but I am up at 4 AM so:\n\nStarted at:\nConfused.\nNonplussed.\nCurious.\nShocked.\nAngry.\nHurt.\nExpectant.\nAnnoyed.\nSatiated.\nResigned.\n^ Ended above\n\nSomeone high up had some bad math. Some denominators you just don’t use though.",
          "<b>Name:</b> shaymantim<br><b>User Location:</b> Glastonbury<br><b>Verified?</b> False<br><b>Date:</b> 2022-10-06<br><b>Tweet:</b> Search LEC + NEOM, or BLAST + NEOM Ricardo. Gamers’ views are out there. And watch out for when PIF buy a publisher outright - which they said they were going to do last month.",
          "<b>Name:</b> Imad<br><b>User Location:</b> New York, NY<br><b>Verified?</b> False<br><b>Date:</b> 2020-09-07<br><b>Tweet:</b> Here's my latest for @DotEsports. I explain why there was anger over the #LEC Neom deal, but none towards China and its numerous human rights violations. \n\nIf I missed anything, please let me know.\n\nhttps://t.co/C758FWetRo\n\n#Uighurs #UighurGenocide  #HongKong #Worlds2020",
          "<b>Name:</b> ESPN_Esports<br><b>User Location:</b> nan<br><b>Verified?</b> False<br><b>Date:</b> 2020-07-30<br><b>Tweet:</b> Sources say that the #LEC teams were notified of the NEOM partnership, but had no say in its approval or not.\n\nhttps://t.co/VetggZgpG9",
          "<b>Name:</b> jfudge<br><b>User Location:</b> Berkshire County, Ma<br><b>Verified?</b> False<br><b>Date:</b> 2020-08-05<br><b>Tweet:</b> With all this talk about @BLASTPremier, #LEC, and #NEOM, I want to point out this article penned by @t0bs3n who explains why each org may have reacted the way they did. \n\nhttps://t.co/O01tkV2Yoz\n\n(He's one of my fav academics and the other Tobias I love to work with)",
          "<b>Name:</b> Dexerto<br><b>User Location:</b> press[at]dexerto.com<br><b>Verified?</b> False<br><b>Date:</b> 2020-07-30<br><b>Tweet:</b> The #LEC has canceled its partnership with NEOM just hours after it was announced. The backflip comes after a huge wave of community backlash over the deal.\n\nhttps://t.co/Qfqqyv3jON",
          "<b>Name:</b> ESPN_Esports<br><b>User Location:</b> nan<br><b>Verified?</b> False<br><b>Date:</b> 2020-08-06<br><b>Tweet:</b> Riot Games addressed the #LEC's partnership with NEOM and steps to prevent similar gaffes in the future in a company-wide call Thursday, ESPN's @JacobWolf has learned. Details: https://t.co/AHEp8c8XO2",
          "<b>Name:</b> EsportzNetwork<br><b>User Location:</b> nan<br><b>Verified?</b> False<br><b>Date:</b> 2020-07-30<br><b>Tweet:</b> Just 15 hours after announcing a partnership between @LEC and @NEOM, the partnership was called off. And it's all thanks to controversy and outrage from the #LEC esports community. \n\nhttps://t.co/ItpSBgx5Sq",
          "<b>Name:</b> InvenGlobal<br><b>User Location:</b> nan<br><b>Verified?</b> False<br><b>Date:</b> 2020-07-31<br><b>Tweet:</b> [#LEC] The @LEC Broadcast crew put their jobs on the line to combat the Neom partnership. #LoLEsports\n\nhttps://t.co/FqHQbOFQnh",
          "<b>Name:</b> LauncherWP<br><b>User Location:</b> Capital Wasteland<br><b>Verified?</b> False<br><b>Date:</b> 2020-09-06<br><b>Tweet:</b> The LEC and NEOM was likely just the beginning. \n\n\"Where individuals or brands take a stand may depend on their bank accounts.\"\nhttps://t.co/IYqj1epux7",
          "<b>Name:</b> moonduckTV<br><b>User Location:</b> United States<br><b>Verified?</b> False<br><b>Date:</b> 2020-08-05<br><b>Tweet:</b> EP162 of the @TrentPax &amp; @ZyoriTV Podcast\n\nTOPICS: omega league, sheepsticked, tier two blowouts, esl thailand, LEC and NEOM, t10 prize pool, arcana review &amp; ti10 arcana vote\n\naudio: https://t.co/icNdo9AH2V\n\nvideo: https://t.co/4A6cCI0i7x\n\nspotify: https://t.co/k5BbI27WqQ",
          "<b>Name:</b> jfudge<br><b>User Location:</b> Berkshire County, Ma<br><b>Verified?</b> False<br><b>Date:</b> 2020-07-30<br><b>Tweet:</b> Credit to all the @riotgames employees that stood up today against the @LEC / Neom announcement. That is not an easy thing to do when you take a stand against the company you work for. To its credit, Riot listened.  \n\nhttps://t.co/pS1P4AsmRH"
         ],
         "type": "scattermapbox"
        }
       ],
       "layout": {
        "height": 650,
        "mapbox": {
         "center": {
          "lat": 46.3144754,
          "lon": 8.974959398792844
         },
         "style": "carto-positron",
         "zoom": 0.5
        },
        "template": {
         "data": {
          "bar": [
           {
            "error_x": {
             "color": "#2a3f5f"
            },
            "error_y": {
             "color": "#2a3f5f"
            },
            "marker": {
             "line": {
              "color": "#E5ECF6",
              "width": 0.5
             },
             "pattern": {
              "fillmode": "overlay",
              "size": 10,
              "solidity": 0.2
             }
            },
            "type": "bar"
           }
          ],
          "barpolar": [
           {
            "marker": {
             "line": {
              "color": "#E5ECF6",
              "width": 0.5
             },
             "pattern": {
              "fillmode": "overlay",
              "size": 10,
              "solidity": 0.2
             }
            },
            "type": "barpolar"
           }
          ],
          "carpet": [
           {
            "aaxis": {
             "endlinecolor": "#2a3f5f",
             "gridcolor": "white",
             "linecolor": "white",
             "minorgridcolor": "white",
             "startlinecolor": "#2a3f5f"
            },
            "baxis": {
             "endlinecolor": "#2a3f5f",
             "gridcolor": "white",
             "linecolor": "white",
             "minorgridcolor": "white",
             "startlinecolor": "#2a3f5f"
            },
            "type": "carpet"
           }
          ],
          "choropleth": [
           {
            "colorbar": {
             "outlinewidth": 0,
             "ticks": ""
            },
            "type": "choropleth"
           }
          ],
          "contour": [
           {
            "colorbar": {
             "outlinewidth": 0,
             "ticks": ""
            },
            "colorscale": [
             [
              0,
              "#0d0887"
             ],
             [
              0.1111111111111111,
              "#46039f"
             ],
             [
              0.2222222222222222,
              "#7201a8"
             ],
             [
              0.3333333333333333,
              "#9c179e"
             ],
             [
              0.4444444444444444,
              "#bd3786"
             ],
             [
              0.5555555555555556,
              "#d8576b"
             ],
             [
              0.6666666666666666,
              "#ed7953"
             ],
             [
              0.7777777777777778,
              "#fb9f3a"
             ],
             [
              0.8888888888888888,
              "#fdca26"
             ],
             [
              1,
              "#f0f921"
             ]
            ],
            "type": "contour"
           }
          ],
          "contourcarpet": [
           {
            "colorbar": {
             "outlinewidth": 0,
             "ticks": ""
            },
            "type": "contourcarpet"
           }
          ],
          "heatmap": [
           {
            "colorbar": {
             "outlinewidth": 0,
             "ticks": ""
            },
            "colorscale": [
             [
              0,
              "#0d0887"
             ],
             [
              0.1111111111111111,
              "#46039f"
             ],
             [
              0.2222222222222222,
              "#7201a8"
             ],
             [
              0.3333333333333333,
              "#9c179e"
             ],
             [
              0.4444444444444444,
              "#bd3786"
             ],
             [
              0.5555555555555556,
              "#d8576b"
             ],
             [
              0.6666666666666666,
              "#ed7953"
             ],
             [
              0.7777777777777778,
              "#fb9f3a"
             ],
             [
              0.8888888888888888,
              "#fdca26"
             ],
             [
              1,
              "#f0f921"
             ]
            ],
            "type": "heatmap"
           }
          ],
          "heatmapgl": [
           {
            "colorbar": {
             "outlinewidth": 0,
             "ticks": ""
            },
            "colorscale": [
             [
              0,
              "#0d0887"
             ],
             [
              0.1111111111111111,
              "#46039f"
             ],
             [
              0.2222222222222222,
              "#7201a8"
             ],
             [
              0.3333333333333333,
              "#9c179e"
             ],
             [
              0.4444444444444444,
              "#bd3786"
             ],
             [
              0.5555555555555556,
              "#d8576b"
             ],
             [
              0.6666666666666666,
              "#ed7953"
             ],
             [
              0.7777777777777778,
              "#fb9f3a"
             ],
             [
              0.8888888888888888,
              "#fdca26"
             ],
             [
              1,
              "#f0f921"
             ]
            ],
            "type": "heatmapgl"
           }
          ],
          "histogram": [
           {
            "marker": {
             "pattern": {
              "fillmode": "overlay",
              "size": 10,
              "solidity": 0.2
             }
            },
            "type": "histogram"
           }
          ],
          "histogram2d": [
           {
            "colorbar": {
             "outlinewidth": 0,
             "ticks": ""
            },
            "colorscale": [
             [
              0,
              "#0d0887"
             ],
             [
              0.1111111111111111,
              "#46039f"
             ],
             [
              0.2222222222222222,
              "#7201a8"
             ],
             [
              0.3333333333333333,
              "#9c179e"
             ],
             [
              0.4444444444444444,
              "#bd3786"
             ],
             [
              0.5555555555555556,
              "#d8576b"
             ],
             [
              0.6666666666666666,
              "#ed7953"
             ],
             [
              0.7777777777777778,
              "#fb9f3a"
             ],
             [
              0.8888888888888888,
              "#fdca26"
             ],
             [
              1,
              "#f0f921"
             ]
            ],
            "type": "histogram2d"
           }
          ],
          "histogram2dcontour": [
           {
            "colorbar": {
             "outlinewidth": 0,
             "ticks": ""
            },
            "colorscale": [
             [
              0,
              "#0d0887"
             ],
             [
              0.1111111111111111,
              "#46039f"
             ],
             [
              0.2222222222222222,
              "#7201a8"
             ],
             [
              0.3333333333333333,
              "#9c179e"
             ],
             [
              0.4444444444444444,
              "#bd3786"
             ],
             [
              0.5555555555555556,
              "#d8576b"
             ],
             [
              0.6666666666666666,
              "#ed7953"
             ],
             [
              0.7777777777777778,
              "#fb9f3a"
             ],
             [
              0.8888888888888888,
              "#fdca26"
             ],
             [
              1,
              "#f0f921"
             ]
            ],
            "type": "histogram2dcontour"
           }
          ],
          "mesh3d": [
           {
            "colorbar": {
             "outlinewidth": 0,
             "ticks": ""
            },
            "type": "mesh3d"
           }
          ],
          "parcoords": [
           {
            "line": {
             "colorbar": {
              "outlinewidth": 0,
              "ticks": ""
             }
            },
            "type": "parcoords"
           }
          ],
          "pie": [
           {
            "automargin": true,
            "type": "pie"
           }
          ],
          "scatter": [
           {
            "fillpattern": {
             "fillmode": "overlay",
             "size": 10,
             "solidity": 0.2
            },
            "type": "scatter"
           }
          ],
          "scatter3d": [
           {
            "line": {
             "colorbar": {
              "outlinewidth": 0,
              "ticks": ""
             }
            },
            "marker": {
             "colorbar": {
              "outlinewidth": 0,
              "ticks": ""
             }
            },
            "type": "scatter3d"
           }
          ],
          "scattercarpet": [
           {
            "marker": {
             "colorbar": {
              "outlinewidth": 0,
              "ticks": ""
             }
            },
            "type": "scattercarpet"
           }
          ],
          "scattergeo": [
           {
            "marker": {
             "colorbar": {
              "outlinewidth": 0,
              "ticks": ""
             }
            },
            "type": "scattergeo"
           }
          ],
          "scattergl": [
           {
            "marker": {
             "colorbar": {
              "outlinewidth": 0,
              "ticks": ""
             }
            },
            "type": "scattergl"
           }
          ],
          "scattermapbox": [
           {
            "marker": {
             "colorbar": {
              "outlinewidth": 0,
              "ticks": ""
             }
            },
            "type": "scattermapbox"
           }
          ],
          "scatterpolar": [
           {
            "marker": {
             "colorbar": {
              "outlinewidth": 0,
              "ticks": ""
             }
            },
            "type": "scatterpolar"
           }
          ],
          "scatterpolargl": [
           {
            "marker": {
             "colorbar": {
              "outlinewidth": 0,
              "ticks": ""
             }
            },
            "type": "scatterpolargl"
           }
          ],
          "scatterternary": [
           {
            "marker": {
             "colorbar": {
              "outlinewidth": 0,
              "ticks": ""
             }
            },
            "type": "scatterternary"
           }
          ],
          "surface": [
           {
            "colorbar": {
             "outlinewidth": 0,
             "ticks": ""
            },
            "colorscale": [
             [
              0,
              "#0d0887"
             ],
             [
              0.1111111111111111,
              "#46039f"
             ],
             [
              0.2222222222222222,
              "#7201a8"
             ],
             [
              0.3333333333333333,
              "#9c179e"
             ],
             [
              0.4444444444444444,
              "#bd3786"
             ],
             [
              0.5555555555555556,
              "#d8576b"
             ],
             [
              0.6666666666666666,
              "#ed7953"
             ],
             [
              0.7777777777777778,
              "#fb9f3a"
             ],
             [
              0.8888888888888888,
              "#fdca26"
             ],
             [
              1,
              "#f0f921"
             ]
            ],
            "type": "surface"
           }
          ],
          "table": [
           {
            "cells": {
             "fill": {
              "color": "#EBF0F8"
             },
             "line": {
              "color": "white"
             }
            },
            "header": {
             "fill": {
              "color": "#C8D4E3"
             },
             "line": {
              "color": "white"
             }
            },
            "type": "table"
           }
          ]
         },
         "layout": {
          "annotationdefaults": {
           "arrowcolor": "#2a3f5f",
           "arrowhead": 0,
           "arrowwidth": 1
          },
          "autotypenumbers": "strict",
          "coloraxis": {
           "colorbar": {
            "outlinewidth": 0,
            "ticks": ""
           }
          },
          "colorscale": {
           "diverging": [
            [
             0,
             "#8e0152"
            ],
            [
             0.1,
             "#c51b7d"
            ],
            [
             0.2,
             "#de77ae"
            ],
            [
             0.3,
             "#f1b6da"
            ],
            [
             0.4,
             "#fde0ef"
            ],
            [
             0.5,
             "#f7f7f7"
            ],
            [
             0.6,
             "#e6f5d0"
            ],
            [
             0.7,
             "#b8e186"
            ],
            [
             0.8,
             "#7fbc41"
            ],
            [
             0.9,
             "#4d9221"
            ],
            [
             1,
             "#276419"
            ]
           ],
           "sequential": [
            [
             0,
             "#0d0887"
            ],
            [
             0.1111111111111111,
             "#46039f"
            ],
            [
             0.2222222222222222,
             "#7201a8"
            ],
            [
             0.3333333333333333,
             "#9c179e"
            ],
            [
             0.4444444444444444,
             "#bd3786"
            ],
            [
             0.5555555555555556,
             "#d8576b"
            ],
            [
             0.6666666666666666,
             "#ed7953"
            ],
            [
             0.7777777777777778,
             "#fb9f3a"
            ],
            [
             0.8888888888888888,
             "#fdca26"
            ],
            [
             1,
             "#f0f921"
            ]
           ],
           "sequentialminus": [
            [
             0,
             "#0d0887"
            ],
            [
             0.1111111111111111,
             "#46039f"
            ],
            [
             0.2222222222222222,
             "#7201a8"
            ],
            [
             0.3333333333333333,
             "#9c179e"
            ],
            [
             0.4444444444444444,
             "#bd3786"
            ],
            [
             0.5555555555555556,
             "#d8576b"
            ],
            [
             0.6666666666666666,
             "#ed7953"
            ],
            [
             0.7777777777777778,
             "#fb9f3a"
            ],
            [
             0.8888888888888888,
             "#fdca26"
            ],
            [
             1,
             "#f0f921"
            ]
           ]
          },
          "colorway": [
           "#636efa",
           "#EF553B",
           "#00cc96",
           "#ab63fa",
           "#FFA15A",
           "#19d3f3",
           "#FF6692",
           "#B6E880",
           "#FF97FF",
           "#FECB52"
          ],
          "font": {
           "color": "#2a3f5f"
          },
          "geo": {
           "bgcolor": "white",
           "lakecolor": "white",
           "landcolor": "#E5ECF6",
           "showlakes": true,
           "showland": true,
           "subunitcolor": "white"
          },
          "hoverlabel": {
           "align": "left"
          },
          "hovermode": "closest",
          "mapbox": {
           "style": "light"
          },
          "paper_bgcolor": "white",
          "plot_bgcolor": "#E5ECF6",
          "polar": {
           "angularaxis": {
            "gridcolor": "white",
            "linecolor": "white",
            "ticks": ""
           },
           "bgcolor": "#E5ECF6",
           "radialaxis": {
            "gridcolor": "white",
            "linecolor": "white",
            "ticks": ""
           }
          },
          "scene": {
           "xaxis": {
            "backgroundcolor": "#E5ECF6",
            "gridcolor": "white",
            "gridwidth": 2,
            "linecolor": "white",
            "showbackground": true,
            "ticks": "",
            "zerolinecolor": "white"
           },
           "yaxis": {
            "backgroundcolor": "#E5ECF6",
            "gridcolor": "white",
            "gridwidth": 2,
            "linecolor": "white",
            "showbackground": true,
            "ticks": "",
            "zerolinecolor": "white"
           },
           "zaxis": {
            "backgroundcolor": "#E5ECF6",
            "gridcolor": "white",
            "gridwidth": 2,
            "linecolor": "white",
            "showbackground": true,
            "ticks": "",
            "zerolinecolor": "white"
           }
          },
          "shapedefaults": {
           "line": {
            "color": "#2a3f5f"
           }
          },
          "ternary": {
           "aaxis": {
            "gridcolor": "white",
            "linecolor": "white",
            "ticks": ""
           },
           "baxis": {
            "gridcolor": "white",
            "linecolor": "white",
            "ticks": ""
           },
           "bgcolor": "#E5ECF6",
           "caxis": {
            "gridcolor": "white",
            "linecolor": "white",
            "ticks": ""
           }
          },
          "title": {
           "x": 0.05
          },
          "xaxis": {
           "automargin": true,
           "gridcolor": "white",
           "linecolor": "white",
           "ticks": "",
           "title": {
            "standoff": 15
           },
           "zerolinecolor": "white",
           "zerolinewidth": 2
          },
          "yaxis": {
           "automargin": true,
           "gridcolor": "white",
           "linecolor": "white",
           "ticks": "",
           "title": {
            "standoff": 15
           },
           "zerolinecolor": "white",
           "zerolinewidth": 2
          }
         }
        },
        "title": {
         "text": "Locations of LEC/NEOM-related Tweets"
        },
        "width": 900
       }
      }
     },
     "metadata": {},
     "output_type": "display_data"
    }
   ],
   "source": [
    "# Create text hover template\n",
    "scatterhover = ('<b>Name:</b> ' + tweets_final['username'].astype(str) + '<br>' +\n",
    "                '<b>User Location:</b> ' + tweets_final['location'].astype(str) + '<br>' +\n",
    "                '<b>Verified?</b> ' + tweets_final['verified'].astype(str) + '<br>' +\n",
    "                '<b>Date:</b> ' + tweets_final['created_at'].astype(str) + '<br>' +\n",
    "                '<b>Tweet:</b> ' + tweets_final['full_text'].astype(str)\n",
    ")\n",
    "\n",
    "# Create a Scatter map figure with data for Locations of LEC/NEOM-related Tweets\n",
    "scattermap = go.Figure(go.Scattermapbox(lat=tweets_final['geometry'].y,\n",
    "                                        lon=tweets_final['geometry'].x,\n",
    "                                        mode='markers',\n",
    "                                        marker=dict(size=7.5,\n",
    "                                                    colorscale='sunset',\n",
    "                                                    opacity=0.8,\n",
    "                                                    symbol='circle'),\n",
    "                                        text=scatterhover)\n",
    ")\n",
    "\n",
    "# Set the layout of the Scatter map figure, including the title, the map attributes, the plot height and the plot width\n",
    "scattermap.update_layout(title='Locations of LEC/NEOM-related Tweets',\n",
    "                         mapbox=dict(style='carto-positron',\n",
    "                                     center=dict(lat=tweets_final['geometry'].y.median(),\n",
    "                                                 lon=tweets_final['geometry'].x.median()),\n",
    "                                     zoom=0.5),\n",
    "                         height=650,\n",
    "                         width=900\n",
    ")\n",
    "\n",
    "# Show the Scatter map figure\n",
    "scattermap.show()"
   ]
  },
  {
   "attachments": {},
   "cell_type": "markdown",
   "metadata": {},
   "source": [
    "Here we use a Scatter map. The scatter map is a visual representation of the geographical distribution of tweets related to the LEC/NEOM sponsorship. Using the Plotly library, and the Mapbox API, markers are placed on the map that correspond to the approximate location of each tweet and where it originated from. The map uses the 'carto-positron' Mapbox style, and uses the latitude and longitude coordinates, which are derived from the 'geometry' column in the dataset, to plot each tweet. This enables the scatter map to accurately position each tweet on a map of the world, providing a bird's-eye view of the global conversation around the sponsorship."
   ]
  },
  {
   "cell_type": "code",
   "execution_count": 17,
   "metadata": {},
   "outputs": [],
   "source": [
    "tweets_final['polarity']=0.0\n",
    "tweets_final['subjectivity']=0.0\n",
    "\n",
    "for i, row in tweets_final.iterrows():\n",
    "    text = row['full_text']\n",
    "\n",
    "    blob = TextBlob(text)\n",
    "    \n",
    "    polarity = blob.sentiment.polarity\n",
    "    subjectivity = blob.sentiment.subjectivity\n",
    "    \n",
    "    tweets_final.at[i, 'polarity'] = polarity\n",
    "    tweets_final.at[i, 'subjectivity'] = subjectivity"
   ]
  },
  {
   "cell_type": "code",
   "execution_count": 18,
   "metadata": {},
   "outputs": [
    {
     "data": {
      "text/html": [
       "<div>\n",
       "<style scoped>\n",
       "    .dataframe tbody tr th:only-of-type {\n",
       "        vertical-align: middle;\n",
       "    }\n",
       "\n",
       "    .dataframe tbody tr th {\n",
       "        vertical-align: top;\n",
       "    }\n",
       "\n",
       "    .dataframe thead th {\n",
       "        text-align: right;\n",
       "    }\n",
       "</style>\n",
       "<table border=\"1\" class=\"dataframe\">\n",
       "  <thead>\n",
       "    <tr style=\"text-align: right;\">\n",
       "      <th></th>\n",
       "      <th>username</th>\n",
       "      <th>polarity</th>\n",
       "      <th>subjectivity</th>\n",
       "    </tr>\n",
       "  </thead>\n",
       "  <tbody>\n",
       "    <tr>\n",
       "      <th>0</th>\n",
       "      <td>Slasher</td>\n",
       "      <td>0.400000</td>\n",
       "      <td>0.412500</td>\n",
       "    </tr>\n",
       "    <tr>\n",
       "      <th>1</th>\n",
       "      <td>JacobWolf</td>\n",
       "      <td>0.070000</td>\n",
       "      <td>0.386667</td>\n",
       "    </tr>\n",
       "    <tr>\n",
       "      <th>2</th>\n",
       "      <td>JacobWolf</td>\n",
       "      <td>0.000000</td>\n",
       "      <td>0.000000</td>\n",
       "    </tr>\n",
       "    <tr>\n",
       "      <th>3</th>\n",
       "      <td>NOHEATED</td>\n",
       "      <td>0.028788</td>\n",
       "      <td>0.501515</td>\n",
       "    </tr>\n",
       "    <tr>\n",
       "      <th>4</th>\n",
       "      <td>MShent1238</td>\n",
       "      <td>0.025000</td>\n",
       "      <td>0.125000</td>\n",
       "    </tr>\n",
       "  </tbody>\n",
       "</table>\n",
       "</div>"
      ],
      "text/plain": [
       "     username  polarity  subjectivity\n",
       "0     Slasher  0.400000      0.412500\n",
       "1   JacobWolf  0.070000      0.386667\n",
       "2   JacobWolf  0.000000      0.000000\n",
       "3    NOHEATED  0.028788      0.501515\n",
       "4  MShent1238  0.025000      0.125000"
      ]
     },
     "metadata": {},
     "output_type": "display_data"
    }
   ],
   "source": [
    "display(tweets_final.loc[:, ['username', 'polarity', 'subjectivity']].head())"
   ]
  },
  {
   "cell_type": "code",
   "execution_count": 19,
   "metadata": {},
   "outputs": [],
   "source": [
    "# Create text hover template to be used in future plots\n",
    "sentimenthover = ('<b>Name:</b> ' + tweets_final['username'].astype(str) + '<br>' +\n",
    "                  '<b>User Location:</b> ' + tweets_final['location'].astype(str) + '<br>' +\n",
    "                  '<b>Verified?</b> ' + tweets_final['verified'].astype(str) + '<br>' +\n",
    "                  '<b>Date:</b> ' + tweets_final['created_at'].astype(str) + '<br>' +\n",
    "                  '<b>Tweet:</b> ' + tweets_final['full_text'].astype(str) +\n",
    "                  '<b>Polarity:</b> ' + tweets_final['polarity'].astype(str) + '<br>' +\n",
    "                  '<b>Subjectivity:</b> ' + tweets_final['subjectivity'].astype(str)\n",
    ")"
   ]
  },
  {
   "attachments": {},
   "cell_type": "markdown",
   "metadata": {},
   "source": [
    "Sentiment analysis is a powerful tool that can help us understand the emotions and attitudes of people on social media towards the LEC/NEOM sponsorship. To perform sentiment analysis on the tweets dataset, we use the TextBlob library, a popular natural language processing tool in Python. TextBlob offers a range of features for text analysis, including sentiment analysis, which allows us to determine the positivity or negativity of a text, as well as the degree of personal opinion or emotion expressed.\n",
    "\n",
    "To calculate the Polarity and Subjectivity values for each tweet, we apply sentiment analysis to the text of each tweet. Polarity ranges from -1 to 1 and reflects the degree of positivity or negativity of a text, with 0 being neutral. Subjectivity ranges from 0 to 1 and reflects the degree of personal opinion or emotion expressed in a text, with 0 being objective and 1 being highly subjective.\n",
    "\n",
    "Sentiment analysis is not perfect, however. This is due to computers not having the ability to accurately detect sarcasm or irony, or to account for cultural or linguistic differences in the training data."
   ]
  },
  {
   "attachments": {},
   "cell_type": "markdown",
   "metadata": {},
   "source": [
    "##### Polarity"
   ]
  },
  {
   "cell_type": "code",
   "execution_count": 20,
   "metadata": {},
   "outputs": [
    {
     "data": {
      "application/vnd.plotly.v1+json": {
       "config": {
        "plotlyServerURL": "https://plot.ly"
       },
       "data": [
        {
         "alignmentgroup": "True",
         "bingroup": "x",
         "hovertemplate": "polarity=%{x}<br>count=%{y}<extra></extra>",
         "legendgroup": "",
         "marker": {
          "color": "#636efa",
          "pattern": {
           "shape": ""
          }
         },
         "name": "",
         "nbinsx": 20,
         "offsetgroup": "",
         "orientation": "v",
         "showlegend": false,
         "type": "histogram",
         "x": [
          0.4,
          0.07,
          0,
          0.02878787878787879,
          0.024999999999999994,
          0.15416666666666667,
          -0.35714285714285715,
          -0.12000000000000002,
          0,
          -0.175,
          0.5,
          0,
          0,
          0.06666666666666665,
          0,
          -0.037499999999999985,
          0,
          0,
          -0.06666666666666665,
          -0.06666666666666667,
          0.8,
          0.2054444444444444,
          0,
          0.35,
          0,
          -0.14285714285714285,
          -0.5,
          0,
          0,
          0,
          0,
          -0.08000000000000003,
          0.13333333333333333,
          -0.125,
          0.15000000000000002,
          0.25,
          0.03333333333333333,
          0,
          0.3583333333333334,
          0.5,
          0,
          0.225,
          -0.13999999999999999,
          0.3125,
          0,
          -0.4,
          -0.016666666666666663,
          0.1,
          -0.6,
          0,
          -0.0666666666666667,
          -0.35,
          0.25,
          0,
          0.1875,
          0,
          0,
          0.45,
          -0.225,
          0.3499999999999999,
          0.14123376623376624,
          0.5833333333333334,
          0.03134920634920634,
          -0.15,
          -0.3125,
          0.281,
          0.04999999999999999,
          -0.4,
          0,
          0.06666666666666667,
          -0.25,
          0.25,
          -0.09666666666666665,
          -0.3333333333333333,
          0,
          0.30277777777777776,
          0.04999999999999999,
          -0.019999999999999962,
          -1,
          0,
          0.4,
          -0.2711111111111111,
          0,
          -0.04999999999999999,
          0,
          0.1875,
          0.4000000000000001,
          0,
          0.2,
          0,
          0,
          0,
          0.43333333333333335
         ],
         "xaxis": "x",
         "yaxis": "y"
        }
       ],
       "layout": {
        "barmode": "relative",
        "legend": {
         "tracegroupgap": 0
        },
        "template": {
         "data": {
          "bar": [
           {
            "error_x": {
             "color": "#2a3f5f"
            },
            "error_y": {
             "color": "#2a3f5f"
            },
            "marker": {
             "line": {
              "color": "#E5ECF6",
              "width": 0.5
             },
             "pattern": {
              "fillmode": "overlay",
              "size": 10,
              "solidity": 0.2
             }
            },
            "type": "bar"
           }
          ],
          "barpolar": [
           {
            "marker": {
             "line": {
              "color": "#E5ECF6",
              "width": 0.5
             },
             "pattern": {
              "fillmode": "overlay",
              "size": 10,
              "solidity": 0.2
             }
            },
            "type": "barpolar"
           }
          ],
          "carpet": [
           {
            "aaxis": {
             "endlinecolor": "#2a3f5f",
             "gridcolor": "white",
             "linecolor": "white",
             "minorgridcolor": "white",
             "startlinecolor": "#2a3f5f"
            },
            "baxis": {
             "endlinecolor": "#2a3f5f",
             "gridcolor": "white",
             "linecolor": "white",
             "minorgridcolor": "white",
             "startlinecolor": "#2a3f5f"
            },
            "type": "carpet"
           }
          ],
          "choropleth": [
           {
            "colorbar": {
             "outlinewidth": 0,
             "ticks": ""
            },
            "type": "choropleth"
           }
          ],
          "contour": [
           {
            "colorbar": {
             "outlinewidth": 0,
             "ticks": ""
            },
            "colorscale": [
             [
              0,
              "#0d0887"
             ],
             [
              0.1111111111111111,
              "#46039f"
             ],
             [
              0.2222222222222222,
              "#7201a8"
             ],
             [
              0.3333333333333333,
              "#9c179e"
             ],
             [
              0.4444444444444444,
              "#bd3786"
             ],
             [
              0.5555555555555556,
              "#d8576b"
             ],
             [
              0.6666666666666666,
              "#ed7953"
             ],
             [
              0.7777777777777778,
              "#fb9f3a"
             ],
             [
              0.8888888888888888,
              "#fdca26"
             ],
             [
              1,
              "#f0f921"
             ]
            ],
            "type": "contour"
           }
          ],
          "contourcarpet": [
           {
            "colorbar": {
             "outlinewidth": 0,
             "ticks": ""
            },
            "type": "contourcarpet"
           }
          ],
          "heatmap": [
           {
            "colorbar": {
             "outlinewidth": 0,
             "ticks": ""
            },
            "colorscale": [
             [
              0,
              "#0d0887"
             ],
             [
              0.1111111111111111,
              "#46039f"
             ],
             [
              0.2222222222222222,
              "#7201a8"
             ],
             [
              0.3333333333333333,
              "#9c179e"
             ],
             [
              0.4444444444444444,
              "#bd3786"
             ],
             [
              0.5555555555555556,
              "#d8576b"
             ],
             [
              0.6666666666666666,
              "#ed7953"
             ],
             [
              0.7777777777777778,
              "#fb9f3a"
             ],
             [
              0.8888888888888888,
              "#fdca26"
             ],
             [
              1,
              "#f0f921"
             ]
            ],
            "type": "heatmap"
           }
          ],
          "heatmapgl": [
           {
            "colorbar": {
             "outlinewidth": 0,
             "ticks": ""
            },
            "colorscale": [
             [
              0,
              "#0d0887"
             ],
             [
              0.1111111111111111,
              "#46039f"
             ],
             [
              0.2222222222222222,
              "#7201a8"
             ],
             [
              0.3333333333333333,
              "#9c179e"
             ],
             [
              0.4444444444444444,
              "#bd3786"
             ],
             [
              0.5555555555555556,
              "#d8576b"
             ],
             [
              0.6666666666666666,
              "#ed7953"
             ],
             [
              0.7777777777777778,
              "#fb9f3a"
             ],
             [
              0.8888888888888888,
              "#fdca26"
             ],
             [
              1,
              "#f0f921"
             ]
            ],
            "type": "heatmapgl"
           }
          ],
          "histogram": [
           {
            "marker": {
             "pattern": {
              "fillmode": "overlay",
              "size": 10,
              "solidity": 0.2
             }
            },
            "type": "histogram"
           }
          ],
          "histogram2d": [
           {
            "colorbar": {
             "outlinewidth": 0,
             "ticks": ""
            },
            "colorscale": [
             [
              0,
              "#0d0887"
             ],
             [
              0.1111111111111111,
              "#46039f"
             ],
             [
              0.2222222222222222,
              "#7201a8"
             ],
             [
              0.3333333333333333,
              "#9c179e"
             ],
             [
              0.4444444444444444,
              "#bd3786"
             ],
             [
              0.5555555555555556,
              "#d8576b"
             ],
             [
              0.6666666666666666,
              "#ed7953"
             ],
             [
              0.7777777777777778,
              "#fb9f3a"
             ],
             [
              0.8888888888888888,
              "#fdca26"
             ],
             [
              1,
              "#f0f921"
             ]
            ],
            "type": "histogram2d"
           }
          ],
          "histogram2dcontour": [
           {
            "colorbar": {
             "outlinewidth": 0,
             "ticks": ""
            },
            "colorscale": [
             [
              0,
              "#0d0887"
             ],
             [
              0.1111111111111111,
              "#46039f"
             ],
             [
              0.2222222222222222,
              "#7201a8"
             ],
             [
              0.3333333333333333,
              "#9c179e"
             ],
             [
              0.4444444444444444,
              "#bd3786"
             ],
             [
              0.5555555555555556,
              "#d8576b"
             ],
             [
              0.6666666666666666,
              "#ed7953"
             ],
             [
              0.7777777777777778,
              "#fb9f3a"
             ],
             [
              0.8888888888888888,
              "#fdca26"
             ],
             [
              1,
              "#f0f921"
             ]
            ],
            "type": "histogram2dcontour"
           }
          ],
          "mesh3d": [
           {
            "colorbar": {
             "outlinewidth": 0,
             "ticks": ""
            },
            "type": "mesh3d"
           }
          ],
          "parcoords": [
           {
            "line": {
             "colorbar": {
              "outlinewidth": 0,
              "ticks": ""
             }
            },
            "type": "parcoords"
           }
          ],
          "pie": [
           {
            "automargin": true,
            "type": "pie"
           }
          ],
          "scatter": [
           {
            "fillpattern": {
             "fillmode": "overlay",
             "size": 10,
             "solidity": 0.2
            },
            "type": "scatter"
           }
          ],
          "scatter3d": [
           {
            "line": {
             "colorbar": {
              "outlinewidth": 0,
              "ticks": ""
             }
            },
            "marker": {
             "colorbar": {
              "outlinewidth": 0,
              "ticks": ""
             }
            },
            "type": "scatter3d"
           }
          ],
          "scattercarpet": [
           {
            "marker": {
             "colorbar": {
              "outlinewidth": 0,
              "ticks": ""
             }
            },
            "type": "scattercarpet"
           }
          ],
          "scattergeo": [
           {
            "marker": {
             "colorbar": {
              "outlinewidth": 0,
              "ticks": ""
             }
            },
            "type": "scattergeo"
           }
          ],
          "scattergl": [
           {
            "marker": {
             "colorbar": {
              "outlinewidth": 0,
              "ticks": ""
             }
            },
            "type": "scattergl"
           }
          ],
          "scattermapbox": [
           {
            "marker": {
             "colorbar": {
              "outlinewidth": 0,
              "ticks": ""
             }
            },
            "type": "scattermapbox"
           }
          ],
          "scatterpolar": [
           {
            "marker": {
             "colorbar": {
              "outlinewidth": 0,
              "ticks": ""
             }
            },
            "type": "scatterpolar"
           }
          ],
          "scatterpolargl": [
           {
            "marker": {
             "colorbar": {
              "outlinewidth": 0,
              "ticks": ""
             }
            },
            "type": "scatterpolargl"
           }
          ],
          "scatterternary": [
           {
            "marker": {
             "colorbar": {
              "outlinewidth": 0,
              "ticks": ""
             }
            },
            "type": "scatterternary"
           }
          ],
          "surface": [
           {
            "colorbar": {
             "outlinewidth": 0,
             "ticks": ""
            },
            "colorscale": [
             [
              0,
              "#0d0887"
             ],
             [
              0.1111111111111111,
              "#46039f"
             ],
             [
              0.2222222222222222,
              "#7201a8"
             ],
             [
              0.3333333333333333,
              "#9c179e"
             ],
             [
              0.4444444444444444,
              "#bd3786"
             ],
             [
              0.5555555555555556,
              "#d8576b"
             ],
             [
              0.6666666666666666,
              "#ed7953"
             ],
             [
              0.7777777777777778,
              "#fb9f3a"
             ],
             [
              0.8888888888888888,
              "#fdca26"
             ],
             [
              1,
              "#f0f921"
             ]
            ],
            "type": "surface"
           }
          ],
          "table": [
           {
            "cells": {
             "fill": {
              "color": "#EBF0F8"
             },
             "line": {
              "color": "white"
             }
            },
            "header": {
             "fill": {
              "color": "#C8D4E3"
             },
             "line": {
              "color": "white"
             }
            },
            "type": "table"
           }
          ]
         },
         "layout": {
          "annotationdefaults": {
           "arrowcolor": "#2a3f5f",
           "arrowhead": 0,
           "arrowwidth": 1
          },
          "autotypenumbers": "strict",
          "coloraxis": {
           "colorbar": {
            "outlinewidth": 0,
            "ticks": ""
           }
          },
          "colorscale": {
           "diverging": [
            [
             0,
             "#8e0152"
            ],
            [
             0.1,
             "#c51b7d"
            ],
            [
             0.2,
             "#de77ae"
            ],
            [
             0.3,
             "#f1b6da"
            ],
            [
             0.4,
             "#fde0ef"
            ],
            [
             0.5,
             "#f7f7f7"
            ],
            [
             0.6,
             "#e6f5d0"
            ],
            [
             0.7,
             "#b8e186"
            ],
            [
             0.8,
             "#7fbc41"
            ],
            [
             0.9,
             "#4d9221"
            ],
            [
             1,
             "#276419"
            ]
           ],
           "sequential": [
            [
             0,
             "#0d0887"
            ],
            [
             0.1111111111111111,
             "#46039f"
            ],
            [
             0.2222222222222222,
             "#7201a8"
            ],
            [
             0.3333333333333333,
             "#9c179e"
            ],
            [
             0.4444444444444444,
             "#bd3786"
            ],
            [
             0.5555555555555556,
             "#d8576b"
            ],
            [
             0.6666666666666666,
             "#ed7953"
            ],
            [
             0.7777777777777778,
             "#fb9f3a"
            ],
            [
             0.8888888888888888,
             "#fdca26"
            ],
            [
             1,
             "#f0f921"
            ]
           ],
           "sequentialminus": [
            [
             0,
             "#0d0887"
            ],
            [
             0.1111111111111111,
             "#46039f"
            ],
            [
             0.2222222222222222,
             "#7201a8"
            ],
            [
             0.3333333333333333,
             "#9c179e"
            ],
            [
             0.4444444444444444,
             "#bd3786"
            ],
            [
             0.5555555555555556,
             "#d8576b"
            ],
            [
             0.6666666666666666,
             "#ed7953"
            ],
            [
             0.7777777777777778,
             "#fb9f3a"
            ],
            [
             0.8888888888888888,
             "#fdca26"
            ],
            [
             1,
             "#f0f921"
            ]
           ]
          },
          "colorway": [
           "#636efa",
           "#EF553B",
           "#00cc96",
           "#ab63fa",
           "#FFA15A",
           "#19d3f3",
           "#FF6692",
           "#B6E880",
           "#FF97FF",
           "#FECB52"
          ],
          "font": {
           "color": "#2a3f5f"
          },
          "geo": {
           "bgcolor": "white",
           "lakecolor": "white",
           "landcolor": "#E5ECF6",
           "showlakes": true,
           "showland": true,
           "subunitcolor": "white"
          },
          "hoverlabel": {
           "align": "left"
          },
          "hovermode": "closest",
          "mapbox": {
           "style": "light"
          },
          "paper_bgcolor": "white",
          "plot_bgcolor": "#E5ECF6",
          "polar": {
           "angularaxis": {
            "gridcolor": "white",
            "linecolor": "white",
            "ticks": ""
           },
           "bgcolor": "#E5ECF6",
           "radialaxis": {
            "gridcolor": "white",
            "linecolor": "white",
            "ticks": ""
           }
          },
          "scene": {
           "xaxis": {
            "backgroundcolor": "#E5ECF6",
            "gridcolor": "white",
            "gridwidth": 2,
            "linecolor": "white",
            "showbackground": true,
            "ticks": "",
            "zerolinecolor": "white"
           },
           "yaxis": {
            "backgroundcolor": "#E5ECF6",
            "gridcolor": "white",
            "gridwidth": 2,
            "linecolor": "white",
            "showbackground": true,
            "ticks": "",
            "zerolinecolor": "white"
           },
           "zaxis": {
            "backgroundcolor": "#E5ECF6",
            "gridcolor": "white",
            "gridwidth": 2,
            "linecolor": "white",
            "showbackground": true,
            "ticks": "",
            "zerolinecolor": "white"
           }
          },
          "shapedefaults": {
           "line": {
            "color": "#2a3f5f"
           }
          },
          "ternary": {
           "aaxis": {
            "gridcolor": "white",
            "linecolor": "white",
            "ticks": ""
           },
           "baxis": {
            "gridcolor": "white",
            "linecolor": "white",
            "ticks": ""
           },
           "bgcolor": "#E5ECF6",
           "caxis": {
            "gridcolor": "white",
            "linecolor": "white",
            "ticks": ""
           }
          },
          "title": {
           "x": 0.05
          },
          "xaxis": {
           "automargin": true,
           "gridcolor": "white",
           "linecolor": "white",
           "ticks": "",
           "title": {
            "standoff": 15
           },
           "zerolinecolor": "white",
           "zerolinewidth": 2
          },
          "yaxis": {
           "automargin": true,
           "gridcolor": "white",
           "linecolor": "white",
           "ticks": "",
           "title": {
            "standoff": 15
           },
           "zerolinecolor": "white",
           "zerolinewidth": 2
          }
         }
        },
        "title": {
         "text": "Polarity of LEC/NEOM-related Tweets"
        },
        "width": 900,
        "xaxis": {
         "anchor": "y",
         "domain": [
          0,
          1
         ],
         "title": {
          "text": "polarity"
         }
        },
        "yaxis": {
         "anchor": "x",
         "domain": [
          0,
          1
         ],
         "title": {
          "text": "count"
         }
        }
       }
      }
     },
     "metadata": {},
     "output_type": "display_data"
    }
   ],
   "source": [
    "# Create a Histogram figure with data for Polarity of LEC/NEOM-related Tweets\n",
    "polhist=px.histogram(tweets_final,\n",
    "                     x='polarity',\n",
    "                     nbins=20,\n",
    "                     title='Polarity of LEC/NEOM-related Tweets',\n",
    "                     width=900)\n",
    "\n",
    "# Show the Histogram figure\n",
    "polhist.show()"
   ]
  },
  {
   "attachments": {},
   "cell_type": "markdown",
   "metadata": {},
   "source": [
    "Using a histogram, from the Plotly library, specifically Plotly Express, we can visualise the polarity data from the sentiment analysis we applied to the dataset. The histogram is skewed towards the center, with the majority of the tweets having a polarity score of 0, indicating a neutral sentiment towards the LEC/NEOM sponsorship. The histogram also shows that there are a small number of tweets with a negative polarity score (less than 0) and some tweets with a positive polarity score (greater than 0), indicating mixed sentiments among some Twitter users regarding the sponsorship. Overall, the histogram provides a clear representation of the sentiment distribution among Twitter users in relation to the LEC/NEOM sponsorship."
   ]
  },
  {
   "cell_type": "code",
   "execution_count": 21,
   "metadata": {},
   "outputs": [
    {
     "data": {
      "application/vnd.plotly.v1+json": {
       "config": {
        "plotlyServerURL": "https://plot.ly"
       },
       "data": [
        {
         "lat": [
          40.7896239,
          30.2711286,
          30.2711286,
          48.4680221,
          46.3144754,
          4.4320637,
          34.0536909,
          null,
          46.3144754,
          52.5170365,
          30.2711286,
          50.2555218,
          null,
          null,
          38.8950368,
          56.7861112,
          -28.0752851,
          60.277614299999996,
          46.3144754,
          51.5073359,
          61.1529386,
          41.9538873,
          50.2555218,
          52.5170365,
          46.3144754,
          46.3144754,
          51.5073359,
          48.1012954,
          -0.26019000000000003,
          46.3144754,
          null,
          49.8975651,
          46.3144754,
          46.3144754,
          46.3144754,
          46.3144754,
          null,
          34.0536909,
          52.5170365,
          null,
          46.3144754,
          39.7837304,
          46.3144754,
          34.0536909,
          46.3144754,
          52.4796992,
          43.6211955,
          34.093042,
          55.670249,
          null,
          46.769379,
          55.670249,
          50.416667,
          45.022172,
          null,
          46.3144754,
          50.8550018,
          46.3144754,
          -34.0717253,
          52.865196,
          52.5170365,
          46.3144754,
          51.5073359,
          46.3144754,
          46.3144754,
          null,
          32.4610708,
          46.3144754,
          46.603354,
          46.3144754,
          -34.6075682,
          34.0536909,
          8.7712794,
          34.0536909,
          46.3144754,
          41.8755616,
          30.2711286,
          57.0462626,
          43.6534817,
          32.7762719,
          46.3144754,
          40.7127281,
          51.14804,
          40.7127281,
          46.3144754,
          42.3999954,
          null,
          46.3144754,
          46.3144754,
          46.3144754,
          55.6786485,
          39.7837304,
          42.3999954
         ],
         "lon": [
          -73.9598939,
          -97.7436995,
          -97.7436995,
          35.0417711,
          11.0480288,
          -75.2477734,
          -118.242766,
          null,
          11.0480288,
          13.3888599,
          -97.7436995,
          8.974959398792844,
          null,
          null,
          -77.0365427,
          -4.1140518,
          153.3637173,
          -1.1258082645868739,
          11.0480288,
          -0.12765,
          8.7876653,
          -87.654928,
          8.974959398792844,
          13.3888599,
          11.0480288,
          11.0480288,
          -0.12765,
          66.7780818,
          -90.72254665048543,
          11.0480288,
          null,
          6.8502714,
          11.0480288,
          11.0480288,
          11.0480288,
          11.0480288,
          null,
          -118.242766,
          13.3888599,
          null,
          11.0480288,
          -100.445882,
          11.0480288,
          -118.242766,
          11.0480288,
          -1.9026911,
          -84.6824346,
          -118.12706,
          10.3333283,
          null,
          23.5899542,
          10.3333283,
          -4.75,
          4.3221548,
          null,
          11.0480288,
          4.3512333761166175,
          11.0480288,
          151.04929585694757,
          -7.9794599,
          13.3888599,
          11.0480288,
          -0.12765,
          11.0480288,
          11.0480288,
          null,
          -84.9880449,
          11.0480288,
          1.8883335,
          11.0480288,
          -58.4370894,
          -118.242766,
          13.7803627,
          -118.242766,
          11.0480288,
          -87.6244212,
          -97.7436995,
          9.9215263,
          -79.3839347,
          -96.7968559,
          11.0480288,
          -74.0060152,
          -2.716577,
          -74.0060152,
          11.0480288,
          -73.2322639,
          null,
          11.0480288,
          11.0480288,
          11.0480288,
          12.5697826,
          -100.445882,
          -73.2322639
         ],
         "marker": {
          "color": [
           0.4,
           0.07,
           0,
           0.02878787878787879,
           0.024999999999999994,
           0.15416666666666667,
           -0.35714285714285715,
           -0.12000000000000002,
           0,
           -0.175,
           0.5,
           0,
           0,
           0.06666666666666665,
           0,
           -0.037499999999999985,
           0,
           0,
           -0.06666666666666665,
           -0.06666666666666667,
           0.8,
           0.2054444444444444,
           0,
           0.35,
           0,
           -0.14285714285714285,
           -0.5,
           0,
           0,
           0,
           0,
           -0.08000000000000003,
           0.13333333333333333,
           -0.125,
           0.15000000000000002,
           0.25,
           0.03333333333333333,
           0,
           0.3583333333333334,
           0.5,
           0,
           0.225,
           -0.13999999999999999,
           0.3125,
           0,
           -0.4,
           -0.016666666666666663,
           0.1,
           -0.6,
           0,
           -0.0666666666666667,
           -0.35,
           0.25,
           0,
           0.1875,
           0,
           0,
           0.45,
           -0.225,
           0.3499999999999999,
           0.14123376623376624,
           0.5833333333333334,
           0.03134920634920634,
           -0.15,
           -0.3125,
           0.281,
           0.04999999999999999,
           -0.4,
           0,
           0.06666666666666667,
           -0.25,
           0.25,
           -0.09666666666666665,
           -0.3333333333333333,
           0,
           0.30277777777777776,
           0.04999999999999999,
           -0.019999999999999962,
           -1,
           0,
           0.4,
           -0.2711111111111111,
           0,
           -0.04999999999999999,
           0,
           0.1875,
           0.4000000000000001,
           0,
           0.2,
           0,
           0,
           0,
           0.43333333333333335
          ],
          "colorbar": {
           "title": {
            "text": "Polarity"
           }
          },
          "colorscale": [
           [
            0,
            "rgb(243, 231, 155)"
           ],
           [
            0.16666666666666666,
            "rgb(250, 196, 132)"
           ],
           [
            0.3333333333333333,
            "rgb(248, 160, 126)"
           ],
           [
            0.5,
            "rgb(235, 127, 134)"
           ],
           [
            0.6666666666666666,
            "rgb(206, 102, 147)"
           ],
           [
            0.8333333333333334,
            "rgb(160, 89, 160)"
           ],
           [
            1,
            "rgb(92, 83, 165)"
           ]
          ],
          "opacity": 0.7,
          "size": 7.5
         },
         "mode": "markers",
         "text": [
          "<b>Name:</b> Slasher<br><b>User Location:</b> Manhattan, NY<br><b>Verified?</b> False<br><b>Date:</b> 2020-08-13<br><b>Tweet:</b> if Riot never rescinded their LEC NEOM sponsorship I don't see BLAST ever doing the same. Riot employees, LoL casters, and CSGO casters deserve all the praise for standing up for their beliefs, not to the executives who signed off on the deal to begin with https://t.co/M7WnV8uwas<b>Polarity:</b> 0.4<br><b>Subjectivity:</b> 0.4125",
          "<b>Name:</b> JacobWolf<br><b>User Location:</b> Austin, TX<br><b>Verified?</b> False<br><b>Date:</b> 2020-07-30<br><b>Tweet:</b> Crazy how much reputation the #LEC lost for partnering with NEOM in the first place. It was arguably the most respect pro league by Western fans in the League of Legends space — as the #LCS has struggled to catch up — but seems a lot of that flew out the window today.<b>Polarity:</b> 0.07<br><b>Subjectivity:</b> 0.38666666666666666",
          "<b>Name:</b> JacobWolf<br><b>User Location:</b> Austin, TX<br><b>Verified?</b> False<br><b>Date:</b> 2020-07-30<br><b>Tweet:</b> Regarding speculation that #LEC teams having voting power in league-wide sponsorships, they do not, sources told ESPN. Teams were notified of the NEOM deal but did not have a say for or against. \n\nhttps://t.co/d1cWqwVvSK<b>Polarity:</b> 0.0<br><b>Subjectivity:</b> 0.0",
          "<b>Name:</b> NOHEATED<br><b>User Location:</b> Ukraine, Dnipro<br><b>Verified?</b> False<br><b>Date:</b> 2023-02-13<br><b>Tweet:</b> @MShadov @erasus_dk @MmX_A_ @G2esports @CarlosR @HooXiCSGO New CEO not better tbh. The guy was responsible for the LEC Neom deal<b>Polarity:</b> 0.02878787878787879<br><b>Subjectivity:</b> 0.5015151515151516",
          "<b>Name:</b> MShent1238<br><b>User Location:</b> nan<br><b>Verified?</b> False<br><b>Date:</b> 2020-07-31<br><b>Tweet:</b> @iiLoVE18 @PoliticsAndMem2 @VewNizion @BGBFG14 @Kalytis_ @LEC @NEOM When u try to logically engage fundamentally illogical argument = u lost\n\nWhen you waste your time on homophobes = u lost<b>Polarity:</b> 0.024999999999999994<br><b>Subjectivity:</b> 0.125",
          "<b>Name:</b> Lexandviolets<br><b>User Location:</b> Nowhere, CO<br><b>Verified?</b> False<br><b>Date:</b> 2020-07-30<br><b>Tweet:</b> @Tweeb1999 @Fenstick @TehHero117 @LEC @NEOM Not supporting any side. That's the easy way out. Some if us don't have a choice. You can try and play both sides then.<b>Polarity:</b> 0.15416666666666667<br><b>Subjectivity:</b> 0.5416666666666667",
          "<b>Name:</b> KappaChiino<br><b>User Location:</b> Los Angeles, CA<br><b>Verified?</b> False<br><b>Date:</b> 2020-12-03<br><b>Tweet:</b> @AfterLose @LEC @NEOM I went back to see the comments on this post, idk why, but man. You guys are sick in the head.<b>Polarity:</b> -0.35714285714285715<br><b>Subjectivity:</b> 0.42857142857142855",
          "<b>Name:</b> Geccobear<br><b>User Location:</b> Zamonien<br><b>Verified?</b> False<br><b>Date:</b> 2021-06-03<br><b>Tweet:</b> I don't know if it's just me... but seeing all these orgs changing their icons to rainbow colors sometimes feels like a big \"fuck you\" considering the everyday discrimination they ignore. It's only big scandals like the LEC NEOM partnership that forces reactions.<b>Polarity:</b> -0.12000000000000002<br><b>Subjectivity:</b> 0.48",
          "<b>Name:</b> PrizeZepir<br><b>User Location:</b> nan<br><b>Verified?</b> False<br><b>Date:</b> 2022-09-24<br><b>Tweet:</b> @xghozin @Mayerdynn @Hughsie28 @LEC @NEOM you literally made all that up<b>Polarity:</b> 0.0<br><b>Subjectivity:</b> 0.0",
          "<b>Name:</b> DariusExMachina<br><b>User Location:</b> Berlin, Germany<br><b>Verified?</b> False<br><b>Date:</b> 2020-09-25<br><b>Tweet:</b> ngl, I think it‘s omegacringe how everyone was outraged at the #LEC NEOM deal, but no one bats an eye about the fact that PSG are sponsored by the state of Qatar, responsible for thousands of slave deaths within the last 5 years + having the same practice towards LGBTQ+ folk<b>Polarity:</b> -0.175<br><b>Subjectivity:</b> 0.4354166666666667",
          "<b>Name:</b> IWDominate<br><b>User Location:</b> Austin, TX<br><b>Verified?</b> False<br><b>Date:</b> 2020-07-31<br><b>Tweet:</b> Regarding the segment on the LEC and NEOM, I did not speculate on what the Talent team should/shouldn't do.  I simply asked if we lose one of our best casters (Frosk) because of the statements and then deferred to my co-host and his opinion as someone who works as a caster.<b>Polarity:</b> 0.5<br><b>Subjectivity:</b> 0.32857142857142857",
          "<b>Name:</b> TroZrat<br><b>User Location:</b> 22 he/him<br><b>Verified?</b> False<br><b>Date:</b> 2020-07-30<br><b>Tweet:</b> @Alpha_Canem @LEC @NEOM Move to mars or something we don't need you here.<b>Polarity:</b> 0.0<br><b>Subjectivity:</b> 0.0",
          "<b>Name:</b> RuneblowEX<br><b>User Location:</b> The Omnitard#4027 M 6'2\" (7\")<br><b>Verified?</b> False<br><b>Date:</b> 2020-07-30<br><b>Tweet:</b> @Nuyxo @Tweeb1999 @Fenstick @TehHero117 @LEC @NEOM I'm not taking any sides here but what about pedos and zoophiles?<b>Polarity:</b> 0.0<br><b>Subjectivity:</b> 0.0",
          "<b>Name:</b> RuneblowEX<br><b>User Location:</b> The Omnitard#4027 M 6'2\" (7\")<br><b>Verified?</b> False<br><b>Date:</b> 2020-07-30<br><b>Tweet:</b> @Nuyxo @Tweeb1999 @Fenstick @TehHero117 @LEC @NEOM fair enough, cant say ur wrong on that one<b>Polarity:</b> 0.06666666666666665<br><b>Subjectivity:</b> 0.7666666666666666",
          "<b>Name:</b> LewdPrune<br><b>User Location:</b> Washington<br><b>Verified?</b> False<br><b>Date:</b> 2020-07-30<br><b>Tweet:</b> @MikeHakansson @MeLlamanTamara_ @LEC @riotgames Neom is a city being built, the pet project of the Saudi Arabian Prince. So yes, it basically is the government for all intents and purposes except in business speak.<b>Polarity:</b> 0.0<br><b>Subjectivity:</b> 0.0",
          "<b>Name:</b> TheSeraphmin<br><b>User Location:</b> Scotland<br><b>Verified?</b> False<br><b>Date:</b> 2020-11-12<br><b>Tweet:</b> honestly riot has done some stupid and controversial things in the past, just look at the LEC neom fiasco, but now there's a genuine personal reason for why Seraphine is a terrible idea, and they really should just take the L on this<b>Polarity:</b> -0.037499999999999985<br><b>Subjectivity:</b> 0.6375",
          "<b>Name:</b> coachaarsh<br><b>User Location:</b> Gold Coast, Aus<br><b>Verified?</b> False<br><b>Date:</b> 2022-01-25<br><b>Tweet:</b> so is esl australia now also owned by saudi arabia? is this not literally the exact same issue as LEC and NEOM man how are we not learning from our past<b>Polarity:</b> 0.0<br><b>Subjectivity:</b> 0.20833333333333334",
          "<b>Name:</b> Am_GDOo<br><b>User Location:</b> ( Kat cunning ) 🖤<br><b>Verified?</b> False<br><b>Date:</b> 2020-08-26<br><b>Tweet:</b> @Fenstick @TehHero117 @LEC @NEOM Any change in your country ?<b>Polarity:</b> 0.0<br><b>Subjectivity:</b> 0.0",
          "<b>Name:</b> OvisGotACup<br><b>User Location:</b> nan<br><b>Verified?</b> False<br><b>Date:</b> 2020-07-30<br><b>Tweet:</b> @Embrslol @Hotdynamixxx @Kalytis_ @LEC @NEOM Sorry mate what was that about twitter posts being meaningless LOL<b>Polarity:</b> -0.06666666666666665<br><b>Subjectivity:</b> 0.9",
          "<b>Name:</b> geometric<br><b>User Location:</b> London, UK<br><b>Verified?</b> False<br><b>Date:</b> 2022-01-24<br><b>Tweet:</b> Don’t get me wrong, I understand that all companies really care about is money. But this reminds me a lot of the LEC NEOM deal. The war of wanting the Middle East’s money but not wanting their social stances may cause a rift in the esports world.<b>Polarity:</b> -0.06666666666666667<br><b>Subjectivity:</b> 0.2916666666666667",
          "<b>Name:</b> abdulelah11cc<br><b>User Location:</b> No<br><b>Verified?</b> False<br><b>Date:</b> 2020-08-12<br><b>Tweet:</b> @Rex21H @LEC @NEOM We are great people idk why people are attacking us<b>Polarity:</b> 0.8<br><b>Subjectivity:</b> 0.75",
          "<b>Name:</b> 719_kenny<br><b>User Location:</b> Sheridan, IL<br><b>Verified?</b> False<br><b>Date:</b> 2022-09-24<br><b>Tweet:</b> @Archer2014UBW @DzDiegoRosales @Perkz The thing is Riots public image still isn't very good but they're actually getting quite a bit better at rectifying bad PR (sure it would be better to prevent entirely but baby steps) remember the LEC/Neom disaster...they shut that down REAL quick<b>Polarity:</b> 0.2054444444444444<br><b>Subjectivity:</b> 0.5166111111111111",
          "<b>Name:</b> TroZrat<br><b>User Location:</b> 22 he/him<br><b>Verified?</b> False<br><b>Date:</b> 2020-07-30<br><b>Tweet:</b> @DavGreed @LEC @NEOM How close-minded can a person be...<b>Polarity:</b> 0.0<br><b>Subjectivity:</b> 0.0",
          "<b>Name:</b> DariusExMachina<br><b>User Location:</b> Berlin, Germany<br><b>Verified?</b> False<br><b>Date:</b> 2020-07-31<br><b>Tweet:</b> The entire #LEC Broadcast team, including members I couldnt add to these screenshots, have come out to say that they wouldve declined to appear on broadcast unless the NEOM deal was revoked - putting their jobs on the line.\n\nThe LEC Show is in good hands. All the power to them 🙌 https://t.co/7vQqlwOzE5<b>Polarity:</b> 0.35<br><b>Subjectivity:</b> 0.6125",
          "<b>Name:</b> Towobix3<br><b>User Location:</b> nan<br><b>Verified?</b> False<br><b>Date:</b> 2020-07-30<br><b>Tweet:</b> @L9Commander @crescend0ll @linczernorbi @LEC @NEOM I wonder if you are baiting or you actually don't understand the point<b>Polarity:</b> 0.0<br><b>Subjectivity:</b> 0.1",
          "<b>Name:</b> daveekh<br><b>User Location:</b> nan<br><b>Verified?</b> False<br><b>Date:</b> 2020-07-30<br><b>Tweet:</b> @xuser117 @cs__lol @LEC neom partnership was not right because they are controlled by saudi arabia government which murders people. not because they're muslim.<b>Polarity:</b> -0.14285714285714285<br><b>Subjectivity:</b> 0.5357142857142857",
          "<b>Name:</b> VeteranEU<br><b>User Location:</b> London, England<br><b>Verified?</b> False<br><b>Date:</b> 2022-06-05<br><b>Tweet:</b> From an article about NEOM and the fallout of their LEC deal going wrong:\n\nhttps://t.co/2CLCbzRJP1 https://t.co/GAdHxxK2Im<b>Polarity:</b> -0.5<br><b>Subjectivity:</b> 0.9",
          "<b>Name:</b> hobbit667<br><b>User Location:</b> Kazakhstan<br><b>Verified?</b> False<br><b>Date:</b> 2020-07-30<br><b>Tweet:</b> @LEC @NEOM LEC got money from LGBTQ+ and now getting money from company against those. Nothing personal, just business.<b>Polarity:</b> 0.0<br><b>Subjectivity:</b> 0.3",
          "<b>Name:</b> dog69999<br><b>User Location:</b> Galapagos Island<br><b>Verified?</b> False<br><b>Date:</b> 2020-08-26<br><b>Tweet:</b> @LEC @NEOM has entered the chat<b>Polarity:</b> 0.0<br><b>Subjectivity:</b> 0.0",
          "<b>Name:</b> deadeg0<br><b>User Location:</b> nan<br><b>Verified?</b> False<br><b>Date:</b> 2020-07-30<br><b>Tweet:</b> @yougainbrouzouf @aolibai @DavGreed @LEC @NEOM As a Muslim, facts.<b>Polarity:</b> 0.0<br><b>Subjectivity:</b> 0.0",
          "<b>Name:</b> SirRubixx<br><b>User Location:</b> boring place in Canada<br><b>Verified?</b> False<br><b>Date:</b> 2022-12-30<br><b>Tweet:</b> @LordParasit @CarlosR guess you forgot about the LEC NEOM deal which was reversed because of community outrage.<b>Polarity:</b> 0.0<br><b>Subjectivity:</b> 0.0",
          "<b>Name:</b> SerioeseSeekuh<br><b>User Location:</b> Esch, Deutschland<br><b>Verified?</b> False<br><b>Date:</b> 2020-07-30<br><b>Tweet:</b> honestly i dont care if people hate me for this tweet but some things have to be said.\n\nFuck you if you are the kind of people that post under the \" lec neom\" posts with \"what about china\".\n\npls just fuck off or make urself noticeable so i can block all of you<b>Polarity:</b> -0.08000000000000003<br><b>Subjectivity:</b> 0.78",
          "<b>Name:</b> moataz_magdy3<br><b>User Location:</b> nan<br><b>Verified?</b> False<br><b>Date:</b> 2020-07-30<br><b>Tweet:</b> @mohamadaladham @Aminopiou @Veigar_v2 @WufOwO u think neom would care about attacking LGBT or something!? business is business, lec/neom care about money nothing more, ppl just used their imagination and expected the future that neom from country so they will try their hardest to kill who is against Islam rules xd<b>Polarity:</b> 0.13333333333333333<br><b>Subjectivity:</b> 0.3416666666666666",
          "<b>Name:</b> OvisGotACup<br><b>User Location:</b> nan<br><b>Verified?</b> False<br><b>Date:</b> 2020-07-31<br><b>Tweet:</b> @iiLoVE18 @MShent1238 @PoliticsAndMem2 @BGBFG14 @Kalytis_ @LEC @NEOM Please take it somewhere else it’s over, you and the other guy lost already because they sponsorship was ended<b>Polarity:</b> -0.125<br><b>Subjectivity:</b> 0.375",
          "<b>Name:</b> ZAK_robloxer<br><b>User Location:</b> nan<br><b>Verified?</b> False<br><b>Date:</b> 2020-07-30<br><b>Tweet:</b> @TomEvilEye @LEC @NEOM Dont dig up old facts just coz they are muslims. Ur being an anti muslim karen now go play league politics are too much for u<b>Polarity:</b> 0.15000000000000002<br><b>Subjectivity:</b> 0.2",
          "<b>Name:</b> blacksh40182773<br><b>User Location:</b> nan<br><b>Verified?</b> False<br><b>Date:</b> 2020-08-12<br><b>Tweet:</b> @Daythehut @TehHero117 @LEC @NEOM I’ll tell you what’s  no longer ok when your country comes to mine saying there’s terrorists there and they need to face them but instead they team up under the table and steals our oil the same mf thing happened to Iraq and Afghanistan<b>Polarity:</b> 0.25<br><b>Subjectivity:</b> 0.3125",
          "<b>Name:</b> FrankieWard<br><b>User Location:</b> Cedar Creek Power Plant<br><b>Verified?</b> False<br><b>Date:</b> 2021-06-21<br><b>Tweet:</b> The reason this has suddenly reemerged was because I spoke out when he attacked Froskurinn for speaking out against the LEC/Neom deal.\n\nAnd yes, I was a hypocrite because of the jobs that I did, but I said I would be different moving forward and so far I have been.<b>Polarity:</b> 0.03333333333333333<br><b>Subjectivity:</b> 0.7000000000000001",
          "<b>Name:</b> TravisGafford<br><b>User Location:</b> Los Angeles, CA<br><b>Verified?</b> False<br><b>Date:</b> 2020-07-31<br><b>Tweet:</b> The LEC casters all said they would not appear on the LEC broadcast this weekend if the NEOM sponsorship continued.<b>Polarity:</b> 0.0<br><b>Subjectivity:</b> 0.0",
          "<b>Name:</b> BeccaCHenry<br><b>User Location:</b> Berlin<br><b>Verified?</b> False<br><b>Date:</b> 2020-07-30<br><b>Tweet:</b> Cancelling the Neom deal is a huge win for Riot and #LEC fans, but it didnt need to happen in the first place. It’s a real indication that Riot needs more diversity in the senior leadership team and approvals process. This should have not gone up the chain without red flags.<b>Polarity:</b> 0.3583333333333334<br><b>Subjectivity:</b> 0.4055555555555556",
          "<b>Name:</b> TheMoConceptual<br><b>User Location:</b> Na praça vendendo cigarro<br><b>Verified?</b> False<br><b>Date:</b> 2020-07-30<br><b>Tweet:</b> @Alpha_Canem @LEC @NEOM @LEC  as you can see, we got the message :)<b>Polarity:</b> 0.5<br><b>Subjectivity:</b> 1.0",
          "<b>Name:</b> dumon_antoine<br><b>User Location:</b> nan<br><b>Verified?</b> False<br><b>Date:</b> 2023-09-17<br><b>Tweet:</b> @Elioww_ @Tw22too @_blakcpink_ @Faaast_life @Zoxistyle Oui bah c’est juste un prétexte, si c’est faze ils refuseront à cause de l’instabilité économique et pour Navi ça sera l’instabilité politique. Je te rappelle qu’il y a quelque mois la LEC signait un contrat avec neom<b>Polarity:</b> 0.0<br><b>Subjectivity:</b> 0.0",
          "<b>Name:</b> flextaperapper<br><b>User Location:</b> United States<br><b>Verified?</b> False<br><b>Date:</b> 2021-07-21<br><b>Tweet:</b> @RazLCS @RisenLazarus I wonder if dignitas is okay with the famine in Yemen or apartheid in Palestine now that they financially benefit from those. First it was the LEC NEOM partnership now this? I wonder how many other teams are partnered or are considering partnering with bigots and war criminals?<b>Polarity:</b> 0.225<br><b>Subjectivity:</b> 0.3416666666666667",
          "<b>Name:</b> AuxhLoL<br><b>User Location:</b> nan<br><b>Verified?</b> False<br><b>Date:</b> 2020-09-25<br><b>Tweet:</b> @DariusExMachina ngl, I think it‘s omegacringe how everyone was outraged at the #LEC NEOM deal, but no one bats an eye about the fact that S04 are sponsored by the state of Russia, responsible for thousands of political deaths within the last 5 years + having the same practice towards LGBTQ+ folk<b>Polarity:</b> -0.13999999999999999<br><b>Subjectivity:</b> 0.36833333333333335",
          "<b>Name:</b> CapCasts<br><b>User Location:</b> Los Angeles, CA<br><b>Verified?</b> False<br><b>Date:</b> 2020-07-30<br><b>Tweet:</b> Having the courage to put your career on the line for a cause you believe in strongly enough is laudible. Very impressed with the talent of LEC and their handling of the NEOM situation.\n\nIt brings back up the idea of which battles I personally am willing to fight &amp; what I am not<b>Polarity:</b> 0.3125<br><b>Subjectivity:</b> 0.5625",
          "<b>Name:</b> 21_Thorsten<br><b>User Location:</b> nan<br><b>Verified?</b> False<br><b>Date:</b> 2020-07-31<br><b>Tweet:</b> Well boys, my dogshit internet finally allowed me to upload! Shoutout to the LEC crew for the stance they took! \n\nHere it is!! \n\nWhen the LEC Partners with NEOM https://t.co/GOisU5Z3D8<b>Polarity:</b> 0.0<br><b>Subjectivity:</b> 1.0",
          "<b>Name:</b> hoffasaurusx<br><b>User Location:</b> Birmingham, England<br><b>Verified?</b> False<br><b>Date:</b> 2022-01-24<br><b>Tweet:</b> 10x worse than the LEC NEOM stuff<b>Polarity:</b> -0.4<br><b>Subjectivity:</b> 0.6",
          "<b>Name:</b> TPB_Robonyzer<br><b>User Location:</b> Michigan, USA<br><b>Verified?</b> False<br><b>Date:</b> 2022-02-20<br><b>Tweet:</b> Reminiscent of the LEC Neom situation. I expect an entirely negative reaction from fans, on air talent, and anyone except Ubisoft higher ups who want the money. The location will be changed, and if it isn’t it will be a PR disaster with fans and on air talent boycotting.<b>Polarity:</b> -0.016666666666666663<br><b>Subjectivity:</b> 0.4666666666666666",
          "<b>Name:</b> kirbee57<br><b>User Location:</b> Alhambra, CA<br><b>Verified?</b> False<br><b>Date:</b> 2020-08-01<br><b>Tweet:</b> When LEC announced the NEOM partnership, everyone spoke up. I hope they do the same again because\n1. this is putting players and talent's health at stake, since we have no way of knowing what the real COVID numbers are there\n2. Uighur concentration camps &amp; oppression on Hong Kong<b>Polarity:</b> 0.1<br><b>Subjectivity:</b> 0.21250000000000002",
          "<b>Name:</b> Wickdlol<br><b>User Location:</b> Denmark<br><b>Verified?</b> False<br><b>Date:</b> 2020-07-30<br><b>Tweet:</b> #LEC ended the partnership with NEOM.\n\nPerhaps what I suggested wasn't so crazy and would have worked. No idea if anyone took that position, but the partnership did end.<b>Polarity:</b> -0.6<br><b>Subjectivity:</b> 0.9",
          "<b>Name:</b> aurahack<br><b>User Location:</b> 【Vancouver】【大阪】【Montréal】<br><b>Verified?</b> False<br><b>Date:</b> 2020-09-01<br><b>Tweet:</b> Remember the LEC x Neom thing? People inside the house made -lots- of noise. https://t.co/tnkMpYhT3O\n\nI hope y'all take lesson from it.<b>Polarity:</b> 0.0<br><b>Subjectivity:</b> 0.0",
          "<b>Name:</b> vepascanu<br><b>User Location:</b> Cluj-Napoca, România<br><b>Verified?</b> False<br><b>Date:</b> 2022-04-30<br><b>Tweet:</b> After how outraged the community was after the LEC NEOM deal, and how good if felt to push them back, this feels like a kick in the gut.<b>Polarity:</b> -0.0666666666666667<br><b>Subjectivity:</b> 0.5333333333333333",
          "<b>Name:</b> ChimoEsport<br><b>User Location:</b> Danmark<br><b>Verified?</b> False<br><b>Date:</b> 2022-01-25<br><b>Tweet:</b> @kelanwatling @Nymaera I wish this dilemma would come up, but honestly I rarely think it does. Just look at LEC Neom deal, or Blast Neom. The Blast Neom was insanely terrible.<b>Polarity:</b> -0.35<br><b>Subjectivity:</b> 0.95",
          "<b>Name:</b> followdunc<br><b>User Location:</b> Cornwall, United Kingdom<br><b>Verified?</b> False<br><b>Date:</b> 2020-07-30<br><b>Tweet:</b> You know when something says “hot - do not touch” but you can’t help yourself so you quickly touch it, thinking you’ll be fine. But you actually get burnt. \n\nLEC and Neom.<b>Polarity:</b> 0.25<br><b>Subjectivity:</b> 0.48750000000000004",
          "<b>Name:</b> eSportsKingBets<br><b>User Location:</b> Mars<br><b>Verified?</b> False<br><b>Date:</b> 2020-07-31<br><b>Tweet:</b> LEC Ends NEOM Partnership After Community Backlash\n\n#BLAST #CSGO #LeagueofLegends #LEC #NEOM #RiotGames https://t.co/E8W5f79EVe<b>Polarity:</b> 0.0<br><b>Subjectivity:</b> 0.0",
          "<b>Name:</b> CoomersNexus<br><b>User Location:</b> getting Ara Ara by Onee-san<br><b>Verified?</b> False<br><b>Date:</b> 2020-08-01<br><b>Tweet:</b> @husam7172 @LixeLaBrioche @LEC @NEOM If so then your culture is incompatible with capitalism, modernization and progressivism. Trust me, this issue is significant enough that no amount of oil money can cover it up. Either Saudi Arabia will change it's barbarity or it will be the downfall of the nation.<b>Polarity:</b> 0.1875<br><b>Subjectivity:</b> 0.6875",
          "<b>Name:</b> TheEsportsIndia<br><b>User Location:</b> nan<br><b>Verified?</b> False<br><b>Date:</b> 2020-07-30<br><b>Tweet:</b> The LEC ends NEOM Partnership! #LEC #NEOM #leagueoflegends #esports #news \nhttps://t.co/tTcOX26CfN<b>Polarity:</b> 0.0<br><b>Subjectivity:</b> 0.0",
          "<b>Name:</b> _Viaurelia<br><b>User Location:</b> Brussels, Belgium<br><b>Verified?</b> False<br><b>Date:</b> 2020-07-29<br><b>Tweet:</b> @LEC @NEOM I've been waiting for years to see G2 lose to underdogs again, and now that I'm all hyped you're forcing me to stop watching LEC. No gg wp for you 🙄<b>Polarity:</b> 0.0<br><b>Subjectivity:</b> 0.0",
          "<b>Name:</b> Magus_sama<br><b>User Location:</b> nan<br><b>Verified?</b> False<br><b>Date:</b> 2020-07-30<br><b>Tweet:</b> @LEC @NEOM Even if gaming/esport there must be lgbt stuff, it's almost like an obsession for the lgbt community. Can't u just enjoy gaming without sexual orientations ??<b>Polarity:</b> 0.45<br><b>Subjectivity:</b> 0.6666666666666667",
          "<b>Name:</b> hisaira<br><b>User Location:</b> the shire<br><b>Verified?</b> False<br><b>Date:</b> 2020-07-30<br><b>Tweet:</b> It’s one thing to rightfully hate a regime but a whole other thing to hate on all arabic people. It’s really heartbreaking to see the amount of islamophobia, xenophobia and flat out racism the LEC+NEOM deal topic has brought out. reminds me to not read twitter comments 😔<b>Polarity:</b> -0.225<br><b>Subjectivity:</b> 0.4833333333333334",
          "<b>Name:</b> padrman<br><b>User Location:</b> Éire 🇮🇪 <br><b>Verified?</b> False<br><b>Date:</b> 2020-07-30<br><b>Tweet:</b> LEC cancel the NEOM partnership and now the Saudi state won't be buying Newcastle United.\n\nNot a bad day<b>Polarity:</b> 0.3499999999999999<br><b>Subjectivity:</b> 0.6666666666666666",
          "<b>Name:</b> MedicCasts<br><b>User Location:</b> Berlin, Germany<br><b>Verified?</b> False<br><b>Date:</b> 2022-09-18<br><b>Tweet:</b> @KidRonnie_ @LordZuip @CuratorRex @koyukixd @CarlosR I agree with you. I think casters have more power than they think. However, years of conditioning/understanding that Riot is their only job leads to thinking that power is limited (which it is because of new casters coming in). LEC casters stood against NEOM, but doing it again..<b>Polarity:</b> 0.14123376623376624<br><b>Subjectivity:</b> 0.5243506493506493",
          "<b>Name:</b> Voyboy<br><b>User Location:</b> nan<br><b>Verified?</b> False<br><b>Date:</b> 2020-07-30<br><b>Tweet:</b> Proud of everyone in the community who stood up in solidarity against the injustices of NEOM. Even though it never should have happened in the first place, good on the LEC for decisively cancelling the partnership.<b>Polarity:</b> 0.5833333333333334<br><b>Subjectivity:</b> 0.6444444444444445",
          "<b>Name:</b> Heyitsmedunk<br><b>User Location:</b> London, England<br><b>Verified?</b> False<br><b>Date:</b> 2022-01-25<br><b>Tweet:</b> @varceeful I think the only way to get a decent response is for an entire community wide pushback (i.e LEC and NEOM) otherwise you'll have a couple martyrs that go down for their own morals\n\nAnd that's hard when the bag is undeniably there.<b>Polarity:</b> 0.03134920634920634<br><b>Subjectivity:</b> 0.6460317460317461",
          "<b>Name:</b> InvenGlobal<br><b>User Location:</b> nan<br><b>Verified?</b> False<br><b>Date:</b> 2020-08-06<br><b>Tweet:</b> [#LEC] Rioters responsible for LEC NEOM deal reassured \"they did nothing wrong\", reports say: \n\nhttps://t.co/LWd3N8JNXO<b>Polarity:</b> -0.15<br><b>Subjectivity:</b> 0.7250000000000001",
          "<b>Name:</b> FTWImad<br><b>User Location:</b> nan<br><b>Verified?</b> False<br><b>Date:</b> 2020-08-03<br><b>Tweet:</b> Today, LEC report @Matthieist jumps on to talk the #LEC and Neom deal and the league's involvement with China and @ArinMJ, editor in chief of the Esports Bar Association Journal, discusses the antitrust hearings and what it could mean for esports. \n\nhttps://t.co/awtfAsu6fI<b>Polarity:</b> -0.3125<br><b>Subjectivity:</b> 0.6875",
          "<b>Name:</b> NoahGamesDesign<br><b>User Location:</b> londonion <br><b>Verified?</b> False<br><b>Date:</b> 2020-07-30<br><b>Tweet:</b> @Red_Fr0st @SkinSpotlights There is a very clear difference. \n\nLEC &amp; Tencent:\nTencent own Riot Games, which owns League of Legends, which owns LoL Esports, which owns the LEC. \n\nLEC &amp; Neom: \nLEC's main sponsor would have been Neom. \n\nAt the end of the day, it is incredibly hard to do something about -<b>Polarity:</b> 0.281<br><b>Subjectivity:</b> 0.6146666666666667",
          "<b>Name:</b> MnmzzzCS<br><b>User Location:</b> Columbus, GA<br><b>Verified?</b> False<br><b>Date:</b> 2020-07-31<br><b>Tweet:</b> Reminder that while public outrage forced @LEC to drop their sponsorship with NEOM, @BLASTPremier has slipped through the cracks and seemingly plan to continue working with NEOM.\n\nDefinitely feel like there should be more outrage directed at them.<b>Polarity:</b> 0.04999999999999999<br><b>Subjectivity:</b> 0.31666666666666665",
          "<b>Name:</b> InvenGlobal<br><b>User Location:</b> nan<br><b>Verified?</b> False<br><b>Date:</b> 2020-07-30<br><b>Tweet:</b> [#LEC] ‘On blood and bones’: the truth behind NEOM, @LEC ‘s short-lived partner.\n\n✍️ @GGNydrA #LoLesports \n\nhttps://t.co/KuRkrknnQf<b>Polarity:</b> -0.4<br><b>Subjectivity:</b> 0.7",
          "<b>Name:</b> helloaylee<br><b>User Location:</b> France<br><b>Verified?</b> False<br><b>Date:</b> 2020-07-30<br><b>Tweet:</b> LEC Ends NEOM Partnership.<b>Polarity:</b> 0.0<br><b>Subjectivity:</b> 0.0",
          "<b>Name:</b> ESPN_Esports<br><b>User Location:</b> nan<br><b>Verified?</b> False<br><b>Date:</b> 2020-07-30<br><b>Tweet:</b> UPDATE: The #LEC announced late Wednesday that it was terminating its partnership with NEOM following backlash throughout the day from many LEC staff members.\n\nhttps://t.co/MvXGxC18Ru<b>Polarity:</b> 0.06666666666666667<br><b>Subjectivity:</b> 0.39999999999999997",
          "<b>Name:</b> AlvaroPizarro<br><b>User Location:</b> Buenos Aires, Argentina<br><b>Verified?</b> False<br><b>Date:</b> 2020-08-01<br><b>Tweet:</b> If you steal something and then give it back after everyone gets angry at you... Does it count?\n\nWould you trust someone after they steal from you just because they gave it back when people got angry?\n\nDidn’t think so. This should’ve never happened. #LEC #NEOM<b>Polarity:</b> -0.25<br><b>Subjectivity:</b> 0.5",
          "<b>Name:</b> parquesomedia<br><b>User Location:</b> Los Angeles, CA<br><b>Verified?</b> False<br><b>Date:</b> 2021-02-08<br><b>Tweet:</b> I broke a number of stories based on a network I've been building for years, like Huni's Dignitas salary and its affect on their 2020 roster, furthering the story on the LEC Neom deal, various roster moves, and more.\n\nHuni: https://t.co/wmy0XTwgXP\nNeom: https://t.co/VLXwrI3Z3f<b>Polarity:</b> 0.25<br><b>Subjectivity:</b> 0.5",
          "<b>Name:</b> Thorin<br><b>User Location:</b> North<br><b>Verified?</b> False<br><b>Date:</b> 2021-08-26<br><b>Tweet:</b> Riot apparently fucked with the lawyers repping women with a case against them.\n\nRiot apparently told LEC NEOM deal was fine and just poorly messaged.\n\nBlizzard are apparently shredding docs now they're under microscope.\n\nLook at their actions not their words.<b>Polarity:</b> -0.09666666666666665<br><b>Subjectivity:</b> 0.5",
          "<b>Name:</b> PiraTechnics<br><b>User Location:</b> Los Angeles, CA<br><b>Verified?</b> False<br><b>Date:</b> 2020-07-31<br><b>Tweet:</b> How in the actual hell could anyone's takeaway from the #LEC casters' stance on the NEOM debacle be that they are unprincipled??\n\nThey did the bravest thing possible - they refused to work a show until this horrible deal was undone.<b>Polarity:</b> -0.3333333333333333<br><b>Subjectivity:</b> 0.7000000000000001",
          "<b>Name:</b> GGReconGaming<br><b>User Location:</b> nan<br><b>Verified?</b> False<br><b>Date:</b> 2020-08-10<br><b>Tweet:</b> Following the #LEC x NEOM backlash, Riot is reportedly establishing an 'ethics committee'. #LeagueOfLegends https://t.co/apuUo8mDBm<b>Polarity:</b> 0.0<br><b>Subjectivity:</b> 0.1",
          "<b>Name:</b> FlizzyFletch<br><b>User Location:</b> Chicago<br><b>Verified?</b> False<br><b>Date:</b> 2020-07-30<br><b>Tweet:</b> Somewhere there's a partnership team that was SUPER excited about yesterday's #LEC/NEOM announcement.\n\nI can't imagine the anxiety I would feel seeing the community reaction blow up in my face like that so fast.<b>Polarity:</b> 0.30277777777777776<br><b>Subjectivity:</b> 0.6722222222222222",
          "<b>Name:</b> IWDominate<br><b>User Location:</b> Austin, TX<br><b>Verified?</b> False<br><b>Date:</b> 2020-07-31<br><b>Tweet:</b> @Shakarez @Froskurinn I still don't see how the thumbnail is done in poor taste, it shows her dissatisfaction in the sponsorship with the LEC and NEOM as she was the person who spoke out against it and gained the most traction.<b>Polarity:</b> 0.04999999999999999<br><b>Subjectivity:</b> 0.55",
          "<b>Name:</b> Kaptajnmolen<br><b>User Location:</b> Aalborg, Danmark<br><b>Verified?</b> False<br><b>Date:</b> 2020-07-30<br><b>Tweet:</b> It's really beyond me how bad Riot leadership is. \nHow could they not have known how much this deal would backlash? For a company that constantly talks about how much they care about integrity, its seems rather foolish that they let this happen. #LEC #NEOM #Riot<b>Polarity:</b> -0.019999999999999962<br><b>Subjectivity:</b> 0.31999999999999995",
          "<b>Name:</b> MartinOmes<br><b>User Location:</b> Toronto, Ontario<br><b>Verified?</b> False<br><b>Date:</b> 2022-01-24<br><b>Tweet:</b> @Moses_FPS And FaceIt as well.\n\nInsane.\n\nWe hopefully will see LEC/NEOM like blowback from the community again.<b>Polarity:</b> -1.0<br><b>Subjectivity:</b> 1.0",
          "<b>Name:</b> crunchychocobo<br><b>User Location:</b> Dallas, TX<br><b>Verified?</b> False<br><b>Date:</b> 2020-07-30<br><b>Tweet:</b> Me editing stories for @DailyEsportsGG:\nG2 CEO speaks out against LEC partnership with NEOM\nLEC retratracts NEOM partnership\nBLAST announces sponsorship with NEOM\n\nPattern senses, tingling!<b>Polarity:</b> 0.0<br><b>Subjectivity:</b> 0.0",
          "<b>Name:</b> ESPN_Esports<br><b>User Location:</b> nan<br><b>Verified?</b> False<br><b>Date:</b> 2020-07-31<br><b>Tweet:</b> \"I think what the broadcast talent did in setting the standard with an immediate response that put their jobs on the line is actually incredibly brave.\" - @leagueofemily gives her thoughts on the #LEC's decision to abandon their partnership with NEOM.\n\n📺: https://t.co/t96vEL7dav https://t.co/dinDnEAUAl<b>Polarity:</b> 0.4<br><b>Subjectivity:</b> 0.5",
          "<b>Name:</b> CestDommage<br><b>User Location:</b> New York, NY<br><b>Verified?</b> False<br><b>Date:</b> 2020-07-30<br><b>Tweet:</b> I didn’t write really anything about LEC/NEOM but I am up at 4 AM so:\n\nStarted at:\nConfused.\nNonplussed.\nCurious.\nShocked.\nAngry.\nHurt.\nExpectant.\nAnnoyed.\nSatiated.\nResigned.\n^ Ended above\n\nSomeone high up had some bad math. Some denominators you just don’t use though.<b>Polarity:</b> -0.2711111111111111<br><b>Subjectivity:</b> 0.6451851851851852",
          "<b>Name:</b> shaymantim<br><b>User Location:</b> Glastonbury<br><b>Verified?</b> False<br><b>Date:</b> 2022-10-06<br><b>Tweet:</b> Search LEC + NEOM, or BLAST + NEOM Ricardo. Gamers’ views are out there. And watch out for when PIF buy a publisher outright - which they said they were going to do last month.<b>Polarity:</b> 0.0<br><b>Subjectivity:</b> 0.06666666666666667",
          "<b>Name:</b> Imad<br><b>User Location:</b> New York, NY<br><b>Verified?</b> False<br><b>Date:</b> 2020-09-07<br><b>Tweet:</b> Here's my latest for @DotEsports. I explain why there was anger over the #LEC Neom deal, but none towards China and its numerous human rights violations. \n\nIf I missed anything, please let me know.\n\nhttps://t.co/C758FWetRo\n\n#Uighurs #UighurGenocide  #HongKong #Worlds2020<b>Polarity:</b> -0.04999999999999999<br><b>Subjectivity:</b> 0.42500000000000004",
          "<b>Name:</b> ESPN_Esports<br><b>User Location:</b> nan<br><b>Verified?</b> False<br><b>Date:</b> 2020-07-30<br><b>Tweet:</b> Sources say that the #LEC teams were notified of the NEOM partnership, but had no say in its approval or not.\n\nhttps://t.co/VetggZgpG9<b>Polarity:</b> 0.0<br><b>Subjectivity:</b> 0.0",
          "<b>Name:</b> jfudge<br><b>User Location:</b> Berkshire County, Ma<br><b>Verified?</b> False<br><b>Date:</b> 2020-08-05<br><b>Tweet:</b> With all this talk about @BLASTPremier, #LEC, and #NEOM, I want to point out this article penned by @t0bs3n who explains why each org may have reacted the way they did. \n\nhttps://t.co/O01tkV2Yoz\n\n(He's one of my fav academics and the other Tobias I love to work with)<b>Polarity:</b> 0.1875<br><b>Subjectivity:</b> 0.4875",
          "<b>Name:</b> Dexerto<br><b>User Location:</b> press[at]dexerto.com<br><b>Verified?</b> False<br><b>Date:</b> 2020-07-30<br><b>Tweet:</b> The #LEC has canceled its partnership with NEOM just hours after it was announced. The backflip comes after a huge wave of community backlash over the deal.\n\nhttps://t.co/Qfqqyv3jON<b>Polarity:</b> 0.4000000000000001<br><b>Subjectivity:</b> 0.9",
          "<b>Name:</b> ESPN_Esports<br><b>User Location:</b> nan<br><b>Verified?</b> False<br><b>Date:</b> 2020-08-06<br><b>Tweet:</b> Riot Games addressed the #LEC's partnership with NEOM and steps to prevent similar gaffes in the future in a company-wide call Thursday, ESPN's @JacobWolf has learned. Details: https://t.co/AHEp8c8XO2<b>Polarity:</b> 0.0<br><b>Subjectivity:</b> 0.2625",
          "<b>Name:</b> EsportzNetwork<br><b>User Location:</b> nan<br><b>Verified?</b> False<br><b>Date:</b> 2020-07-30<br><b>Tweet:</b> Just 15 hours after announcing a partnership between @LEC and @NEOM, the partnership was called off. And it's all thanks to controversy and outrage from the #LEC esports community. \n\nhttps://t.co/ItpSBgx5Sq<b>Polarity:</b> 0.2<br><b>Subjectivity:</b> 0.2",
          "<b>Name:</b> InvenGlobal<br><b>User Location:</b> nan<br><b>Verified?</b> False<br><b>Date:</b> 2020-07-31<br><b>Tweet:</b> [#LEC] The @LEC Broadcast crew put their jobs on the line to combat the Neom partnership. #LoLEsports\n\nhttps://t.co/FqHQbOFQnh<b>Polarity:</b> 0.0<br><b>Subjectivity:</b> 0.0",
          "<b>Name:</b> LauncherWP<br><b>User Location:</b> Capital Wasteland<br><b>Verified?</b> False<br><b>Date:</b> 2020-09-06<br><b>Tweet:</b> The LEC and NEOM was likely just the beginning. \n\n\"Where individuals or brands take a stand may depend on their bank accounts.\"\nhttps://t.co/IYqj1epux7<b>Polarity:</b> 0.0<br><b>Subjectivity:</b> 1.0",
          "<b>Name:</b> moonduckTV<br><b>User Location:</b> United States<br><b>Verified?</b> False<br><b>Date:</b> 2020-08-05<br><b>Tweet:</b> EP162 of the @TrentPax &amp; @ZyoriTV Podcast\n\nTOPICS: omega league, sheepsticked, tier two blowouts, esl thailand, LEC and NEOM, t10 prize pool, arcana review &amp; ti10 arcana vote\n\naudio: https://t.co/icNdo9AH2V\n\nvideo: https://t.co/4A6cCI0i7x\n\nspotify: https://t.co/k5BbI27WqQ<b>Polarity:</b> 0.0<br><b>Subjectivity:</b> 0.0",
          "<b>Name:</b> jfudge<br><b>User Location:</b> Berkshire County, Ma<br><b>Verified?</b> False<br><b>Date:</b> 2020-07-30<br><b>Tweet:</b> Credit to all the @riotgames employees that stood up today against the @LEC / Neom announcement. That is not an easy thing to do when you take a stand against the company you work for. To its credit, Riot listened.  \n\nhttps://t.co/pS1P4AsmRH<b>Polarity:</b> 0.43333333333333335<br><b>Subjectivity:</b> 0.8333333333333334"
         ],
         "type": "scattermapbox"
        }
       ],
       "layout": {
        "height": 650,
        "mapbox": {
         "center": {
          "lat": 46.3144754,
          "lon": 8.974959398792844
         },
         "style": "carto-positron",
         "zoom": 0.5
        },
        "template": {
         "data": {
          "bar": [
           {
            "error_x": {
             "color": "#2a3f5f"
            },
            "error_y": {
             "color": "#2a3f5f"
            },
            "marker": {
             "line": {
              "color": "#E5ECF6",
              "width": 0.5
             },
             "pattern": {
              "fillmode": "overlay",
              "size": 10,
              "solidity": 0.2
             }
            },
            "type": "bar"
           }
          ],
          "barpolar": [
           {
            "marker": {
             "line": {
              "color": "#E5ECF6",
              "width": 0.5
             },
             "pattern": {
              "fillmode": "overlay",
              "size": 10,
              "solidity": 0.2
             }
            },
            "type": "barpolar"
           }
          ],
          "carpet": [
           {
            "aaxis": {
             "endlinecolor": "#2a3f5f",
             "gridcolor": "white",
             "linecolor": "white",
             "minorgridcolor": "white",
             "startlinecolor": "#2a3f5f"
            },
            "baxis": {
             "endlinecolor": "#2a3f5f",
             "gridcolor": "white",
             "linecolor": "white",
             "minorgridcolor": "white",
             "startlinecolor": "#2a3f5f"
            },
            "type": "carpet"
           }
          ],
          "choropleth": [
           {
            "colorbar": {
             "outlinewidth": 0,
             "ticks": ""
            },
            "type": "choropleth"
           }
          ],
          "contour": [
           {
            "colorbar": {
             "outlinewidth": 0,
             "ticks": ""
            },
            "colorscale": [
             [
              0,
              "#0d0887"
             ],
             [
              0.1111111111111111,
              "#46039f"
             ],
             [
              0.2222222222222222,
              "#7201a8"
             ],
             [
              0.3333333333333333,
              "#9c179e"
             ],
             [
              0.4444444444444444,
              "#bd3786"
             ],
             [
              0.5555555555555556,
              "#d8576b"
             ],
             [
              0.6666666666666666,
              "#ed7953"
             ],
             [
              0.7777777777777778,
              "#fb9f3a"
             ],
             [
              0.8888888888888888,
              "#fdca26"
             ],
             [
              1,
              "#f0f921"
             ]
            ],
            "type": "contour"
           }
          ],
          "contourcarpet": [
           {
            "colorbar": {
             "outlinewidth": 0,
             "ticks": ""
            },
            "type": "contourcarpet"
           }
          ],
          "heatmap": [
           {
            "colorbar": {
             "outlinewidth": 0,
             "ticks": ""
            },
            "colorscale": [
             [
              0,
              "#0d0887"
             ],
             [
              0.1111111111111111,
              "#46039f"
             ],
             [
              0.2222222222222222,
              "#7201a8"
             ],
             [
              0.3333333333333333,
              "#9c179e"
             ],
             [
              0.4444444444444444,
              "#bd3786"
             ],
             [
              0.5555555555555556,
              "#d8576b"
             ],
             [
              0.6666666666666666,
              "#ed7953"
             ],
             [
              0.7777777777777778,
              "#fb9f3a"
             ],
             [
              0.8888888888888888,
              "#fdca26"
             ],
             [
              1,
              "#f0f921"
             ]
            ],
            "type": "heatmap"
           }
          ],
          "heatmapgl": [
           {
            "colorbar": {
             "outlinewidth": 0,
             "ticks": ""
            },
            "colorscale": [
             [
              0,
              "#0d0887"
             ],
             [
              0.1111111111111111,
              "#46039f"
             ],
             [
              0.2222222222222222,
              "#7201a8"
             ],
             [
              0.3333333333333333,
              "#9c179e"
             ],
             [
              0.4444444444444444,
              "#bd3786"
             ],
             [
              0.5555555555555556,
              "#d8576b"
             ],
             [
              0.6666666666666666,
              "#ed7953"
             ],
             [
              0.7777777777777778,
              "#fb9f3a"
             ],
             [
              0.8888888888888888,
              "#fdca26"
             ],
             [
              1,
              "#f0f921"
             ]
            ],
            "type": "heatmapgl"
           }
          ],
          "histogram": [
           {
            "marker": {
             "pattern": {
              "fillmode": "overlay",
              "size": 10,
              "solidity": 0.2
             }
            },
            "type": "histogram"
           }
          ],
          "histogram2d": [
           {
            "colorbar": {
             "outlinewidth": 0,
             "ticks": ""
            },
            "colorscale": [
             [
              0,
              "#0d0887"
             ],
             [
              0.1111111111111111,
              "#46039f"
             ],
             [
              0.2222222222222222,
              "#7201a8"
             ],
             [
              0.3333333333333333,
              "#9c179e"
             ],
             [
              0.4444444444444444,
              "#bd3786"
             ],
             [
              0.5555555555555556,
              "#d8576b"
             ],
             [
              0.6666666666666666,
              "#ed7953"
             ],
             [
              0.7777777777777778,
              "#fb9f3a"
             ],
             [
              0.8888888888888888,
              "#fdca26"
             ],
             [
              1,
              "#f0f921"
             ]
            ],
            "type": "histogram2d"
           }
          ],
          "histogram2dcontour": [
           {
            "colorbar": {
             "outlinewidth": 0,
             "ticks": ""
            },
            "colorscale": [
             [
              0,
              "#0d0887"
             ],
             [
              0.1111111111111111,
              "#46039f"
             ],
             [
              0.2222222222222222,
              "#7201a8"
             ],
             [
              0.3333333333333333,
              "#9c179e"
             ],
             [
              0.4444444444444444,
              "#bd3786"
             ],
             [
              0.5555555555555556,
              "#d8576b"
             ],
             [
              0.6666666666666666,
              "#ed7953"
             ],
             [
              0.7777777777777778,
              "#fb9f3a"
             ],
             [
              0.8888888888888888,
              "#fdca26"
             ],
             [
              1,
              "#f0f921"
             ]
            ],
            "type": "histogram2dcontour"
           }
          ],
          "mesh3d": [
           {
            "colorbar": {
             "outlinewidth": 0,
             "ticks": ""
            },
            "type": "mesh3d"
           }
          ],
          "parcoords": [
           {
            "line": {
             "colorbar": {
              "outlinewidth": 0,
              "ticks": ""
             }
            },
            "type": "parcoords"
           }
          ],
          "pie": [
           {
            "automargin": true,
            "type": "pie"
           }
          ],
          "scatter": [
           {
            "fillpattern": {
             "fillmode": "overlay",
             "size": 10,
             "solidity": 0.2
            },
            "type": "scatter"
           }
          ],
          "scatter3d": [
           {
            "line": {
             "colorbar": {
              "outlinewidth": 0,
              "ticks": ""
             }
            },
            "marker": {
             "colorbar": {
              "outlinewidth": 0,
              "ticks": ""
             }
            },
            "type": "scatter3d"
           }
          ],
          "scattercarpet": [
           {
            "marker": {
             "colorbar": {
              "outlinewidth": 0,
              "ticks": ""
             }
            },
            "type": "scattercarpet"
           }
          ],
          "scattergeo": [
           {
            "marker": {
             "colorbar": {
              "outlinewidth": 0,
              "ticks": ""
             }
            },
            "type": "scattergeo"
           }
          ],
          "scattergl": [
           {
            "marker": {
             "colorbar": {
              "outlinewidth": 0,
              "ticks": ""
             }
            },
            "type": "scattergl"
           }
          ],
          "scattermapbox": [
           {
            "marker": {
             "colorbar": {
              "outlinewidth": 0,
              "ticks": ""
             }
            },
            "type": "scattermapbox"
           }
          ],
          "scatterpolar": [
           {
            "marker": {
             "colorbar": {
              "outlinewidth": 0,
              "ticks": ""
             }
            },
            "type": "scatterpolar"
           }
          ],
          "scatterpolargl": [
           {
            "marker": {
             "colorbar": {
              "outlinewidth": 0,
              "ticks": ""
             }
            },
            "type": "scatterpolargl"
           }
          ],
          "scatterternary": [
           {
            "marker": {
             "colorbar": {
              "outlinewidth": 0,
              "ticks": ""
             }
            },
            "type": "scatterternary"
           }
          ],
          "surface": [
           {
            "colorbar": {
             "outlinewidth": 0,
             "ticks": ""
            },
            "colorscale": [
             [
              0,
              "#0d0887"
             ],
             [
              0.1111111111111111,
              "#46039f"
             ],
             [
              0.2222222222222222,
              "#7201a8"
             ],
             [
              0.3333333333333333,
              "#9c179e"
             ],
             [
              0.4444444444444444,
              "#bd3786"
             ],
             [
              0.5555555555555556,
              "#d8576b"
             ],
             [
              0.6666666666666666,
              "#ed7953"
             ],
             [
              0.7777777777777778,
              "#fb9f3a"
             ],
             [
              0.8888888888888888,
              "#fdca26"
             ],
             [
              1,
              "#f0f921"
             ]
            ],
            "type": "surface"
           }
          ],
          "table": [
           {
            "cells": {
             "fill": {
              "color": "#EBF0F8"
             },
             "line": {
              "color": "white"
             }
            },
            "header": {
             "fill": {
              "color": "#C8D4E3"
             },
             "line": {
              "color": "white"
             }
            },
            "type": "table"
           }
          ]
         },
         "layout": {
          "annotationdefaults": {
           "arrowcolor": "#2a3f5f",
           "arrowhead": 0,
           "arrowwidth": 1
          },
          "autotypenumbers": "strict",
          "coloraxis": {
           "colorbar": {
            "outlinewidth": 0,
            "ticks": ""
           }
          },
          "colorscale": {
           "diverging": [
            [
             0,
             "#8e0152"
            ],
            [
             0.1,
             "#c51b7d"
            ],
            [
             0.2,
             "#de77ae"
            ],
            [
             0.3,
             "#f1b6da"
            ],
            [
             0.4,
             "#fde0ef"
            ],
            [
             0.5,
             "#f7f7f7"
            ],
            [
             0.6,
             "#e6f5d0"
            ],
            [
             0.7,
             "#b8e186"
            ],
            [
             0.8,
             "#7fbc41"
            ],
            [
             0.9,
             "#4d9221"
            ],
            [
             1,
             "#276419"
            ]
           ],
           "sequential": [
            [
             0,
             "#0d0887"
            ],
            [
             0.1111111111111111,
             "#46039f"
            ],
            [
             0.2222222222222222,
             "#7201a8"
            ],
            [
             0.3333333333333333,
             "#9c179e"
            ],
            [
             0.4444444444444444,
             "#bd3786"
            ],
            [
             0.5555555555555556,
             "#d8576b"
            ],
            [
             0.6666666666666666,
             "#ed7953"
            ],
            [
             0.7777777777777778,
             "#fb9f3a"
            ],
            [
             0.8888888888888888,
             "#fdca26"
            ],
            [
             1,
             "#f0f921"
            ]
           ],
           "sequentialminus": [
            [
             0,
             "#0d0887"
            ],
            [
             0.1111111111111111,
             "#46039f"
            ],
            [
             0.2222222222222222,
             "#7201a8"
            ],
            [
             0.3333333333333333,
             "#9c179e"
            ],
            [
             0.4444444444444444,
             "#bd3786"
            ],
            [
             0.5555555555555556,
             "#d8576b"
            ],
            [
             0.6666666666666666,
             "#ed7953"
            ],
            [
             0.7777777777777778,
             "#fb9f3a"
            ],
            [
             0.8888888888888888,
             "#fdca26"
            ],
            [
             1,
             "#f0f921"
            ]
           ]
          },
          "colorway": [
           "#636efa",
           "#EF553B",
           "#00cc96",
           "#ab63fa",
           "#FFA15A",
           "#19d3f3",
           "#FF6692",
           "#B6E880",
           "#FF97FF",
           "#FECB52"
          ],
          "font": {
           "color": "#2a3f5f"
          },
          "geo": {
           "bgcolor": "white",
           "lakecolor": "white",
           "landcolor": "#E5ECF6",
           "showlakes": true,
           "showland": true,
           "subunitcolor": "white"
          },
          "hoverlabel": {
           "align": "left"
          },
          "hovermode": "closest",
          "mapbox": {
           "style": "light"
          },
          "paper_bgcolor": "white",
          "plot_bgcolor": "#E5ECF6",
          "polar": {
           "angularaxis": {
            "gridcolor": "white",
            "linecolor": "white",
            "ticks": ""
           },
           "bgcolor": "#E5ECF6",
           "radialaxis": {
            "gridcolor": "white",
            "linecolor": "white",
            "ticks": ""
           }
          },
          "scene": {
           "xaxis": {
            "backgroundcolor": "#E5ECF6",
            "gridcolor": "white",
            "gridwidth": 2,
            "linecolor": "white",
            "showbackground": true,
            "ticks": "",
            "zerolinecolor": "white"
           },
           "yaxis": {
            "backgroundcolor": "#E5ECF6",
            "gridcolor": "white",
            "gridwidth": 2,
            "linecolor": "white",
            "showbackground": true,
            "ticks": "",
            "zerolinecolor": "white"
           },
           "zaxis": {
            "backgroundcolor": "#E5ECF6",
            "gridcolor": "white",
            "gridwidth": 2,
            "linecolor": "white",
            "showbackground": true,
            "ticks": "",
            "zerolinecolor": "white"
           }
          },
          "shapedefaults": {
           "line": {
            "color": "#2a3f5f"
           }
          },
          "ternary": {
           "aaxis": {
            "gridcolor": "white",
            "linecolor": "white",
            "ticks": ""
           },
           "baxis": {
            "gridcolor": "white",
            "linecolor": "white",
            "ticks": ""
           },
           "bgcolor": "#E5ECF6",
           "caxis": {
            "gridcolor": "white",
            "linecolor": "white",
            "ticks": ""
           }
          },
          "title": {
           "x": 0.05
          },
          "xaxis": {
           "automargin": true,
           "gridcolor": "white",
           "linecolor": "white",
           "ticks": "",
           "title": {
            "standoff": 15
           },
           "zerolinecolor": "white",
           "zerolinewidth": 2
          },
          "yaxis": {
           "automargin": true,
           "gridcolor": "white",
           "linecolor": "white",
           "ticks": "",
           "title": {
            "standoff": 15
           },
           "zerolinecolor": "white",
           "zerolinewidth": 2
          }
         }
        },
        "title": {
         "text": "Polarity of LEC/NEOM-related Tweets"
        },
        "width": 900
       }
      }
     },
     "metadata": {},
     "output_type": "display_data"
    }
   ],
   "source": [
    "# Create a Scatter map figure with data for Polarity of LEC/NEOM-related Tweets\n",
    "polmap = go.Figure(go.Scattermapbox(lat=tweets_final['geometry'].y,\n",
    "                                    lon=tweets_final['geometry'].x,\n",
    "                                    mode='markers',\n",
    "                                    marker=dict(size=7.5,\n",
    "                                                color=tweets_final['polarity'],\n",
    "                                                colorscale='sunset',\n",
    "                                                opacity=0.7,\n",
    "                                                colorbar=dict(title='Polarity')),\n",
    "                                    text=sentimenthover)\n",
    ")\n",
    "\n",
    "# Set the layout of the Scatter map figure, including the title, the map attributes, the plot height and the plot width\n",
    "polmap.update_layout(title='Polarity of LEC/NEOM-related Tweets',\n",
    "                     mapbox=dict(style='carto-positron',\n",
    "                                 center=dict(lat=tweets_final['geometry'].y.median(),\n",
    "                                             lon=tweets_final['geometry'].x.median()),\n",
    "                                 zoom=0.5),\n",
    "                     height=650,\n",
    "                     width=900\n",
    ")\n",
    "\n",
    "# Show the Scatter map figure\n",
    "polmap.show()"
   ]
  },
  {
   "attachments": {},
   "cell_type": "markdown",
   "metadata": {},
   "source": [
    "Using a Scatter map again, we visualise the geographical distribution of the polarity data from tweets related to the LEC/NEOM sponsorship. Using the Plotly library, and the Mapbox API, markers are placed on the map that correspond to the approximate location of each tweet and where it originated from. The 'carto-positron' Mapbox style is used to provide a clear background, and uses the latitude and longitude coordinates, which are derived from the 'geometry' column in the dataset, to plot each tweet. The markers are colored using the 'sunset' colorscale, which ranges from yellow to purple to represent negative and positive polarity, respectively. This helps to quickly identify areas of high negative or positive sentiment in the tweets and provides a broad overview of the global opinion of the LEC/NEOM sponsorship on Twitter."
   ]
  },
  {
   "attachments": {},
   "cell_type": "markdown",
   "metadata": {},
   "source": [
    "##### Subjectivity"
   ]
  },
  {
   "cell_type": "code",
   "execution_count": 22,
   "metadata": {},
   "outputs": [
    {
     "data": {
      "application/vnd.plotly.v1+json": {
       "config": {
        "plotlyServerURL": "https://plot.ly"
       },
       "data": [
        {
         "alignmentgroup": "True",
         "bingroup": "x",
         "hovertemplate": "subjectivity=%{x}<br>count=%{y}<extra></extra>",
         "legendgroup": "",
         "marker": {
          "color": "#636efa",
          "pattern": {
           "shape": ""
          }
         },
         "name": "",
         "nbinsx": 20,
         "offsetgroup": "",
         "orientation": "v",
         "showlegend": false,
         "type": "histogram",
         "x": [
          0.4125,
          0.38666666666666666,
          0,
          0.5015151515151516,
          0.125,
          0.5416666666666667,
          0.42857142857142855,
          0.48,
          0,
          0.4354166666666667,
          0.32857142857142857,
          0,
          0,
          0.7666666666666666,
          0,
          0.6375,
          0.20833333333333334,
          0,
          0.9,
          0.2916666666666667,
          0.75,
          0.5166111111111111,
          0,
          0.6125,
          0.1,
          0.5357142857142857,
          0.9,
          0.3,
          0,
          0,
          0,
          0.78,
          0.3416666666666666,
          0.375,
          0.2,
          0.3125,
          0.7000000000000001,
          0,
          0.4055555555555556,
          1,
          0,
          0.3416666666666667,
          0.36833333333333335,
          0.5625,
          1,
          0.6,
          0.4666666666666666,
          0.21250000000000002,
          0.9,
          0,
          0.5333333333333333,
          0.95,
          0.48750000000000004,
          0,
          0.6875,
          0,
          0,
          0.6666666666666667,
          0.4833333333333334,
          0.6666666666666666,
          0.5243506493506493,
          0.6444444444444445,
          0.6460317460317461,
          0.7250000000000001,
          0.6875,
          0.6146666666666667,
          0.31666666666666665,
          0.7,
          0,
          0.39999999999999997,
          0.5,
          0.5,
          0.5,
          0.7000000000000001,
          0.1,
          0.6722222222222222,
          0.55,
          0.31999999999999995,
          1,
          0,
          0.5,
          0.6451851851851852,
          0.06666666666666667,
          0.42500000000000004,
          0,
          0.4875,
          0.9,
          0.2625,
          0.2,
          0,
          1,
          0,
          0.8333333333333334
         ],
         "xaxis": "x",
         "yaxis": "y"
        }
       ],
       "layout": {
        "barmode": "relative",
        "legend": {
         "tracegroupgap": 0
        },
        "template": {
         "data": {
          "bar": [
           {
            "error_x": {
             "color": "#2a3f5f"
            },
            "error_y": {
             "color": "#2a3f5f"
            },
            "marker": {
             "line": {
              "color": "#E5ECF6",
              "width": 0.5
             },
             "pattern": {
              "fillmode": "overlay",
              "size": 10,
              "solidity": 0.2
             }
            },
            "type": "bar"
           }
          ],
          "barpolar": [
           {
            "marker": {
             "line": {
              "color": "#E5ECF6",
              "width": 0.5
             },
             "pattern": {
              "fillmode": "overlay",
              "size": 10,
              "solidity": 0.2
             }
            },
            "type": "barpolar"
           }
          ],
          "carpet": [
           {
            "aaxis": {
             "endlinecolor": "#2a3f5f",
             "gridcolor": "white",
             "linecolor": "white",
             "minorgridcolor": "white",
             "startlinecolor": "#2a3f5f"
            },
            "baxis": {
             "endlinecolor": "#2a3f5f",
             "gridcolor": "white",
             "linecolor": "white",
             "minorgridcolor": "white",
             "startlinecolor": "#2a3f5f"
            },
            "type": "carpet"
           }
          ],
          "choropleth": [
           {
            "colorbar": {
             "outlinewidth": 0,
             "ticks": ""
            },
            "type": "choropleth"
           }
          ],
          "contour": [
           {
            "colorbar": {
             "outlinewidth": 0,
             "ticks": ""
            },
            "colorscale": [
             [
              0,
              "#0d0887"
             ],
             [
              0.1111111111111111,
              "#46039f"
             ],
             [
              0.2222222222222222,
              "#7201a8"
             ],
             [
              0.3333333333333333,
              "#9c179e"
             ],
             [
              0.4444444444444444,
              "#bd3786"
             ],
             [
              0.5555555555555556,
              "#d8576b"
             ],
             [
              0.6666666666666666,
              "#ed7953"
             ],
             [
              0.7777777777777778,
              "#fb9f3a"
             ],
             [
              0.8888888888888888,
              "#fdca26"
             ],
             [
              1,
              "#f0f921"
             ]
            ],
            "type": "contour"
           }
          ],
          "contourcarpet": [
           {
            "colorbar": {
             "outlinewidth": 0,
             "ticks": ""
            },
            "type": "contourcarpet"
           }
          ],
          "heatmap": [
           {
            "colorbar": {
             "outlinewidth": 0,
             "ticks": ""
            },
            "colorscale": [
             [
              0,
              "#0d0887"
             ],
             [
              0.1111111111111111,
              "#46039f"
             ],
             [
              0.2222222222222222,
              "#7201a8"
             ],
             [
              0.3333333333333333,
              "#9c179e"
             ],
             [
              0.4444444444444444,
              "#bd3786"
             ],
             [
              0.5555555555555556,
              "#d8576b"
             ],
             [
              0.6666666666666666,
              "#ed7953"
             ],
             [
              0.7777777777777778,
              "#fb9f3a"
             ],
             [
              0.8888888888888888,
              "#fdca26"
             ],
             [
              1,
              "#f0f921"
             ]
            ],
            "type": "heatmap"
           }
          ],
          "heatmapgl": [
           {
            "colorbar": {
             "outlinewidth": 0,
             "ticks": ""
            },
            "colorscale": [
             [
              0,
              "#0d0887"
             ],
             [
              0.1111111111111111,
              "#46039f"
             ],
             [
              0.2222222222222222,
              "#7201a8"
             ],
             [
              0.3333333333333333,
              "#9c179e"
             ],
             [
              0.4444444444444444,
              "#bd3786"
             ],
             [
              0.5555555555555556,
              "#d8576b"
             ],
             [
              0.6666666666666666,
              "#ed7953"
             ],
             [
              0.7777777777777778,
              "#fb9f3a"
             ],
             [
              0.8888888888888888,
              "#fdca26"
             ],
             [
              1,
              "#f0f921"
             ]
            ],
            "type": "heatmapgl"
           }
          ],
          "histogram": [
           {
            "marker": {
             "pattern": {
              "fillmode": "overlay",
              "size": 10,
              "solidity": 0.2
             }
            },
            "type": "histogram"
           }
          ],
          "histogram2d": [
           {
            "colorbar": {
             "outlinewidth": 0,
             "ticks": ""
            },
            "colorscale": [
             [
              0,
              "#0d0887"
             ],
             [
              0.1111111111111111,
              "#46039f"
             ],
             [
              0.2222222222222222,
              "#7201a8"
             ],
             [
              0.3333333333333333,
              "#9c179e"
             ],
             [
              0.4444444444444444,
              "#bd3786"
             ],
             [
              0.5555555555555556,
              "#d8576b"
             ],
             [
              0.6666666666666666,
              "#ed7953"
             ],
             [
              0.7777777777777778,
              "#fb9f3a"
             ],
             [
              0.8888888888888888,
              "#fdca26"
             ],
             [
              1,
              "#f0f921"
             ]
            ],
            "type": "histogram2d"
           }
          ],
          "histogram2dcontour": [
           {
            "colorbar": {
             "outlinewidth": 0,
             "ticks": ""
            },
            "colorscale": [
             [
              0,
              "#0d0887"
             ],
             [
              0.1111111111111111,
              "#46039f"
             ],
             [
              0.2222222222222222,
              "#7201a8"
             ],
             [
              0.3333333333333333,
              "#9c179e"
             ],
             [
              0.4444444444444444,
              "#bd3786"
             ],
             [
              0.5555555555555556,
              "#d8576b"
             ],
             [
              0.6666666666666666,
              "#ed7953"
             ],
             [
              0.7777777777777778,
              "#fb9f3a"
             ],
             [
              0.8888888888888888,
              "#fdca26"
             ],
             [
              1,
              "#f0f921"
             ]
            ],
            "type": "histogram2dcontour"
           }
          ],
          "mesh3d": [
           {
            "colorbar": {
             "outlinewidth": 0,
             "ticks": ""
            },
            "type": "mesh3d"
           }
          ],
          "parcoords": [
           {
            "line": {
             "colorbar": {
              "outlinewidth": 0,
              "ticks": ""
             }
            },
            "type": "parcoords"
           }
          ],
          "pie": [
           {
            "automargin": true,
            "type": "pie"
           }
          ],
          "scatter": [
           {
            "fillpattern": {
             "fillmode": "overlay",
             "size": 10,
             "solidity": 0.2
            },
            "type": "scatter"
           }
          ],
          "scatter3d": [
           {
            "line": {
             "colorbar": {
              "outlinewidth": 0,
              "ticks": ""
             }
            },
            "marker": {
             "colorbar": {
              "outlinewidth": 0,
              "ticks": ""
             }
            },
            "type": "scatter3d"
           }
          ],
          "scattercarpet": [
           {
            "marker": {
             "colorbar": {
              "outlinewidth": 0,
              "ticks": ""
             }
            },
            "type": "scattercarpet"
           }
          ],
          "scattergeo": [
           {
            "marker": {
             "colorbar": {
              "outlinewidth": 0,
              "ticks": ""
             }
            },
            "type": "scattergeo"
           }
          ],
          "scattergl": [
           {
            "marker": {
             "colorbar": {
              "outlinewidth": 0,
              "ticks": ""
             }
            },
            "type": "scattergl"
           }
          ],
          "scattermapbox": [
           {
            "marker": {
             "colorbar": {
              "outlinewidth": 0,
              "ticks": ""
             }
            },
            "type": "scattermapbox"
           }
          ],
          "scatterpolar": [
           {
            "marker": {
             "colorbar": {
              "outlinewidth": 0,
              "ticks": ""
             }
            },
            "type": "scatterpolar"
           }
          ],
          "scatterpolargl": [
           {
            "marker": {
             "colorbar": {
              "outlinewidth": 0,
              "ticks": ""
             }
            },
            "type": "scatterpolargl"
           }
          ],
          "scatterternary": [
           {
            "marker": {
             "colorbar": {
              "outlinewidth": 0,
              "ticks": ""
             }
            },
            "type": "scatterternary"
           }
          ],
          "surface": [
           {
            "colorbar": {
             "outlinewidth": 0,
             "ticks": ""
            },
            "colorscale": [
             [
              0,
              "#0d0887"
             ],
             [
              0.1111111111111111,
              "#46039f"
             ],
             [
              0.2222222222222222,
              "#7201a8"
             ],
             [
              0.3333333333333333,
              "#9c179e"
             ],
             [
              0.4444444444444444,
              "#bd3786"
             ],
             [
              0.5555555555555556,
              "#d8576b"
             ],
             [
              0.6666666666666666,
              "#ed7953"
             ],
             [
              0.7777777777777778,
              "#fb9f3a"
             ],
             [
              0.8888888888888888,
              "#fdca26"
             ],
             [
              1,
              "#f0f921"
             ]
            ],
            "type": "surface"
           }
          ],
          "table": [
           {
            "cells": {
             "fill": {
              "color": "#EBF0F8"
             },
             "line": {
              "color": "white"
             }
            },
            "header": {
             "fill": {
              "color": "#C8D4E3"
             },
             "line": {
              "color": "white"
             }
            },
            "type": "table"
           }
          ]
         },
         "layout": {
          "annotationdefaults": {
           "arrowcolor": "#2a3f5f",
           "arrowhead": 0,
           "arrowwidth": 1
          },
          "autotypenumbers": "strict",
          "coloraxis": {
           "colorbar": {
            "outlinewidth": 0,
            "ticks": ""
           }
          },
          "colorscale": {
           "diverging": [
            [
             0,
             "#8e0152"
            ],
            [
             0.1,
             "#c51b7d"
            ],
            [
             0.2,
             "#de77ae"
            ],
            [
             0.3,
             "#f1b6da"
            ],
            [
             0.4,
             "#fde0ef"
            ],
            [
             0.5,
             "#f7f7f7"
            ],
            [
             0.6,
             "#e6f5d0"
            ],
            [
             0.7,
             "#b8e186"
            ],
            [
             0.8,
             "#7fbc41"
            ],
            [
             0.9,
             "#4d9221"
            ],
            [
             1,
             "#276419"
            ]
           ],
           "sequential": [
            [
             0,
             "#0d0887"
            ],
            [
             0.1111111111111111,
             "#46039f"
            ],
            [
             0.2222222222222222,
             "#7201a8"
            ],
            [
             0.3333333333333333,
             "#9c179e"
            ],
            [
             0.4444444444444444,
             "#bd3786"
            ],
            [
             0.5555555555555556,
             "#d8576b"
            ],
            [
             0.6666666666666666,
             "#ed7953"
            ],
            [
             0.7777777777777778,
             "#fb9f3a"
            ],
            [
             0.8888888888888888,
             "#fdca26"
            ],
            [
             1,
             "#f0f921"
            ]
           ],
           "sequentialminus": [
            [
             0,
             "#0d0887"
            ],
            [
             0.1111111111111111,
             "#46039f"
            ],
            [
             0.2222222222222222,
             "#7201a8"
            ],
            [
             0.3333333333333333,
             "#9c179e"
            ],
            [
             0.4444444444444444,
             "#bd3786"
            ],
            [
             0.5555555555555556,
             "#d8576b"
            ],
            [
             0.6666666666666666,
             "#ed7953"
            ],
            [
             0.7777777777777778,
             "#fb9f3a"
            ],
            [
             0.8888888888888888,
             "#fdca26"
            ],
            [
             1,
             "#f0f921"
            ]
           ]
          },
          "colorway": [
           "#636efa",
           "#EF553B",
           "#00cc96",
           "#ab63fa",
           "#FFA15A",
           "#19d3f3",
           "#FF6692",
           "#B6E880",
           "#FF97FF",
           "#FECB52"
          ],
          "font": {
           "color": "#2a3f5f"
          },
          "geo": {
           "bgcolor": "white",
           "lakecolor": "white",
           "landcolor": "#E5ECF6",
           "showlakes": true,
           "showland": true,
           "subunitcolor": "white"
          },
          "hoverlabel": {
           "align": "left"
          },
          "hovermode": "closest",
          "mapbox": {
           "style": "light"
          },
          "paper_bgcolor": "white",
          "plot_bgcolor": "#E5ECF6",
          "polar": {
           "angularaxis": {
            "gridcolor": "white",
            "linecolor": "white",
            "ticks": ""
           },
           "bgcolor": "#E5ECF6",
           "radialaxis": {
            "gridcolor": "white",
            "linecolor": "white",
            "ticks": ""
           }
          },
          "scene": {
           "xaxis": {
            "backgroundcolor": "#E5ECF6",
            "gridcolor": "white",
            "gridwidth": 2,
            "linecolor": "white",
            "showbackground": true,
            "ticks": "",
            "zerolinecolor": "white"
           },
           "yaxis": {
            "backgroundcolor": "#E5ECF6",
            "gridcolor": "white",
            "gridwidth": 2,
            "linecolor": "white",
            "showbackground": true,
            "ticks": "",
            "zerolinecolor": "white"
           },
           "zaxis": {
            "backgroundcolor": "#E5ECF6",
            "gridcolor": "white",
            "gridwidth": 2,
            "linecolor": "white",
            "showbackground": true,
            "ticks": "",
            "zerolinecolor": "white"
           }
          },
          "shapedefaults": {
           "line": {
            "color": "#2a3f5f"
           }
          },
          "ternary": {
           "aaxis": {
            "gridcolor": "white",
            "linecolor": "white",
            "ticks": ""
           },
           "baxis": {
            "gridcolor": "white",
            "linecolor": "white",
            "ticks": ""
           },
           "bgcolor": "#E5ECF6",
           "caxis": {
            "gridcolor": "white",
            "linecolor": "white",
            "ticks": ""
           }
          },
          "title": {
           "x": 0.05
          },
          "xaxis": {
           "automargin": true,
           "gridcolor": "white",
           "linecolor": "white",
           "ticks": "",
           "title": {
            "standoff": 15
           },
           "zerolinecolor": "white",
           "zerolinewidth": 2
          },
          "yaxis": {
           "automargin": true,
           "gridcolor": "white",
           "linecolor": "white",
           "ticks": "",
           "title": {
            "standoff": 15
           },
           "zerolinecolor": "white",
           "zerolinewidth": 2
          }
         }
        },
        "title": {
         "text": "Subjectivity of LEC/NEOM-related Tweets"
        },
        "width": 900,
        "xaxis": {
         "anchor": "y",
         "domain": [
          0,
          1
         ],
         "title": {
          "text": "subjectivity"
         }
        },
        "yaxis": {
         "anchor": "x",
         "domain": [
          0,
          1
         ],
         "title": {
          "text": "count"
         }
        }
       }
      }
     },
     "metadata": {},
     "output_type": "display_data"
    }
   ],
   "source": [
    "# Create a Histogram figure with data for Subjectivity of LEC/NEOM-related Tweets\n",
    "subhist=px.histogram(tweets_final,\n",
    "                     x='subjectivity',\n",
    "                     nbins=20,\n",
    "                     title='Subjectivity of LEC/NEOM-related Tweets',\n",
    "                     width=900)\n",
    "\n",
    "# Show the Histogram figure\n",
    "subhist.show()"
   ]
  },
  {
   "attachments": {},
   "cell_type": "markdown",
   "metadata": {},
   "source": [
    "Using a histogram again, we can visualize the subjectivity data from the sentiment analysis we applied to the dataset. The histogram shows that the majority of tweets have a subjectivity score of 0, indicating an objective tone towards the LEC/NEOM sponsorship. There are a handful of tweets with fair to high subjectivity scores, indicating a more personal or emotional tone. Overall, the histogram provides a clear representation of the subjectivity distribution among Twitter users in relation to the LEC/NEOM sponsorship."
   ]
  },
  {
   "cell_type": "code",
   "execution_count": 23,
   "metadata": {},
   "outputs": [
    {
     "data": {
      "application/vnd.plotly.v1+json": {
       "config": {
        "plotlyServerURL": "https://plot.ly"
       },
       "data": [
        {
         "lat": [
          40.7896239,
          30.2711286,
          30.2711286,
          48.4680221,
          46.3144754,
          4.4320637,
          34.0536909,
          null,
          46.3144754,
          52.5170365,
          30.2711286,
          50.2555218,
          null,
          null,
          38.8950368,
          56.7861112,
          -28.0752851,
          60.277614299999996,
          46.3144754,
          51.5073359,
          61.1529386,
          41.9538873,
          50.2555218,
          52.5170365,
          46.3144754,
          46.3144754,
          51.5073359,
          48.1012954,
          -0.26019000000000003,
          46.3144754,
          null,
          49.8975651,
          46.3144754,
          46.3144754,
          46.3144754,
          46.3144754,
          null,
          34.0536909,
          52.5170365,
          null,
          46.3144754,
          39.7837304,
          46.3144754,
          34.0536909,
          46.3144754,
          52.4796992,
          43.6211955,
          34.093042,
          55.670249,
          null,
          46.769379,
          55.670249,
          50.416667,
          45.022172,
          null,
          46.3144754,
          50.8550018,
          46.3144754,
          -34.0717253,
          52.865196,
          52.5170365,
          46.3144754,
          51.5073359,
          46.3144754,
          46.3144754,
          null,
          32.4610708,
          46.3144754,
          46.603354,
          46.3144754,
          -34.6075682,
          34.0536909,
          8.7712794,
          34.0536909,
          46.3144754,
          41.8755616,
          30.2711286,
          57.0462626,
          43.6534817,
          32.7762719,
          46.3144754,
          40.7127281,
          51.14804,
          40.7127281,
          46.3144754,
          42.3999954,
          null,
          46.3144754,
          46.3144754,
          46.3144754,
          55.6786485,
          39.7837304,
          42.3999954
         ],
         "lon": [
          -73.9598939,
          -97.7436995,
          -97.7436995,
          35.0417711,
          11.0480288,
          -75.2477734,
          -118.242766,
          null,
          11.0480288,
          13.3888599,
          -97.7436995,
          8.974959398792844,
          null,
          null,
          -77.0365427,
          -4.1140518,
          153.3637173,
          -1.1258082645868739,
          11.0480288,
          -0.12765,
          8.7876653,
          -87.654928,
          8.974959398792844,
          13.3888599,
          11.0480288,
          11.0480288,
          -0.12765,
          66.7780818,
          -90.72254665048543,
          11.0480288,
          null,
          6.8502714,
          11.0480288,
          11.0480288,
          11.0480288,
          11.0480288,
          null,
          -118.242766,
          13.3888599,
          null,
          11.0480288,
          -100.445882,
          11.0480288,
          -118.242766,
          11.0480288,
          -1.9026911,
          -84.6824346,
          -118.12706,
          10.3333283,
          null,
          23.5899542,
          10.3333283,
          -4.75,
          4.3221548,
          null,
          11.0480288,
          4.3512333761166175,
          11.0480288,
          151.04929585694757,
          -7.9794599,
          13.3888599,
          11.0480288,
          -0.12765,
          11.0480288,
          11.0480288,
          null,
          -84.9880449,
          11.0480288,
          1.8883335,
          11.0480288,
          -58.4370894,
          -118.242766,
          13.7803627,
          -118.242766,
          11.0480288,
          -87.6244212,
          -97.7436995,
          9.9215263,
          -79.3839347,
          -96.7968559,
          11.0480288,
          -74.0060152,
          -2.716577,
          -74.0060152,
          11.0480288,
          -73.2322639,
          null,
          11.0480288,
          11.0480288,
          11.0480288,
          12.5697826,
          -100.445882,
          -73.2322639
         ],
         "marker": {
          "color": [
           0.4125,
           0.38666666666666666,
           0,
           0.5015151515151516,
           0.125,
           0.5416666666666667,
           0.42857142857142855,
           0.48,
           0,
           0.4354166666666667,
           0.32857142857142857,
           0,
           0,
           0.7666666666666666,
           0,
           0.6375,
           0.20833333333333334,
           0,
           0.9,
           0.2916666666666667,
           0.75,
           0.5166111111111111,
           0,
           0.6125,
           0.1,
           0.5357142857142857,
           0.9,
           0.3,
           0,
           0,
           0,
           0.78,
           0.3416666666666666,
           0.375,
           0.2,
           0.3125,
           0.7000000000000001,
           0,
           0.4055555555555556,
           1,
           0,
           0.3416666666666667,
           0.36833333333333335,
           0.5625,
           1,
           0.6,
           0.4666666666666666,
           0.21250000000000002,
           0.9,
           0,
           0.5333333333333333,
           0.95,
           0.48750000000000004,
           0,
           0.6875,
           0,
           0,
           0.6666666666666667,
           0.4833333333333334,
           0.6666666666666666,
           0.5243506493506493,
           0.6444444444444445,
           0.6460317460317461,
           0.7250000000000001,
           0.6875,
           0.6146666666666667,
           0.31666666666666665,
           0.7,
           0,
           0.39999999999999997,
           0.5,
           0.5,
           0.5,
           0.7000000000000001,
           0.1,
           0.6722222222222222,
           0.55,
           0.31999999999999995,
           1,
           0,
           0.5,
           0.6451851851851852,
           0.06666666666666667,
           0.42500000000000004,
           0,
           0.4875,
           0.9,
           0.2625,
           0.2,
           0,
           1,
           0,
           0.8333333333333334
          ],
          "colorbar": {
           "title": {
            "text": "Subjectivity"
           }
          },
          "colorscale": [
           [
            0,
            "rgb(243, 231, 155)"
           ],
           [
            0.16666666666666666,
            "rgb(250, 196, 132)"
           ],
           [
            0.3333333333333333,
            "rgb(248, 160, 126)"
           ],
           [
            0.5,
            "rgb(235, 127, 134)"
           ],
           [
            0.6666666666666666,
            "rgb(206, 102, 147)"
           ],
           [
            0.8333333333333334,
            "rgb(160, 89, 160)"
           ],
           [
            1,
            "rgb(92, 83, 165)"
           ]
          ],
          "opacity": 0.7,
          "size": 7.5
         },
         "mode": "markers",
         "text": [
          "<b>Name:</b> Slasher<br><b>User Location:</b> Manhattan, NY<br><b>Verified?</b> False<br><b>Date:</b> 2020-08-13<br><b>Tweet:</b> if Riot never rescinded their LEC NEOM sponsorship I don't see BLAST ever doing the same. Riot employees, LoL casters, and CSGO casters deserve all the praise for standing up for their beliefs, not to the executives who signed off on the deal to begin with https://t.co/M7WnV8uwas<b>Polarity:</b> 0.4<br><b>Subjectivity:</b> 0.4125",
          "<b>Name:</b> JacobWolf<br><b>User Location:</b> Austin, TX<br><b>Verified?</b> False<br><b>Date:</b> 2020-07-30<br><b>Tweet:</b> Crazy how much reputation the #LEC lost for partnering with NEOM in the first place. It was arguably the most respect pro league by Western fans in the League of Legends space — as the #LCS has struggled to catch up — but seems a lot of that flew out the window today.<b>Polarity:</b> 0.07<br><b>Subjectivity:</b> 0.38666666666666666",
          "<b>Name:</b> JacobWolf<br><b>User Location:</b> Austin, TX<br><b>Verified?</b> False<br><b>Date:</b> 2020-07-30<br><b>Tweet:</b> Regarding speculation that #LEC teams having voting power in league-wide sponsorships, they do not, sources told ESPN. Teams were notified of the NEOM deal but did not have a say for or against. \n\nhttps://t.co/d1cWqwVvSK<b>Polarity:</b> 0.0<br><b>Subjectivity:</b> 0.0",
          "<b>Name:</b> NOHEATED<br><b>User Location:</b> Ukraine, Dnipro<br><b>Verified?</b> False<br><b>Date:</b> 2023-02-13<br><b>Tweet:</b> @MShadov @erasus_dk @MmX_A_ @G2esports @CarlosR @HooXiCSGO New CEO not better tbh. The guy was responsible for the LEC Neom deal<b>Polarity:</b> 0.02878787878787879<br><b>Subjectivity:</b> 0.5015151515151516",
          "<b>Name:</b> MShent1238<br><b>User Location:</b> nan<br><b>Verified?</b> False<br><b>Date:</b> 2020-07-31<br><b>Tweet:</b> @iiLoVE18 @PoliticsAndMem2 @VewNizion @BGBFG14 @Kalytis_ @LEC @NEOM When u try to logically engage fundamentally illogical argument = u lost\n\nWhen you waste your time on homophobes = u lost<b>Polarity:</b> 0.024999999999999994<br><b>Subjectivity:</b> 0.125",
          "<b>Name:</b> Lexandviolets<br><b>User Location:</b> Nowhere, CO<br><b>Verified?</b> False<br><b>Date:</b> 2020-07-30<br><b>Tweet:</b> @Tweeb1999 @Fenstick @TehHero117 @LEC @NEOM Not supporting any side. That's the easy way out. Some if us don't have a choice. You can try and play both sides then.<b>Polarity:</b> 0.15416666666666667<br><b>Subjectivity:</b> 0.5416666666666667",
          "<b>Name:</b> KappaChiino<br><b>User Location:</b> Los Angeles, CA<br><b>Verified?</b> False<br><b>Date:</b> 2020-12-03<br><b>Tweet:</b> @AfterLose @LEC @NEOM I went back to see the comments on this post, idk why, but man. You guys are sick in the head.<b>Polarity:</b> -0.35714285714285715<br><b>Subjectivity:</b> 0.42857142857142855",
          "<b>Name:</b> Geccobear<br><b>User Location:</b> Zamonien<br><b>Verified?</b> False<br><b>Date:</b> 2021-06-03<br><b>Tweet:</b> I don't know if it's just me... but seeing all these orgs changing their icons to rainbow colors sometimes feels like a big \"fuck you\" considering the everyday discrimination they ignore. It's only big scandals like the LEC NEOM partnership that forces reactions.<b>Polarity:</b> -0.12000000000000002<br><b>Subjectivity:</b> 0.48",
          "<b>Name:</b> PrizeZepir<br><b>User Location:</b> nan<br><b>Verified?</b> False<br><b>Date:</b> 2022-09-24<br><b>Tweet:</b> @xghozin @Mayerdynn @Hughsie28 @LEC @NEOM you literally made all that up<b>Polarity:</b> 0.0<br><b>Subjectivity:</b> 0.0",
          "<b>Name:</b> DariusExMachina<br><b>User Location:</b> Berlin, Germany<br><b>Verified?</b> False<br><b>Date:</b> 2020-09-25<br><b>Tweet:</b> ngl, I think it‘s omegacringe how everyone was outraged at the #LEC NEOM deal, but no one bats an eye about the fact that PSG are sponsored by the state of Qatar, responsible for thousands of slave deaths within the last 5 years + having the same practice towards LGBTQ+ folk<b>Polarity:</b> -0.175<br><b>Subjectivity:</b> 0.4354166666666667",
          "<b>Name:</b> IWDominate<br><b>User Location:</b> Austin, TX<br><b>Verified?</b> False<br><b>Date:</b> 2020-07-31<br><b>Tweet:</b> Regarding the segment on the LEC and NEOM, I did not speculate on what the Talent team should/shouldn't do.  I simply asked if we lose one of our best casters (Frosk) because of the statements and then deferred to my co-host and his opinion as someone who works as a caster.<b>Polarity:</b> 0.5<br><b>Subjectivity:</b> 0.32857142857142857",
          "<b>Name:</b> TroZrat<br><b>User Location:</b> 22 he/him<br><b>Verified?</b> False<br><b>Date:</b> 2020-07-30<br><b>Tweet:</b> @Alpha_Canem @LEC @NEOM Move to mars or something we don't need you here.<b>Polarity:</b> 0.0<br><b>Subjectivity:</b> 0.0",
          "<b>Name:</b> RuneblowEX<br><b>User Location:</b> The Omnitard#4027 M 6'2\" (7\")<br><b>Verified?</b> False<br><b>Date:</b> 2020-07-30<br><b>Tweet:</b> @Nuyxo @Tweeb1999 @Fenstick @TehHero117 @LEC @NEOM I'm not taking any sides here but what about pedos and zoophiles?<b>Polarity:</b> 0.0<br><b>Subjectivity:</b> 0.0",
          "<b>Name:</b> RuneblowEX<br><b>User Location:</b> The Omnitard#4027 M 6'2\" (7\")<br><b>Verified?</b> False<br><b>Date:</b> 2020-07-30<br><b>Tweet:</b> @Nuyxo @Tweeb1999 @Fenstick @TehHero117 @LEC @NEOM fair enough, cant say ur wrong on that one<b>Polarity:</b> 0.06666666666666665<br><b>Subjectivity:</b> 0.7666666666666666",
          "<b>Name:</b> LewdPrune<br><b>User Location:</b> Washington<br><b>Verified?</b> False<br><b>Date:</b> 2020-07-30<br><b>Tweet:</b> @MikeHakansson @MeLlamanTamara_ @LEC @riotgames Neom is a city being built, the pet project of the Saudi Arabian Prince. So yes, it basically is the government for all intents and purposes except in business speak.<b>Polarity:</b> 0.0<br><b>Subjectivity:</b> 0.0",
          "<b>Name:</b> TheSeraphmin<br><b>User Location:</b> Scotland<br><b>Verified?</b> False<br><b>Date:</b> 2020-11-12<br><b>Tweet:</b> honestly riot has done some stupid and controversial things in the past, just look at the LEC neom fiasco, but now there's a genuine personal reason for why Seraphine is a terrible idea, and they really should just take the L on this<b>Polarity:</b> -0.037499999999999985<br><b>Subjectivity:</b> 0.6375",
          "<b>Name:</b> coachaarsh<br><b>User Location:</b> Gold Coast, Aus<br><b>Verified?</b> False<br><b>Date:</b> 2022-01-25<br><b>Tweet:</b> so is esl australia now also owned by saudi arabia? is this not literally the exact same issue as LEC and NEOM man how are we not learning from our past<b>Polarity:</b> 0.0<br><b>Subjectivity:</b> 0.20833333333333334",
          "<b>Name:</b> Am_GDOo<br><b>User Location:</b> ( Kat cunning ) 🖤<br><b>Verified?</b> False<br><b>Date:</b> 2020-08-26<br><b>Tweet:</b> @Fenstick @TehHero117 @LEC @NEOM Any change in your country ?<b>Polarity:</b> 0.0<br><b>Subjectivity:</b> 0.0",
          "<b>Name:</b> OvisGotACup<br><b>User Location:</b> nan<br><b>Verified?</b> False<br><b>Date:</b> 2020-07-30<br><b>Tweet:</b> @Embrslol @Hotdynamixxx @Kalytis_ @LEC @NEOM Sorry mate what was that about twitter posts being meaningless LOL<b>Polarity:</b> -0.06666666666666665<br><b>Subjectivity:</b> 0.9",
          "<b>Name:</b> geometric<br><b>User Location:</b> London, UK<br><b>Verified?</b> False<br><b>Date:</b> 2022-01-24<br><b>Tweet:</b> Don’t get me wrong, I understand that all companies really care about is money. But this reminds me a lot of the LEC NEOM deal. The war of wanting the Middle East’s money but not wanting their social stances may cause a rift in the esports world.<b>Polarity:</b> -0.06666666666666667<br><b>Subjectivity:</b> 0.2916666666666667",
          "<b>Name:</b> abdulelah11cc<br><b>User Location:</b> No<br><b>Verified?</b> False<br><b>Date:</b> 2020-08-12<br><b>Tweet:</b> @Rex21H @LEC @NEOM We are great people idk why people are attacking us<b>Polarity:</b> 0.8<br><b>Subjectivity:</b> 0.75",
          "<b>Name:</b> 719_kenny<br><b>User Location:</b> Sheridan, IL<br><b>Verified?</b> False<br><b>Date:</b> 2022-09-24<br><b>Tweet:</b> @Archer2014UBW @DzDiegoRosales @Perkz The thing is Riots public image still isn't very good but they're actually getting quite a bit better at rectifying bad PR (sure it would be better to prevent entirely but baby steps) remember the LEC/Neom disaster...they shut that down REAL quick<b>Polarity:</b> 0.2054444444444444<br><b>Subjectivity:</b> 0.5166111111111111",
          "<b>Name:</b> TroZrat<br><b>User Location:</b> 22 he/him<br><b>Verified?</b> False<br><b>Date:</b> 2020-07-30<br><b>Tweet:</b> @DavGreed @LEC @NEOM How close-minded can a person be...<b>Polarity:</b> 0.0<br><b>Subjectivity:</b> 0.0",
          "<b>Name:</b> DariusExMachina<br><b>User Location:</b> Berlin, Germany<br><b>Verified?</b> False<br><b>Date:</b> 2020-07-31<br><b>Tweet:</b> The entire #LEC Broadcast team, including members I couldnt add to these screenshots, have come out to say that they wouldve declined to appear on broadcast unless the NEOM deal was revoked - putting their jobs on the line.\n\nThe LEC Show is in good hands. All the power to them 🙌 https://t.co/7vQqlwOzE5<b>Polarity:</b> 0.35<br><b>Subjectivity:</b> 0.6125",
          "<b>Name:</b> Towobix3<br><b>User Location:</b> nan<br><b>Verified?</b> False<br><b>Date:</b> 2020-07-30<br><b>Tweet:</b> @L9Commander @crescend0ll @linczernorbi @LEC @NEOM I wonder if you are baiting or you actually don't understand the point<b>Polarity:</b> 0.0<br><b>Subjectivity:</b> 0.1",
          "<b>Name:</b> daveekh<br><b>User Location:</b> nan<br><b>Verified?</b> False<br><b>Date:</b> 2020-07-30<br><b>Tweet:</b> @xuser117 @cs__lol @LEC neom partnership was not right because they are controlled by saudi arabia government which murders people. not because they're muslim.<b>Polarity:</b> -0.14285714285714285<br><b>Subjectivity:</b> 0.5357142857142857",
          "<b>Name:</b> VeteranEU<br><b>User Location:</b> London, England<br><b>Verified?</b> False<br><b>Date:</b> 2022-06-05<br><b>Tweet:</b> From an article about NEOM and the fallout of their LEC deal going wrong:\n\nhttps://t.co/2CLCbzRJP1 https://t.co/GAdHxxK2Im<b>Polarity:</b> -0.5<br><b>Subjectivity:</b> 0.9",
          "<b>Name:</b> hobbit667<br><b>User Location:</b> Kazakhstan<br><b>Verified?</b> False<br><b>Date:</b> 2020-07-30<br><b>Tweet:</b> @LEC @NEOM LEC got money from LGBTQ+ and now getting money from company against those. Nothing personal, just business.<b>Polarity:</b> 0.0<br><b>Subjectivity:</b> 0.3",
          "<b>Name:</b> dog69999<br><b>User Location:</b> Galapagos Island<br><b>Verified?</b> False<br><b>Date:</b> 2020-08-26<br><b>Tweet:</b> @LEC @NEOM has entered the chat<b>Polarity:</b> 0.0<br><b>Subjectivity:</b> 0.0",
          "<b>Name:</b> deadeg0<br><b>User Location:</b> nan<br><b>Verified?</b> False<br><b>Date:</b> 2020-07-30<br><b>Tweet:</b> @yougainbrouzouf @aolibai @DavGreed @LEC @NEOM As a Muslim, facts.<b>Polarity:</b> 0.0<br><b>Subjectivity:</b> 0.0",
          "<b>Name:</b> SirRubixx<br><b>User Location:</b> boring place in Canada<br><b>Verified?</b> False<br><b>Date:</b> 2022-12-30<br><b>Tweet:</b> @LordParasit @CarlosR guess you forgot about the LEC NEOM deal which was reversed because of community outrage.<b>Polarity:</b> 0.0<br><b>Subjectivity:</b> 0.0",
          "<b>Name:</b> SerioeseSeekuh<br><b>User Location:</b> Esch, Deutschland<br><b>Verified?</b> False<br><b>Date:</b> 2020-07-30<br><b>Tweet:</b> honestly i dont care if people hate me for this tweet but some things have to be said.\n\nFuck you if you are the kind of people that post under the \" lec neom\" posts with \"what about china\".\n\npls just fuck off or make urself noticeable so i can block all of you<b>Polarity:</b> -0.08000000000000003<br><b>Subjectivity:</b> 0.78",
          "<b>Name:</b> moataz_magdy3<br><b>User Location:</b> nan<br><b>Verified?</b> False<br><b>Date:</b> 2020-07-30<br><b>Tweet:</b> @mohamadaladham @Aminopiou @Veigar_v2 @WufOwO u think neom would care about attacking LGBT or something!? business is business, lec/neom care about money nothing more, ppl just used their imagination and expected the future that neom from country so they will try their hardest to kill who is against Islam rules xd<b>Polarity:</b> 0.13333333333333333<br><b>Subjectivity:</b> 0.3416666666666666",
          "<b>Name:</b> OvisGotACup<br><b>User Location:</b> nan<br><b>Verified?</b> False<br><b>Date:</b> 2020-07-31<br><b>Tweet:</b> @iiLoVE18 @MShent1238 @PoliticsAndMem2 @BGBFG14 @Kalytis_ @LEC @NEOM Please take it somewhere else it’s over, you and the other guy lost already because they sponsorship was ended<b>Polarity:</b> -0.125<br><b>Subjectivity:</b> 0.375",
          "<b>Name:</b> ZAK_robloxer<br><b>User Location:</b> nan<br><b>Verified?</b> False<br><b>Date:</b> 2020-07-30<br><b>Tweet:</b> @TomEvilEye @LEC @NEOM Dont dig up old facts just coz they are muslims. Ur being an anti muslim karen now go play league politics are too much for u<b>Polarity:</b> 0.15000000000000002<br><b>Subjectivity:</b> 0.2",
          "<b>Name:</b> blacksh40182773<br><b>User Location:</b> nan<br><b>Verified?</b> False<br><b>Date:</b> 2020-08-12<br><b>Tweet:</b> @Daythehut @TehHero117 @LEC @NEOM I’ll tell you what’s  no longer ok when your country comes to mine saying there’s terrorists there and they need to face them but instead they team up under the table and steals our oil the same mf thing happened to Iraq and Afghanistan<b>Polarity:</b> 0.25<br><b>Subjectivity:</b> 0.3125",
          "<b>Name:</b> FrankieWard<br><b>User Location:</b> Cedar Creek Power Plant<br><b>Verified?</b> False<br><b>Date:</b> 2021-06-21<br><b>Tweet:</b> The reason this has suddenly reemerged was because I spoke out when he attacked Froskurinn for speaking out against the LEC/Neom deal.\n\nAnd yes, I was a hypocrite because of the jobs that I did, but I said I would be different moving forward and so far I have been.<b>Polarity:</b> 0.03333333333333333<br><b>Subjectivity:</b> 0.7000000000000001",
          "<b>Name:</b> TravisGafford<br><b>User Location:</b> Los Angeles, CA<br><b>Verified?</b> False<br><b>Date:</b> 2020-07-31<br><b>Tweet:</b> The LEC casters all said they would not appear on the LEC broadcast this weekend if the NEOM sponsorship continued.<b>Polarity:</b> 0.0<br><b>Subjectivity:</b> 0.0",
          "<b>Name:</b> BeccaCHenry<br><b>User Location:</b> Berlin<br><b>Verified?</b> False<br><b>Date:</b> 2020-07-30<br><b>Tweet:</b> Cancelling the Neom deal is a huge win for Riot and #LEC fans, but it didnt need to happen in the first place. It’s a real indication that Riot needs more diversity in the senior leadership team and approvals process. This should have not gone up the chain without red flags.<b>Polarity:</b> 0.3583333333333334<br><b>Subjectivity:</b> 0.4055555555555556",
          "<b>Name:</b> TheMoConceptual<br><b>User Location:</b> Na praça vendendo cigarro<br><b>Verified?</b> False<br><b>Date:</b> 2020-07-30<br><b>Tweet:</b> @Alpha_Canem @LEC @NEOM @LEC  as you can see, we got the message :)<b>Polarity:</b> 0.5<br><b>Subjectivity:</b> 1.0",
          "<b>Name:</b> dumon_antoine<br><b>User Location:</b> nan<br><b>Verified?</b> False<br><b>Date:</b> 2023-09-17<br><b>Tweet:</b> @Elioww_ @Tw22too @_blakcpink_ @Faaast_life @Zoxistyle Oui bah c’est juste un prétexte, si c’est faze ils refuseront à cause de l’instabilité économique et pour Navi ça sera l’instabilité politique. Je te rappelle qu’il y a quelque mois la LEC signait un contrat avec neom<b>Polarity:</b> 0.0<br><b>Subjectivity:</b> 0.0",
          "<b>Name:</b> flextaperapper<br><b>User Location:</b> United States<br><b>Verified?</b> False<br><b>Date:</b> 2021-07-21<br><b>Tweet:</b> @RazLCS @RisenLazarus I wonder if dignitas is okay with the famine in Yemen or apartheid in Palestine now that they financially benefit from those. First it was the LEC NEOM partnership now this? I wonder how many other teams are partnered or are considering partnering with bigots and war criminals?<b>Polarity:</b> 0.225<br><b>Subjectivity:</b> 0.3416666666666667",
          "<b>Name:</b> AuxhLoL<br><b>User Location:</b> nan<br><b>Verified?</b> False<br><b>Date:</b> 2020-09-25<br><b>Tweet:</b> @DariusExMachina ngl, I think it‘s omegacringe how everyone was outraged at the #LEC NEOM deal, but no one bats an eye about the fact that S04 are sponsored by the state of Russia, responsible for thousands of political deaths within the last 5 years + having the same practice towards LGBTQ+ folk<b>Polarity:</b> -0.13999999999999999<br><b>Subjectivity:</b> 0.36833333333333335",
          "<b>Name:</b> CapCasts<br><b>User Location:</b> Los Angeles, CA<br><b>Verified?</b> False<br><b>Date:</b> 2020-07-30<br><b>Tweet:</b> Having the courage to put your career on the line for a cause you believe in strongly enough is laudible. Very impressed with the talent of LEC and their handling of the NEOM situation.\n\nIt brings back up the idea of which battles I personally am willing to fight &amp; what I am not<b>Polarity:</b> 0.3125<br><b>Subjectivity:</b> 0.5625",
          "<b>Name:</b> 21_Thorsten<br><b>User Location:</b> nan<br><b>Verified?</b> False<br><b>Date:</b> 2020-07-31<br><b>Tweet:</b> Well boys, my dogshit internet finally allowed me to upload! Shoutout to the LEC crew for the stance they took! \n\nHere it is!! \n\nWhen the LEC Partners with NEOM https://t.co/GOisU5Z3D8<b>Polarity:</b> 0.0<br><b>Subjectivity:</b> 1.0",
          "<b>Name:</b> hoffasaurusx<br><b>User Location:</b> Birmingham, England<br><b>Verified?</b> False<br><b>Date:</b> 2022-01-24<br><b>Tweet:</b> 10x worse than the LEC NEOM stuff<b>Polarity:</b> -0.4<br><b>Subjectivity:</b> 0.6",
          "<b>Name:</b> TPB_Robonyzer<br><b>User Location:</b> Michigan, USA<br><b>Verified?</b> False<br><b>Date:</b> 2022-02-20<br><b>Tweet:</b> Reminiscent of the LEC Neom situation. I expect an entirely negative reaction from fans, on air talent, and anyone except Ubisoft higher ups who want the money. The location will be changed, and if it isn’t it will be a PR disaster with fans and on air talent boycotting.<b>Polarity:</b> -0.016666666666666663<br><b>Subjectivity:</b> 0.4666666666666666",
          "<b>Name:</b> kirbee57<br><b>User Location:</b> Alhambra, CA<br><b>Verified?</b> False<br><b>Date:</b> 2020-08-01<br><b>Tweet:</b> When LEC announced the NEOM partnership, everyone spoke up. I hope they do the same again because\n1. this is putting players and talent's health at stake, since we have no way of knowing what the real COVID numbers are there\n2. Uighur concentration camps &amp; oppression on Hong Kong<b>Polarity:</b> 0.1<br><b>Subjectivity:</b> 0.21250000000000002",
          "<b>Name:</b> Wickdlol<br><b>User Location:</b> Denmark<br><b>Verified?</b> False<br><b>Date:</b> 2020-07-30<br><b>Tweet:</b> #LEC ended the partnership with NEOM.\n\nPerhaps what I suggested wasn't so crazy and would have worked. No idea if anyone took that position, but the partnership did end.<b>Polarity:</b> -0.6<br><b>Subjectivity:</b> 0.9",
          "<b>Name:</b> aurahack<br><b>User Location:</b> 【Vancouver】【大阪】【Montréal】<br><b>Verified?</b> False<br><b>Date:</b> 2020-09-01<br><b>Tweet:</b> Remember the LEC x Neom thing? People inside the house made -lots- of noise. https://t.co/tnkMpYhT3O\n\nI hope y'all take lesson from it.<b>Polarity:</b> 0.0<br><b>Subjectivity:</b> 0.0",
          "<b>Name:</b> vepascanu<br><b>User Location:</b> Cluj-Napoca, România<br><b>Verified?</b> False<br><b>Date:</b> 2022-04-30<br><b>Tweet:</b> After how outraged the community was after the LEC NEOM deal, and how good if felt to push them back, this feels like a kick in the gut.<b>Polarity:</b> -0.0666666666666667<br><b>Subjectivity:</b> 0.5333333333333333",
          "<b>Name:</b> ChimoEsport<br><b>User Location:</b> Danmark<br><b>Verified?</b> False<br><b>Date:</b> 2022-01-25<br><b>Tweet:</b> @kelanwatling @Nymaera I wish this dilemma would come up, but honestly I rarely think it does. Just look at LEC Neom deal, or Blast Neom. The Blast Neom was insanely terrible.<b>Polarity:</b> -0.35<br><b>Subjectivity:</b> 0.95",
          "<b>Name:</b> followdunc<br><b>User Location:</b> Cornwall, United Kingdom<br><b>Verified?</b> False<br><b>Date:</b> 2020-07-30<br><b>Tweet:</b> You know when something says “hot - do not touch” but you can’t help yourself so you quickly touch it, thinking you’ll be fine. But you actually get burnt. \n\nLEC and Neom.<b>Polarity:</b> 0.25<br><b>Subjectivity:</b> 0.48750000000000004",
          "<b>Name:</b> eSportsKingBets<br><b>User Location:</b> Mars<br><b>Verified?</b> False<br><b>Date:</b> 2020-07-31<br><b>Tweet:</b> LEC Ends NEOM Partnership After Community Backlash\n\n#BLAST #CSGO #LeagueofLegends #LEC #NEOM #RiotGames https://t.co/E8W5f79EVe<b>Polarity:</b> 0.0<br><b>Subjectivity:</b> 0.0",
          "<b>Name:</b> CoomersNexus<br><b>User Location:</b> getting Ara Ara by Onee-san<br><b>Verified?</b> False<br><b>Date:</b> 2020-08-01<br><b>Tweet:</b> @husam7172 @LixeLaBrioche @LEC @NEOM If so then your culture is incompatible with capitalism, modernization and progressivism. Trust me, this issue is significant enough that no amount of oil money can cover it up. Either Saudi Arabia will change it's barbarity or it will be the downfall of the nation.<b>Polarity:</b> 0.1875<br><b>Subjectivity:</b> 0.6875",
          "<b>Name:</b> TheEsportsIndia<br><b>User Location:</b> nan<br><b>Verified?</b> False<br><b>Date:</b> 2020-07-30<br><b>Tweet:</b> The LEC ends NEOM Partnership! #LEC #NEOM #leagueoflegends #esports #news \nhttps://t.co/tTcOX26CfN<b>Polarity:</b> 0.0<br><b>Subjectivity:</b> 0.0",
          "<b>Name:</b> _Viaurelia<br><b>User Location:</b> Brussels, Belgium<br><b>Verified?</b> False<br><b>Date:</b> 2020-07-29<br><b>Tweet:</b> @LEC @NEOM I've been waiting for years to see G2 lose to underdogs again, and now that I'm all hyped you're forcing me to stop watching LEC. No gg wp for you 🙄<b>Polarity:</b> 0.0<br><b>Subjectivity:</b> 0.0",
          "<b>Name:</b> Magus_sama<br><b>User Location:</b> nan<br><b>Verified?</b> False<br><b>Date:</b> 2020-07-30<br><b>Tweet:</b> @LEC @NEOM Even if gaming/esport there must be lgbt stuff, it's almost like an obsession for the lgbt community. Can't u just enjoy gaming without sexual orientations ??<b>Polarity:</b> 0.45<br><b>Subjectivity:</b> 0.6666666666666667",
          "<b>Name:</b> hisaira<br><b>User Location:</b> the shire<br><b>Verified?</b> False<br><b>Date:</b> 2020-07-30<br><b>Tweet:</b> It’s one thing to rightfully hate a regime but a whole other thing to hate on all arabic people. It’s really heartbreaking to see the amount of islamophobia, xenophobia and flat out racism the LEC+NEOM deal topic has brought out. reminds me to not read twitter comments 😔<b>Polarity:</b> -0.225<br><b>Subjectivity:</b> 0.4833333333333334",
          "<b>Name:</b> padrman<br><b>User Location:</b> Éire 🇮🇪 <br><b>Verified?</b> False<br><b>Date:</b> 2020-07-30<br><b>Tweet:</b> LEC cancel the NEOM partnership and now the Saudi state won't be buying Newcastle United.\n\nNot a bad day<b>Polarity:</b> 0.3499999999999999<br><b>Subjectivity:</b> 0.6666666666666666",
          "<b>Name:</b> MedicCasts<br><b>User Location:</b> Berlin, Germany<br><b>Verified?</b> False<br><b>Date:</b> 2022-09-18<br><b>Tweet:</b> @KidRonnie_ @LordZuip @CuratorRex @koyukixd @CarlosR I agree with you. I think casters have more power than they think. However, years of conditioning/understanding that Riot is their only job leads to thinking that power is limited (which it is because of new casters coming in). LEC casters stood against NEOM, but doing it again..<b>Polarity:</b> 0.14123376623376624<br><b>Subjectivity:</b> 0.5243506493506493",
          "<b>Name:</b> Voyboy<br><b>User Location:</b> nan<br><b>Verified?</b> False<br><b>Date:</b> 2020-07-30<br><b>Tweet:</b> Proud of everyone in the community who stood up in solidarity against the injustices of NEOM. Even though it never should have happened in the first place, good on the LEC for decisively cancelling the partnership.<b>Polarity:</b> 0.5833333333333334<br><b>Subjectivity:</b> 0.6444444444444445",
          "<b>Name:</b> Heyitsmedunk<br><b>User Location:</b> London, England<br><b>Verified?</b> False<br><b>Date:</b> 2022-01-25<br><b>Tweet:</b> @varceeful I think the only way to get a decent response is for an entire community wide pushback (i.e LEC and NEOM) otherwise you'll have a couple martyrs that go down for their own morals\n\nAnd that's hard when the bag is undeniably there.<b>Polarity:</b> 0.03134920634920634<br><b>Subjectivity:</b> 0.6460317460317461",
          "<b>Name:</b> InvenGlobal<br><b>User Location:</b> nan<br><b>Verified?</b> False<br><b>Date:</b> 2020-08-06<br><b>Tweet:</b> [#LEC] Rioters responsible for LEC NEOM deal reassured \"they did nothing wrong\", reports say: \n\nhttps://t.co/LWd3N8JNXO<b>Polarity:</b> -0.15<br><b>Subjectivity:</b> 0.7250000000000001",
          "<b>Name:</b> FTWImad<br><b>User Location:</b> nan<br><b>Verified?</b> False<br><b>Date:</b> 2020-08-03<br><b>Tweet:</b> Today, LEC report @Matthieist jumps on to talk the #LEC and Neom deal and the league's involvement with China and @ArinMJ, editor in chief of the Esports Bar Association Journal, discusses the antitrust hearings and what it could mean for esports. \n\nhttps://t.co/awtfAsu6fI<b>Polarity:</b> -0.3125<br><b>Subjectivity:</b> 0.6875",
          "<b>Name:</b> NoahGamesDesign<br><b>User Location:</b> londonion <br><b>Verified?</b> False<br><b>Date:</b> 2020-07-30<br><b>Tweet:</b> @Red_Fr0st @SkinSpotlights There is a very clear difference. \n\nLEC &amp; Tencent:\nTencent own Riot Games, which owns League of Legends, which owns LoL Esports, which owns the LEC. \n\nLEC &amp; Neom: \nLEC's main sponsor would have been Neom. \n\nAt the end of the day, it is incredibly hard to do something about -<b>Polarity:</b> 0.281<br><b>Subjectivity:</b> 0.6146666666666667",
          "<b>Name:</b> MnmzzzCS<br><b>User Location:</b> Columbus, GA<br><b>Verified?</b> False<br><b>Date:</b> 2020-07-31<br><b>Tweet:</b> Reminder that while public outrage forced @LEC to drop their sponsorship with NEOM, @BLASTPremier has slipped through the cracks and seemingly plan to continue working with NEOM.\n\nDefinitely feel like there should be more outrage directed at them.<b>Polarity:</b> 0.04999999999999999<br><b>Subjectivity:</b> 0.31666666666666665",
          "<b>Name:</b> InvenGlobal<br><b>User Location:</b> nan<br><b>Verified?</b> False<br><b>Date:</b> 2020-07-30<br><b>Tweet:</b> [#LEC] ‘On blood and bones’: the truth behind NEOM, @LEC ‘s short-lived partner.\n\n✍️ @GGNydrA #LoLesports \n\nhttps://t.co/KuRkrknnQf<b>Polarity:</b> -0.4<br><b>Subjectivity:</b> 0.7",
          "<b>Name:</b> helloaylee<br><b>User Location:</b> France<br><b>Verified?</b> False<br><b>Date:</b> 2020-07-30<br><b>Tweet:</b> LEC Ends NEOM Partnership.<b>Polarity:</b> 0.0<br><b>Subjectivity:</b> 0.0",
          "<b>Name:</b> ESPN_Esports<br><b>User Location:</b> nan<br><b>Verified?</b> False<br><b>Date:</b> 2020-07-30<br><b>Tweet:</b> UPDATE: The #LEC announced late Wednesday that it was terminating its partnership with NEOM following backlash throughout the day from many LEC staff members.\n\nhttps://t.co/MvXGxC18Ru<b>Polarity:</b> 0.06666666666666667<br><b>Subjectivity:</b> 0.39999999999999997",
          "<b>Name:</b> AlvaroPizarro<br><b>User Location:</b> Buenos Aires, Argentina<br><b>Verified?</b> False<br><b>Date:</b> 2020-08-01<br><b>Tweet:</b> If you steal something and then give it back after everyone gets angry at you... Does it count?\n\nWould you trust someone after they steal from you just because they gave it back when people got angry?\n\nDidn’t think so. This should’ve never happened. #LEC #NEOM<b>Polarity:</b> -0.25<br><b>Subjectivity:</b> 0.5",
          "<b>Name:</b> parquesomedia<br><b>User Location:</b> Los Angeles, CA<br><b>Verified?</b> False<br><b>Date:</b> 2021-02-08<br><b>Tweet:</b> I broke a number of stories based on a network I've been building for years, like Huni's Dignitas salary and its affect on their 2020 roster, furthering the story on the LEC Neom deal, various roster moves, and more.\n\nHuni: https://t.co/wmy0XTwgXP\nNeom: https://t.co/VLXwrI3Z3f<b>Polarity:</b> 0.25<br><b>Subjectivity:</b> 0.5",
          "<b>Name:</b> Thorin<br><b>User Location:</b> North<br><b>Verified?</b> False<br><b>Date:</b> 2021-08-26<br><b>Tweet:</b> Riot apparently fucked with the lawyers repping women with a case against them.\n\nRiot apparently told LEC NEOM deal was fine and just poorly messaged.\n\nBlizzard are apparently shredding docs now they're under microscope.\n\nLook at their actions not their words.<b>Polarity:</b> -0.09666666666666665<br><b>Subjectivity:</b> 0.5",
          "<b>Name:</b> PiraTechnics<br><b>User Location:</b> Los Angeles, CA<br><b>Verified?</b> False<br><b>Date:</b> 2020-07-31<br><b>Tweet:</b> How in the actual hell could anyone's takeaway from the #LEC casters' stance on the NEOM debacle be that they are unprincipled??\n\nThey did the bravest thing possible - they refused to work a show until this horrible deal was undone.<b>Polarity:</b> -0.3333333333333333<br><b>Subjectivity:</b> 0.7000000000000001",
          "<b>Name:</b> GGReconGaming<br><b>User Location:</b> nan<br><b>Verified?</b> False<br><b>Date:</b> 2020-08-10<br><b>Tweet:</b> Following the #LEC x NEOM backlash, Riot is reportedly establishing an 'ethics committee'. #LeagueOfLegends https://t.co/apuUo8mDBm<b>Polarity:</b> 0.0<br><b>Subjectivity:</b> 0.1",
          "<b>Name:</b> FlizzyFletch<br><b>User Location:</b> Chicago<br><b>Verified?</b> False<br><b>Date:</b> 2020-07-30<br><b>Tweet:</b> Somewhere there's a partnership team that was SUPER excited about yesterday's #LEC/NEOM announcement.\n\nI can't imagine the anxiety I would feel seeing the community reaction blow up in my face like that so fast.<b>Polarity:</b> 0.30277777777777776<br><b>Subjectivity:</b> 0.6722222222222222",
          "<b>Name:</b> IWDominate<br><b>User Location:</b> Austin, TX<br><b>Verified?</b> False<br><b>Date:</b> 2020-07-31<br><b>Tweet:</b> @Shakarez @Froskurinn I still don't see how the thumbnail is done in poor taste, it shows her dissatisfaction in the sponsorship with the LEC and NEOM as she was the person who spoke out against it and gained the most traction.<b>Polarity:</b> 0.04999999999999999<br><b>Subjectivity:</b> 0.55",
          "<b>Name:</b> Kaptajnmolen<br><b>User Location:</b> Aalborg, Danmark<br><b>Verified?</b> False<br><b>Date:</b> 2020-07-30<br><b>Tweet:</b> It's really beyond me how bad Riot leadership is. \nHow could they not have known how much this deal would backlash? For a company that constantly talks about how much they care about integrity, its seems rather foolish that they let this happen. #LEC #NEOM #Riot<b>Polarity:</b> -0.019999999999999962<br><b>Subjectivity:</b> 0.31999999999999995",
          "<b>Name:</b> MartinOmes<br><b>User Location:</b> Toronto, Ontario<br><b>Verified?</b> False<br><b>Date:</b> 2022-01-24<br><b>Tweet:</b> @Moses_FPS And FaceIt as well.\n\nInsane.\n\nWe hopefully will see LEC/NEOM like blowback from the community again.<b>Polarity:</b> -1.0<br><b>Subjectivity:</b> 1.0",
          "<b>Name:</b> crunchychocobo<br><b>User Location:</b> Dallas, TX<br><b>Verified?</b> False<br><b>Date:</b> 2020-07-30<br><b>Tweet:</b> Me editing stories for @DailyEsportsGG:\nG2 CEO speaks out against LEC partnership with NEOM\nLEC retratracts NEOM partnership\nBLAST announces sponsorship with NEOM\n\nPattern senses, tingling!<b>Polarity:</b> 0.0<br><b>Subjectivity:</b> 0.0",
          "<b>Name:</b> ESPN_Esports<br><b>User Location:</b> nan<br><b>Verified?</b> False<br><b>Date:</b> 2020-07-31<br><b>Tweet:</b> \"I think what the broadcast talent did in setting the standard with an immediate response that put their jobs on the line is actually incredibly brave.\" - @leagueofemily gives her thoughts on the #LEC's decision to abandon their partnership with NEOM.\n\n📺: https://t.co/t96vEL7dav https://t.co/dinDnEAUAl<b>Polarity:</b> 0.4<br><b>Subjectivity:</b> 0.5",
          "<b>Name:</b> CestDommage<br><b>User Location:</b> New York, NY<br><b>Verified?</b> False<br><b>Date:</b> 2020-07-30<br><b>Tweet:</b> I didn’t write really anything about LEC/NEOM but I am up at 4 AM so:\n\nStarted at:\nConfused.\nNonplussed.\nCurious.\nShocked.\nAngry.\nHurt.\nExpectant.\nAnnoyed.\nSatiated.\nResigned.\n^ Ended above\n\nSomeone high up had some bad math. Some denominators you just don’t use though.<b>Polarity:</b> -0.2711111111111111<br><b>Subjectivity:</b> 0.6451851851851852",
          "<b>Name:</b> shaymantim<br><b>User Location:</b> Glastonbury<br><b>Verified?</b> False<br><b>Date:</b> 2022-10-06<br><b>Tweet:</b> Search LEC + NEOM, or BLAST + NEOM Ricardo. Gamers’ views are out there. And watch out for when PIF buy a publisher outright - which they said they were going to do last month.<b>Polarity:</b> 0.0<br><b>Subjectivity:</b> 0.06666666666666667",
          "<b>Name:</b> Imad<br><b>User Location:</b> New York, NY<br><b>Verified?</b> False<br><b>Date:</b> 2020-09-07<br><b>Tweet:</b> Here's my latest for @DotEsports. I explain why there was anger over the #LEC Neom deal, but none towards China and its numerous human rights violations. \n\nIf I missed anything, please let me know.\n\nhttps://t.co/C758FWetRo\n\n#Uighurs #UighurGenocide  #HongKong #Worlds2020<b>Polarity:</b> -0.04999999999999999<br><b>Subjectivity:</b> 0.42500000000000004",
          "<b>Name:</b> ESPN_Esports<br><b>User Location:</b> nan<br><b>Verified?</b> False<br><b>Date:</b> 2020-07-30<br><b>Tweet:</b> Sources say that the #LEC teams were notified of the NEOM partnership, but had no say in its approval or not.\n\nhttps://t.co/VetggZgpG9<b>Polarity:</b> 0.0<br><b>Subjectivity:</b> 0.0",
          "<b>Name:</b> jfudge<br><b>User Location:</b> Berkshire County, Ma<br><b>Verified?</b> False<br><b>Date:</b> 2020-08-05<br><b>Tweet:</b> With all this talk about @BLASTPremier, #LEC, and #NEOM, I want to point out this article penned by @t0bs3n who explains why each org may have reacted the way they did. \n\nhttps://t.co/O01tkV2Yoz\n\n(He's one of my fav academics and the other Tobias I love to work with)<b>Polarity:</b> 0.1875<br><b>Subjectivity:</b> 0.4875",
          "<b>Name:</b> Dexerto<br><b>User Location:</b> press[at]dexerto.com<br><b>Verified?</b> False<br><b>Date:</b> 2020-07-30<br><b>Tweet:</b> The #LEC has canceled its partnership with NEOM just hours after it was announced. The backflip comes after a huge wave of community backlash over the deal.\n\nhttps://t.co/Qfqqyv3jON<b>Polarity:</b> 0.4000000000000001<br><b>Subjectivity:</b> 0.9",
          "<b>Name:</b> ESPN_Esports<br><b>User Location:</b> nan<br><b>Verified?</b> False<br><b>Date:</b> 2020-08-06<br><b>Tweet:</b> Riot Games addressed the #LEC's partnership with NEOM and steps to prevent similar gaffes in the future in a company-wide call Thursday, ESPN's @JacobWolf has learned. Details: https://t.co/AHEp8c8XO2<b>Polarity:</b> 0.0<br><b>Subjectivity:</b> 0.2625",
          "<b>Name:</b> EsportzNetwork<br><b>User Location:</b> nan<br><b>Verified?</b> False<br><b>Date:</b> 2020-07-30<br><b>Tweet:</b> Just 15 hours after announcing a partnership between @LEC and @NEOM, the partnership was called off. And it's all thanks to controversy and outrage from the #LEC esports community. \n\nhttps://t.co/ItpSBgx5Sq<b>Polarity:</b> 0.2<br><b>Subjectivity:</b> 0.2",
          "<b>Name:</b> InvenGlobal<br><b>User Location:</b> nan<br><b>Verified?</b> False<br><b>Date:</b> 2020-07-31<br><b>Tweet:</b> [#LEC] The @LEC Broadcast crew put their jobs on the line to combat the Neom partnership. #LoLEsports\n\nhttps://t.co/FqHQbOFQnh<b>Polarity:</b> 0.0<br><b>Subjectivity:</b> 0.0",
          "<b>Name:</b> LauncherWP<br><b>User Location:</b> Capital Wasteland<br><b>Verified?</b> False<br><b>Date:</b> 2020-09-06<br><b>Tweet:</b> The LEC and NEOM was likely just the beginning. \n\n\"Where individuals or brands take a stand may depend on their bank accounts.\"\nhttps://t.co/IYqj1epux7<b>Polarity:</b> 0.0<br><b>Subjectivity:</b> 1.0",
          "<b>Name:</b> moonduckTV<br><b>User Location:</b> United States<br><b>Verified?</b> False<br><b>Date:</b> 2020-08-05<br><b>Tweet:</b> EP162 of the @TrentPax &amp; @ZyoriTV Podcast\n\nTOPICS: omega league, sheepsticked, tier two blowouts, esl thailand, LEC and NEOM, t10 prize pool, arcana review &amp; ti10 arcana vote\n\naudio: https://t.co/icNdo9AH2V\n\nvideo: https://t.co/4A6cCI0i7x\n\nspotify: https://t.co/k5BbI27WqQ<b>Polarity:</b> 0.0<br><b>Subjectivity:</b> 0.0",
          "<b>Name:</b> jfudge<br><b>User Location:</b> Berkshire County, Ma<br><b>Verified?</b> False<br><b>Date:</b> 2020-07-30<br><b>Tweet:</b> Credit to all the @riotgames employees that stood up today against the @LEC / Neom announcement. That is not an easy thing to do when you take a stand against the company you work for. To its credit, Riot listened.  \n\nhttps://t.co/pS1P4AsmRH<b>Polarity:</b> 0.43333333333333335<br><b>Subjectivity:</b> 0.8333333333333334"
         ],
         "type": "scattermapbox"
        }
       ],
       "layout": {
        "height": 650,
        "mapbox": {
         "center": {
          "lat": 46.3144754,
          "lon": 8.974959398792844
         },
         "style": "carto-positron",
         "zoom": 0.5
        },
        "template": {
         "data": {
          "bar": [
           {
            "error_x": {
             "color": "#2a3f5f"
            },
            "error_y": {
             "color": "#2a3f5f"
            },
            "marker": {
             "line": {
              "color": "#E5ECF6",
              "width": 0.5
             },
             "pattern": {
              "fillmode": "overlay",
              "size": 10,
              "solidity": 0.2
             }
            },
            "type": "bar"
           }
          ],
          "barpolar": [
           {
            "marker": {
             "line": {
              "color": "#E5ECF6",
              "width": 0.5
             },
             "pattern": {
              "fillmode": "overlay",
              "size": 10,
              "solidity": 0.2
             }
            },
            "type": "barpolar"
           }
          ],
          "carpet": [
           {
            "aaxis": {
             "endlinecolor": "#2a3f5f",
             "gridcolor": "white",
             "linecolor": "white",
             "minorgridcolor": "white",
             "startlinecolor": "#2a3f5f"
            },
            "baxis": {
             "endlinecolor": "#2a3f5f",
             "gridcolor": "white",
             "linecolor": "white",
             "minorgridcolor": "white",
             "startlinecolor": "#2a3f5f"
            },
            "type": "carpet"
           }
          ],
          "choropleth": [
           {
            "colorbar": {
             "outlinewidth": 0,
             "ticks": ""
            },
            "type": "choropleth"
           }
          ],
          "contour": [
           {
            "colorbar": {
             "outlinewidth": 0,
             "ticks": ""
            },
            "colorscale": [
             [
              0,
              "#0d0887"
             ],
             [
              0.1111111111111111,
              "#46039f"
             ],
             [
              0.2222222222222222,
              "#7201a8"
             ],
             [
              0.3333333333333333,
              "#9c179e"
             ],
             [
              0.4444444444444444,
              "#bd3786"
             ],
             [
              0.5555555555555556,
              "#d8576b"
             ],
             [
              0.6666666666666666,
              "#ed7953"
             ],
             [
              0.7777777777777778,
              "#fb9f3a"
             ],
             [
              0.8888888888888888,
              "#fdca26"
             ],
             [
              1,
              "#f0f921"
             ]
            ],
            "type": "contour"
           }
          ],
          "contourcarpet": [
           {
            "colorbar": {
             "outlinewidth": 0,
             "ticks": ""
            },
            "type": "contourcarpet"
           }
          ],
          "heatmap": [
           {
            "colorbar": {
             "outlinewidth": 0,
             "ticks": ""
            },
            "colorscale": [
             [
              0,
              "#0d0887"
             ],
             [
              0.1111111111111111,
              "#46039f"
             ],
             [
              0.2222222222222222,
              "#7201a8"
             ],
             [
              0.3333333333333333,
              "#9c179e"
             ],
             [
              0.4444444444444444,
              "#bd3786"
             ],
             [
              0.5555555555555556,
              "#d8576b"
             ],
             [
              0.6666666666666666,
              "#ed7953"
             ],
             [
              0.7777777777777778,
              "#fb9f3a"
             ],
             [
              0.8888888888888888,
              "#fdca26"
             ],
             [
              1,
              "#f0f921"
             ]
            ],
            "type": "heatmap"
           }
          ],
          "heatmapgl": [
           {
            "colorbar": {
             "outlinewidth": 0,
             "ticks": ""
            },
            "colorscale": [
             [
              0,
              "#0d0887"
             ],
             [
              0.1111111111111111,
              "#46039f"
             ],
             [
              0.2222222222222222,
              "#7201a8"
             ],
             [
              0.3333333333333333,
              "#9c179e"
             ],
             [
              0.4444444444444444,
              "#bd3786"
             ],
             [
              0.5555555555555556,
              "#d8576b"
             ],
             [
              0.6666666666666666,
              "#ed7953"
             ],
             [
              0.7777777777777778,
              "#fb9f3a"
             ],
             [
              0.8888888888888888,
              "#fdca26"
             ],
             [
              1,
              "#f0f921"
             ]
            ],
            "type": "heatmapgl"
           }
          ],
          "histogram": [
           {
            "marker": {
             "pattern": {
              "fillmode": "overlay",
              "size": 10,
              "solidity": 0.2
             }
            },
            "type": "histogram"
           }
          ],
          "histogram2d": [
           {
            "colorbar": {
             "outlinewidth": 0,
             "ticks": ""
            },
            "colorscale": [
             [
              0,
              "#0d0887"
             ],
             [
              0.1111111111111111,
              "#46039f"
             ],
             [
              0.2222222222222222,
              "#7201a8"
             ],
             [
              0.3333333333333333,
              "#9c179e"
             ],
             [
              0.4444444444444444,
              "#bd3786"
             ],
             [
              0.5555555555555556,
              "#d8576b"
             ],
             [
              0.6666666666666666,
              "#ed7953"
             ],
             [
              0.7777777777777778,
              "#fb9f3a"
             ],
             [
              0.8888888888888888,
              "#fdca26"
             ],
             [
              1,
              "#f0f921"
             ]
            ],
            "type": "histogram2d"
           }
          ],
          "histogram2dcontour": [
           {
            "colorbar": {
             "outlinewidth": 0,
             "ticks": ""
            },
            "colorscale": [
             [
              0,
              "#0d0887"
             ],
             [
              0.1111111111111111,
              "#46039f"
             ],
             [
              0.2222222222222222,
              "#7201a8"
             ],
             [
              0.3333333333333333,
              "#9c179e"
             ],
             [
              0.4444444444444444,
              "#bd3786"
             ],
             [
              0.5555555555555556,
              "#d8576b"
             ],
             [
              0.6666666666666666,
              "#ed7953"
             ],
             [
              0.7777777777777778,
              "#fb9f3a"
             ],
             [
              0.8888888888888888,
              "#fdca26"
             ],
             [
              1,
              "#f0f921"
             ]
            ],
            "type": "histogram2dcontour"
           }
          ],
          "mesh3d": [
           {
            "colorbar": {
             "outlinewidth": 0,
             "ticks": ""
            },
            "type": "mesh3d"
           }
          ],
          "parcoords": [
           {
            "line": {
             "colorbar": {
              "outlinewidth": 0,
              "ticks": ""
             }
            },
            "type": "parcoords"
           }
          ],
          "pie": [
           {
            "automargin": true,
            "type": "pie"
           }
          ],
          "scatter": [
           {
            "fillpattern": {
             "fillmode": "overlay",
             "size": 10,
             "solidity": 0.2
            },
            "type": "scatter"
           }
          ],
          "scatter3d": [
           {
            "line": {
             "colorbar": {
              "outlinewidth": 0,
              "ticks": ""
             }
            },
            "marker": {
             "colorbar": {
              "outlinewidth": 0,
              "ticks": ""
             }
            },
            "type": "scatter3d"
           }
          ],
          "scattercarpet": [
           {
            "marker": {
             "colorbar": {
              "outlinewidth": 0,
              "ticks": ""
             }
            },
            "type": "scattercarpet"
           }
          ],
          "scattergeo": [
           {
            "marker": {
             "colorbar": {
              "outlinewidth": 0,
              "ticks": ""
             }
            },
            "type": "scattergeo"
           }
          ],
          "scattergl": [
           {
            "marker": {
             "colorbar": {
              "outlinewidth": 0,
              "ticks": ""
             }
            },
            "type": "scattergl"
           }
          ],
          "scattermapbox": [
           {
            "marker": {
             "colorbar": {
              "outlinewidth": 0,
              "ticks": ""
             }
            },
            "type": "scattermapbox"
           }
          ],
          "scatterpolar": [
           {
            "marker": {
             "colorbar": {
              "outlinewidth": 0,
              "ticks": ""
             }
            },
            "type": "scatterpolar"
           }
          ],
          "scatterpolargl": [
           {
            "marker": {
             "colorbar": {
              "outlinewidth": 0,
              "ticks": ""
             }
            },
            "type": "scatterpolargl"
           }
          ],
          "scatterternary": [
           {
            "marker": {
             "colorbar": {
              "outlinewidth": 0,
              "ticks": ""
             }
            },
            "type": "scatterternary"
           }
          ],
          "surface": [
           {
            "colorbar": {
             "outlinewidth": 0,
             "ticks": ""
            },
            "colorscale": [
             [
              0,
              "#0d0887"
             ],
             [
              0.1111111111111111,
              "#46039f"
             ],
             [
              0.2222222222222222,
              "#7201a8"
             ],
             [
              0.3333333333333333,
              "#9c179e"
             ],
             [
              0.4444444444444444,
              "#bd3786"
             ],
             [
              0.5555555555555556,
              "#d8576b"
             ],
             [
              0.6666666666666666,
              "#ed7953"
             ],
             [
              0.7777777777777778,
              "#fb9f3a"
             ],
             [
              0.8888888888888888,
              "#fdca26"
             ],
             [
              1,
              "#f0f921"
             ]
            ],
            "type": "surface"
           }
          ],
          "table": [
           {
            "cells": {
             "fill": {
              "color": "#EBF0F8"
             },
             "line": {
              "color": "white"
             }
            },
            "header": {
             "fill": {
              "color": "#C8D4E3"
             },
             "line": {
              "color": "white"
             }
            },
            "type": "table"
           }
          ]
         },
         "layout": {
          "annotationdefaults": {
           "arrowcolor": "#2a3f5f",
           "arrowhead": 0,
           "arrowwidth": 1
          },
          "autotypenumbers": "strict",
          "coloraxis": {
           "colorbar": {
            "outlinewidth": 0,
            "ticks": ""
           }
          },
          "colorscale": {
           "diverging": [
            [
             0,
             "#8e0152"
            ],
            [
             0.1,
             "#c51b7d"
            ],
            [
             0.2,
             "#de77ae"
            ],
            [
             0.3,
             "#f1b6da"
            ],
            [
             0.4,
             "#fde0ef"
            ],
            [
             0.5,
             "#f7f7f7"
            ],
            [
             0.6,
             "#e6f5d0"
            ],
            [
             0.7,
             "#b8e186"
            ],
            [
             0.8,
             "#7fbc41"
            ],
            [
             0.9,
             "#4d9221"
            ],
            [
             1,
             "#276419"
            ]
           ],
           "sequential": [
            [
             0,
             "#0d0887"
            ],
            [
             0.1111111111111111,
             "#46039f"
            ],
            [
             0.2222222222222222,
             "#7201a8"
            ],
            [
             0.3333333333333333,
             "#9c179e"
            ],
            [
             0.4444444444444444,
             "#bd3786"
            ],
            [
             0.5555555555555556,
             "#d8576b"
            ],
            [
             0.6666666666666666,
             "#ed7953"
            ],
            [
             0.7777777777777778,
             "#fb9f3a"
            ],
            [
             0.8888888888888888,
             "#fdca26"
            ],
            [
             1,
             "#f0f921"
            ]
           ],
           "sequentialminus": [
            [
             0,
             "#0d0887"
            ],
            [
             0.1111111111111111,
             "#46039f"
            ],
            [
             0.2222222222222222,
             "#7201a8"
            ],
            [
             0.3333333333333333,
             "#9c179e"
            ],
            [
             0.4444444444444444,
             "#bd3786"
            ],
            [
             0.5555555555555556,
             "#d8576b"
            ],
            [
             0.6666666666666666,
             "#ed7953"
            ],
            [
             0.7777777777777778,
             "#fb9f3a"
            ],
            [
             0.8888888888888888,
             "#fdca26"
            ],
            [
             1,
             "#f0f921"
            ]
           ]
          },
          "colorway": [
           "#636efa",
           "#EF553B",
           "#00cc96",
           "#ab63fa",
           "#FFA15A",
           "#19d3f3",
           "#FF6692",
           "#B6E880",
           "#FF97FF",
           "#FECB52"
          ],
          "font": {
           "color": "#2a3f5f"
          },
          "geo": {
           "bgcolor": "white",
           "lakecolor": "white",
           "landcolor": "#E5ECF6",
           "showlakes": true,
           "showland": true,
           "subunitcolor": "white"
          },
          "hoverlabel": {
           "align": "left"
          },
          "hovermode": "closest",
          "mapbox": {
           "style": "light"
          },
          "paper_bgcolor": "white",
          "plot_bgcolor": "#E5ECF6",
          "polar": {
           "angularaxis": {
            "gridcolor": "white",
            "linecolor": "white",
            "ticks": ""
           },
           "bgcolor": "#E5ECF6",
           "radialaxis": {
            "gridcolor": "white",
            "linecolor": "white",
            "ticks": ""
           }
          },
          "scene": {
           "xaxis": {
            "backgroundcolor": "#E5ECF6",
            "gridcolor": "white",
            "gridwidth": 2,
            "linecolor": "white",
            "showbackground": true,
            "ticks": "",
            "zerolinecolor": "white"
           },
           "yaxis": {
            "backgroundcolor": "#E5ECF6",
            "gridcolor": "white",
            "gridwidth": 2,
            "linecolor": "white",
            "showbackground": true,
            "ticks": "",
            "zerolinecolor": "white"
           },
           "zaxis": {
            "backgroundcolor": "#E5ECF6",
            "gridcolor": "white",
            "gridwidth": 2,
            "linecolor": "white",
            "showbackground": true,
            "ticks": "",
            "zerolinecolor": "white"
           }
          },
          "shapedefaults": {
           "line": {
            "color": "#2a3f5f"
           }
          },
          "ternary": {
           "aaxis": {
            "gridcolor": "white",
            "linecolor": "white",
            "ticks": ""
           },
           "baxis": {
            "gridcolor": "white",
            "linecolor": "white",
            "ticks": ""
           },
           "bgcolor": "#E5ECF6",
           "caxis": {
            "gridcolor": "white",
            "linecolor": "white",
            "ticks": ""
           }
          },
          "title": {
           "x": 0.05
          },
          "xaxis": {
           "automargin": true,
           "gridcolor": "white",
           "linecolor": "white",
           "ticks": "",
           "title": {
            "standoff": 15
           },
           "zerolinecolor": "white",
           "zerolinewidth": 2
          },
          "yaxis": {
           "automargin": true,
           "gridcolor": "white",
           "linecolor": "white",
           "ticks": "",
           "title": {
            "standoff": 15
           },
           "zerolinecolor": "white",
           "zerolinewidth": 2
          }
         }
        },
        "title": {
         "text": "Subjectivity of LEC/NEOM-related Tweets"
        },
        "width": 900
       }
      }
     },
     "metadata": {},
     "output_type": "display_data"
    }
   ],
   "source": [
    "# Create a Scatter map figure with data for Subjectivity of LEC/NEOM-related Tweets\n",
    "submap = go.Figure(go.Scattermapbox(lat=tweets_final['geometry'].y,\n",
    "                                    lon=tweets_final['geometry'].x,\n",
    "                                    mode='markers',\n",
    "                                    marker=dict(size=7.5,\n",
    "                                                color=tweets_final['subjectivity'],\n",
    "                                                colorscale='sunset',\n",
    "                                                opacity=0.7,\n",
    "                                                colorbar=dict(title='Subjectivity')),\n",
    "                                    text=sentimenthover)\n",
    ")\n",
    "\n",
    "# Set the layout of the Scatter map figure, including the title, the map attributes, the plot height and the plot width\n",
    "submap.update_layout(title='Subjectivity of LEC/NEOM-related Tweets',\n",
    "                     mapbox=dict(style='carto-positron',\n",
    "                                 center=dict(lat=tweets_final['geometry'].y.median(),\n",
    "                                             lon=tweets_final['geometry'].x.median()),\n",
    "                                 zoom=0.5),\n",
    "                     height=650,\n",
    "                     width=900\n",
    ")\n",
    "\n",
    "# Show the Scatter map figure\n",
    "submap.show()"
   ]
  },
  {
   "attachments": {},
   "cell_type": "markdown",
   "metadata": {},
   "source": [
    "Using a Scatter map again, we visualise the geographical distribution of the subjectivity data from tweets related to the LEC/NEOM sponsorship. Using the Plotly library, and the Mapbox API, markers are placed on the map that correspond to the approximate location of each tweet and where it originated from. The 'carto-positron' Mapbox style is used to provide a clear background, and uses the latitude and longitude coordinates, which are derived from the 'geometry' column in the dataset, to plot each tweet. The markers are colored using the 'sunset' colorscale, which ranges from yellow to purple to represent objectivity and subjectivity, respectively."
   ]
  },
  {
   "cell_type": "code",
   "execution_count": 24,
   "metadata": {},
   "outputs": [
    {
     "data": {
      "text/html": [
       "<div>\n",
       "<style scoped>\n",
       "    .dataframe tbody tr th:only-of-type {\n",
       "        vertical-align: middle;\n",
       "    }\n",
       "\n",
       "    .dataframe tbody tr th {\n",
       "        vertical-align: top;\n",
       "    }\n",
       "\n",
       "    .dataframe thead th {\n",
       "        text-align: right;\n",
       "    }\n",
       "</style>\n",
       "<table border=\"1\" class=\"dataframe\">\n",
       "  <thead>\n",
       "    <tr style=\"text-align: right;\">\n",
       "      <th></th>\n",
       "      <th>tweet_id</th>\n",
       "      <th>username</th>\n",
       "      <th>full_name</th>\n",
       "      <th>full_text</th>\n",
       "      <th>view_count</th>\n",
       "      <th>bookmark_count</th>\n",
       "      <th>favorite_count</th>\n",
       "      <th>reply_count</th>\n",
       "      <th>retweet_count</th>\n",
       "      <th>quote_count</th>\n",
       "      <th>...</th>\n",
       "      <th>avatar_url</th>\n",
       "      <th>verified</th>\n",
       "      <th>is_blue_verified</th>\n",
       "      <th>user_created_at</th>\n",
       "      <th>acc_location</th>\n",
       "      <th>lat</th>\n",
       "      <th>lon</th>\n",
       "      <th>geometry</th>\n",
       "      <th>polarity</th>\n",
       "      <th>subjectivity</th>\n",
       "    </tr>\n",
       "  </thead>\n",
       "  <tbody>\n",
       "    <tr>\n",
       "      <th>0</th>\n",
       "      <td>1293716451522560000</td>\n",
       "      <td>Slasher</td>\n",
       "      <td>Rod Breslau</td>\n",
       "      <td>if Riot never rescinded their LEC NEOM sponsor...</td>\n",
       "      <td>0</td>\n",
       "      <td>2</td>\n",
       "      <td>984</td>\n",
       "      <td>6</td>\n",
       "      <td>46</td>\n",
       "      <td>1</td>\n",
       "      <td>...</td>\n",
       "      <td>https://pbs.twimg.com/profile_images/130227366...</td>\n",
       "      <td>False</td>\n",
       "      <td>False</td>\n",
       "      <td>2009-01-15</td>\n",
       "      <td>(Manhattan, New York County, City of New York,...</td>\n",
       "      <td>40.789624</td>\n",
       "      <td>-73.959894</td>\n",
       "      <td>POINT (-73.95989 40.78962)</td>\n",
       "      <td>0.400000</td>\n",
       "      <td>0.412500</td>\n",
       "    </tr>\n",
       "    <tr>\n",
       "      <th>1</th>\n",
       "      <td>1288667916087562240</td>\n",
       "      <td>JacobWolf</td>\n",
       "      <td>Jacob Wolf</td>\n",
       "      <td>Crazy how much reputation the #LEC lost for pa...</td>\n",
       "      <td>0</td>\n",
       "      <td>3</td>\n",
       "      <td>1505</td>\n",
       "      <td>28</td>\n",
       "      <td>50</td>\n",
       "      <td>4</td>\n",
       "      <td>...</td>\n",
       "      <td>https://pbs.twimg.com/profile_images/134582333...</td>\n",
       "      <td>False</td>\n",
       "      <td>True</td>\n",
       "      <td>2011-07-16</td>\n",
       "      <td>(Austin, Travis County, Texas, United States, ...</td>\n",
       "      <td>30.271129</td>\n",
       "      <td>-97.743700</td>\n",
       "      <td>POINT (-97.74370 30.27113)</td>\n",
       "      <td>0.070000</td>\n",
       "      <td>0.386667</td>\n",
       "    </tr>\n",
       "    <tr>\n",
       "      <th>2</th>\n",
       "      <td>1288953507492618242</td>\n",
       "      <td>JacobWolf</td>\n",
       "      <td>Jacob Wolf</td>\n",
       "      <td>Regarding speculation that #LEC teams having v...</td>\n",
       "      <td>0</td>\n",
       "      <td>1</td>\n",
       "      <td>248</td>\n",
       "      <td>5</td>\n",
       "      <td>20</td>\n",
       "      <td>6</td>\n",
       "      <td>...</td>\n",
       "      <td>https://pbs.twimg.com/profile_images/134582333...</td>\n",
       "      <td>False</td>\n",
       "      <td>True</td>\n",
       "      <td>2011-07-16</td>\n",
       "      <td>(Austin, Travis County, Texas, United States, ...</td>\n",
       "      <td>30.271129</td>\n",
       "      <td>-97.743700</td>\n",
       "      <td>POINT (-97.74370 30.27113)</td>\n",
       "      <td>0.000000</td>\n",
       "      <td>0.000000</td>\n",
       "    </tr>\n",
       "    <tr>\n",
       "      <th>3</th>\n",
       "      <td>1625140182499352576</td>\n",
       "      <td>NOHEATED</td>\n",
       "      <td>NOHEATED🇺🇦</td>\n",
       "      <td>@MShadov @erasus_dk @MmX_A_ @G2esports @Carlos...</td>\n",
       "      <td>46</td>\n",
       "      <td>0</td>\n",
       "      <td>0</td>\n",
       "      <td>1</td>\n",
       "      <td>0</td>\n",
       "      <td>0</td>\n",
       "      <td>...</td>\n",
       "      <td>https://pbs.twimg.com/profile_images/151380101...</td>\n",
       "      <td>False</td>\n",
       "      <td>False</td>\n",
       "      <td>2014-03-16</td>\n",
       "      <td>(Дніпро, Дніпровська міська громада, Дніпровсь...</td>\n",
       "      <td>48.468022</td>\n",
       "      <td>35.041771</td>\n",
       "      <td>POINT (35.04177 48.46802)</td>\n",
       "      <td>0.028788</td>\n",
       "      <td>0.501515</td>\n",
       "    </tr>\n",
       "    <tr>\n",
       "      <th>4</th>\n",
       "      <td>1288994390552252418</td>\n",
       "      <td>MShent1238</td>\n",
       "      <td>Shent🐀</td>\n",
       "      <td>@iiLoVE18 @PoliticsAndMem2 @VewNizion @BGBFG14...</td>\n",
       "      <td>0</td>\n",
       "      <td>0</td>\n",
       "      <td>0</td>\n",
       "      <td>1</td>\n",
       "      <td>0</td>\n",
       "      <td>0</td>\n",
       "      <td>...</td>\n",
       "      <td>https://pbs.twimg.com/profile_images/978360163...</td>\n",
       "      <td>False</td>\n",
       "      <td>False</td>\n",
       "      <td>2017-03-14</td>\n",
       "      <td>(Nanno, Ville d'Anaunia, Comunità della Val di...</td>\n",
       "      <td>46.314475</td>\n",
       "      <td>11.048029</td>\n",
       "      <td>POINT (11.04803 46.31448)</td>\n",
       "      <td>0.025000</td>\n",
       "      <td>0.125000</td>\n",
       "    </tr>\n",
       "  </tbody>\n",
       "</table>\n",
       "<p>5 rows × 44 columns</p>\n",
       "</div>"
      ],
      "text/plain": [
       "              tweet_id    username    full_name  \\\n",
       "0  1293716451522560000     Slasher  Rod Breslau   \n",
       "1  1288667916087562240   JacobWolf   Jacob Wolf   \n",
       "2  1288953507492618242   JacobWolf   Jacob Wolf   \n",
       "3  1625140182499352576    NOHEATED   NOHEATED🇺🇦   \n",
       "4  1288994390552252418  MShent1238       Shent🐀   \n",
       "\n",
       "                                           full_text  view_count  \\\n",
       "0  if Riot never rescinded their LEC NEOM sponsor...           0   \n",
       "1  Crazy how much reputation the #LEC lost for pa...           0   \n",
       "2  Regarding speculation that #LEC teams having v...           0   \n",
       "3  @MShadov @erasus_dk @MmX_A_ @G2esports @Carlos...          46   \n",
       "4  @iiLoVE18 @PoliticsAndMem2 @VewNizion @BGBFG14...           0   \n",
       "\n",
       "   bookmark_count  favorite_count  reply_count  retweet_count  quote_count  \\\n",
       "0               2             984            6             46            1   \n",
       "1               3            1505           28             50            4   \n",
       "2               1             248            5             20            6   \n",
       "3               0               0            1              0            0   \n",
       "4               0               0            1              0            0   \n",
       "\n",
       "   ...                                         avatar_url verified  \\\n",
       "0  ...  https://pbs.twimg.com/profile_images/130227366...    False   \n",
       "1  ...  https://pbs.twimg.com/profile_images/134582333...    False   \n",
       "2  ...  https://pbs.twimg.com/profile_images/134582333...    False   \n",
       "3  ...  https://pbs.twimg.com/profile_images/151380101...    False   \n",
       "4  ...  https://pbs.twimg.com/profile_images/978360163...    False   \n",
       "\n",
       "   is_blue_verified  user_created_at  \\\n",
       "0             False       2009-01-15   \n",
       "1              True       2011-07-16   \n",
       "2              True       2011-07-16   \n",
       "3             False       2014-03-16   \n",
       "4             False       2017-03-14   \n",
       "\n",
       "                                        acc_location        lat        lon  \\\n",
       "0  (Manhattan, New York County, City of New York,...  40.789624 -73.959894   \n",
       "1  (Austin, Travis County, Texas, United States, ...  30.271129 -97.743700   \n",
       "2  (Austin, Travis County, Texas, United States, ...  30.271129 -97.743700   \n",
       "3  (Дніпро, Дніпровська міська громада, Дніпровсь...  48.468022  35.041771   \n",
       "4  (Nanno, Ville d'Anaunia, Comunità della Val di...  46.314475  11.048029   \n",
       "\n",
       "                     geometry  polarity subjectivity  \n",
       "0  POINT (-73.95989 40.78962)  0.400000     0.412500  \n",
       "1  POINT (-97.74370 30.27113)  0.070000     0.386667  \n",
       "2  POINT (-97.74370 30.27113)  0.000000     0.000000  \n",
       "3   POINT (35.04177 48.46802)  0.028788     0.501515  \n",
       "4   POINT (11.04803 46.31448)  0.025000     0.125000  \n",
       "\n",
       "[5 rows x 44 columns]"
      ]
     },
     "execution_count": 24,
     "metadata": {},
     "output_type": "execute_result"
    }
   ],
   "source": [
    "tweets_countrypre=tweets_final[tweets_final['lat'].notna()]\n",
    "tweets_countrypre.head()"
   ]
  },
  {
   "cell_type": "code",
   "execution_count": 25,
   "metadata": {},
   "outputs": [
    {
     "data": {
      "text/html": [
       "<div>\n",
       "<style scoped>\n",
       "    .dataframe tbody tr th:only-of-type {\n",
       "        vertical-align: middle;\n",
       "    }\n",
       "\n",
       "    .dataframe tbody tr th {\n",
       "        vertical-align: top;\n",
       "    }\n",
       "\n",
       "    .dataframe thead th {\n",
       "        text-align: right;\n",
       "    }\n",
       "</style>\n",
       "<table border=\"1\" class=\"dataframe\">\n",
       "  <thead>\n",
       "    <tr style=\"text-align: right;\">\n",
       "      <th></th>\n",
       "      <th>tweet_id</th>\n",
       "      <th>username</th>\n",
       "      <th>full_name</th>\n",
       "      <th>full_text</th>\n",
       "      <th>view_count</th>\n",
       "      <th>bookmark_count</th>\n",
       "      <th>favorite_count</th>\n",
       "      <th>reply_count</th>\n",
       "      <th>retweet_count</th>\n",
       "      <th>quote_count</th>\n",
       "      <th>...</th>\n",
       "      <th>verified</th>\n",
       "      <th>is_blue_verified</th>\n",
       "      <th>user_created_at</th>\n",
       "      <th>acc_location</th>\n",
       "      <th>lat</th>\n",
       "      <th>lon</th>\n",
       "      <th>geometry</th>\n",
       "      <th>polarity</th>\n",
       "      <th>subjectivity</th>\n",
       "      <th>country</th>\n",
       "    </tr>\n",
       "  </thead>\n",
       "  <tbody>\n",
       "    <tr>\n",
       "      <th>0</th>\n",
       "      <td>1293716451522560000</td>\n",
       "      <td>Slasher</td>\n",
       "      <td>Rod Breslau</td>\n",
       "      <td>if Riot never rescinded their LEC NEOM sponsor...</td>\n",
       "      <td>0</td>\n",
       "      <td>2</td>\n",
       "      <td>984</td>\n",
       "      <td>6</td>\n",
       "      <td>46</td>\n",
       "      <td>1</td>\n",
       "      <td>...</td>\n",
       "      <td>False</td>\n",
       "      <td>False</td>\n",
       "      <td>2009-01-15</td>\n",
       "      <td>(Manhattan, New York County, City of New York,...</td>\n",
       "      <td>40.789624</td>\n",
       "      <td>-73.959894</td>\n",
       "      <td>POINT (-73.95989 40.78962)</td>\n",
       "      <td>0.400000</td>\n",
       "      <td>0.412500</td>\n",
       "      <td>United States</td>\n",
       "    </tr>\n",
       "    <tr>\n",
       "      <th>1</th>\n",
       "      <td>1288667916087562240</td>\n",
       "      <td>JacobWolf</td>\n",
       "      <td>Jacob Wolf</td>\n",
       "      <td>Crazy how much reputation the #LEC lost for pa...</td>\n",
       "      <td>0</td>\n",
       "      <td>3</td>\n",
       "      <td>1505</td>\n",
       "      <td>28</td>\n",
       "      <td>50</td>\n",
       "      <td>4</td>\n",
       "      <td>...</td>\n",
       "      <td>False</td>\n",
       "      <td>True</td>\n",
       "      <td>2011-07-16</td>\n",
       "      <td>(Austin, Travis County, Texas, United States, ...</td>\n",
       "      <td>30.271129</td>\n",
       "      <td>-97.743700</td>\n",
       "      <td>POINT (-97.74370 30.27113)</td>\n",
       "      <td>0.070000</td>\n",
       "      <td>0.386667</td>\n",
       "      <td>United States</td>\n",
       "    </tr>\n",
       "    <tr>\n",
       "      <th>2</th>\n",
       "      <td>1288953507492618242</td>\n",
       "      <td>JacobWolf</td>\n",
       "      <td>Jacob Wolf</td>\n",
       "      <td>Regarding speculation that #LEC teams having v...</td>\n",
       "      <td>0</td>\n",
       "      <td>1</td>\n",
       "      <td>248</td>\n",
       "      <td>5</td>\n",
       "      <td>20</td>\n",
       "      <td>6</td>\n",
       "      <td>...</td>\n",
       "      <td>False</td>\n",
       "      <td>True</td>\n",
       "      <td>2011-07-16</td>\n",
       "      <td>(Austin, Travis County, Texas, United States, ...</td>\n",
       "      <td>30.271129</td>\n",
       "      <td>-97.743700</td>\n",
       "      <td>POINT (-97.74370 30.27113)</td>\n",
       "      <td>0.000000</td>\n",
       "      <td>0.000000</td>\n",
       "      <td>United States</td>\n",
       "    </tr>\n",
       "    <tr>\n",
       "      <th>3</th>\n",
       "      <td>1625140182499352576</td>\n",
       "      <td>NOHEATED</td>\n",
       "      <td>NOHEATED🇺🇦</td>\n",
       "      <td>@MShadov @erasus_dk @MmX_A_ @G2esports @Carlos...</td>\n",
       "      <td>46</td>\n",
       "      <td>0</td>\n",
       "      <td>0</td>\n",
       "      <td>1</td>\n",
       "      <td>0</td>\n",
       "      <td>0</td>\n",
       "      <td>...</td>\n",
       "      <td>False</td>\n",
       "      <td>False</td>\n",
       "      <td>2014-03-16</td>\n",
       "      <td>(Дніпро, Дніпровська міська громада, Дніпровсь...</td>\n",
       "      <td>48.468022</td>\n",
       "      <td>35.041771</td>\n",
       "      <td>POINT (35.04177 48.46802)</td>\n",
       "      <td>0.028788</td>\n",
       "      <td>0.501515</td>\n",
       "      <td>Україна</td>\n",
       "    </tr>\n",
       "    <tr>\n",
       "      <th>4</th>\n",
       "      <td>1288994390552252418</td>\n",
       "      <td>MShent1238</td>\n",
       "      <td>Shent🐀</td>\n",
       "      <td>@iiLoVE18 @PoliticsAndMem2 @VewNizion @BGBFG14...</td>\n",
       "      <td>0</td>\n",
       "      <td>0</td>\n",
       "      <td>0</td>\n",
       "      <td>1</td>\n",
       "      <td>0</td>\n",
       "      <td>0</td>\n",
       "      <td>...</td>\n",
       "      <td>False</td>\n",
       "      <td>False</td>\n",
       "      <td>2017-03-14</td>\n",
       "      <td>(Nanno, Ville d'Anaunia, Comunità della Val di...</td>\n",
       "      <td>46.314475</td>\n",
       "      <td>11.048029</td>\n",
       "      <td>POINT (11.04803 46.31448)</td>\n",
       "      <td>0.025000</td>\n",
       "      <td>0.125000</td>\n",
       "      <td>Italia</td>\n",
       "    </tr>\n",
       "  </tbody>\n",
       "</table>\n",
       "<p>5 rows × 45 columns</p>\n",
       "</div>"
      ],
      "text/plain": [
       "              tweet_id    username    full_name  \\\n",
       "0  1293716451522560000     Slasher  Rod Breslau   \n",
       "1  1288667916087562240   JacobWolf   Jacob Wolf   \n",
       "2  1288953507492618242   JacobWolf   Jacob Wolf   \n",
       "3  1625140182499352576    NOHEATED   NOHEATED🇺🇦   \n",
       "4  1288994390552252418  MShent1238       Shent🐀   \n",
       "\n",
       "                                           full_text  view_count  \\\n",
       "0  if Riot never rescinded their LEC NEOM sponsor...           0   \n",
       "1  Crazy how much reputation the #LEC lost for pa...           0   \n",
       "2  Regarding speculation that #LEC teams having v...           0   \n",
       "3  @MShadov @erasus_dk @MmX_A_ @G2esports @Carlos...          46   \n",
       "4  @iiLoVE18 @PoliticsAndMem2 @VewNizion @BGBFG14...           0   \n",
       "\n",
       "   bookmark_count  favorite_count  reply_count  retweet_count  quote_count  \\\n",
       "0               2             984            6             46            1   \n",
       "1               3            1505           28             50            4   \n",
       "2               1             248            5             20            6   \n",
       "3               0               0            1              0            0   \n",
       "4               0               0            1              0            0   \n",
       "\n",
       "   ...  verified is_blue_verified  user_created_at  \\\n",
       "0  ...     False            False       2009-01-15   \n",
       "1  ...     False             True       2011-07-16   \n",
       "2  ...     False             True       2011-07-16   \n",
       "3  ...     False            False       2014-03-16   \n",
       "4  ...     False            False       2017-03-14   \n",
       "\n",
       "                                        acc_location        lat        lon  \\\n",
       "0  (Manhattan, New York County, City of New York,...  40.789624 -73.959894   \n",
       "1  (Austin, Travis County, Texas, United States, ...  30.271129 -97.743700   \n",
       "2  (Austin, Travis County, Texas, United States, ...  30.271129 -97.743700   \n",
       "3  (Дніпро, Дніпровська міська громада, Дніпровсь...  48.468022  35.041771   \n",
       "4  (Nanno, Ville d'Anaunia, Comunità della Val di...  46.314475  11.048029   \n",
       "\n",
       "                     geometry  polarity  subjectivity        country  \n",
       "0  POINT (-73.95989 40.78962)  0.400000      0.412500  United States  \n",
       "1  POINT (-97.74370 30.27113)  0.070000      0.386667  United States  \n",
       "2  POINT (-97.74370 30.27113)  0.000000      0.000000  United States  \n",
       "3   POINT (35.04177 48.46802)  0.028788      0.501515        Україна  \n",
       "4   POINT (11.04803 46.31448)  0.025000      0.125000         Italia  \n",
       "\n",
       "[5 rows x 45 columns]"
      ]
     },
     "execution_count": 25,
     "metadata": {},
     "output_type": "execute_result"
    }
   ],
   "source": [
    "def get_country(lat, lon):\n",
    "    location = geolocator.reverse((lat, lon), exactly_one=True)\n",
    "    if location is None:\n",
    "        return None\n",
    "    elif 'country' not in location.raw['address']:\n",
    "        return None\n",
    "    else:\n",
    "        return location.raw['address']['country']\n",
    "\n",
    "tweets_final['country'] = tweets_countrypre.apply(lambda row: get_country(row['lat'], row['lon']), axis=1)\n",
    "tweets_final.head()"
   ]
  },
  {
   "attachments": {},
   "cell_type": "markdown",
   "metadata": {},
   "source": [
    "To further enhance the geographical information for each tweet, we used Nominatim once again, this time to obtain the country that each tweet originated from. We did this by utilizing the 'Lat' and 'Lon' columns that were generated the previous time we used Nominatim. The 'get_country' function was created to take the latitude and longitude coordinates of each tweet and reverse geocode them using Nominatim to retrieve the corresponding country. This function was then applied to each row of the dataframe, which resulted in a new 'country' column being added to the dataframe that contains the country name for each tweet.\n",
    "\n",
    "If code produces \"KeyError: 'country'\", run notebook from scratch. Reason why code produces \"KeyError: 'country'\" every now and then is unknown. It is possibly caused by one of the values in \"user_location\" column in \"tweets_final\"."
   ]
  },
  {
   "cell_type": "code",
   "execution_count": 26,
   "metadata": {},
   "outputs": [
    {
     "data": {
      "text/html": [
       "<div>\n",
       "<style scoped>\n",
       "    .dataframe tbody tr th:only-of-type {\n",
       "        vertical-align: middle;\n",
       "    }\n",
       "\n",
       "    .dataframe tbody tr th {\n",
       "        vertical-align: top;\n",
       "    }\n",
       "\n",
       "    .dataframe thead th {\n",
       "        text-align: right;\n",
       "    }\n",
       "</style>\n",
       "<table border=\"1\" class=\"dataframe\">\n",
       "  <thead>\n",
       "    <tr style=\"text-align: right;\">\n",
       "      <th></th>\n",
       "      <th>tweet_id</th>\n",
       "      <th>username</th>\n",
       "      <th>full_name</th>\n",
       "      <th>full_text</th>\n",
       "      <th>view_count</th>\n",
       "      <th>bookmark_count</th>\n",
       "      <th>favorite_count</th>\n",
       "      <th>reply_count</th>\n",
       "      <th>retweet_count</th>\n",
       "      <th>quote_count</th>\n",
       "      <th>...</th>\n",
       "      <th>verified</th>\n",
       "      <th>is_blue_verified</th>\n",
       "      <th>user_created_at</th>\n",
       "      <th>acc_location</th>\n",
       "      <th>lat</th>\n",
       "      <th>lon</th>\n",
       "      <th>geometry</th>\n",
       "      <th>polarity</th>\n",
       "      <th>subjectivity</th>\n",
       "      <th>country</th>\n",
       "    </tr>\n",
       "  </thead>\n",
       "  <tbody>\n",
       "    <tr>\n",
       "      <th>0</th>\n",
       "      <td>1293716451522560000</td>\n",
       "      <td>Slasher</td>\n",
       "      <td>Rod Breslau</td>\n",
       "      <td>if Riot never rescinded their LEC NEOM sponsor...</td>\n",
       "      <td>0</td>\n",
       "      <td>2</td>\n",
       "      <td>984</td>\n",
       "      <td>6</td>\n",
       "      <td>46</td>\n",
       "      <td>1</td>\n",
       "      <td>...</td>\n",
       "      <td>False</td>\n",
       "      <td>False</td>\n",
       "      <td>2009-01-15</td>\n",
       "      <td>(Manhattan, New York County, City of New York,...</td>\n",
       "      <td>40.789624</td>\n",
       "      <td>-73.959894</td>\n",
       "      <td>POINT (-73.95989 40.78962)</td>\n",
       "      <td>0.400000</td>\n",
       "      <td>0.412500</td>\n",
       "      <td>United States</td>\n",
       "    </tr>\n",
       "    <tr>\n",
       "      <th>1</th>\n",
       "      <td>1288667916087562240</td>\n",
       "      <td>JacobWolf</td>\n",
       "      <td>Jacob Wolf</td>\n",
       "      <td>Crazy how much reputation the #LEC lost for pa...</td>\n",
       "      <td>0</td>\n",
       "      <td>3</td>\n",
       "      <td>1505</td>\n",
       "      <td>28</td>\n",
       "      <td>50</td>\n",
       "      <td>4</td>\n",
       "      <td>...</td>\n",
       "      <td>False</td>\n",
       "      <td>True</td>\n",
       "      <td>2011-07-16</td>\n",
       "      <td>(Austin, Travis County, Texas, United States, ...</td>\n",
       "      <td>30.271129</td>\n",
       "      <td>-97.743700</td>\n",
       "      <td>POINT (-97.74370 30.27113)</td>\n",
       "      <td>0.070000</td>\n",
       "      <td>0.386667</td>\n",
       "      <td>United States</td>\n",
       "    </tr>\n",
       "    <tr>\n",
       "      <th>2</th>\n",
       "      <td>1288953507492618242</td>\n",
       "      <td>JacobWolf</td>\n",
       "      <td>Jacob Wolf</td>\n",
       "      <td>Regarding speculation that #LEC teams having v...</td>\n",
       "      <td>0</td>\n",
       "      <td>1</td>\n",
       "      <td>248</td>\n",
       "      <td>5</td>\n",
       "      <td>20</td>\n",
       "      <td>6</td>\n",
       "      <td>...</td>\n",
       "      <td>False</td>\n",
       "      <td>True</td>\n",
       "      <td>2011-07-16</td>\n",
       "      <td>(Austin, Travis County, Texas, United States, ...</td>\n",
       "      <td>30.271129</td>\n",
       "      <td>-97.743700</td>\n",
       "      <td>POINT (-97.74370 30.27113)</td>\n",
       "      <td>0.000000</td>\n",
       "      <td>0.000000</td>\n",
       "      <td>United States</td>\n",
       "    </tr>\n",
       "    <tr>\n",
       "      <th>3</th>\n",
       "      <td>1625140182499352576</td>\n",
       "      <td>NOHEATED</td>\n",
       "      <td>NOHEATED🇺🇦</td>\n",
       "      <td>@MShadov @erasus_dk @MmX_A_ @G2esports @Carlos...</td>\n",
       "      <td>46</td>\n",
       "      <td>0</td>\n",
       "      <td>0</td>\n",
       "      <td>1</td>\n",
       "      <td>0</td>\n",
       "      <td>0</td>\n",
       "      <td>...</td>\n",
       "      <td>False</td>\n",
       "      <td>False</td>\n",
       "      <td>2014-03-16</td>\n",
       "      <td>(Дніпро, Дніпровська міська громада, Дніпровсь...</td>\n",
       "      <td>48.468022</td>\n",
       "      <td>35.041771</td>\n",
       "      <td>POINT (35.04177 48.46802)</td>\n",
       "      <td>0.028788</td>\n",
       "      <td>0.501515</td>\n",
       "      <td>Ukraine</td>\n",
       "    </tr>\n",
       "    <tr>\n",
       "      <th>4</th>\n",
       "      <td>1288994390552252418</td>\n",
       "      <td>MShent1238</td>\n",
       "      <td>Shent🐀</td>\n",
       "      <td>@iiLoVE18 @PoliticsAndMem2 @VewNizion @BGBFG14...</td>\n",
       "      <td>0</td>\n",
       "      <td>0</td>\n",
       "      <td>0</td>\n",
       "      <td>1</td>\n",
       "      <td>0</td>\n",
       "      <td>0</td>\n",
       "      <td>...</td>\n",
       "      <td>False</td>\n",
       "      <td>False</td>\n",
       "      <td>2017-03-14</td>\n",
       "      <td>(Nanno, Ville d'Anaunia, Comunità della Val di...</td>\n",
       "      <td>46.314475</td>\n",
       "      <td>11.048029</td>\n",
       "      <td>POINT (11.04803 46.31448)</td>\n",
       "      <td>0.025000</td>\n",
       "      <td>0.125000</td>\n",
       "      <td>Italy</td>\n",
       "    </tr>\n",
       "  </tbody>\n",
       "</table>\n",
       "<p>5 rows × 45 columns</p>\n",
       "</div>"
      ],
      "text/plain": [
       "              tweet_id    username    full_name  \\\n",
       "0  1293716451522560000     Slasher  Rod Breslau   \n",
       "1  1288667916087562240   JacobWolf   Jacob Wolf   \n",
       "2  1288953507492618242   JacobWolf   Jacob Wolf   \n",
       "3  1625140182499352576    NOHEATED   NOHEATED🇺🇦   \n",
       "4  1288994390552252418  MShent1238       Shent🐀   \n",
       "\n",
       "                                           full_text  view_count  \\\n",
       "0  if Riot never rescinded their LEC NEOM sponsor...           0   \n",
       "1  Crazy how much reputation the #LEC lost for pa...           0   \n",
       "2  Regarding speculation that #LEC teams having v...           0   \n",
       "3  @MShadov @erasus_dk @MmX_A_ @G2esports @Carlos...          46   \n",
       "4  @iiLoVE18 @PoliticsAndMem2 @VewNizion @BGBFG14...           0   \n",
       "\n",
       "   bookmark_count  favorite_count  reply_count  retweet_count  quote_count  \\\n",
       "0               2             984            6             46            1   \n",
       "1               3            1505           28             50            4   \n",
       "2               1             248            5             20            6   \n",
       "3               0               0            1              0            0   \n",
       "4               0               0            1              0            0   \n",
       "\n",
       "   ...  verified is_blue_verified  user_created_at  \\\n",
       "0  ...     False            False       2009-01-15   \n",
       "1  ...     False             True       2011-07-16   \n",
       "2  ...     False             True       2011-07-16   \n",
       "3  ...     False            False       2014-03-16   \n",
       "4  ...     False            False       2017-03-14   \n",
       "\n",
       "                                        acc_location        lat        lon  \\\n",
       "0  (Manhattan, New York County, City of New York,...  40.789624 -73.959894   \n",
       "1  (Austin, Travis County, Texas, United States, ...  30.271129 -97.743700   \n",
       "2  (Austin, Travis County, Texas, United States, ...  30.271129 -97.743700   \n",
       "3  (Дніпро, Дніпровська міська громада, Дніпровсь...  48.468022  35.041771   \n",
       "4  (Nanno, Ville d'Anaunia, Comunità della Val di...  46.314475  11.048029   \n",
       "\n",
       "                     geometry  polarity  subjectivity        country  \n",
       "0  POINT (-73.95989 40.78962)  0.400000      0.412500  United States  \n",
       "1  POINT (-97.74370 30.27113)  0.070000      0.386667  United States  \n",
       "2  POINT (-97.74370 30.27113)  0.000000      0.000000  United States  \n",
       "3   POINT (35.04177 48.46802)  0.028788      0.501515        Ukraine  \n",
       "4   POINT (11.04803 46.31448)  0.025000      0.125000          Italy  \n",
       "\n",
       "[5 rows x 45 columns]"
      ]
     },
     "execution_count": 26,
     "metadata": {},
     "output_type": "execute_result"
    }
   ],
   "source": [
    "translate_client = translate.Client()\n",
    "\n",
    "def translate_text(text, target_language):\n",
    "    result = translate_client.translate(text, target_language=target_language)\n",
    "    return result['translatedText']\n",
    "\n",
    "tweets_final['country'] = tweets_final['country'].apply(lambda x: translate_text(x, 'en') if isinstance(x, str) and len(x) > 0 else x)\n",
    "tweets_final.head()"
   ]
  },
  {
   "attachments": {},
   "cell_type": "markdown",
   "metadata": {},
   "source": [
    "In order to make the country names more accessible to English-speaking individuals, we utilised Google Cloud's Translation API to translate the non-English country names obtained from the previous Nominatim run into English. This translation process was applied specifically to the 'country' column, which allowed us to overwrite the previous values with their English equivalents. By doing so, we were able to ensure that the English version of the country names were readily available for future use."
   ]
  },
  {
   "cell_type": "code",
   "execution_count": 27,
   "metadata": {},
   "outputs": [
    {
     "data": {
      "text/html": [
       "<div>\n",
       "<style scoped>\n",
       "    .dataframe tbody tr th:only-of-type {\n",
       "        vertical-align: middle;\n",
       "    }\n",
       "\n",
       "    .dataframe tbody tr th {\n",
       "        vertical-align: top;\n",
       "    }\n",
       "\n",
       "    .dataframe thead th {\n",
       "        text-align: right;\n",
       "    }\n",
       "</style>\n",
       "<table border=\"1\" class=\"dataframe\">\n",
       "  <thead>\n",
       "    <tr style=\"text-align: right;\">\n",
       "      <th></th>\n",
       "      <th>country</th>\n",
       "      <th>country code</th>\n",
       "      <th>tweet_id</th>\n",
       "      <th>username</th>\n",
       "      <th>full_name</th>\n",
       "      <th>full_text</th>\n",
       "      <th>view_count</th>\n",
       "      <th>bookmark_count</th>\n",
       "      <th>favorite_count</th>\n",
       "      <th>reply_count</th>\n",
       "      <th>...</th>\n",
       "      <th>avatar_url</th>\n",
       "      <th>verified</th>\n",
       "      <th>is_blue_verified</th>\n",
       "      <th>user_created_at</th>\n",
       "      <th>acc_location</th>\n",
       "      <th>lat</th>\n",
       "      <th>lon</th>\n",
       "      <th>geometry</th>\n",
       "      <th>polarity</th>\n",
       "      <th>subjectivity</th>\n",
       "    </tr>\n",
       "  </thead>\n",
       "  <tbody>\n",
       "    <tr>\n",
       "      <th>0</th>\n",
       "      <td>Canada</td>\n",
       "      <td>CAN</td>\n",
       "      <td>1485721188353683457</td>\n",
       "      <td>MartinOmes</td>\n",
       "      <td>Martin Omes</td>\n",
       "      <td>@Moses_FPS And FaceIt as well.\\n\\nInsane.\\n\\nW...</td>\n",
       "      <td>0</td>\n",
       "      <td>0</td>\n",
       "      <td>8</td>\n",
       "      <td>0</td>\n",
       "      <td>...</td>\n",
       "      <td>https://pbs.twimg.com/profile_images/155173424...</td>\n",
       "      <td>False</td>\n",
       "      <td>False</td>\n",
       "      <td>2012-01-25</td>\n",
       "      <td>(Old Toronto, Toronto, Golden Horseshoe, Ontar...</td>\n",
       "      <td>43.653482</td>\n",
       "      <td>-79.383935</td>\n",
       "      <td>POINT (-79.38393 43.65348)</td>\n",
       "      <td>-1.000000</td>\n",
       "      <td>1.000000</td>\n",
       "    </tr>\n",
       "    <tr>\n",
       "      <th>1</th>\n",
       "      <td>Kazakhstan</td>\n",
       "      <td>KAZ</td>\n",
       "      <td>1288746844386992129</td>\n",
       "      <td>hobbit667</td>\n",
       "      <td>Киберкотлет-любитель</td>\n",
       "      <td>@LEC @NEOM LEC got money from LGBTQ+ and now g...</td>\n",
       "      <td>0</td>\n",
       "      <td>0</td>\n",
       "      <td>1</td>\n",
       "      <td>0</td>\n",
       "      <td>...</td>\n",
       "      <td>https://pbs.twimg.com/profile_images/136353379...</td>\n",
       "      <td>False</td>\n",
       "      <td>False</td>\n",
       "      <td>2010-02-16</td>\n",
       "      <td>(Қазақстан, (48.1012954, 66.7780818))</td>\n",
       "      <td>48.101295</td>\n",
       "      <td>66.778082</td>\n",
       "      <td>POINT (66.77808 48.10130)</td>\n",
       "      <td>0.000000</td>\n",
       "      <td>0.300000</td>\n",
       "    </tr>\n",
       "    <tr>\n",
       "      <th>2</th>\n",
       "      <td>Argentina</td>\n",
       "      <td>ARG</td>\n",
       "      <td>1289445298138304513</td>\n",
       "      <td>AlvaroPizarro</td>\n",
       "      <td>Alvaro</td>\n",
       "      <td>If you steal something and then give it back a...</td>\n",
       "      <td>0</td>\n",
       "      <td>0</td>\n",
       "      <td>0</td>\n",
       "      <td>0</td>\n",
       "      <td>...</td>\n",
       "      <td>https://pbs.twimg.com/profile_images/163459595...</td>\n",
       "      <td>False</td>\n",
       "      <td>False</td>\n",
       "      <td>2009-05-15</td>\n",
       "      <td>(Buenos Aires, Comuna 6, Ciudad Autónoma de Bu...</td>\n",
       "      <td>-34.607568</td>\n",
       "      <td>-58.437089</td>\n",
       "      <td>POINT (-58.43709 -34.60757)</td>\n",
       "      <td>-0.250000</td>\n",
       "      <td>0.500000</td>\n",
       "    </tr>\n",
       "    <tr>\n",
       "      <th>3</th>\n",
       "      <td>Norway</td>\n",
       "      <td>NOR</td>\n",
       "      <td>1293456376363089920</td>\n",
       "      <td>abdulelah11cc</td>\n",
       "      <td>Saul not goodMan</td>\n",
       "      <td>@Rex21H @LEC @NEOM We are great people idk why...</td>\n",
       "      <td>0</td>\n",
       "      <td>0</td>\n",
       "      <td>1</td>\n",
       "      <td>0</td>\n",
       "      <td>...</td>\n",
       "      <td>https://pbs.twimg.com/profile_images/151648258...</td>\n",
       "      <td>False</td>\n",
       "      <td>False</td>\n",
       "      <td>2016-12-02</td>\n",
       "      <td>(Norge, (61.1529386, 8.7876653))</td>\n",
       "      <td>61.152939</td>\n",
       "      <td>8.787665</td>\n",
       "      <td>POINT (8.78767 61.15294)</td>\n",
       "      <td>0.800000</td>\n",
       "      <td>0.750000</td>\n",
       "    </tr>\n",
       "    <tr>\n",
       "      <th>4</th>\n",
       "      <td>Colombia</td>\n",
       "      <td>COL</td>\n",
       "      <td>1288613638945660933</td>\n",
       "      <td>Lexandviolets</td>\n",
       "      <td>🖤heathen burger gf🖤</td>\n",
       "      <td>@Tweeb1999 @Fenstick @TehHero117 @LEC @NEOM No...</td>\n",
       "      <td>0</td>\n",
       "      <td>0</td>\n",
       "      <td>2</td>\n",
       "      <td>0</td>\n",
       "      <td>...</td>\n",
       "      <td>https://pbs.twimg.com/profile_images/142953728...</td>\n",
       "      <td>False</td>\n",
       "      <td>False</td>\n",
       "      <td>2017-07-23</td>\n",
       "      <td>(road to nowhere, Urbanización Albania, Comuna...</td>\n",
       "      <td>4.432064</td>\n",
       "      <td>-75.247773</td>\n",
       "      <td>POINT (-75.24777 4.43206)</td>\n",
       "      <td>0.154167</td>\n",
       "      <td>0.541667</td>\n",
       "    </tr>\n",
       "  </tbody>\n",
       "</table>\n",
       "<p>5 rows × 46 columns</p>\n",
       "</div>"
      ],
      "text/plain": [
       "      country country code             tweet_id       username  \\\n",
       "0      Canada          CAN  1485721188353683457     MartinOmes   \n",
       "1  Kazakhstan          KAZ  1288746844386992129      hobbit667   \n",
       "2   Argentina          ARG  1289445298138304513  AlvaroPizarro   \n",
       "3      Norway          NOR  1293456376363089920  abdulelah11cc   \n",
       "4    Colombia          COL  1288613638945660933  Lexandviolets   \n",
       "\n",
       "              full_name                                          full_text  \\\n",
       "0           Martin Omes  @Moses_FPS And FaceIt as well.\\n\\nInsane.\\n\\nW...   \n",
       "1  Киберкотлет-любитель  @LEC @NEOM LEC got money from LGBTQ+ and now g...   \n",
       "2                Alvaro  If you steal something and then give it back a...   \n",
       "3      Saul not goodMan  @Rex21H @LEC @NEOM We are great people idk why...   \n",
       "4   🖤heathen burger gf🖤  @Tweeb1999 @Fenstick @TehHero117 @LEC @NEOM No...   \n",
       "\n",
       "   view_count  bookmark_count  favorite_count  reply_count  ...  \\\n",
       "0           0               0               8            0  ...   \n",
       "1           0               0               1            0  ...   \n",
       "2           0               0               0            0  ...   \n",
       "3           0               0               1            0  ...   \n",
       "4           0               0               2            0  ...   \n",
       "\n",
       "                                          avatar_url  verified  \\\n",
       "0  https://pbs.twimg.com/profile_images/155173424...     False   \n",
       "1  https://pbs.twimg.com/profile_images/136353379...     False   \n",
       "2  https://pbs.twimg.com/profile_images/163459595...     False   \n",
       "3  https://pbs.twimg.com/profile_images/151648258...     False   \n",
       "4  https://pbs.twimg.com/profile_images/142953728...     False   \n",
       "\n",
       "   is_blue_verified user_created_at  \\\n",
       "0             False      2012-01-25   \n",
       "1             False      2010-02-16   \n",
       "2             False      2009-05-15   \n",
       "3             False      2016-12-02   \n",
       "4             False      2017-07-23   \n",
       "\n",
       "                                        acc_location        lat        lon  \\\n",
       "0  (Old Toronto, Toronto, Golden Horseshoe, Ontar...  43.653482 -79.383935   \n",
       "1              (Қазақстан, (48.1012954, 66.7780818))  48.101295  66.778082   \n",
       "2  (Buenos Aires, Comuna 6, Ciudad Autónoma de Bu... -34.607568 -58.437089   \n",
       "3                   (Norge, (61.1529386, 8.7876653))  61.152939   8.787665   \n",
       "4  (road to nowhere, Urbanización Albania, Comuna...   4.432064 -75.247773   \n",
       "\n",
       "                      geometry  polarity  subjectivity  \n",
       "0   POINT (-79.38393 43.65348) -1.000000      1.000000  \n",
       "1    POINT (66.77808 48.10130)  0.000000      0.300000  \n",
       "2  POINT (-58.43709 -34.60757) -0.250000      0.500000  \n",
       "3     POINT (8.78767 61.15294)  0.800000      0.750000  \n",
       "4    POINT (-75.24777 4.43206)  0.154167      0.541667  \n",
       "\n",
       "[5 rows x 46 columns]"
      ]
     },
     "execution_count": 27,
     "metadata": {},
     "output_type": "execute_result"
    }
   ],
   "source": [
    "tweetsmerged=pd.merge(world, tweets_final, on=\"country\")\n",
    "tweetsmerged.head()"
   ]
  },
  {
   "attachments": {},
   "cell_type": "markdown",
   "metadata": {},
   "source": [
    "By extracting the country name of each tweet from the 'location' column using Nominatim, we were able to create a new column with the country name for each tweet, called 'country'. With this information available, we were able to merge our dataset with the 'world' dataset. The 'world' dataset contains information on each country around the world, including their country code, which is what both datasets were merged on. This allowed us to plot our data onto a choropleth map, a type of map that displays data in differerent shades of color on predefined geographical regions. This made it possible to visualise and analyze data like averages, distribution, and other patterns on a global scale."
   ]
  },
  {
   "cell_type": "code",
   "execution_count": 28,
   "metadata": {},
   "outputs": [
    {
     "data": {
      "text/html": [
       "<div>\n",
       "<style scoped>\n",
       "    .dataframe tbody tr th:only-of-type {\n",
       "        vertical-align: middle;\n",
       "    }\n",
       "\n",
       "    .dataframe tbody tr th {\n",
       "        vertical-align: top;\n",
       "    }\n",
       "\n",
       "    .dataframe thead th {\n",
       "        text-align: right;\n",
       "    }\n",
       "</style>\n",
       "<table border=\"1\" class=\"dataframe\">\n",
       "  <thead>\n",
       "    <tr style=\"text-align: right;\">\n",
       "      <th></th>\n",
       "      <th>country</th>\n",
       "      <th>country code</th>\n",
       "      <th>polarity</th>\n",
       "    </tr>\n",
       "  </thead>\n",
       "  <tbody>\n",
       "    <tr>\n",
       "      <th>0</th>\n",
       "      <td>Argentina</td>\n",
       "      <td>ARG</td>\n",
       "      <td>-0.250000</td>\n",
       "    </tr>\n",
       "    <tr>\n",
       "      <th>1</th>\n",
       "      <td>Australia</td>\n",
       "      <td>AUS</td>\n",
       "      <td>-0.112500</td>\n",
       "    </tr>\n",
       "    <tr>\n",
       "      <th>2</th>\n",
       "      <td>Cameroon</td>\n",
       "      <td>CMR</td>\n",
       "      <td>-0.096667</td>\n",
       "    </tr>\n",
       "    <tr>\n",
       "      <th>3</th>\n",
       "      <td>Canada</td>\n",
       "      <td>CAN</td>\n",
       "      <td>-1.000000</td>\n",
       "    </tr>\n",
       "    <tr>\n",
       "      <th>4</th>\n",
       "      <td>Colombia</td>\n",
       "      <td>COL</td>\n",
       "      <td>0.154167</td>\n",
       "    </tr>\n",
       "    <tr>\n",
       "      <th>5</th>\n",
       "      <td>Denmark</td>\n",
       "      <td>DNK</td>\n",
       "      <td>-0.242500</td>\n",
       "    </tr>\n",
       "    <tr>\n",
       "      <th>6</th>\n",
       "      <td>Ecuador</td>\n",
       "      <td>ECU</td>\n",
       "      <td>0.000000</td>\n",
       "    </tr>\n",
       "    <tr>\n",
       "      <th>7</th>\n",
       "      <td>France</td>\n",
       "      <td>FRA</td>\n",
       "      <td>0.000000</td>\n",
       "    </tr>\n",
       "    <tr>\n",
       "      <th>8</th>\n",
       "      <td>Germany</td>\n",
       "      <td>DEU</td>\n",
       "      <td>0.084938</td>\n",
       "    </tr>\n",
       "    <tr>\n",
       "      <th>9</th>\n",
       "      <td>Italy</td>\n",
       "      <td>ITA</td>\n",
       "      <td>0.035435</td>\n",
       "    </tr>\n",
       "    <tr>\n",
       "      <th>10</th>\n",
       "      <td>Kazakhstan</td>\n",
       "      <td>KAZ</td>\n",
       "      <td>0.000000</td>\n",
       "    </tr>\n",
       "    <tr>\n",
       "      <th>11</th>\n",
       "      <td>Norway</td>\n",
       "      <td>NOR</td>\n",
       "      <td>0.800000</td>\n",
       "    </tr>\n",
       "    <tr>\n",
       "      <th>12</th>\n",
       "      <td>Romania</td>\n",
       "      <td>ROU</td>\n",
       "      <td>-0.066667</td>\n",
       "    </tr>\n",
       "    <tr>\n",
       "      <th>13</th>\n",
       "      <td>Ukraine</td>\n",
       "      <td>UKR</td>\n",
       "      <td>0.028788</td>\n",
       "    </tr>\n",
       "    <tr>\n",
       "      <th>14</th>\n",
       "      <td>United Kingdom</td>\n",
       "      <td>GBR</td>\n",
       "      <td>-0.090352</td>\n",
       "    </tr>\n",
       "  </tbody>\n",
       "</table>\n",
       "</div>"
      ],
      "text/plain": [
       "           country country code  polarity\n",
       "0        Argentina          ARG -0.250000\n",
       "1        Australia          AUS -0.112500\n",
       "2         Cameroon          CMR -0.096667\n",
       "3           Canada          CAN -1.000000\n",
       "4         Colombia          COL  0.154167\n",
       "5          Denmark          DNK -0.242500\n",
       "6          Ecuador          ECU  0.000000\n",
       "7           France          FRA  0.000000\n",
       "8          Germany          DEU  0.084938\n",
       "9            Italy          ITA  0.035435\n",
       "10      Kazakhstan          KAZ  0.000000\n",
       "11          Norway          NOR  0.800000\n",
       "12         Romania          ROU -0.066667\n",
       "13         Ukraine          UKR  0.028788\n",
       "14  United Kingdom          GBR -0.090352"
      ]
     },
     "execution_count": 28,
     "metadata": {},
     "output_type": "execute_result"
    }
   ],
   "source": [
    "tweetsmerged['country code'] = tweetsmerged['country code'].astype(str)\n",
    "avg_polarity = tweetsmerged.groupby(['country', 'country code'])['polarity'].mean().reset_index()\n",
    "avg_polarity"
   ]
  },
  {
   "cell_type": "code",
   "execution_count": 29,
   "metadata": {},
   "outputs": [
    {
     "data": {
      "text/html": [
       "<div>\n",
       "<style scoped>\n",
       "    .dataframe tbody tr th:only-of-type {\n",
       "        vertical-align: middle;\n",
       "    }\n",
       "\n",
       "    .dataframe tbody tr th {\n",
       "        vertical-align: top;\n",
       "    }\n",
       "\n",
       "    .dataframe thead th {\n",
       "        text-align: right;\n",
       "    }\n",
       "</style>\n",
       "<table border=\"1\" class=\"dataframe\">\n",
       "  <thead>\n",
       "    <tr style=\"text-align: right;\">\n",
       "      <th></th>\n",
       "      <th>country</th>\n",
       "      <th>country code</th>\n",
       "      <th>subjectivity</th>\n",
       "    </tr>\n",
       "  </thead>\n",
       "  <tbody>\n",
       "    <tr>\n",
       "      <th>0</th>\n",
       "      <td>Argentina</td>\n",
       "      <td>ARG</td>\n",
       "      <td>0.500000</td>\n",
       "    </tr>\n",
       "    <tr>\n",
       "      <th>1</th>\n",
       "      <td>Australia</td>\n",
       "      <td>AUS</td>\n",
       "      <td>0.345833</td>\n",
       "    </tr>\n",
       "    <tr>\n",
       "      <th>2</th>\n",
       "      <td>Cameroon</td>\n",
       "      <td>CMR</td>\n",
       "      <td>0.500000</td>\n",
       "    </tr>\n",
       "    <tr>\n",
       "      <th>3</th>\n",
       "      <td>Canada</td>\n",
       "      <td>CAN</td>\n",
       "      <td>1.000000</td>\n",
       "    </tr>\n",
       "    <tr>\n",
       "      <th>4</th>\n",
       "      <td>Colombia</td>\n",
       "      <td>COL</td>\n",
       "      <td>0.541667</td>\n",
       "    </tr>\n",
       "    <tr>\n",
       "      <th>5</th>\n",
       "      <td>Denmark</td>\n",
       "      <td>DNK</td>\n",
       "      <td>0.792500</td>\n",
       "    </tr>\n",
       "    <tr>\n",
       "      <th>6</th>\n",
       "      <td>Ecuador</td>\n",
       "      <td>ECU</td>\n",
       "      <td>0.000000</td>\n",
       "    </tr>\n",
       "    <tr>\n",
       "      <th>7</th>\n",
       "      <td>France</td>\n",
       "      <td>FRA</td>\n",
       "      <td>0.000000</td>\n",
       "    </tr>\n",
       "    <tr>\n",
       "      <th>8</th>\n",
       "      <td>Germany</td>\n",
       "      <td>DEU</td>\n",
       "      <td>0.393975</td>\n",
       "    </tr>\n",
       "    <tr>\n",
       "      <th>9</th>\n",
       "      <td>Italy</td>\n",
       "      <td>ITA</td>\n",
       "      <td>0.351705</td>\n",
       "    </tr>\n",
       "    <tr>\n",
       "      <th>10</th>\n",
       "      <td>Kazakhstan</td>\n",
       "      <td>KAZ</td>\n",
       "      <td>0.300000</td>\n",
       "    </tr>\n",
       "    <tr>\n",
       "      <th>11</th>\n",
       "      <td>Norway</td>\n",
       "      <td>NOR</td>\n",
       "      <td>0.750000</td>\n",
       "    </tr>\n",
       "    <tr>\n",
       "      <th>12</th>\n",
       "      <td>Romania</td>\n",
       "      <td>ROU</td>\n",
       "      <td>0.533333</td>\n",
       "    </tr>\n",
       "    <tr>\n",
       "      <th>13</th>\n",
       "      <td>Ukraine</td>\n",
       "      <td>UKR</td>\n",
       "      <td>0.501515</td>\n",
       "    </tr>\n",
       "    <tr>\n",
       "      <th>14</th>\n",
       "      <td>United Kingdom</td>\n",
       "      <td>GBR</td>\n",
       "      <td>0.453671</td>\n",
       "    </tr>\n",
       "  </tbody>\n",
       "</table>\n",
       "</div>"
      ],
      "text/plain": [
       "           country country code  subjectivity\n",
       "0        Argentina          ARG      0.500000\n",
       "1        Australia          AUS      0.345833\n",
       "2         Cameroon          CMR      0.500000\n",
       "3           Canada          CAN      1.000000\n",
       "4         Colombia          COL      0.541667\n",
       "5          Denmark          DNK      0.792500\n",
       "6          Ecuador          ECU      0.000000\n",
       "7           France          FRA      0.000000\n",
       "8          Germany          DEU      0.393975\n",
       "9            Italy          ITA      0.351705\n",
       "10      Kazakhstan          KAZ      0.300000\n",
       "11          Norway          NOR      0.750000\n",
       "12         Romania          ROU      0.533333\n",
       "13         Ukraine          UKR      0.501515\n",
       "14  United Kingdom          GBR      0.453671"
      ]
     },
     "execution_count": 29,
     "metadata": {},
     "output_type": "execute_result"
    }
   ],
   "source": [
    "tweetsmerged['country code'] = tweetsmerged['country code'].astype(str)\n",
    "avg_subjectivity = tweetsmerged.groupby(['country', 'country code'])['subjectivity'].mean().reset_index()\n",
    "avg_subjectivity"
   ]
  },
  {
   "attachments": {},
   "cell_type": "markdown",
   "metadata": {},
   "source": [
    "Having merged the data from the 'world' and 'tweets_final' datasets to create 'tweetsmerged', we could use the polarity and subjectivity data we obtained through TextBlob sentiment analysis, to calculate the mean polarity and subjectivity for each country. This calculated data can then be plotted on a choropleth map, which is achieved by leveraging the country code information in our dataset. By providing Plotly with the country code data, we can indicate where on the choropleth map the polarity or subjectivity data is plotted.\n",
    "\n",
    "Plotting the mean polarity and subjectivity for each country can provide valuable insights into the overall sentiment of Twitter users in different regions of the world. By aggregating sentiment data on a country level, we can identify patterns and trends in public opinion that may be relevant to executives, tournament officials, and other organisations operating in those regions. For example, positive sentiment towards a certain topic or product in a particular country could indicate a potential market opportunity. Similarly, negative sentiment towards a particular issue could signal a need for further investigation or action. Additionally, mapping sentiment data can help visualize the distribution of sentiment across different regions, allowing for easier comparison and analysis.\n",
    "\n",
    "Overall, plotting the mean polarity and subjectivity for each country can provide a useful tool for understanding and interpreting public sentiment towards the LEC/NEOM sponsorship on a global scale, enabling decision-makers to take appropriate actions based on the insights gained."
   ]
  },
  {
   "cell_type": "code",
   "execution_count": 30,
   "metadata": {},
   "outputs": [
    {
     "data": {
      "application/vnd.plotly.v1+json": {
       "config": {
        "plotlyServerURL": "https://plot.ly"
       },
       "data": [
        {
         "colorbar": {
          "orientation": "h",
          "title": {
           "text": "Polarity"
          }
         },
         "colorscale": [
          [
           0,
           "rgb(243, 231, 155)"
          ],
          [
           0.16666666666666666,
           "rgb(250, 196, 132)"
          ],
          [
           0.3333333333333333,
           "rgb(248, 160, 126)"
          ],
          [
           0.5,
           "rgb(235, 127, 134)"
          ],
          [
           0.6666666666666666,
           "rgb(206, 102, 147)"
          ],
          [
           0.8333333333333334,
           "rgb(160, 89, 160)"
          ],
          [
           1,
           "rgb(92, 83, 165)"
          ]
         ],
         "hovertemplate": [
          "<b>Country:</b> Argentina<br><b>Country Code:</b> ARG<br><b>Polarity:</b> %{z:.3f}<extra></extra>",
          "<b>Country:</b> Australia<br><b>Country Code:</b> AUS<br><b>Polarity:</b> %{z:.3f}<extra></extra>",
          "<b>Country:</b> Cameroon<br><b>Country Code:</b> CMR<br><b>Polarity:</b> %{z:.3f}<extra></extra>",
          "<b>Country:</b> Canada<br><b>Country Code:</b> CAN<br><b>Polarity:</b> %{z:.3f}<extra></extra>",
          "<b>Country:</b> Colombia<br><b>Country Code:</b> COL<br><b>Polarity:</b> %{z:.3f}<extra></extra>",
          "<b>Country:</b> Denmark<br><b>Country Code:</b> DNK<br><b>Polarity:</b> %{z:.3f}<extra></extra>",
          "<b>Country:</b> Ecuador<br><b>Country Code:</b> ECU<br><b>Polarity:</b> %{z:.3f}<extra></extra>",
          "<b>Country:</b> France<br><b>Country Code:</b> FRA<br><b>Polarity:</b> %{z:.3f}<extra></extra>",
          "<b>Country:</b> Germany<br><b>Country Code:</b> DEU<br><b>Polarity:</b> %{z:.3f}<extra></extra>",
          "<b>Country:</b> Italy<br><b>Country Code:</b> ITA<br><b>Polarity:</b> %{z:.3f}<extra></extra>",
          "<b>Country:</b> Kazakhstan<br><b>Country Code:</b> KAZ<br><b>Polarity:</b> %{z:.3f}<extra></extra>",
          "<b>Country:</b> Norway<br><b>Country Code:</b> NOR<br><b>Polarity:</b> %{z:.3f}<extra></extra>",
          "<b>Country:</b> Romania<br><b>Country Code:</b> ROU<br><b>Polarity:</b> %{z:.3f}<extra></extra>",
          "<b>Country:</b> Ukraine<br><b>Country Code:</b> UKR<br><b>Polarity:</b> %{z:.3f}<extra></extra>",
          "<b>Country:</b> United Kingdom<br><b>Country Code:</b> GBR<br><b>Polarity:</b> %{z:.3f}<extra></extra>"
         ],
         "locations": [
          "ARG",
          "AUS",
          "CMR",
          "CAN",
          "COL",
          "DNK",
          "ECU",
          "FRA",
          "DEU",
          "ITA",
          "KAZ",
          "NOR",
          "ROU",
          "UKR",
          "GBR"
         ],
         "marker": {
          "line": {
           "color": "gray",
           "width": 0.2
          }
         },
         "type": "choropleth",
         "z": [
          -0.25,
          -0.1125,
          -0.09666666666666665,
          -1,
          0.15416666666666667,
          -0.2425,
          0,
          0,
          0.08493815708101424,
          0.03543498168498169,
          0,
          0.8,
          -0.0666666666666667,
          0.02878787878787879,
          -0.09035218253968254
         ]
        }
       ],
       "layout": {
        "geo": {
         "showcoastlines": false,
         "showframe": false
        },
        "template": {
         "data": {
          "bar": [
           {
            "error_x": {
             "color": "#2a3f5f"
            },
            "error_y": {
             "color": "#2a3f5f"
            },
            "marker": {
             "line": {
              "color": "#E5ECF6",
              "width": 0.5
             },
             "pattern": {
              "fillmode": "overlay",
              "size": 10,
              "solidity": 0.2
             }
            },
            "type": "bar"
           }
          ],
          "barpolar": [
           {
            "marker": {
             "line": {
              "color": "#E5ECF6",
              "width": 0.5
             },
             "pattern": {
              "fillmode": "overlay",
              "size": 10,
              "solidity": 0.2
             }
            },
            "type": "barpolar"
           }
          ],
          "carpet": [
           {
            "aaxis": {
             "endlinecolor": "#2a3f5f",
             "gridcolor": "white",
             "linecolor": "white",
             "minorgridcolor": "white",
             "startlinecolor": "#2a3f5f"
            },
            "baxis": {
             "endlinecolor": "#2a3f5f",
             "gridcolor": "white",
             "linecolor": "white",
             "minorgridcolor": "white",
             "startlinecolor": "#2a3f5f"
            },
            "type": "carpet"
           }
          ],
          "choropleth": [
           {
            "colorbar": {
             "outlinewidth": 0,
             "ticks": ""
            },
            "type": "choropleth"
           }
          ],
          "contour": [
           {
            "colorbar": {
             "outlinewidth": 0,
             "ticks": ""
            },
            "colorscale": [
             [
              0,
              "#0d0887"
             ],
             [
              0.1111111111111111,
              "#46039f"
             ],
             [
              0.2222222222222222,
              "#7201a8"
             ],
             [
              0.3333333333333333,
              "#9c179e"
             ],
             [
              0.4444444444444444,
              "#bd3786"
             ],
             [
              0.5555555555555556,
              "#d8576b"
             ],
             [
              0.6666666666666666,
              "#ed7953"
             ],
             [
              0.7777777777777778,
              "#fb9f3a"
             ],
             [
              0.8888888888888888,
              "#fdca26"
             ],
             [
              1,
              "#f0f921"
             ]
            ],
            "type": "contour"
           }
          ],
          "contourcarpet": [
           {
            "colorbar": {
             "outlinewidth": 0,
             "ticks": ""
            },
            "type": "contourcarpet"
           }
          ],
          "heatmap": [
           {
            "colorbar": {
             "outlinewidth": 0,
             "ticks": ""
            },
            "colorscale": [
             [
              0,
              "#0d0887"
             ],
             [
              0.1111111111111111,
              "#46039f"
             ],
             [
              0.2222222222222222,
              "#7201a8"
             ],
             [
              0.3333333333333333,
              "#9c179e"
             ],
             [
              0.4444444444444444,
              "#bd3786"
             ],
             [
              0.5555555555555556,
              "#d8576b"
             ],
             [
              0.6666666666666666,
              "#ed7953"
             ],
             [
              0.7777777777777778,
              "#fb9f3a"
             ],
             [
              0.8888888888888888,
              "#fdca26"
             ],
             [
              1,
              "#f0f921"
             ]
            ],
            "type": "heatmap"
           }
          ],
          "heatmapgl": [
           {
            "colorbar": {
             "outlinewidth": 0,
             "ticks": ""
            },
            "colorscale": [
             [
              0,
              "#0d0887"
             ],
             [
              0.1111111111111111,
              "#46039f"
             ],
             [
              0.2222222222222222,
              "#7201a8"
             ],
             [
              0.3333333333333333,
              "#9c179e"
             ],
             [
              0.4444444444444444,
              "#bd3786"
             ],
             [
              0.5555555555555556,
              "#d8576b"
             ],
             [
              0.6666666666666666,
              "#ed7953"
             ],
             [
              0.7777777777777778,
              "#fb9f3a"
             ],
             [
              0.8888888888888888,
              "#fdca26"
             ],
             [
              1,
              "#f0f921"
             ]
            ],
            "type": "heatmapgl"
           }
          ],
          "histogram": [
           {
            "marker": {
             "pattern": {
              "fillmode": "overlay",
              "size": 10,
              "solidity": 0.2
             }
            },
            "type": "histogram"
           }
          ],
          "histogram2d": [
           {
            "colorbar": {
             "outlinewidth": 0,
             "ticks": ""
            },
            "colorscale": [
             [
              0,
              "#0d0887"
             ],
             [
              0.1111111111111111,
              "#46039f"
             ],
             [
              0.2222222222222222,
              "#7201a8"
             ],
             [
              0.3333333333333333,
              "#9c179e"
             ],
             [
              0.4444444444444444,
              "#bd3786"
             ],
             [
              0.5555555555555556,
              "#d8576b"
             ],
             [
              0.6666666666666666,
              "#ed7953"
             ],
             [
              0.7777777777777778,
              "#fb9f3a"
             ],
             [
              0.8888888888888888,
              "#fdca26"
             ],
             [
              1,
              "#f0f921"
             ]
            ],
            "type": "histogram2d"
           }
          ],
          "histogram2dcontour": [
           {
            "colorbar": {
             "outlinewidth": 0,
             "ticks": ""
            },
            "colorscale": [
             [
              0,
              "#0d0887"
             ],
             [
              0.1111111111111111,
              "#46039f"
             ],
             [
              0.2222222222222222,
              "#7201a8"
             ],
             [
              0.3333333333333333,
              "#9c179e"
             ],
             [
              0.4444444444444444,
              "#bd3786"
             ],
             [
              0.5555555555555556,
              "#d8576b"
             ],
             [
              0.6666666666666666,
              "#ed7953"
             ],
             [
              0.7777777777777778,
              "#fb9f3a"
             ],
             [
              0.8888888888888888,
              "#fdca26"
             ],
             [
              1,
              "#f0f921"
             ]
            ],
            "type": "histogram2dcontour"
           }
          ],
          "mesh3d": [
           {
            "colorbar": {
             "outlinewidth": 0,
             "ticks": ""
            },
            "type": "mesh3d"
           }
          ],
          "parcoords": [
           {
            "line": {
             "colorbar": {
              "outlinewidth": 0,
              "ticks": ""
             }
            },
            "type": "parcoords"
           }
          ],
          "pie": [
           {
            "automargin": true,
            "type": "pie"
           }
          ],
          "scatter": [
           {
            "fillpattern": {
             "fillmode": "overlay",
             "size": 10,
             "solidity": 0.2
            },
            "type": "scatter"
           }
          ],
          "scatter3d": [
           {
            "line": {
             "colorbar": {
              "outlinewidth": 0,
              "ticks": ""
             }
            },
            "marker": {
             "colorbar": {
              "outlinewidth": 0,
              "ticks": ""
             }
            },
            "type": "scatter3d"
           }
          ],
          "scattercarpet": [
           {
            "marker": {
             "colorbar": {
              "outlinewidth": 0,
              "ticks": ""
             }
            },
            "type": "scattercarpet"
           }
          ],
          "scattergeo": [
           {
            "marker": {
             "colorbar": {
              "outlinewidth": 0,
              "ticks": ""
             }
            },
            "type": "scattergeo"
           }
          ],
          "scattergl": [
           {
            "marker": {
             "colorbar": {
              "outlinewidth": 0,
              "ticks": ""
             }
            },
            "type": "scattergl"
           }
          ],
          "scattermapbox": [
           {
            "marker": {
             "colorbar": {
              "outlinewidth": 0,
              "ticks": ""
             }
            },
            "type": "scattermapbox"
           }
          ],
          "scatterpolar": [
           {
            "marker": {
             "colorbar": {
              "outlinewidth": 0,
              "ticks": ""
             }
            },
            "type": "scatterpolar"
           }
          ],
          "scatterpolargl": [
           {
            "marker": {
             "colorbar": {
              "outlinewidth": 0,
              "ticks": ""
             }
            },
            "type": "scatterpolargl"
           }
          ],
          "scatterternary": [
           {
            "marker": {
             "colorbar": {
              "outlinewidth": 0,
              "ticks": ""
             }
            },
            "type": "scatterternary"
           }
          ],
          "surface": [
           {
            "colorbar": {
             "outlinewidth": 0,
             "ticks": ""
            },
            "colorscale": [
             [
              0,
              "#0d0887"
             ],
             [
              0.1111111111111111,
              "#46039f"
             ],
             [
              0.2222222222222222,
              "#7201a8"
             ],
             [
              0.3333333333333333,
              "#9c179e"
             ],
             [
              0.4444444444444444,
              "#bd3786"
             ],
             [
              0.5555555555555556,
              "#d8576b"
             ],
             [
              0.6666666666666666,
              "#ed7953"
             ],
             [
              0.7777777777777778,
              "#fb9f3a"
             ],
             [
              0.8888888888888888,
              "#fdca26"
             ],
             [
              1,
              "#f0f921"
             ]
            ],
            "type": "surface"
           }
          ],
          "table": [
           {
            "cells": {
             "fill": {
              "color": "#EBF0F8"
             },
             "line": {
              "color": "white"
             }
            },
            "header": {
             "fill": {
              "color": "#C8D4E3"
             },
             "line": {
              "color": "white"
             }
            },
            "type": "table"
           }
          ]
         },
         "layout": {
          "annotationdefaults": {
           "arrowcolor": "#2a3f5f",
           "arrowhead": 0,
           "arrowwidth": 1
          },
          "autotypenumbers": "strict",
          "coloraxis": {
           "colorbar": {
            "outlinewidth": 0,
            "ticks": ""
           }
          },
          "colorscale": {
           "diverging": [
            [
             0,
             "#8e0152"
            ],
            [
             0.1,
             "#c51b7d"
            ],
            [
             0.2,
             "#de77ae"
            ],
            [
             0.3,
             "#f1b6da"
            ],
            [
             0.4,
             "#fde0ef"
            ],
            [
             0.5,
             "#f7f7f7"
            ],
            [
             0.6,
             "#e6f5d0"
            ],
            [
             0.7,
             "#b8e186"
            ],
            [
             0.8,
             "#7fbc41"
            ],
            [
             0.9,
             "#4d9221"
            ],
            [
             1,
             "#276419"
            ]
           ],
           "sequential": [
            [
             0,
             "#0d0887"
            ],
            [
             0.1111111111111111,
             "#46039f"
            ],
            [
             0.2222222222222222,
             "#7201a8"
            ],
            [
             0.3333333333333333,
             "#9c179e"
            ],
            [
             0.4444444444444444,
             "#bd3786"
            ],
            [
             0.5555555555555556,
             "#d8576b"
            ],
            [
             0.6666666666666666,
             "#ed7953"
            ],
            [
             0.7777777777777778,
             "#fb9f3a"
            ],
            [
             0.8888888888888888,
             "#fdca26"
            ],
            [
             1,
             "#f0f921"
            ]
           ],
           "sequentialminus": [
            [
             0,
             "#0d0887"
            ],
            [
             0.1111111111111111,
             "#46039f"
            ],
            [
             0.2222222222222222,
             "#7201a8"
            ],
            [
             0.3333333333333333,
             "#9c179e"
            ],
            [
             0.4444444444444444,
             "#bd3786"
            ],
            [
             0.5555555555555556,
             "#d8576b"
            ],
            [
             0.6666666666666666,
             "#ed7953"
            ],
            [
             0.7777777777777778,
             "#fb9f3a"
            ],
            [
             0.8888888888888888,
             "#fdca26"
            ],
            [
             1,
             "#f0f921"
            ]
           ]
          },
          "colorway": [
           "#636efa",
           "#EF553B",
           "#00cc96",
           "#ab63fa",
           "#FFA15A",
           "#19d3f3",
           "#FF6692",
           "#B6E880",
           "#FF97FF",
           "#FECB52"
          ],
          "font": {
           "color": "#2a3f5f"
          },
          "geo": {
           "bgcolor": "white",
           "lakecolor": "white",
           "landcolor": "#E5ECF6",
           "showlakes": true,
           "showland": true,
           "subunitcolor": "white"
          },
          "hoverlabel": {
           "align": "left"
          },
          "hovermode": "closest",
          "mapbox": {
           "style": "light"
          },
          "paper_bgcolor": "white",
          "plot_bgcolor": "#E5ECF6",
          "polar": {
           "angularaxis": {
            "gridcolor": "white",
            "linecolor": "white",
            "ticks": ""
           },
           "bgcolor": "#E5ECF6",
           "radialaxis": {
            "gridcolor": "white",
            "linecolor": "white",
            "ticks": ""
           }
          },
          "scene": {
           "xaxis": {
            "backgroundcolor": "#E5ECF6",
            "gridcolor": "white",
            "gridwidth": 2,
            "linecolor": "white",
            "showbackground": true,
            "ticks": "",
            "zerolinecolor": "white"
           },
           "yaxis": {
            "backgroundcolor": "#E5ECF6",
            "gridcolor": "white",
            "gridwidth": 2,
            "linecolor": "white",
            "showbackground": true,
            "ticks": "",
            "zerolinecolor": "white"
           },
           "zaxis": {
            "backgroundcolor": "#E5ECF6",
            "gridcolor": "white",
            "gridwidth": 2,
            "linecolor": "white",
            "showbackground": true,
            "ticks": "",
            "zerolinecolor": "white"
           }
          },
          "shapedefaults": {
           "line": {
            "color": "#2a3f5f"
           }
          },
          "ternary": {
           "aaxis": {
            "gridcolor": "white",
            "linecolor": "white",
            "ticks": ""
           },
           "baxis": {
            "gridcolor": "white",
            "linecolor": "white",
            "ticks": ""
           },
           "bgcolor": "#E5ECF6",
           "caxis": {
            "gridcolor": "white",
            "linecolor": "white",
            "ticks": ""
           }
          },
          "title": {
           "x": 0.05
          },
          "xaxis": {
           "automargin": true,
           "gridcolor": "white",
           "linecolor": "white",
           "ticks": "",
           "title": {
            "standoff": 15
           },
           "zerolinecolor": "white",
           "zerolinewidth": 2
          },
          "yaxis": {
           "automargin": true,
           "gridcolor": "white",
           "linecolor": "white",
           "ticks": "",
           "title": {
            "standoff": 15
           },
           "zerolinecolor": "white",
           "zerolinewidth": 2
          }
         }
        },
        "title": {
         "text": "Polarity of LEC/NEOM-related Tweets by Country"
        },
        "width": 900
       }
      }
     },
     "metadata": {},
     "output_type": "display_data"
    }
   ],
   "source": [
    "# Create text hover template\n",
    "avgpolhover = ('<b>Country:</b> ' + avg_polarity['country'].astype(str) + '<br>' +\n",
    "               '<b>Country Code:</b> ' + avg_polarity['country code'].astype(str) + '<br>' +\n",
    "               '<b>Polarity:</b> ' + '%{z:.3f}' + '<extra></extra>'\n",
    ")\n",
    "\n",
    "# Create a Choropleth figure with data for Polarity of LEC/NEOM-related Tweets by Country\n",
    "avgpolmap = go.Figure(go.Choropleth(locations = avg_polarity['country code'],\n",
    "                                    z = avg_polarity['polarity'],\n",
    "                                    hovertemplate = avgpolhover,\n",
    "                                    colorscale = 'sunset',\n",
    "                                    marker_line_color='gray',\n",
    "                                    marker_line_width=0.2,\n",
    "                                    colorbar_title = 'Polarity',\n",
    "                                    colorbar=dict(orientation='h'))\n",
    ")\n",
    "\n",
    "# Set the layout of the Choropleth figure, including the title, the plot width and the map attributes\n",
    "avgpolmap.update_layout(title_text='Polarity of LEC/NEOM-related Tweets by Country',\n",
    "                        width=900,\n",
    "                        geo=dict(showframe=False,\n",
    "                                 showcoastlines=False)\n",
    ")\n",
    "\n",
    "# Show the Choropleth figure\n",
    "avgpolmap.show()"
   ]
  },
  {
   "attachments": {},
   "cell_type": "markdown",
   "metadata": {},
   "source": [
    "With the average polarity data per country we calculated earlier, we can create a choropleth map that visualizes the overall sentiment of Twitter users towards the LEC/NEOM sponsorship across different regions of the world. By leveraging the country code information in our dataset, we can plot the polarity data on the map and color each country based on its polarity score using a 'sunset' color scale. This color scale ranges from yellow to purple, representing positivity and negativity respectively. The choropleth map provides an easy-to-understand visualization of the distribution of sentiment across different regions and can help identify countries with particularly strong positive or negative sentiment towards the LEC/NEOM sponsorship. This can be valuable for executives, tournament officials, and other organisations seeking to understand public opinion and tailor their strategies accordingly."
   ]
  },
  {
   "cell_type": "code",
   "execution_count": 31,
   "metadata": {},
   "outputs": [
    {
     "data": {
      "application/vnd.plotly.v1+json": {
       "config": {
        "plotlyServerURL": "https://plot.ly"
       },
       "data": [
        {
         "colorbar": {
          "orientation": "h",
          "title": {
           "text": "Subjectivity"
          }
         },
         "colorscale": [
          [
           0,
           "rgb(243, 231, 155)"
          ],
          [
           0.16666666666666666,
           "rgb(250, 196, 132)"
          ],
          [
           0.3333333333333333,
           "rgb(248, 160, 126)"
          ],
          [
           0.5,
           "rgb(235, 127, 134)"
          ],
          [
           0.6666666666666666,
           "rgb(206, 102, 147)"
          ],
          [
           0.8333333333333334,
           "rgb(160, 89, 160)"
          ],
          [
           1,
           "rgb(92, 83, 165)"
          ]
         ],
         "hovertemplate": [
          "<b>Country:</b> Argentina<br><b>Country Code:</b> ARG<br><b>Subjectivity:</b> %{z:.3f}<extra></extra>",
          "<b>Country:</b> Australia<br><b>Country Code:</b> AUS<br><b>Subjectivity:</b> %{z:.3f}<extra></extra>",
          "<b>Country:</b> Cameroon<br><b>Country Code:</b> CMR<br><b>Subjectivity:</b> %{z:.3f}<extra></extra>",
          "<b>Country:</b> Canada<br><b>Country Code:</b> CAN<br><b>Subjectivity:</b> %{z:.3f}<extra></extra>",
          "<b>Country:</b> Colombia<br><b>Country Code:</b> COL<br><b>Subjectivity:</b> %{z:.3f}<extra></extra>",
          "<b>Country:</b> Denmark<br><b>Country Code:</b> DNK<br><b>Subjectivity:</b> %{z:.3f}<extra></extra>",
          "<b>Country:</b> Ecuador<br><b>Country Code:</b> ECU<br><b>Subjectivity:</b> %{z:.3f}<extra></extra>",
          "<b>Country:</b> France<br><b>Country Code:</b> FRA<br><b>Subjectivity:</b> %{z:.3f}<extra></extra>",
          "<b>Country:</b> Germany<br><b>Country Code:</b> DEU<br><b>Subjectivity:</b> %{z:.3f}<extra></extra>",
          "<b>Country:</b> Italy<br><b>Country Code:</b> ITA<br><b>Subjectivity:</b> %{z:.3f}<extra></extra>",
          "<b>Country:</b> Kazakhstan<br><b>Country Code:</b> KAZ<br><b>Subjectivity:</b> %{z:.3f}<extra></extra>",
          "<b>Country:</b> Norway<br><b>Country Code:</b> NOR<br><b>Subjectivity:</b> %{z:.3f}<extra></extra>",
          "<b>Country:</b> Romania<br><b>Country Code:</b> ROU<br><b>Subjectivity:</b> %{z:.3f}<extra></extra>",
          "<b>Country:</b> Ukraine<br><b>Country Code:</b> UKR<br><b>Subjectivity:</b> %{z:.3f}<extra></extra>",
          "<b>Country:</b> United Kingdom<br><b>Country Code:</b> GBR<br><b>Subjectivity:</b> %{z:.3f}<extra></extra>"
         ],
         "locations": [
          "ARG",
          "AUS",
          "CMR",
          "CAN",
          "COL",
          "DNK",
          "ECU",
          "FRA",
          "DEU",
          "ITA",
          "KAZ",
          "NOR",
          "ROU",
          "UKR",
          "GBR"
         ],
         "marker": {
          "line": {
           "color": "gray",
           "width": 0.2
          }
         },
         "type": "choropleth",
         "z": [
          0.5,
          0.3458333333333334,
          0.5,
          1,
          0.5416666666666667,
          0.7925,
          0,
          0,
          0.39397469593898166,
          0.35170482295482297,
          0.3,
          0.75,
          0.5333333333333333,
          0.5015151515151516,
          0.4536706349206349
         ]
        }
       ],
       "layout": {
        "geo": {
         "showcoastlines": false,
         "showframe": false
        },
        "template": {
         "data": {
          "bar": [
           {
            "error_x": {
             "color": "#2a3f5f"
            },
            "error_y": {
             "color": "#2a3f5f"
            },
            "marker": {
             "line": {
              "color": "#E5ECF6",
              "width": 0.5
             },
             "pattern": {
              "fillmode": "overlay",
              "size": 10,
              "solidity": 0.2
             }
            },
            "type": "bar"
           }
          ],
          "barpolar": [
           {
            "marker": {
             "line": {
              "color": "#E5ECF6",
              "width": 0.5
             },
             "pattern": {
              "fillmode": "overlay",
              "size": 10,
              "solidity": 0.2
             }
            },
            "type": "barpolar"
           }
          ],
          "carpet": [
           {
            "aaxis": {
             "endlinecolor": "#2a3f5f",
             "gridcolor": "white",
             "linecolor": "white",
             "minorgridcolor": "white",
             "startlinecolor": "#2a3f5f"
            },
            "baxis": {
             "endlinecolor": "#2a3f5f",
             "gridcolor": "white",
             "linecolor": "white",
             "minorgridcolor": "white",
             "startlinecolor": "#2a3f5f"
            },
            "type": "carpet"
           }
          ],
          "choropleth": [
           {
            "colorbar": {
             "outlinewidth": 0,
             "ticks": ""
            },
            "type": "choropleth"
           }
          ],
          "contour": [
           {
            "colorbar": {
             "outlinewidth": 0,
             "ticks": ""
            },
            "colorscale": [
             [
              0,
              "#0d0887"
             ],
             [
              0.1111111111111111,
              "#46039f"
             ],
             [
              0.2222222222222222,
              "#7201a8"
             ],
             [
              0.3333333333333333,
              "#9c179e"
             ],
             [
              0.4444444444444444,
              "#bd3786"
             ],
             [
              0.5555555555555556,
              "#d8576b"
             ],
             [
              0.6666666666666666,
              "#ed7953"
             ],
             [
              0.7777777777777778,
              "#fb9f3a"
             ],
             [
              0.8888888888888888,
              "#fdca26"
             ],
             [
              1,
              "#f0f921"
             ]
            ],
            "type": "contour"
           }
          ],
          "contourcarpet": [
           {
            "colorbar": {
             "outlinewidth": 0,
             "ticks": ""
            },
            "type": "contourcarpet"
           }
          ],
          "heatmap": [
           {
            "colorbar": {
             "outlinewidth": 0,
             "ticks": ""
            },
            "colorscale": [
             [
              0,
              "#0d0887"
             ],
             [
              0.1111111111111111,
              "#46039f"
             ],
             [
              0.2222222222222222,
              "#7201a8"
             ],
             [
              0.3333333333333333,
              "#9c179e"
             ],
             [
              0.4444444444444444,
              "#bd3786"
             ],
             [
              0.5555555555555556,
              "#d8576b"
             ],
             [
              0.6666666666666666,
              "#ed7953"
             ],
             [
              0.7777777777777778,
              "#fb9f3a"
             ],
             [
              0.8888888888888888,
              "#fdca26"
             ],
             [
              1,
              "#f0f921"
             ]
            ],
            "type": "heatmap"
           }
          ],
          "heatmapgl": [
           {
            "colorbar": {
             "outlinewidth": 0,
             "ticks": ""
            },
            "colorscale": [
             [
              0,
              "#0d0887"
             ],
             [
              0.1111111111111111,
              "#46039f"
             ],
             [
              0.2222222222222222,
              "#7201a8"
             ],
             [
              0.3333333333333333,
              "#9c179e"
             ],
             [
              0.4444444444444444,
              "#bd3786"
             ],
             [
              0.5555555555555556,
              "#d8576b"
             ],
             [
              0.6666666666666666,
              "#ed7953"
             ],
             [
              0.7777777777777778,
              "#fb9f3a"
             ],
             [
              0.8888888888888888,
              "#fdca26"
             ],
             [
              1,
              "#f0f921"
             ]
            ],
            "type": "heatmapgl"
           }
          ],
          "histogram": [
           {
            "marker": {
             "pattern": {
              "fillmode": "overlay",
              "size": 10,
              "solidity": 0.2
             }
            },
            "type": "histogram"
           }
          ],
          "histogram2d": [
           {
            "colorbar": {
             "outlinewidth": 0,
             "ticks": ""
            },
            "colorscale": [
             [
              0,
              "#0d0887"
             ],
             [
              0.1111111111111111,
              "#46039f"
             ],
             [
              0.2222222222222222,
              "#7201a8"
             ],
             [
              0.3333333333333333,
              "#9c179e"
             ],
             [
              0.4444444444444444,
              "#bd3786"
             ],
             [
              0.5555555555555556,
              "#d8576b"
             ],
             [
              0.6666666666666666,
              "#ed7953"
             ],
             [
              0.7777777777777778,
              "#fb9f3a"
             ],
             [
              0.8888888888888888,
              "#fdca26"
             ],
             [
              1,
              "#f0f921"
             ]
            ],
            "type": "histogram2d"
           }
          ],
          "histogram2dcontour": [
           {
            "colorbar": {
             "outlinewidth": 0,
             "ticks": ""
            },
            "colorscale": [
             [
              0,
              "#0d0887"
             ],
             [
              0.1111111111111111,
              "#46039f"
             ],
             [
              0.2222222222222222,
              "#7201a8"
             ],
             [
              0.3333333333333333,
              "#9c179e"
             ],
             [
              0.4444444444444444,
              "#bd3786"
             ],
             [
              0.5555555555555556,
              "#d8576b"
             ],
             [
              0.6666666666666666,
              "#ed7953"
             ],
             [
              0.7777777777777778,
              "#fb9f3a"
             ],
             [
              0.8888888888888888,
              "#fdca26"
             ],
             [
              1,
              "#f0f921"
             ]
            ],
            "type": "histogram2dcontour"
           }
          ],
          "mesh3d": [
           {
            "colorbar": {
             "outlinewidth": 0,
             "ticks": ""
            },
            "type": "mesh3d"
           }
          ],
          "parcoords": [
           {
            "line": {
             "colorbar": {
              "outlinewidth": 0,
              "ticks": ""
             }
            },
            "type": "parcoords"
           }
          ],
          "pie": [
           {
            "automargin": true,
            "type": "pie"
           }
          ],
          "scatter": [
           {
            "fillpattern": {
             "fillmode": "overlay",
             "size": 10,
             "solidity": 0.2
            },
            "type": "scatter"
           }
          ],
          "scatter3d": [
           {
            "line": {
             "colorbar": {
              "outlinewidth": 0,
              "ticks": ""
             }
            },
            "marker": {
             "colorbar": {
              "outlinewidth": 0,
              "ticks": ""
             }
            },
            "type": "scatter3d"
           }
          ],
          "scattercarpet": [
           {
            "marker": {
             "colorbar": {
              "outlinewidth": 0,
              "ticks": ""
             }
            },
            "type": "scattercarpet"
           }
          ],
          "scattergeo": [
           {
            "marker": {
             "colorbar": {
              "outlinewidth": 0,
              "ticks": ""
             }
            },
            "type": "scattergeo"
           }
          ],
          "scattergl": [
           {
            "marker": {
             "colorbar": {
              "outlinewidth": 0,
              "ticks": ""
             }
            },
            "type": "scattergl"
           }
          ],
          "scattermapbox": [
           {
            "marker": {
             "colorbar": {
              "outlinewidth": 0,
              "ticks": ""
             }
            },
            "type": "scattermapbox"
           }
          ],
          "scatterpolar": [
           {
            "marker": {
             "colorbar": {
              "outlinewidth": 0,
              "ticks": ""
             }
            },
            "type": "scatterpolar"
           }
          ],
          "scatterpolargl": [
           {
            "marker": {
             "colorbar": {
              "outlinewidth": 0,
              "ticks": ""
             }
            },
            "type": "scatterpolargl"
           }
          ],
          "scatterternary": [
           {
            "marker": {
             "colorbar": {
              "outlinewidth": 0,
              "ticks": ""
             }
            },
            "type": "scatterternary"
           }
          ],
          "surface": [
           {
            "colorbar": {
             "outlinewidth": 0,
             "ticks": ""
            },
            "colorscale": [
             [
              0,
              "#0d0887"
             ],
             [
              0.1111111111111111,
              "#46039f"
             ],
             [
              0.2222222222222222,
              "#7201a8"
             ],
             [
              0.3333333333333333,
              "#9c179e"
             ],
             [
              0.4444444444444444,
              "#bd3786"
             ],
             [
              0.5555555555555556,
              "#d8576b"
             ],
             [
              0.6666666666666666,
              "#ed7953"
             ],
             [
              0.7777777777777778,
              "#fb9f3a"
             ],
             [
              0.8888888888888888,
              "#fdca26"
             ],
             [
              1,
              "#f0f921"
             ]
            ],
            "type": "surface"
           }
          ],
          "table": [
           {
            "cells": {
             "fill": {
              "color": "#EBF0F8"
             },
             "line": {
              "color": "white"
             }
            },
            "header": {
             "fill": {
              "color": "#C8D4E3"
             },
             "line": {
              "color": "white"
             }
            },
            "type": "table"
           }
          ]
         },
         "layout": {
          "annotationdefaults": {
           "arrowcolor": "#2a3f5f",
           "arrowhead": 0,
           "arrowwidth": 1
          },
          "autotypenumbers": "strict",
          "coloraxis": {
           "colorbar": {
            "outlinewidth": 0,
            "ticks": ""
           }
          },
          "colorscale": {
           "diverging": [
            [
             0,
             "#8e0152"
            ],
            [
             0.1,
             "#c51b7d"
            ],
            [
             0.2,
             "#de77ae"
            ],
            [
             0.3,
             "#f1b6da"
            ],
            [
             0.4,
             "#fde0ef"
            ],
            [
             0.5,
             "#f7f7f7"
            ],
            [
             0.6,
             "#e6f5d0"
            ],
            [
             0.7,
             "#b8e186"
            ],
            [
             0.8,
             "#7fbc41"
            ],
            [
             0.9,
             "#4d9221"
            ],
            [
             1,
             "#276419"
            ]
           ],
           "sequential": [
            [
             0,
             "#0d0887"
            ],
            [
             0.1111111111111111,
             "#46039f"
            ],
            [
             0.2222222222222222,
             "#7201a8"
            ],
            [
             0.3333333333333333,
             "#9c179e"
            ],
            [
             0.4444444444444444,
             "#bd3786"
            ],
            [
             0.5555555555555556,
             "#d8576b"
            ],
            [
             0.6666666666666666,
             "#ed7953"
            ],
            [
             0.7777777777777778,
             "#fb9f3a"
            ],
            [
             0.8888888888888888,
             "#fdca26"
            ],
            [
             1,
             "#f0f921"
            ]
           ],
           "sequentialminus": [
            [
             0,
             "#0d0887"
            ],
            [
             0.1111111111111111,
             "#46039f"
            ],
            [
             0.2222222222222222,
             "#7201a8"
            ],
            [
             0.3333333333333333,
             "#9c179e"
            ],
            [
             0.4444444444444444,
             "#bd3786"
            ],
            [
             0.5555555555555556,
             "#d8576b"
            ],
            [
             0.6666666666666666,
             "#ed7953"
            ],
            [
             0.7777777777777778,
             "#fb9f3a"
            ],
            [
             0.8888888888888888,
             "#fdca26"
            ],
            [
             1,
             "#f0f921"
            ]
           ]
          },
          "colorway": [
           "#636efa",
           "#EF553B",
           "#00cc96",
           "#ab63fa",
           "#FFA15A",
           "#19d3f3",
           "#FF6692",
           "#B6E880",
           "#FF97FF",
           "#FECB52"
          ],
          "font": {
           "color": "#2a3f5f"
          },
          "geo": {
           "bgcolor": "white",
           "lakecolor": "white",
           "landcolor": "#E5ECF6",
           "showlakes": true,
           "showland": true,
           "subunitcolor": "white"
          },
          "hoverlabel": {
           "align": "left"
          },
          "hovermode": "closest",
          "mapbox": {
           "style": "light"
          },
          "paper_bgcolor": "white",
          "plot_bgcolor": "#E5ECF6",
          "polar": {
           "angularaxis": {
            "gridcolor": "white",
            "linecolor": "white",
            "ticks": ""
           },
           "bgcolor": "#E5ECF6",
           "radialaxis": {
            "gridcolor": "white",
            "linecolor": "white",
            "ticks": ""
           }
          },
          "scene": {
           "xaxis": {
            "backgroundcolor": "#E5ECF6",
            "gridcolor": "white",
            "gridwidth": 2,
            "linecolor": "white",
            "showbackground": true,
            "ticks": "",
            "zerolinecolor": "white"
           },
           "yaxis": {
            "backgroundcolor": "#E5ECF6",
            "gridcolor": "white",
            "gridwidth": 2,
            "linecolor": "white",
            "showbackground": true,
            "ticks": "",
            "zerolinecolor": "white"
           },
           "zaxis": {
            "backgroundcolor": "#E5ECF6",
            "gridcolor": "white",
            "gridwidth": 2,
            "linecolor": "white",
            "showbackground": true,
            "ticks": "",
            "zerolinecolor": "white"
           }
          },
          "shapedefaults": {
           "line": {
            "color": "#2a3f5f"
           }
          },
          "ternary": {
           "aaxis": {
            "gridcolor": "white",
            "linecolor": "white",
            "ticks": ""
           },
           "baxis": {
            "gridcolor": "white",
            "linecolor": "white",
            "ticks": ""
           },
           "bgcolor": "#E5ECF6",
           "caxis": {
            "gridcolor": "white",
            "linecolor": "white",
            "ticks": ""
           }
          },
          "title": {
           "x": 0.05
          },
          "xaxis": {
           "automargin": true,
           "gridcolor": "white",
           "linecolor": "white",
           "ticks": "",
           "title": {
            "standoff": 15
           },
           "zerolinecolor": "white",
           "zerolinewidth": 2
          },
          "yaxis": {
           "automargin": true,
           "gridcolor": "white",
           "linecolor": "white",
           "ticks": "",
           "title": {
            "standoff": 15
           },
           "zerolinecolor": "white",
           "zerolinewidth": 2
          }
         }
        },
        "title": {
         "text": "Subjectivity of LEC/NEOM-related Tweets by Country"
        },
        "width": 900
       }
      }
     },
     "metadata": {},
     "output_type": "display_data"
    }
   ],
   "source": [
    "# Create text hover template\n",
    "avgsubhover = ('<b>Country:</b> ' + avg_subjectivity['country'].astype(str) + '<br>' +\n",
    "               '<b>Country Code:</b> ' + avg_subjectivity['country code'].astype(str) + '<br>' +\n",
    "               '<b>Subjectivity:</b> ' + '%{z:.3f}' + '<extra></extra>'\n",
    ")\n",
    "\n",
    "# Create a Choropleth figure with data for Subjectivity of LEC/NEOM-related Tweets by Country\n",
    "avgsubmap = go.Figure(go.Choropleth(locations = avg_subjectivity['country code'],\n",
    "                                    z = avg_subjectivity['subjectivity'],\n",
    "                                    hovertemplate = avgsubhover,\n",
    "                                    colorscale = 'sunset',\n",
    "                                    marker_line_color='gray',\n",
    "                                    marker_line_width=0.2,\n",
    "                                    colorbar_title = 'Subjectivity',\n",
    "                                    colorbar=dict(orientation='h'))\n",
    ")\n",
    "\n",
    "# Set the layout of the Choropleth figure, including the title, the plot width and the map attributes\n",
    "avgsubmap.update_layout(title_text='Subjectivity of LEC/NEOM-related Tweets by Country',\n",
    "                        width=900,\n",
    "                        geo=dict(showframe=False,\n",
    "                                showcoastlines=False)    \n",
    ")\n",
    "\n",
    "# Show the Choropleth figure\n",
    "avgsubmap.show()"
   ]
  },
  {
   "attachments": {},
   "cell_type": "markdown",
   "metadata": {},
   "source": [
    "Using a choropleth map again, we can display the average subjectivity of tweets related to the LEC/NEOM sponsorship in each country. Ranging from 0 (displayed in yellow) to 1 (displayed in purple), the colors, using the 'sunset' colorscale, on the map provide a visual representation of the overall sentiment towards the sponsorship in different regions of the world. By analyzing the patterns and trends in subjectivity data, we can gain insights into how people are feeling about the LEC/NEOM sponsorship across different countries. This information can be useful for executives, tournament officials, and other organisations to develop targeted interventions and messaging strategies that address specific concerns or issues related to the sponsorship in different regions. Overall, this map can serve as a valuable tool for understanding the public sentiment towards the LEC/NEOM sponsorship on a global scale."
   ]
  },
  {
   "attachments": {},
   "cell_type": "markdown",
   "metadata": {},
   "source": [
    "Narrowing down the average visualisations to regions, states, or cities is possible with further data refinement using Nominatim, however, due to time constraints, a working version was not included in this notebook."
   ]
  }
 ],
 "metadata": {
  "kernelspec": {
   "display_name": "Python 3",
   "language": "python",
   "name": "python3"
  },
  "language_info": {
   "codemirror_mode": {
    "name": "ipython",
    "version": 3
   },
   "file_extension": ".py",
   "mimetype": "text/x-python",
   "name": "python",
   "nbconvert_exporter": "python",
   "pygments_lexer": "ipython3",
   "version": "3.11.5"
  },
  "orig_nbformat": 4
 },
 "nbformat": 4,
 "nbformat_minor": 2
}
