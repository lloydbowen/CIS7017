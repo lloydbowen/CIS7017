{
 "cells": [
  {
   "attachments": {},
   "cell_type": "markdown",
   "metadata": {},
   "source": [
    "# CIS7017 - Technology Dissertation\n",
    "## Lloyd Bowen - st20158067"
   ]
  },
  {
   "attachments": {},
   "cell_type": "markdown",
   "metadata": {},
   "source": [
    "### Exploring the Impact of Social Media on Sponsorship and Branding in Esports"
   ]
  },
  {
   "attachments": {},
   "cell_type": "markdown",
   "metadata": {},
   "source": [
    "##### Importing Libraries and Datasets"
   ]
  },
  {
   "cell_type": "code",
   "execution_count": 1,
   "metadata": {},
   "outputs": [],
   "source": [
    "import pandas as pd\n",
    "\n",
    "pd.options.mode.chained_assignment = None  # default='warn'\n",
    "\n",
    "pd.options.display.max_rows = 60 # default=60\n",
    "\n",
    "import geopandas as gpd\n",
    "import plotly.express as px\n",
    "import plotly.graph_objects as go\n",
    "import os\n",
    "\n",
    "os.environ['GOOGLE_APPLICATION_CREDENTIALS'] = './resources/bowenn.json'\n",
    "\n",
    "import pyproj\n",
    "import matplotlib.pyplot as plt\n",
    "import plotly.io as pio\n",
    "\n",
    "# pio.templates['bowen']= pio.templates['plotly']\n",
    "# pio.templates['bowen'].update({\n",
    "#     'layout_font_family': 'SF Pro Display'\n",
    "# })\n",
    "\n",
    "# pio.templates.default = 'bowen'\n",
    "\n",
    "from geopy.geocoders import Nominatim\n",
    "from geopy.extra.rate_limiter import RateLimiter\n",
    "from shapely.geometry import Point\n",
    "from textblob import TextBlob\n",
    "from google.cloud import translate_v2 as translate\n",
    "from wordcloud import WordCloud"
   ]
  },
  {
   "attachments": {},
   "cell_type": "markdown",
   "metadata": {},
   "source": [
    "Here we have imported the various Python Libraries we will be using throughout this document.\n",
    "\n",
    "pandas is used for general data analysis, geopandas is for geospatial data analysis, plotly and matplotlib are used for visualising the data by creating plots, geopy, pyproj and shapely are used for geolocating, textblob is used for sentiment analysis, google.cloud translate_v2 is used for translation, wordcloud is used for generating wordclouds"
   ]
  },
  {
   "cell_type": "code",
   "execution_count": 2,
   "metadata": {},
   "outputs": [
    {
     "data": {
      "text/html": [
       "<div>\n",
       "<style scoped>\n",
       "    .dataframe tbody tr th:only-of-type {\n",
       "        vertical-align: middle;\n",
       "    }\n",
       "\n",
       "    .dataframe tbody tr th {\n",
       "        vertical-align: top;\n",
       "    }\n",
       "\n",
       "    .dataframe thead th {\n",
       "        text-align: right;\n",
       "    }\n",
       "</style>\n",
       "<table border=\"1\" class=\"dataframe\">\n",
       "  <thead>\n",
       "    <tr style=\"text-align: right;\">\n",
       "      <th></th>\n",
       "      <th>tweet_id</th>\n",
       "      <th>username</th>\n",
       "      <th>full_name</th>\n",
       "      <th>full_text</th>\n",
       "      <th>view_count</th>\n",
       "      <th>bookmark_count</th>\n",
       "      <th>favorite_count</th>\n",
       "      <th>reply_count</th>\n",
       "      <th>retweet_count</th>\n",
       "      <th>quote_count</th>\n",
       "      <th>...</th>\n",
       "      <th>normal_followers_count</th>\n",
       "      <th>followed_by</th>\n",
       "      <th>following</th>\n",
       "      <th>location</th>\n",
       "      <th>profile_banner_url</th>\n",
       "      <th>profile_url</th>\n",
       "      <th>avatar_url</th>\n",
       "      <th>verified</th>\n",
       "      <th>is_blue_verified</th>\n",
       "      <th>user_created_at</th>\n",
       "    </tr>\n",
       "  </thead>\n",
       "  <tbody>\n",
       "    <tr>\n",
       "      <th>0</th>\n",
       "      <td>1.679560e+18</td>\n",
       "      <td>fyta_ow</td>\n",
       "      <td>fyta</td>\n",
       "      <td>@hanshimcd @wonderingsonny @CSGOEmpireV2 @Spar...</td>\n",
       "      <td>160</td>\n",
       "      <td>0</td>\n",
       "      <td>0</td>\n",
       "      <td>1</td>\n",
       "      <td>0</td>\n",
       "      <td>0</td>\n",
       "      <td>...</td>\n",
       "      <td>30</td>\n",
       "      <td>NaN</td>\n",
       "      <td>NaN</td>\n",
       "      <td>NaN</td>\n",
       "      <td>https://pbs.twimg.com/profile_banners/13419028...</td>\n",
       "      <td>https://www.twitter.com/fyta_ow</td>\n",
       "      <td>https://pbs.twimg.com/profile_images/170564242...</td>\n",
       "      <td>False</td>\n",
       "      <td>False</td>\n",
       "      <td>24/12/2020</td>\n",
       "    </tr>\n",
       "    <tr>\n",
       "      <th>1</th>\n",
       "      <td>1.690790e+18</td>\n",
       "      <td>Al_Azawi987</td>\n",
       "      <td>Al_Toxic</td>\n",
       "      <td>@G2CSGO Can you show us the csgorollscam contr...</td>\n",
       "      <td>463</td>\n",
       "      <td>0</td>\n",
       "      <td>0</td>\n",
       "      <td>0</td>\n",
       "      <td>0</td>\n",
       "      <td>0</td>\n",
       "      <td>...</td>\n",
       "      <td>124</td>\n",
       "      <td>NaN</td>\n",
       "      <td>NaN</td>\n",
       "      <td>Ela Bosak</td>\n",
       "      <td>https://pbs.twimg.com/profile_banners/76164167...</td>\n",
       "      <td>https://www.twitter.com/Al_Azawi987</td>\n",
       "      <td>https://pbs.twimg.com/profile_images/168740779...</td>\n",
       "      <td>False</td>\n",
       "      <td>False</td>\n",
       "      <td>05/08/2016</td>\n",
       "    </tr>\n",
       "    <tr>\n",
       "      <th>2</th>\n",
       "      <td>1.679540e+18</td>\n",
       "      <td>mostafa_xxxx</td>\n",
       "      <td>KING</td>\n",
       "      <td>@CSGOEmpireV2 @CSGORoll @CSGOEmpireV3 I wanna ...</td>\n",
       "      <td>61</td>\n",
       "      <td>0</td>\n",
       "      <td>0</td>\n",
       "      <td>0</td>\n",
       "      <td>0</td>\n",
       "      <td>0</td>\n",
       "      <td>...</td>\n",
       "      <td>13</td>\n",
       "      <td>NaN</td>\n",
       "      <td>NaN</td>\n",
       "      <td>Dubai - UAE</td>\n",
       "      <td>https://pbs.twimg.com/profile_banners/11856262...</td>\n",
       "      <td>https://www.twitter.com/mostafa_xxxx</td>\n",
       "      <td>https://pbs.twimg.com/profile_images/151248044...</td>\n",
       "      <td>False</td>\n",
       "      <td>False</td>\n",
       "      <td>16/02/2013</td>\n",
       "    </tr>\n",
       "    <tr>\n",
       "      <th>3</th>\n",
       "      <td>1.639810e+18</td>\n",
       "      <td>335ie90_</td>\n",
       "      <td>Daveeeeeeeeeeeeeee</td>\n",
       "      <td>@R6Sharpz Csgo roll is such a scam. All online...</td>\n",
       "      <td>99</td>\n",
       "      <td>0</td>\n",
       "      <td>1</td>\n",
       "      <td>0</td>\n",
       "      <td>0</td>\n",
       "      <td>0</td>\n",
       "      <td>...</td>\n",
       "      <td>8</td>\n",
       "      <td>NaN</td>\n",
       "      <td>NaN</td>\n",
       "      <td>Alabama, USA</td>\n",
       "      <td>https://pbs.twimg.com/profile_banners/14969926...</td>\n",
       "      <td>https://www.twitter.com/335ie90_</td>\n",
       "      <td>https://pbs.twimg.com/profile_images/163860614...</td>\n",
       "      <td>False</td>\n",
       "      <td>False</td>\n",
       "      <td>24/02/2022</td>\n",
       "    </tr>\n",
       "    <tr>\n",
       "      <th>4</th>\n",
       "      <td>8.751810e+17</td>\n",
       "      <td>TONYWINS34</td>\n",
       "      <td>Tony Huynh</td>\n",
       "      <td>@NathanCSGORoll #csgorollscam\\nDon't do free k...</td>\n",
       "      <td>0</td>\n",
       "      <td>0</td>\n",
       "      <td>0</td>\n",
       "      <td>0</td>\n",
       "      <td>0</td>\n",
       "      <td>0</td>\n",
       "      <td>...</td>\n",
       "      <td>7</td>\n",
       "      <td>NaN</td>\n",
       "      <td>NaN</td>\n",
       "      <td>Burlington, VT</td>\n",
       "      <td>NaN</td>\n",
       "      <td>https://www.twitter.com/TONYWINS34</td>\n",
       "      <td>https://pbs.twimg.com/profile_images/126351237...</td>\n",
       "      <td>False</td>\n",
       "      <td>False</td>\n",
       "      <td>13/04/2014</td>\n",
       "    </tr>\n",
       "    <tr>\n",
       "      <th>...</th>\n",
       "      <td>...</td>\n",
       "      <td>...</td>\n",
       "      <td>...</td>\n",
       "      <td>...</td>\n",
       "      <td>...</td>\n",
       "      <td>...</td>\n",
       "      <td>...</td>\n",
       "      <td>...</td>\n",
       "      <td>...</td>\n",
       "      <td>...</td>\n",
       "      <td>...</td>\n",
       "      <td>...</td>\n",
       "      <td>...</td>\n",
       "      <td>...</td>\n",
       "      <td>...</td>\n",
       "      <td>...</td>\n",
       "      <td>...</td>\n",
       "      <td>...</td>\n",
       "      <td>...</td>\n",
       "      <td>...</td>\n",
       "      <td>...</td>\n",
       "    </tr>\n",
       "    <tr>\n",
       "      <th>66</th>\n",
       "      <td>1.656260e+18</td>\n",
       "      <td>Sagemadarq</td>\n",
       "      <td>SAGE420</td>\n",
       "      <td>@Alkem1stCS @CSGOEmpireV2 they accuse csgo rol...</td>\n",
       "      <td>1609</td>\n",
       "      <td>0</td>\n",
       "      <td>1</td>\n",
       "      <td>1</td>\n",
       "      <td>0</td>\n",
       "      <td>0</td>\n",
       "      <td>...</td>\n",
       "      <td>59</td>\n",
       "      <td>NaN</td>\n",
       "      <td>NaN</td>\n",
       "      <td>Chasm of the abyss</td>\n",
       "      <td>https://pbs.twimg.com/profile_banners/92610914...</td>\n",
       "      <td>https://www.twitter.com/Sagemadarq</td>\n",
       "      <td>https://pbs.twimg.com/profile_images/942384874...</td>\n",
       "      <td>False</td>\n",
       "      <td>False</td>\n",
       "      <td>02/11/2017</td>\n",
       "    </tr>\n",
       "    <tr>\n",
       "      <th>67</th>\n",
       "      <td>1.661030e+18</td>\n",
       "      <td>nextlevel_br</td>\n",
       "      <td>Next Level</td>\n",
       "      <td>O cara colou a mão dele na máquina da ativação...</td>\n",
       "      <td>1159</td>\n",
       "      <td>0</td>\n",
       "      <td>2</td>\n",
       "      <td>0</td>\n",
       "      <td>0</td>\n",
       "      <td>0</td>\n",
       "      <td>...</td>\n",
       "      <td>20779</td>\n",
       "      <td>NaN</td>\n",
       "      <td>NaN</td>\n",
       "      <td>NaN</td>\n",
       "      <td>https://pbs.twimg.com/profile_banners/10779854...</td>\n",
       "      <td>https://www.twitter.com/nextlevel_br</td>\n",
       "      <td>https://pbs.twimg.com/profile_images/160738185...</td>\n",
       "      <td>False</td>\n",
       "      <td>True</td>\n",
       "      <td>26/12/2018</td>\n",
       "    </tr>\n",
       "    <tr>\n",
       "      <th>68</th>\n",
       "      <td>1.653250e+18</td>\n",
       "      <td>aim_assist100</td>\n",
       "      <td>Aim Assist Analysis</td>\n",
       "      <td>We’re on a roll! AAA esports tip for today\\n\\n...</td>\n",
       "      <td>189</td>\n",
       "      <td>0</td>\n",
       "      <td>1</td>\n",
       "      <td>1</td>\n",
       "      <td>0</td>\n",
       "      <td>0</td>\n",
       "      <td>...</td>\n",
       "      <td>16</td>\n",
       "      <td>NaN</td>\n",
       "      <td>NaN</td>\n",
       "      <td>Australia</td>\n",
       "      <td>https://pbs.twimg.com/profile_banners/15933801...</td>\n",
       "      <td>https://www.twitter.com/aim_assist100</td>\n",
       "      <td>https://pbs.twimg.com/profile_images/160212387...</td>\n",
       "      <td>False</td>\n",
       "      <td>False</td>\n",
       "      <td>17/11/2022</td>\n",
       "    </tr>\n",
       "    <tr>\n",
       "      <th>69</th>\n",
       "      <td>9.033380e+17</td>\n",
       "      <td>Aks_csgo</td>\n",
       "      <td>Aks</td>\n",
       "      <td>Grâce à G2 blodyy ce produit sera topvente Ama...</td>\n",
       "      <td>0</td>\n",
       "      <td>0</td>\n",
       "      <td>0</td>\n",
       "      <td>1</td>\n",
       "      <td>0</td>\n",
       "      <td>0</td>\n",
       "      <td>...</td>\n",
       "      <td>630</td>\n",
       "      <td>NaN</td>\n",
       "      <td>NaN</td>\n",
       "      <td>NaN</td>\n",
       "      <td>NaN</td>\n",
       "      <td>https://www.twitter.com/Aks_csgo</td>\n",
       "      <td>https://pbs.twimg.com/profile_images/124536305...</td>\n",
       "      <td>False</td>\n",
       "      <td>False</td>\n",
       "      <td>20/12/2012</td>\n",
       "    </tr>\n",
       "    <tr>\n",
       "      <th>70</th>\n",
       "      <td>1.683340e+18</td>\n",
       "      <td>trc_api</td>\n",
       "      <td>trc_api</td>\n",
       "      <td>Feeling nostalgic? 💭💥 Roll back the clock with...</td>\n",
       "      <td>0</td>\n",
       "      <td>0</td>\n",
       "      <td>0</td>\n",
       "      <td>0</td>\n",
       "      <td>0</td>\n",
       "      <td>0</td>\n",
       "      <td>...</td>\n",
       "      <td>0</td>\n",
       "      <td>NaN</td>\n",
       "      <td>NaN</td>\n",
       "      <td>NaN</td>\n",
       "      <td>NaN</td>\n",
       "      <td>https://www.twitter.com/trc_api</td>\n",
       "      <td>https://pbs.twimg.com/profile_images/167852743...</td>\n",
       "      <td>False</td>\n",
       "      <td>False</td>\n",
       "      <td>10/07/2023</td>\n",
       "    </tr>\n",
       "  </tbody>\n",
       "</table>\n",
       "<p>71 rows × 38 columns</p>\n",
       "</div>"
      ],
      "text/plain": [
       "        tweet_id       username            full_name  \\\n",
       "0   1.679560e+18        fyta_ow                 fyta   \n",
       "1   1.690790e+18    Al_Azawi987             Al_Toxic   \n",
       "2   1.679540e+18   mostafa_xxxx                 KING   \n",
       "3   1.639810e+18       335ie90_   Daveeeeeeeeeeeeeee   \n",
       "4   8.751810e+17     TONYWINS34           Tony Huynh   \n",
       "..           ...            ...                  ...   \n",
       "66  1.656260e+18     Sagemadarq              SAGE420   \n",
       "67  1.661030e+18   nextlevel_br           Next Level   \n",
       "68  1.653250e+18  aim_assist100  Aim Assist Analysis   \n",
       "69  9.033380e+17       Aks_csgo                  Aks   \n",
       "70  1.683340e+18        trc_api              trc_api   \n",
       "\n",
       "                                            full_text  view_count  \\\n",
       "0   @hanshimcd @wonderingsonny @CSGOEmpireV2 @Spar...         160   \n",
       "1   @G2CSGO Can you show us the csgorollscam contr...         463   \n",
       "2   @CSGOEmpireV2 @CSGORoll @CSGOEmpireV3 I wanna ...          61   \n",
       "3   @R6Sharpz Csgo roll is such a scam. All online...          99   \n",
       "4   @NathanCSGORoll #csgorollscam\\nDon't do free k...           0   \n",
       "..                                                ...         ...   \n",
       "66  @Alkem1stCS @CSGOEmpireV2 they accuse csgo rol...        1609   \n",
       "67  O cara colou a mão dele na máquina da ativação...        1159   \n",
       "68  We’re on a roll! AAA esports tip for today\\n\\n...         189   \n",
       "69  Grâce à G2 blodyy ce produit sera topvente Ama...           0   \n",
       "70  Feeling nostalgic? 💭💥 Roll back the clock with...           0   \n",
       "\n",
       "    bookmark_count  favorite_count  reply_count  retweet_count  quote_count  \\\n",
       "0                0               0            1              0            0   \n",
       "1                0               0            0              0            0   \n",
       "2                0               0            0              0            0   \n",
       "3                0               1            0              0            0   \n",
       "4                0               0            0              0            0   \n",
       "..             ...             ...          ...            ...          ...   \n",
       "66               0               1            1              0            0   \n",
       "67               0               2            0              0            0   \n",
       "68               0               1            1              0            0   \n",
       "69               0               0            1              0            0   \n",
       "70               0               0            0              0            0   \n",
       "\n",
       "    ...  normal_followers_count followed_by  following            location  \\\n",
       "0   ...                      30         NaN        NaN                 NaN   \n",
       "1   ...                     124         NaN        NaN           Ela Bosak   \n",
       "2   ...                      13         NaN        NaN         Dubai - UAE   \n",
       "3   ...                       8         NaN        NaN        Alabama, USA   \n",
       "4   ...                       7         NaN        NaN      Burlington, VT   \n",
       "..  ...                     ...         ...        ...                 ...   \n",
       "66  ...                      59         NaN        NaN  Chasm of the abyss   \n",
       "67  ...                   20779         NaN        NaN                 NaN   \n",
       "68  ...                      16         NaN        NaN           Australia   \n",
       "69  ...                     630         NaN        NaN                 NaN   \n",
       "70  ...                       0         NaN        NaN                 NaN   \n",
       "\n",
       "                                   profile_banner_url  \\\n",
       "0   https://pbs.twimg.com/profile_banners/13419028...   \n",
       "1   https://pbs.twimg.com/profile_banners/76164167...   \n",
       "2   https://pbs.twimg.com/profile_banners/11856262...   \n",
       "3   https://pbs.twimg.com/profile_banners/14969926...   \n",
       "4                                                 NaN   \n",
       "..                                                ...   \n",
       "66  https://pbs.twimg.com/profile_banners/92610914...   \n",
       "67  https://pbs.twimg.com/profile_banners/10779854...   \n",
       "68  https://pbs.twimg.com/profile_banners/15933801...   \n",
       "69                                                NaN   \n",
       "70                                                NaN   \n",
       "\n",
       "                              profile_url  \\\n",
       "0         https://www.twitter.com/fyta_ow   \n",
       "1     https://www.twitter.com/Al_Azawi987   \n",
       "2    https://www.twitter.com/mostafa_xxxx   \n",
       "3        https://www.twitter.com/335ie90_   \n",
       "4      https://www.twitter.com/TONYWINS34   \n",
       "..                                    ...   \n",
       "66     https://www.twitter.com/Sagemadarq   \n",
       "67   https://www.twitter.com/nextlevel_br   \n",
       "68  https://www.twitter.com/aim_assist100   \n",
       "69       https://www.twitter.com/Aks_csgo   \n",
       "70        https://www.twitter.com/trc_api   \n",
       "\n",
       "                                           avatar_url  verified  \\\n",
       "0   https://pbs.twimg.com/profile_images/170564242...     False   \n",
       "1   https://pbs.twimg.com/profile_images/168740779...     False   \n",
       "2   https://pbs.twimg.com/profile_images/151248044...     False   \n",
       "3   https://pbs.twimg.com/profile_images/163860614...     False   \n",
       "4   https://pbs.twimg.com/profile_images/126351237...     False   \n",
       "..                                                ...       ...   \n",
       "66  https://pbs.twimg.com/profile_images/942384874...     False   \n",
       "67  https://pbs.twimg.com/profile_images/160738185...     False   \n",
       "68  https://pbs.twimg.com/profile_images/160212387...     False   \n",
       "69  https://pbs.twimg.com/profile_images/124536305...     False   \n",
       "70  https://pbs.twimg.com/profile_images/167852743...     False   \n",
       "\n",
       "    is_blue_verified user_created_at  \n",
       "0              False      24/12/2020  \n",
       "1              False      05/08/2016  \n",
       "2              False      16/02/2013  \n",
       "3              False      24/02/2022  \n",
       "4              False      13/04/2014  \n",
       "..               ...             ...  \n",
       "66             False      02/11/2017  \n",
       "67              True      26/12/2018  \n",
       "68             False      17/11/2022  \n",
       "69             False      20/12/2012  \n",
       "70             False      10/07/2023  \n",
       "\n",
       "[71 rows x 38 columns]"
      ]
     },
     "execution_count": 2,
     "metadata": {},
     "output_type": "execute_result"
    }
   ],
   "source": [
    "tweets=pd.read_csv('./datasets/g2-csgo-roll-81.csv')\n",
    "tweets"
   ]
  },
  {
   "attachments": {},
   "cell_type": "markdown",
   "metadata": {},
   "source": [
    "Here we have imported the main dataset, g2-csgo-roll-81.csv as 'tweets', which is what will be used for the main analysis of this task."
   ]
  },
  {
   "cell_type": "code",
   "execution_count": 3,
   "metadata": {},
   "outputs": [
    {
     "data": {
      "text/plain": [
       "['naturalearth_cities', 'naturalearth_lowres', 'nybb']"
      ]
     },
     "execution_count": 3,
     "metadata": {},
     "output_type": "execute_result"
    }
   ],
   "source": [
    "gpd.datasets.available"
   ]
  },
  {
   "cell_type": "code",
   "execution_count": 4,
   "metadata": {},
   "outputs": [
    {
     "name": "stderr",
     "output_type": "stream",
     "text": [
      "C:\\Users\\bowen\\AppData\\Local\\Temp\\ipykernel_23084\\3742288801.py:1: FutureWarning: The geopandas.dataset module is deprecated and will be removed in GeoPandas 1.0. You can get the original 'naturalearth_lowres' data from https://www.naturalearthdata.com/downloads/110m-cultural-vectors/.\n",
      "  world_default=gpd.read_file(gpd.datasets.get_path('naturalearth_lowres'))\n"
     ]
    },
    {
     "data": {
      "text/html": [
       "<div>\n",
       "<style scoped>\n",
       "    .dataframe tbody tr th:only-of-type {\n",
       "        vertical-align: middle;\n",
       "    }\n",
       "\n",
       "    .dataframe tbody tr th {\n",
       "        vertical-align: top;\n",
       "    }\n",
       "\n",
       "    .dataframe thead th {\n",
       "        text-align: right;\n",
       "    }\n",
       "</style>\n",
       "<table border=\"1\" class=\"dataframe\">\n",
       "  <thead>\n",
       "    <tr style=\"text-align: right;\">\n",
       "      <th></th>\n",
       "      <th>pop_est</th>\n",
       "      <th>continent</th>\n",
       "      <th>name</th>\n",
       "      <th>iso_a3</th>\n",
       "      <th>gdp_md_est</th>\n",
       "      <th>geometry</th>\n",
       "    </tr>\n",
       "  </thead>\n",
       "  <tbody>\n",
       "    <tr>\n",
       "      <th>0</th>\n",
       "      <td>889953.0</td>\n",
       "      <td>Oceania</td>\n",
       "      <td>Fiji</td>\n",
       "      <td>FJI</td>\n",
       "      <td>5496</td>\n",
       "      <td>MULTIPOLYGON (((180.00000 -16.06713, 180.00000...</td>\n",
       "    </tr>\n",
       "    <tr>\n",
       "      <th>1</th>\n",
       "      <td>58005463.0</td>\n",
       "      <td>Africa</td>\n",
       "      <td>Tanzania</td>\n",
       "      <td>TZA</td>\n",
       "      <td>63177</td>\n",
       "      <td>POLYGON ((33.90371 -0.95000, 34.07262 -1.05982...</td>\n",
       "    </tr>\n",
       "    <tr>\n",
       "      <th>2</th>\n",
       "      <td>603253.0</td>\n",
       "      <td>Africa</td>\n",
       "      <td>W. Sahara</td>\n",
       "      <td>ESH</td>\n",
       "      <td>907</td>\n",
       "      <td>POLYGON ((-8.66559 27.65643, -8.66512 27.58948...</td>\n",
       "    </tr>\n",
       "    <tr>\n",
       "      <th>3</th>\n",
       "      <td>37589262.0</td>\n",
       "      <td>North America</td>\n",
       "      <td>Canada</td>\n",
       "      <td>CAN</td>\n",
       "      <td>1736425</td>\n",
       "      <td>MULTIPOLYGON (((-122.84000 49.00000, -122.9742...</td>\n",
       "    </tr>\n",
       "    <tr>\n",
       "      <th>4</th>\n",
       "      <td>328239523.0</td>\n",
       "      <td>North America</td>\n",
       "      <td>United States of America</td>\n",
       "      <td>USA</td>\n",
       "      <td>21433226</td>\n",
       "      <td>MULTIPOLYGON (((-122.84000 49.00000, -120.0000...</td>\n",
       "    </tr>\n",
       "    <tr>\n",
       "      <th>...</th>\n",
       "      <td>...</td>\n",
       "      <td>...</td>\n",
       "      <td>...</td>\n",
       "      <td>...</td>\n",
       "      <td>...</td>\n",
       "      <td>...</td>\n",
       "    </tr>\n",
       "    <tr>\n",
       "      <th>172</th>\n",
       "      <td>6944975.0</td>\n",
       "      <td>Europe</td>\n",
       "      <td>Serbia</td>\n",
       "      <td>SRB</td>\n",
       "      <td>51475</td>\n",
       "      <td>POLYGON ((18.82982 45.90887, 18.82984 45.90888...</td>\n",
       "    </tr>\n",
       "    <tr>\n",
       "      <th>173</th>\n",
       "      <td>622137.0</td>\n",
       "      <td>Europe</td>\n",
       "      <td>Montenegro</td>\n",
       "      <td>MNE</td>\n",
       "      <td>5542</td>\n",
       "      <td>POLYGON ((20.07070 42.58863, 19.80161 42.50009...</td>\n",
       "    </tr>\n",
       "    <tr>\n",
       "      <th>174</th>\n",
       "      <td>1794248.0</td>\n",
       "      <td>Europe</td>\n",
       "      <td>Kosovo</td>\n",
       "      <td>-99</td>\n",
       "      <td>7926</td>\n",
       "      <td>POLYGON ((20.59025 41.85541, 20.52295 42.21787...</td>\n",
       "    </tr>\n",
       "    <tr>\n",
       "      <th>175</th>\n",
       "      <td>1394973.0</td>\n",
       "      <td>North America</td>\n",
       "      <td>Trinidad and Tobago</td>\n",
       "      <td>TTO</td>\n",
       "      <td>24269</td>\n",
       "      <td>POLYGON ((-61.68000 10.76000, -61.10500 10.890...</td>\n",
       "    </tr>\n",
       "    <tr>\n",
       "      <th>176</th>\n",
       "      <td>11062113.0</td>\n",
       "      <td>Africa</td>\n",
       "      <td>S. Sudan</td>\n",
       "      <td>SSD</td>\n",
       "      <td>11998</td>\n",
       "      <td>POLYGON ((30.83385 3.50917, 29.95350 4.17370, ...</td>\n",
       "    </tr>\n",
       "  </tbody>\n",
       "</table>\n",
       "<p>177 rows × 6 columns</p>\n",
       "</div>"
      ],
      "text/plain": [
       "         pop_est      continent                      name iso_a3  gdp_md_est  \\\n",
       "0       889953.0        Oceania                      Fiji    FJI        5496   \n",
       "1     58005463.0         Africa                  Tanzania    TZA       63177   \n",
       "2       603253.0         Africa                 W. Sahara    ESH         907   \n",
       "3     37589262.0  North America                    Canada    CAN     1736425   \n",
       "4    328239523.0  North America  United States of America    USA    21433226   \n",
       "..           ...            ...                       ...    ...         ...   \n",
       "172    6944975.0         Europe                    Serbia    SRB       51475   \n",
       "173     622137.0         Europe                Montenegro    MNE        5542   \n",
       "174    1794248.0         Europe                    Kosovo    -99        7926   \n",
       "175    1394973.0  North America       Trinidad and Tobago    TTO       24269   \n",
       "176   11062113.0         Africa                  S. Sudan    SSD       11998   \n",
       "\n",
       "                                              geometry  \n",
       "0    MULTIPOLYGON (((180.00000 -16.06713, 180.00000...  \n",
       "1    POLYGON ((33.90371 -0.95000, 34.07262 -1.05982...  \n",
       "2    POLYGON ((-8.66559 27.65643, -8.66512 27.58948...  \n",
       "3    MULTIPOLYGON (((-122.84000 49.00000, -122.9742...  \n",
       "4    MULTIPOLYGON (((-122.84000 49.00000, -120.0000...  \n",
       "..                                                 ...  \n",
       "172  POLYGON ((18.82982 45.90887, 18.82984 45.90888...  \n",
       "173  POLYGON ((20.07070 42.58863, 19.80161 42.50009...  \n",
       "174  POLYGON ((20.59025 41.85541, 20.52295 42.21787...  \n",
       "175  POLYGON ((-61.68000 10.76000, -61.10500 10.890...  \n",
       "176  POLYGON ((30.83385 3.50917, 29.95350 4.17370, ...  \n",
       "\n",
       "[177 rows x 6 columns]"
      ]
     },
     "execution_count": 4,
     "metadata": {},
     "output_type": "execute_result"
    }
   ],
   "source": [
    "world_default=gpd.read_file(gpd.datasets.get_path('naturalearth_lowres'))\n",
    "world_default"
   ]
  },
  {
   "attachments": {},
   "cell_type": "markdown",
   "metadata": {},
   "source": [
    "This reads from geopandas to display the datasets that are included in the library. Then we are reading the 'naturalearth_lowres' dataset, and assigning it the \"world_default\" variable."
   ]
  },
  {
   "cell_type": "code",
   "execution_count": 5,
   "metadata": {},
   "outputs": [
    {
     "data": {
      "text/html": [
       "<div>\n",
       "<style scoped>\n",
       "    .dataframe tbody tr th:only-of-type {\n",
       "        vertical-align: middle;\n",
       "    }\n",
       "\n",
       "    .dataframe tbody tr th {\n",
       "        vertical-align: top;\n",
       "    }\n",
       "\n",
       "    .dataframe thead th {\n",
       "        text-align: right;\n",
       "    }\n",
       "</style>\n",
       "<table border=\"1\" class=\"dataframe\">\n",
       "  <thead>\n",
       "    <tr style=\"text-align: right;\">\n",
       "      <th></th>\n",
       "      <th>name</th>\n",
       "      <th>iso_a3</th>\n",
       "    </tr>\n",
       "  </thead>\n",
       "  <tbody>\n",
       "    <tr>\n",
       "      <th>0</th>\n",
       "      <td>Fiji</td>\n",
       "      <td>FJI</td>\n",
       "    </tr>\n",
       "    <tr>\n",
       "      <th>1</th>\n",
       "      <td>Tanzania</td>\n",
       "      <td>TZA</td>\n",
       "    </tr>\n",
       "    <tr>\n",
       "      <th>2</th>\n",
       "      <td>W. Sahara</td>\n",
       "      <td>ESH</td>\n",
       "    </tr>\n",
       "    <tr>\n",
       "      <th>3</th>\n",
       "      <td>Canada</td>\n",
       "      <td>CAN</td>\n",
       "    </tr>\n",
       "    <tr>\n",
       "      <th>4</th>\n",
       "      <td>United States of America</td>\n",
       "      <td>USA</td>\n",
       "    </tr>\n",
       "    <tr>\n",
       "      <th>...</th>\n",
       "      <td>...</td>\n",
       "      <td>...</td>\n",
       "    </tr>\n",
       "    <tr>\n",
       "      <th>172</th>\n",
       "      <td>Serbia</td>\n",
       "      <td>SRB</td>\n",
       "    </tr>\n",
       "    <tr>\n",
       "      <th>173</th>\n",
       "      <td>Montenegro</td>\n",
       "      <td>MNE</td>\n",
       "    </tr>\n",
       "    <tr>\n",
       "      <th>174</th>\n",
       "      <td>Kosovo</td>\n",
       "      <td>-99</td>\n",
       "    </tr>\n",
       "    <tr>\n",
       "      <th>175</th>\n",
       "      <td>Trinidad and Tobago</td>\n",
       "      <td>TTO</td>\n",
       "    </tr>\n",
       "    <tr>\n",
       "      <th>176</th>\n",
       "      <td>S. Sudan</td>\n",
       "      <td>SSD</td>\n",
       "    </tr>\n",
       "  </tbody>\n",
       "</table>\n",
       "<p>177 rows × 2 columns</p>\n",
       "</div>"
      ],
      "text/plain": [
       "                         name iso_a3\n",
       "0                        Fiji    FJI\n",
       "1                    Tanzania    TZA\n",
       "2                   W. Sahara    ESH\n",
       "3                      Canada    CAN\n",
       "4    United States of America    USA\n",
       "..                        ...    ...\n",
       "172                    Serbia    SRB\n",
       "173                Montenegro    MNE\n",
       "174                    Kosovo    -99\n",
       "175       Trinidad and Tobago    TTO\n",
       "176                  S. Sudan    SSD\n",
       "\n",
       "[177 rows x 2 columns]"
      ]
     },
     "execution_count": 5,
     "metadata": {},
     "output_type": "execute_result"
    }
   ],
   "source": [
    "world_iso=world_default[[\"name\", \"iso_a3\"]]\n",
    "world_iso"
   ]
  },
  {
   "cell_type": "code",
   "execution_count": 6,
   "metadata": {},
   "outputs": [
    {
     "data": {
      "text/html": [
       "<div>\n",
       "<style scoped>\n",
       "    .dataframe tbody tr th:only-of-type {\n",
       "        vertical-align: middle;\n",
       "    }\n",
       "\n",
       "    .dataframe tbody tr th {\n",
       "        vertical-align: top;\n",
       "    }\n",
       "\n",
       "    .dataframe thead th {\n",
       "        text-align: right;\n",
       "    }\n",
       "</style>\n",
       "<table border=\"1\" class=\"dataframe\">\n",
       "  <thead>\n",
       "    <tr style=\"text-align: right;\">\n",
       "      <th></th>\n",
       "      <th>country</th>\n",
       "      <th>country code</th>\n",
       "    </tr>\n",
       "  </thead>\n",
       "  <tbody>\n",
       "    <tr>\n",
       "      <th>0</th>\n",
       "      <td>Fiji</td>\n",
       "      <td>FJI</td>\n",
       "    </tr>\n",
       "    <tr>\n",
       "      <th>1</th>\n",
       "      <td>Tanzania</td>\n",
       "      <td>TZA</td>\n",
       "    </tr>\n",
       "    <tr>\n",
       "      <th>2</th>\n",
       "      <td>W. Sahara</td>\n",
       "      <td>ESH</td>\n",
       "    </tr>\n",
       "    <tr>\n",
       "      <th>3</th>\n",
       "      <td>Canada</td>\n",
       "      <td>CAN</td>\n",
       "    </tr>\n",
       "    <tr>\n",
       "      <th>4</th>\n",
       "      <td>United States of America</td>\n",
       "      <td>USA</td>\n",
       "    </tr>\n",
       "    <tr>\n",
       "      <th>...</th>\n",
       "      <td>...</td>\n",
       "      <td>...</td>\n",
       "    </tr>\n",
       "    <tr>\n",
       "      <th>172</th>\n",
       "      <td>Serbia</td>\n",
       "      <td>SRB</td>\n",
       "    </tr>\n",
       "    <tr>\n",
       "      <th>173</th>\n",
       "      <td>Montenegro</td>\n",
       "      <td>MNE</td>\n",
       "    </tr>\n",
       "    <tr>\n",
       "      <th>174</th>\n",
       "      <td>Kosovo</td>\n",
       "      <td>-99</td>\n",
       "    </tr>\n",
       "    <tr>\n",
       "      <th>175</th>\n",
       "      <td>Trinidad and Tobago</td>\n",
       "      <td>TTO</td>\n",
       "    </tr>\n",
       "    <tr>\n",
       "      <th>176</th>\n",
       "      <td>S. Sudan</td>\n",
       "      <td>SSD</td>\n",
       "    </tr>\n",
       "  </tbody>\n",
       "</table>\n",
       "<p>177 rows × 2 columns</p>\n",
       "</div>"
      ],
      "text/plain": [
       "                      country country code\n",
       "0                        Fiji          FJI\n",
       "1                    Tanzania          TZA\n",
       "2                   W. Sahara          ESH\n",
       "3                      Canada          CAN\n",
       "4    United States of America          USA\n",
       "..                        ...          ...\n",
       "172                    Serbia          SRB\n",
       "173                Montenegro          MNE\n",
       "174                    Kosovo          -99\n",
       "175       Trinidad and Tobago          TTO\n",
       "176                  S. Sudan          SSD\n",
       "\n",
       "[177 rows x 2 columns]"
      ]
     },
     "execution_count": 6,
     "metadata": {},
     "output_type": "execute_result"
    }
   ],
   "source": [
    "world=world_iso.rename(columns={'name': 'country', 'iso_a3': 'country code'})\n",
    "world"
   ]
  },
  {
   "attachments": {},
   "cell_type": "markdown",
   "metadata": {},
   "source": [
    "\"world_iso\" is created by only pulling the \"name\" and \"iso_a3\" columns from the \"world_default\" DataFrame.\n",
    "\n",
    "We have then renamed the \"name\" columns to \"country\" and \"iso_a3\" column to \"country code\", then assigned it to the \"world\" variable. This is to distinguish it from the other DataFrames with a similar name. These will be used later."
   ]
  },
  {
   "attachments": {},
   "cell_type": "markdown",
   "metadata": {},
   "source": [
    "##### Filtering the Dataset"
   ]
  },
  {
   "cell_type": "code",
   "execution_count": 7,
   "metadata": {},
   "outputs": [],
   "source": [
    "'''\n",
    "# Import pycountry library\n",
    "import pycountry\n",
    "\n",
    "# Get a list of country names from pycountry.countries\n",
    "country_names = [country.name for country in pycountry.countries]\n",
    "\n",
    "# Filter out rows where \"location\" is not a country name contained in country_names (from pycountry.countries)\n",
    "tweets_cleaned = tweets[~((~tweets[\"location\"].isin(country_names)) | tweets[\"full_text\"].str.contains(\"https\") | tweets[\"username\"].str.contains(\"卐|卍\"))]\n",
    "tweets_cleaned''';"
   ]
  },
  {
   "attachments": {},
   "cell_type": "markdown",
   "metadata": {},
   "source": [
    "Originally tried filtering out invalid values (countries) from \"location\" using pycountry, however this filtered out too many rows of data, which in turn produced subpar data."
   ]
  },
  {
   "cell_type": "code",
   "execution_count": 8,
   "metadata": {},
   "outputs": [],
   "source": [
    "'''\n",
    "# Import nltk library and stopwords list\n",
    "import nltk\n",
    "nltk.download('stopwords')\n",
    "\n",
    "from nltk.corpus import stopwords\n",
    "\n",
    "# Replace missing (null/NaN) values with \"Unknown\"\n",
    "tweets[\"location\"].fillna(\"Unknown\", inplace=True)\n",
    "\n",
    "# Pull the set of English stopwords - assign to \"stop_words\" variable\n",
    "stop_words = set(stopwords.words('english'))\n",
    "\n",
    "# Filter out the rows containing the stop words\n",
    "tweets_cleaned = tweets[~tweets[\"location\"].str.lower().apply(lambda x: any([word in x.lower() for word in stop_words]))]''';"
   ]
  },
  {
   "attachments": {},
   "cell_type": "markdown",
   "metadata": {},
   "source": [
    "Again, tried filtering out invalid values (countries) from \"location\" using the stopwords list from nltk, however this, again, filtered out too many rows of data, which in turn produced subpar data."
   ]
  },
  {
   "cell_type": "code",
   "execution_count": 9,
   "metadata": {},
   "outputs": [],
   "source": [
    "# # Replace missing (null/NaN) values with \"Unknown\"\n",
    "# tweets[\"location\"].fillna(\"Unknown\", inplace=True)\n",
    "\n",
    "# # Read the filter values from the \"filters\" text file\n",
    "# with open('./resources/filters.txt', 'r') as f:\n",
    "#     filters = [val.lower() for val in f.read().splitlines()]\n",
    "\n",
    "# # Filter out the rows containing the filter values from the text file in the \"location\" column\n",
    "# # Filter our the rows containing \"https\" in the \"full_text\" column\n",
    "# tweets_cleaned = tweets[~(tweets[\"location\"].str.lower().str.contains('|'.join(filters)) | tweets[\"full_text\"].str.lower().str.contains(\"https\"))]\n",
    "# tweets_cleaned.count()"
   ]
  },
  {
   "attachments": {},
   "cell_type": "markdown",
   "metadata": {},
   "source": [
    "The method that was decided on required a separate text file, called \"filters\", which contained a list (one word a line) of values that did not make sense given the context of the \"location\" series.\n",
    "\n",
    "ChatGPT was used to quickly produce a list of various social media websites, emoji flags, as well as invalid characters (such as !, @, #, $ etc.), which was then joined by a handful of handpicked values spotted during testing.\n",
    "\n",
    "This method also drops the rows containing 'NaN', which removes many rows from the dataset, as many Twitter users leave the \"user_location\" field on their profile blank, often for privacy reasons."
   ]
  },
  {
   "cell_type": "markdown",
   "metadata": {},
   "source": [
    "Upon further investigation, it was decided that filtering out the dataset would limit the amount of useful data available. As this topic is niche, social media data is fairly scarce, meaning data with null values must be left in."
   ]
  },
  {
   "cell_type": "code",
   "execution_count": 10,
   "metadata": {},
   "outputs": [],
   "source": [
    "# tweets_sample=tweets_cleaned.dropna().sample(n=500)\n",
    "# tweets_sample.count()"
   ]
  },
  {
   "attachments": {},
   "cell_type": "markdown",
   "metadata": {},
   "source": [
    "For a large dataset, it would usually be good practice to select a sample, to make analysing and visualising data easier for the data analyst. In this case, due to the small size, it is best to use the full dataset."
   ]
  },
  {
   "attachments": {},
   "cell_type": "markdown",
   "metadata": {},
   "source": [
    "##### Geocoding"
   ]
  },
  {
   "cell_type": "code",
   "execution_count": 11,
   "metadata": {},
   "outputs": [],
   "source": [
    "# Assigns instance of Nomination, using \"MSc22\" user_agent, to \"geolocator\" variable\n",
    "geolocator = Nominatim(user_agent='MSc22')"
   ]
  },
  {
   "cell_type": "code",
   "execution_count": 12,
   "metadata": {},
   "outputs": [
    {
     "data": {
      "text/html": [
       "<div>\n",
       "<style scoped>\n",
       "    .dataframe tbody tr th:only-of-type {\n",
       "        vertical-align: middle;\n",
       "    }\n",
       "\n",
       "    .dataframe tbody tr th {\n",
       "        vertical-align: top;\n",
       "    }\n",
       "\n",
       "    .dataframe thead th {\n",
       "        text-align: right;\n",
       "    }\n",
       "</style>\n",
       "<table border=\"1\" class=\"dataframe\">\n",
       "  <thead>\n",
       "    <tr style=\"text-align: right;\">\n",
       "      <th></th>\n",
       "      <th>tweet_id</th>\n",
       "      <th>username</th>\n",
       "      <th>full_name</th>\n",
       "      <th>full_text</th>\n",
       "      <th>view_count</th>\n",
       "      <th>bookmark_count</th>\n",
       "      <th>favorite_count</th>\n",
       "      <th>reply_count</th>\n",
       "      <th>retweet_count</th>\n",
       "      <th>quote_count</th>\n",
       "      <th>...</th>\n",
       "      <th>location</th>\n",
       "      <th>profile_banner_url</th>\n",
       "      <th>profile_url</th>\n",
       "      <th>avatar_url</th>\n",
       "      <th>verified</th>\n",
       "      <th>is_blue_verified</th>\n",
       "      <th>user_created_at</th>\n",
       "      <th>acc_location</th>\n",
       "      <th>lat</th>\n",
       "      <th>lon</th>\n",
       "    </tr>\n",
       "  </thead>\n",
       "  <tbody>\n",
       "    <tr>\n",
       "      <th>0</th>\n",
       "      <td>1.679560e+18</td>\n",
       "      <td>fyta_ow</td>\n",
       "      <td>fyta</td>\n",
       "      <td>@hanshimcd @wonderingsonny @CSGOEmpireV2 @Spar...</td>\n",
       "      <td>160</td>\n",
       "      <td>0</td>\n",
       "      <td>0</td>\n",
       "      <td>1</td>\n",
       "      <td>0</td>\n",
       "      <td>0</td>\n",
       "      <td>...</td>\n",
       "      <td>NaN</td>\n",
       "      <td>https://pbs.twimg.com/profile_banners/13419028...</td>\n",
       "      <td>https://www.twitter.com/fyta_ow</td>\n",
       "      <td>https://pbs.twimg.com/profile_images/170564242...</td>\n",
       "      <td>False</td>\n",
       "      <td>False</td>\n",
       "      <td>24/12/2020</td>\n",
       "      <td>(Nanno, Ville d'Anaunia, Comunità della Val di...</td>\n",
       "      <td>46.314475</td>\n",
       "      <td>11.048029</td>\n",
       "    </tr>\n",
       "    <tr>\n",
       "      <th>1</th>\n",
       "      <td>1.690790e+18</td>\n",
       "      <td>Al_Azawi987</td>\n",
       "      <td>Al_Toxic</td>\n",
       "      <td>@G2CSGO Can you show us the csgorollscam contr...</td>\n",
       "      <td>463</td>\n",
       "      <td>0</td>\n",
       "      <td>0</td>\n",
       "      <td>0</td>\n",
       "      <td>0</td>\n",
       "      <td>0</td>\n",
       "      <td>...</td>\n",
       "      <td>Ela Bosak</td>\n",
       "      <td>https://pbs.twimg.com/profile_banners/76164167...</td>\n",
       "      <td>https://www.twitter.com/Al_Azawi987</td>\n",
       "      <td>https://pbs.twimg.com/profile_images/168740779...</td>\n",
       "      <td>False</td>\n",
       "      <td>False</td>\n",
       "      <td>05/08/2016</td>\n",
       "      <td>None</td>\n",
       "      <td>NaN</td>\n",
       "      <td>NaN</td>\n",
       "    </tr>\n",
       "    <tr>\n",
       "      <th>2</th>\n",
       "      <td>1.679540e+18</td>\n",
       "      <td>mostafa_xxxx</td>\n",
       "      <td>KING</td>\n",
       "      <td>@CSGOEmpireV2 @CSGORoll @CSGOEmpireV3 I wanna ...</td>\n",
       "      <td>61</td>\n",
       "      <td>0</td>\n",
       "      <td>0</td>\n",
       "      <td>0</td>\n",
       "      <td>0</td>\n",
       "      <td>0</td>\n",
       "      <td>...</td>\n",
       "      <td>Dubai - UAE</td>\n",
       "      <td>https://pbs.twimg.com/profile_banners/11856262...</td>\n",
       "      <td>https://www.twitter.com/mostafa_xxxx</td>\n",
       "      <td>https://pbs.twimg.com/profile_images/151248044...</td>\n",
       "      <td>False</td>\n",
       "      <td>False</td>\n",
       "      <td>16/02/2013</td>\n",
       "      <td>(دبي, الإمارات العربية المتحدة, دبي, (25.07428...</td>\n",
       "      <td>25.074282</td>\n",
       "      <td>55.188539</td>\n",
       "    </tr>\n",
       "    <tr>\n",
       "      <th>3</th>\n",
       "      <td>1.639810e+18</td>\n",
       "      <td>335ie90_</td>\n",
       "      <td>Daveeeeeeeeeeeeeee</td>\n",
       "      <td>@R6Sharpz Csgo roll is such a scam. All online...</td>\n",
       "      <td>99</td>\n",
       "      <td>0</td>\n",
       "      <td>1</td>\n",
       "      <td>0</td>\n",
       "      <td>0</td>\n",
       "      <td>0</td>\n",
       "      <td>...</td>\n",
       "      <td>Alabama, USA</td>\n",
       "      <td>https://pbs.twimg.com/profile_banners/14969926...</td>\n",
       "      <td>https://www.twitter.com/335ie90_</td>\n",
       "      <td>https://pbs.twimg.com/profile_images/163860614...</td>\n",
       "      <td>False</td>\n",
       "      <td>False</td>\n",
       "      <td>24/02/2022</td>\n",
       "      <td>(Alabama, United States, (33.2588817, -86.8295...</td>\n",
       "      <td>33.258882</td>\n",
       "      <td>-86.829534</td>\n",
       "    </tr>\n",
       "    <tr>\n",
       "      <th>4</th>\n",
       "      <td>8.751810e+17</td>\n",
       "      <td>TONYWINS34</td>\n",
       "      <td>Tony Huynh</td>\n",
       "      <td>@NathanCSGORoll #csgorollscam\\nDon't do free k...</td>\n",
       "      <td>0</td>\n",
       "      <td>0</td>\n",
       "      <td>0</td>\n",
       "      <td>0</td>\n",
       "      <td>0</td>\n",
       "      <td>0</td>\n",
       "      <td>...</td>\n",
       "      <td>Burlington, VT</td>\n",
       "      <td>NaN</td>\n",
       "      <td>https://www.twitter.com/TONYWINS34</td>\n",
       "      <td>https://pbs.twimg.com/profile_images/126351237...</td>\n",
       "      <td>False</td>\n",
       "      <td>False</td>\n",
       "      <td>13/04/2014</td>\n",
       "      <td>(Burlington, Chittenden County, Vermont, Unite...</td>\n",
       "      <td>44.476160</td>\n",
       "      <td>-73.212906</td>\n",
       "    </tr>\n",
       "  </tbody>\n",
       "</table>\n",
       "<p>5 rows × 41 columns</p>\n",
       "</div>"
      ],
      "text/plain": [
       "       tweet_id      username           full_name  \\\n",
       "0  1.679560e+18       fyta_ow                fyta   \n",
       "1  1.690790e+18   Al_Azawi987            Al_Toxic   \n",
       "2  1.679540e+18  mostafa_xxxx                KING   \n",
       "3  1.639810e+18      335ie90_  Daveeeeeeeeeeeeeee   \n",
       "4  8.751810e+17    TONYWINS34          Tony Huynh   \n",
       "\n",
       "                                           full_text  view_count  \\\n",
       "0  @hanshimcd @wonderingsonny @CSGOEmpireV2 @Spar...         160   \n",
       "1  @G2CSGO Can you show us the csgorollscam contr...         463   \n",
       "2  @CSGOEmpireV2 @CSGORoll @CSGOEmpireV3 I wanna ...          61   \n",
       "3  @R6Sharpz Csgo roll is such a scam. All online...          99   \n",
       "4  @NathanCSGORoll #csgorollscam\\nDon't do free k...           0   \n",
       "\n",
       "   bookmark_count  favorite_count  reply_count  retweet_count  quote_count  \\\n",
       "0               0               0            1              0            0   \n",
       "1               0               0            0              0            0   \n",
       "2               0               0            0              0            0   \n",
       "3               0               1            0              0            0   \n",
       "4               0               0            0              0            0   \n",
       "\n",
       "   ...        location                                 profile_banner_url  \\\n",
       "0  ...             NaN  https://pbs.twimg.com/profile_banners/13419028...   \n",
       "1  ...       Ela Bosak  https://pbs.twimg.com/profile_banners/76164167...   \n",
       "2  ...     Dubai - UAE  https://pbs.twimg.com/profile_banners/11856262...   \n",
       "3  ...    Alabama, USA  https://pbs.twimg.com/profile_banners/14969926...   \n",
       "4  ...  Burlington, VT                                                NaN   \n",
       "\n",
       "                            profile_url  \\\n",
       "0       https://www.twitter.com/fyta_ow   \n",
       "1   https://www.twitter.com/Al_Azawi987   \n",
       "2  https://www.twitter.com/mostafa_xxxx   \n",
       "3      https://www.twitter.com/335ie90_   \n",
       "4    https://www.twitter.com/TONYWINS34   \n",
       "\n",
       "                                          avatar_url  verified  \\\n",
       "0  https://pbs.twimg.com/profile_images/170564242...     False   \n",
       "1  https://pbs.twimg.com/profile_images/168740779...     False   \n",
       "2  https://pbs.twimg.com/profile_images/151248044...     False   \n",
       "3  https://pbs.twimg.com/profile_images/163860614...     False   \n",
       "4  https://pbs.twimg.com/profile_images/126351237...     False   \n",
       "\n",
       "  is_blue_verified user_created_at  \\\n",
       "0            False      24/12/2020   \n",
       "1            False      05/08/2016   \n",
       "2            False      16/02/2013   \n",
       "3            False      24/02/2022   \n",
       "4            False      13/04/2014   \n",
       "\n",
       "                                        acc_location        lat        lon  \n",
       "0  (Nanno, Ville d'Anaunia, Comunità della Val di...  46.314475  11.048029  \n",
       "1                                               None        NaN        NaN  \n",
       "2  (دبي, الإمارات العربية المتحدة, دبي, (25.07428...  25.074282  55.188539  \n",
       "3  (Alabama, United States, (33.2588817, -86.8295...  33.258882 -86.829534  \n",
       "4  (Burlington, Chittenden County, Vermont, Unite...  44.476160 -73.212906  \n",
       "\n",
       "[5 rows x 41 columns]"
      ]
     },
     "execution_count": 12,
     "metadata": {},
     "output_type": "execute_result"
    }
   ],
   "source": [
    "# Assigns rate-limited version of \"geocode\" method to \"geocode\" variable - minimum delay set to 0.1 seconds\n",
    "geocode = RateLimiter(geolocator.geocode, min_delay_seconds=0.1)\n",
    "\n",
    "# Creates \"location\", \"lat\", \"lon\" columns in \"tweets\", applies geocoding to existing \"location\" column\n",
    "# Retrieves approximate location, lat, lon data - data is assigned to each column\n",
    "tweets['acc_location'] = tweets['location'].apply(geocode)\n",
    "tweets['lat'] = tweets['acc_location'].apply(lambda x: x.latitude if x else None)\n",
    "tweets['lon'] = tweets['acc_location'].apply(lambda x: x.longitude if x else None)\n",
    "\n",
    "# Drops null values from \"tweets\", creates new DataFrame \"tweets_geo\", displays head (top 5) of \"tweets_geo\"\n",
    "tweets_geo=tweets\n",
    "tweets_geo.head()"
   ]
  },
  {
   "cell_type": "code",
   "execution_count": 13,
   "metadata": {},
   "outputs": [
    {
     "data": {
      "text/html": [
       "<div>\n",
       "<style scoped>\n",
       "    .dataframe tbody tr th:only-of-type {\n",
       "        vertical-align: middle;\n",
       "    }\n",
       "\n",
       "    .dataframe tbody tr th {\n",
       "        vertical-align: top;\n",
       "    }\n",
       "\n",
       "    .dataframe thead th {\n",
       "        text-align: right;\n",
       "    }\n",
       "</style>\n",
       "<table border=\"1\" class=\"dataframe\">\n",
       "  <thead>\n",
       "    <tr style=\"text-align: right;\">\n",
       "      <th></th>\n",
       "      <th>tweet_id</th>\n",
       "      <th>username</th>\n",
       "      <th>full_name</th>\n",
       "      <th>full_text</th>\n",
       "      <th>view_count</th>\n",
       "      <th>bookmark_count</th>\n",
       "      <th>favorite_count</th>\n",
       "      <th>reply_count</th>\n",
       "      <th>retweet_count</th>\n",
       "      <th>quote_count</th>\n",
       "      <th>...</th>\n",
       "      <th>location</th>\n",
       "      <th>profile_banner_url</th>\n",
       "      <th>profile_url</th>\n",
       "      <th>avatar_url</th>\n",
       "      <th>verified</th>\n",
       "      <th>is_blue_verified</th>\n",
       "      <th>user_created_at</th>\n",
       "      <th>acc_location</th>\n",
       "      <th>lat</th>\n",
       "      <th>lon</th>\n",
       "    </tr>\n",
       "  </thead>\n",
       "  <tbody>\n",
       "    <tr>\n",
       "      <th>66</th>\n",
       "      <td>1.656260e+18</td>\n",
       "      <td>Sagemadarq</td>\n",
       "      <td>SAGE420</td>\n",
       "      <td>@Alkem1stCS @CSGOEmpireV2 they accuse csgo rol...</td>\n",
       "      <td>1609</td>\n",
       "      <td>0</td>\n",
       "      <td>1</td>\n",
       "      <td>1</td>\n",
       "      <td>0</td>\n",
       "      <td>0</td>\n",
       "      <td>...</td>\n",
       "      <td>Chasm of the abyss</td>\n",
       "      <td>https://pbs.twimg.com/profile_banners/92610914...</td>\n",
       "      <td>https://www.twitter.com/Sagemadarq</td>\n",
       "      <td>https://pbs.twimg.com/profile_images/942384874...</td>\n",
       "      <td>False</td>\n",
       "      <td>False</td>\n",
       "      <td>02/11/2017</td>\n",
       "      <td>None</td>\n",
       "      <td>NaN</td>\n",
       "      <td>NaN</td>\n",
       "    </tr>\n",
       "    <tr>\n",
       "      <th>67</th>\n",
       "      <td>1.661030e+18</td>\n",
       "      <td>nextlevel_br</td>\n",
       "      <td>Next Level</td>\n",
       "      <td>O cara colou a mão dele na máquina da ativação...</td>\n",
       "      <td>1159</td>\n",
       "      <td>0</td>\n",
       "      <td>2</td>\n",
       "      <td>0</td>\n",
       "      <td>0</td>\n",
       "      <td>0</td>\n",
       "      <td>...</td>\n",
       "      <td>NaN</td>\n",
       "      <td>https://pbs.twimg.com/profile_banners/10779854...</td>\n",
       "      <td>https://www.twitter.com/nextlevel_br</td>\n",
       "      <td>https://pbs.twimg.com/profile_images/160738185...</td>\n",
       "      <td>False</td>\n",
       "      <td>True</td>\n",
       "      <td>26/12/2018</td>\n",
       "      <td>(Nanno, Ville d'Anaunia, Comunità della Val di...</td>\n",
       "      <td>46.314475</td>\n",
       "      <td>11.048029</td>\n",
       "    </tr>\n",
       "    <tr>\n",
       "      <th>68</th>\n",
       "      <td>1.653250e+18</td>\n",
       "      <td>aim_assist100</td>\n",
       "      <td>Aim Assist Analysis</td>\n",
       "      <td>We’re on a roll! AAA esports tip for today\\n\\n...</td>\n",
       "      <td>189</td>\n",
       "      <td>0</td>\n",
       "      <td>1</td>\n",
       "      <td>1</td>\n",
       "      <td>0</td>\n",
       "      <td>0</td>\n",
       "      <td>...</td>\n",
       "      <td>Australia</td>\n",
       "      <td>https://pbs.twimg.com/profile_banners/15933801...</td>\n",
       "      <td>https://www.twitter.com/aim_assist100</td>\n",
       "      <td>https://pbs.twimg.com/profile_images/160212387...</td>\n",
       "      <td>False</td>\n",
       "      <td>False</td>\n",
       "      <td>17/11/2022</td>\n",
       "      <td>(Australia, (-24.7761086, 134.755))</td>\n",
       "      <td>-24.776109</td>\n",
       "      <td>134.755000</td>\n",
       "    </tr>\n",
       "    <tr>\n",
       "      <th>69</th>\n",
       "      <td>9.033380e+17</td>\n",
       "      <td>Aks_csgo</td>\n",
       "      <td>Aks</td>\n",
       "      <td>Grâce à G2 blodyy ce produit sera topvente Ama...</td>\n",
       "      <td>0</td>\n",
       "      <td>0</td>\n",
       "      <td>0</td>\n",
       "      <td>1</td>\n",
       "      <td>0</td>\n",
       "      <td>0</td>\n",
       "      <td>...</td>\n",
       "      <td>NaN</td>\n",
       "      <td>NaN</td>\n",
       "      <td>https://www.twitter.com/Aks_csgo</td>\n",
       "      <td>https://pbs.twimg.com/profile_images/124536305...</td>\n",
       "      <td>False</td>\n",
       "      <td>False</td>\n",
       "      <td>20/12/2012</td>\n",
       "      <td>(Nanno, Ville d'Anaunia, Comunità della Val di...</td>\n",
       "      <td>46.314475</td>\n",
       "      <td>11.048029</td>\n",
       "    </tr>\n",
       "    <tr>\n",
       "      <th>70</th>\n",
       "      <td>1.683340e+18</td>\n",
       "      <td>trc_api</td>\n",
       "      <td>trc_api</td>\n",
       "      <td>Feeling nostalgic? 💭💥 Roll back the clock with...</td>\n",
       "      <td>0</td>\n",
       "      <td>0</td>\n",
       "      <td>0</td>\n",
       "      <td>0</td>\n",
       "      <td>0</td>\n",
       "      <td>0</td>\n",
       "      <td>...</td>\n",
       "      <td>NaN</td>\n",
       "      <td>NaN</td>\n",
       "      <td>https://www.twitter.com/trc_api</td>\n",
       "      <td>https://pbs.twimg.com/profile_images/167852743...</td>\n",
       "      <td>False</td>\n",
       "      <td>False</td>\n",
       "      <td>10/07/2023</td>\n",
       "      <td>(Nanno, Ville d'Anaunia, Comunità della Val di...</td>\n",
       "      <td>46.314475</td>\n",
       "      <td>11.048029</td>\n",
       "    </tr>\n",
       "  </tbody>\n",
       "</table>\n",
       "<p>5 rows × 41 columns</p>\n",
       "</div>"
      ],
      "text/plain": [
       "        tweet_id       username            full_name  \\\n",
       "66  1.656260e+18     Sagemadarq              SAGE420   \n",
       "67  1.661030e+18   nextlevel_br           Next Level   \n",
       "68  1.653250e+18  aim_assist100  Aim Assist Analysis   \n",
       "69  9.033380e+17       Aks_csgo                  Aks   \n",
       "70  1.683340e+18        trc_api              trc_api   \n",
       "\n",
       "                                            full_text  view_count  \\\n",
       "66  @Alkem1stCS @CSGOEmpireV2 they accuse csgo rol...        1609   \n",
       "67  O cara colou a mão dele na máquina da ativação...        1159   \n",
       "68  We’re on a roll! AAA esports tip for today\\n\\n...         189   \n",
       "69  Grâce à G2 blodyy ce produit sera topvente Ama...           0   \n",
       "70  Feeling nostalgic? 💭💥 Roll back the clock with...           0   \n",
       "\n",
       "    bookmark_count  favorite_count  reply_count  retweet_count  quote_count  \\\n",
       "66               0               1            1              0            0   \n",
       "67               0               2            0              0            0   \n",
       "68               0               1            1              0            0   \n",
       "69               0               0            1              0            0   \n",
       "70               0               0            0              0            0   \n",
       "\n",
       "    ...            location  \\\n",
       "66  ...  Chasm of the abyss   \n",
       "67  ...                 NaN   \n",
       "68  ...           Australia   \n",
       "69  ...                 NaN   \n",
       "70  ...                 NaN   \n",
       "\n",
       "                                   profile_banner_url  \\\n",
       "66  https://pbs.twimg.com/profile_banners/92610914...   \n",
       "67  https://pbs.twimg.com/profile_banners/10779854...   \n",
       "68  https://pbs.twimg.com/profile_banners/15933801...   \n",
       "69                                                NaN   \n",
       "70                                                NaN   \n",
       "\n",
       "                              profile_url  \\\n",
       "66     https://www.twitter.com/Sagemadarq   \n",
       "67   https://www.twitter.com/nextlevel_br   \n",
       "68  https://www.twitter.com/aim_assist100   \n",
       "69       https://www.twitter.com/Aks_csgo   \n",
       "70        https://www.twitter.com/trc_api   \n",
       "\n",
       "                                           avatar_url  verified  \\\n",
       "66  https://pbs.twimg.com/profile_images/942384874...     False   \n",
       "67  https://pbs.twimg.com/profile_images/160738185...     False   \n",
       "68  https://pbs.twimg.com/profile_images/160212387...     False   \n",
       "69  https://pbs.twimg.com/profile_images/124536305...     False   \n",
       "70  https://pbs.twimg.com/profile_images/167852743...     False   \n",
       "\n",
       "   is_blue_verified user_created_at  \\\n",
       "66            False      02/11/2017   \n",
       "67             True      26/12/2018   \n",
       "68            False      17/11/2022   \n",
       "69            False      20/12/2012   \n",
       "70            False      10/07/2023   \n",
       "\n",
       "                                         acc_location        lat         lon  \n",
       "66                                               None        NaN         NaN  \n",
       "67  (Nanno, Ville d'Anaunia, Comunità della Val di...  46.314475   11.048029  \n",
       "68                (Australia, (-24.7761086, 134.755)) -24.776109  134.755000  \n",
       "69  (Nanno, Ville d'Anaunia, Comunità della Val di...  46.314475   11.048029  \n",
       "70  (Nanno, Ville d'Anaunia, Comunità della Val di...  46.314475   11.048029  \n",
       "\n",
       "[5 rows x 41 columns]"
      ]
     },
     "execution_count": 13,
     "metadata": {},
     "output_type": "execute_result"
    }
   ],
   "source": [
    "tweets_geo.tail()"
   ]
  },
  {
   "attachments": {},
   "cell_type": "markdown",
   "metadata": {},
   "source": [
    "To obtain more accurate geographical information for each tweet, we utilised Nominatim, a powerful geolocating tool from geopy that queries OpenStreetMap (OSM) data to find locations on Earth based on their name or address. The 'location' column from the dataset was used as a starting point to search for each user's approximate location. Nominatim generated a new 'acc_location' column that contains the name of the nearest location to the user's reported location. Additionally, it provided the latitude and longitude coordinates of each location, which we extracted into separate 'lat' and 'lon' columns. This allows us to plot each tweet on a map with greater accuracy and detail.\n",
    "\n",
    "After running the geolocator on our dataset sample, we must use the dropna function again as there may be some null values generated from the geolocator."
   ]
  },
  {
   "cell_type": "code",
   "execution_count": 14,
   "metadata": {},
   "outputs": [
    {
     "data": {
      "text/html": [
       "<div>\n",
       "<style scoped>\n",
       "    .dataframe tbody tr th:only-of-type {\n",
       "        vertical-align: middle;\n",
       "    }\n",
       "\n",
       "    .dataframe tbody tr th {\n",
       "        vertical-align: top;\n",
       "    }\n",
       "\n",
       "    .dataframe thead th {\n",
       "        text-align: right;\n",
       "    }\n",
       "</style>\n",
       "<table border=\"1\" class=\"dataframe\">\n",
       "  <thead>\n",
       "    <tr style=\"text-align: right;\">\n",
       "      <th></th>\n",
       "      <th>tweet_id</th>\n",
       "      <th>username</th>\n",
       "      <th>full_name</th>\n",
       "      <th>full_text</th>\n",
       "      <th>view_count</th>\n",
       "      <th>bookmark_count</th>\n",
       "      <th>favorite_count</th>\n",
       "      <th>reply_count</th>\n",
       "      <th>retweet_count</th>\n",
       "      <th>quote_count</th>\n",
       "      <th>...</th>\n",
       "      <th>profile_banner_url</th>\n",
       "      <th>profile_url</th>\n",
       "      <th>avatar_url</th>\n",
       "      <th>verified</th>\n",
       "      <th>is_blue_verified</th>\n",
       "      <th>user_created_at</th>\n",
       "      <th>acc_location</th>\n",
       "      <th>lat</th>\n",
       "      <th>lon</th>\n",
       "      <th>geometry</th>\n",
       "    </tr>\n",
       "  </thead>\n",
       "  <tbody>\n",
       "    <tr>\n",
       "      <th>0</th>\n",
       "      <td>1.679560e+18</td>\n",
       "      <td>fyta_ow</td>\n",
       "      <td>fyta</td>\n",
       "      <td>@hanshimcd @wonderingsonny @CSGOEmpireV2 @Spar...</td>\n",
       "      <td>160</td>\n",
       "      <td>0</td>\n",
       "      <td>0</td>\n",
       "      <td>1</td>\n",
       "      <td>0</td>\n",
       "      <td>0</td>\n",
       "      <td>...</td>\n",
       "      <td>https://pbs.twimg.com/profile_banners/13419028...</td>\n",
       "      <td>https://www.twitter.com/fyta_ow</td>\n",
       "      <td>https://pbs.twimg.com/profile_images/170564242...</td>\n",
       "      <td>False</td>\n",
       "      <td>False</td>\n",
       "      <td>24/12/2020</td>\n",
       "      <td>(Nanno, Ville d'Anaunia, Comunità della Val di...</td>\n",
       "      <td>46.314475</td>\n",
       "      <td>11.048029</td>\n",
       "      <td>POINT (11.04803 46.31448)</td>\n",
       "    </tr>\n",
       "    <tr>\n",
       "      <th>1</th>\n",
       "      <td>1.690790e+18</td>\n",
       "      <td>Al_Azawi987</td>\n",
       "      <td>Al_Toxic</td>\n",
       "      <td>@G2CSGO Can you show us the csgorollscam contr...</td>\n",
       "      <td>463</td>\n",
       "      <td>0</td>\n",
       "      <td>0</td>\n",
       "      <td>0</td>\n",
       "      <td>0</td>\n",
       "      <td>0</td>\n",
       "      <td>...</td>\n",
       "      <td>https://pbs.twimg.com/profile_banners/76164167...</td>\n",
       "      <td>https://www.twitter.com/Al_Azawi987</td>\n",
       "      <td>https://pbs.twimg.com/profile_images/168740779...</td>\n",
       "      <td>False</td>\n",
       "      <td>False</td>\n",
       "      <td>05/08/2016</td>\n",
       "      <td>None</td>\n",
       "      <td>NaN</td>\n",
       "      <td>NaN</td>\n",
       "      <td>POINT EMPTY</td>\n",
       "    </tr>\n",
       "    <tr>\n",
       "      <th>2</th>\n",
       "      <td>1.679540e+18</td>\n",
       "      <td>mostafa_xxxx</td>\n",
       "      <td>KING</td>\n",
       "      <td>@CSGOEmpireV2 @CSGORoll @CSGOEmpireV3 I wanna ...</td>\n",
       "      <td>61</td>\n",
       "      <td>0</td>\n",
       "      <td>0</td>\n",
       "      <td>0</td>\n",
       "      <td>0</td>\n",
       "      <td>0</td>\n",
       "      <td>...</td>\n",
       "      <td>https://pbs.twimg.com/profile_banners/11856262...</td>\n",
       "      <td>https://www.twitter.com/mostafa_xxxx</td>\n",
       "      <td>https://pbs.twimg.com/profile_images/151248044...</td>\n",
       "      <td>False</td>\n",
       "      <td>False</td>\n",
       "      <td>16/02/2013</td>\n",
       "      <td>(دبي, الإمارات العربية المتحدة, دبي, (25.07428...</td>\n",
       "      <td>25.074282</td>\n",
       "      <td>55.188539</td>\n",
       "      <td>POINT (55.18854 25.07428)</td>\n",
       "    </tr>\n",
       "    <tr>\n",
       "      <th>3</th>\n",
       "      <td>1.639810e+18</td>\n",
       "      <td>335ie90_</td>\n",
       "      <td>Daveeeeeeeeeeeeeee</td>\n",
       "      <td>@R6Sharpz Csgo roll is such a scam. All online...</td>\n",
       "      <td>99</td>\n",
       "      <td>0</td>\n",
       "      <td>1</td>\n",
       "      <td>0</td>\n",
       "      <td>0</td>\n",
       "      <td>0</td>\n",
       "      <td>...</td>\n",
       "      <td>https://pbs.twimg.com/profile_banners/14969926...</td>\n",
       "      <td>https://www.twitter.com/335ie90_</td>\n",
       "      <td>https://pbs.twimg.com/profile_images/163860614...</td>\n",
       "      <td>False</td>\n",
       "      <td>False</td>\n",
       "      <td>24/02/2022</td>\n",
       "      <td>(Alabama, United States, (33.2588817, -86.8295...</td>\n",
       "      <td>33.258882</td>\n",
       "      <td>-86.829534</td>\n",
       "      <td>POINT (-86.82953 33.25888)</td>\n",
       "    </tr>\n",
       "    <tr>\n",
       "      <th>4</th>\n",
       "      <td>8.751810e+17</td>\n",
       "      <td>TONYWINS34</td>\n",
       "      <td>Tony Huynh</td>\n",
       "      <td>@NathanCSGORoll #csgorollscam\\nDon't do free k...</td>\n",
       "      <td>0</td>\n",
       "      <td>0</td>\n",
       "      <td>0</td>\n",
       "      <td>0</td>\n",
       "      <td>0</td>\n",
       "      <td>0</td>\n",
       "      <td>...</td>\n",
       "      <td>NaN</td>\n",
       "      <td>https://www.twitter.com/TONYWINS34</td>\n",
       "      <td>https://pbs.twimg.com/profile_images/126351237...</td>\n",
       "      <td>False</td>\n",
       "      <td>False</td>\n",
       "      <td>13/04/2014</td>\n",
       "      <td>(Burlington, Chittenden County, Vermont, Unite...</td>\n",
       "      <td>44.476160</td>\n",
       "      <td>-73.212906</td>\n",
       "      <td>POINT (-73.21291 44.47616)</td>\n",
       "    </tr>\n",
       "  </tbody>\n",
       "</table>\n",
       "<p>5 rows × 42 columns</p>\n",
       "</div>"
      ],
      "text/plain": [
       "       tweet_id      username           full_name  \\\n",
       "0  1.679560e+18       fyta_ow                fyta   \n",
       "1  1.690790e+18   Al_Azawi987            Al_Toxic   \n",
       "2  1.679540e+18  mostafa_xxxx                KING   \n",
       "3  1.639810e+18      335ie90_  Daveeeeeeeeeeeeeee   \n",
       "4  8.751810e+17    TONYWINS34          Tony Huynh   \n",
       "\n",
       "                                           full_text  view_count  \\\n",
       "0  @hanshimcd @wonderingsonny @CSGOEmpireV2 @Spar...         160   \n",
       "1  @G2CSGO Can you show us the csgorollscam contr...         463   \n",
       "2  @CSGOEmpireV2 @CSGORoll @CSGOEmpireV3 I wanna ...          61   \n",
       "3  @R6Sharpz Csgo roll is such a scam. All online...          99   \n",
       "4  @NathanCSGORoll #csgorollscam\\nDon't do free k...           0   \n",
       "\n",
       "   bookmark_count  favorite_count  reply_count  retweet_count  quote_count  \\\n",
       "0               0               0            1              0            0   \n",
       "1               0               0            0              0            0   \n",
       "2               0               0            0              0            0   \n",
       "3               0               1            0              0            0   \n",
       "4               0               0            0              0            0   \n",
       "\n",
       "   ...                                 profile_banner_url  \\\n",
       "0  ...  https://pbs.twimg.com/profile_banners/13419028...   \n",
       "1  ...  https://pbs.twimg.com/profile_banners/76164167...   \n",
       "2  ...  https://pbs.twimg.com/profile_banners/11856262...   \n",
       "3  ...  https://pbs.twimg.com/profile_banners/14969926...   \n",
       "4  ...                                                NaN   \n",
       "\n",
       "                            profile_url  \\\n",
       "0       https://www.twitter.com/fyta_ow   \n",
       "1   https://www.twitter.com/Al_Azawi987   \n",
       "2  https://www.twitter.com/mostafa_xxxx   \n",
       "3      https://www.twitter.com/335ie90_   \n",
       "4    https://www.twitter.com/TONYWINS34   \n",
       "\n",
       "                                          avatar_url  verified  \\\n",
       "0  https://pbs.twimg.com/profile_images/170564242...     False   \n",
       "1  https://pbs.twimg.com/profile_images/168740779...     False   \n",
       "2  https://pbs.twimg.com/profile_images/151248044...     False   \n",
       "3  https://pbs.twimg.com/profile_images/163860614...     False   \n",
       "4  https://pbs.twimg.com/profile_images/126351237...     False   \n",
       "\n",
       "   is_blue_verified user_created_at  \\\n",
       "0             False      24/12/2020   \n",
       "1             False      05/08/2016   \n",
       "2             False      16/02/2013   \n",
       "3             False      24/02/2022   \n",
       "4             False      13/04/2014   \n",
       "\n",
       "                                        acc_location        lat        lon  \\\n",
       "0  (Nanno, Ville d'Anaunia, Comunità della Val di...  46.314475  11.048029   \n",
       "1                                               None        NaN        NaN   \n",
       "2  (دبي, الإمارات العربية المتحدة, دبي, (25.07428...  25.074282  55.188539   \n",
       "3  (Alabama, United States, (33.2588817, -86.8295...  33.258882 -86.829534   \n",
       "4  (Burlington, Chittenden County, Vermont, Unite...  44.476160 -73.212906   \n",
       "\n",
       "                     geometry  \n",
       "0   POINT (11.04803 46.31448)  \n",
       "1                 POINT EMPTY  \n",
       "2   POINT (55.18854 25.07428)  \n",
       "3  POINT (-86.82953 33.25888)  \n",
       "4  POINT (-73.21291 44.47616)  \n",
       "\n",
       "[5 rows x 42 columns]"
      ]
     },
     "execution_count": 14,
     "metadata": {},
     "output_type": "execute_result"
    }
   ],
   "source": [
    "# Create Point objects from data in \"lat\" and \"lon\" columns in \"tweets_geo\" DataFrame\n",
    "# Use Coordinate Reference System (CRS) EPSG code 4326 - most common for GPS coordinates - assign to \"crs\" object \n",
    "geometry=[Point(xy) for xy in zip(tweets_geo['lon'], tweets_geo['lat'])]\n",
    "crs=pyproj.CRS('epsg:4326')\n",
    "\n",
    "# Update DataFrame \"tweets_geo\" to GeoDataFrame - add \"geometry\" column with Point data - using CRS code from \"crs\"\n",
    "tweets_geo=gpd.GeoDataFrame(tweets_geo, crs=crs, geometry=geometry)\n",
    "\n",
    "# Drops null values from \"tweets_geo\", creates new DataFrame \"tweets_final\", displays head (top 5) of \"tweets_final\"\n",
    "tweets_final=tweets_geo\n",
    "tweets_final.head()"
   ]
  },
  {
   "attachments": {},
   "cell_type": "markdown",
   "metadata": {},
   "source": [
    "With the latitude and longitude coordinates now available in the 'tweets_geo' DataFrame, we can create a new column that combines them into a 'POINT' object using the 'geometry' library. This can be achieved by creating a list of Points, with each Point being a pair of (longitude, latitude) coordinates extracted from the corresponding row in 'tweets_geo'. This new 'geometry' list is then added as a new column to 'tweets_geo'.\n",
    "\n",
    "We also need to define the coordinate reference system (CRS) of the data to enable accurate geographic visualization. In this case, we use the pyproj library to create a CRS object with the EPSG code 4326, which is the standard for GPS coordinates.\n",
    "\n",
    "Before plotting any data on any charts, we display what the dataset looks like at this stage to ensure everything is stored correctly."
   ]
  },
  {
   "attachments": {},
   "cell_type": "markdown",
   "metadata": {},
   "source": [
    "##### Plotting the Data"
   ]
  },
  {
   "cell_type": "code",
   "execution_count": 15,
   "metadata": {},
   "outputs": [
    {
     "data": {
      "image/png": "[encoded data removed]",
      "text/plain": [
       "<Figure size 800x800 with 1 Axes>"
      ]
     },
     "metadata": {},
     "output_type": "display_data"
    }
   ],
   "source": [
    "# Create DataFrame \"all_tweets\" with \"text\" data from \"tweets_final\" DataFrame - assign string data type\n",
    "all_tweets = ' '.join(tweets_final['full_text'].astype(str))\n",
    "\n",
    "# Create the WordCloud using data from \"all_tweets\", including the plot width, the plot height and the plot background colour \n",
    "textwordcloud = WordCloud(width=900,\n",
    "                          height=450,\n",
    "                          background_color='white').generate(all_tweets)\n",
    "\n",
    "# Plot the WorldCloud\n",
    "plt.figure(figsize = (8, 8), facecolor = None)\n",
    "plt.imshow(textwordcloud)\n",
    "plt.axis(\"off\")\n",
    "plt.tight_layout(pad = 0)\n",
    "\n",
    "# Show the WordCloud figure\n",
    "plt.show()"
   ]
  },
  {
   "attachments": {},
   "cell_type": "markdown",
   "metadata": {},
   "source": [
    "Producing a WordCloud gives us a visual representation of the amount each word in the \"full_text\" column in our DataFrame is being said."
   ]
  },
  {
   "cell_type": "code",
   "execution_count": 16,
   "metadata": {},
   "outputs": [
    {
     "data": {
      "application/vnd.plotly.v1+json": {
       "config": {
        "plotlyServerURL": "https://plot.ly"
       },
       "data": [
        {
         "lat": [
          46.3144754,
          null,
          25.074282349999997,
          33.2588817,
          44.4761601,
          46.3144754,
          18.9733536,
          46.3144754,
          41.2861022,
          46.3144754,
          40.4416941,
          46.3144754,
          51.0538286,
          46.3144754,
          46.3144754,
          -37.3125781,
          43.409022,
          29.4246002,
          46.3144754,
          40.9699889,
          52.1959491,
          -36.5341903,
          41.3828939,
          -32.9593609,
          44.575616,
          49.4420467,
          40.4167047,
          -37.8142454,
          22.3511148,
          46.3144754,
          46.3144754,
          60.288655,
          46.3144754,
          -18.4554963,
          39.999971,
          46.3144754,
          50.938361,
          46.3144754,
          null,
          47.59397,
          46.3144754,
          11.7761562,
          null,
          46.3144754,
          46.3144754,
          46.3144754,
          59.644468,
          50.938361,
          45.4401467,
          46.3144754,
          46.3144754,
          55.6812495,
          46.3144754,
          46.3144754,
          40.7127281,
          34.0536909,
          18.521428,
          null,
          46.3144754,
          48.1113387,
          45.300575,
          46.3144754,
          40.6667691,
          46.3144754,
          46.9484742,
          44.046388,
          null,
          46.3144754,
          -24.7761086,
          46.3144754,
          46.3144754
         ],
         "lon": [
          11.0480288,
          null,
          55.18853865430702,
          -86.8295337,
          -73.212906,
          11.0480288,
          72.82810491917377,
          11.0480288,
          1.9824173,
          11.0480288,
          -79.9900861,
          11.0480288,
          3.7250121,
          11.0480288,
          11.0480288,
          -59.158166,
          24.6180123,
          -98.4951405,
          11.0480288,
          -77.7278831,
          -1.77625605,
          -72.0878536,
          2.1774322,
          -60.6617024,
          -78.8486034,
          7.7708363,
          -3.7035825,
          144.9631732,
          78.6677428,
          11.0480288,
          11.0480288,
          24.775614,
          11.0480288,
          29.7468414,
          3.8395763,
          11.0480288,
          6.959974,
          11.0480288,
          null,
          14.12456,
          11.0480288,
          125.0205857,
          null,
          11.0480288,
          11.0480288,
          11.0480288,
          17.0878665,
          6.959974,
          4.3873058,
          11.0480288,
          11.0480288,
          12.4547294,
          11.0480288,
          11.0480288,
          -74.0060152,
          -118.242766,
          73.8544541,
          null,
          11.0480288,
          -1.6800198,
          -79.946399,
          11.0480288,
          33.4526069,
          11.0480288,
          7.4521749,
          -75.777168,
          null,
          11.0480288,
          134.755,
          11.0480288,
          11.0480288
         ],
         "marker": {
          "colorscale": [
           [
            0,
            "rgb(243, 231, 155)"
           ],
           [
            0.16666666666666666,
            "rgb(250, 196, 132)"
           ],
           [
            0.3333333333333333,
            "rgb(248, 160, 126)"
           ],
           [
            0.5,
            "rgb(235, 127, 134)"
           ],
           [
            0.6666666666666666,
            "rgb(206, 102, 147)"
           ],
           [
            0.8333333333333334,
            "rgb(160, 89, 160)"
           ],
           [
            1,
            "rgb(92, 83, 165)"
           ]
          ],
          "opacity": 0.8,
          "size": 7.5,
          "symbol": "circle"
         },
         "mode": "markers",
         "text": [
          "<b>Name:</b> fyta_ow<br><b>User Location:</b> nan<br><b>Verified?</b> False<br><b>Date:</b> 13/07/2023<br><b>Tweet:</b> @hanshimcd @wonderingsonny @CSGOEmpireV2 @SparklesCSGOYT I guess it's part of the deal, it's the same way other youtubers advertise a brand on their videos. The only problem would be if Sparkles knew that CSGO Roll was a scam.",
          "<b>Name:</b> Al_Azawi987<br><b>User Location:</b> Ela Bosak<br><b>Verified?</b> False<br><b>Date:</b> 13/08/2023<br><b>Tweet:</b> @G2CSGO Can you show us the csgorollscam contract? I just wanna know how much does you dignity sells for",
          "<b>Name:</b> mostafa_xxxx<br><b>User Location:</b> Dubai - UAE<br><b>Verified?</b> False<br><b>Date:</b> 13/07/2023<br><b>Tweet:</b> @CSGOEmpireV2 @CSGORoll @CSGOEmpireV3 I wanna understand something pls \nCsgo roll is a scam site ? \nI have made it to almsot lvl 80 and getting fucked then it is a scam ? \nPls tell me @VIILines",
          "<b>Name:</b> 335ie90_<br><b>User Location:</b> Alabama, USA<br><b>Verified?</b> False<br><b>Date:</b> 26/03/2023<br><b>Tweet:</b> @R6Sharpz Csgo roll is such a scam. All online gambling is a joke",
          "<b>Name:</b> TONYWINS34<br><b>User Location:</b> Burlington, VT<br><b>Verified?</b> False<br><b>Date:</b> 15/06/2017<br><b>Tweet:</b> @NathanCSGORoll #csgorollscam\nDon't do free knife upgrades he scams you",
          "<b>Name:</b> boptilltheydrop<br><b>User Location:</b> nan<br><b>Verified?</b> False<br><b>Date:</b> 11/07/2017<br><b>Tweet:</b> @m0E_tv thx moe for telling me csgo roll isnt a scam i texted them about how i didnt get the 500 dollars and said it was a chatt error",
          "<b>Name:</b> tanay0786<br><b>User Location:</b> Mumbai, India<br><b>Verified?</b> False<br><b>Date:</b> 27/08/2021<br><b>Tweet:</b> @JaekCreates This site csgo roll is scam 😂😂😂🙂",
          "<b>Name:</b> theta2k<br><b>User Location:</b> nan<br><b>Verified?</b> False<br><b>Date:</b> 11/07/2023<br><b>Tweet:</b> @supr3meOfficial I find it really ironic trying to call out csgoroll for being a “scam” but then openly supporting CSGO Empire.\n\nYou guys don’t even use the word scam right, cause if it was the case csgo roll would’ve stolen money from people but I have yet to see a case where that has happened.",
          "<b>Name:</b> rambuslol<br><b>User Location:</b> Castelldefels, España 🇨🇦<br><b>Verified?</b> False<br><b>Date:</b> 11/12/2016<br><b>Tweet:</b> @sfdxpro si sigues así podremos denunciar a csgo roll por scam xD",
          "<b>Name:</b> ScreaM_DUH<br><b>User Location:</b> nan<br><b>Verified?</b> False<br><b>Date:</b> 24/04/2020<br><b>Tweet:</b> @WhatsReselling @NoxNotify @balkobot @ResellAIO @CookologyIO @AshburnProxies @10xServers csgo roll voltou a funcionar nao é scam ele voltou mesmo\n.\n.\nhttps://t.co/MxPWb64dvJ",
          "<b>Name:</b> Im_BigHoss<br><b>User Location:</b> Pittsburgh, PA<br><b>Verified?</b> False<br><b>Date:</b> 15/08/2023<br><b>Tweet:</b> Does anyone do any CSGO gambling? If so what sites are good tried CSGO roll sites a scam",
          "<b>Name:</b> NowZZalt<br><b>User Location:</b> nan<br><b>Verified?</b> False<br><b>Date:</b> 23/09/2023<br><b>Tweet:</b> @Holf471 I mean roll too and almost every csgo casino unregulated = they do what they want so scam for best profit",
          "<b>Name:</b> ZeusMVPGod<br><b>User Location:</b> Gent, België<br><b>Verified?</b> False<br><b>Date:</b> 19/12/2016<br><b>Tweet:</b> @CSGORoll csgo roll is a fucking scam site now i have 30 blocked https://t.co/fuECgDr37I",
          "<b>Name:</b> Smncxx<br><b>User Location:</b> nan<br><b>Verified?</b> False<br><b>Date:</b> 19/07/2023<br><b>Tweet:</b> @variancewarren Bro wtf we know this sites are scam , Montana don’t care about csgo roll anyway , and he is new nothing to do with it  . Btw he is unbanned",
          "<b>Name:</b> nugget62677626<br><b>User Location:</b> nan<br><b>Verified?</b> False<br><b>Date:</b> 28/09/2022<br><b>Tweet:</b> @_aorodrigo @CSGO_RoIl Change password quick it's a scam site it's not the official CSGO roll site",
          "<b>Name:</b> dlcofficial<br><b>User Location:</b> Mirage<br><b>Verified?</b> False<br><b>Date:</b> 27/09/2022<br><b>Tweet:</b> @Cti9001 @Nuubzaum @nocabcs @Thunder_Dovah @Noob81042802Nft @BBernabat @Jeremia42702774 @Justasadassboi @agustinmori44 More fake csgo roll bot scams? 🙄",
          "<b>Name:</b> valentingenov<br><b>User Location:</b> Pleven,Bulgaria<br><b>Verified?</b> False<br><b>Date:</b> 25/07/2023<br><b>Tweet:</b> @CSGOEmpire @TDM_Jesus @GrimzYoutube I like the idea behind exposing scam sites and such, but I feel like your personal agenda against the Roll owner is taking a toll on you... It's becoming a crazy witch hunt against any CSGO related persona that has something to do with it. Falling to the lvl of the bad guy 🫤",
          "<b>Name:</b> chaseDaviss<br><b>User Location:</b> San Antonio, TX<br><b>Verified?</b> False<br><b>Date:</b> 20/12/2017<br><b>Tweet:</b> @CSGORoll How do we know this is even the real csgo roll account? How do we know that this isn't a scam?",
          "<b>Name:</b> MateuszLenczews<br><b>User Location:</b> nan<br><b>Verified?</b> False<br><b>Date:</b> 18/07/2023<br><b>Tweet:</b> @PastStake @Zeebe_Csgo @variancewarren Dude, someone order you to depo when the withdraw page is empty? It isn't scummy at all but ppl are lacking of common sense.  During that time I've just collected dailies and I withdraw 600c gloves. Didn't put single cent on Roll. Where is this scam?",
          "<b>Name:</b> funnykid26YT<br><b>User Location:</b> Pennsylvania, USA<br><b>Verified?</b> False<br><b>Date:</b> 14/07/2023<br><b>Tweet:</b> @r0bzzzzzzz @nightcarries @LeandroEsc0bar @xenonthefriend @CSGOEmpireV2 @SparklesCSGOYT Bro their both scam sites lmaooo… monarch has also sponsored YouTubers with a high percentage of child audiences… so what’s exactly worse on csgo roll then empire lmaoo",
          "<b>Name:</b> LambdaMarcus<br><b>User Location:</b> On the grid.<br><b>Verified?</b> False<br><b>Date:</b> 13/06/2023<br><b>Tweet:</b> @CSGOEmpireV2 @CSGORoll Remember the  passing out flyers at the major about csgo roll, the guy gluing his hand on the button, the attempt to sabotage the withdrawal page on csgo roll, the people wearing csgo roll scam T-shirts. This violates many laws to name one the Sherman anti-trust law.",
          "<b>Name:</b> sfdxpro<br><b>User Location:</b> Planeta Tierra<br><b>Verified?</b> False<br><b>Date:</b> 09/03/2017<br><b>Tweet:</b> Atención Scam!! El 95% de las webs que tengan un guion ejemplo CSGO-lounge, csgo-lukye son scam! csgo-roll es como un detector de tontos! XD",
          "<b>Name:</b> WhoshOfficial<br><b>User Location:</b> Barcelona<br><b>Verified?</b> False<br><b>Date:</b> 13/08/2020<br><b>Tweet:</b> @Johny_csgo @CsgoVampire So, 72h went by. Are you going to roll it or is this a scam?",
          "<b>Name:</b> nvRcsgo<br><b>User Location:</b> Rosario, Argentina<br><b>Verified?</b> False<br><b>Date:</b> 06/11/2016<br><b>Tweet:</b> @VikingES_Gamer Viking acabo de sacar un cuchillo de csgo roll de 32usd y no me llega el trade ofert! ,es scam esa pagina?:O",
          "<b>Name:</b> CrunchyyTaco<br><b>User Location:</b> Kawartha Lakes, Ontario<br><b>Verified?</b> False<br><b>Date:</b> 05/05/2017<br><b>Tweet:</b> @VictorSvane @CSGORoll He tried to scam me with the exact same thing. I sent CSGO Roll screenshot about it about 1 hour and a half ago. That's probably whey they",
          "<b>Name:</b> sooyaaa__csgo<br><b>User Location:</b> de_inferno<br><b>Verified?</b> False<br><b>Date:</b> 17/05/2020<br><b>Tweet:</b> @litshapez Scam the others and send me that. \n\nKidding. Will be waiting for the roll :)",
          "<b>Name:</b> Maxc4Gaming<br><b>User Location:</b> .:MADRID:.<br><b>Verified?</b> False<br><b>Date:</b> 24/10/2017<br><b>Tweet:</b> @MatiuXcs me trolea..se hace pasar por moderador y pierdo 10 dólares en una pag scam y me voy a csgo roll y mira papa con 11 dólares jjaja @VikingES_Gamer q opinas https://t.co/3tDbBhANMZ",
          "<b>Name:</b> DillonGomes<br><b>User Location:</b> Melbourne, Australia<br><b>Verified?</b> False<br><b>Date:</b> 07/06/2021<br><b>Tweet:</b> @SARGE_FIFA I know nothing about CSGO roll but that website is corrupt and a scam, ong.",
          "<b>Name:</b> MrHarshRana<br><b>User Location:</b> India<br><b>Verified?</b> False<br><b>Date:</b> 14/07/2023<br><b>Tweet:</b> @variancewarren @CSGOEmpireV2 @VIILines I have tried every csgo gambling websites Roll was the worst even the scam Russian websites had better odds &amp; Withdrawal options",
          "<b>Name:</b> high_scam<br><b>User Location:</b> nan<br><b>Verified?</b> False<br><b>Date:</b> 09/03/2018<br><b>Tweet:</b> @ITS_ALX_ @CSGORoll The secret is to gamble smart, i made from 1 dollar up to 50k in 2 years, now i bought for myself an apartament where i can live and study for  university, and u have to stop when u win, always stop, i didnt make 50k on roll, i made it on csgo empire but is same shiet",
          "<b>Name:</b> Mg2148455079683<br><b>User Location:</b> nan<br><b>Verified?</b> False<br><b>Date:</b> 26/04/2023<br><b>Tweet:</b> #csgorollscam\n#csgoroll\n#koil",
          "<b>Name:</b> AnoNgambles<br><b>User Location:</b> Drop a sub! :)<br><b>Verified?</b> False<br><b>Date:</b> 07/11/2022<br><b>Tweet:</b> @jei_csgo no it's not a scam - I had no idea it could only roll when it had 200 people. It's half way there - please be patient",
          "<b>Name:</b> q_thatguy<br><b>User Location:</b> nan<br><b>Verified?</b> False<br><b>Date:</b> 15/05/2023<br><b>Tweet:</b> @HobbesHD While i can agree with you that it would be good for roll to take accountability. These issues and deceptive practises take place on most CSGO gambling sites. With deceptive practises to nasty scams, i feel like its time for a more broader change in the entire community.",
          "<b>Name:</b> bibanator<br><b>User Location:</b> Simbabwe<br><b>Verified?</b> False<br><b>Date:</b> 06/03/2022<br><b>Tweet:</b> @F3lix__ Alle Seiten haben ein PVF System und Roll ist derzeit mit Abstand die größte CSGO related gamble page weltweit. Da ist nichts scam. House edge ist da übrigens auch niedriger als bei keydrop und die Skinpreise an buff angepasst, also von daher kann das sowieso nicht sein.",
          "<b>Name:</b> DexertoEsports<br><b>User Location:</b> Esports<br><b>Verified?</b> False<br><b>Date:</b> 02/05/2023<br><b>Tweet:</b> European Esports Organization, G2 Esports are welcoming CS:GO Roll as their newest CS Skin Gambling sponsor\n\nHowever they are facing backlash after using m0NESY as the face of the partnership a day after just turning 18\n\nhttps://t.co/E5yrud0qv9",
          "<b>Name:</b> rpesteves<br><b>User Location:</b> nan<br><b>Verified?</b> False<br><b>Date:</b> 02/05/2023<br><b>Tweet:</b> CS:GO Roll patrocinar os G2, W ou L ?",
          "<b>Name:</b> Knaightzz<br><b>User Location:</b> Cologne, Germany<br><b>Verified?</b> False<br><b>Date:</b> 18/08/2023<br><b>Tweet:</b> @StaubK9 @G2CSGO CS:GO Roll Sponsor. They (and by that I mean G2&amp;CSGORoll) got a lot of flack for their partnership and the company in general. I guess they G2 the right thing and distanced themselves from CSGORoll.",
          "<b>Name:</b> xenonthefriend<br><b>User Location:</b> nan<br><b>Verified?</b> False<br><b>Date:</b> 30/07/2023<br><b>Tweet:</b> @JoopiiMonarch \"We are very excited to partner with CS:GO Roll enabling G2 fans to get a chance to earn the rare skin they always dreamed of!” - @AlbanDechelotte. Thank you Alban, now I am going to take out a loan and start gambl.. I mean earning those rare skins!",
          "<b>Name:</b> don_beppe_<br><b>User Location:</b> inspect server<br><b>Verified?</b> False<br><b>Date:</b> 27/07/2023<br><b>Tweet:</b> After G2 shit + taking CS:GO Roll as main sponsor I couldn't find team that I really like out there (maybe heroic and a little bit vitality) but now after Neo announcement in FaZe I think that I have new favourite team.",
          "<b>Name:</b> itsVnmzCS<br><b>User Location:</b> Austria<br><b>Verified?</b> False<br><b>Date:</b> 02/05/2023<br><b>Tweet:</b> @G2CSGO \"on a mission to elevate and enhance the player’s in-game experience at every opportunity with innovation at its core.\" \"CS:GO Roll enables G2 fans to get a chance to earn the rare skin they always dreamed of\"💀💀",
          "<b>Name:</b> nextlevel_br<br><b>User Location:</b> nan<br><b>Verified?</b> False<br><b>Date:</b> 23/05/2023<br><b>Tweet:</b> O cara colou a mão dele na máquina da ativação que tinha no Major de CS:GO 😱\n\nEle fez isso em forma de protesto contra o site 'CSGO Roll', que fez a ativação em parceria com a G2\nhttps://t.co/DFK0DEdvSu",
          "<b>Name:</b> DQUANPICKS<br><b>User Location:</b> VIP ACCESS ➡️<br><b>Verified?</b> False<br><b>Date:</b> 29/08/2020<br><b>Tweet:</b> 8/29 CS:GO/KBO \n\nHeroic ML -120 over G2 for 3u\nDinos/Giants MLP -135 5u🔥\n\nStraily has a 1.59 ERA vs. Eagles, Rucinski has a 1.50 ERA vs SK. I don’t think they’ll give up runs at all. lets roll &amp; sweep the board. Anyone rocking w me?",
          "<b>Name:</b> thebeebets<br><b>User Location:</b> Cashing Tickets<br><b>Verified?</b> False<br><b>Date:</b> 01/07/2020<br><b>Tweet:</b> eSports (CS:GO)\n\n4u FaZe/G2 ML PARLAY (-130)\n\nStarts in 40 mins. Lock it in and let’s roll. Also like FaZe -1.5 and G2 ML if you can’t parlay.",
          "<b>Name:</b> T_fuxing_T<br><b>User Location:</b> nan<br><b>Verified?</b> False<br><b>Date:</b> 18/08/2023<br><b>Tweet:</b> G2 main channel has blurred csgo roll lmfao",
          "<b>Name:</b> steve_rho<br><b>User Location:</b> nan<br><b>Verified?</b> False<br><b>Date:</b> 18/08/2023<br><b>Tweet:</b> Did G2 drop CSGO Roll as a sponsor? @G2CSGO",
          "<b>Name:</b> s1k0s<br><b>User Location:</b> nan<br><b>Verified?</b> False<br><b>Date:</b> 05/05/2023<br><b>Tweet:</b> @BanKsEsports Betting site that has been promoted for years from navi, yet g2 are blamed for csgo roll.",
          "<b>Name:</b> kioshimm<br><b>User Location:</b> Gaming World <br><b>Verified?</b> False<br><b>Date:</b> 15/05/2023<br><b>Tweet:</b> @TDM_Jesus F G2 g csgo roll. Make us loose too",
          "<b>Name:</b> Knaightzz<br><b>User Location:</b> Cologne, Germany<br><b>Verified?</b> False<br><b>Date:</b> 01/08/2023<br><b>Tweet:</b> @HOUNGOUNGAGNE did you see G2 apparently kicked CSGO:Roll from their jersey? At least therey taped it over with another logo. you know if it‘s just bc of cologne or permanent?",
          "<b>Name:</b> Vareotoroute<br><b>User Location:</b> Saint-Etienne, France<br><b>Verified?</b> False<br><b>Date:</b> 21/05/2023<br><b>Tweet:</b> @G2CSGO Ok but when can we register for the CSGO Roll x G2 giveaway.",
          "<b>Name:</b> MCRmat<br><b>User Location:</b> nan<br><b>Verified?</b> False<br><b>Date:</b> 19/07/2023<br><b>Tweet:</b> @variancewarren Isn't g2 sponsored by csgo roll.",
          "<b>Name:</b> prof1leCS<br><b>User Location:</b> nan<br><b>Verified?</b> False<br><b>Date:</b> 14/05/2022<br><b>Tweet:</b> @G2esports lets gooooo g2 csgo roll doubting hard! https://t.co/HL8JvKWFaf",
          "<b>Name:</b> 7hellcs<br><b>User Location:</b> 2610 Rødovre<br><b>Verified?</b> False<br><b>Date:</b> 10/05/2022<br><b>Tweet:</b> @G2esports @AleksibCSGO @G2m0NESY @G2NiKo @G2huNter @JACKZ_CSGO @XTQZZZ @G2Swani Carlos kinda on a roll atm... Surely G2 will win either MSI or PGL right?🙃",
          "<b>Name:</b> ra6b1t_5P1n<br><b>User Location:</b> nan<br><b>Verified?</b> False<br><b>Date:</b> 19/12/2022<br><b>Tweet:</b> g2！#roll #csgo #blast #g2 https://t.co/q6Cb9gTmZb",
          "<b>Name:</b> rat_messiah<br><b>User Location:</b> nan<br><b>Verified?</b> False<br><b>Date:</b> 12/08/2023<br><b>Tweet:</b> @phnxssbm https://t.co/FDn6lIF56M\n\nNothing tops g2 x CSGO roll",
          "<b>Name:</b> zephiK0<br><b>User Location:</b> New York<br><b>Verified?</b> False<br><b>Date:</b> 02/08/2023<br><b>Tweet:</b> @Dexerto And organizations that are sponsored by them like G2 and CSGO Roll",
          "<b>Name:</b> ____teff<br><b>User Location:</b> Los Angeles, CA<br><b>Verified?</b> False<br><b>Date:</b> 29/06/2023<br><b>Tweet:</b> @kwaxxi How does Valve ban feeders of a website that sponsors G2’s CSGO team. Seems a bit clusterfucked; okay for roll to be a sponsor, not okay to sell items to roll. 💀",
          "<b>Name:</b> Ad1tyaKale<br><b>User Location:</b> Pune, India<br><b>Verified?</b> False<br><b>Date:</b> 06/08/2023<br><b>Tweet:</b> @G2EsportsCsgo  congratulations on the IEM COLOGNE Win.\n@G2NiKo  you beauty.\nFirst Katowice and now Cologne.\nG2 is on a roll.\nAlthough this was the last CSGO championship, couldn’t have ended in a better way.\nReally want to see G2 win the grand slam next year.",
          "<b>Name:</b> TheSomwon<br><b>User Location:</b> (☞ ͡° ͜ʖ ͡°)☞<br><b>Verified?</b> False<br><b>Date:</b> 18/05/2023<br><b>Tweet:</b> @MaisEpee Ouais stand g2 CSGO Roll qui régale",
          "<b>Name:</b> xX1TopShotXx<br><b>User Location:</b> nan<br><b>Verified?</b> False<br><b>Date:</b> 29/06/2023<br><b>Tweet:</b> @RealJonahBlake @wyethridgway Not accusations and not laundering, it was gambling related, plus it’s not like Valve doesn’t see trade history 😂 everyone knew this was coming for like 3 months with their TOS update. \n\nIn the scene, CSGO Roll sponsored G2 and put their logo at this past major, basically…",
          "<b>Name:</b> MarioReL_CSGO<br><b>User Location:</b> Rennes, France<br><b>Verified?</b> False<br><b>Date:</b> 15/11/2017<br><b>Tweet:</b> @Maj3r_ Gambit will roll on G2 as always, nothing interessting",
          "<b>Name:</b> Timi7272<br><b>User Location:</b> Dust 2<br><b>Verified?</b> False<br><b>Date:</b> 21/05/2023<br><b>Tweet:</b> @bibanator Die Schlange bei csgo roll (bzw g2) war bodenlos lang https://t.co/4IxSgD2tC3",
          "<b>Name:</b> rylanx_<br><b>User Location:</b> nan<br><b>Verified?</b> False<br><b>Date:</b> 18/07/2023<br><b>Tweet:</b> @pricempire @TDM_Jesus @hwetrades336 csgo roll g2 sponsor at last csgo major xd",
          "<b>Name:</b> PinnacleEsports<br><b>User Location:</b> 18+<br><b>Verified?</b> False<br><b>Date:</b> 23/02/2023<br><b>Tweet:</b> Oh boy, oh boy, oh boy! Can't wait for @G2esports 🆚 @C9CSGO in the #CSGO #ESLProLeague 🤩. G2 is on a roll but C9 is not weak at all! Who will take their team to victory? @G2NiKo or @Ax1LeGOD ?🤔 https://t.co/Up1k6lUtH8",
          "<b>Name:</b> LockItIn7<br><b>User Location:</b> nan<br><b>Verified?</b> False<br><b>Date:</b> 27/06/2020<br><b>Tweet:</b> Found a CSGO play that we are liking starting in about 30 minutes!\n\nG2 Esports -1.5 maps +100 1.5U\n\nThey looked so good the other day I think they can come in and steam roll once again on a lower ranked opponent!✊🏻🤑🔥 #Lockitin #Freepicks #CSGO",
          "<b>Name:</b> Maniac_CSGO<br><b>User Location:</b> Berne, Switzerland<br><b>Verified?</b> False<br><b>Date:</b> 23/01/2023<br><b>Tweet:</b> If G2 deliver in Copenhagen,\n\nThey'll roll up in Katowice,\n\nAs favourite. #BLASTPremier",
          "<b>Name:</b> csgo_unknown<br><b>User Location:</b> Fort Drum, NY<br><b>Verified?</b> False<br><b>Date:</b> 31/05/2016<br><b>Tweet:</b> HERE WE GO G2 Lets Face roll baby! @EL",
          "<b>Name:</b> Sagemadarq<br><b>User Location:</b> Chasm of the abyss<br><b>Verified?</b> False<br><b>Date:</b> 10/05/2023<br><b>Tweet:</b> @Alkem1stCS @CSGOEmpireV2 they accuse csgo roll of having a deceiving withrawal systeme, a worse P2P systeme and that csgoroll claims its the biggest skins marketplace, when infact its an online casino, also G2 scandale",
          "<b>Name:</b> nextlevel_br<br><b>User Location:</b> nan<br><b>Verified?</b> False<br><b>Date:</b> 23/05/2023<br><b>Tweet:</b> O cara colou a mão dele na máquina da ativação que tinha no Major de CS:GO 😱\n\nEle fez isso em forma de protesto contra o site 'CSGO Roll', que fez a ativação em parceria com a G2\nhttps://t.co/DFK0DEdvSu",
          "<b>Name:</b> aim_assist100<br><b>User Location:</b> Australia<br><b>Verified?</b> False<br><b>Date:</b> 02/05/2023<br><b>Tweet:</b> We’re on a roll! AAA esports tip for today\n\nLOL MSI G2 66.10% Win Probability \n\nCSGO ESL Strife 55.97% Win Probability from AAA\n\nOur pick, G2 &amp; Limitless with a 1.5+ handicap paying $2.64 on https://t.co/ipHVlm6P3g\n\nKeep the love coming on the posts and we'll keep the tips coming https://t.co/9FUcsKEr6m",
          "<b>Name:</b> Aks_csgo<br><b>User Location:</b> nan<br><b>Verified?</b> False<br><b>Date:</b> 31/08/2017<br><b>Tweet:</b> Grâce à G2 blodyy ce produit sera topvente Amazon demain 😂\nRockTape Kinesiology 2 Pouce Roll Support Tape - Noir https://t.co/z5EmLORjFa",
          "<b>Name:</b> trc_api<br><b>User Location:</b> nan<br><b>Verified?</b> False<br><b>Date:</b> 24/07/2023<br><b>Tweet:</b> Feeling nostalgic? 💭💥 Roll back the clock with us ESLCS for a killer rerun! G2 Esports vs Astralis, IEM Cologne 2021 Semifinal, lighting up the screen for 499 avid gamers 🎮⚡ Experience that Nuke Map adrenaline again at https://t.co/l7sjZkTtml #CSGO #RerunRumble"
         ],
         "type": "scattermapbox"
        }
       ],
       "layout": {
        "height": 650,
        "mapbox": {
         "center": {
          "lat": 46.3144754,
          "lon": 11.0480288
         },
         "style": "carto-positron",
         "zoom": 0.5
        },
        "template": {
         "data": {
          "bar": [
           {
            "error_x": {
             "color": "#2a3f5f"
            },
            "error_y": {
             "color": "#2a3f5f"
            },
            "marker": {
             "line": {
              "color": "#E5ECF6",
              "width": 0.5
             },
             "pattern": {
              "fillmode": "overlay",
              "size": 10,
              "solidity": 0.2
             }
            },
            "type": "bar"
           }
          ],
          "barpolar": [
           {
            "marker": {
             "line": {
              "color": "#E5ECF6",
              "width": 0.5
             },
             "pattern": {
              "fillmode": "overlay",
              "size": 10,
              "solidity": 0.2
             }
            },
            "type": "barpolar"
           }
          ],
          "carpet": [
           {
            "aaxis": {
             "endlinecolor": "#2a3f5f",
             "gridcolor": "white",
             "linecolor": "white",
             "minorgridcolor": "white",
             "startlinecolor": "#2a3f5f"
            },
            "baxis": {
             "endlinecolor": "#2a3f5f",
             "gridcolor": "white",
             "linecolor": "white",
             "minorgridcolor": "white",
             "startlinecolor": "#2a3f5f"
            },
            "type": "carpet"
           }
          ],
          "choropleth": [
           {
            "colorbar": {
             "outlinewidth": 0,
             "ticks": ""
            },
            "type": "choropleth"
           }
          ],
          "contour": [
           {
            "colorbar": {
             "outlinewidth": 0,
             "ticks": ""
            },
            "colorscale": [
             [
              0,
              "#0d0887"
             ],
             [
              0.1111111111111111,
              "#46039f"
             ],
             [
              0.2222222222222222,
              "#7201a8"
             ],
             [
              0.3333333333333333,
              "#9c179e"
             ],
             [
              0.4444444444444444,
              "#bd3786"
             ],
             [
              0.5555555555555556,
              "#d8576b"
             ],
             [
              0.6666666666666666,
              "#ed7953"
             ],
             [
              0.7777777777777778,
              "#fb9f3a"
             ],
             [
              0.8888888888888888,
              "#fdca26"
             ],
             [
              1,
              "#f0f921"
             ]
            ],
            "type": "contour"
           }
          ],
          "contourcarpet": [
           {
            "colorbar": {
             "outlinewidth": 0,
             "ticks": ""
            },
            "type": "contourcarpet"
           }
          ],
          "heatmap": [
           {
            "colorbar": {
             "outlinewidth": 0,
             "ticks": ""
            },
            "colorscale": [
             [
              0,
              "#0d0887"
             ],
             [
              0.1111111111111111,
              "#46039f"
             ],
             [
              0.2222222222222222,
              "#7201a8"
             ],
             [
              0.3333333333333333,
              "#9c179e"
             ],
             [
              0.4444444444444444,
              "#bd3786"
             ],
             [
              0.5555555555555556,
              "#d8576b"
             ],
             [
              0.6666666666666666,
              "#ed7953"
             ],
             [
              0.7777777777777778,
              "#fb9f3a"
             ],
             [
              0.8888888888888888,
              "#fdca26"
             ],
             [
              1,
              "#f0f921"
             ]
            ],
            "type": "heatmap"
           }
          ],
          "heatmapgl": [
           {
            "colorbar": {
             "outlinewidth": 0,
             "ticks": ""
            },
            "colorscale": [
             [
              0,
              "#0d0887"
             ],
             [
              0.1111111111111111,
              "#46039f"
             ],
             [
              0.2222222222222222,
              "#7201a8"
             ],
             [
              0.3333333333333333,
              "#9c179e"
             ],
             [
              0.4444444444444444,
              "#bd3786"
             ],
             [
              0.5555555555555556,
              "#d8576b"
             ],
             [
              0.6666666666666666,
              "#ed7953"
             ],
             [
              0.7777777777777778,
              "#fb9f3a"
             ],
             [
              0.8888888888888888,
              "#fdca26"
             ],
             [
              1,
              "#f0f921"
             ]
            ],
            "type": "heatmapgl"
           }
          ],
          "histogram": [
           {
            "marker": {
             "pattern": {
              "fillmode": "overlay",
              "size": 10,
              "solidity": 0.2
             }
            },
            "type": "histogram"
           }
          ],
          "histogram2d": [
           {
            "colorbar": {
             "outlinewidth": 0,
             "ticks": ""
            },
            "colorscale": [
             [
              0,
              "#0d0887"
             ],
             [
              0.1111111111111111,
              "#46039f"
             ],
             [
              0.2222222222222222,
              "#7201a8"
             ],
             [
              0.3333333333333333,
              "#9c179e"
             ],
             [
              0.4444444444444444,
              "#bd3786"
             ],
             [
              0.5555555555555556,
              "#d8576b"
             ],
             [
              0.6666666666666666,
              "#ed7953"
             ],
             [
              0.7777777777777778,
              "#fb9f3a"
             ],
             [
              0.8888888888888888,
              "#fdca26"
             ],
             [
              1,
              "#f0f921"
             ]
            ],
            "type": "histogram2d"
           }
          ],
          "histogram2dcontour": [
           {
            "colorbar": {
             "outlinewidth": 0,
             "ticks": ""
            },
            "colorscale": [
             [
              0,
              "#0d0887"
             ],
             [
              0.1111111111111111,
              "#46039f"
             ],
             [
              0.2222222222222222,
              "#7201a8"
             ],
             [
              0.3333333333333333,
              "#9c179e"
             ],
             [
              0.4444444444444444,
              "#bd3786"
             ],
             [
              0.5555555555555556,
              "#d8576b"
             ],
             [
              0.6666666666666666,
              "#ed7953"
             ],
             [
              0.7777777777777778,
              "#fb9f3a"
             ],
             [
              0.8888888888888888,
              "#fdca26"
             ],
             [
              1,
              "#f0f921"
             ]
            ],
            "type": "histogram2dcontour"
           }
          ],
          "mesh3d": [
           {
            "colorbar": {
             "outlinewidth": 0,
             "ticks": ""
            },
            "type": "mesh3d"
           }
          ],
          "parcoords": [
           {
            "line": {
             "colorbar": {
              "outlinewidth": 0,
              "ticks": ""
             }
            },
            "type": "parcoords"
           }
          ],
          "pie": [
           {
            "automargin": true,
            "type": "pie"
           }
          ],
          "scatter": [
           {
            "fillpattern": {
             "fillmode": "overlay",
             "size": 10,
             "solidity": 0.2
            },
            "type": "scatter"
           }
          ],
          "scatter3d": [
           {
            "line": {
             "colorbar": {
              "outlinewidth": 0,
              "ticks": ""
             }
            },
            "marker": {
             "colorbar": {
              "outlinewidth": 0,
              "ticks": ""
             }
            },
            "type": "scatter3d"
           }
          ],
          "scattercarpet": [
           {
            "marker": {
             "colorbar": {
              "outlinewidth": 0,
              "ticks": ""
             }
            },
            "type": "scattercarpet"
           }
          ],
          "scattergeo": [
           {
            "marker": {
             "colorbar": {
              "outlinewidth": 0,
              "ticks": ""
             }
            },
            "type": "scattergeo"
           }
          ],
          "scattergl": [
           {
            "marker": {
             "colorbar": {
              "outlinewidth": 0,
              "ticks": ""
             }
            },
            "type": "scattergl"
           }
          ],
          "scattermapbox": [
           {
            "marker": {
             "colorbar": {
              "outlinewidth": 0,
              "ticks": ""
             }
            },
            "type": "scattermapbox"
           }
          ],
          "scatterpolar": [
           {
            "marker": {
             "colorbar": {
              "outlinewidth": 0,
              "ticks": ""
             }
            },
            "type": "scatterpolar"
           }
          ],
          "scatterpolargl": [
           {
            "marker": {
             "colorbar": {
              "outlinewidth": 0,
              "ticks": ""
             }
            },
            "type": "scatterpolargl"
           }
          ],
          "scatterternary": [
           {
            "marker": {
             "colorbar": {
              "outlinewidth": 0,
              "ticks": ""
             }
            },
            "type": "scatterternary"
           }
          ],
          "surface": [
           {
            "colorbar": {
             "outlinewidth": 0,
             "ticks": ""
            },
            "colorscale": [
             [
              0,
              "#0d0887"
             ],
             [
              0.1111111111111111,
              "#46039f"
             ],
             [
              0.2222222222222222,
              "#7201a8"
             ],
             [
              0.3333333333333333,
              "#9c179e"
             ],
             [
              0.4444444444444444,
              "#bd3786"
             ],
             [
              0.5555555555555556,
              "#d8576b"
             ],
             [
              0.6666666666666666,
              "#ed7953"
             ],
             [
              0.7777777777777778,
              "#fb9f3a"
             ],
             [
              0.8888888888888888,
              "#fdca26"
             ],
             [
              1,
              "#f0f921"
             ]
            ],
            "type": "surface"
           }
          ],
          "table": [
           {
            "cells": {
             "fill": {
              "color": "#EBF0F8"
             },
             "line": {
              "color": "white"
             }
            },
            "header": {
             "fill": {
              "color": "#C8D4E3"
             },
             "line": {
              "color": "white"
             }
            },
            "type": "table"
           }
          ]
         },
         "layout": {
          "annotationdefaults": {
           "arrowcolor": "#2a3f5f",
           "arrowhead": 0,
           "arrowwidth": 1
          },
          "autotypenumbers": "strict",
          "coloraxis": {
           "colorbar": {
            "outlinewidth": 0,
            "ticks": ""
           }
          },
          "colorscale": {
           "diverging": [
            [
             0,
             "#8e0152"
            ],
            [
             0.1,
             "#c51b7d"
            ],
            [
             0.2,
             "#de77ae"
            ],
            [
             0.3,
             "#f1b6da"
            ],
            [
             0.4,
             "#fde0ef"
            ],
            [
             0.5,
             "#f7f7f7"
            ],
            [
             0.6,
             "#e6f5d0"
            ],
            [
             0.7,
             "#b8e186"
            ],
            [
             0.8,
             "#7fbc41"
            ],
            [
             0.9,
             "#4d9221"
            ],
            [
             1,
             "#276419"
            ]
           ],
           "sequential": [
            [
             0,
             "#0d0887"
            ],
            [
             0.1111111111111111,
             "#46039f"
            ],
            [
             0.2222222222222222,
             "#7201a8"
            ],
            [
             0.3333333333333333,
             "#9c179e"
            ],
            [
             0.4444444444444444,
             "#bd3786"
            ],
            [
             0.5555555555555556,
             "#d8576b"
            ],
            [
             0.6666666666666666,
             "#ed7953"
            ],
            [
             0.7777777777777778,
             "#fb9f3a"
            ],
            [
             0.8888888888888888,
             "#fdca26"
            ],
            [
             1,
             "#f0f921"
            ]
           ],
           "sequentialminus": [
            [
             0,
             "#0d0887"
            ],
            [
             0.1111111111111111,
             "#46039f"
            ],
            [
             0.2222222222222222,
             "#7201a8"
            ],
            [
             0.3333333333333333,
             "#9c179e"
            ],
            [
             0.4444444444444444,
             "#bd3786"
            ],
            [
             0.5555555555555556,
             "#d8576b"
            ],
            [
             0.6666666666666666,
             "#ed7953"
            ],
            [
             0.7777777777777778,
             "#fb9f3a"
            ],
            [
             0.8888888888888888,
             "#fdca26"
            ],
            [
             1,
             "#f0f921"
            ]
           ]
          },
          "colorway": [
           "#636efa",
           "#EF553B",
           "#00cc96",
           "#ab63fa",
           "#FFA15A",
           "#19d3f3",
           "#FF6692",
           "#B6E880",
           "#FF97FF",
           "#FECB52"
          ],
          "font": {
           "color": "#2a3f5f"
          },
          "geo": {
           "bgcolor": "white",
           "lakecolor": "white",
           "landcolor": "#E5ECF6",
           "showlakes": true,
           "showland": true,
           "subunitcolor": "white"
          },
          "hoverlabel": {
           "align": "left"
          },
          "hovermode": "closest",
          "mapbox": {
           "style": "light"
          },
          "paper_bgcolor": "white",
          "plot_bgcolor": "#E5ECF6",
          "polar": {
           "angularaxis": {
            "gridcolor": "white",
            "linecolor": "white",
            "ticks": ""
           },
           "bgcolor": "#E5ECF6",
           "radialaxis": {
            "gridcolor": "white",
            "linecolor": "white",
            "ticks": ""
           }
          },
          "scene": {
           "xaxis": {
            "backgroundcolor": "#E5ECF6",
            "gridcolor": "white",
            "gridwidth": 2,
            "linecolor": "white",
            "showbackground": true,
            "ticks": "",
            "zerolinecolor": "white"
           },
           "yaxis": {
            "backgroundcolor": "#E5ECF6",
            "gridcolor": "white",
            "gridwidth": 2,
            "linecolor": "white",
            "showbackground": true,
            "ticks": "",
            "zerolinecolor": "white"
           },
           "zaxis": {
            "backgroundcolor": "#E5ECF6",
            "gridcolor": "white",
            "gridwidth": 2,
            "linecolor": "white",
            "showbackground": true,
            "ticks": "",
            "zerolinecolor": "white"
           }
          },
          "shapedefaults": {
           "line": {
            "color": "#2a3f5f"
           }
          },
          "ternary": {
           "aaxis": {
            "gridcolor": "white",
            "linecolor": "white",
            "ticks": ""
           },
           "baxis": {
            "gridcolor": "white",
            "linecolor": "white",
            "ticks": ""
           },
           "bgcolor": "#E5ECF6",
           "caxis": {
            "gridcolor": "white",
            "linecolor": "white",
            "ticks": ""
           }
          },
          "title": {
           "x": 0.05
          },
          "xaxis": {
           "automargin": true,
           "gridcolor": "white",
           "linecolor": "white",
           "ticks": "",
           "title": {
            "standoff": 15
           },
           "zerolinecolor": "white",
           "zerolinewidth": 2
          },
          "yaxis": {
           "automargin": true,
           "gridcolor": "white",
           "linecolor": "white",
           "ticks": "",
           "title": {
            "standoff": 15
           },
           "zerolinecolor": "white",
           "zerolinewidth": 2
          }
         }
        },
        "title": {
         "text": "Locations of G2/CSGO Roll-related Tweets"
        },
        "width": 900
       }
      }
     },
     "metadata": {},
     "output_type": "display_data"
    }
   ],
   "source": [
    "# Create text hover template\n",
    "scatterhover = ('<b>Name:</b> ' + tweets_final['username'].astype(str) + '<br>' +\n",
    "                '<b>User Location:</b> ' + tweets_final['location'].astype(str) + '<br>' +\n",
    "                '<b>Verified?</b> ' + tweets_final['verified'].astype(str) + '<br>' +\n",
    "                '<b>Date:</b> ' + tweets_final['created_at'].astype(str) + '<br>' +\n",
    "                '<b>Tweet:</b> ' + tweets_final['full_text'].astype(str)\n",
    ")\n",
    "\n",
    "# Create a Scatter map figure with data for Locations of G2/CSGO Roll-related Tweets\n",
    "scattermap = go.Figure(go.Scattermapbox(lat=tweets_final['geometry'].y,\n",
    "                                        lon=tweets_final['geometry'].x,\n",
    "                                        mode='markers',\n",
    "                                        marker=dict(size=7.5,\n",
    "                                                    colorscale='sunset',\n",
    "                                                    opacity=0.8,\n",
    "                                                    symbol='circle'),\n",
    "                                        text=scatterhover)\n",
    ")\n",
    "\n",
    "# Set the layout of the Scatter map figure, including the title, the map attributes, the plot height and the plot width\n",
    "scattermap.update_layout(title='Locations of G2/CSGO Roll-related Tweets',\n",
    "                         mapbox=dict(style='carto-positron',\n",
    "                                     center=dict(lat=tweets_final['geometry'].y.median(),\n",
    "                                                 lon=tweets_final['geometry'].x.median()),\n",
    "                                     zoom=0.5),\n",
    "                         height=650,\n",
    "                         width=900\n",
    ")\n",
    "\n",
    "# Show the Scatter map figure\n",
    "scattermap.show()"
   ]
  },
  {
   "attachments": {},
   "cell_type": "markdown",
   "metadata": {},
   "source": [
    "Here we use a Scatter map. The scatter map is a visual representation of the geographical distribution of tweets related to the G2/CSGORoll sponsorship. Using the Plotly library, and the Mapbox API, markers are placed on the map that correspond to the approximate location of each tweet and where it originated from. The map uses the 'carto-positron' Mapbox style, and uses the latitude and longitude coordinates, which are derived from the 'geometry' column in the dataset, to plot each tweet. This enables the scatter map to accurately position each tweet on a map of the world, providing a bird's-eye view of the global conversation around the sponsorship."
   ]
  },
  {
   "cell_type": "code",
   "execution_count": 17,
   "metadata": {},
   "outputs": [],
   "source": [
    "tweets_final['polarity']=0.0\n",
    "tweets_final['subjectivity']=0.0\n",
    "\n",
    "for i, row in tweets_final.iterrows():\n",
    "    text = row['full_text']\n",
    "\n",
    "    blob = TextBlob(text)\n",
    "    \n",
    "    polarity = blob.sentiment.polarity\n",
    "    subjectivity = blob.sentiment.subjectivity\n",
    "    \n",
    "    tweets_final.at[i, 'polarity'] = polarity\n",
    "    tweets_final.at[i, 'subjectivity'] = subjectivity"
   ]
  },
  {
   "cell_type": "code",
   "execution_count": 18,
   "metadata": {},
   "outputs": [
    {
     "data": {
      "text/html": [
       "<div>\n",
       "<style scoped>\n",
       "    .dataframe tbody tr th:only-of-type {\n",
       "        vertical-align: middle;\n",
       "    }\n",
       "\n",
       "    .dataframe tbody tr th {\n",
       "        vertical-align: top;\n",
       "    }\n",
       "\n",
       "    .dataframe thead th {\n",
       "        text-align: right;\n",
       "    }\n",
       "</style>\n",
       "<table border=\"1\" class=\"dataframe\">\n",
       "  <thead>\n",
       "    <tr style=\"text-align: right;\">\n",
       "      <th></th>\n",
       "      <th>username</th>\n",
       "      <th>polarity</th>\n",
       "      <th>subjectivity</th>\n",
       "    </tr>\n",
       "  </thead>\n",
       "  <tbody>\n",
       "    <tr>\n",
       "      <th>0</th>\n",
       "      <td>fyta_ow</td>\n",
       "      <td>-0.041667</td>\n",
       "      <td>0.5</td>\n",
       "    </tr>\n",
       "    <tr>\n",
       "      <th>1</th>\n",
       "      <td>Al_Azawi987</td>\n",
       "      <td>0.200000</td>\n",
       "      <td>0.2</td>\n",
       "    </tr>\n",
       "    <tr>\n",
       "      <th>2</th>\n",
       "      <td>mostafa_xxxx</td>\n",
       "      <td>-0.600000</td>\n",
       "      <td>0.7</td>\n",
       "    </tr>\n",
       "    <tr>\n",
       "      <th>3</th>\n",
       "      <td>335ie90_</td>\n",
       "      <td>0.000000</td>\n",
       "      <td>0.5</td>\n",
       "    </tr>\n",
       "    <tr>\n",
       "      <th>4</th>\n",
       "      <td>TONYWINS34</td>\n",
       "      <td>0.400000</td>\n",
       "      <td>0.8</td>\n",
       "    </tr>\n",
       "  </tbody>\n",
       "</table>\n",
       "</div>"
      ],
      "text/plain": [
       "       username  polarity  subjectivity\n",
       "0       fyta_ow -0.041667           0.5\n",
       "1   Al_Azawi987  0.200000           0.2\n",
       "2  mostafa_xxxx -0.600000           0.7\n",
       "3      335ie90_  0.000000           0.5\n",
       "4    TONYWINS34  0.400000           0.8"
      ]
     },
     "metadata": {},
     "output_type": "display_data"
    }
   ],
   "source": [
    "display(tweets_final.loc[:, ['username', 'polarity', 'subjectivity']].head())"
   ]
  },
  {
   "cell_type": "code",
   "execution_count": 19,
   "metadata": {},
   "outputs": [],
   "source": [
    "# Create text hover template to be used in future plots\n",
    "sentimenthover = ('<b>Name:</b> ' + tweets_final['username'].astype(str) + '<br>' +\n",
    "                  '<b>User Location:</b> ' + tweets_final['location'].astype(str) + '<br>' +\n",
    "                  '<b>Verified?</b> ' + tweets_final['verified'].astype(str) + '<br>' +\n",
    "                  '<b>Date:</b> ' + tweets_final['created_at'].astype(str) + '<br>' +\n",
    "                  '<b>Tweet:</b> ' + tweets_final['full_text'].astype(str) +\n",
    "                  '<b>Polarity:</b> ' + tweets_final['polarity'].astype(str) + '<br>' +\n",
    "                  '<b>Subjectivity:</b> ' + tweets_final['subjectivity'].astype(str)\n",
    ")"
   ]
  },
  {
   "attachments": {},
   "cell_type": "markdown",
   "metadata": {},
   "source": [
    "Sentiment analysis is a powerful tool that can help us understand the emotions and attitudes of people on social media towards the G2/CSGORoll sponsorship. To perform sentiment analysis on the tweets dataset, we use the TextBlob library, a popular natural language processing tool in Python. TextBlob offers a range of features for text analysis, including sentiment analysis, which allows us to determine the positivity or negativity of a text, as well as the degree of personal opinion or emotion expressed.\n",
    "\n",
    "To calculate the Polarity and Subjectivity values for each tweet, we apply sentiment analysis to the text of each tweet. Polarity ranges from -1 to 1 and reflects the degree of positivity or negativity of a text, with 0 being neutral. Subjectivity ranges from 0 to 1 and reflects the degree of personal opinion or emotion expressed in a text, with 0 being objective and 1 being highly subjective.\n",
    "\n",
    "Sentiment analysis is not perfect, however. This is due to computers not having the ability to accurately detect sarcasm or irony, or to account for cultural or linguistic differences in the training data."
   ]
  },
  {
   "attachments": {},
   "cell_type": "markdown",
   "metadata": {},
   "source": [
    "##### Polarity"
   ]
  },
  {
   "cell_type": "code",
   "execution_count": 20,
   "metadata": {},
   "outputs": [
    {
     "data": {
      "application/vnd.plotly.v1+json": {
       "config": {
        "plotlyServerURL": "https://plot.ly"
       },
       "data": [
        {
         "alignmentgroup": "True",
         "bingroup": "x",
         "hovertemplate": "polarity=%{x}<br>count=%{y}<extra></extra>",
         "legendgroup": "",
         "marker": {
          "color": "#636efa",
          "pattern": {
           "shape": ""
          }
         },
         "name": "",
         "nbinsx": 20,
         "offsetgroup": "",
         "orientation": "v",
         "showlegend": false,
         "type": "histogram",
         "x": [
          -0.041666666666666664,
          0.2,
          -0.6,
          0,
          0.4,
          0,
          0,
          0.24523809523809526,
          0,
          0,
          0.7,
          0.34375,
          -0.6,
          -0.18181818181818182,
          0.3333333333333333,
          0,
          -0.17857142857142858,
          0.2,
          -0.15714285714285714,
          -0.12000000000000001,
          0.28125,
          0,
          0,
          0,
          0.02777777777777778,
          0.5,
          0,
          -0.5,
          -0.16666666666666666,
          0.15012987012987014,
          0,
          -0.08333333333333333,
          0.13999999999999999,
          0,
          0,
          0,
          0.007738095238095248,
          0.23125,
          0.13592171717171717,
          0.3,
          -0.03125,
          0.7,
          0,
          0.16666666666666666,
          0,
          0,
          -0.07692307692307693,
          -0.125,
          0.5,
          0,
          -0.36458333333333337,
          0.65,
          0,
          0,
          0,
          0.125,
          0.38125,
          0,
          -0.0625,
          0,
          0,
          0.03125,
          0.234375,
          0.19166666666666665,
          0,
          0,
          -0.4,
          -0.03125,
          0.7250000000000001,
          0,
          -0.08333333333333333
         ],
         "xaxis": "x",
         "yaxis": "y"
        }
       ],
       "layout": {
        "barmode": "relative",
        "legend": {
         "tracegroupgap": 0
        },
        "template": {
         "data": {
          "bar": [
           {
            "error_x": {
             "color": "#2a3f5f"
            },
            "error_y": {
             "color": "#2a3f5f"
            },
            "marker": {
             "line": {
              "color": "#E5ECF6",
              "width": 0.5
             },
             "pattern": {
              "fillmode": "overlay",
              "size": 10,
              "solidity": 0.2
             }
            },
            "type": "bar"
           }
          ],
          "barpolar": [
           {
            "marker": {
             "line": {
              "color": "#E5ECF6",
              "width": 0.5
             },
             "pattern": {
              "fillmode": "overlay",
              "size": 10,
              "solidity": 0.2
             }
            },
            "type": "barpolar"
           }
          ],
          "carpet": [
           {
            "aaxis": {
             "endlinecolor": "#2a3f5f",
             "gridcolor": "white",
             "linecolor": "white",
             "minorgridcolor": "white",
             "startlinecolor": "#2a3f5f"
            },
            "baxis": {
             "endlinecolor": "#2a3f5f",
             "gridcolor": "white",
             "linecolor": "white",
             "minorgridcolor": "white",
             "startlinecolor": "#2a3f5f"
            },
            "type": "carpet"
           }
          ],
          "choropleth": [
           {
            "colorbar": {
             "outlinewidth": 0,
             "ticks": ""
            },
            "type": "choropleth"
           }
          ],
          "contour": [
           {
            "colorbar": {
             "outlinewidth": 0,
             "ticks": ""
            },
            "colorscale": [
             [
              0,
              "#0d0887"
             ],
             [
              0.1111111111111111,
              "#46039f"
             ],
             [
              0.2222222222222222,
              "#7201a8"
             ],
             [
              0.3333333333333333,
              "#9c179e"
             ],
             [
              0.4444444444444444,
              "#bd3786"
             ],
             [
              0.5555555555555556,
              "#d8576b"
             ],
             [
              0.6666666666666666,
              "#ed7953"
             ],
             [
              0.7777777777777778,
              "#fb9f3a"
             ],
             [
              0.8888888888888888,
              "#fdca26"
             ],
             [
              1,
              "#f0f921"
             ]
            ],
            "type": "contour"
           }
          ],
          "contourcarpet": [
           {
            "colorbar": {
             "outlinewidth": 0,
             "ticks": ""
            },
            "type": "contourcarpet"
           }
          ],
          "heatmap": [
           {
            "colorbar": {
             "outlinewidth": 0,
             "ticks": ""
            },
            "colorscale": [
             [
              0,
              "#0d0887"
             ],
             [
              0.1111111111111111,
              "#46039f"
             ],
             [
              0.2222222222222222,
              "#7201a8"
             ],
             [
              0.3333333333333333,
              "#9c179e"
             ],
             [
              0.4444444444444444,
              "#bd3786"
             ],
             [
              0.5555555555555556,
              "#d8576b"
             ],
             [
              0.6666666666666666,
              "#ed7953"
             ],
             [
              0.7777777777777778,
              "#fb9f3a"
             ],
             [
              0.8888888888888888,
              "#fdca26"
             ],
             [
              1,
              "#f0f921"
             ]
            ],
            "type": "heatmap"
           }
          ],
          "heatmapgl": [
           {
            "colorbar": {
             "outlinewidth": 0,
             "ticks": ""
            },
            "colorscale": [
             [
              0,
              "#0d0887"
             ],
             [
              0.1111111111111111,
              "#46039f"
             ],
             [
              0.2222222222222222,
              "#7201a8"
             ],
             [
              0.3333333333333333,
              "#9c179e"
             ],
             [
              0.4444444444444444,
              "#bd3786"
             ],
             [
              0.5555555555555556,
              "#d8576b"
             ],
             [
              0.6666666666666666,
              "#ed7953"
             ],
             [
              0.7777777777777778,
              "#fb9f3a"
             ],
             [
              0.8888888888888888,
              "#fdca26"
             ],
             [
              1,
              "#f0f921"
             ]
            ],
            "type": "heatmapgl"
           }
          ],
          "histogram": [
           {
            "marker": {
             "pattern": {
              "fillmode": "overlay",
              "size": 10,
              "solidity": 0.2
             }
            },
            "type": "histogram"
           }
          ],
          "histogram2d": [
           {
            "colorbar": {
             "outlinewidth": 0,
             "ticks": ""
            },
            "colorscale": [
             [
              0,
              "#0d0887"
             ],
             [
              0.1111111111111111,
              "#46039f"
             ],
             [
              0.2222222222222222,
              "#7201a8"
             ],
             [
              0.3333333333333333,
              "#9c179e"
             ],
             [
              0.4444444444444444,
              "#bd3786"
             ],
             [
              0.5555555555555556,
              "#d8576b"
             ],
             [
              0.6666666666666666,
              "#ed7953"
             ],
             [
              0.7777777777777778,
              "#fb9f3a"
             ],
             [
              0.8888888888888888,
              "#fdca26"
             ],
             [
              1,
              "#f0f921"
             ]
            ],
            "type": "histogram2d"
           }
          ],
          "histogram2dcontour": [
           {
            "colorbar": {
             "outlinewidth": 0,
             "ticks": ""
            },
            "colorscale": [
             [
              0,
              "#0d0887"
             ],
             [
              0.1111111111111111,
              "#46039f"
             ],
             [
              0.2222222222222222,
              "#7201a8"
             ],
             [
              0.3333333333333333,
              "#9c179e"
             ],
             [
              0.4444444444444444,
              "#bd3786"
             ],
             [
              0.5555555555555556,
              "#d8576b"
             ],
             [
              0.6666666666666666,
              "#ed7953"
             ],
             [
              0.7777777777777778,
              "#fb9f3a"
             ],
             [
              0.8888888888888888,
              "#fdca26"
             ],
             [
              1,
              "#f0f921"
             ]
            ],
            "type": "histogram2dcontour"
           }
          ],
          "mesh3d": [
           {
            "colorbar": {
             "outlinewidth": 0,
             "ticks": ""
            },
            "type": "mesh3d"
           }
          ],
          "parcoords": [
           {
            "line": {
             "colorbar": {
              "outlinewidth": 0,
              "ticks": ""
             }
            },
            "type": "parcoords"
           }
          ],
          "pie": [
           {
            "automargin": true,
            "type": "pie"
           }
          ],
          "scatter": [
           {
            "fillpattern": {
             "fillmode": "overlay",
             "size": 10,
             "solidity": 0.2
            },
            "type": "scatter"
           }
          ],
          "scatter3d": [
           {
            "line": {
             "colorbar": {
              "outlinewidth": 0,
              "ticks": ""
             }
            },
            "marker": {
             "colorbar": {
              "outlinewidth": 0,
              "ticks": ""
             }
            },
            "type": "scatter3d"
           }
          ],
          "scattercarpet": [
           {
            "marker": {
             "colorbar": {
              "outlinewidth": 0,
              "ticks": ""
             }
            },
            "type": "scattercarpet"
           }
          ],
          "scattergeo": [
           {
            "marker": {
             "colorbar": {
              "outlinewidth": 0,
              "ticks": ""
             }
            },
            "type": "scattergeo"
           }
          ],
          "scattergl": [
           {
            "marker": {
             "colorbar": {
              "outlinewidth": 0,
              "ticks": ""
             }
            },
            "type": "scattergl"
           }
          ],
          "scattermapbox": [
           {
            "marker": {
             "colorbar": {
              "outlinewidth": 0,
              "ticks": ""
             }
            },
            "type": "scattermapbox"
           }
          ],
          "scatterpolar": [
           {
            "marker": {
             "colorbar": {
              "outlinewidth": 0,
              "ticks": ""
             }
            },
            "type": "scatterpolar"
           }
          ],
          "scatterpolargl": [
           {
            "marker": {
             "colorbar": {
              "outlinewidth": 0,
              "ticks": ""
             }
            },
            "type": "scatterpolargl"
           }
          ],
          "scatterternary": [
           {
            "marker": {
             "colorbar": {
              "outlinewidth": 0,
              "ticks": ""
             }
            },
            "type": "scatterternary"
           }
          ],
          "surface": [
           {
            "colorbar": {
             "outlinewidth": 0,
             "ticks": ""
            },
            "colorscale": [
             [
              0,
              "#0d0887"
             ],
             [
              0.1111111111111111,
              "#46039f"
             ],
             [
              0.2222222222222222,
              "#7201a8"
             ],
             [
              0.3333333333333333,
              "#9c179e"
             ],
             [
              0.4444444444444444,
              "#bd3786"
             ],
             [
              0.5555555555555556,
              "#d8576b"
             ],
             [
              0.6666666666666666,
              "#ed7953"
             ],
             [
              0.7777777777777778,
              "#fb9f3a"
             ],
             [
              0.8888888888888888,
              "#fdca26"
             ],
             [
              1,
              "#f0f921"
             ]
            ],
            "type": "surface"
           }
          ],
          "table": [
           {
            "cells": {
             "fill": {
              "color": "#EBF0F8"
             },
             "line": {
              "color": "white"
             }
            },
            "header": {
             "fill": {
              "color": "#C8D4E3"
             },
             "line": {
              "color": "white"
             }
            },
            "type": "table"
           }
          ]
         },
         "layout": {
          "annotationdefaults": {
           "arrowcolor": "#2a3f5f",
           "arrowhead": 0,
           "arrowwidth": 1
          },
          "autotypenumbers": "strict",
          "coloraxis": {
           "colorbar": {
            "outlinewidth": 0,
            "ticks": ""
           }
          },
          "colorscale": {
           "diverging": [
            [
             0,
             "#8e0152"
            ],
            [
             0.1,
             "#c51b7d"
            ],
            [
             0.2,
             "#de77ae"
            ],
            [
             0.3,
             "#f1b6da"
            ],
            [
             0.4,
             "#fde0ef"
            ],
            [
             0.5,
             "#f7f7f7"
            ],
            [
             0.6,
             "#e6f5d0"
            ],
            [
             0.7,
             "#b8e186"
            ],
            [
             0.8,
             "#7fbc41"
            ],
            [
             0.9,
             "#4d9221"
            ],
            [
             1,
             "#276419"
            ]
           ],
           "sequential": [
            [
             0,
             "#0d0887"
            ],
            [
             0.1111111111111111,
             "#46039f"
            ],
            [
             0.2222222222222222,
             "#7201a8"
            ],
            [
             0.3333333333333333,
             "#9c179e"
            ],
            [
             0.4444444444444444,
             "#bd3786"
            ],
            [
             0.5555555555555556,
             "#d8576b"
            ],
            [
             0.6666666666666666,
             "#ed7953"
            ],
            [
             0.7777777777777778,
             "#fb9f3a"
            ],
            [
             0.8888888888888888,
             "#fdca26"
            ],
            [
             1,
             "#f0f921"
            ]
           ],
           "sequentialminus": [
            [
             0,
             "#0d0887"
            ],
            [
             0.1111111111111111,
             "#46039f"
            ],
            [
             0.2222222222222222,
             "#7201a8"
            ],
            [
             0.3333333333333333,
             "#9c179e"
            ],
            [
             0.4444444444444444,
             "#bd3786"
            ],
            [
             0.5555555555555556,
             "#d8576b"
            ],
            [
             0.6666666666666666,
             "#ed7953"
            ],
            [
             0.7777777777777778,
             "#fb9f3a"
            ],
            [
             0.8888888888888888,
             "#fdca26"
            ],
            [
             1,
             "#f0f921"
            ]
           ]
          },
          "colorway": [
           "#636efa",
           "#EF553B",
           "#00cc96",
           "#ab63fa",
           "#FFA15A",
           "#19d3f3",
           "#FF6692",
           "#B6E880",
           "#FF97FF",
           "#FECB52"
          ],
          "font": {
           "color": "#2a3f5f"
          },
          "geo": {
           "bgcolor": "white",
           "lakecolor": "white",
           "landcolor": "#E5ECF6",
           "showlakes": true,
           "showland": true,
           "subunitcolor": "white"
          },
          "hoverlabel": {
           "align": "left"
          },
          "hovermode": "closest",
          "mapbox": {
           "style": "light"
          },
          "paper_bgcolor": "white",
          "plot_bgcolor": "#E5ECF6",
          "polar": {
           "angularaxis": {
            "gridcolor": "white",
            "linecolor": "white",
            "ticks": ""
           },
           "bgcolor": "#E5ECF6",
           "radialaxis": {
            "gridcolor": "white",
            "linecolor": "white",
            "ticks": ""
           }
          },
          "scene": {
           "xaxis": {
            "backgroundcolor": "#E5ECF6",
            "gridcolor": "white",
            "gridwidth": 2,
            "linecolor": "white",
            "showbackground": true,
            "ticks": "",
            "zerolinecolor": "white"
           },
           "yaxis": {
            "backgroundcolor": "#E5ECF6",
            "gridcolor": "white",
            "gridwidth": 2,
            "linecolor": "white",
            "showbackground": true,
            "ticks": "",
            "zerolinecolor": "white"
           },
           "zaxis": {
            "backgroundcolor": "#E5ECF6",
            "gridcolor": "white",
            "gridwidth": 2,
            "linecolor": "white",
            "showbackground": true,
            "ticks": "",
            "zerolinecolor": "white"
           }
          },
          "shapedefaults": {
           "line": {
            "color": "#2a3f5f"
           }
          },
          "ternary": {
           "aaxis": {
            "gridcolor": "white",
            "linecolor": "white",
            "ticks": ""
           },
           "baxis": {
            "gridcolor": "white",
            "linecolor": "white",
            "ticks": ""
           },
           "bgcolor": "#E5ECF6",
           "caxis": {
            "gridcolor": "white",
            "linecolor": "white",
            "ticks": ""
           }
          },
          "title": {
           "x": 0.05
          },
          "xaxis": {
           "automargin": true,
           "gridcolor": "white",
           "linecolor": "white",
           "ticks": "",
           "title": {
            "standoff": 15
           },
           "zerolinecolor": "white",
           "zerolinewidth": 2
          },
          "yaxis": {
           "automargin": true,
           "gridcolor": "white",
           "linecolor": "white",
           "ticks": "",
           "title": {
            "standoff": 15
           },
           "zerolinecolor": "white",
           "zerolinewidth": 2
          }
         }
        },
        "title": {
         "text": "Polarity of G2/CSGORoll-related Tweets"
        },
        "width": 900,
        "xaxis": {
         "anchor": "y",
         "domain": [
          0,
          1
         ],
         "title": {
          "text": "polarity"
         }
        },
        "yaxis": {
         "anchor": "x",
         "domain": [
          0,
          1
         ],
         "title": {
          "text": "count"
         }
        }
       }
      }
     },
     "metadata": {},
     "output_type": "display_data"
    }
   ],
   "source": [
    "# Create a Histogram figure with data for Polarity of G2/CSGO Roll-related Tweets\n",
    "polhist=px.histogram(tweets_final,\n",
    "                     x='polarity',\n",
    "                     nbins=20,\n",
    "                     title='Polarity of G2/CSGORoll-related Tweets',\n",
    "                     width=900)\n",
    "\n",
    "# Show the Histogram figure\n",
    "polhist.show()"
   ]
  },
  {
   "attachments": {},
   "cell_type": "markdown",
   "metadata": {},
   "source": [
    "Using a histogram, from the Plotly library, specifically Plotly Express, we can visualise the polarity data from the sentiment analysis we applied to the dataset. The histogram is skewed towards the center, with the majority of the tweets having a polarity score of 0, indicating a neutral sentiment towards the G2/CSGORoll sponsorship. The histogram also shows that there are a small number of tweets with a negative polarity score (less than 0) and some tweets with a positive polarity score (greater than 0), indicating mixed sentiments among some Twitter users regarding the sponsorship. Overall, the histogram provides a clear representation of the sentiment distribution among Twitter users in relation to the G2/CSGORoll sponsorship."
   ]
  },
  {
   "cell_type": "code",
   "execution_count": 21,
   "metadata": {},
   "outputs": [
    {
     "data": {
      "application/vnd.plotly.v1+json": {
       "config": {
        "plotlyServerURL": "https://plot.ly"
       },
       "data": [
        {
         "lat": [
          46.3144754,
          null,
          25.074282349999997,
          33.2588817,
          44.4761601,
          46.3144754,
          18.9733536,
          46.3144754,
          41.2861022,
          46.3144754,
          40.4416941,
          46.3144754,
          51.0538286,
          46.3144754,
          46.3144754,
          -37.3125781,
          43.409022,
          29.4246002,
          46.3144754,
          40.9699889,
          52.1959491,
          -36.5341903,
          41.3828939,
          -32.9593609,
          44.575616,
          49.4420467,
          40.4167047,
          -37.8142454,
          22.3511148,
          46.3144754,
          46.3144754,
          60.288655,
          46.3144754,
          -18.4554963,
          39.999971,
          46.3144754,
          50.938361,
          46.3144754,
          null,
          47.59397,
          46.3144754,
          11.7761562,
          null,
          46.3144754,
          46.3144754,
          46.3144754,
          59.644468,
          50.938361,
          45.4401467,
          46.3144754,
          46.3144754,
          55.6812495,
          46.3144754,
          46.3144754,
          40.7127281,
          34.0536909,
          18.521428,
          null,
          46.3144754,
          48.1113387,
          45.300575,
          46.3144754,
          40.6667691,
          46.3144754,
          46.9484742,
          44.046388,
          null,
          46.3144754,
          -24.7761086,
          46.3144754,
          46.3144754
         ],
         "lon": [
          11.0480288,
          null,
          55.18853865430702,
          -86.8295337,
          -73.212906,
          11.0480288,
          72.82810491917377,
          11.0480288,
          1.9824173,
          11.0480288,
          -79.9900861,
          11.0480288,
          3.7250121,
          11.0480288,
          11.0480288,
          -59.158166,
          24.6180123,
          -98.4951405,
          11.0480288,
          -77.7278831,
          -1.77625605,
          -72.0878536,
          2.1774322,
          -60.6617024,
          -78.8486034,
          7.7708363,
          -3.7035825,
          144.9631732,
          78.6677428,
          11.0480288,
          11.0480288,
          24.775614,
          11.0480288,
          29.7468414,
          3.8395763,
          11.0480288,
          6.959974,
          11.0480288,
          null,
          14.12456,
          11.0480288,
          125.0205857,
          null,
          11.0480288,
          11.0480288,
          11.0480288,
          17.0878665,
          6.959974,
          4.3873058,
          11.0480288,
          11.0480288,
          12.4547294,
          11.0480288,
          11.0480288,
          -74.0060152,
          -118.242766,
          73.8544541,
          null,
          11.0480288,
          -1.6800198,
          -79.946399,
          11.0480288,
          33.4526069,
          11.0480288,
          7.4521749,
          -75.777168,
          null,
          11.0480288,
          134.755,
          11.0480288,
          11.0480288
         ],
         "marker": {
          "color": [
           -0.041666666666666664,
           0.2,
           -0.6,
           0,
           0.4,
           0,
           0,
           0.24523809523809526,
           0,
           0,
           0.7,
           0.34375,
           -0.6,
           -0.18181818181818182,
           0.3333333333333333,
           0,
           -0.17857142857142858,
           0.2,
           -0.15714285714285714,
           -0.12000000000000001,
           0.28125,
           0,
           0,
           0,
           0.02777777777777778,
           0.5,
           0,
           -0.5,
           -0.16666666666666666,
           0.15012987012987014,
           0,
           -0.08333333333333333,
           0.13999999999999999,
           0,
           0,
           0,
           0.007738095238095248,
           0.23125,
           0.13592171717171717,
           0.3,
           -0.03125,
           0.7,
           0,
           0.16666666666666666,
           0,
           0,
           -0.07692307692307693,
           -0.125,
           0.5,
           0,
           -0.36458333333333337,
           0.65,
           0,
           0,
           0,
           0.125,
           0.38125,
           0,
           -0.0625,
           0,
           0,
           0.03125,
           0.234375,
           0.19166666666666665,
           0,
           0,
           -0.4,
           -0.03125,
           0.7250000000000001,
           0,
           -0.08333333333333333
          ],
          "colorbar": {
           "title": {
            "text": "Polarity"
           }
          },
          "colorscale": [
           [
            0,
            "rgb(243, 231, 155)"
           ],
           [
            0.16666666666666666,
            "rgb(250, 196, 132)"
           ],
           [
            0.3333333333333333,
            "rgb(248, 160, 126)"
           ],
           [
            0.5,
            "rgb(235, 127, 134)"
           ],
           [
            0.6666666666666666,
            "rgb(206, 102, 147)"
           ],
           [
            0.8333333333333334,
            "rgb(160, 89, 160)"
           ],
           [
            1,
            "rgb(92, 83, 165)"
           ]
          ],
          "opacity": 0.7,
          "size": 7.5
         },
         "mode": "markers",
         "text": [
          "<b>Name:</b> fyta_ow<br><b>User Location:</b> nan<br><b>Verified?</b> False<br><b>Date:</b> 13/07/2023<br><b>Tweet:</b> @hanshimcd @wonderingsonny @CSGOEmpireV2 @SparklesCSGOYT I guess it's part of the deal, it's the same way other youtubers advertise a brand on their videos. The only problem would be if Sparkles knew that CSGO Roll was a scam.<b>Polarity:</b> -0.041666666666666664<br><b>Subjectivity:</b> 0.5",
          "<b>Name:</b> Al_Azawi987<br><b>User Location:</b> Ela Bosak<br><b>Verified?</b> False<br><b>Date:</b> 13/08/2023<br><b>Tweet:</b> @G2CSGO Can you show us the csgorollscam contract? I just wanna know how much does you dignity sells for<b>Polarity:</b> 0.2<br><b>Subjectivity:</b> 0.2",
          "<b>Name:</b> mostafa_xxxx<br><b>User Location:</b> Dubai - UAE<br><b>Verified?</b> False<br><b>Date:</b> 13/07/2023<br><b>Tweet:</b> @CSGOEmpireV2 @CSGORoll @CSGOEmpireV3 I wanna understand something pls \nCsgo roll is a scam site ? \nI have made it to almsot lvl 80 and getting fucked then it is a scam ? \nPls tell me @VIILines<b>Polarity:</b> -0.6<br><b>Subjectivity:</b> 0.7",
          "<b>Name:</b> 335ie90_<br><b>User Location:</b> Alabama, USA<br><b>Verified?</b> False<br><b>Date:</b> 26/03/2023<br><b>Tweet:</b> @R6Sharpz Csgo roll is such a scam. All online gambling is a joke<b>Polarity:</b> 0.0<br><b>Subjectivity:</b> 0.5",
          "<b>Name:</b> TONYWINS34<br><b>User Location:</b> Burlington, VT<br><b>Verified?</b> False<br><b>Date:</b> 15/06/2017<br><b>Tweet:</b> @NathanCSGORoll #csgorollscam\nDon't do free knife upgrades he scams you<b>Polarity:</b> 0.4<br><b>Subjectivity:</b> 0.8",
          "<b>Name:</b> boptilltheydrop<br><b>User Location:</b> nan<br><b>Verified?</b> False<br><b>Date:</b> 11/07/2017<br><b>Tweet:</b> @m0E_tv thx moe for telling me csgo roll isnt a scam i texted them about how i didnt get the 500 dollars and said it was a chatt error<b>Polarity:</b> 0.0<br><b>Subjectivity:</b> 0.0",
          "<b>Name:</b> tanay0786<br><b>User Location:</b> Mumbai, India<br><b>Verified?</b> False<br><b>Date:</b> 27/08/2021<br><b>Tweet:</b> @JaekCreates This site csgo roll is scam 😂😂😂🙂<b>Polarity:</b> 0.0<br><b>Subjectivity:</b> 0.0",
          "<b>Name:</b> theta2k<br><b>User Location:</b> nan<br><b>Verified?</b> False<br><b>Date:</b> 11/07/2023<br><b>Tweet:</b> @supr3meOfficial I find it really ironic trying to call out csgoroll for being a “scam” but then openly supporting CSGO Empire.\n\nYou guys don’t even use the word scam right, cause if it was the case csgo roll would’ve stolen money from people but I have yet to see a case where that has happened.<b>Polarity:</b> 0.24523809523809526<br><b>Subjectivity:</b> 0.5619047619047618",
          "<b>Name:</b> rambuslol<br><b>User Location:</b> Castelldefels, España 🇨🇦<br><b>Verified?</b> False<br><b>Date:</b> 11/12/2016<br><b>Tweet:</b> @sfdxpro si sigues así podremos denunciar a csgo roll por scam xD<b>Polarity:</b> 0.0<br><b>Subjectivity:</b> 0.0",
          "<b>Name:</b> ScreaM_DUH<br><b>User Location:</b> nan<br><b>Verified?</b> False<br><b>Date:</b> 24/04/2020<br><b>Tweet:</b> @WhatsReselling @NoxNotify @balkobot @ResellAIO @CookologyIO @AshburnProxies @10xServers csgo roll voltou a funcionar nao é scam ele voltou mesmo\n.\n.\nhttps://t.co/MxPWb64dvJ<b>Polarity:</b> 0.0<br><b>Subjectivity:</b> 0.0",
          "<b>Name:</b> Im_BigHoss<br><b>User Location:</b> Pittsburgh, PA<br><b>Verified?</b> False<br><b>Date:</b> 15/08/2023<br><b>Tweet:</b> Does anyone do any CSGO gambling? If so what sites are good tried CSGO roll sites a scam<b>Polarity:</b> 0.7<br><b>Subjectivity:</b> 0.6000000000000001",
          "<b>Name:</b> NowZZalt<br><b>User Location:</b> nan<br><b>Verified?</b> False<br><b>Date:</b> 23/09/2023<br><b>Tweet:</b> @Holf471 I mean roll too and almost every csgo casino unregulated = they do what they want so scam for best profit<b>Polarity:</b> 0.34375<br><b>Subjectivity:</b> 0.49375",
          "<b>Name:</b> ZeusMVPGod<br><b>User Location:</b> Gent, België<br><b>Verified?</b> False<br><b>Date:</b> 19/12/2016<br><b>Tweet:</b> @CSGORoll csgo roll is a fucking scam site now i have 30 blocked https://t.co/fuECgDr37I<b>Polarity:</b> -0.6<br><b>Subjectivity:</b> 0.8",
          "<b>Name:</b> Smncxx<br><b>User Location:</b> nan<br><b>Verified?</b> False<br><b>Date:</b> 19/07/2023<br><b>Tweet:</b> @variancewarren Bro wtf we know this sites are scam , Montana don’t care about csgo roll anyway , and he is new nothing to do with it  . Btw he is unbanned<b>Polarity:</b> -0.18181818181818182<br><b>Subjectivity:</b> 0.7272727272727273",
          "<b>Name:</b> nugget62677626<br><b>User Location:</b> nan<br><b>Verified?</b> False<br><b>Date:</b> 28/09/2022<br><b>Tweet:</b> @_aorodrigo @CSGO_RoIl Change password quick it's a scam site it's not the official CSGO roll site<b>Polarity:</b> 0.3333333333333333<br><b>Subjectivity:</b> 0.5",
          "<b>Name:</b> dlcofficial<br><b>User Location:</b> Mirage<br><b>Verified?</b> False<br><b>Date:</b> 27/09/2022<br><b>Tweet:</b> @Cti9001 @Nuubzaum @nocabcs @Thunder_Dovah @Noob81042802Nft @BBernabat @Jeremia42702774 @Justasadassboi @agustinmori44 More fake csgo roll bot scams? 🙄<b>Polarity:</b> 0.0<br><b>Subjectivity:</b> 0.75",
          "<b>Name:</b> valentingenov<br><b>User Location:</b> Pleven,Bulgaria<br><b>Verified?</b> False<br><b>Date:</b> 25/07/2023<br><b>Tweet:</b> @CSGOEmpire @TDM_Jesus @GrimzYoutube I like the idea behind exposing scam sites and such, but I feel like your personal agenda against the Roll owner is taking a toll on you... It's becoming a crazy witch hunt against any CSGO related persona that has something to do with it. Falling to the lvl of the bad guy 🫤<b>Polarity:</b> -0.17857142857142858<br><b>Subjectivity:</b> 0.6166666666666666",
          "<b>Name:</b> chaseDaviss<br><b>User Location:</b> San Antonio, TX<br><b>Verified?</b> False<br><b>Date:</b> 20/12/2017<br><b>Tweet:</b> @CSGORoll How do we know this is even the real csgo roll account? How do we know that this isn't a scam?<b>Polarity:</b> 0.2<br><b>Subjectivity:</b> 0.30000000000000004",
          "<b>Name:</b> MateuszLenczews<br><b>User Location:</b> nan<br><b>Verified?</b> False<br><b>Date:</b> 18/07/2023<br><b>Tweet:</b> @PastStake @Zeebe_Csgo @variancewarren Dude, someone order you to depo when the withdraw page is empty? It isn't scummy at all but ppl are lacking of common sense.  During that time I've just collected dailies and I withdraw 600c gloves. Didn't put single cent on Roll. Where is this scam?<b>Polarity:</b> -0.15714285714285714<br><b>Subjectivity:</b> 0.4047619047619047",
          "<b>Name:</b> funnykid26YT<br><b>User Location:</b> Pennsylvania, USA<br><b>Verified?</b> False<br><b>Date:</b> 14/07/2023<br><b>Tweet:</b> @r0bzzzzzzz @nightcarries @LeandroEsc0bar @xenonthefriend @CSGOEmpireV2 @SparklesCSGOYT Bro their both scam sites lmaooo… monarch has also sponsored YouTubers with a high percentage of child audiences… so what’s exactly worse on csgo roll then empire lmaoo<b>Polarity:</b> -0.12000000000000001<br><b>Subjectivity:</b> 0.57",
          "<b>Name:</b> LambdaMarcus<br><b>User Location:</b> On the grid.<br><b>Verified?</b> False<br><b>Date:</b> 13/06/2023<br><b>Tweet:</b> @CSGOEmpireV2 @CSGORoll Remember the  passing out flyers at the major about csgo roll, the guy gluing his hand on the button, the attempt to sabotage the withdrawal page on csgo roll, the people wearing csgo roll scam T-shirts. This violates many laws to name one the Sherman anti-trust law.<b>Polarity:</b> 0.28125<br><b>Subjectivity:</b> 0.5",
          "<b>Name:</b> sfdxpro<br><b>User Location:</b> Planeta Tierra<br><b>Verified?</b> False<br><b>Date:</b> 09/03/2017<br><b>Tweet:</b> Atención Scam!! El 95% de las webs que tengan un guion ejemplo CSGO-lounge, csgo-lukye son scam! csgo-roll es como un detector de tontos! XD<b>Polarity:</b> 0.0<br><b>Subjectivity:</b> 0.0",
          "<b>Name:</b> WhoshOfficial<br><b>User Location:</b> Barcelona<br><b>Verified?</b> False<br><b>Date:</b> 13/08/2020<br><b>Tweet:</b> @Johny_csgo @CsgoVampire So, 72h went by. Are you going to roll it or is this a scam?<b>Polarity:</b> 0.0<br><b>Subjectivity:</b> 0.0",
          "<b>Name:</b> nvRcsgo<br><b>User Location:</b> Rosario, Argentina<br><b>Verified?</b> False<br><b>Date:</b> 06/11/2016<br><b>Tweet:</b> @VikingES_Gamer Viking acabo de sacar un cuchillo de csgo roll de 32usd y no me llega el trade ofert! ,es scam esa pagina?:O<b>Polarity:</b> 0.0<br><b>Subjectivity:</b> 0.0",
          "<b>Name:</b> CrunchyyTaco<br><b>User Location:</b> Kawartha Lakes, Ontario<br><b>Verified?</b> False<br><b>Date:</b> 05/05/2017<br><b>Tweet:</b> @VictorSvane @CSGORoll He tried to scam me with the exact same thing. I sent CSGO Roll screenshot about it about 1 hour and a half ago. That's probably whey they<b>Polarity:</b> 0.02777777777777778<br><b>Subjectivity:</b> 0.18055555555555555",
          "<b>Name:</b> sooyaaa__csgo<br><b>User Location:</b> de_inferno<br><b>Verified?</b> False<br><b>Date:</b> 17/05/2020<br><b>Tweet:</b> @litshapez Scam the others and send me that. \n\nKidding. Will be waiting for the roll :)<b>Polarity:</b> 0.5<br><b>Subjectivity:</b> 1.0",
          "<b>Name:</b> Maxc4Gaming<br><b>User Location:</b> .:MADRID:.<br><b>Verified?</b> False<br><b>Date:</b> 24/10/2017<br><b>Tweet:</b> @MatiuXcs me trolea..se hace pasar por moderador y pierdo 10 dólares en una pag scam y me voy a csgo roll y mira papa con 11 dólares jjaja @VikingES_Gamer q opinas https://t.co/3tDbBhANMZ<b>Polarity:</b> 0.0<br><b>Subjectivity:</b> 0.0",
          "<b>Name:</b> DillonGomes<br><b>User Location:</b> Melbourne, Australia<br><b>Verified?</b> False<br><b>Date:</b> 07/06/2021<br><b>Tweet:</b> @SARGE_FIFA I know nothing about CSGO roll but that website is corrupt and a scam, ong.<b>Polarity:</b> -0.5<br><b>Subjectivity:</b> 1.0",
          "<b>Name:</b> MrHarshRana<br><b>User Location:</b> India<br><b>Verified?</b> False<br><b>Date:</b> 14/07/2023<br><b>Tweet:</b> @variancewarren @CSGOEmpireV2 @VIILines I have tried every csgo gambling websites Roll was the worst even the scam Russian websites had better odds &amp; Withdrawal options<b>Polarity:</b> -0.16666666666666666<br><b>Subjectivity:</b> 0.5",
          "<b>Name:</b> high_scam<br><b>User Location:</b> nan<br><b>Verified?</b> False<br><b>Date:</b> 09/03/2018<br><b>Tweet:</b> @ITS_ALX_ @CSGORoll The secret is to gamble smart, i made from 1 dollar up to 50k in 2 years, now i bought for myself an apartament where i can live and study for  university, and u have to stop when u win, always stop, i didnt make 50k on roll, i made it on csgo empire but is same shiet<b>Polarity:</b> 0.15012987012987014<br><b>Subjectivity:</b> 0.4735714285714286",
          "<b>Name:</b> Mg2148455079683<br><b>User Location:</b> nan<br><b>Verified?</b> False<br><b>Date:</b> 26/04/2023<br><b>Tweet:</b> #csgorollscam\n#csgoroll\n#koil<b>Polarity:</b> 0.0<br><b>Subjectivity:</b> 0.0",
          "<b>Name:</b> AnoNgambles<br><b>User Location:</b> Drop a sub! :)<br><b>Verified?</b> False<br><b>Date:</b> 07/11/2022<br><b>Tweet:</b> @jei_csgo no it's not a scam - I had no idea it could only roll when it had 200 people. It's half way there - please be patient<b>Polarity:</b> -0.08333333333333333<br><b>Subjectivity:</b> 0.5833333333333334",
          "<b>Name:</b> q_thatguy<br><b>User Location:</b> nan<br><b>Verified?</b> False<br><b>Date:</b> 15/05/2023<br><b>Tweet:</b> @HobbesHD While i can agree with you that it would be good for roll to take accountability. These issues and deceptive practises take place on most CSGO gambling sites. With deceptive practises to nasty scams, i feel like its time for a more broader change in the entire community.<b>Polarity:</b> 0.13999999999999999<br><b>Subjectivity:</b> 0.645",
          "<b>Name:</b> bibanator<br><b>User Location:</b> Simbabwe<br><b>Verified?</b> False<br><b>Date:</b> 06/03/2022<br><b>Tweet:</b> @F3lix__ Alle Seiten haben ein PVF System und Roll ist derzeit mit Abstand die größte CSGO related gamble page weltweit. Da ist nichts scam. House edge ist da übrigens auch niedriger als bei keydrop und die Skinpreise an buff angepasst, also von daher kann das sowieso nicht sein.<b>Polarity:</b> 0.0<br><b>Subjectivity:</b> 0.4",
          "<b>Name:</b> DexertoEsports<br><b>User Location:</b> Esports<br><b>Verified?</b> False<br><b>Date:</b> 02/05/2023<br><b>Tweet:</b> European Esports Organization, G2 Esports are welcoming CS:GO Roll as their newest CS Skin Gambling sponsor\n\nHowever they are facing backlash after using m0NESY as the face of the partnership a day after just turning 18\n\nhttps://t.co/E5yrud0qv9<b>Polarity:</b> 0.0<br><b>Subjectivity:</b> 0.0",
          "<b>Name:</b> rpesteves<br><b>User Location:</b> nan<br><b>Verified?</b> False<br><b>Date:</b> 02/05/2023<br><b>Tweet:</b> CS:GO Roll patrocinar os G2, W ou L ?<b>Polarity:</b> 0.0<br><b>Subjectivity:</b> 0.0",
          "<b>Name:</b> Knaightzz<br><b>User Location:</b> Cologne, Germany<br><b>Verified?</b> False<br><b>Date:</b> 18/08/2023<br><b>Tweet:</b> @StaubK9 @G2CSGO CS:GO Roll Sponsor. They (and by that I mean G2&amp;CSGORoll) got a lot of flack for their partnership and the company in general. I guess they G2 the right thing and distanced themselves from CSGORoll.<b>Polarity:</b> 0.007738095238095248<br><b>Subjectivity:</b> 0.5744047619047619",
          "<b>Name:</b> xenonthefriend<br><b>User Location:</b> nan<br><b>Verified?</b> False<br><b>Date:</b> 30/07/2023<br><b>Tweet:</b> @JoopiiMonarch \"We are very excited to partner with CS:GO Roll enabling G2 fans to get a chance to earn the rare skin they always dreamed of!” - @AlbanDechelotte. Thank you Alban, now I am going to take out a loan and start gambl.. I mean earning those rare skins!<b>Polarity:</b> 0.23125<br><b>Subjectivity:</b> 0.865625",
          "<b>Name:</b> don_beppe_<br><b>User Location:</b> inspect server<br><b>Verified?</b> False<br><b>Date:</b> 27/07/2023<br><b>Tweet:</b> After G2 shit + taking CS:GO Roll as main sponsor I couldn't find team that I really like out there (maybe heroic and a little bit vitality) but now after Neo announcement in FaZe I think that I have new favourite team.<b>Polarity:</b> 0.13592171717171717<br><b>Subjectivity:</b> 0.5313131313131313",
          "<b>Name:</b> itsVnmzCS<br><b>User Location:</b> Austria<br><b>Verified?</b> False<br><b>Date:</b> 02/05/2023<br><b>Tweet:</b> @G2CSGO \"on a mission to elevate and enhance the player’s in-game experience at every opportunity with innovation at its core.\" \"CS:GO Roll enables G2 fans to get a chance to earn the rare skin they always dreamed of\"💀💀<b>Polarity:</b> 0.3<br><b>Subjectivity:</b> 0.9",
          "<b>Name:</b> nextlevel_br<br><b>User Location:</b> nan<br><b>Verified?</b> False<br><b>Date:</b> 23/05/2023<br><b>Tweet:</b> O cara colou a mão dele na máquina da ativação que tinha no Major de CS:GO 😱\n\nEle fez isso em forma de protesto contra o site 'CSGO Roll', que fez a ativação em parceria com a G2\nhttps://t.co/DFK0DEdvSu<b>Polarity:</b> -0.03125<br><b>Subjectivity:</b> 0.5",
          "<b>Name:</b> DQUANPICKS<br><b>User Location:</b> VIP ACCESS ➡️<br><b>Verified?</b> False<br><b>Date:</b> 29/08/2020<br><b>Tweet:</b> 8/29 CS:GO/KBO \n\nHeroic ML -120 over G2 for 3u\nDinos/Giants MLP -135 5u🔥\n\nStraily has a 1.59 ERA vs. Eagles, Rucinski has a 1.50 ERA vs SK. I don’t think they’ll give up runs at all. lets roll &amp; sweep the board. Anyone rocking w me?<b>Polarity:</b> 0.7<br><b>Subjectivity:</b> 0.9",
          "<b>Name:</b> thebeebets<br><b>User Location:</b> Cashing Tickets<br><b>Verified?</b> False<br><b>Date:</b> 01/07/2020<br><b>Tweet:</b> eSports (CS:GO)\n\n4u FaZe/G2 ML PARLAY (-130)\n\nStarts in 40 mins. Lock it in and let’s roll. Also like FaZe -1.5 and G2 ML if you can’t parlay.<b>Polarity:</b> 0.0<br><b>Subjectivity:</b> 0.0",
          "<b>Name:</b> T_fuxing_T<br><b>User Location:</b> nan<br><b>Verified?</b> False<br><b>Date:</b> 18/08/2023<br><b>Tweet:</b> G2 main channel has blurred csgo roll lmfao<b>Polarity:</b> 0.16666666666666666<br><b>Subjectivity:</b> 0.3333333333333333",
          "<b>Name:</b> steve_rho<br><b>User Location:</b> nan<br><b>Verified?</b> False<br><b>Date:</b> 18/08/2023<br><b>Tweet:</b> Did G2 drop CSGO Roll as a sponsor? @G2CSGO<b>Polarity:</b> 0.0<br><b>Subjectivity:</b> 0.0",
          "<b>Name:</b> s1k0s<br><b>User Location:</b> nan<br><b>Verified?</b> False<br><b>Date:</b> 05/05/2023<br><b>Tweet:</b> @BanKsEsports Betting site that has been promoted for years from navi, yet g2 are blamed for csgo roll.<b>Polarity:</b> 0.0<br><b>Subjectivity:</b> 0.0",
          "<b>Name:</b> kioshimm<br><b>User Location:</b> Gaming World <br><b>Verified?</b> False<br><b>Date:</b> 15/05/2023<br><b>Tweet:</b> @TDM_Jesus F G2 g csgo roll. Make us loose too<b>Polarity:</b> -0.07692307692307693<br><b>Subjectivity:</b> 0.2692307692307692",
          "<b>Name:</b> Knaightzz<br><b>User Location:</b> Cologne, Germany<br><b>Verified?</b> False<br><b>Date:</b> 01/08/2023<br><b>Tweet:</b> @HOUNGOUNGAGNE did you see G2 apparently kicked CSGO:Roll from their jersey? At least therey taped it over with another logo. you know if it‘s just bc of cologne or permanent?<b>Polarity:</b> -0.125<br><b>Subjectivity:</b> 0.375",
          "<b>Name:</b> Vareotoroute<br><b>User Location:</b> Saint-Etienne, France<br><b>Verified?</b> False<br><b>Date:</b> 21/05/2023<br><b>Tweet:</b> @G2CSGO Ok but when can we register for the CSGO Roll x G2 giveaway.<b>Polarity:</b> 0.5<br><b>Subjectivity:</b> 0.5",
          "<b>Name:</b> MCRmat<br><b>User Location:</b> nan<br><b>Verified?</b> False<br><b>Date:</b> 19/07/2023<br><b>Tweet:</b> @variancewarren Isn't g2 sponsored by csgo roll.<b>Polarity:</b> 0.0<br><b>Subjectivity:</b> 0.0",
          "<b>Name:</b> prof1leCS<br><b>User Location:</b> nan<br><b>Verified?</b> False<br><b>Date:</b> 14/05/2022<br><b>Tweet:</b> @G2esports lets gooooo g2 csgo roll doubting hard! https://t.co/HL8JvKWFaf<b>Polarity:</b> -0.36458333333333337<br><b>Subjectivity:</b> 0.5416666666666666",
          "<b>Name:</b> 7hellcs<br><b>User Location:</b> 2610 Rødovre<br><b>Verified?</b> False<br><b>Date:</b> 10/05/2022<br><b>Tweet:</b> @G2esports @AleksibCSGO @G2m0NESY @G2NiKo @G2huNter @JACKZ_CSGO @XTQZZZ @G2Swani Carlos kinda on a roll atm... Surely G2 will win either MSI or PGL right?🙃<b>Polarity:</b> 0.65<br><b>Subjectivity:</b> 0.6444444444444444",
          "<b>Name:</b> ra6b1t_5P1n<br><b>User Location:</b> nan<br><b>Verified?</b> False<br><b>Date:</b> 19/12/2022<br><b>Tweet:</b> g2！#roll #csgo #blast #g2 https://t.co/q6Cb9gTmZb<b>Polarity:</b> 0.0<br><b>Subjectivity:</b> 0.0",
          "<b>Name:</b> rat_messiah<br><b>User Location:</b> nan<br><b>Verified?</b> False<br><b>Date:</b> 12/08/2023<br><b>Tweet:</b> @phnxssbm https://t.co/FDn6lIF56M\n\nNothing tops g2 x CSGO roll<b>Polarity:</b> 0.0<br><b>Subjectivity:</b> 0.0",
          "<b>Name:</b> zephiK0<br><b>User Location:</b> New York<br><b>Verified?</b> False<br><b>Date:</b> 02/08/2023<br><b>Tweet:</b> @Dexerto And organizations that are sponsored by them like G2 and CSGO Roll<b>Polarity:</b> 0.0<br><b>Subjectivity:</b> 0.0",
          "<b>Name:</b> ____teff<br><b>User Location:</b> Los Angeles, CA<br><b>Verified?</b> False<br><b>Date:</b> 29/06/2023<br><b>Tweet:</b> @kwaxxi How does Valve ban feeders of a website that sponsors G2’s CSGO team. Seems a bit clusterfucked; okay for roll to be a sponsor, not okay to sell items to roll. 💀<b>Polarity:</b> 0.125<br><b>Subjectivity:</b> 0.5",
          "<b>Name:</b> Ad1tyaKale<br><b>User Location:</b> Pune, India<br><b>Verified?</b> False<br><b>Date:</b> 06/08/2023<br><b>Tweet:</b> @G2EsportsCsgo  congratulations on the IEM COLOGNE Win.\n@G2NiKo  you beauty.\nFirst Katowice and now Cologne.\nG2 is on a roll.\nAlthough this was the last CSGO championship, couldn’t have ended in a better way.\nReally want to see G2 win the grand slam next year.<b>Polarity:</b> 0.38125<br><b>Subjectivity:</b> 0.3625",
          "<b>Name:</b> TheSomwon<br><b>User Location:</b> (☞ ͡° ͜ʖ ͡°)☞<br><b>Verified?</b> False<br><b>Date:</b> 18/05/2023<br><b>Tweet:</b> @MaisEpee Ouais stand g2 CSGO Roll qui régale<b>Polarity:</b> 0.0<br><b>Subjectivity:</b> 0.0",
          "<b>Name:</b> xX1TopShotXx<br><b>User Location:</b> nan<br><b>Verified?</b> False<br><b>Date:</b> 29/06/2023<br><b>Tweet:</b> @RealJonahBlake @wyethridgway Not accusations and not laundering, it was gambling related, plus it’s not like Valve doesn’t see trade history 😂 everyone knew this was coming for like 3 months with their TOS update. \n\nIn the scene, CSGO Roll sponsored G2 and put their logo at this past major, basically…<b>Polarity:</b> -0.0625<br><b>Subjectivity:</b> 0.3833333333333333",
          "<b>Name:</b> MarioReL_CSGO<br><b>User Location:</b> Rennes, France<br><b>Verified?</b> False<br><b>Date:</b> 15/11/2017<br><b>Tweet:</b> @Maj3r_ Gambit will roll on G2 as always, nothing interessting<b>Polarity:</b> 0.0<br><b>Subjectivity:</b> 0.0",
          "<b>Name:</b> Timi7272<br><b>User Location:</b> Dust 2<br><b>Verified?</b> False<br><b>Date:</b> 21/05/2023<br><b>Tweet:</b> @bibanator Die Schlange bei csgo roll (bzw g2) war bodenlos lang https://t.co/4IxSgD2tC3<b>Polarity:</b> 0.0<br><b>Subjectivity:</b> 0.0",
          "<b>Name:</b> rylanx_<br><b>User Location:</b> nan<br><b>Verified?</b> False<br><b>Date:</b> 18/07/2023<br><b>Tweet:</b> @pricempire @TDM_Jesus @hwetrades336 csgo roll g2 sponsor at last csgo major xd<b>Polarity:</b> 0.03125<br><b>Subjectivity:</b> 0.2833333333333333",
          "<b>Name:</b> PinnacleEsports<br><b>User Location:</b> 18+<br><b>Verified?</b> False<br><b>Date:</b> 23/02/2023<br><b>Tweet:</b> Oh boy, oh boy, oh boy! Can't wait for @G2esports 🆚 @C9CSGO in the #CSGO #ESLProLeague 🤩. G2 is on a roll but C9 is not weak at all! Who will take their team to victory? @G2NiKo or @Ax1LeGOD ?🤔 https://t.co/Up1k6lUtH8<b>Polarity:</b> 0.234375<br><b>Subjectivity:</b> 0.625",
          "<b>Name:</b> LockItIn7<br><b>User Location:</b> nan<br><b>Verified?</b> False<br><b>Date:</b> 27/06/2020<br><b>Tweet:</b> Found a CSGO play that we are liking starting in about 30 minutes!\n\nG2 Esports -1.5 maps +100 1.5U\n\nThey looked so good the other day I think they can come in and steam roll once again on a lower ranked opponent!✊🏻🤑🔥 #Lockitin #Freepicks #CSGO<b>Polarity:</b> 0.19166666666666665<br><b>Subjectivity:</b> 0.3583333333333334",
          "<b>Name:</b> Maniac_CSGO<br><b>User Location:</b> Berne, Switzerland<br><b>Verified?</b> False<br><b>Date:</b> 23/01/2023<br><b>Tweet:</b> If G2 deliver in Copenhagen,\n\nThey'll roll up in Katowice,\n\nAs favourite. #BLASTPremier<b>Polarity:</b> 0.0<br><b>Subjectivity:</b> 0.0",
          "<b>Name:</b> csgo_unknown<br><b>User Location:</b> Fort Drum, NY<br><b>Verified?</b> False<br><b>Date:</b> 31/05/2016<br><b>Tweet:</b> HERE WE GO G2 Lets Face roll baby! @EL<b>Polarity:</b> 0.0<br><b>Subjectivity:</b> 0.0",
          "<b>Name:</b> Sagemadarq<br><b>User Location:</b> Chasm of the abyss<br><b>Verified?</b> False<br><b>Date:</b> 10/05/2023<br><b>Tweet:</b> @Alkem1stCS @CSGOEmpireV2 they accuse csgo roll of having a deceiving withrawal systeme, a worse P2P systeme and that csgoroll claims its the biggest skins marketplace, when infact its an online casino, also G2 scandale<b>Polarity:</b> -0.4<br><b>Subjectivity:</b> 0.6",
          "<b>Name:</b> nextlevel_br<br><b>User Location:</b> nan<br><b>Verified?</b> False<br><b>Date:</b> 23/05/2023<br><b>Tweet:</b> O cara colou a mão dele na máquina da ativação que tinha no Major de CS:GO 😱\n\nEle fez isso em forma de protesto contra o site 'CSGO Roll', que fez a ativação em parceria com a G2\nhttps://t.co/DFK0DEdvSu<b>Polarity:</b> -0.03125<br><b>Subjectivity:</b> 0.5",
          "<b>Name:</b> aim_assist100<br><b>User Location:</b> Australia<br><b>Verified?</b> False<br><b>Date:</b> 02/05/2023<br><b>Tweet:</b> We’re on a roll! AAA esports tip for today\n\nLOL MSI G2 66.10% Win Probability \n\nCSGO ESL Strife 55.97% Win Probability from AAA\n\nOur pick, G2 &amp; Limitless with a 1.5+ handicap paying $2.64 on https://t.co/ipHVlm6P3g\n\nKeep the love coming on the posts and we'll keep the tips coming https://t.co/9FUcsKEr6m<b>Polarity:</b> 0.7250000000000001<br><b>Subjectivity:</b> 0.525",
          "<b>Name:</b> Aks_csgo<br><b>User Location:</b> nan<br><b>Verified?</b> False<br><b>Date:</b> 31/08/2017<br><b>Tweet:</b> Grâce à G2 blodyy ce produit sera topvente Amazon demain 😂\nRockTape Kinesiology 2 Pouce Roll Support Tape - Noir https://t.co/z5EmLORjFa<b>Polarity:</b> 0.0<br><b>Subjectivity:</b> 0.0",
          "<b>Name:</b> trc_api<br><b>User Location:</b> nan<br><b>Verified?</b> False<br><b>Date:</b> 24/07/2023<br><b>Tweet:</b> Feeling nostalgic? 💭💥 Roll back the clock with us ESLCS for a killer rerun! G2 Esports vs Astralis, IEM Cologne 2021 Semifinal, lighting up the screen for 499 avid gamers 🎮⚡ Experience that Nuke Map adrenaline again at https://t.co/l7sjZkTtml #CSGO #RerunRumble<b>Polarity:</b> -0.08333333333333333<br><b>Subjectivity:</b> 0.6666666666666666"
         ],
         "type": "scattermapbox"
        }
       ],
       "layout": {
        "height": 650,
        "mapbox": {
         "center": {
          "lat": 46.3144754,
          "lon": 11.0480288
         },
         "style": "carto-positron",
         "zoom": 0.5
        },
        "template": {
         "data": {
          "bar": [
           {
            "error_x": {
             "color": "#2a3f5f"
            },
            "error_y": {
             "color": "#2a3f5f"
            },
            "marker": {
             "line": {
              "color": "#E5ECF6",
              "width": 0.5
             },
             "pattern": {
              "fillmode": "overlay",
              "size": 10,
              "solidity": 0.2
             }
            },
            "type": "bar"
           }
          ],
          "barpolar": [
           {
            "marker": {
             "line": {
              "color": "#E5ECF6",
              "width": 0.5
             },
             "pattern": {
              "fillmode": "overlay",
              "size": 10,
              "solidity": 0.2
             }
            },
            "type": "barpolar"
           }
          ],
          "carpet": [
           {
            "aaxis": {
             "endlinecolor": "#2a3f5f",
             "gridcolor": "white",
             "linecolor": "white",
             "minorgridcolor": "white",
             "startlinecolor": "#2a3f5f"
            },
            "baxis": {
             "endlinecolor": "#2a3f5f",
             "gridcolor": "white",
             "linecolor": "white",
             "minorgridcolor": "white",
             "startlinecolor": "#2a3f5f"
            },
            "type": "carpet"
           }
          ],
          "choropleth": [
           {
            "colorbar": {
             "outlinewidth": 0,
             "ticks": ""
            },
            "type": "choropleth"
           }
          ],
          "contour": [
           {
            "colorbar": {
             "outlinewidth": 0,
             "ticks": ""
            },
            "colorscale": [
             [
              0,
              "#0d0887"
             ],
             [
              0.1111111111111111,
              "#46039f"
             ],
             [
              0.2222222222222222,
              "#7201a8"
             ],
             [
              0.3333333333333333,
              "#9c179e"
             ],
             [
              0.4444444444444444,
              "#bd3786"
             ],
             [
              0.5555555555555556,
              "#d8576b"
             ],
             [
              0.6666666666666666,
              "#ed7953"
             ],
             [
              0.7777777777777778,
              "#fb9f3a"
             ],
             [
              0.8888888888888888,
              "#fdca26"
             ],
             [
              1,
              "#f0f921"
             ]
            ],
            "type": "contour"
           }
          ],
          "contourcarpet": [
           {
            "colorbar": {
             "outlinewidth": 0,
             "ticks": ""
            },
            "type": "contourcarpet"
           }
          ],
          "heatmap": [
           {
            "colorbar": {
             "outlinewidth": 0,
             "ticks": ""
            },
            "colorscale": [
             [
              0,
              "#0d0887"
             ],
             [
              0.1111111111111111,
              "#46039f"
             ],
             [
              0.2222222222222222,
              "#7201a8"
             ],
             [
              0.3333333333333333,
              "#9c179e"
             ],
             [
              0.4444444444444444,
              "#bd3786"
             ],
             [
              0.5555555555555556,
              "#d8576b"
             ],
             [
              0.6666666666666666,
              "#ed7953"
             ],
             [
              0.7777777777777778,
              "#fb9f3a"
             ],
             [
              0.8888888888888888,
              "#fdca26"
             ],
             [
              1,
              "#f0f921"
             ]
            ],
            "type": "heatmap"
           }
          ],
          "heatmapgl": [
           {
            "colorbar": {
             "outlinewidth": 0,
             "ticks": ""
            },
            "colorscale": [
             [
              0,
              "#0d0887"
             ],
             [
              0.1111111111111111,
              "#46039f"
             ],
             [
              0.2222222222222222,
              "#7201a8"
             ],
             [
              0.3333333333333333,
              "#9c179e"
             ],
             [
              0.4444444444444444,
              "#bd3786"
             ],
             [
              0.5555555555555556,
              "#d8576b"
             ],
             [
              0.6666666666666666,
              "#ed7953"
             ],
             [
              0.7777777777777778,
              "#fb9f3a"
             ],
             [
              0.8888888888888888,
              "#fdca26"
             ],
             [
              1,
              "#f0f921"
             ]
            ],
            "type": "heatmapgl"
           }
          ],
          "histogram": [
           {
            "marker": {
             "pattern": {
              "fillmode": "overlay",
              "size": 10,
              "solidity": 0.2
             }
            },
            "type": "histogram"
           }
          ],
          "histogram2d": [
           {
            "colorbar": {
             "outlinewidth": 0,
             "ticks": ""
            },
            "colorscale": [
             [
              0,
              "#0d0887"
             ],
             [
              0.1111111111111111,
              "#46039f"
             ],
             [
              0.2222222222222222,
              "#7201a8"
             ],
             [
              0.3333333333333333,
              "#9c179e"
             ],
             [
              0.4444444444444444,
              "#bd3786"
             ],
             [
              0.5555555555555556,
              "#d8576b"
             ],
             [
              0.6666666666666666,
              "#ed7953"
             ],
             [
              0.7777777777777778,
              "#fb9f3a"
             ],
             [
              0.8888888888888888,
              "#fdca26"
             ],
             [
              1,
              "#f0f921"
             ]
            ],
            "type": "histogram2d"
           }
          ],
          "histogram2dcontour": [
           {
            "colorbar": {
             "outlinewidth": 0,
             "ticks": ""
            },
            "colorscale": [
             [
              0,
              "#0d0887"
             ],
             [
              0.1111111111111111,
              "#46039f"
             ],
             [
              0.2222222222222222,
              "#7201a8"
             ],
             [
              0.3333333333333333,
              "#9c179e"
             ],
             [
              0.4444444444444444,
              "#bd3786"
             ],
             [
              0.5555555555555556,
              "#d8576b"
             ],
             [
              0.6666666666666666,
              "#ed7953"
             ],
             [
              0.7777777777777778,
              "#fb9f3a"
             ],
             [
              0.8888888888888888,
              "#fdca26"
             ],
             [
              1,
              "#f0f921"
             ]
            ],
            "type": "histogram2dcontour"
           }
          ],
          "mesh3d": [
           {
            "colorbar": {
             "outlinewidth": 0,
             "ticks": ""
            },
            "type": "mesh3d"
           }
          ],
          "parcoords": [
           {
            "line": {
             "colorbar": {
              "outlinewidth": 0,
              "ticks": ""
             }
            },
            "type": "parcoords"
           }
          ],
          "pie": [
           {
            "automargin": true,
            "type": "pie"
           }
          ],
          "scatter": [
           {
            "fillpattern": {
             "fillmode": "overlay",
             "size": 10,
             "solidity": 0.2
            },
            "type": "scatter"
           }
          ],
          "scatter3d": [
           {
            "line": {
             "colorbar": {
              "outlinewidth": 0,
              "ticks": ""
             }
            },
            "marker": {
             "colorbar": {
              "outlinewidth": 0,
              "ticks": ""
             }
            },
            "type": "scatter3d"
           }
          ],
          "scattercarpet": [
           {
            "marker": {
             "colorbar": {
              "outlinewidth": 0,
              "ticks": ""
             }
            },
            "type": "scattercarpet"
           }
          ],
          "scattergeo": [
           {
            "marker": {
             "colorbar": {
              "outlinewidth": 0,
              "ticks": ""
             }
            },
            "type": "scattergeo"
           }
          ],
          "scattergl": [
           {
            "marker": {
             "colorbar": {
              "outlinewidth": 0,
              "ticks": ""
             }
            },
            "type": "scattergl"
           }
          ],
          "scattermapbox": [
           {
            "marker": {
             "colorbar": {
              "outlinewidth": 0,
              "ticks": ""
             }
            },
            "type": "scattermapbox"
           }
          ],
          "scatterpolar": [
           {
            "marker": {
             "colorbar": {
              "outlinewidth": 0,
              "ticks": ""
             }
            },
            "type": "scatterpolar"
           }
          ],
          "scatterpolargl": [
           {
            "marker": {
             "colorbar": {
              "outlinewidth": 0,
              "ticks": ""
             }
            },
            "type": "scatterpolargl"
           }
          ],
          "scatterternary": [
           {
            "marker": {
             "colorbar": {
              "outlinewidth": 0,
              "ticks": ""
             }
            },
            "type": "scatterternary"
           }
          ],
          "surface": [
           {
            "colorbar": {
             "outlinewidth": 0,
             "ticks": ""
            },
            "colorscale": [
             [
              0,
              "#0d0887"
             ],
             [
              0.1111111111111111,
              "#46039f"
             ],
             [
              0.2222222222222222,
              "#7201a8"
             ],
             [
              0.3333333333333333,
              "#9c179e"
             ],
             [
              0.4444444444444444,
              "#bd3786"
             ],
             [
              0.5555555555555556,
              "#d8576b"
             ],
             [
              0.6666666666666666,
              "#ed7953"
             ],
             [
              0.7777777777777778,
              "#fb9f3a"
             ],
             [
              0.8888888888888888,
              "#fdca26"
             ],
             [
              1,
              "#f0f921"
             ]
            ],
            "type": "surface"
           }
          ],
          "table": [
           {
            "cells": {
             "fill": {
              "color": "#EBF0F8"
             },
             "line": {
              "color": "white"
             }
            },
            "header": {
             "fill": {
              "color": "#C8D4E3"
             },
             "line": {
              "color": "white"
             }
            },
            "type": "table"
           }
          ]
         },
         "layout": {
          "annotationdefaults": {
           "arrowcolor": "#2a3f5f",
           "arrowhead": 0,
           "arrowwidth": 1
          },
          "autotypenumbers": "strict",
          "coloraxis": {
           "colorbar": {
            "outlinewidth": 0,
            "ticks": ""
           }
          },
          "colorscale": {
           "diverging": [
            [
             0,
             "#8e0152"
            ],
            [
             0.1,
             "#c51b7d"
            ],
            [
             0.2,
             "#de77ae"
            ],
            [
             0.3,
             "#f1b6da"
            ],
            [
             0.4,
             "#fde0ef"
            ],
            [
             0.5,
             "#f7f7f7"
            ],
            [
             0.6,
             "#e6f5d0"
            ],
            [
             0.7,
             "#b8e186"
            ],
            [
             0.8,
             "#7fbc41"
            ],
            [
             0.9,
             "#4d9221"
            ],
            [
             1,
             "#276419"
            ]
           ],
           "sequential": [
            [
             0,
             "#0d0887"
            ],
            [
             0.1111111111111111,
             "#46039f"
            ],
            [
             0.2222222222222222,
             "#7201a8"
            ],
            [
             0.3333333333333333,
             "#9c179e"
            ],
            [
             0.4444444444444444,
             "#bd3786"
            ],
            [
             0.5555555555555556,
             "#d8576b"
            ],
            [
             0.6666666666666666,
             "#ed7953"
            ],
            [
             0.7777777777777778,
             "#fb9f3a"
            ],
            [
             0.8888888888888888,
             "#fdca26"
            ],
            [
             1,
             "#f0f921"
            ]
           ],
           "sequentialminus": [
            [
             0,
             "#0d0887"
            ],
            [
             0.1111111111111111,
             "#46039f"
            ],
            [
             0.2222222222222222,
             "#7201a8"
            ],
            [
             0.3333333333333333,
             "#9c179e"
            ],
            [
             0.4444444444444444,
             "#bd3786"
            ],
            [
             0.5555555555555556,
             "#d8576b"
            ],
            [
             0.6666666666666666,
             "#ed7953"
            ],
            [
             0.7777777777777778,
             "#fb9f3a"
            ],
            [
             0.8888888888888888,
             "#fdca26"
            ],
            [
             1,
             "#f0f921"
            ]
           ]
          },
          "colorway": [
           "#636efa",
           "#EF553B",
           "#00cc96",
           "#ab63fa",
           "#FFA15A",
           "#19d3f3",
           "#FF6692",
           "#B6E880",
           "#FF97FF",
           "#FECB52"
          ],
          "font": {
           "color": "#2a3f5f"
          },
          "geo": {
           "bgcolor": "white",
           "lakecolor": "white",
           "landcolor": "#E5ECF6",
           "showlakes": true,
           "showland": true,
           "subunitcolor": "white"
          },
          "hoverlabel": {
           "align": "left"
          },
          "hovermode": "closest",
          "mapbox": {
           "style": "light"
          },
          "paper_bgcolor": "white",
          "plot_bgcolor": "#E5ECF6",
          "polar": {
           "angularaxis": {
            "gridcolor": "white",
            "linecolor": "white",
            "ticks": ""
           },
           "bgcolor": "#E5ECF6",
           "radialaxis": {
            "gridcolor": "white",
            "linecolor": "white",
            "ticks": ""
           }
          },
          "scene": {
           "xaxis": {
            "backgroundcolor": "#E5ECF6",
            "gridcolor": "white",
            "gridwidth": 2,
            "linecolor": "white",
            "showbackground": true,
            "ticks": "",
            "zerolinecolor": "white"
           },
           "yaxis": {
            "backgroundcolor": "#E5ECF6",
            "gridcolor": "white",
            "gridwidth": 2,
            "linecolor": "white",
            "showbackground": true,
            "ticks": "",
            "zerolinecolor": "white"
           },
           "zaxis": {
            "backgroundcolor": "#E5ECF6",
            "gridcolor": "white",
            "gridwidth": 2,
            "linecolor": "white",
            "showbackground": true,
            "ticks": "",
            "zerolinecolor": "white"
           }
          },
          "shapedefaults": {
           "line": {
            "color": "#2a3f5f"
           }
          },
          "ternary": {
           "aaxis": {
            "gridcolor": "white",
            "linecolor": "white",
            "ticks": ""
           },
           "baxis": {
            "gridcolor": "white",
            "linecolor": "white",
            "ticks": ""
           },
           "bgcolor": "#E5ECF6",
           "caxis": {
            "gridcolor": "white",
            "linecolor": "white",
            "ticks": ""
           }
          },
          "title": {
           "x": 0.05
          },
          "xaxis": {
           "automargin": true,
           "gridcolor": "white",
           "linecolor": "white",
           "ticks": "",
           "title": {
            "standoff": 15
           },
           "zerolinecolor": "white",
           "zerolinewidth": 2
          },
          "yaxis": {
           "automargin": true,
           "gridcolor": "white",
           "linecolor": "white",
           "ticks": "",
           "title": {
            "standoff": 15
           },
           "zerolinecolor": "white",
           "zerolinewidth": 2
          }
         }
        },
        "title": {
         "text": "Polarity of G2/CSGORoll-related Tweets"
        },
        "width": 900
       }
      }
     },
     "metadata": {},
     "output_type": "display_data"
    }
   ],
   "source": [
    "# Create a Scatter map figure with data for Polarity of G2/CSGO Roll-related Tweets\n",
    "polmap = go.Figure(go.Scattermapbox(lat=tweets_final['geometry'].y,\n",
    "                                    lon=tweets_final['geometry'].x,\n",
    "                                    mode='markers',\n",
    "                                    marker=dict(size=7.5,\n",
    "                                                color=tweets_final['polarity'],\n",
    "                                                colorscale='sunset',\n",
    "                                                opacity=0.7,\n",
    "                                                colorbar=dict(title='Polarity')),\n",
    "                                    text=sentimenthover)\n",
    ")\n",
    "\n",
    "# Set the layout of the Scatter map figure, including the title, the map attributes, the plot height and the plot width\n",
    "polmap.update_layout(title='Polarity of G2/CSGORoll-related Tweets',\n",
    "                     mapbox=dict(style='carto-positron',\n",
    "                                 center=dict(lat=tweets_final['geometry'].y.median(),\n",
    "                                             lon=tweets_final['geometry'].x.median()),\n",
    "                                 zoom=0.5),\n",
    "                     height=650,\n",
    "                     width=900\n",
    ")\n",
    "\n",
    "# Show the Scatter map figure\n",
    "polmap.show()"
   ]
  },
  {
   "attachments": {},
   "cell_type": "markdown",
   "metadata": {},
   "source": [
    "Using a Scatter map again, we visualise the geographical distribution of the polarity data from tweets related to the G2/CSGORoll sponsorship. Using the Plotly library, and the Mapbox API, markers are placed on the map that correspond to the approximate location of each tweet and where it originated from. The 'carto-positron' Mapbox style is used to provide a clear background, and uses the latitude and longitude coordinates, which are derived from the 'geometry' column in the dataset, to plot each tweet. The markers are colored using the 'sunset' colorscale, which ranges from yellow to purple to represent negative and positive polarity, respectively. This helps to quickly identify areas of high negative or positive sentiment in the tweets and provides a broad overview of the global opinion of the G2/CSGORoll sponsorship on Twitter."
   ]
  },
  {
   "attachments": {},
   "cell_type": "markdown",
   "metadata": {},
   "source": [
    "##### Subjectivity"
   ]
  },
  {
   "cell_type": "code",
   "execution_count": 22,
   "metadata": {},
   "outputs": [
    {
     "data": {
      "application/vnd.plotly.v1+json": {
       "config": {
        "plotlyServerURL": "https://plot.ly"
       },
       "data": [
        {
         "alignmentgroup": "True",
         "bingroup": "x",
         "hovertemplate": "subjectivity=%{x}<br>count=%{y}<extra></extra>",
         "legendgroup": "",
         "marker": {
          "color": "#636efa",
          "pattern": {
           "shape": ""
          }
         },
         "name": "",
         "nbinsx": 20,
         "offsetgroup": "",
         "orientation": "v",
         "showlegend": false,
         "type": "histogram",
         "x": [
          0.5,
          0.2,
          0.7,
          0.5,
          0.8,
          0,
          0,
          0.5619047619047618,
          0,
          0,
          0.6000000000000001,
          0.49375,
          0.8,
          0.7272727272727273,
          0.5,
          0.75,
          0.6166666666666666,
          0.30000000000000004,
          0.4047619047619047,
          0.57,
          0.5,
          0,
          0,
          0,
          0.18055555555555555,
          1,
          0,
          1,
          0.5,
          0.4735714285714286,
          0,
          0.5833333333333334,
          0.645,
          0.4,
          0,
          0,
          0.5744047619047619,
          0.865625,
          0.5313131313131313,
          0.9,
          0.5,
          0.9,
          0,
          0.3333333333333333,
          0,
          0,
          0.2692307692307692,
          0.375,
          0.5,
          0,
          0.5416666666666666,
          0.6444444444444444,
          0,
          0,
          0,
          0.5,
          0.3625,
          0,
          0.3833333333333333,
          0,
          0,
          0.2833333333333333,
          0.625,
          0.3583333333333334,
          0,
          0,
          0.6,
          0.5,
          0.525,
          0,
          0.6666666666666666
         ],
         "xaxis": "x",
         "yaxis": "y"
        }
       ],
       "layout": {
        "barmode": "relative",
        "legend": {
         "tracegroupgap": 0
        },
        "template": {
         "data": {
          "bar": [
           {
            "error_x": {
             "color": "#2a3f5f"
            },
            "error_y": {
             "color": "#2a3f5f"
            },
            "marker": {
             "line": {
              "color": "#E5ECF6",
              "width": 0.5
             },
             "pattern": {
              "fillmode": "overlay",
              "size": 10,
              "solidity": 0.2
             }
            },
            "type": "bar"
           }
          ],
          "barpolar": [
           {
            "marker": {
             "line": {
              "color": "#E5ECF6",
              "width": 0.5
             },
             "pattern": {
              "fillmode": "overlay",
              "size": 10,
              "solidity": 0.2
             }
            },
            "type": "barpolar"
           }
          ],
          "carpet": [
           {
            "aaxis": {
             "endlinecolor": "#2a3f5f",
             "gridcolor": "white",
             "linecolor": "white",
             "minorgridcolor": "white",
             "startlinecolor": "#2a3f5f"
            },
            "baxis": {
             "endlinecolor": "#2a3f5f",
             "gridcolor": "white",
             "linecolor": "white",
             "minorgridcolor": "white",
             "startlinecolor": "#2a3f5f"
            },
            "type": "carpet"
           }
          ],
          "choropleth": [
           {
            "colorbar": {
             "outlinewidth": 0,
             "ticks": ""
            },
            "type": "choropleth"
           }
          ],
          "contour": [
           {
            "colorbar": {
             "outlinewidth": 0,
             "ticks": ""
            },
            "colorscale": [
             [
              0,
              "#0d0887"
             ],
             [
              0.1111111111111111,
              "#46039f"
             ],
             [
              0.2222222222222222,
              "#7201a8"
             ],
             [
              0.3333333333333333,
              "#9c179e"
             ],
             [
              0.4444444444444444,
              "#bd3786"
             ],
             [
              0.5555555555555556,
              "#d8576b"
             ],
             [
              0.6666666666666666,
              "#ed7953"
             ],
             [
              0.7777777777777778,
              "#fb9f3a"
             ],
             [
              0.8888888888888888,
              "#fdca26"
             ],
             [
              1,
              "#f0f921"
             ]
            ],
            "type": "contour"
           }
          ],
          "contourcarpet": [
           {
            "colorbar": {
             "outlinewidth": 0,
             "ticks": ""
            },
            "type": "contourcarpet"
           }
          ],
          "heatmap": [
           {
            "colorbar": {
             "outlinewidth": 0,
             "ticks": ""
            },
            "colorscale": [
             [
              0,
              "#0d0887"
             ],
             [
              0.1111111111111111,
              "#46039f"
             ],
             [
              0.2222222222222222,
              "#7201a8"
             ],
             [
              0.3333333333333333,
              "#9c179e"
             ],
             [
              0.4444444444444444,
              "#bd3786"
             ],
             [
              0.5555555555555556,
              "#d8576b"
             ],
             [
              0.6666666666666666,
              "#ed7953"
             ],
             [
              0.7777777777777778,
              "#fb9f3a"
             ],
             [
              0.8888888888888888,
              "#fdca26"
             ],
             [
              1,
              "#f0f921"
             ]
            ],
            "type": "heatmap"
           }
          ],
          "heatmapgl": [
           {
            "colorbar": {
             "outlinewidth": 0,
             "ticks": ""
            },
            "colorscale": [
             [
              0,
              "#0d0887"
             ],
             [
              0.1111111111111111,
              "#46039f"
             ],
             [
              0.2222222222222222,
              "#7201a8"
             ],
             [
              0.3333333333333333,
              "#9c179e"
             ],
             [
              0.4444444444444444,
              "#bd3786"
             ],
             [
              0.5555555555555556,
              "#d8576b"
             ],
             [
              0.6666666666666666,
              "#ed7953"
             ],
             [
              0.7777777777777778,
              "#fb9f3a"
             ],
             [
              0.8888888888888888,
              "#fdca26"
             ],
             [
              1,
              "#f0f921"
             ]
            ],
            "type": "heatmapgl"
           }
          ],
          "histogram": [
           {
            "marker": {
             "pattern": {
              "fillmode": "overlay",
              "size": 10,
              "solidity": 0.2
             }
            },
            "type": "histogram"
           }
          ],
          "histogram2d": [
           {
            "colorbar": {
             "outlinewidth": 0,
             "ticks": ""
            },
            "colorscale": [
             [
              0,
              "#0d0887"
             ],
             [
              0.1111111111111111,
              "#46039f"
             ],
             [
              0.2222222222222222,
              "#7201a8"
             ],
             [
              0.3333333333333333,
              "#9c179e"
             ],
             [
              0.4444444444444444,
              "#bd3786"
             ],
             [
              0.5555555555555556,
              "#d8576b"
             ],
             [
              0.6666666666666666,
              "#ed7953"
             ],
             [
              0.7777777777777778,
              "#fb9f3a"
             ],
             [
              0.8888888888888888,
              "#fdca26"
             ],
             [
              1,
              "#f0f921"
             ]
            ],
            "type": "histogram2d"
           }
          ],
          "histogram2dcontour": [
           {
            "colorbar": {
             "outlinewidth": 0,
             "ticks": ""
            },
            "colorscale": [
             [
              0,
              "#0d0887"
             ],
             [
              0.1111111111111111,
              "#46039f"
             ],
             [
              0.2222222222222222,
              "#7201a8"
             ],
             [
              0.3333333333333333,
              "#9c179e"
             ],
             [
              0.4444444444444444,
              "#bd3786"
             ],
             [
              0.5555555555555556,
              "#d8576b"
             ],
             [
              0.6666666666666666,
              "#ed7953"
             ],
             [
              0.7777777777777778,
              "#fb9f3a"
             ],
             [
              0.8888888888888888,
              "#fdca26"
             ],
             [
              1,
              "#f0f921"
             ]
            ],
            "type": "histogram2dcontour"
           }
          ],
          "mesh3d": [
           {
            "colorbar": {
             "outlinewidth": 0,
             "ticks": ""
            },
            "type": "mesh3d"
           }
          ],
          "parcoords": [
           {
            "line": {
             "colorbar": {
              "outlinewidth": 0,
              "ticks": ""
             }
            },
            "type": "parcoords"
           }
          ],
          "pie": [
           {
            "automargin": true,
            "type": "pie"
           }
          ],
          "scatter": [
           {
            "fillpattern": {
             "fillmode": "overlay",
             "size": 10,
             "solidity": 0.2
            },
            "type": "scatter"
           }
          ],
          "scatter3d": [
           {
            "line": {
             "colorbar": {
              "outlinewidth": 0,
              "ticks": ""
             }
            },
            "marker": {
             "colorbar": {
              "outlinewidth": 0,
              "ticks": ""
             }
            },
            "type": "scatter3d"
           }
          ],
          "scattercarpet": [
           {
            "marker": {
             "colorbar": {
              "outlinewidth": 0,
              "ticks": ""
             }
            },
            "type": "scattercarpet"
           }
          ],
          "scattergeo": [
           {
            "marker": {
             "colorbar": {
              "outlinewidth": 0,
              "ticks": ""
             }
            },
            "type": "scattergeo"
           }
          ],
          "scattergl": [
           {
            "marker": {
             "colorbar": {
              "outlinewidth": 0,
              "ticks": ""
             }
            },
            "type": "scattergl"
           }
          ],
          "scattermapbox": [
           {
            "marker": {
             "colorbar": {
              "outlinewidth": 0,
              "ticks": ""
             }
            },
            "type": "scattermapbox"
           }
          ],
          "scatterpolar": [
           {
            "marker": {
             "colorbar": {
              "outlinewidth": 0,
              "ticks": ""
             }
            },
            "type": "scatterpolar"
           }
          ],
          "scatterpolargl": [
           {
            "marker": {
             "colorbar": {
              "outlinewidth": 0,
              "ticks": ""
             }
            },
            "type": "scatterpolargl"
           }
          ],
          "scatterternary": [
           {
            "marker": {
             "colorbar": {
              "outlinewidth": 0,
              "ticks": ""
             }
            },
            "type": "scatterternary"
           }
          ],
          "surface": [
           {
            "colorbar": {
             "outlinewidth": 0,
             "ticks": ""
            },
            "colorscale": [
             [
              0,
              "#0d0887"
             ],
             [
              0.1111111111111111,
              "#46039f"
             ],
             [
              0.2222222222222222,
              "#7201a8"
             ],
             [
              0.3333333333333333,
              "#9c179e"
             ],
             [
              0.4444444444444444,
              "#bd3786"
             ],
             [
              0.5555555555555556,
              "#d8576b"
             ],
             [
              0.6666666666666666,
              "#ed7953"
             ],
             [
              0.7777777777777778,
              "#fb9f3a"
             ],
             [
              0.8888888888888888,
              "#fdca26"
             ],
             [
              1,
              "#f0f921"
             ]
            ],
            "type": "surface"
           }
          ],
          "table": [
           {
            "cells": {
             "fill": {
              "color": "#EBF0F8"
             },
             "line": {
              "color": "white"
             }
            },
            "header": {
             "fill": {
              "color": "#C8D4E3"
             },
             "line": {
              "color": "white"
             }
            },
            "type": "table"
           }
          ]
         },
         "layout": {
          "annotationdefaults": {
           "arrowcolor": "#2a3f5f",
           "arrowhead": 0,
           "arrowwidth": 1
          },
          "autotypenumbers": "strict",
          "coloraxis": {
           "colorbar": {
            "outlinewidth": 0,
            "ticks": ""
           }
          },
          "colorscale": {
           "diverging": [
            [
             0,
             "#8e0152"
            ],
            [
             0.1,
             "#c51b7d"
            ],
            [
             0.2,
             "#de77ae"
            ],
            [
             0.3,
             "#f1b6da"
            ],
            [
             0.4,
             "#fde0ef"
            ],
            [
             0.5,
             "#f7f7f7"
            ],
            [
             0.6,
             "#e6f5d0"
            ],
            [
             0.7,
             "#b8e186"
            ],
            [
             0.8,
             "#7fbc41"
            ],
            [
             0.9,
             "#4d9221"
            ],
            [
             1,
             "#276419"
            ]
           ],
           "sequential": [
            [
             0,
             "#0d0887"
            ],
            [
             0.1111111111111111,
             "#46039f"
            ],
            [
             0.2222222222222222,
             "#7201a8"
            ],
            [
             0.3333333333333333,
             "#9c179e"
            ],
            [
             0.4444444444444444,
             "#bd3786"
            ],
            [
             0.5555555555555556,
             "#d8576b"
            ],
            [
             0.6666666666666666,
             "#ed7953"
            ],
            [
             0.7777777777777778,
             "#fb9f3a"
            ],
            [
             0.8888888888888888,
             "#fdca26"
            ],
            [
             1,
             "#f0f921"
            ]
           ],
           "sequentialminus": [
            [
             0,
             "#0d0887"
            ],
            [
             0.1111111111111111,
             "#46039f"
            ],
            [
             0.2222222222222222,
             "#7201a8"
            ],
            [
             0.3333333333333333,
             "#9c179e"
            ],
            [
             0.4444444444444444,
             "#bd3786"
            ],
            [
             0.5555555555555556,
             "#d8576b"
            ],
            [
             0.6666666666666666,
             "#ed7953"
            ],
            [
             0.7777777777777778,
             "#fb9f3a"
            ],
            [
             0.8888888888888888,
             "#fdca26"
            ],
            [
             1,
             "#f0f921"
            ]
           ]
          },
          "colorway": [
           "#636efa",
           "#EF553B",
           "#00cc96",
           "#ab63fa",
           "#FFA15A",
           "#19d3f3",
           "#FF6692",
           "#B6E880",
           "#FF97FF",
           "#FECB52"
          ],
          "font": {
           "color": "#2a3f5f"
          },
          "geo": {
           "bgcolor": "white",
           "lakecolor": "white",
           "landcolor": "#E5ECF6",
           "showlakes": true,
           "showland": true,
           "subunitcolor": "white"
          },
          "hoverlabel": {
           "align": "left"
          },
          "hovermode": "closest",
          "mapbox": {
           "style": "light"
          },
          "paper_bgcolor": "white",
          "plot_bgcolor": "#E5ECF6",
          "polar": {
           "angularaxis": {
            "gridcolor": "white",
            "linecolor": "white",
            "ticks": ""
           },
           "bgcolor": "#E5ECF6",
           "radialaxis": {
            "gridcolor": "white",
            "linecolor": "white",
            "ticks": ""
           }
          },
          "scene": {
           "xaxis": {
            "backgroundcolor": "#E5ECF6",
            "gridcolor": "white",
            "gridwidth": 2,
            "linecolor": "white",
            "showbackground": true,
            "ticks": "",
            "zerolinecolor": "white"
           },
           "yaxis": {
            "backgroundcolor": "#E5ECF6",
            "gridcolor": "white",
            "gridwidth": 2,
            "linecolor": "white",
            "showbackground": true,
            "ticks": "",
            "zerolinecolor": "white"
           },
           "zaxis": {
            "backgroundcolor": "#E5ECF6",
            "gridcolor": "white",
            "gridwidth": 2,
            "linecolor": "white",
            "showbackground": true,
            "ticks": "",
            "zerolinecolor": "white"
           }
          },
          "shapedefaults": {
           "line": {
            "color": "#2a3f5f"
           }
          },
          "ternary": {
           "aaxis": {
            "gridcolor": "white",
            "linecolor": "white",
            "ticks": ""
           },
           "baxis": {
            "gridcolor": "white",
            "linecolor": "white",
            "ticks": ""
           },
           "bgcolor": "#E5ECF6",
           "caxis": {
            "gridcolor": "white",
            "linecolor": "white",
            "ticks": ""
           }
          },
          "title": {
           "x": 0.05
          },
          "xaxis": {
           "automargin": true,
           "gridcolor": "white",
           "linecolor": "white",
           "ticks": "",
           "title": {
            "standoff": 15
           },
           "zerolinecolor": "white",
           "zerolinewidth": 2
          },
          "yaxis": {
           "automargin": true,
           "gridcolor": "white",
           "linecolor": "white",
           "ticks": "",
           "title": {
            "standoff": 15
           },
           "zerolinecolor": "white",
           "zerolinewidth": 2
          }
         }
        },
        "title": {
         "text": "Subjectivity of G2/CSGORoll-related Tweets"
        },
        "width": 900,
        "xaxis": {
         "anchor": "y",
         "domain": [
          0,
          1
         ],
         "title": {
          "text": "subjectivity"
         }
        },
        "yaxis": {
         "anchor": "x",
         "domain": [
          0,
          1
         ],
         "title": {
          "text": "count"
         }
        }
       }
      }
     },
     "metadata": {},
     "output_type": "display_data"
    }
   ],
   "source": [
    "# Create a Histogram figure with data for Subjectivity of G2/CSGO Roll-related Tweets\n",
    "subhist=px.histogram(tweets_final,\n",
    "                     x='subjectivity',\n",
    "                     nbins=20,\n",
    "                     title='Subjectivity of G2/CSGORoll-related Tweets',\n",
    "                     width=900)\n",
    "\n",
    "# Show the Histogram figure\n",
    "subhist.show()"
   ]
  },
  {
   "attachments": {},
   "cell_type": "markdown",
   "metadata": {},
   "source": [
    "Using a histogram again, we can visualize the subjectivity data from the sentiment analysis we applied to the dataset. The histogram shows that the majority of tweets have a subjectivity score of 0, indicating an objective tone towards the G2/CSGORoll sponsorship. There are a handful of tweets with fair to high subjectivity scores, indicating a more personal or emotional tone. Overall, the histogram provides a clear representation of the subjectivity distribution among Twitter users in relation to the G2/CSGORoll sponsorship."
   ]
  },
  {
   "cell_type": "code",
   "execution_count": 23,
   "metadata": {},
   "outputs": [
    {
     "data": {
      "application/vnd.plotly.v1+json": {
       "config": {
        "plotlyServerURL": "https://plot.ly"
       },
       "data": [
        {
         "lat": [
          46.3144754,
          null,
          25.074282349999997,
          33.2588817,
          44.4761601,
          46.3144754,
          18.9733536,
          46.3144754,
          41.2861022,
          46.3144754,
          40.4416941,
          46.3144754,
          51.0538286,
          46.3144754,
          46.3144754,
          -37.3125781,
          43.409022,
          29.4246002,
          46.3144754,
          40.9699889,
          52.1959491,
          -36.5341903,
          41.3828939,
          -32.9593609,
          44.575616,
          49.4420467,
          40.4167047,
          -37.8142454,
          22.3511148,
          46.3144754,
          46.3144754,
          60.288655,
          46.3144754,
          -18.4554963,
          39.999971,
          46.3144754,
          50.938361,
          46.3144754,
          null,
          47.59397,
          46.3144754,
          11.7761562,
          null,
          46.3144754,
          46.3144754,
          46.3144754,
          59.644468,
          50.938361,
          45.4401467,
          46.3144754,
          46.3144754,
          55.6812495,
          46.3144754,
          46.3144754,
          40.7127281,
          34.0536909,
          18.521428,
          null,
          46.3144754,
          48.1113387,
          45.300575,
          46.3144754,
          40.6667691,
          46.3144754,
          46.9484742,
          44.046388,
          null,
          46.3144754,
          -24.7761086,
          46.3144754,
          46.3144754
         ],
         "lon": [
          11.0480288,
          null,
          55.18853865430702,
          -86.8295337,
          -73.212906,
          11.0480288,
          72.82810491917377,
          11.0480288,
          1.9824173,
          11.0480288,
          -79.9900861,
          11.0480288,
          3.7250121,
          11.0480288,
          11.0480288,
          -59.158166,
          24.6180123,
          -98.4951405,
          11.0480288,
          -77.7278831,
          -1.77625605,
          -72.0878536,
          2.1774322,
          -60.6617024,
          -78.8486034,
          7.7708363,
          -3.7035825,
          144.9631732,
          78.6677428,
          11.0480288,
          11.0480288,
          24.775614,
          11.0480288,
          29.7468414,
          3.8395763,
          11.0480288,
          6.959974,
          11.0480288,
          null,
          14.12456,
          11.0480288,
          125.0205857,
          null,
          11.0480288,
          11.0480288,
          11.0480288,
          17.0878665,
          6.959974,
          4.3873058,
          11.0480288,
          11.0480288,
          12.4547294,
          11.0480288,
          11.0480288,
          -74.0060152,
          -118.242766,
          73.8544541,
          null,
          11.0480288,
          -1.6800198,
          -79.946399,
          11.0480288,
          33.4526069,
          11.0480288,
          7.4521749,
          -75.777168,
          null,
          11.0480288,
          134.755,
          11.0480288,
          11.0480288
         ],
         "marker": {
          "color": [
           0.5,
           0.2,
           0.7,
           0.5,
           0.8,
           0,
           0,
           0.5619047619047618,
           0,
           0,
           0.6000000000000001,
           0.49375,
           0.8,
           0.7272727272727273,
           0.5,
           0.75,
           0.6166666666666666,
           0.30000000000000004,
           0.4047619047619047,
           0.57,
           0.5,
           0,
           0,
           0,
           0.18055555555555555,
           1,
           0,
           1,
           0.5,
           0.4735714285714286,
           0,
           0.5833333333333334,
           0.645,
           0.4,
           0,
           0,
           0.5744047619047619,
           0.865625,
           0.5313131313131313,
           0.9,
           0.5,
           0.9,
           0,
           0.3333333333333333,
           0,
           0,
           0.2692307692307692,
           0.375,
           0.5,
           0,
           0.5416666666666666,
           0.6444444444444444,
           0,
           0,
           0,
           0.5,
           0.3625,
           0,
           0.3833333333333333,
           0,
           0,
           0.2833333333333333,
           0.625,
           0.3583333333333334,
           0,
           0,
           0.6,
           0.5,
           0.525,
           0,
           0.6666666666666666
          ],
          "colorbar": {
           "title": {
            "text": "Subjectivity"
           }
          },
          "colorscale": [
           [
            0,
            "rgb(243, 231, 155)"
           ],
           [
            0.16666666666666666,
            "rgb(250, 196, 132)"
           ],
           [
            0.3333333333333333,
            "rgb(248, 160, 126)"
           ],
           [
            0.5,
            "rgb(235, 127, 134)"
           ],
           [
            0.6666666666666666,
            "rgb(206, 102, 147)"
           ],
           [
            0.8333333333333334,
            "rgb(160, 89, 160)"
           ],
           [
            1,
            "rgb(92, 83, 165)"
           ]
          ],
          "opacity": 0.7,
          "size": 7.5
         },
         "mode": "markers",
         "text": [
          "<b>Name:</b> fyta_ow<br><b>User Location:</b> nan<br><b>Verified?</b> False<br><b>Date:</b> 13/07/2023<br><b>Tweet:</b> @hanshimcd @wonderingsonny @CSGOEmpireV2 @SparklesCSGOYT I guess it's part of the deal, it's the same way other youtubers advertise a brand on their videos. The only problem would be if Sparkles knew that CSGO Roll was a scam.<b>Polarity:</b> -0.041666666666666664<br><b>Subjectivity:</b> 0.5",
          "<b>Name:</b> Al_Azawi987<br><b>User Location:</b> Ela Bosak<br><b>Verified?</b> False<br><b>Date:</b> 13/08/2023<br><b>Tweet:</b> @G2CSGO Can you show us the csgorollscam contract? I just wanna know how much does you dignity sells for<b>Polarity:</b> 0.2<br><b>Subjectivity:</b> 0.2",
          "<b>Name:</b> mostafa_xxxx<br><b>User Location:</b> Dubai - UAE<br><b>Verified?</b> False<br><b>Date:</b> 13/07/2023<br><b>Tweet:</b> @CSGOEmpireV2 @CSGORoll @CSGOEmpireV3 I wanna understand something pls \nCsgo roll is a scam site ? \nI have made it to almsot lvl 80 and getting fucked then it is a scam ? \nPls tell me @VIILines<b>Polarity:</b> -0.6<br><b>Subjectivity:</b> 0.7",
          "<b>Name:</b> 335ie90_<br><b>User Location:</b> Alabama, USA<br><b>Verified?</b> False<br><b>Date:</b> 26/03/2023<br><b>Tweet:</b> @R6Sharpz Csgo roll is such a scam. All online gambling is a joke<b>Polarity:</b> 0.0<br><b>Subjectivity:</b> 0.5",
          "<b>Name:</b> TONYWINS34<br><b>User Location:</b> Burlington, VT<br><b>Verified?</b> False<br><b>Date:</b> 15/06/2017<br><b>Tweet:</b> @NathanCSGORoll #csgorollscam\nDon't do free knife upgrades he scams you<b>Polarity:</b> 0.4<br><b>Subjectivity:</b> 0.8",
          "<b>Name:</b> boptilltheydrop<br><b>User Location:</b> nan<br><b>Verified?</b> False<br><b>Date:</b> 11/07/2017<br><b>Tweet:</b> @m0E_tv thx moe for telling me csgo roll isnt a scam i texted them about how i didnt get the 500 dollars and said it was a chatt error<b>Polarity:</b> 0.0<br><b>Subjectivity:</b> 0.0",
          "<b>Name:</b> tanay0786<br><b>User Location:</b> Mumbai, India<br><b>Verified?</b> False<br><b>Date:</b> 27/08/2021<br><b>Tweet:</b> @JaekCreates This site csgo roll is scam 😂😂😂🙂<b>Polarity:</b> 0.0<br><b>Subjectivity:</b> 0.0",
          "<b>Name:</b> theta2k<br><b>User Location:</b> nan<br><b>Verified?</b> False<br><b>Date:</b> 11/07/2023<br><b>Tweet:</b> @supr3meOfficial I find it really ironic trying to call out csgoroll for being a “scam” but then openly supporting CSGO Empire.\n\nYou guys don’t even use the word scam right, cause if it was the case csgo roll would’ve stolen money from people but I have yet to see a case where that has happened.<b>Polarity:</b> 0.24523809523809526<br><b>Subjectivity:</b> 0.5619047619047618",
          "<b>Name:</b> rambuslol<br><b>User Location:</b> Castelldefels, España 🇨🇦<br><b>Verified?</b> False<br><b>Date:</b> 11/12/2016<br><b>Tweet:</b> @sfdxpro si sigues así podremos denunciar a csgo roll por scam xD<b>Polarity:</b> 0.0<br><b>Subjectivity:</b> 0.0",
          "<b>Name:</b> ScreaM_DUH<br><b>User Location:</b> nan<br><b>Verified?</b> False<br><b>Date:</b> 24/04/2020<br><b>Tweet:</b> @WhatsReselling @NoxNotify @balkobot @ResellAIO @CookologyIO @AshburnProxies @10xServers csgo roll voltou a funcionar nao é scam ele voltou mesmo\n.\n.\nhttps://t.co/MxPWb64dvJ<b>Polarity:</b> 0.0<br><b>Subjectivity:</b> 0.0",
          "<b>Name:</b> Im_BigHoss<br><b>User Location:</b> Pittsburgh, PA<br><b>Verified?</b> False<br><b>Date:</b> 15/08/2023<br><b>Tweet:</b> Does anyone do any CSGO gambling? If so what sites are good tried CSGO roll sites a scam<b>Polarity:</b> 0.7<br><b>Subjectivity:</b> 0.6000000000000001",
          "<b>Name:</b> NowZZalt<br><b>User Location:</b> nan<br><b>Verified?</b> False<br><b>Date:</b> 23/09/2023<br><b>Tweet:</b> @Holf471 I mean roll too and almost every csgo casino unregulated = they do what they want so scam for best profit<b>Polarity:</b> 0.34375<br><b>Subjectivity:</b> 0.49375",
          "<b>Name:</b> ZeusMVPGod<br><b>User Location:</b> Gent, België<br><b>Verified?</b> False<br><b>Date:</b> 19/12/2016<br><b>Tweet:</b> @CSGORoll csgo roll is a fucking scam site now i have 30 blocked https://t.co/fuECgDr37I<b>Polarity:</b> -0.6<br><b>Subjectivity:</b> 0.8",
          "<b>Name:</b> Smncxx<br><b>User Location:</b> nan<br><b>Verified?</b> False<br><b>Date:</b> 19/07/2023<br><b>Tweet:</b> @variancewarren Bro wtf we know this sites are scam , Montana don’t care about csgo roll anyway , and he is new nothing to do with it  . Btw he is unbanned<b>Polarity:</b> -0.18181818181818182<br><b>Subjectivity:</b> 0.7272727272727273",
          "<b>Name:</b> nugget62677626<br><b>User Location:</b> nan<br><b>Verified?</b> False<br><b>Date:</b> 28/09/2022<br><b>Tweet:</b> @_aorodrigo @CSGO_RoIl Change password quick it's a scam site it's not the official CSGO roll site<b>Polarity:</b> 0.3333333333333333<br><b>Subjectivity:</b> 0.5",
          "<b>Name:</b> dlcofficial<br><b>User Location:</b> Mirage<br><b>Verified?</b> False<br><b>Date:</b> 27/09/2022<br><b>Tweet:</b> @Cti9001 @Nuubzaum @nocabcs @Thunder_Dovah @Noob81042802Nft @BBernabat @Jeremia42702774 @Justasadassboi @agustinmori44 More fake csgo roll bot scams? 🙄<b>Polarity:</b> 0.0<br><b>Subjectivity:</b> 0.75",
          "<b>Name:</b> valentingenov<br><b>User Location:</b> Pleven,Bulgaria<br><b>Verified?</b> False<br><b>Date:</b> 25/07/2023<br><b>Tweet:</b> @CSGOEmpire @TDM_Jesus @GrimzYoutube I like the idea behind exposing scam sites and such, but I feel like your personal agenda against the Roll owner is taking a toll on you... It's becoming a crazy witch hunt against any CSGO related persona that has something to do with it. Falling to the lvl of the bad guy 🫤<b>Polarity:</b> -0.17857142857142858<br><b>Subjectivity:</b> 0.6166666666666666",
          "<b>Name:</b> chaseDaviss<br><b>User Location:</b> San Antonio, TX<br><b>Verified?</b> False<br><b>Date:</b> 20/12/2017<br><b>Tweet:</b> @CSGORoll How do we know this is even the real csgo roll account? How do we know that this isn't a scam?<b>Polarity:</b> 0.2<br><b>Subjectivity:</b> 0.30000000000000004",
          "<b>Name:</b> MateuszLenczews<br><b>User Location:</b> nan<br><b>Verified?</b> False<br><b>Date:</b> 18/07/2023<br><b>Tweet:</b> @PastStake @Zeebe_Csgo @variancewarren Dude, someone order you to depo when the withdraw page is empty? It isn't scummy at all but ppl are lacking of common sense.  During that time I've just collected dailies and I withdraw 600c gloves. Didn't put single cent on Roll. Where is this scam?<b>Polarity:</b> -0.15714285714285714<br><b>Subjectivity:</b> 0.4047619047619047",
          "<b>Name:</b> funnykid26YT<br><b>User Location:</b> Pennsylvania, USA<br><b>Verified?</b> False<br><b>Date:</b> 14/07/2023<br><b>Tweet:</b> @r0bzzzzzzz @nightcarries @LeandroEsc0bar @xenonthefriend @CSGOEmpireV2 @SparklesCSGOYT Bro their both scam sites lmaooo… monarch has also sponsored YouTubers with a high percentage of child audiences… so what’s exactly worse on csgo roll then empire lmaoo<b>Polarity:</b> -0.12000000000000001<br><b>Subjectivity:</b> 0.57",
          "<b>Name:</b> LambdaMarcus<br><b>User Location:</b> On the grid.<br><b>Verified?</b> False<br><b>Date:</b> 13/06/2023<br><b>Tweet:</b> @CSGOEmpireV2 @CSGORoll Remember the  passing out flyers at the major about csgo roll, the guy gluing his hand on the button, the attempt to sabotage the withdrawal page on csgo roll, the people wearing csgo roll scam T-shirts. This violates many laws to name one the Sherman anti-trust law.<b>Polarity:</b> 0.28125<br><b>Subjectivity:</b> 0.5",
          "<b>Name:</b> sfdxpro<br><b>User Location:</b> Planeta Tierra<br><b>Verified?</b> False<br><b>Date:</b> 09/03/2017<br><b>Tweet:</b> Atención Scam!! El 95% de las webs que tengan un guion ejemplo CSGO-lounge, csgo-lukye son scam! csgo-roll es como un detector de tontos! XD<b>Polarity:</b> 0.0<br><b>Subjectivity:</b> 0.0",
          "<b>Name:</b> WhoshOfficial<br><b>User Location:</b> Barcelona<br><b>Verified?</b> False<br><b>Date:</b> 13/08/2020<br><b>Tweet:</b> @Johny_csgo @CsgoVampire So, 72h went by. Are you going to roll it or is this a scam?<b>Polarity:</b> 0.0<br><b>Subjectivity:</b> 0.0",
          "<b>Name:</b> nvRcsgo<br><b>User Location:</b> Rosario, Argentina<br><b>Verified?</b> False<br><b>Date:</b> 06/11/2016<br><b>Tweet:</b> @VikingES_Gamer Viking acabo de sacar un cuchillo de csgo roll de 32usd y no me llega el trade ofert! ,es scam esa pagina?:O<b>Polarity:</b> 0.0<br><b>Subjectivity:</b> 0.0",
          "<b>Name:</b> CrunchyyTaco<br><b>User Location:</b> Kawartha Lakes, Ontario<br><b>Verified?</b> False<br><b>Date:</b> 05/05/2017<br><b>Tweet:</b> @VictorSvane @CSGORoll He tried to scam me with the exact same thing. I sent CSGO Roll screenshot about it about 1 hour and a half ago. That's probably whey they<b>Polarity:</b> 0.02777777777777778<br><b>Subjectivity:</b> 0.18055555555555555",
          "<b>Name:</b> sooyaaa__csgo<br><b>User Location:</b> de_inferno<br><b>Verified?</b> False<br><b>Date:</b> 17/05/2020<br><b>Tweet:</b> @litshapez Scam the others and send me that. \n\nKidding. Will be waiting for the roll :)<b>Polarity:</b> 0.5<br><b>Subjectivity:</b> 1.0",
          "<b>Name:</b> Maxc4Gaming<br><b>User Location:</b> .:MADRID:.<br><b>Verified?</b> False<br><b>Date:</b> 24/10/2017<br><b>Tweet:</b> @MatiuXcs me trolea..se hace pasar por moderador y pierdo 10 dólares en una pag scam y me voy a csgo roll y mira papa con 11 dólares jjaja @VikingES_Gamer q opinas https://t.co/3tDbBhANMZ<b>Polarity:</b> 0.0<br><b>Subjectivity:</b> 0.0",
          "<b>Name:</b> DillonGomes<br><b>User Location:</b> Melbourne, Australia<br><b>Verified?</b> False<br><b>Date:</b> 07/06/2021<br><b>Tweet:</b> @SARGE_FIFA I know nothing about CSGO roll but that website is corrupt and a scam, ong.<b>Polarity:</b> -0.5<br><b>Subjectivity:</b> 1.0",
          "<b>Name:</b> MrHarshRana<br><b>User Location:</b> India<br><b>Verified?</b> False<br><b>Date:</b> 14/07/2023<br><b>Tweet:</b> @variancewarren @CSGOEmpireV2 @VIILines I have tried every csgo gambling websites Roll was the worst even the scam Russian websites had better odds &amp; Withdrawal options<b>Polarity:</b> -0.16666666666666666<br><b>Subjectivity:</b> 0.5",
          "<b>Name:</b> high_scam<br><b>User Location:</b> nan<br><b>Verified?</b> False<br><b>Date:</b> 09/03/2018<br><b>Tweet:</b> @ITS_ALX_ @CSGORoll The secret is to gamble smart, i made from 1 dollar up to 50k in 2 years, now i bought for myself an apartament where i can live and study for  university, and u have to stop when u win, always stop, i didnt make 50k on roll, i made it on csgo empire but is same shiet<b>Polarity:</b> 0.15012987012987014<br><b>Subjectivity:</b> 0.4735714285714286",
          "<b>Name:</b> Mg2148455079683<br><b>User Location:</b> nan<br><b>Verified?</b> False<br><b>Date:</b> 26/04/2023<br><b>Tweet:</b> #csgorollscam\n#csgoroll\n#koil<b>Polarity:</b> 0.0<br><b>Subjectivity:</b> 0.0",
          "<b>Name:</b> AnoNgambles<br><b>User Location:</b> Drop a sub! :)<br><b>Verified?</b> False<br><b>Date:</b> 07/11/2022<br><b>Tweet:</b> @jei_csgo no it's not a scam - I had no idea it could only roll when it had 200 people. It's half way there - please be patient<b>Polarity:</b> -0.08333333333333333<br><b>Subjectivity:</b> 0.5833333333333334",
          "<b>Name:</b> q_thatguy<br><b>User Location:</b> nan<br><b>Verified?</b> False<br><b>Date:</b> 15/05/2023<br><b>Tweet:</b> @HobbesHD While i can agree with you that it would be good for roll to take accountability. These issues and deceptive practises take place on most CSGO gambling sites. With deceptive practises to nasty scams, i feel like its time for a more broader change in the entire community.<b>Polarity:</b> 0.13999999999999999<br><b>Subjectivity:</b> 0.645",
          "<b>Name:</b> bibanator<br><b>User Location:</b> Simbabwe<br><b>Verified?</b> False<br><b>Date:</b> 06/03/2022<br><b>Tweet:</b> @F3lix__ Alle Seiten haben ein PVF System und Roll ist derzeit mit Abstand die größte CSGO related gamble page weltweit. Da ist nichts scam. House edge ist da übrigens auch niedriger als bei keydrop und die Skinpreise an buff angepasst, also von daher kann das sowieso nicht sein.<b>Polarity:</b> 0.0<br><b>Subjectivity:</b> 0.4",
          "<b>Name:</b> DexertoEsports<br><b>User Location:</b> Esports<br><b>Verified?</b> False<br><b>Date:</b> 02/05/2023<br><b>Tweet:</b> European Esports Organization, G2 Esports are welcoming CS:GO Roll as their newest CS Skin Gambling sponsor\n\nHowever they are facing backlash after using m0NESY as the face of the partnership a day after just turning 18\n\nhttps://t.co/E5yrud0qv9<b>Polarity:</b> 0.0<br><b>Subjectivity:</b> 0.0",
          "<b>Name:</b> rpesteves<br><b>User Location:</b> nan<br><b>Verified?</b> False<br><b>Date:</b> 02/05/2023<br><b>Tweet:</b> CS:GO Roll patrocinar os G2, W ou L ?<b>Polarity:</b> 0.0<br><b>Subjectivity:</b> 0.0",
          "<b>Name:</b> Knaightzz<br><b>User Location:</b> Cologne, Germany<br><b>Verified?</b> False<br><b>Date:</b> 18/08/2023<br><b>Tweet:</b> @StaubK9 @G2CSGO CS:GO Roll Sponsor. They (and by that I mean G2&amp;CSGORoll) got a lot of flack for their partnership and the company in general. I guess they G2 the right thing and distanced themselves from CSGORoll.<b>Polarity:</b> 0.007738095238095248<br><b>Subjectivity:</b> 0.5744047619047619",
          "<b>Name:</b> xenonthefriend<br><b>User Location:</b> nan<br><b>Verified?</b> False<br><b>Date:</b> 30/07/2023<br><b>Tweet:</b> @JoopiiMonarch \"We are very excited to partner with CS:GO Roll enabling G2 fans to get a chance to earn the rare skin they always dreamed of!” - @AlbanDechelotte. Thank you Alban, now I am going to take out a loan and start gambl.. I mean earning those rare skins!<b>Polarity:</b> 0.23125<br><b>Subjectivity:</b> 0.865625",
          "<b>Name:</b> don_beppe_<br><b>User Location:</b> inspect server<br><b>Verified?</b> False<br><b>Date:</b> 27/07/2023<br><b>Tweet:</b> After G2 shit + taking CS:GO Roll as main sponsor I couldn't find team that I really like out there (maybe heroic and a little bit vitality) but now after Neo announcement in FaZe I think that I have new favourite team.<b>Polarity:</b> 0.13592171717171717<br><b>Subjectivity:</b> 0.5313131313131313",
          "<b>Name:</b> itsVnmzCS<br><b>User Location:</b> Austria<br><b>Verified?</b> False<br><b>Date:</b> 02/05/2023<br><b>Tweet:</b> @G2CSGO \"on a mission to elevate and enhance the player’s in-game experience at every opportunity with innovation at its core.\" \"CS:GO Roll enables G2 fans to get a chance to earn the rare skin they always dreamed of\"💀💀<b>Polarity:</b> 0.3<br><b>Subjectivity:</b> 0.9",
          "<b>Name:</b> nextlevel_br<br><b>User Location:</b> nan<br><b>Verified?</b> False<br><b>Date:</b> 23/05/2023<br><b>Tweet:</b> O cara colou a mão dele na máquina da ativação que tinha no Major de CS:GO 😱\n\nEle fez isso em forma de protesto contra o site 'CSGO Roll', que fez a ativação em parceria com a G2\nhttps://t.co/DFK0DEdvSu<b>Polarity:</b> -0.03125<br><b>Subjectivity:</b> 0.5",
          "<b>Name:</b> DQUANPICKS<br><b>User Location:</b> VIP ACCESS ➡️<br><b>Verified?</b> False<br><b>Date:</b> 29/08/2020<br><b>Tweet:</b> 8/29 CS:GO/KBO \n\nHeroic ML -120 over G2 for 3u\nDinos/Giants MLP -135 5u🔥\n\nStraily has a 1.59 ERA vs. Eagles, Rucinski has a 1.50 ERA vs SK. I don’t think they’ll give up runs at all. lets roll &amp; sweep the board. Anyone rocking w me?<b>Polarity:</b> 0.7<br><b>Subjectivity:</b> 0.9",
          "<b>Name:</b> thebeebets<br><b>User Location:</b> Cashing Tickets<br><b>Verified?</b> False<br><b>Date:</b> 01/07/2020<br><b>Tweet:</b> eSports (CS:GO)\n\n4u FaZe/G2 ML PARLAY (-130)\n\nStarts in 40 mins. Lock it in and let’s roll. Also like FaZe -1.5 and G2 ML if you can’t parlay.<b>Polarity:</b> 0.0<br><b>Subjectivity:</b> 0.0",
          "<b>Name:</b> T_fuxing_T<br><b>User Location:</b> nan<br><b>Verified?</b> False<br><b>Date:</b> 18/08/2023<br><b>Tweet:</b> G2 main channel has blurred csgo roll lmfao<b>Polarity:</b> 0.16666666666666666<br><b>Subjectivity:</b> 0.3333333333333333",
          "<b>Name:</b> steve_rho<br><b>User Location:</b> nan<br><b>Verified?</b> False<br><b>Date:</b> 18/08/2023<br><b>Tweet:</b> Did G2 drop CSGO Roll as a sponsor? @G2CSGO<b>Polarity:</b> 0.0<br><b>Subjectivity:</b> 0.0",
          "<b>Name:</b> s1k0s<br><b>User Location:</b> nan<br><b>Verified?</b> False<br><b>Date:</b> 05/05/2023<br><b>Tweet:</b> @BanKsEsports Betting site that has been promoted for years from navi, yet g2 are blamed for csgo roll.<b>Polarity:</b> 0.0<br><b>Subjectivity:</b> 0.0",
          "<b>Name:</b> kioshimm<br><b>User Location:</b> Gaming World <br><b>Verified?</b> False<br><b>Date:</b> 15/05/2023<br><b>Tweet:</b> @TDM_Jesus F G2 g csgo roll. Make us loose too<b>Polarity:</b> -0.07692307692307693<br><b>Subjectivity:</b> 0.2692307692307692",
          "<b>Name:</b> Knaightzz<br><b>User Location:</b> Cologne, Germany<br><b>Verified?</b> False<br><b>Date:</b> 01/08/2023<br><b>Tweet:</b> @HOUNGOUNGAGNE did you see G2 apparently kicked CSGO:Roll from their jersey? At least therey taped it over with another logo. you know if it‘s just bc of cologne or permanent?<b>Polarity:</b> -0.125<br><b>Subjectivity:</b> 0.375",
          "<b>Name:</b> Vareotoroute<br><b>User Location:</b> Saint-Etienne, France<br><b>Verified?</b> False<br><b>Date:</b> 21/05/2023<br><b>Tweet:</b> @G2CSGO Ok but when can we register for the CSGO Roll x G2 giveaway.<b>Polarity:</b> 0.5<br><b>Subjectivity:</b> 0.5",
          "<b>Name:</b> MCRmat<br><b>User Location:</b> nan<br><b>Verified?</b> False<br><b>Date:</b> 19/07/2023<br><b>Tweet:</b> @variancewarren Isn't g2 sponsored by csgo roll.<b>Polarity:</b> 0.0<br><b>Subjectivity:</b> 0.0",
          "<b>Name:</b> prof1leCS<br><b>User Location:</b> nan<br><b>Verified?</b> False<br><b>Date:</b> 14/05/2022<br><b>Tweet:</b> @G2esports lets gooooo g2 csgo roll doubting hard! https://t.co/HL8JvKWFaf<b>Polarity:</b> -0.36458333333333337<br><b>Subjectivity:</b> 0.5416666666666666",
          "<b>Name:</b> 7hellcs<br><b>User Location:</b> 2610 Rødovre<br><b>Verified?</b> False<br><b>Date:</b> 10/05/2022<br><b>Tweet:</b> @G2esports @AleksibCSGO @G2m0NESY @G2NiKo @G2huNter @JACKZ_CSGO @XTQZZZ @G2Swani Carlos kinda on a roll atm... Surely G2 will win either MSI or PGL right?🙃<b>Polarity:</b> 0.65<br><b>Subjectivity:</b> 0.6444444444444444",
          "<b>Name:</b> ra6b1t_5P1n<br><b>User Location:</b> nan<br><b>Verified?</b> False<br><b>Date:</b> 19/12/2022<br><b>Tweet:</b> g2！#roll #csgo #blast #g2 https://t.co/q6Cb9gTmZb<b>Polarity:</b> 0.0<br><b>Subjectivity:</b> 0.0",
          "<b>Name:</b> rat_messiah<br><b>User Location:</b> nan<br><b>Verified?</b> False<br><b>Date:</b> 12/08/2023<br><b>Tweet:</b> @phnxssbm https://t.co/FDn6lIF56M\n\nNothing tops g2 x CSGO roll<b>Polarity:</b> 0.0<br><b>Subjectivity:</b> 0.0",
          "<b>Name:</b> zephiK0<br><b>User Location:</b> New York<br><b>Verified?</b> False<br><b>Date:</b> 02/08/2023<br><b>Tweet:</b> @Dexerto And organizations that are sponsored by them like G2 and CSGO Roll<b>Polarity:</b> 0.0<br><b>Subjectivity:</b> 0.0",
          "<b>Name:</b> ____teff<br><b>User Location:</b> Los Angeles, CA<br><b>Verified?</b> False<br><b>Date:</b> 29/06/2023<br><b>Tweet:</b> @kwaxxi How does Valve ban feeders of a website that sponsors G2’s CSGO team. Seems a bit clusterfucked; okay for roll to be a sponsor, not okay to sell items to roll. 💀<b>Polarity:</b> 0.125<br><b>Subjectivity:</b> 0.5",
          "<b>Name:</b> Ad1tyaKale<br><b>User Location:</b> Pune, India<br><b>Verified?</b> False<br><b>Date:</b> 06/08/2023<br><b>Tweet:</b> @G2EsportsCsgo  congratulations on the IEM COLOGNE Win.\n@G2NiKo  you beauty.\nFirst Katowice and now Cologne.\nG2 is on a roll.\nAlthough this was the last CSGO championship, couldn’t have ended in a better way.\nReally want to see G2 win the grand slam next year.<b>Polarity:</b> 0.38125<br><b>Subjectivity:</b> 0.3625",
          "<b>Name:</b> TheSomwon<br><b>User Location:</b> (☞ ͡° ͜ʖ ͡°)☞<br><b>Verified?</b> False<br><b>Date:</b> 18/05/2023<br><b>Tweet:</b> @MaisEpee Ouais stand g2 CSGO Roll qui régale<b>Polarity:</b> 0.0<br><b>Subjectivity:</b> 0.0",
          "<b>Name:</b> xX1TopShotXx<br><b>User Location:</b> nan<br><b>Verified?</b> False<br><b>Date:</b> 29/06/2023<br><b>Tweet:</b> @RealJonahBlake @wyethridgway Not accusations and not laundering, it was gambling related, plus it’s not like Valve doesn’t see trade history 😂 everyone knew this was coming for like 3 months with their TOS update. \n\nIn the scene, CSGO Roll sponsored G2 and put their logo at this past major, basically…<b>Polarity:</b> -0.0625<br><b>Subjectivity:</b> 0.3833333333333333",
          "<b>Name:</b> MarioReL_CSGO<br><b>User Location:</b> Rennes, France<br><b>Verified?</b> False<br><b>Date:</b> 15/11/2017<br><b>Tweet:</b> @Maj3r_ Gambit will roll on G2 as always, nothing interessting<b>Polarity:</b> 0.0<br><b>Subjectivity:</b> 0.0",
          "<b>Name:</b> Timi7272<br><b>User Location:</b> Dust 2<br><b>Verified?</b> False<br><b>Date:</b> 21/05/2023<br><b>Tweet:</b> @bibanator Die Schlange bei csgo roll (bzw g2) war bodenlos lang https://t.co/4IxSgD2tC3<b>Polarity:</b> 0.0<br><b>Subjectivity:</b> 0.0",
          "<b>Name:</b> rylanx_<br><b>User Location:</b> nan<br><b>Verified?</b> False<br><b>Date:</b> 18/07/2023<br><b>Tweet:</b> @pricempire @TDM_Jesus @hwetrades336 csgo roll g2 sponsor at last csgo major xd<b>Polarity:</b> 0.03125<br><b>Subjectivity:</b> 0.2833333333333333",
          "<b>Name:</b> PinnacleEsports<br><b>User Location:</b> 18+<br><b>Verified?</b> False<br><b>Date:</b> 23/02/2023<br><b>Tweet:</b> Oh boy, oh boy, oh boy! Can't wait for @G2esports 🆚 @C9CSGO in the #CSGO #ESLProLeague 🤩. G2 is on a roll but C9 is not weak at all! Who will take their team to victory? @G2NiKo or @Ax1LeGOD ?🤔 https://t.co/Up1k6lUtH8<b>Polarity:</b> 0.234375<br><b>Subjectivity:</b> 0.625",
          "<b>Name:</b> LockItIn7<br><b>User Location:</b> nan<br><b>Verified?</b> False<br><b>Date:</b> 27/06/2020<br><b>Tweet:</b> Found a CSGO play that we are liking starting in about 30 minutes!\n\nG2 Esports -1.5 maps +100 1.5U\n\nThey looked so good the other day I think they can come in and steam roll once again on a lower ranked opponent!✊🏻🤑🔥 #Lockitin #Freepicks #CSGO<b>Polarity:</b> 0.19166666666666665<br><b>Subjectivity:</b> 0.3583333333333334",
          "<b>Name:</b> Maniac_CSGO<br><b>User Location:</b> Berne, Switzerland<br><b>Verified?</b> False<br><b>Date:</b> 23/01/2023<br><b>Tweet:</b> If G2 deliver in Copenhagen,\n\nThey'll roll up in Katowice,\n\nAs favourite. #BLASTPremier<b>Polarity:</b> 0.0<br><b>Subjectivity:</b> 0.0",
          "<b>Name:</b> csgo_unknown<br><b>User Location:</b> Fort Drum, NY<br><b>Verified?</b> False<br><b>Date:</b> 31/05/2016<br><b>Tweet:</b> HERE WE GO G2 Lets Face roll baby! @EL<b>Polarity:</b> 0.0<br><b>Subjectivity:</b> 0.0",
          "<b>Name:</b> Sagemadarq<br><b>User Location:</b> Chasm of the abyss<br><b>Verified?</b> False<br><b>Date:</b> 10/05/2023<br><b>Tweet:</b> @Alkem1stCS @CSGOEmpireV2 they accuse csgo roll of having a deceiving withrawal systeme, a worse P2P systeme and that csgoroll claims its the biggest skins marketplace, when infact its an online casino, also G2 scandale<b>Polarity:</b> -0.4<br><b>Subjectivity:</b> 0.6",
          "<b>Name:</b> nextlevel_br<br><b>User Location:</b> nan<br><b>Verified?</b> False<br><b>Date:</b> 23/05/2023<br><b>Tweet:</b> O cara colou a mão dele na máquina da ativação que tinha no Major de CS:GO 😱\n\nEle fez isso em forma de protesto contra o site 'CSGO Roll', que fez a ativação em parceria com a G2\nhttps://t.co/DFK0DEdvSu<b>Polarity:</b> -0.03125<br><b>Subjectivity:</b> 0.5",
          "<b>Name:</b> aim_assist100<br><b>User Location:</b> Australia<br><b>Verified?</b> False<br><b>Date:</b> 02/05/2023<br><b>Tweet:</b> We’re on a roll! AAA esports tip for today\n\nLOL MSI G2 66.10% Win Probability \n\nCSGO ESL Strife 55.97% Win Probability from AAA\n\nOur pick, G2 &amp; Limitless with a 1.5+ handicap paying $2.64 on https://t.co/ipHVlm6P3g\n\nKeep the love coming on the posts and we'll keep the tips coming https://t.co/9FUcsKEr6m<b>Polarity:</b> 0.7250000000000001<br><b>Subjectivity:</b> 0.525",
          "<b>Name:</b> Aks_csgo<br><b>User Location:</b> nan<br><b>Verified?</b> False<br><b>Date:</b> 31/08/2017<br><b>Tweet:</b> Grâce à G2 blodyy ce produit sera topvente Amazon demain 😂\nRockTape Kinesiology 2 Pouce Roll Support Tape - Noir https://t.co/z5EmLORjFa<b>Polarity:</b> 0.0<br><b>Subjectivity:</b> 0.0",
          "<b>Name:</b> trc_api<br><b>User Location:</b> nan<br><b>Verified?</b> False<br><b>Date:</b> 24/07/2023<br><b>Tweet:</b> Feeling nostalgic? 💭💥 Roll back the clock with us ESLCS for a killer rerun! G2 Esports vs Astralis, IEM Cologne 2021 Semifinal, lighting up the screen for 499 avid gamers 🎮⚡ Experience that Nuke Map adrenaline again at https://t.co/l7sjZkTtml #CSGO #RerunRumble<b>Polarity:</b> -0.08333333333333333<br><b>Subjectivity:</b> 0.6666666666666666"
         ],
         "type": "scattermapbox"
        }
       ],
       "layout": {
        "height": 650,
        "mapbox": {
         "center": {
          "lat": 46.3144754,
          "lon": 11.0480288
         },
         "style": "carto-positron",
         "zoom": 0.5
        },
        "template": {
         "data": {
          "bar": [
           {
            "error_x": {
             "color": "#2a3f5f"
            },
            "error_y": {
             "color": "#2a3f5f"
            },
            "marker": {
             "line": {
              "color": "#E5ECF6",
              "width": 0.5
             },
             "pattern": {
              "fillmode": "overlay",
              "size": 10,
              "solidity": 0.2
             }
            },
            "type": "bar"
           }
          ],
          "barpolar": [
           {
            "marker": {
             "line": {
              "color": "#E5ECF6",
              "width": 0.5
             },
             "pattern": {
              "fillmode": "overlay",
              "size": 10,
              "solidity": 0.2
             }
            },
            "type": "barpolar"
           }
          ],
          "carpet": [
           {
            "aaxis": {
             "endlinecolor": "#2a3f5f",
             "gridcolor": "white",
             "linecolor": "white",
             "minorgridcolor": "white",
             "startlinecolor": "#2a3f5f"
            },
            "baxis": {
             "endlinecolor": "#2a3f5f",
             "gridcolor": "white",
             "linecolor": "white",
             "minorgridcolor": "white",
             "startlinecolor": "#2a3f5f"
            },
            "type": "carpet"
           }
          ],
          "choropleth": [
           {
            "colorbar": {
             "outlinewidth": 0,
             "ticks": ""
            },
            "type": "choropleth"
           }
          ],
          "contour": [
           {
            "colorbar": {
             "outlinewidth": 0,
             "ticks": ""
            },
            "colorscale": [
             [
              0,
              "#0d0887"
             ],
             [
              0.1111111111111111,
              "#46039f"
             ],
             [
              0.2222222222222222,
              "#7201a8"
             ],
             [
              0.3333333333333333,
              "#9c179e"
             ],
             [
              0.4444444444444444,
              "#bd3786"
             ],
             [
              0.5555555555555556,
              "#d8576b"
             ],
             [
              0.6666666666666666,
              "#ed7953"
             ],
             [
              0.7777777777777778,
              "#fb9f3a"
             ],
             [
              0.8888888888888888,
              "#fdca26"
             ],
             [
              1,
              "#f0f921"
             ]
            ],
            "type": "contour"
           }
          ],
          "contourcarpet": [
           {
            "colorbar": {
             "outlinewidth": 0,
             "ticks": ""
            },
            "type": "contourcarpet"
           }
          ],
          "heatmap": [
           {
            "colorbar": {
             "outlinewidth": 0,
             "ticks": ""
            },
            "colorscale": [
             [
              0,
              "#0d0887"
             ],
             [
              0.1111111111111111,
              "#46039f"
             ],
             [
              0.2222222222222222,
              "#7201a8"
             ],
             [
              0.3333333333333333,
              "#9c179e"
             ],
             [
              0.4444444444444444,
              "#bd3786"
             ],
             [
              0.5555555555555556,
              "#d8576b"
             ],
             [
              0.6666666666666666,
              "#ed7953"
             ],
             [
              0.7777777777777778,
              "#fb9f3a"
             ],
             [
              0.8888888888888888,
              "#fdca26"
             ],
             [
              1,
              "#f0f921"
             ]
            ],
            "type": "heatmap"
           }
          ],
          "heatmapgl": [
           {
            "colorbar": {
             "outlinewidth": 0,
             "ticks": ""
            },
            "colorscale": [
             [
              0,
              "#0d0887"
             ],
             [
              0.1111111111111111,
              "#46039f"
             ],
             [
              0.2222222222222222,
              "#7201a8"
             ],
             [
              0.3333333333333333,
              "#9c179e"
             ],
             [
              0.4444444444444444,
              "#bd3786"
             ],
             [
              0.5555555555555556,
              "#d8576b"
             ],
             [
              0.6666666666666666,
              "#ed7953"
             ],
             [
              0.7777777777777778,
              "#fb9f3a"
             ],
             [
              0.8888888888888888,
              "#fdca26"
             ],
             [
              1,
              "#f0f921"
             ]
            ],
            "type": "heatmapgl"
           }
          ],
          "histogram": [
           {
            "marker": {
             "pattern": {
              "fillmode": "overlay",
              "size": 10,
              "solidity": 0.2
             }
            },
            "type": "histogram"
           }
          ],
          "histogram2d": [
           {
            "colorbar": {
             "outlinewidth": 0,
             "ticks": ""
            },
            "colorscale": [
             [
              0,
              "#0d0887"
             ],
             [
              0.1111111111111111,
              "#46039f"
             ],
             [
              0.2222222222222222,
              "#7201a8"
             ],
             [
              0.3333333333333333,
              "#9c179e"
             ],
             [
              0.4444444444444444,
              "#bd3786"
             ],
             [
              0.5555555555555556,
              "#d8576b"
             ],
             [
              0.6666666666666666,
              "#ed7953"
             ],
             [
              0.7777777777777778,
              "#fb9f3a"
             ],
             [
              0.8888888888888888,
              "#fdca26"
             ],
             [
              1,
              "#f0f921"
             ]
            ],
            "type": "histogram2d"
           }
          ],
          "histogram2dcontour": [
           {
            "colorbar": {
             "outlinewidth": 0,
             "ticks": ""
            },
            "colorscale": [
             [
              0,
              "#0d0887"
             ],
             [
              0.1111111111111111,
              "#46039f"
             ],
             [
              0.2222222222222222,
              "#7201a8"
             ],
             [
              0.3333333333333333,
              "#9c179e"
             ],
             [
              0.4444444444444444,
              "#bd3786"
             ],
             [
              0.5555555555555556,
              "#d8576b"
             ],
             [
              0.6666666666666666,
              "#ed7953"
             ],
             [
              0.7777777777777778,
              "#fb9f3a"
             ],
             [
              0.8888888888888888,
              "#fdca26"
             ],
             [
              1,
              "#f0f921"
             ]
            ],
            "type": "histogram2dcontour"
           }
          ],
          "mesh3d": [
           {
            "colorbar": {
             "outlinewidth": 0,
             "ticks": ""
            },
            "type": "mesh3d"
           }
          ],
          "parcoords": [
           {
            "line": {
             "colorbar": {
              "outlinewidth": 0,
              "ticks": ""
             }
            },
            "type": "parcoords"
           }
          ],
          "pie": [
           {
            "automargin": true,
            "type": "pie"
           }
          ],
          "scatter": [
           {
            "fillpattern": {
             "fillmode": "overlay",
             "size": 10,
             "solidity": 0.2
            },
            "type": "scatter"
           }
          ],
          "scatter3d": [
           {
            "line": {
             "colorbar": {
              "outlinewidth": 0,
              "ticks": ""
             }
            },
            "marker": {
             "colorbar": {
              "outlinewidth": 0,
              "ticks": ""
             }
            },
            "type": "scatter3d"
           }
          ],
          "scattercarpet": [
           {
            "marker": {
             "colorbar": {
              "outlinewidth": 0,
              "ticks": ""
             }
            },
            "type": "scattercarpet"
           }
          ],
          "scattergeo": [
           {
            "marker": {
             "colorbar": {
              "outlinewidth": 0,
              "ticks": ""
             }
            },
            "type": "scattergeo"
           }
          ],
          "scattergl": [
           {
            "marker": {
             "colorbar": {
              "outlinewidth": 0,
              "ticks": ""
             }
            },
            "type": "scattergl"
           }
          ],
          "scattermapbox": [
           {
            "marker": {
             "colorbar": {
              "outlinewidth": 0,
              "ticks": ""
             }
            },
            "type": "scattermapbox"
           }
          ],
          "scatterpolar": [
           {
            "marker": {
             "colorbar": {
              "outlinewidth": 0,
              "ticks": ""
             }
            },
            "type": "scatterpolar"
           }
          ],
          "scatterpolargl": [
           {
            "marker": {
             "colorbar": {
              "outlinewidth": 0,
              "ticks": ""
             }
            },
            "type": "scatterpolargl"
           }
          ],
          "scatterternary": [
           {
            "marker": {
             "colorbar": {
              "outlinewidth": 0,
              "ticks": ""
             }
            },
            "type": "scatterternary"
           }
          ],
          "surface": [
           {
            "colorbar": {
             "outlinewidth": 0,
             "ticks": ""
            },
            "colorscale": [
             [
              0,
              "#0d0887"
             ],
             [
              0.1111111111111111,
              "#46039f"
             ],
             [
              0.2222222222222222,
              "#7201a8"
             ],
             [
              0.3333333333333333,
              "#9c179e"
             ],
             [
              0.4444444444444444,
              "#bd3786"
             ],
             [
              0.5555555555555556,
              "#d8576b"
             ],
             [
              0.6666666666666666,
              "#ed7953"
             ],
             [
              0.7777777777777778,
              "#fb9f3a"
             ],
             [
              0.8888888888888888,
              "#fdca26"
             ],
             [
              1,
              "#f0f921"
             ]
            ],
            "type": "surface"
           }
          ],
          "table": [
           {
            "cells": {
             "fill": {
              "color": "#EBF0F8"
             },
             "line": {
              "color": "white"
             }
            },
            "header": {
             "fill": {
              "color": "#C8D4E3"
             },
             "line": {
              "color": "white"
             }
            },
            "type": "table"
           }
          ]
         },
         "layout": {
          "annotationdefaults": {
           "arrowcolor": "#2a3f5f",
           "arrowhead": 0,
           "arrowwidth": 1
          },
          "autotypenumbers": "strict",
          "coloraxis": {
           "colorbar": {
            "outlinewidth": 0,
            "ticks": ""
           }
          },
          "colorscale": {
           "diverging": [
            [
             0,
             "#8e0152"
            ],
            [
             0.1,
             "#c51b7d"
            ],
            [
             0.2,
             "#de77ae"
            ],
            [
             0.3,
             "#f1b6da"
            ],
            [
             0.4,
             "#fde0ef"
            ],
            [
             0.5,
             "#f7f7f7"
            ],
            [
             0.6,
             "#e6f5d0"
            ],
            [
             0.7,
             "#b8e186"
            ],
            [
             0.8,
             "#7fbc41"
            ],
            [
             0.9,
             "#4d9221"
            ],
            [
             1,
             "#276419"
            ]
           ],
           "sequential": [
            [
             0,
             "#0d0887"
            ],
            [
             0.1111111111111111,
             "#46039f"
            ],
            [
             0.2222222222222222,
             "#7201a8"
            ],
            [
             0.3333333333333333,
             "#9c179e"
            ],
            [
             0.4444444444444444,
             "#bd3786"
            ],
            [
             0.5555555555555556,
             "#d8576b"
            ],
            [
             0.6666666666666666,
             "#ed7953"
            ],
            [
             0.7777777777777778,
             "#fb9f3a"
            ],
            [
             0.8888888888888888,
             "#fdca26"
            ],
            [
             1,
             "#f0f921"
            ]
           ],
           "sequentialminus": [
            [
             0,
             "#0d0887"
            ],
            [
             0.1111111111111111,
             "#46039f"
            ],
            [
             0.2222222222222222,
             "#7201a8"
            ],
            [
             0.3333333333333333,
             "#9c179e"
            ],
            [
             0.4444444444444444,
             "#bd3786"
            ],
            [
             0.5555555555555556,
             "#d8576b"
            ],
            [
             0.6666666666666666,
             "#ed7953"
            ],
            [
             0.7777777777777778,
             "#fb9f3a"
            ],
            [
             0.8888888888888888,
             "#fdca26"
            ],
            [
             1,
             "#f0f921"
            ]
           ]
          },
          "colorway": [
           "#636efa",
           "#EF553B",
           "#00cc96",
           "#ab63fa",
           "#FFA15A",
           "#19d3f3",
           "#FF6692",
           "#B6E880",
           "#FF97FF",
           "#FECB52"
          ],
          "font": {
           "color": "#2a3f5f"
          },
          "geo": {
           "bgcolor": "white",
           "lakecolor": "white",
           "landcolor": "#E5ECF6",
           "showlakes": true,
           "showland": true,
           "subunitcolor": "white"
          },
          "hoverlabel": {
           "align": "left"
          },
          "hovermode": "closest",
          "mapbox": {
           "style": "light"
          },
          "paper_bgcolor": "white",
          "plot_bgcolor": "#E5ECF6",
          "polar": {
           "angularaxis": {
            "gridcolor": "white",
            "linecolor": "white",
            "ticks": ""
           },
           "bgcolor": "#E5ECF6",
           "radialaxis": {
            "gridcolor": "white",
            "linecolor": "white",
            "ticks": ""
           }
          },
          "scene": {
           "xaxis": {
            "backgroundcolor": "#E5ECF6",
            "gridcolor": "white",
            "gridwidth": 2,
            "linecolor": "white",
            "showbackground": true,
            "ticks": "",
            "zerolinecolor": "white"
           },
           "yaxis": {
            "backgroundcolor": "#E5ECF6",
            "gridcolor": "white",
            "gridwidth": 2,
            "linecolor": "white",
            "showbackground": true,
            "ticks": "",
            "zerolinecolor": "white"
           },
           "zaxis": {
            "backgroundcolor": "#E5ECF6",
            "gridcolor": "white",
            "gridwidth": 2,
            "linecolor": "white",
            "showbackground": true,
            "ticks": "",
            "zerolinecolor": "white"
           }
          },
          "shapedefaults": {
           "line": {
            "color": "#2a3f5f"
           }
          },
          "ternary": {
           "aaxis": {
            "gridcolor": "white",
            "linecolor": "white",
            "ticks": ""
           },
           "baxis": {
            "gridcolor": "white",
            "linecolor": "white",
            "ticks": ""
           },
           "bgcolor": "#E5ECF6",
           "caxis": {
            "gridcolor": "white",
            "linecolor": "white",
            "ticks": ""
           }
          },
          "title": {
           "x": 0.05
          },
          "xaxis": {
           "automargin": true,
           "gridcolor": "white",
           "linecolor": "white",
           "ticks": "",
           "title": {
            "standoff": 15
           },
           "zerolinecolor": "white",
           "zerolinewidth": 2
          },
          "yaxis": {
           "automargin": true,
           "gridcolor": "white",
           "linecolor": "white",
           "ticks": "",
           "title": {
            "standoff": 15
           },
           "zerolinecolor": "white",
           "zerolinewidth": 2
          }
         }
        },
        "title": {
         "text": "Subjectivity of G2/CSGORoll-related Tweets"
        },
        "width": 900
       }
      }
     },
     "metadata": {},
     "output_type": "display_data"
    }
   ],
   "source": [
    "# Create a Scatter map figure with data for Subjectivity of G2/CSGO Roll-related Tweets\n",
    "submap = go.Figure(go.Scattermapbox(lat=tweets_final['geometry'].y,\n",
    "                                    lon=tweets_final['geometry'].x,\n",
    "                                    mode='markers',\n",
    "                                    marker=dict(size=7.5,\n",
    "                                                color=tweets_final['subjectivity'],\n",
    "                                                colorscale='sunset',\n",
    "                                                opacity=0.7,\n",
    "                                                colorbar=dict(title='Subjectivity')),\n",
    "                                    text=sentimenthover)\n",
    ")\n",
    "\n",
    "# Set the layout of the Scatter map figure, including the title, the map attributes, the plot height and the plot width\n",
    "submap.update_layout(title='Subjectivity of G2/CSGORoll-related Tweets',\n",
    "                     mapbox=dict(style='carto-positron',\n",
    "                                 center=dict(lat=tweets_final['geometry'].y.median(),\n",
    "                                             lon=tweets_final['geometry'].x.median()),\n",
    "                                 zoom=0.5),\n",
    "                     height=650,\n",
    "                     width=900\n",
    ")\n",
    "\n",
    "# Show the Scatter map figure\n",
    "submap.show()"
   ]
  },
  {
   "attachments": {},
   "cell_type": "markdown",
   "metadata": {},
   "source": [
    "Using a Scatter map again, we visualise the geographical distribution of the subjectivity data from tweets related to the G2/CSGORoll sponsorship. Using the Plotly library, and the Mapbox API, markers are placed on the map that correspond to the approximate location of each tweet and where it originated from. The 'carto-positron' Mapbox style is used to provide a clear background, and uses the latitude and longitude coordinates, which are derived from the 'geometry' column in the dataset, to plot each tweet. The markers are colored using the 'sunset' colorscale, which ranges from yellow to purple to represent objectivity and subjectivity, respectively."
   ]
  },
  {
   "cell_type": "code",
   "execution_count": 24,
   "metadata": {},
   "outputs": [
    {
     "data": {
      "text/html": [
       "<div>\n",
       "<style scoped>\n",
       "    .dataframe tbody tr th:only-of-type {\n",
       "        vertical-align: middle;\n",
       "    }\n",
       "\n",
       "    .dataframe tbody tr th {\n",
       "        vertical-align: top;\n",
       "    }\n",
       "\n",
       "    .dataframe thead th {\n",
       "        text-align: right;\n",
       "    }\n",
       "</style>\n",
       "<table border=\"1\" class=\"dataframe\">\n",
       "  <thead>\n",
       "    <tr style=\"text-align: right;\">\n",
       "      <th></th>\n",
       "      <th>tweet_id</th>\n",
       "      <th>username</th>\n",
       "      <th>full_name</th>\n",
       "      <th>full_text</th>\n",
       "      <th>view_count</th>\n",
       "      <th>bookmark_count</th>\n",
       "      <th>favorite_count</th>\n",
       "      <th>reply_count</th>\n",
       "      <th>retweet_count</th>\n",
       "      <th>quote_count</th>\n",
       "      <th>...</th>\n",
       "      <th>avatar_url</th>\n",
       "      <th>verified</th>\n",
       "      <th>is_blue_verified</th>\n",
       "      <th>user_created_at</th>\n",
       "      <th>acc_location</th>\n",
       "      <th>lat</th>\n",
       "      <th>lon</th>\n",
       "      <th>geometry</th>\n",
       "      <th>polarity</th>\n",
       "      <th>subjectivity</th>\n",
       "    </tr>\n",
       "  </thead>\n",
       "  <tbody>\n",
       "    <tr>\n",
       "      <th>0</th>\n",
       "      <td>1.679560e+18</td>\n",
       "      <td>fyta_ow</td>\n",
       "      <td>fyta</td>\n",
       "      <td>@hanshimcd @wonderingsonny @CSGOEmpireV2 @Spar...</td>\n",
       "      <td>160</td>\n",
       "      <td>0</td>\n",
       "      <td>0</td>\n",
       "      <td>1</td>\n",
       "      <td>0</td>\n",
       "      <td>0</td>\n",
       "      <td>...</td>\n",
       "      <td>https://pbs.twimg.com/profile_images/170564242...</td>\n",
       "      <td>False</td>\n",
       "      <td>False</td>\n",
       "      <td>24/12/2020</td>\n",
       "      <td>(Nanno, Ville d'Anaunia, Comunità della Val di...</td>\n",
       "      <td>46.314475</td>\n",
       "      <td>11.048029</td>\n",
       "      <td>POINT (11.04803 46.31448)</td>\n",
       "      <td>-0.041667</td>\n",
       "      <td>0.5</td>\n",
       "    </tr>\n",
       "    <tr>\n",
       "      <th>2</th>\n",
       "      <td>1.679540e+18</td>\n",
       "      <td>mostafa_xxxx</td>\n",
       "      <td>KING</td>\n",
       "      <td>@CSGOEmpireV2 @CSGORoll @CSGOEmpireV3 I wanna ...</td>\n",
       "      <td>61</td>\n",
       "      <td>0</td>\n",
       "      <td>0</td>\n",
       "      <td>0</td>\n",
       "      <td>0</td>\n",
       "      <td>0</td>\n",
       "      <td>...</td>\n",
       "      <td>https://pbs.twimg.com/profile_images/151248044...</td>\n",
       "      <td>False</td>\n",
       "      <td>False</td>\n",
       "      <td>16/02/2013</td>\n",
       "      <td>(دبي, الإمارات العربية المتحدة, دبي, (25.07428...</td>\n",
       "      <td>25.074282</td>\n",
       "      <td>55.188539</td>\n",
       "      <td>POINT (55.18854 25.07428)</td>\n",
       "      <td>-0.600000</td>\n",
       "      <td>0.7</td>\n",
       "    </tr>\n",
       "    <tr>\n",
       "      <th>3</th>\n",
       "      <td>1.639810e+18</td>\n",
       "      <td>335ie90_</td>\n",
       "      <td>Daveeeeeeeeeeeeeee</td>\n",
       "      <td>@R6Sharpz Csgo roll is such a scam. All online...</td>\n",
       "      <td>99</td>\n",
       "      <td>0</td>\n",
       "      <td>1</td>\n",
       "      <td>0</td>\n",
       "      <td>0</td>\n",
       "      <td>0</td>\n",
       "      <td>...</td>\n",
       "      <td>https://pbs.twimg.com/profile_images/163860614...</td>\n",
       "      <td>False</td>\n",
       "      <td>False</td>\n",
       "      <td>24/02/2022</td>\n",
       "      <td>(Alabama, United States, (33.2588817, -86.8295...</td>\n",
       "      <td>33.258882</td>\n",
       "      <td>-86.829534</td>\n",
       "      <td>POINT (-86.82953 33.25888)</td>\n",
       "      <td>0.000000</td>\n",
       "      <td>0.5</td>\n",
       "    </tr>\n",
       "    <tr>\n",
       "      <th>4</th>\n",
       "      <td>8.751810e+17</td>\n",
       "      <td>TONYWINS34</td>\n",
       "      <td>Tony Huynh</td>\n",
       "      <td>@NathanCSGORoll #csgorollscam\\nDon't do free k...</td>\n",
       "      <td>0</td>\n",
       "      <td>0</td>\n",
       "      <td>0</td>\n",
       "      <td>0</td>\n",
       "      <td>0</td>\n",
       "      <td>0</td>\n",
       "      <td>...</td>\n",
       "      <td>https://pbs.twimg.com/profile_images/126351237...</td>\n",
       "      <td>False</td>\n",
       "      <td>False</td>\n",
       "      <td>13/04/2014</td>\n",
       "      <td>(Burlington, Chittenden County, Vermont, Unite...</td>\n",
       "      <td>44.476160</td>\n",
       "      <td>-73.212906</td>\n",
       "      <td>POINT (-73.21291 44.47616)</td>\n",
       "      <td>0.400000</td>\n",
       "      <td>0.8</td>\n",
       "    </tr>\n",
       "    <tr>\n",
       "      <th>5</th>\n",
       "      <td>8.847810e+17</td>\n",
       "      <td>boptilltheydrop</td>\n",
       "      <td>bop</td>\n",
       "      <td>@m0E_tv thx moe for telling me csgo roll isnt ...</td>\n",
       "      <td>0</td>\n",
       "      <td>0</td>\n",
       "      <td>0</td>\n",
       "      <td>0</td>\n",
       "      <td>0</td>\n",
       "      <td>0</td>\n",
       "      <td>...</td>\n",
       "      <td>https://abs.twimg.com/sticky/default_profile_i...</td>\n",
       "      <td>False</td>\n",
       "      <td>False</td>\n",
       "      <td>11/07/2017</td>\n",
       "      <td>(Nanno, Ville d'Anaunia, Comunità della Val di...</td>\n",
       "      <td>46.314475</td>\n",
       "      <td>11.048029</td>\n",
       "      <td>POINT (11.04803 46.31448)</td>\n",
       "      <td>0.000000</td>\n",
       "      <td>0.0</td>\n",
       "    </tr>\n",
       "  </tbody>\n",
       "</table>\n",
       "<p>5 rows × 44 columns</p>\n",
       "</div>"
      ],
      "text/plain": [
       "       tweet_id         username           full_name  \\\n",
       "0  1.679560e+18          fyta_ow                fyta   \n",
       "2  1.679540e+18     mostafa_xxxx                KING   \n",
       "3  1.639810e+18         335ie90_  Daveeeeeeeeeeeeeee   \n",
       "4  8.751810e+17       TONYWINS34          Tony Huynh   \n",
       "5  8.847810e+17  boptilltheydrop                 bop   \n",
       "\n",
       "                                           full_text  view_count  \\\n",
       "0  @hanshimcd @wonderingsonny @CSGOEmpireV2 @Spar...         160   \n",
       "2  @CSGOEmpireV2 @CSGORoll @CSGOEmpireV3 I wanna ...          61   \n",
       "3  @R6Sharpz Csgo roll is such a scam. All online...          99   \n",
       "4  @NathanCSGORoll #csgorollscam\\nDon't do free k...           0   \n",
       "5  @m0E_tv thx moe for telling me csgo roll isnt ...           0   \n",
       "\n",
       "   bookmark_count  favorite_count  reply_count  retweet_count  quote_count  \\\n",
       "0               0               0            1              0            0   \n",
       "2               0               0            0              0            0   \n",
       "3               0               1            0              0            0   \n",
       "4               0               0            0              0            0   \n",
       "5               0               0            0              0            0   \n",
       "\n",
       "   ...                                         avatar_url verified  \\\n",
       "0  ...  https://pbs.twimg.com/profile_images/170564242...    False   \n",
       "2  ...  https://pbs.twimg.com/profile_images/151248044...    False   \n",
       "3  ...  https://pbs.twimg.com/profile_images/163860614...    False   \n",
       "4  ...  https://pbs.twimg.com/profile_images/126351237...    False   \n",
       "5  ...  https://abs.twimg.com/sticky/default_profile_i...    False   \n",
       "\n",
       "   is_blue_verified  user_created_at  \\\n",
       "0             False       24/12/2020   \n",
       "2             False       16/02/2013   \n",
       "3             False       24/02/2022   \n",
       "4             False       13/04/2014   \n",
       "5             False       11/07/2017   \n",
       "\n",
       "                                        acc_location        lat        lon  \\\n",
       "0  (Nanno, Ville d'Anaunia, Comunità della Val di...  46.314475  11.048029   \n",
       "2  (دبي, الإمارات العربية المتحدة, دبي, (25.07428...  25.074282  55.188539   \n",
       "3  (Alabama, United States, (33.2588817, -86.8295...  33.258882 -86.829534   \n",
       "4  (Burlington, Chittenden County, Vermont, Unite...  44.476160 -73.212906   \n",
       "5  (Nanno, Ville d'Anaunia, Comunità della Val di...  46.314475  11.048029   \n",
       "\n",
       "                     geometry  polarity subjectivity  \n",
       "0   POINT (11.04803 46.31448) -0.041667          0.5  \n",
       "2   POINT (55.18854 25.07428) -0.600000          0.7  \n",
       "3  POINT (-86.82953 33.25888)  0.000000          0.5  \n",
       "4  POINT (-73.21291 44.47616)  0.400000          0.8  \n",
       "5   POINT (11.04803 46.31448)  0.000000          0.0  \n",
       "\n",
       "[5 rows x 44 columns]"
      ]
     },
     "execution_count": 24,
     "metadata": {},
     "output_type": "execute_result"
    }
   ],
   "source": [
    "tweets_countrypre=tweets_final[tweets_final['lat'].notna()]\n",
    "tweets_countrypre.head()"
   ]
  },
  {
   "cell_type": "code",
   "execution_count": 25,
   "metadata": {},
   "outputs": [
    {
     "data": {
      "text/html": [
       "<div>\n",
       "<style scoped>\n",
       "    .dataframe tbody tr th:only-of-type {\n",
       "        vertical-align: middle;\n",
       "    }\n",
       "\n",
       "    .dataframe tbody tr th {\n",
       "        vertical-align: top;\n",
       "    }\n",
       "\n",
       "    .dataframe thead th {\n",
       "        text-align: right;\n",
       "    }\n",
       "</style>\n",
       "<table border=\"1\" class=\"dataframe\">\n",
       "  <thead>\n",
       "    <tr style=\"text-align: right;\">\n",
       "      <th></th>\n",
       "      <th>tweet_id</th>\n",
       "      <th>username</th>\n",
       "      <th>full_name</th>\n",
       "      <th>full_text</th>\n",
       "      <th>view_count</th>\n",
       "      <th>bookmark_count</th>\n",
       "      <th>favorite_count</th>\n",
       "      <th>reply_count</th>\n",
       "      <th>retweet_count</th>\n",
       "      <th>quote_count</th>\n",
       "      <th>...</th>\n",
       "      <th>verified</th>\n",
       "      <th>is_blue_verified</th>\n",
       "      <th>user_created_at</th>\n",
       "      <th>acc_location</th>\n",
       "      <th>lat</th>\n",
       "      <th>lon</th>\n",
       "      <th>geometry</th>\n",
       "      <th>polarity</th>\n",
       "      <th>subjectivity</th>\n",
       "      <th>country</th>\n",
       "    </tr>\n",
       "  </thead>\n",
       "  <tbody>\n",
       "    <tr>\n",
       "      <th>0</th>\n",
       "      <td>1.679560e+18</td>\n",
       "      <td>fyta_ow</td>\n",
       "      <td>fyta</td>\n",
       "      <td>@hanshimcd @wonderingsonny @CSGOEmpireV2 @Spar...</td>\n",
       "      <td>160</td>\n",
       "      <td>0</td>\n",
       "      <td>0</td>\n",
       "      <td>1</td>\n",
       "      <td>0</td>\n",
       "      <td>0</td>\n",
       "      <td>...</td>\n",
       "      <td>False</td>\n",
       "      <td>False</td>\n",
       "      <td>24/12/2020</td>\n",
       "      <td>(Nanno, Ville d'Anaunia, Comunità della Val di...</td>\n",
       "      <td>46.314475</td>\n",
       "      <td>11.048029</td>\n",
       "      <td>POINT (11.04803 46.31448)</td>\n",
       "      <td>-0.041667</td>\n",
       "      <td>0.5</td>\n",
       "      <td>Italia</td>\n",
       "    </tr>\n",
       "    <tr>\n",
       "      <th>1</th>\n",
       "      <td>1.690790e+18</td>\n",
       "      <td>Al_Azawi987</td>\n",
       "      <td>Al_Toxic</td>\n",
       "      <td>@G2CSGO Can you show us the csgorollscam contr...</td>\n",
       "      <td>463</td>\n",
       "      <td>0</td>\n",
       "      <td>0</td>\n",
       "      <td>0</td>\n",
       "      <td>0</td>\n",
       "      <td>0</td>\n",
       "      <td>...</td>\n",
       "      <td>False</td>\n",
       "      <td>False</td>\n",
       "      <td>05/08/2016</td>\n",
       "      <td>None</td>\n",
       "      <td>NaN</td>\n",
       "      <td>NaN</td>\n",
       "      <td>POINT EMPTY</td>\n",
       "      <td>0.200000</td>\n",
       "      <td>0.2</td>\n",
       "      <td>NaN</td>\n",
       "    </tr>\n",
       "    <tr>\n",
       "      <th>2</th>\n",
       "      <td>1.679540e+18</td>\n",
       "      <td>mostafa_xxxx</td>\n",
       "      <td>KING</td>\n",
       "      <td>@CSGOEmpireV2 @CSGORoll @CSGOEmpireV3 I wanna ...</td>\n",
       "      <td>61</td>\n",
       "      <td>0</td>\n",
       "      <td>0</td>\n",
       "      <td>0</td>\n",
       "      <td>0</td>\n",
       "      <td>0</td>\n",
       "      <td>...</td>\n",
       "      <td>False</td>\n",
       "      <td>False</td>\n",
       "      <td>16/02/2013</td>\n",
       "      <td>(دبي, الإمارات العربية المتحدة, دبي, (25.07428...</td>\n",
       "      <td>25.074282</td>\n",
       "      <td>55.188539</td>\n",
       "      <td>POINT (55.18854 25.07428)</td>\n",
       "      <td>-0.600000</td>\n",
       "      <td>0.7</td>\n",
       "      <td>الإمارات العربية المتحدة</td>\n",
       "    </tr>\n",
       "    <tr>\n",
       "      <th>3</th>\n",
       "      <td>1.639810e+18</td>\n",
       "      <td>335ie90_</td>\n",
       "      <td>Daveeeeeeeeeeeeeee</td>\n",
       "      <td>@R6Sharpz Csgo roll is such a scam. All online...</td>\n",
       "      <td>99</td>\n",
       "      <td>0</td>\n",
       "      <td>1</td>\n",
       "      <td>0</td>\n",
       "      <td>0</td>\n",
       "      <td>0</td>\n",
       "      <td>...</td>\n",
       "      <td>False</td>\n",
       "      <td>False</td>\n",
       "      <td>24/02/2022</td>\n",
       "      <td>(Alabama, United States, (33.2588817, -86.8295...</td>\n",
       "      <td>33.258882</td>\n",
       "      <td>-86.829534</td>\n",
       "      <td>POINT (-86.82953 33.25888)</td>\n",
       "      <td>0.000000</td>\n",
       "      <td>0.5</td>\n",
       "      <td>United States</td>\n",
       "    </tr>\n",
       "    <tr>\n",
       "      <th>4</th>\n",
       "      <td>8.751810e+17</td>\n",
       "      <td>TONYWINS34</td>\n",
       "      <td>Tony Huynh</td>\n",
       "      <td>@NathanCSGORoll #csgorollscam\\nDon't do free k...</td>\n",
       "      <td>0</td>\n",
       "      <td>0</td>\n",
       "      <td>0</td>\n",
       "      <td>0</td>\n",
       "      <td>0</td>\n",
       "      <td>0</td>\n",
       "      <td>...</td>\n",
       "      <td>False</td>\n",
       "      <td>False</td>\n",
       "      <td>13/04/2014</td>\n",
       "      <td>(Burlington, Chittenden County, Vermont, Unite...</td>\n",
       "      <td>44.476160</td>\n",
       "      <td>-73.212906</td>\n",
       "      <td>POINT (-73.21291 44.47616)</td>\n",
       "      <td>0.400000</td>\n",
       "      <td>0.8</td>\n",
       "      <td>United States</td>\n",
       "    </tr>\n",
       "  </tbody>\n",
       "</table>\n",
       "<p>5 rows × 45 columns</p>\n",
       "</div>"
      ],
      "text/plain": [
       "       tweet_id      username           full_name  \\\n",
       "0  1.679560e+18       fyta_ow                fyta   \n",
       "1  1.690790e+18   Al_Azawi987            Al_Toxic   \n",
       "2  1.679540e+18  mostafa_xxxx                KING   \n",
       "3  1.639810e+18      335ie90_  Daveeeeeeeeeeeeeee   \n",
       "4  8.751810e+17    TONYWINS34          Tony Huynh   \n",
       "\n",
       "                                           full_text  view_count  \\\n",
       "0  @hanshimcd @wonderingsonny @CSGOEmpireV2 @Spar...         160   \n",
       "1  @G2CSGO Can you show us the csgorollscam contr...         463   \n",
       "2  @CSGOEmpireV2 @CSGORoll @CSGOEmpireV3 I wanna ...          61   \n",
       "3  @R6Sharpz Csgo roll is such a scam. All online...          99   \n",
       "4  @NathanCSGORoll #csgorollscam\\nDon't do free k...           0   \n",
       "\n",
       "   bookmark_count  favorite_count  reply_count  retweet_count  quote_count  \\\n",
       "0               0               0            1              0            0   \n",
       "1               0               0            0              0            0   \n",
       "2               0               0            0              0            0   \n",
       "3               0               1            0              0            0   \n",
       "4               0               0            0              0            0   \n",
       "\n",
       "   ...  verified is_blue_verified  user_created_at  \\\n",
       "0  ...     False            False       24/12/2020   \n",
       "1  ...     False            False       05/08/2016   \n",
       "2  ...     False            False       16/02/2013   \n",
       "3  ...     False            False       24/02/2022   \n",
       "4  ...     False            False       13/04/2014   \n",
       "\n",
       "                                        acc_location        lat        lon  \\\n",
       "0  (Nanno, Ville d'Anaunia, Comunità della Val di...  46.314475  11.048029   \n",
       "1                                               None        NaN        NaN   \n",
       "2  (دبي, الإمارات العربية المتحدة, دبي, (25.07428...  25.074282  55.188539   \n",
       "3  (Alabama, United States, (33.2588817, -86.8295...  33.258882 -86.829534   \n",
       "4  (Burlington, Chittenden County, Vermont, Unite...  44.476160 -73.212906   \n",
       "\n",
       "                     geometry  polarity  subjectivity  \\\n",
       "0   POINT (11.04803 46.31448) -0.041667           0.5   \n",
       "1                 POINT EMPTY  0.200000           0.2   \n",
       "2   POINT (55.18854 25.07428) -0.600000           0.7   \n",
       "3  POINT (-86.82953 33.25888)  0.000000           0.5   \n",
       "4  POINT (-73.21291 44.47616)  0.400000           0.8   \n",
       "\n",
       "                    country  \n",
       "0                    Italia  \n",
       "1                       NaN  \n",
       "2  الإمارات العربية المتحدة  \n",
       "3             United States  \n",
       "4             United States  \n",
       "\n",
       "[5 rows x 45 columns]"
      ]
     },
     "execution_count": 25,
     "metadata": {},
     "output_type": "execute_result"
    }
   ],
   "source": [
    "def get_country(lat, lon):\n",
    "    location = geolocator.reverse((lat, lon), exactly_one=True)\n",
    "    if location is None:\n",
    "        return None\n",
    "    elif 'country' not in location.raw['address']:\n",
    "        return None\n",
    "    else:\n",
    "        return location.raw['address']['country']\n",
    "\n",
    "tweets_final['country'] = tweets_countrypre.apply(lambda row: get_country(row['lat'], row['lon']), axis=1)\n",
    "tweets_final.head()"
   ]
  },
  {
   "attachments": {},
   "cell_type": "markdown",
   "metadata": {},
   "source": [
    "To further enhance the geographical information for each tweet, we used Nominatim once again, this time to obtain the country that each tweet originated from. We did this by utilizing the 'Lat' and 'Lon' columns that were generated the previous time we used Nominatim. The 'get_country' function was created to take the latitude and longitude coordinates of each tweet and reverse geocode them using Nominatim to retrieve the corresponding country. This function was then applied to each row of the dataframe, which resulted in a new 'country' column being added to the dataframe that contains the country name for each tweet.\n",
    "\n",
    "If code produces \"KeyError: 'country'\", run notebook from scratch. Reason why code produces \"KeyError: 'country'\" every now and then is unknown. It is possibly caused by one of the values in \"user_location\" column in \"tweets_final\"."
   ]
  },
  {
   "cell_type": "code",
   "execution_count": 26,
   "metadata": {},
   "outputs": [
    {
     "data": {
      "text/html": [
       "<div>\n",
       "<style scoped>\n",
       "    .dataframe tbody tr th:only-of-type {\n",
       "        vertical-align: middle;\n",
       "    }\n",
       "\n",
       "    .dataframe tbody tr th {\n",
       "        vertical-align: top;\n",
       "    }\n",
       "\n",
       "    .dataframe thead th {\n",
       "        text-align: right;\n",
       "    }\n",
       "</style>\n",
       "<table border=\"1\" class=\"dataframe\">\n",
       "  <thead>\n",
       "    <tr style=\"text-align: right;\">\n",
       "      <th></th>\n",
       "      <th>tweet_id</th>\n",
       "      <th>username</th>\n",
       "      <th>full_name</th>\n",
       "      <th>full_text</th>\n",
       "      <th>view_count</th>\n",
       "      <th>bookmark_count</th>\n",
       "      <th>favorite_count</th>\n",
       "      <th>reply_count</th>\n",
       "      <th>retweet_count</th>\n",
       "      <th>quote_count</th>\n",
       "      <th>...</th>\n",
       "      <th>verified</th>\n",
       "      <th>is_blue_verified</th>\n",
       "      <th>user_created_at</th>\n",
       "      <th>acc_location</th>\n",
       "      <th>lat</th>\n",
       "      <th>lon</th>\n",
       "      <th>geometry</th>\n",
       "      <th>polarity</th>\n",
       "      <th>subjectivity</th>\n",
       "      <th>country</th>\n",
       "    </tr>\n",
       "  </thead>\n",
       "  <tbody>\n",
       "    <tr>\n",
       "      <th>0</th>\n",
       "      <td>1.679560e+18</td>\n",
       "      <td>fyta_ow</td>\n",
       "      <td>fyta</td>\n",
       "      <td>@hanshimcd @wonderingsonny @CSGOEmpireV2 @Spar...</td>\n",
       "      <td>160</td>\n",
       "      <td>0</td>\n",
       "      <td>0</td>\n",
       "      <td>1</td>\n",
       "      <td>0</td>\n",
       "      <td>0</td>\n",
       "      <td>...</td>\n",
       "      <td>False</td>\n",
       "      <td>False</td>\n",
       "      <td>24/12/2020</td>\n",
       "      <td>(Nanno, Ville d'Anaunia, Comunità della Val di...</td>\n",
       "      <td>46.314475</td>\n",
       "      <td>11.048029</td>\n",
       "      <td>POINT (11.04803 46.31448)</td>\n",
       "      <td>-0.041667</td>\n",
       "      <td>0.5</td>\n",
       "      <td>Italy</td>\n",
       "    </tr>\n",
       "    <tr>\n",
       "      <th>1</th>\n",
       "      <td>1.690790e+18</td>\n",
       "      <td>Al_Azawi987</td>\n",
       "      <td>Al_Toxic</td>\n",
       "      <td>@G2CSGO Can you show us the csgorollscam contr...</td>\n",
       "      <td>463</td>\n",
       "      <td>0</td>\n",
       "      <td>0</td>\n",
       "      <td>0</td>\n",
       "      <td>0</td>\n",
       "      <td>0</td>\n",
       "      <td>...</td>\n",
       "      <td>False</td>\n",
       "      <td>False</td>\n",
       "      <td>05/08/2016</td>\n",
       "      <td>None</td>\n",
       "      <td>NaN</td>\n",
       "      <td>NaN</td>\n",
       "      <td>POINT EMPTY</td>\n",
       "      <td>0.200000</td>\n",
       "      <td>0.2</td>\n",
       "      <td>NaN</td>\n",
       "    </tr>\n",
       "    <tr>\n",
       "      <th>2</th>\n",
       "      <td>1.679540e+18</td>\n",
       "      <td>mostafa_xxxx</td>\n",
       "      <td>KING</td>\n",
       "      <td>@CSGOEmpireV2 @CSGORoll @CSGOEmpireV3 I wanna ...</td>\n",
       "      <td>61</td>\n",
       "      <td>0</td>\n",
       "      <td>0</td>\n",
       "      <td>0</td>\n",
       "      <td>0</td>\n",
       "      <td>0</td>\n",
       "      <td>...</td>\n",
       "      <td>False</td>\n",
       "      <td>False</td>\n",
       "      <td>16/02/2013</td>\n",
       "      <td>(دبي, الإمارات العربية المتحدة, دبي, (25.07428...</td>\n",
       "      <td>25.074282</td>\n",
       "      <td>55.188539</td>\n",
       "      <td>POINT (55.18854 25.07428)</td>\n",
       "      <td>-0.600000</td>\n",
       "      <td>0.7</td>\n",
       "      <td>The United Arab Emirates</td>\n",
       "    </tr>\n",
       "    <tr>\n",
       "      <th>3</th>\n",
       "      <td>1.639810e+18</td>\n",
       "      <td>335ie90_</td>\n",
       "      <td>Daveeeeeeeeeeeeeee</td>\n",
       "      <td>@R6Sharpz Csgo roll is such a scam. All online...</td>\n",
       "      <td>99</td>\n",
       "      <td>0</td>\n",
       "      <td>1</td>\n",
       "      <td>0</td>\n",
       "      <td>0</td>\n",
       "      <td>0</td>\n",
       "      <td>...</td>\n",
       "      <td>False</td>\n",
       "      <td>False</td>\n",
       "      <td>24/02/2022</td>\n",
       "      <td>(Alabama, United States, (33.2588817, -86.8295...</td>\n",
       "      <td>33.258882</td>\n",
       "      <td>-86.829534</td>\n",
       "      <td>POINT (-86.82953 33.25888)</td>\n",
       "      <td>0.000000</td>\n",
       "      <td>0.5</td>\n",
       "      <td>United States</td>\n",
       "    </tr>\n",
       "    <tr>\n",
       "      <th>4</th>\n",
       "      <td>8.751810e+17</td>\n",
       "      <td>TONYWINS34</td>\n",
       "      <td>Tony Huynh</td>\n",
       "      <td>@NathanCSGORoll #csgorollscam\\nDon't do free k...</td>\n",
       "      <td>0</td>\n",
       "      <td>0</td>\n",
       "      <td>0</td>\n",
       "      <td>0</td>\n",
       "      <td>0</td>\n",
       "      <td>0</td>\n",
       "      <td>...</td>\n",
       "      <td>False</td>\n",
       "      <td>False</td>\n",
       "      <td>13/04/2014</td>\n",
       "      <td>(Burlington, Chittenden County, Vermont, Unite...</td>\n",
       "      <td>44.476160</td>\n",
       "      <td>-73.212906</td>\n",
       "      <td>POINT (-73.21291 44.47616)</td>\n",
       "      <td>0.400000</td>\n",
       "      <td>0.8</td>\n",
       "      <td>United States</td>\n",
       "    </tr>\n",
       "  </tbody>\n",
       "</table>\n",
       "<p>5 rows × 45 columns</p>\n",
       "</div>"
      ],
      "text/plain": [
       "       tweet_id      username           full_name  \\\n",
       "0  1.679560e+18       fyta_ow                fyta   \n",
       "1  1.690790e+18   Al_Azawi987            Al_Toxic   \n",
       "2  1.679540e+18  mostafa_xxxx                KING   \n",
       "3  1.639810e+18      335ie90_  Daveeeeeeeeeeeeeee   \n",
       "4  8.751810e+17    TONYWINS34          Tony Huynh   \n",
       "\n",
       "                                           full_text  view_count  \\\n",
       "0  @hanshimcd @wonderingsonny @CSGOEmpireV2 @Spar...         160   \n",
       "1  @G2CSGO Can you show us the csgorollscam contr...         463   \n",
       "2  @CSGOEmpireV2 @CSGORoll @CSGOEmpireV3 I wanna ...          61   \n",
       "3  @R6Sharpz Csgo roll is such a scam. All online...          99   \n",
       "4  @NathanCSGORoll #csgorollscam\\nDon't do free k...           0   \n",
       "\n",
       "   bookmark_count  favorite_count  reply_count  retweet_count  quote_count  \\\n",
       "0               0               0            1              0            0   \n",
       "1               0               0            0              0            0   \n",
       "2               0               0            0              0            0   \n",
       "3               0               1            0              0            0   \n",
       "4               0               0            0              0            0   \n",
       "\n",
       "   ...  verified is_blue_verified  user_created_at  \\\n",
       "0  ...     False            False       24/12/2020   \n",
       "1  ...     False            False       05/08/2016   \n",
       "2  ...     False            False       16/02/2013   \n",
       "3  ...     False            False       24/02/2022   \n",
       "4  ...     False            False       13/04/2014   \n",
       "\n",
       "                                        acc_location        lat        lon  \\\n",
       "0  (Nanno, Ville d'Anaunia, Comunità della Val di...  46.314475  11.048029   \n",
       "1                                               None        NaN        NaN   \n",
       "2  (دبي, الإمارات العربية المتحدة, دبي, (25.07428...  25.074282  55.188539   \n",
       "3  (Alabama, United States, (33.2588817, -86.8295...  33.258882 -86.829534   \n",
       "4  (Burlington, Chittenden County, Vermont, Unite...  44.476160 -73.212906   \n",
       "\n",
       "                     geometry  polarity  subjectivity  \\\n",
       "0   POINT (11.04803 46.31448) -0.041667           0.5   \n",
       "1                 POINT EMPTY  0.200000           0.2   \n",
       "2   POINT (55.18854 25.07428) -0.600000           0.7   \n",
       "3  POINT (-86.82953 33.25888)  0.000000           0.5   \n",
       "4  POINT (-73.21291 44.47616)  0.400000           0.8   \n",
       "\n",
       "                    country  \n",
       "0                     Italy  \n",
       "1                       NaN  \n",
       "2  The United Arab Emirates  \n",
       "3             United States  \n",
       "4             United States  \n",
       "\n",
       "[5 rows x 45 columns]"
      ]
     },
     "execution_count": 26,
     "metadata": {},
     "output_type": "execute_result"
    }
   ],
   "source": [
    "translate_client = translate.Client()\n",
    "\n",
    "def translate_text(text, target_language):\n",
    "    result = translate_client.translate(text, target_language=target_language)\n",
    "    return result['translatedText']\n",
    "\n",
    "tweets_final['country'] = tweets_final['country'].apply(lambda x: translate_text(x, 'en') if isinstance(x, str) and len(x) > 0 else x)\n",
    "tweets_final.head()"
   ]
  },
  {
   "attachments": {},
   "cell_type": "markdown",
   "metadata": {},
   "source": [
    "In order to make the country names more accessible to English-speaking individuals, we utilised Google Cloud's Translation API to translate the non-English country names obtained from the previous Nominatim run into English. This translation process was applied specifically to the 'country' column, which allowed us to overwrite the previous values with their English equivalents. By doing so, we were able to ensure that the English version of the country names were readily available for future use."
   ]
  },
  {
   "cell_type": "code",
   "execution_count": 27,
   "metadata": {},
   "outputs": [
    {
     "data": {
      "text/html": [
       "<div>\n",
       "<style scoped>\n",
       "    .dataframe tbody tr th:only-of-type {\n",
       "        vertical-align: middle;\n",
       "    }\n",
       "\n",
       "    .dataframe tbody tr th {\n",
       "        vertical-align: top;\n",
       "    }\n",
       "\n",
       "    .dataframe thead th {\n",
       "        text-align: right;\n",
       "    }\n",
       "</style>\n",
       "<table border=\"1\" class=\"dataframe\">\n",
       "  <thead>\n",
       "    <tr style=\"text-align: right;\">\n",
       "      <th></th>\n",
       "      <th>country</th>\n",
       "      <th>country code</th>\n",
       "      <th>tweet_id</th>\n",
       "      <th>username</th>\n",
       "      <th>full_name</th>\n",
       "      <th>full_text</th>\n",
       "      <th>view_count</th>\n",
       "      <th>bookmark_count</th>\n",
       "      <th>favorite_count</th>\n",
       "      <th>reply_count</th>\n",
       "      <th>...</th>\n",
       "      <th>avatar_url</th>\n",
       "      <th>verified</th>\n",
       "      <th>is_blue_verified</th>\n",
       "      <th>user_created_at</th>\n",
       "      <th>acc_location</th>\n",
       "      <th>lat</th>\n",
       "      <th>lon</th>\n",
       "      <th>geometry</th>\n",
       "      <th>polarity</th>\n",
       "      <th>subjectivity</th>\n",
       "    </tr>\n",
       "  </thead>\n",
       "  <tbody>\n",
       "    <tr>\n",
       "      <th>0</th>\n",
       "      <td>Canada</td>\n",
       "      <td>CAN</td>\n",
       "      <td>8.605850e+17</td>\n",
       "      <td>CrunchyyTaco</td>\n",
       "      <td>Crunchy</td>\n",
       "      <td>@VictorSvane @CSGORoll He tried to scam me wit...</td>\n",
       "      <td>0</td>\n",
       "      <td>0</td>\n",
       "      <td>0</td>\n",
       "      <td>0</td>\n",
       "      <td>...</td>\n",
       "      <td>https://pbs.twimg.com/profile_images/859793742...</td>\n",
       "      <td>False</td>\n",
       "      <td>False</td>\n",
       "      <td>03/05/2017</td>\n",
       "      <td>(Central Ontario, Ontario, Canada, Kawartha La...</td>\n",
       "      <td>44.575616</td>\n",
       "      <td>-78.848603</td>\n",
       "      <td>POINT (-78.84860 44.57562)</td>\n",
       "      <td>0.027778</td>\n",
       "      <td>0.180556</td>\n",
       "    </tr>\n",
       "    <tr>\n",
       "      <th>1</th>\n",
       "      <td>Canada</td>\n",
       "      <td>CAN</td>\n",
       "      <td>1.660410e+18</td>\n",
       "      <td>Timi7272</td>\n",
       "      <td>Timi</td>\n",
       "      <td>@bibanator Die Schlange bei csgo roll (bzw g2)...</td>\n",
       "      <td>1923</td>\n",
       "      <td>0</td>\n",
       "      <td>7</td>\n",
       "      <td>0</td>\n",
       "      <td>...</td>\n",
       "      <td>https://pbs.twimg.com/profile_images/165846257...</td>\n",
       "      <td>False</td>\n",
       "      <td>False</td>\n",
       "      <td>09/12/2016</td>\n",
       "      <td>(2, Sand Dust Lane, Seguin Township, Parry Sou...</td>\n",
       "      <td>45.300575</td>\n",
       "      <td>-79.946399</td>\n",
       "      <td>POINT (-79.94640 45.30058)</td>\n",
       "      <td>0.000000</td>\n",
       "      <td>0.000000</td>\n",
       "    </tr>\n",
       "    <tr>\n",
       "      <th>2</th>\n",
       "      <td>Argentina</td>\n",
       "      <td>ARG</td>\n",
       "      <td>1.574750e+18</td>\n",
       "      <td>dlcofficial</td>\n",
       "      <td>IamDLC</td>\n",
       "      <td>@Cti9001 @Nuubzaum @nocabcs @Thunder_Dovah @No...</td>\n",
       "      <td>0</td>\n",
       "      <td>0</td>\n",
       "      <td>0</td>\n",
       "      <td>0</td>\n",
       "      <td>...</td>\n",
       "      <td>https://pbs.twimg.com/profile_images/165162685...</td>\n",
       "      <td>False</td>\n",
       "      <td>False</td>\n",
       "      <td>14/07/2020</td>\n",
       "      <td>(Mirage, Tandil, Partido de Tandil, Buenos Air...</td>\n",
       "      <td>-37.312578</td>\n",
       "      <td>-59.158166</td>\n",
       "      <td>POINT (-59.15817 -37.31258)</td>\n",
       "      <td>0.000000</td>\n",
       "      <td>0.750000</td>\n",
       "    </tr>\n",
       "    <tr>\n",
       "      <th>3</th>\n",
       "      <td>Argentina</td>\n",
       "      <td>ARG</td>\n",
       "      <td>7.954010e+17</td>\n",
       "      <td>nvRcsgo</td>\n",
       "      <td>nvr</td>\n",
       "      <td>@VikingES_Gamer Viking acabo de sacar un cuchi...</td>\n",
       "      <td>0</td>\n",
       "      <td>0</td>\n",
       "      <td>0</td>\n",
       "      <td>0</td>\n",
       "      <td>...</td>\n",
       "      <td>https://pbs.twimg.com/profile_images/151949920...</td>\n",
       "      <td>False</td>\n",
       "      <td>False</td>\n",
       "      <td>02/09/2013</td>\n",
       "      <td>(Rosario, Municipio de Rosario, Gran Rosario, ...</td>\n",
       "      <td>-32.959361</td>\n",
       "      <td>-60.661702</td>\n",
       "      <td>POINT (-60.66170 -32.95936)</td>\n",
       "      <td>0.000000</td>\n",
       "      <td>0.000000</td>\n",
       "    </tr>\n",
       "    <tr>\n",
       "      <th>4</th>\n",
       "      <td>Chile</td>\n",
       "      <td>CHL</td>\n",
       "      <td>8.399170e+17</td>\n",
       "      <td>sfdxpro</td>\n",
       "      <td>SfdxShow</td>\n",
       "      <td>Atención Scam!! El 95% de las webs que tengan ...</td>\n",
       "      <td>0</td>\n",
       "      <td>0</td>\n",
       "      <td>81</td>\n",
       "      <td>13</td>\n",
       "      <td>...</td>\n",
       "      <td>https://pbs.twimg.com/profile_images/907282735...</td>\n",
       "      <td>False</td>\n",
       "      <td>True</td>\n",
       "      <td>03/01/2015</td>\n",
       "      <td>(Planeta Tierra, Población Martín, Monte León ...</td>\n",
       "      <td>-36.534190</td>\n",
       "      <td>-72.087854</td>\n",
       "      <td>POINT (-72.08785 -36.53419)</td>\n",
       "      <td>0.000000</td>\n",
       "      <td>0.000000</td>\n",
       "    </tr>\n",
       "  </tbody>\n",
       "</table>\n",
       "<p>5 rows × 46 columns</p>\n",
       "</div>"
      ],
      "text/plain": [
       "     country country code      tweet_id      username full_name  \\\n",
       "0     Canada          CAN  8.605850e+17  CrunchyyTaco   Crunchy   \n",
       "1     Canada          CAN  1.660410e+18      Timi7272      Timi   \n",
       "2  Argentina          ARG  1.574750e+18   dlcofficial    IamDLC   \n",
       "3  Argentina          ARG  7.954010e+17       nvRcsgo       nvr   \n",
       "4      Chile          CHL  8.399170e+17       sfdxpro  SfdxShow   \n",
       "\n",
       "                                           full_text  view_count  \\\n",
       "0  @VictorSvane @CSGORoll He tried to scam me wit...           0   \n",
       "1  @bibanator Die Schlange bei csgo roll (bzw g2)...        1923   \n",
       "2  @Cti9001 @Nuubzaum @nocabcs @Thunder_Dovah @No...           0   \n",
       "3  @VikingES_Gamer Viking acabo de sacar un cuchi...           0   \n",
       "4  Atención Scam!! El 95% de las webs que tengan ...           0   \n",
       "\n",
       "   bookmark_count  favorite_count  reply_count  ...  \\\n",
       "0               0               0            0  ...   \n",
       "1               0               7            0  ...   \n",
       "2               0               0            0  ...   \n",
       "3               0               0            0  ...   \n",
       "4               0              81           13  ...   \n",
       "\n",
       "                                          avatar_url  verified  \\\n",
       "0  https://pbs.twimg.com/profile_images/859793742...     False   \n",
       "1  https://pbs.twimg.com/profile_images/165846257...     False   \n",
       "2  https://pbs.twimg.com/profile_images/165162685...     False   \n",
       "3  https://pbs.twimg.com/profile_images/151949920...     False   \n",
       "4  https://pbs.twimg.com/profile_images/907282735...     False   \n",
       "\n",
       "   is_blue_verified user_created_at  \\\n",
       "0             False      03/05/2017   \n",
       "1             False      09/12/2016   \n",
       "2             False      14/07/2020   \n",
       "3             False      02/09/2013   \n",
       "4              True      03/01/2015   \n",
       "\n",
       "                                        acc_location        lat        lon  \\\n",
       "0  (Central Ontario, Ontario, Canada, Kawartha La...  44.575616 -78.848603   \n",
       "1  (2, Sand Dust Lane, Seguin Township, Parry Sou...  45.300575 -79.946399   \n",
       "2  (Mirage, Tandil, Partido de Tandil, Buenos Air... -37.312578 -59.158166   \n",
       "3  (Rosario, Municipio de Rosario, Gran Rosario, ... -32.959361 -60.661702   \n",
       "4  (Planeta Tierra, Población Martín, Monte León ... -36.534190 -72.087854   \n",
       "\n",
       "                      geometry  polarity  subjectivity  \n",
       "0   POINT (-78.84860 44.57562)  0.027778      0.180556  \n",
       "1   POINT (-79.94640 45.30058)  0.000000      0.000000  \n",
       "2  POINT (-59.15817 -37.31258)  0.000000      0.750000  \n",
       "3  POINT (-60.66170 -32.95936)  0.000000      0.000000  \n",
       "4  POINT (-72.08785 -36.53419)  0.000000      0.000000  \n",
       "\n",
       "[5 rows x 46 columns]"
      ]
     },
     "execution_count": 27,
     "metadata": {},
     "output_type": "execute_result"
    }
   ],
   "source": [
    "tweetsmerged=pd.merge(world, tweets_final, on=\"country\")\n",
    "tweetsmerged.head()"
   ]
  },
  {
   "attachments": {},
   "cell_type": "markdown",
   "metadata": {},
   "source": [
    "By extracting the country name of each tweet from the 'location' column using Nominatim, we were able to create a new column with the country name for each tweet, called 'country'. With this information available, we were able to merge our dataset with the 'world' dataset. The 'world' dataset contains information on each country around the world, including their country code, which is what both datasets were merged on. This allowed us to plot our data onto a choropleth map, a type of map that displays data in differerent shades of color on predefined geographical regions. This made it possible to visualise and analyse data like averages, distribution, and other patterns on a global scale."
   ]
  },
  {
   "cell_type": "code",
   "execution_count": 28,
   "metadata": {},
   "outputs": [
    {
     "data": {
      "text/html": [
       "<div>\n",
       "<style scoped>\n",
       "    .dataframe tbody tr th:only-of-type {\n",
       "        vertical-align: middle;\n",
       "    }\n",
       "\n",
       "    .dataframe tbody tr th {\n",
       "        vertical-align: top;\n",
       "    }\n",
       "\n",
       "    .dataframe thead th {\n",
       "        text-align: right;\n",
       "    }\n",
       "</style>\n",
       "<table border=\"1\" class=\"dataframe\">\n",
       "  <thead>\n",
       "    <tr style=\"text-align: right;\">\n",
       "      <th></th>\n",
       "      <th>country</th>\n",
       "      <th>country code</th>\n",
       "      <th>polarity</th>\n",
       "    </tr>\n",
       "  </thead>\n",
       "  <tbody>\n",
       "    <tr>\n",
       "      <th>0</th>\n",
       "      <td>Argentina</td>\n",
       "      <td>ARG</td>\n",
       "      <td>0.000000</td>\n",
       "    </tr>\n",
       "    <tr>\n",
       "      <th>1</th>\n",
       "      <td>Australia</td>\n",
       "      <td>AUS</td>\n",
       "      <td>0.112500</td>\n",
       "    </tr>\n",
       "    <tr>\n",
       "      <th>2</th>\n",
       "      <td>Austria</td>\n",
       "      <td>AUT</td>\n",
       "      <td>0.300000</td>\n",
       "    </tr>\n",
       "    <tr>\n",
       "      <th>3</th>\n",
       "      <td>Bulgaria</td>\n",
       "      <td>BGR</td>\n",
       "      <td>-0.178571</td>\n",
       "    </tr>\n",
       "    <tr>\n",
       "      <th>4</th>\n",
       "      <td>Canada</td>\n",
       "      <td>CAN</td>\n",
       "      <td>0.013889</td>\n",
       "    </tr>\n",
       "    <tr>\n",
       "      <th>5</th>\n",
       "      <td>Chile</td>\n",
       "      <td>CHL</td>\n",
       "      <td>0.000000</td>\n",
       "    </tr>\n",
       "    <tr>\n",
       "      <th>6</th>\n",
       "      <td>Denmark</td>\n",
       "      <td>DNK</td>\n",
       "      <td>0.650000</td>\n",
       "    </tr>\n",
       "    <tr>\n",
       "      <th>7</th>\n",
       "      <td>France</td>\n",
       "      <td>FRA</td>\n",
       "      <td>0.250000</td>\n",
       "    </tr>\n",
       "    <tr>\n",
       "      <th>8</th>\n",
       "      <td>Germany</td>\n",
       "      <td>DEU</td>\n",
       "      <td>0.127579</td>\n",
       "    </tr>\n",
       "    <tr>\n",
       "      <th>9</th>\n",
       "      <td>India</td>\n",
       "      <td>IND</td>\n",
       "      <td>0.071528</td>\n",
       "    </tr>\n",
       "    <tr>\n",
       "      <th>10</th>\n",
       "      <td>Italy</td>\n",
       "      <td>ITA</td>\n",
       "      <td>0.032583</td>\n",
       "    </tr>\n",
       "    <tr>\n",
       "      <th>11</th>\n",
       "      <td>Philippines</td>\n",
       "      <td>PHL</td>\n",
       "      <td>0.700000</td>\n",
       "    </tr>\n",
       "    <tr>\n",
       "      <th>12</th>\n",
       "      <td>Spain</td>\n",
       "      <td>ESP</td>\n",
       "      <td>0.000000</td>\n",
       "    </tr>\n",
       "    <tr>\n",
       "      <th>13</th>\n",
       "      <td>Sweden</td>\n",
       "      <td>SWE</td>\n",
       "      <td>-0.076923</td>\n",
       "    </tr>\n",
       "    <tr>\n",
       "      <th>14</th>\n",
       "      <td>United Kingdom</td>\n",
       "      <td>GBR</td>\n",
       "      <td>0.281250</td>\n",
       "    </tr>\n",
       "    <tr>\n",
       "      <th>15</th>\n",
       "      <td>Zimbabwe</td>\n",
       "      <td>ZWE</td>\n",
       "      <td>0.000000</td>\n",
       "    </tr>\n",
       "  </tbody>\n",
       "</table>\n",
       "</div>"
      ],
      "text/plain": [
       "           country country code  polarity\n",
       "0        Argentina          ARG  0.000000\n",
       "1        Australia          AUS  0.112500\n",
       "2          Austria          AUT  0.300000\n",
       "3         Bulgaria          BGR -0.178571\n",
       "4           Canada          CAN  0.013889\n",
       "5            Chile          CHL  0.000000\n",
       "6          Denmark          DNK  0.650000\n",
       "7           France          FRA  0.250000\n",
       "8          Germany          DEU  0.127579\n",
       "9            India          IND  0.071528\n",
       "10           Italy          ITA  0.032583\n",
       "11     Philippines          PHL  0.700000\n",
       "12           Spain          ESP  0.000000\n",
       "13          Sweden          SWE -0.076923\n",
       "14  United Kingdom          GBR  0.281250\n",
       "15        Zimbabwe          ZWE  0.000000"
      ]
     },
     "execution_count": 28,
     "metadata": {},
     "output_type": "execute_result"
    }
   ],
   "source": [
    "tweetsmerged['country code'] = tweetsmerged['country code'].astype(str)\n",
    "avg_polarity = tweetsmerged.groupby(['country', 'country code'])['polarity'].mean().reset_index()\n",
    "avg_polarity"
   ]
  },
  {
   "cell_type": "code",
   "execution_count": 29,
   "metadata": {},
   "outputs": [
    {
     "data": {
      "text/html": [
       "<div>\n",
       "<style scoped>\n",
       "    .dataframe tbody tr th:only-of-type {\n",
       "        vertical-align: middle;\n",
       "    }\n",
       "\n",
       "    .dataframe tbody tr th {\n",
       "        vertical-align: top;\n",
       "    }\n",
       "\n",
       "    .dataframe thead th {\n",
       "        text-align: right;\n",
       "    }\n",
       "</style>\n",
       "<table border=\"1\" class=\"dataframe\">\n",
       "  <thead>\n",
       "    <tr style=\"text-align: right;\">\n",
       "      <th></th>\n",
       "      <th>country</th>\n",
       "      <th>country code</th>\n",
       "      <th>subjectivity</th>\n",
       "    </tr>\n",
       "  </thead>\n",
       "  <tbody>\n",
       "    <tr>\n",
       "      <th>0</th>\n",
       "      <td>Argentina</td>\n",
       "      <td>ARG</td>\n",
       "      <td>0.375000</td>\n",
       "    </tr>\n",
       "    <tr>\n",
       "      <th>1</th>\n",
       "      <td>Australia</td>\n",
       "      <td>AUS</td>\n",
       "      <td>0.762500</td>\n",
       "    </tr>\n",
       "    <tr>\n",
       "      <th>2</th>\n",
       "      <td>Austria</td>\n",
       "      <td>AUT</td>\n",
       "      <td>0.900000</td>\n",
       "    </tr>\n",
       "    <tr>\n",
       "      <th>3</th>\n",
       "      <td>Bulgaria</td>\n",
       "      <td>BGR</td>\n",
       "      <td>0.616667</td>\n",
       "    </tr>\n",
       "    <tr>\n",
       "      <th>4</th>\n",
       "      <td>Canada</td>\n",
       "      <td>CAN</td>\n",
       "      <td>0.090278</td>\n",
       "    </tr>\n",
       "    <tr>\n",
       "      <th>5</th>\n",
       "      <td>Chile</td>\n",
       "      <td>CHL</td>\n",
       "      <td>0.000000</td>\n",
       "    </tr>\n",
       "    <tr>\n",
       "      <th>6</th>\n",
       "      <td>Denmark</td>\n",
       "      <td>DNK</td>\n",
       "      <td>0.644444</td>\n",
       "    </tr>\n",
       "    <tr>\n",
       "      <th>7</th>\n",
       "      <td>France</td>\n",
       "      <td>FRA</td>\n",
       "      <td>0.250000</td>\n",
       "    </tr>\n",
       "    <tr>\n",
       "      <th>8</th>\n",
       "      <td>Germany</td>\n",
       "      <td>DEU</td>\n",
       "      <td>0.649802</td>\n",
       "    </tr>\n",
       "    <tr>\n",
       "      <th>9</th>\n",
       "      <td>India</td>\n",
       "      <td>IND</td>\n",
       "      <td>0.287500</td>\n",
       "    </tr>\n",
       "    <tr>\n",
       "      <th>10</th>\n",
       "      <td>Italy</td>\n",
       "      <td>ITA</td>\n",
       "      <td>0.323650</td>\n",
       "    </tr>\n",
       "    <tr>\n",
       "      <th>11</th>\n",
       "      <td>Philippines</td>\n",
       "      <td>PHL</td>\n",
       "      <td>0.900000</td>\n",
       "    </tr>\n",
       "    <tr>\n",
       "      <th>12</th>\n",
       "      <td>Spain</td>\n",
       "      <td>ESP</td>\n",
       "      <td>0.000000</td>\n",
       "    </tr>\n",
       "    <tr>\n",
       "      <th>13</th>\n",
       "      <td>Sweden</td>\n",
       "      <td>SWE</td>\n",
       "      <td>0.269231</td>\n",
       "    </tr>\n",
       "    <tr>\n",
       "      <th>14</th>\n",
       "      <td>United Kingdom</td>\n",
       "      <td>GBR</td>\n",
       "      <td>0.500000</td>\n",
       "    </tr>\n",
       "    <tr>\n",
       "      <th>15</th>\n",
       "      <td>Zimbabwe</td>\n",
       "      <td>ZWE</td>\n",
       "      <td>0.400000</td>\n",
       "    </tr>\n",
       "  </tbody>\n",
       "</table>\n",
       "</div>"
      ],
      "text/plain": [
       "           country country code  subjectivity\n",
       "0        Argentina          ARG      0.375000\n",
       "1        Australia          AUS      0.762500\n",
       "2          Austria          AUT      0.900000\n",
       "3         Bulgaria          BGR      0.616667\n",
       "4           Canada          CAN      0.090278\n",
       "5            Chile          CHL      0.000000\n",
       "6          Denmark          DNK      0.644444\n",
       "7           France          FRA      0.250000\n",
       "8          Germany          DEU      0.649802\n",
       "9            India          IND      0.287500\n",
       "10           Italy          ITA      0.323650\n",
       "11     Philippines          PHL      0.900000\n",
       "12           Spain          ESP      0.000000\n",
       "13          Sweden          SWE      0.269231\n",
       "14  United Kingdom          GBR      0.500000\n",
       "15        Zimbabwe          ZWE      0.400000"
      ]
     },
     "execution_count": 29,
     "metadata": {},
     "output_type": "execute_result"
    }
   ],
   "source": [
    "tweetsmerged['country code'] = tweetsmerged['country code'].astype(str)\n",
    "avg_subjectivity = tweetsmerged.groupby(['country', 'country code'])['subjectivity'].mean().reset_index()\n",
    "avg_subjectivity"
   ]
  },
  {
   "attachments": {},
   "cell_type": "markdown",
   "metadata": {},
   "source": [
    "Having merged the data from the 'world' and 'tweets_final' datasets to create 'tweetsmerged', we could use the polarity and subjectivity data we obtained through TextBlob sentiment analysis, to calculate the mean polarity and subjectivity for each country. This calculated data can then be plotted on a choropleth map, which is achieved by leveraging the country code information in our dataset. By providing Plotly with the country code data, we can indicate where on the choropleth map the polarity or subjectivity data is plotted.\n",
    "\n",
    "Plotting the mean polarity and subjectivity for each country can provide valuable insights into the overall sentiment of Twitter users in different regions of the world. By aggregating sentiment data on a country level, we can identify patterns and trends in public opinion that may be relevant to executives, tournament officials, and other organisations operating in those regions. For example, positive sentiment towards a certain topic or product in a particular country could indicate a potential market opportunity. Similarly, negative sentiment towards a particular issue could signal a need for further investigation or action. Additionally, mapping sentiment data can help visualize the distribution of sentiment across different regions, allowing for easier comparison and analysis.\n",
    "\n",
    "Overall, plotting the mean polarity and subjectivity for each country can provide a useful tool for understanding and interpreting public sentiment towards the G2/CSGORoll sponsorship on a global scale, enabling decision-makers to take appropriate actions based on the insights gained."
   ]
  },
  {
   "cell_type": "code",
   "execution_count": 30,
   "metadata": {},
   "outputs": [
    {
     "data": {
      "application/vnd.plotly.v1+json": {
       "config": {
        "plotlyServerURL": "https://plot.ly"
       },
       "data": [
        {
         "colorbar": {
          "orientation": "h",
          "title": {
           "text": "Polarity"
          }
         },
         "colorscale": [
          [
           0,
           "rgb(243, 231, 155)"
          ],
          [
           0.16666666666666666,
           "rgb(250, 196, 132)"
          ],
          [
           0.3333333333333333,
           "rgb(248, 160, 126)"
          ],
          [
           0.5,
           "rgb(235, 127, 134)"
          ],
          [
           0.6666666666666666,
           "rgb(206, 102, 147)"
          ],
          [
           0.8333333333333334,
           "rgb(160, 89, 160)"
          ],
          [
           1,
           "rgb(92, 83, 165)"
          ]
         ],
         "hovertemplate": [
          "<b>Country:</b> Argentina<br><b>Country Code:</b> ARG<br><b>Polarity:</b> %{z:.3f}<extra></extra>",
          "<b>Country:</b> Australia<br><b>Country Code:</b> AUS<br><b>Polarity:</b> %{z:.3f}<extra></extra>",
          "<b>Country:</b> Austria<br><b>Country Code:</b> AUT<br><b>Polarity:</b> %{z:.3f}<extra></extra>",
          "<b>Country:</b> Bulgaria<br><b>Country Code:</b> BGR<br><b>Polarity:</b> %{z:.3f}<extra></extra>",
          "<b>Country:</b> Canada<br><b>Country Code:</b> CAN<br><b>Polarity:</b> %{z:.3f}<extra></extra>",
          "<b>Country:</b> Chile<br><b>Country Code:</b> CHL<br><b>Polarity:</b> %{z:.3f}<extra></extra>",
          "<b>Country:</b> Denmark<br><b>Country Code:</b> DNK<br><b>Polarity:</b> %{z:.3f}<extra></extra>",
          "<b>Country:</b> France<br><b>Country Code:</b> FRA<br><b>Polarity:</b> %{z:.3f}<extra></extra>",
          "<b>Country:</b> Germany<br><b>Country Code:</b> DEU<br><b>Polarity:</b> %{z:.3f}<extra></extra>",
          "<b>Country:</b> India<br><b>Country Code:</b> IND<br><b>Polarity:</b> %{z:.3f}<extra></extra>",
          "<b>Country:</b> Italy<br><b>Country Code:</b> ITA<br><b>Polarity:</b> %{z:.3f}<extra></extra>",
          "<b>Country:</b> Philippines<br><b>Country Code:</b> PHL<br><b>Polarity:</b> %{z:.3f}<extra></extra>",
          "<b>Country:</b> Spain<br><b>Country Code:</b> ESP<br><b>Polarity:</b> %{z:.3f}<extra></extra>",
          "<b>Country:</b> Sweden<br><b>Country Code:</b> SWE<br><b>Polarity:</b> %{z:.3f}<extra></extra>",
          "<b>Country:</b> United Kingdom<br><b>Country Code:</b> GBR<br><b>Polarity:</b> %{z:.3f}<extra></extra>",
          "<b>Country:</b> Zimbabwe<br><b>Country Code:</b> ZWE<br><b>Polarity:</b> %{z:.3f}<extra></extra>"
         ],
         "locations": [
          "ARG",
          "AUS",
          "AUT",
          "BGR",
          "CAN",
          "CHL",
          "DNK",
          "FRA",
          "DEU",
          "IND",
          "ITA",
          "PHL",
          "ESP",
          "SWE",
          "GBR",
          "ZWE"
         ],
         "marker": {
          "line": {
           "color": "gray",
           "width": 0.2
          }
         },
         "type": "choropleth",
         "z": [
          0,
          0.11250000000000004,
          0.3,
          -0.17857142857142858,
          0.01388888888888889,
          0,
          0.65,
          0.25,
          0.1275793650793651,
          0.07152777777777777,
          0.03258297258297258,
          0.7,
          0,
          -0.07692307692307693,
          0.28125,
          0
         ]
        }
       ],
       "layout": {
        "geo": {
         "showcoastlines": false,
         "showframe": false
        },
        "template": {
         "data": {
          "bar": [
           {
            "error_x": {
             "color": "#2a3f5f"
            },
            "error_y": {
             "color": "#2a3f5f"
            },
            "marker": {
             "line": {
              "color": "#E5ECF6",
              "width": 0.5
             },
             "pattern": {
              "fillmode": "overlay",
              "size": 10,
              "solidity": 0.2
             }
            },
            "type": "bar"
           }
          ],
          "barpolar": [
           {
            "marker": {
             "line": {
              "color": "#E5ECF6",
              "width": 0.5
             },
             "pattern": {
              "fillmode": "overlay",
              "size": 10,
              "solidity": 0.2
             }
            },
            "type": "barpolar"
           }
          ],
          "carpet": [
           {
            "aaxis": {
             "endlinecolor": "#2a3f5f",
             "gridcolor": "white",
             "linecolor": "white",
             "minorgridcolor": "white",
             "startlinecolor": "#2a3f5f"
            },
            "baxis": {
             "endlinecolor": "#2a3f5f",
             "gridcolor": "white",
             "linecolor": "white",
             "minorgridcolor": "white",
             "startlinecolor": "#2a3f5f"
            },
            "type": "carpet"
           }
          ],
          "choropleth": [
           {
            "colorbar": {
             "outlinewidth": 0,
             "ticks": ""
            },
            "type": "choropleth"
           }
          ],
          "contour": [
           {
            "colorbar": {
             "outlinewidth": 0,
             "ticks": ""
            },
            "colorscale": [
             [
              0,
              "#0d0887"
             ],
             [
              0.1111111111111111,
              "#46039f"
             ],
             [
              0.2222222222222222,
              "#7201a8"
             ],
             [
              0.3333333333333333,
              "#9c179e"
             ],
             [
              0.4444444444444444,
              "#bd3786"
             ],
             [
              0.5555555555555556,
              "#d8576b"
             ],
             [
              0.6666666666666666,
              "#ed7953"
             ],
             [
              0.7777777777777778,
              "#fb9f3a"
             ],
             [
              0.8888888888888888,
              "#fdca26"
             ],
             [
              1,
              "#f0f921"
             ]
            ],
            "type": "contour"
           }
          ],
          "contourcarpet": [
           {
            "colorbar": {
             "outlinewidth": 0,
             "ticks": ""
            },
            "type": "contourcarpet"
           }
          ],
          "heatmap": [
           {
            "colorbar": {
             "outlinewidth": 0,
             "ticks": ""
            },
            "colorscale": [
             [
              0,
              "#0d0887"
             ],
             [
              0.1111111111111111,
              "#46039f"
             ],
             [
              0.2222222222222222,
              "#7201a8"
             ],
             [
              0.3333333333333333,
              "#9c179e"
             ],
             [
              0.4444444444444444,
              "#bd3786"
             ],
             [
              0.5555555555555556,
              "#d8576b"
             ],
             [
              0.6666666666666666,
              "#ed7953"
             ],
             [
              0.7777777777777778,
              "#fb9f3a"
             ],
             [
              0.8888888888888888,
              "#fdca26"
             ],
             [
              1,
              "#f0f921"
             ]
            ],
            "type": "heatmap"
           }
          ],
          "heatmapgl": [
           {
            "colorbar": {
             "outlinewidth": 0,
             "ticks": ""
            },
            "colorscale": [
             [
              0,
              "#0d0887"
             ],
             [
              0.1111111111111111,
              "#46039f"
             ],
             [
              0.2222222222222222,
              "#7201a8"
             ],
             [
              0.3333333333333333,
              "#9c179e"
             ],
             [
              0.4444444444444444,
              "#bd3786"
             ],
             [
              0.5555555555555556,
              "#d8576b"
             ],
             [
              0.6666666666666666,
              "#ed7953"
             ],
             [
              0.7777777777777778,
              "#fb9f3a"
             ],
             [
              0.8888888888888888,
              "#fdca26"
             ],
             [
              1,
              "#f0f921"
             ]
            ],
            "type": "heatmapgl"
           }
          ],
          "histogram": [
           {
            "marker": {
             "pattern": {
              "fillmode": "overlay",
              "size": 10,
              "solidity": 0.2
             }
            },
            "type": "histogram"
           }
          ],
          "histogram2d": [
           {
            "colorbar": {
             "outlinewidth": 0,
             "ticks": ""
            },
            "colorscale": [
             [
              0,
              "#0d0887"
             ],
             [
              0.1111111111111111,
              "#46039f"
             ],
             [
              0.2222222222222222,
              "#7201a8"
             ],
             [
              0.3333333333333333,
              "#9c179e"
             ],
             [
              0.4444444444444444,
              "#bd3786"
             ],
             [
              0.5555555555555556,
              "#d8576b"
             ],
             [
              0.6666666666666666,
              "#ed7953"
             ],
             [
              0.7777777777777778,
              "#fb9f3a"
             ],
             [
              0.8888888888888888,
              "#fdca26"
             ],
             [
              1,
              "#f0f921"
             ]
            ],
            "type": "histogram2d"
           }
          ],
          "histogram2dcontour": [
           {
            "colorbar": {
             "outlinewidth": 0,
             "ticks": ""
            },
            "colorscale": [
             [
              0,
              "#0d0887"
             ],
             [
              0.1111111111111111,
              "#46039f"
             ],
             [
              0.2222222222222222,
              "#7201a8"
             ],
             [
              0.3333333333333333,
              "#9c179e"
             ],
             [
              0.4444444444444444,
              "#bd3786"
             ],
             [
              0.5555555555555556,
              "#d8576b"
             ],
             [
              0.6666666666666666,
              "#ed7953"
             ],
             [
              0.7777777777777778,
              "#fb9f3a"
             ],
             [
              0.8888888888888888,
              "#fdca26"
             ],
             [
              1,
              "#f0f921"
             ]
            ],
            "type": "histogram2dcontour"
           }
          ],
          "mesh3d": [
           {
            "colorbar": {
             "outlinewidth": 0,
             "ticks": ""
            },
            "type": "mesh3d"
           }
          ],
          "parcoords": [
           {
            "line": {
             "colorbar": {
              "outlinewidth": 0,
              "ticks": ""
             }
            },
            "type": "parcoords"
           }
          ],
          "pie": [
           {
            "automargin": true,
            "type": "pie"
           }
          ],
          "scatter": [
           {
            "fillpattern": {
             "fillmode": "overlay",
             "size": 10,
             "solidity": 0.2
            },
            "type": "scatter"
           }
          ],
          "scatter3d": [
           {
            "line": {
             "colorbar": {
              "outlinewidth": 0,
              "ticks": ""
             }
            },
            "marker": {
             "colorbar": {
              "outlinewidth": 0,
              "ticks": ""
             }
            },
            "type": "scatter3d"
           }
          ],
          "scattercarpet": [
           {
            "marker": {
             "colorbar": {
              "outlinewidth": 0,
              "ticks": ""
             }
            },
            "type": "scattercarpet"
           }
          ],
          "scattergeo": [
           {
            "marker": {
             "colorbar": {
              "outlinewidth": 0,
              "ticks": ""
             }
            },
            "type": "scattergeo"
           }
          ],
          "scattergl": [
           {
            "marker": {
             "colorbar": {
              "outlinewidth": 0,
              "ticks": ""
             }
            },
            "type": "scattergl"
           }
          ],
          "scattermapbox": [
           {
            "marker": {
             "colorbar": {
              "outlinewidth": 0,
              "ticks": ""
             }
            },
            "type": "scattermapbox"
           }
          ],
          "scatterpolar": [
           {
            "marker": {
             "colorbar": {
              "outlinewidth": 0,
              "ticks": ""
             }
            },
            "type": "scatterpolar"
           }
          ],
          "scatterpolargl": [
           {
            "marker": {
             "colorbar": {
              "outlinewidth": 0,
              "ticks": ""
             }
            },
            "type": "scatterpolargl"
           }
          ],
          "scatterternary": [
           {
            "marker": {
             "colorbar": {
              "outlinewidth": 0,
              "ticks": ""
             }
            },
            "type": "scatterternary"
           }
          ],
          "surface": [
           {
            "colorbar": {
             "outlinewidth": 0,
             "ticks": ""
            },
            "colorscale": [
             [
              0,
              "#0d0887"
             ],
             [
              0.1111111111111111,
              "#46039f"
             ],
             [
              0.2222222222222222,
              "#7201a8"
             ],
             [
              0.3333333333333333,
              "#9c179e"
             ],
             [
              0.4444444444444444,
              "#bd3786"
             ],
             [
              0.5555555555555556,
              "#d8576b"
             ],
             [
              0.6666666666666666,
              "#ed7953"
             ],
             [
              0.7777777777777778,
              "#fb9f3a"
             ],
             [
              0.8888888888888888,
              "#fdca26"
             ],
             [
              1,
              "#f0f921"
             ]
            ],
            "type": "surface"
           }
          ],
          "table": [
           {
            "cells": {
             "fill": {
              "color": "#EBF0F8"
             },
             "line": {
              "color": "white"
             }
            },
            "header": {
             "fill": {
              "color": "#C8D4E3"
             },
             "line": {
              "color": "white"
             }
            },
            "type": "table"
           }
          ]
         },
         "layout": {
          "annotationdefaults": {
           "arrowcolor": "#2a3f5f",
           "arrowhead": 0,
           "arrowwidth": 1
          },
          "autotypenumbers": "strict",
          "coloraxis": {
           "colorbar": {
            "outlinewidth": 0,
            "ticks": ""
           }
          },
          "colorscale": {
           "diverging": [
            [
             0,
             "#8e0152"
            ],
            [
             0.1,
             "#c51b7d"
            ],
            [
             0.2,
             "#de77ae"
            ],
            [
             0.3,
             "#f1b6da"
            ],
            [
             0.4,
             "#fde0ef"
            ],
            [
             0.5,
             "#f7f7f7"
            ],
            [
             0.6,
             "#e6f5d0"
            ],
            [
             0.7,
             "#b8e186"
            ],
            [
             0.8,
             "#7fbc41"
            ],
            [
             0.9,
             "#4d9221"
            ],
            [
             1,
             "#276419"
            ]
           ],
           "sequential": [
            [
             0,
             "#0d0887"
            ],
            [
             0.1111111111111111,
             "#46039f"
            ],
            [
             0.2222222222222222,
             "#7201a8"
            ],
            [
             0.3333333333333333,
             "#9c179e"
            ],
            [
             0.4444444444444444,
             "#bd3786"
            ],
            [
             0.5555555555555556,
             "#d8576b"
            ],
            [
             0.6666666666666666,
             "#ed7953"
            ],
            [
             0.7777777777777778,
             "#fb9f3a"
            ],
            [
             0.8888888888888888,
             "#fdca26"
            ],
            [
             1,
             "#f0f921"
            ]
           ],
           "sequentialminus": [
            [
             0,
             "#0d0887"
            ],
            [
             0.1111111111111111,
             "#46039f"
            ],
            [
             0.2222222222222222,
             "#7201a8"
            ],
            [
             0.3333333333333333,
             "#9c179e"
            ],
            [
             0.4444444444444444,
             "#bd3786"
            ],
            [
             0.5555555555555556,
             "#d8576b"
            ],
            [
             0.6666666666666666,
             "#ed7953"
            ],
            [
             0.7777777777777778,
             "#fb9f3a"
            ],
            [
             0.8888888888888888,
             "#fdca26"
            ],
            [
             1,
             "#f0f921"
            ]
           ]
          },
          "colorway": [
           "#636efa",
           "#EF553B",
           "#00cc96",
           "#ab63fa",
           "#FFA15A",
           "#19d3f3",
           "#FF6692",
           "#B6E880",
           "#FF97FF",
           "#FECB52"
          ],
          "font": {
           "color": "#2a3f5f"
          },
          "geo": {
           "bgcolor": "white",
           "lakecolor": "white",
           "landcolor": "#E5ECF6",
           "showlakes": true,
           "showland": true,
           "subunitcolor": "white"
          },
          "hoverlabel": {
           "align": "left"
          },
          "hovermode": "closest",
          "mapbox": {
           "style": "light"
          },
          "paper_bgcolor": "white",
          "plot_bgcolor": "#E5ECF6",
          "polar": {
           "angularaxis": {
            "gridcolor": "white",
            "linecolor": "white",
            "ticks": ""
           },
           "bgcolor": "#E5ECF6",
           "radialaxis": {
            "gridcolor": "white",
            "linecolor": "white",
            "ticks": ""
           }
          },
          "scene": {
           "xaxis": {
            "backgroundcolor": "#E5ECF6",
            "gridcolor": "white",
            "gridwidth": 2,
            "linecolor": "white",
            "showbackground": true,
            "ticks": "",
            "zerolinecolor": "white"
           },
           "yaxis": {
            "backgroundcolor": "#E5ECF6",
            "gridcolor": "white",
            "gridwidth": 2,
            "linecolor": "white",
            "showbackground": true,
            "ticks": "",
            "zerolinecolor": "white"
           },
           "zaxis": {
            "backgroundcolor": "#E5ECF6",
            "gridcolor": "white",
            "gridwidth": 2,
            "linecolor": "white",
            "showbackground": true,
            "ticks": "",
            "zerolinecolor": "white"
           }
          },
          "shapedefaults": {
           "line": {
            "color": "#2a3f5f"
           }
          },
          "ternary": {
           "aaxis": {
            "gridcolor": "white",
            "linecolor": "white",
            "ticks": ""
           },
           "baxis": {
            "gridcolor": "white",
            "linecolor": "white",
            "ticks": ""
           },
           "bgcolor": "#E5ECF6",
           "caxis": {
            "gridcolor": "white",
            "linecolor": "white",
            "ticks": ""
           }
          },
          "title": {
           "x": 0.05
          },
          "xaxis": {
           "automargin": true,
           "gridcolor": "white",
           "linecolor": "white",
           "ticks": "",
           "title": {
            "standoff": 15
           },
           "zerolinecolor": "white",
           "zerolinewidth": 2
          },
          "yaxis": {
           "automargin": true,
           "gridcolor": "white",
           "linecolor": "white",
           "ticks": "",
           "title": {
            "standoff": 15
           },
           "zerolinecolor": "white",
           "zerolinewidth": 2
          }
         }
        },
        "title": {
         "text": "Polarity of G2/CSGORoll-related Tweets by Country"
        },
        "width": 900
       }
      }
     },
     "metadata": {},
     "output_type": "display_data"
    }
   ],
   "source": [
    "# Create text hover template\n",
    "avgpolhover = ('<b>Country:</b> ' + avg_polarity['country'].astype(str) + '<br>' +\n",
    "               '<b>Country Code:</b> ' + avg_polarity['country code'].astype(str) + '<br>' +\n",
    "               '<b>Polarity:</b> ' + '%{z:.3f}' + '<extra></extra>'\n",
    ")\n",
    "\n",
    "# Create a Choropleth figure with data for Polarity of G2/CSGO Roll-related Tweets by Country\n",
    "avgpolmap = go.Figure(go.Choropleth(locations = avg_polarity['country code'],\n",
    "                                    z = avg_polarity['polarity'],\n",
    "                                    hovertemplate = avgpolhover,\n",
    "                                    colorscale = 'sunset',\n",
    "                                    marker_line_color='gray',\n",
    "                                    marker_line_width=0.2,\n",
    "                                    colorbar_title = 'Polarity',\n",
    "                                    colorbar=dict(orientation='h'))\n",
    ")\n",
    "\n",
    "# Set the layout of the Choropleth figure, including the title, the plot width and the map attributes\n",
    "avgpolmap.update_layout(title_text='Polarity of G2/CSGORoll-related Tweets by Country',\n",
    "                        width=900,\n",
    "                        geo=dict(showframe=False,\n",
    "                                 showcoastlines=False)\n",
    ")\n",
    "\n",
    "# Show the Choropleth figure\n",
    "avgpolmap.show()"
   ]
  },
  {
   "attachments": {},
   "cell_type": "markdown",
   "metadata": {},
   "source": [
    "With the average polarity data per country we calculated earlier, we can create a choropleth map that visualizes the overall sentiment of Twitter users towards the G2/CSGORoll sponsorship across different regions of the world. By leveraging the country code information in our dataset, we can plot the polarity data on the map and color each country based on its polarity score using a 'sunset' color scale. This color scale ranges from yellow to purple, representing positivity and negativity respectively. The choropleth map provides an easy-to-understand visualization of the distribution of sentiment across different regions and can help identify countries with particularly strong positive or negative sentiment towards the G2/CSGORoll sponsorship. This can be valuable for executives, tournament officials, and other organisations seeking to understand public opinion and tailor their strategies accordingly."
   ]
  },
  {
   "cell_type": "code",
   "execution_count": 31,
   "metadata": {},
   "outputs": [
    {
     "data": {
      "application/vnd.plotly.v1+json": {
       "config": {
        "plotlyServerURL": "https://plot.ly"
       },
       "data": [
        {
         "colorbar": {
          "orientation": "h",
          "title": {
           "text": "Subjectivity"
          }
         },
         "colorscale": [
          [
           0,
           "rgb(243, 231, 155)"
          ],
          [
           0.16666666666666666,
           "rgb(250, 196, 132)"
          ],
          [
           0.3333333333333333,
           "rgb(248, 160, 126)"
          ],
          [
           0.5,
           "rgb(235, 127, 134)"
          ],
          [
           0.6666666666666666,
           "rgb(206, 102, 147)"
          ],
          [
           0.8333333333333334,
           "rgb(160, 89, 160)"
          ],
          [
           1,
           "rgb(92, 83, 165)"
          ]
         ],
         "hovertemplate": [
          "<b>Country:</b> Argentina<br><b>Country Code:</b> ARG<br><b>Subjectivity:</b> %{z:.3f}<extra></extra>",
          "<b>Country:</b> Australia<br><b>Country Code:</b> AUS<br><b>Subjectivity:</b> %{z:.3f}<extra></extra>",
          "<b>Country:</b> Austria<br><b>Country Code:</b> AUT<br><b>Subjectivity:</b> %{z:.3f}<extra></extra>",
          "<b>Country:</b> Bulgaria<br><b>Country Code:</b> BGR<br><b>Subjectivity:</b> %{z:.3f}<extra></extra>",
          "<b>Country:</b> Canada<br><b>Country Code:</b> CAN<br><b>Subjectivity:</b> %{z:.3f}<extra></extra>",
          "<b>Country:</b> Chile<br><b>Country Code:</b> CHL<br><b>Subjectivity:</b> %{z:.3f}<extra></extra>",
          "<b>Country:</b> Denmark<br><b>Country Code:</b> DNK<br><b>Subjectivity:</b> %{z:.3f}<extra></extra>",
          "<b>Country:</b> France<br><b>Country Code:</b> FRA<br><b>Subjectivity:</b> %{z:.3f}<extra></extra>",
          "<b>Country:</b> Germany<br><b>Country Code:</b> DEU<br><b>Subjectivity:</b> %{z:.3f}<extra></extra>",
          "<b>Country:</b> India<br><b>Country Code:</b> IND<br><b>Subjectivity:</b> %{z:.3f}<extra></extra>",
          "<b>Country:</b> Italy<br><b>Country Code:</b> ITA<br><b>Subjectivity:</b> %{z:.3f}<extra></extra>",
          "<b>Country:</b> Philippines<br><b>Country Code:</b> PHL<br><b>Subjectivity:</b> %{z:.3f}<extra></extra>",
          "<b>Country:</b> Spain<br><b>Country Code:</b> ESP<br><b>Subjectivity:</b> %{z:.3f}<extra></extra>",
          "<b>Country:</b> Sweden<br><b>Country Code:</b> SWE<br><b>Subjectivity:</b> %{z:.3f}<extra></extra>",
          "<b>Country:</b> United Kingdom<br><b>Country Code:</b> GBR<br><b>Subjectivity:</b> %{z:.3f}<extra></extra>",
          "<b>Country:</b> Zimbabwe<br><b>Country Code:</b> ZWE<br><b>Subjectivity:</b> %{z:.3f}<extra></extra>"
         ],
         "locations": [
          "ARG",
          "AUS",
          "AUT",
          "BGR",
          "CAN",
          "CHL",
          "DNK",
          "FRA",
          "DEU",
          "IND",
          "ITA",
          "PHL",
          "ESP",
          "SWE",
          "GBR",
          "ZWE"
         ],
         "marker": {
          "line": {
           "color": "gray",
           "width": 0.2
          }
         },
         "type": "choropleth",
         "z": [
          0.375,
          0.7625,
          0.9,
          0.6166666666666666,
          0.09027777777777778,
          0,
          0.6444444444444444,
          0.25,
          0.6498015873015873,
          0.28750000000000003,
          0.3236500921917589,
          0.9,
          0,
          0.2692307692307692,
          0.5,
          0.4
         ]
        }
       ],
       "layout": {
        "geo": {
         "showcoastlines": false,
         "showframe": false
        },
        "template": {
         "data": {
          "bar": [
           {
            "error_x": {
             "color": "#2a3f5f"
            },
            "error_y": {
             "color": "#2a3f5f"
            },
            "marker": {
             "line": {
              "color": "#E5ECF6",
              "width": 0.5
             },
             "pattern": {
              "fillmode": "overlay",
              "size": 10,
              "solidity": 0.2
             }
            },
            "type": "bar"
           }
          ],
          "barpolar": [
           {
            "marker": {
             "line": {
              "color": "#E5ECF6",
              "width": 0.5
             },
             "pattern": {
              "fillmode": "overlay",
              "size": 10,
              "solidity": 0.2
             }
            },
            "type": "barpolar"
           }
          ],
          "carpet": [
           {
            "aaxis": {
             "endlinecolor": "#2a3f5f",
             "gridcolor": "white",
             "linecolor": "white",
             "minorgridcolor": "white",
             "startlinecolor": "#2a3f5f"
            },
            "baxis": {
             "endlinecolor": "#2a3f5f",
             "gridcolor": "white",
             "linecolor": "white",
             "minorgridcolor": "white",
             "startlinecolor": "#2a3f5f"
            },
            "type": "carpet"
           }
          ],
          "choropleth": [
           {
            "colorbar": {
             "outlinewidth": 0,
             "ticks": ""
            },
            "type": "choropleth"
           }
          ],
          "contour": [
           {
            "colorbar": {
             "outlinewidth": 0,
             "ticks": ""
            },
            "colorscale": [
             [
              0,
              "#0d0887"
             ],
             [
              0.1111111111111111,
              "#46039f"
             ],
             [
              0.2222222222222222,
              "#7201a8"
             ],
             [
              0.3333333333333333,
              "#9c179e"
             ],
             [
              0.4444444444444444,
              "#bd3786"
             ],
             [
              0.5555555555555556,
              "#d8576b"
             ],
             [
              0.6666666666666666,
              "#ed7953"
             ],
             [
              0.7777777777777778,
              "#fb9f3a"
             ],
             [
              0.8888888888888888,
              "#fdca26"
             ],
             [
              1,
              "#f0f921"
             ]
            ],
            "type": "contour"
           }
          ],
          "contourcarpet": [
           {
            "colorbar": {
             "outlinewidth": 0,
             "ticks": ""
            },
            "type": "contourcarpet"
           }
          ],
          "heatmap": [
           {
            "colorbar": {
             "outlinewidth": 0,
             "ticks": ""
            },
            "colorscale": [
             [
              0,
              "#0d0887"
             ],
             [
              0.1111111111111111,
              "#46039f"
             ],
             [
              0.2222222222222222,
              "#7201a8"
             ],
             [
              0.3333333333333333,
              "#9c179e"
             ],
             [
              0.4444444444444444,
              "#bd3786"
             ],
             [
              0.5555555555555556,
              "#d8576b"
             ],
             [
              0.6666666666666666,
              "#ed7953"
             ],
             [
              0.7777777777777778,
              "#fb9f3a"
             ],
             [
              0.8888888888888888,
              "#fdca26"
             ],
             [
              1,
              "#f0f921"
             ]
            ],
            "type": "heatmap"
           }
          ],
          "heatmapgl": [
           {
            "colorbar": {
             "outlinewidth": 0,
             "ticks": ""
            },
            "colorscale": [
             [
              0,
              "#0d0887"
             ],
             [
              0.1111111111111111,
              "#46039f"
             ],
             [
              0.2222222222222222,
              "#7201a8"
             ],
             [
              0.3333333333333333,
              "#9c179e"
             ],
             [
              0.4444444444444444,
              "#bd3786"
             ],
             [
              0.5555555555555556,
              "#d8576b"
             ],
             [
              0.6666666666666666,
              "#ed7953"
             ],
             [
              0.7777777777777778,
              "#fb9f3a"
             ],
             [
              0.8888888888888888,
              "#fdca26"
             ],
             [
              1,
              "#f0f921"
             ]
            ],
            "type": "heatmapgl"
           }
          ],
          "histogram": [
           {
            "marker": {
             "pattern": {
              "fillmode": "overlay",
              "size": 10,
              "solidity": 0.2
             }
            },
            "type": "histogram"
           }
          ],
          "histogram2d": [
           {
            "colorbar": {
             "outlinewidth": 0,
             "ticks": ""
            },
            "colorscale": [
             [
              0,
              "#0d0887"
             ],
             [
              0.1111111111111111,
              "#46039f"
             ],
             [
              0.2222222222222222,
              "#7201a8"
             ],
             [
              0.3333333333333333,
              "#9c179e"
             ],
             [
              0.4444444444444444,
              "#bd3786"
             ],
             [
              0.5555555555555556,
              "#d8576b"
             ],
             [
              0.6666666666666666,
              "#ed7953"
             ],
             [
              0.7777777777777778,
              "#fb9f3a"
             ],
             [
              0.8888888888888888,
              "#fdca26"
             ],
             [
              1,
              "#f0f921"
             ]
            ],
            "type": "histogram2d"
           }
          ],
          "histogram2dcontour": [
           {
            "colorbar": {
             "outlinewidth": 0,
             "ticks": ""
            },
            "colorscale": [
             [
              0,
              "#0d0887"
             ],
             [
              0.1111111111111111,
              "#46039f"
             ],
             [
              0.2222222222222222,
              "#7201a8"
             ],
             [
              0.3333333333333333,
              "#9c179e"
             ],
             [
              0.4444444444444444,
              "#bd3786"
             ],
             [
              0.5555555555555556,
              "#d8576b"
             ],
             [
              0.6666666666666666,
              "#ed7953"
             ],
             [
              0.7777777777777778,
              "#fb9f3a"
             ],
             [
              0.8888888888888888,
              "#fdca26"
             ],
             [
              1,
              "#f0f921"
             ]
            ],
            "type": "histogram2dcontour"
           }
          ],
          "mesh3d": [
           {
            "colorbar": {
             "outlinewidth": 0,
             "ticks": ""
            },
            "type": "mesh3d"
           }
          ],
          "parcoords": [
           {
            "line": {
             "colorbar": {
              "outlinewidth": 0,
              "ticks": ""
             }
            },
            "type": "parcoords"
           }
          ],
          "pie": [
           {
            "automargin": true,
            "type": "pie"
           }
          ],
          "scatter": [
           {
            "fillpattern": {
             "fillmode": "overlay",
             "size": 10,
             "solidity": 0.2
            },
            "type": "scatter"
           }
          ],
          "scatter3d": [
           {
            "line": {
             "colorbar": {
              "outlinewidth": 0,
              "ticks": ""
             }
            },
            "marker": {
             "colorbar": {
              "outlinewidth": 0,
              "ticks": ""
             }
            },
            "type": "scatter3d"
           }
          ],
          "scattercarpet": [
           {
            "marker": {
             "colorbar": {
              "outlinewidth": 0,
              "ticks": ""
             }
            },
            "type": "scattercarpet"
           }
          ],
          "scattergeo": [
           {
            "marker": {
             "colorbar": {
              "outlinewidth": 0,
              "ticks": ""
             }
            },
            "type": "scattergeo"
           }
          ],
          "scattergl": [
           {
            "marker": {
             "colorbar": {
              "outlinewidth": 0,
              "ticks": ""
             }
            },
            "type": "scattergl"
           }
          ],
          "scattermapbox": [
           {
            "marker": {
             "colorbar": {
              "outlinewidth": 0,
              "ticks": ""
             }
            },
            "type": "scattermapbox"
           }
          ],
          "scatterpolar": [
           {
            "marker": {
             "colorbar": {
              "outlinewidth": 0,
              "ticks": ""
             }
            },
            "type": "scatterpolar"
           }
          ],
          "scatterpolargl": [
           {
            "marker": {
             "colorbar": {
              "outlinewidth": 0,
              "ticks": ""
             }
            },
            "type": "scatterpolargl"
           }
          ],
          "scatterternary": [
           {
            "marker": {
             "colorbar": {
              "outlinewidth": 0,
              "ticks": ""
             }
            },
            "type": "scatterternary"
           }
          ],
          "surface": [
           {
            "colorbar": {
             "outlinewidth": 0,
             "ticks": ""
            },
            "colorscale": [
             [
              0,
              "#0d0887"
             ],
             [
              0.1111111111111111,
              "#46039f"
             ],
             [
              0.2222222222222222,
              "#7201a8"
             ],
             [
              0.3333333333333333,
              "#9c179e"
             ],
             [
              0.4444444444444444,
              "#bd3786"
             ],
             [
              0.5555555555555556,
              "#d8576b"
             ],
             [
              0.6666666666666666,
              "#ed7953"
             ],
             [
              0.7777777777777778,
              "#fb9f3a"
             ],
             [
              0.8888888888888888,
              "#fdca26"
             ],
             [
              1,
              "#f0f921"
             ]
            ],
            "type": "surface"
           }
          ],
          "table": [
           {
            "cells": {
             "fill": {
              "color": "#EBF0F8"
             },
             "line": {
              "color": "white"
             }
            },
            "header": {
             "fill": {
              "color": "#C8D4E3"
             },
             "line": {
              "color": "white"
             }
            },
            "type": "table"
           }
          ]
         },
         "layout": {
          "annotationdefaults": {
           "arrowcolor": "#2a3f5f",
           "arrowhead": 0,
           "arrowwidth": 1
          },
          "autotypenumbers": "strict",
          "coloraxis": {
           "colorbar": {
            "outlinewidth": 0,
            "ticks": ""
           }
          },
          "colorscale": {
           "diverging": [
            [
             0,
             "#8e0152"
            ],
            [
             0.1,
             "#c51b7d"
            ],
            [
             0.2,
             "#de77ae"
            ],
            [
             0.3,
             "#f1b6da"
            ],
            [
             0.4,
             "#fde0ef"
            ],
            [
             0.5,
             "#f7f7f7"
            ],
            [
             0.6,
             "#e6f5d0"
            ],
            [
             0.7,
             "#b8e186"
            ],
            [
             0.8,
             "#7fbc41"
            ],
            [
             0.9,
             "#4d9221"
            ],
            [
             1,
             "#276419"
            ]
           ],
           "sequential": [
            [
             0,
             "#0d0887"
            ],
            [
             0.1111111111111111,
             "#46039f"
            ],
            [
             0.2222222222222222,
             "#7201a8"
            ],
            [
             0.3333333333333333,
             "#9c179e"
            ],
            [
             0.4444444444444444,
             "#bd3786"
            ],
            [
             0.5555555555555556,
             "#d8576b"
            ],
            [
             0.6666666666666666,
             "#ed7953"
            ],
            [
             0.7777777777777778,
             "#fb9f3a"
            ],
            [
             0.8888888888888888,
             "#fdca26"
            ],
            [
             1,
             "#f0f921"
            ]
           ],
           "sequentialminus": [
            [
             0,
             "#0d0887"
            ],
            [
             0.1111111111111111,
             "#46039f"
            ],
            [
             0.2222222222222222,
             "#7201a8"
            ],
            [
             0.3333333333333333,
             "#9c179e"
            ],
            [
             0.4444444444444444,
             "#bd3786"
            ],
            [
             0.5555555555555556,
             "#d8576b"
            ],
            [
             0.6666666666666666,
             "#ed7953"
            ],
            [
             0.7777777777777778,
             "#fb9f3a"
            ],
            [
             0.8888888888888888,
             "#fdca26"
            ],
            [
             1,
             "#f0f921"
            ]
           ]
          },
          "colorway": [
           "#636efa",
           "#EF553B",
           "#00cc96",
           "#ab63fa",
           "#FFA15A",
           "#19d3f3",
           "#FF6692",
           "#B6E880",
           "#FF97FF",
           "#FECB52"
          ],
          "font": {
           "color": "#2a3f5f"
          },
          "geo": {
           "bgcolor": "white",
           "lakecolor": "white",
           "landcolor": "#E5ECF6",
           "showlakes": true,
           "showland": true,
           "subunitcolor": "white"
          },
          "hoverlabel": {
           "align": "left"
          },
          "hovermode": "closest",
          "mapbox": {
           "style": "light"
          },
          "paper_bgcolor": "white",
          "plot_bgcolor": "#E5ECF6",
          "polar": {
           "angularaxis": {
            "gridcolor": "white",
            "linecolor": "white",
            "ticks": ""
           },
           "bgcolor": "#E5ECF6",
           "radialaxis": {
            "gridcolor": "white",
            "linecolor": "white",
            "ticks": ""
           }
          },
          "scene": {
           "xaxis": {
            "backgroundcolor": "#E5ECF6",
            "gridcolor": "white",
            "gridwidth": 2,
            "linecolor": "white",
            "showbackground": true,
            "ticks": "",
            "zerolinecolor": "white"
           },
           "yaxis": {
            "backgroundcolor": "#E5ECF6",
            "gridcolor": "white",
            "gridwidth": 2,
            "linecolor": "white",
            "showbackground": true,
            "ticks": "",
            "zerolinecolor": "white"
           },
           "zaxis": {
            "backgroundcolor": "#E5ECF6",
            "gridcolor": "white",
            "gridwidth": 2,
            "linecolor": "white",
            "showbackground": true,
            "ticks": "",
            "zerolinecolor": "white"
           }
          },
          "shapedefaults": {
           "line": {
            "color": "#2a3f5f"
           }
          },
          "ternary": {
           "aaxis": {
            "gridcolor": "white",
            "linecolor": "white",
            "ticks": ""
           },
           "baxis": {
            "gridcolor": "white",
            "linecolor": "white",
            "ticks": ""
           },
           "bgcolor": "#E5ECF6",
           "caxis": {
            "gridcolor": "white",
            "linecolor": "white",
            "ticks": ""
           }
          },
          "title": {
           "x": 0.05
          },
          "xaxis": {
           "automargin": true,
           "gridcolor": "white",
           "linecolor": "white",
           "ticks": "",
           "title": {
            "standoff": 15
           },
           "zerolinecolor": "white",
           "zerolinewidth": 2
          },
          "yaxis": {
           "automargin": true,
           "gridcolor": "white",
           "linecolor": "white",
           "ticks": "",
           "title": {
            "standoff": 15
           },
           "zerolinecolor": "white",
           "zerolinewidth": 2
          }
         }
        },
        "title": {
         "text": "Subjectivity of G2/CSGORoll-related Tweets by Country"
        },
        "width": 900
       }
      }
     },
     "metadata": {},
     "output_type": "display_data"
    }
   ],
   "source": [
    "# Create text hover template\n",
    "avgsubhover = ('<b>Country:</b> ' + avg_subjectivity['country'].astype(str) + '<br>' +\n",
    "               '<b>Country Code:</b> ' + avg_subjectivity['country code'].astype(str) + '<br>' +\n",
    "               '<b>Subjectivity:</b> ' + '%{z:.3f}' + '<extra></extra>'\n",
    ")\n",
    "\n",
    "# Create a Choropleth figure with data for Subjectivity of G2/CSGO Roll-related Tweets by Country\n",
    "avgsubmap = go.Figure(go.Choropleth(locations = avg_subjectivity['country code'],\n",
    "                                    z = avg_subjectivity['subjectivity'],\n",
    "                                    hovertemplate = avgsubhover,\n",
    "                                    colorscale = 'sunset',\n",
    "                                    marker_line_color='gray',\n",
    "                                    marker_line_width=0.2,\n",
    "                                    colorbar_title = 'Subjectivity',\n",
    "                                    colorbar=dict(orientation='h'))\n",
    ")\n",
    "\n",
    "# Set the layout of the Choropleth figure, including the title, the plot width and the map attributes\n",
    "avgsubmap.update_layout(title_text='Subjectivity of G2/CSGORoll-related Tweets by Country',\n",
    "                        width=900,\n",
    "                        geo=dict(showframe=False,\n",
    "                                showcoastlines=False)    \n",
    ")\n",
    "\n",
    "# Show the Choropleth figure\n",
    "avgsubmap.show()"
   ]
  },
  {
   "attachments": {},
   "cell_type": "markdown",
   "metadata": {},
   "source": [
    "Using a choropleth map again, we can display the average subjectivity of tweets related to the G2/CSGORoll sponsorship in each country. Ranging from 0 (displayed in yellow) to 1 (displayed in purple), the colors, using the 'sunset' colorscale, on the map provide a visual representation of the overall sentiment towards the sponsorship in different regions of the world. By analyzing the patterns and trends in subjectivity data, we can gain insights into how people are feeling about the G2/CSGORoll sponsorship across different countries. This information can be useful for executives, tournament officials, and other organisations to develop targeted interventions and messaging strategies that address specific concerns or issues related to the sponsorship in different regions. Overall, this map can serve as a valuable tool for understanding the public sentiment towards the G2/CSGORoll sponsorship on a global scale."
   ]
  },
  {
   "attachments": {},
   "cell_type": "markdown",
   "metadata": {},
   "source": [
    "Narrowing down the average visualisations to regions, states, or cities is possible with further data refinement using Nominatim, however, due to time constraints, a working version was not included in this notebook."
   ]
  }
 ],
 "metadata": {
  "kernelspec": {
   "display_name": "Python 3",
   "language": "python",
   "name": "python3"
  },
  "language_info": {
   "codemirror_mode": {
    "name": "ipython",
    "version": 3
   },
   "file_extension": ".py",
   "mimetype": "text/x-python",
   "name": "python",
   "nbconvert_exporter": "python",
   "pygments_lexer": "ipython3",
   "version": "3.11.5"
  },
  "orig_nbformat": 4
 },
 "nbformat": 4,
 "nbformat_minor": 2
}
